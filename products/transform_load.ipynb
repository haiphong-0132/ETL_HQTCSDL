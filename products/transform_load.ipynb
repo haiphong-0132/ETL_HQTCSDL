{
 "cells": [
  {
   "cell_type": "code",
   "execution_count": 318,
   "id": "4cf6f7f0",
   "metadata": {},
   "outputs": [],
   "source": [
    "import os\n",
    "import re\n",
    "import random\n",
    "import pyodbc\n",
    "import hashlib\n",
    "import pandas as pd\n",
    "from tqdm import tqdm\n",
    "from dotenv import load_dotenv\n",
    "from datetime import datetime, timedelta"
   ]
  },
  {
   "cell_type": "code",
   "execution_count": 319,
   "id": "bfa6390f",
   "metadata": {},
   "outputs": [
    {
     "data": {
      "text/plain": [
       "True"
      ]
     },
     "execution_count": 319,
     "metadata": {},
     "output_type": "execute_result"
    }
   ],
   "source": [
    "load_dotenv()"
   ]
  },
  {
   "cell_type": "code",
   "execution_count": 320,
   "id": "747199f7",
   "metadata": {},
   "outputs": [],
   "source": [
    "RANDOM_SEED = 42\n",
    "DB_NAME = os.getenv(\"DB_NAME\")\n",
    "FIXED_CURRENT_DATE_AND_TIME = \"2025-06-20 00:00:00\"\n",
    "FIXED_CURRENT_DATE = datetime.strptime(FIXED_CURRENT_DATE_AND_TIME, '%Y-%m-%d %H:%M:%S').strftime('%Y-%m-%d')"
   ]
  },
  {
   "cell_type": "code",
   "execution_count": 321,
   "id": "67519344",
   "metadata": {},
   "outputs": [],
   "source": [
    "random_generator = random.Random(RANDOM_SEED)"
   ]
  },
  {
   "cell_type": "code",
   "execution_count": 322,
   "id": "520dfd19",
   "metadata": {},
   "outputs": [],
   "source": [
    "def get_md5_hash(row: pd.Series):\n",
    "    standardized_values = []\n",
    "    for val in row:\n",
    "        if pd.isna(val):\n",
    "            standardized_values.append('')\n",
    "        elif isinstance(val, float):\n",
    "            standardized_values.append(f\"{val:.6f}\")\n",
    "        else:\n",
    "            standardized_values.append(str(val))\n",
    "    str_row = ' '.join(standardized_values)\n",
    "    hash_object = hashlib.md5()\n",
    "    hash_object.update(str_row.encode('utf-8'))\n",
    "    return hash_object.hexdigest()"
   ]
  },
  {
   "cell_type": "code",
   "execution_count": 323,
   "id": "b68d8fe5",
   "metadata": {},
   "outputs": [],
   "source": [
    "def get_db_connection(DB_NAME:str):\n",
    "    conn = pyodbc.connect(\n",
    "        f\"DRIVER={os.getenv('DB_DRIVER')};\"\n",
    "        f\"SERVER={os.getenv('DB_SERVER')};\"\n",
    "        f\"DATABASE={DB_NAME};\"\n",
    "        f\"UID={os.getenv('DB_UID')};\"\n",
    "        f\"PWD={os.getenv('DB_PWD')};\"\n",
    "        f\"TrustServerCertificate={os.getenv('TRUST_SERVER_CERTIFICATE')};\"\n",
    "    )\n",
    "    \n",
    "    return conn"
   ]
  },
  {
   "cell_type": "markdown",
   "id": "d7dd7115",
   "metadata": {},
   "source": [
    "## I. Xử lý sản phẩm"
   ]
  },
  {
   "cell_type": "code",
   "execution_count": 324,
   "id": "0c84c8bd",
   "metadata": {},
   "outputs": [],
   "source": [
    "product_file_name = {\n",
    "    'dienthoai': 'dienthoai.csv',\n",
    "    'mayban': 'dienthoaiban.csv',\n",
    "    'cucgach': 'dienthoaiphothong.csv',\n",
    "    'dieuhoa': 'dieuhoa.csv',\n",
    "    'laptop': 'laptop.csv',\n",
    "    'maydocsach': 'maydocsach.csv',\n",
    "    'maygiat': 'maygiat.csv',\n",
    "    'maytinhbang': 'maytinhbang.csv',\n",
    "    'tivi': 'tivi.csv',\n",
    "    'tulanh': 'tulanh.csv',\n",
    "    'camgiamsat': 'cameragiamsat.csv',\n",
    "    'pc': 'maytinhdeban.csv',\n",
    "    'mayanh': 'mayanh.csv',\n",
    "}\n",
    "\n",
    "product_dataframes = {\n",
    "    name: pd.read_csv(f'./rawData/products/{filename}', encoding='utf-8')\n",
    "    for name, filename in product_file_name.items()\n",
    "}"
   ]
  },
  {
   "cell_type": "markdown",
   "id": "4dbfde3f",
   "metadata": {},
   "source": [
    "### 1. Kiểm tra và loại bỏ các giá trị rỗng, các giá trị trùng lặp"
   ]
  },
  {
   "cell_type": "code",
   "execution_count": 325,
   "id": "0ed115ff",
   "metadata": {},
   "outputs": [],
   "source": [
    "def remove_missing_values(df: pd.DataFrame):\n",
    "    num_of_row = df.shape[0]\n",
    "    num_of_missing_rows = df.isnull().any(axis=1).sum()\n",
    "    print(f\"Remove {num_of_missing_rows}/{num_of_row} missing values\")\n",
    "    \n",
    "    return df.dropna()\n",
    "\n",
    "def remove_duplicates(df: pd.DataFrame):\n",
    "    num_of_row = df.shape[0]\n",
    "    num_of_duplicates = df.duplicated().sum()\n",
    "    print(f\"Remove {num_of_duplicates}/{num_of_row} duplicates\")\n",
    "    \n",
    "    return df.drop_duplicates()\n",
    "\n",
    "def remove_missing_and_duplicate_values(name: str, df: pd.DataFrame):\n",
    "    print(f\"Processing dataframe: {name}\")\n",
    "    print(\"----------------------------------\")\n",
    "    df = remove_missing_values(df)\n",
    "    df = remove_duplicates(df)\n",
    "    print(\"---------------***----------------\")\n",
    "    \n",
    "    return df"
   ]
  },
  {
   "cell_type": "code",
   "execution_count": 326,
   "id": "242ca797",
   "metadata": {},
   "outputs": [
    {
     "name": "stdout",
     "output_type": "stream",
     "text": [
      "Processing dataframe: dienthoai\n",
      "----------------------------------\n",
      "Remove 0/230 missing values\n",
      "Remove 24/230 duplicates\n",
      "---------------***----------------\n",
      "Processing dataframe: mayban\n",
      "----------------------------------\n",
      "Remove 0/50 missing values\n",
      "Remove 0/50 duplicates\n",
      "---------------***----------------\n",
      "Processing dataframe: cucgach\n",
      "----------------------------------\n",
      "Remove 0/18 missing values\n",
      "Remove 0/18 duplicates\n",
      "---------------***----------------\n",
      "Processing dataframe: dieuhoa\n",
      "----------------------------------\n",
      "Remove 0/337 missing values\n",
      "Remove 0/337 duplicates\n",
      "---------------***----------------\n",
      "Processing dataframe: laptop\n",
      "----------------------------------\n",
      "Remove 0/338 missing values\n",
      "Remove 0/338 duplicates\n",
      "---------------***----------------\n",
      "Processing dataframe: maydocsach\n",
      "----------------------------------\n",
      "Remove 0/49 missing values\n",
      "Remove 7/49 duplicates\n",
      "---------------***----------------\n",
      "Processing dataframe: maygiat\n",
      "----------------------------------\n",
      "Remove 0/382 missing values\n",
      "Remove 0/382 duplicates\n",
      "---------------***----------------\n",
      "Processing dataframe: maytinhbang\n",
      "----------------------------------\n",
      "Remove 0/35 missing values\n",
      "Remove 2/35 duplicates\n",
      "---------------***----------------\n",
      "Processing dataframe: tivi\n",
      "----------------------------------\n",
      "Remove 0/273 missing values\n",
      "Remove 0/273 duplicates\n",
      "---------------***----------------\n",
      "Processing dataframe: tulanh\n",
      "----------------------------------\n",
      "Remove 0/400 missing values\n",
      "Remove 0/400 duplicates\n",
      "---------------***----------------\n",
      "Processing dataframe: camgiamsat\n",
      "----------------------------------\n",
      "Remove 0/430 missing values\n",
      "Remove 24/430 duplicates\n",
      "---------------***----------------\n",
      "Processing dataframe: pc\n",
      "----------------------------------\n",
      "Remove 0/155 missing values\n",
      "Remove 2/155 duplicates\n",
      "---------------***----------------\n",
      "Processing dataframe: mayanh\n",
      "----------------------------------\n",
      "Remove 0/15 missing values\n",
      "Remove 0/15 duplicates\n",
      "---------------***----------------\n"
     ]
    }
   ],
   "source": [
    "product_dataframes = {\n",
    "    name: remove_missing_and_duplicate_values(name, df)\n",
    "    for name, df in product_dataframes.items()\n",
    "}"
   ]
  },
  {
   "cell_type": "code",
   "execution_count": 327,
   "id": "a60d3af3",
   "metadata": {},
   "outputs": [],
   "source": [
    "(\n",
    "    dienthoai, mayban, cucgach, dieuhoa, \n",
    "    laptop, maydocsach, maygiat, maytinhbang, \n",
    "    tivi, tulanh, camgiamsat, pc, mayanh\n",
    ") = product_dataframes.values()"
   ]
  },
  {
   "cell_type": "markdown",
   "id": "d93acbf1",
   "metadata": {},
   "source": [
    "### 2. Đặt lại danh mục cho các sản phẩm"
   ]
  },
  {
   "cell_type": "markdown",
   "id": "47a0343a",
   "metadata": {},
   "source": [
    "#### 2.1. Điện thoại"
   ]
  },
  {
   "cell_type": "code",
   "execution_count": 328,
   "id": "739f2553",
   "metadata": {},
   "outputs": [
    {
     "data": {
      "text/plain": [
       "Danh mục\n",
       "Điện thoại Smartphone         187\n",
       "Điện Thoại - Máy Tính Bảng     11\n",
       "Phụ kiện                        6\n",
       "Root                            2\n",
       "Name: count, dtype: int64"
      ]
     },
     "execution_count": 328,
     "metadata": {},
     "output_type": "execute_result"
    }
   ],
   "source": [
    "dienthoai['Danh mục'].value_counts()"
   ]
  },
  {
   "cell_type": "markdown",
   "id": "e5376d69",
   "metadata": {},
   "source": [
    "Kiểm tra sản phẩm thuộc danh mục `Điện Thoại - Máy Tính Bảng`"
   ]
  },
  {
   "cell_type": "code",
   "execution_count": 329,
   "id": "ac8a03a6",
   "metadata": {},
   "outputs": [
    {
     "data": {
      "text/plain": [
       "14      Điện thoại Samsung Galaxy A05s - Hàng chính hãng\n",
       "94     Điện thoại Samsung Galaxy M15 5G - Hàng chính ...\n",
       "130                Điện thoại Oppo A38 - Hàng chính hãng\n",
       "163       Điện thoại Xiaomi 14T Pro 5G - Hàng chính hãng\n",
       "165        Điện thoại Xiaomi Redmi 14C - Hàng chính hãng\n",
       "Name: Tên sản phẩm, dtype: object"
      ]
     },
     "execution_count": 329,
     "metadata": {},
     "output_type": "execute_result"
    }
   ],
   "source": [
    "dienthoai[dienthoai['Danh mục'] == 'Điện Thoại - Máy Tính Bảng']['Tên sản phẩm'].head()"
   ]
  },
  {
   "cell_type": "markdown",
   "id": "06eb571e",
   "metadata": {},
   "source": [
    "Kiểm tra sản phẩm thuộc danh mục `Root`"
   ]
  },
  {
   "cell_type": "code",
   "execution_count": 330,
   "id": "969f009f",
   "metadata": {},
   "outputs": [
    {
     "data": {
      "text/plain": [
       "5     Điện Thoại Samsung Galaxy A06 - Đã kích hoạt b...\n",
       "45    Điện thoại Xiaomi Redmi Note 13 (6GB/128GB) - ...\n",
       "Name: Tên sản phẩm, dtype: object"
      ]
     },
     "execution_count": 330,
     "metadata": {},
     "output_type": "execute_result"
    }
   ],
   "source": [
    "dienthoai[dienthoai['Danh mục'] == 'Root']['Tên sản phẩm'].head()"
   ]
  },
  {
   "cell_type": "markdown",
   "id": "f8b40195",
   "metadata": {},
   "source": [
    "Nhận thấy có thể chuyển sản phẩm thuộc 2 danh mục trên vào cùng một danh mục `Điện thoại Smartphone`.\n",
    "\n",
    "Ngoài ra, đổi tên danh mục `Phụ kiện` thành `Phụ kiện điện thoại` để phân biệt với phụ kiện của các sản phẩm khác."
   ]
  },
  {
   "cell_type": "code",
   "execution_count": 331,
   "id": "ba9a4fdc",
   "metadata": {},
   "outputs": [],
   "source": [
    "dienthoai['Danh mục'] = dienthoai['Danh mục'].replace({\n",
    "    'Điện Thoại - Máy Tính Bảng': 'Điện thoại Smartphone',\n",
    "    'Root': 'Điện thoại Smartphone',\n",
    "    'Phụ kiện': 'Phụ kiện điện thoại',\n",
    "})"
   ]
  },
  {
   "cell_type": "code",
   "execution_count": 332,
   "id": "8f44577c",
   "metadata": {},
   "outputs": [
    {
     "data": {
      "text/plain": [
       "Danh mục\n",
       "Điện thoại Smartphone    200\n",
       "Phụ kiện điện thoại        6\n",
       "Name: count, dtype: int64"
      ]
     },
     "execution_count": 332,
     "metadata": {},
     "output_type": "execute_result"
    }
   ],
   "source": [
    "dienthoai['Danh mục'].value_counts()"
   ]
  },
  {
   "cell_type": "markdown",
   "id": "67ec5fb4",
   "metadata": {},
   "source": [
    "#### 2.2. Điện thoại bàn"
   ]
  },
  {
   "cell_type": "code",
   "execution_count": 333,
   "id": "be64f834",
   "metadata": {},
   "outputs": [
    {
     "data": {
      "text/plain": [
       "Danh mục\n",
       "Điện thoại bàn                44\n",
       "Điện Thoại - Máy Tính Bảng     6\n",
       "Name: count, dtype: int64"
      ]
     },
     "execution_count": 333,
     "metadata": {},
     "output_type": "execute_result"
    }
   ],
   "source": [
    "mayban['Danh mục'].value_counts()"
   ]
  },
  {
   "cell_type": "code",
   "execution_count": 334,
   "id": "54db448c",
   "metadata": {},
   "outputs": [
    {
     "data": {
      "text/plain": [
       "2     Điện thoại bàn Panasonic KX-TSC11 hàng chính hãng\n",
       "3     Điện Thoại Bàn Panasonic KX-TSC11 - Hàng Chính...\n",
       "5     Điện thoại bàn Panasonic KX-TS880 hàng chính hãng\n",
       "7     Điện thoại bàn Panasonic KX-TGC310 hàng chính ...\n",
       "10    Điện thoại bàn Panasonic KX-TGD310 hàng chính ...\n",
       "Name: Tên sản phẩm, dtype: object"
      ]
     },
     "execution_count": 334,
     "metadata": {},
     "output_type": "execute_result"
    }
   ],
   "source": [
    "mayban[mayban['Danh mục'] == 'Điện Thoại - Máy Tính Bảng']['Tên sản phẩm'].head()"
   ]
  },
  {
   "cell_type": "markdown",
   "id": "3639df7d",
   "metadata": {},
   "source": [
    "Có thể đặt danh mục của tất cả sản phẩm là `Điện thoại bàn`."
   ]
  },
  {
   "cell_type": "code",
   "execution_count": 335,
   "id": "d8ad0020",
   "metadata": {},
   "outputs": [],
   "source": [
    "mayban['Danh mục'] = 'Điện thoại bàn'"
   ]
  },
  {
   "cell_type": "code",
   "execution_count": 336,
   "id": "2f95e4d4",
   "metadata": {},
   "outputs": [
    {
     "data": {
      "text/plain": [
       "Danh mục\n",
       "Điện thoại bàn    50\n",
       "Name: count, dtype: int64"
      ]
     },
     "execution_count": 336,
     "metadata": {},
     "output_type": "execute_result"
    }
   ],
   "source": [
    "mayban['Danh mục'].value_counts()"
   ]
  },
  {
   "cell_type": "markdown",
   "id": "2764aab3",
   "metadata": {},
   "source": [
    "#### 2.3. Điện thoại phổ thông"
   ]
  },
  {
   "cell_type": "code",
   "execution_count": 337,
   "id": "14974a68",
   "metadata": {},
   "outputs": [
    {
     "data": {
      "text/plain": [
       "Danh mục\n",
       "Điện thoại phổ thông          17\n",
       "Điện Thoại - Máy Tính Bảng     1\n",
       "Name: count, dtype: int64"
      ]
     },
     "execution_count": 337,
     "metadata": {},
     "output_type": "execute_result"
    }
   ],
   "source": [
    "cucgach['Danh mục'].value_counts()"
   ]
  },
  {
   "cell_type": "markdown",
   "id": "5d3dc62a",
   "metadata": {},
   "source": [
    "Tương tự, có thể đặt tất cả sản phẩm với cùng danh mục là `Điện thoại phổ thông`"
   ]
  },
  {
   "cell_type": "code",
   "execution_count": 338,
   "id": "9f70ccd0",
   "metadata": {},
   "outputs": [],
   "source": [
    "cucgach['Danh mục'] = 'Điện thoại phổ thông'"
   ]
  },
  {
   "cell_type": "code",
   "execution_count": 339,
   "id": "986c8060",
   "metadata": {},
   "outputs": [
    {
     "data": {
      "text/plain": [
       "Danh mục\n",
       "Điện thoại phổ thông    18\n",
       "Name: count, dtype: int64"
      ]
     },
     "execution_count": 339,
     "metadata": {},
     "output_type": "execute_result"
    }
   ],
   "source": [
    "cucgach['Danh mục'].value_counts()"
   ]
  },
  {
   "cell_type": "markdown",
   "id": "4f633c7f",
   "metadata": {},
   "source": [
    "#### 2.4. Điều hòa"
   ]
  },
  {
   "cell_type": "code",
   "execution_count": 340,
   "id": "08b009be",
   "metadata": {},
   "outputs": [
    {
     "data": {
      "text/plain": [
       "Danh mục\n",
       "Máy lạnh treo tường        231\n",
       "Máy lạnh - Máy điều hòa     95\n",
       "Máy lạnh tủ đứng             9\n",
       "Máy lạnh âm trần             2\n",
       "Name: count, dtype: int64"
      ]
     },
     "execution_count": 340,
     "metadata": {},
     "output_type": "execute_result"
    }
   ],
   "source": [
    "dieuhoa['Danh mục'].value_counts()"
   ]
  },
  {
   "cell_type": "markdown",
   "id": "7b58ed56",
   "metadata": {},
   "source": [
    "Giữ nguyên tên các danh mục"
   ]
  },
  {
   "cell_type": "markdown",
   "id": "1aa8ffba",
   "metadata": {},
   "source": [
    "#### 2.5. Laptop"
   ]
  },
  {
   "cell_type": "code",
   "execution_count": 341,
   "id": "b34b07bd",
   "metadata": {},
   "outputs": [
    {
     "data": {
      "text/plain": [
       "Danh mục\n",
       "Laptop Truyền Thống                 262\n",
       "Laptop Gaming                        41\n",
       "Laptop - Máy Vi Tính - Linh kiện     16\n",
       "Laptop 2 trong 1                     13\n",
       "Macbook                               4\n",
       "Laptop                                1\n",
       "Root                                  1\n",
       "Name: count, dtype: int64"
      ]
     },
     "execution_count": 341,
     "metadata": {},
     "output_type": "execute_result"
    }
   ],
   "source": [
    "laptop['Danh mục'].value_counts()"
   ]
  },
  {
   "cell_type": "markdown",
   "id": "3693f97e",
   "metadata": {},
   "source": [
    "Kiểm tra danh mục thuộc `Root`, `Laptop - Máy Vi Tính - Linh kiện`, `Laptop`"
   ]
  },
  {
   "cell_type": "code",
   "execution_count": 342,
   "id": "89d5ca1c",
   "metadata": {},
   "outputs": [
    {
     "name": "stdout",
     "output_type": "stream",
     "text": [
      "Sản phẩm thuộc danh mục Root:\n",
      "137    Màn hình K-Vision 27 inch cong IPS tràn viền 7...\n",
      "Name: Tên sản phẩm, dtype: object\n",
      "------------------------------------------------------\n",
      "Sản phẩm thuộc danh mục Laptop:\n",
      "54    Laptop Asus Expertbook B1502 - B1502CV (Intel ...\n",
      "Name: Tên sản phẩm, dtype: object\n",
      "------------------------------------------------------\n",
      "Sản phẩm thuộc danh mục Laptop - Máy Vi Tính - Linh kiện:\n",
      "16    DELL LATITUDE E3510 (I5-102104U/ RAM 16GB/ 256...\n",
      "18    Laptop Dell Latitude 3520 (Core i5-1135G7 | 8G...\n",
      "23    LAPTOP Thinkpad X1 Carbon Gen 6 | I7 – 8550U |...\n",
      "27    Laptop HP Pavilion 15-eg2058TU (6K788PA) (i5-1...\n",
      "67    Máy Tính Xách Tay Màn Hình Cảm Ứng Laptop 2 Tr...\n",
      "Name: Tên sản phẩm, dtype: object\n"
     ]
    }
   ],
   "source": [
    "print('Sản phẩm thuộc danh mục Root:')\n",
    "print(laptop[laptop['Danh mục'] == 'Root']['Tên sản phẩm'].head())\n",
    "print('------------------------------------------------------')\n",
    "\n",
    "print('Sản phẩm thuộc danh mục Laptop:')\n",
    "print(laptop[laptop['Danh mục'] == 'Laptop']['Tên sản phẩm'].head())\n",
    "print('------------------------------------------------------')\n",
    "\n",
    "print('Sản phẩm thuộc danh mục Laptop - Máy Vi Tính - Linh kiện:')\n",
    "print(laptop[laptop['Danh mục'] == 'Laptop - Máy Vi Tính - Linh kiện']['Tên sản phẩm'].head())"
   ]
  },
  {
   "cell_type": "markdown",
   "id": "f74ac451",
   "metadata": {},
   "source": [
    "Nhận thấy, ta có thể phân bổ sản phẩm thuộc 3 danh mục trên vào cùng 1 danh mục `Laptop Truyền Thống`"
   ]
  },
  {
   "cell_type": "code",
   "execution_count": 343,
   "id": "7fa16da9",
   "metadata": {},
   "outputs": [],
   "source": [
    "laptop['Danh mục'] = laptop['Danh mục'].replace({\n",
    "    'Laptop - Máy Vi Tính - Linh kiện': 'Laptop Truyền Thống',\n",
    "    'Laptop': 'Laptop Truyền Thống',\n",
    "    'Root': 'Laptop Truyền Thống',\n",
    "})"
   ]
  },
  {
   "cell_type": "code",
   "execution_count": 344,
   "id": "ba93ca65",
   "metadata": {},
   "outputs": [
    {
     "data": {
      "text/plain": [
       "Danh mục\n",
       "Laptop Truyền Thống    280\n",
       "Laptop Gaming           41\n",
       "Laptop 2 trong 1        13\n",
       "Macbook                  4\n",
       "Name: count, dtype: int64"
      ]
     },
     "execution_count": 344,
     "metadata": {},
     "output_type": "execute_result"
    }
   ],
   "source": [
    "laptop['Danh mục'].value_counts()"
   ]
  },
  {
   "cell_type": "markdown",
   "id": "b37b4f44",
   "metadata": {},
   "source": [
    "#### 2.6. Máy đọc sách"
   ]
  },
  {
   "cell_type": "code",
   "execution_count": 345,
   "id": "31bbb40c",
   "metadata": {},
   "outputs": [
    {
     "data": {
      "text/plain": [
       "Danh mục\n",
       "Máy đọc sách                  33\n",
       "Điện Thoại - Máy Tính Bảng     9\n",
       "Name: count, dtype: int64"
      ]
     },
     "execution_count": 345,
     "metadata": {},
     "output_type": "execute_result"
    }
   ],
   "source": [
    "maydocsach['Danh mục'].value_counts()"
   ]
  },
  {
   "cell_type": "code",
   "execution_count": 346,
   "id": "046e700f",
   "metadata": {},
   "outputs": [
    {
     "name": "stdout",
     "output_type": "stream",
     "text": [
      "Sản phẩm thuộc danh mục Máy đọc sách:\n",
      "0     Combo Máy đọc sách All New Kindle Paperwhite 5...\n",
      "1     Máy đọc sách New Kindle Kids 11th 2022 Kèm bao...\n",
      "2     Máy đọc sách New Kindle 2024, 16Gb Mới nguyên ...\n",
      "3     Combo Máy đọc sách All New Kindle Paperwhite 5...\n",
      "5     Máy đọc sách New Kindle 2024, 16Gb Mới nguyên ...\n",
      "6     Máy đọc sách Kindle Scribe 2024 Kèm bút Premiu...\n",
      "7     Máy đọc sách Kindle Colorsoft Signature Editio...\n",
      "8     Combo Máy đọc sách Amazon Kindle Paperwhite 6 ...\n",
      "9     Máy đọc sách Amazon Kindle Paperwhite 6 (Gen 1...\n",
      "10    Máy đọc sách All New Kindle Paperwhite 5 (11th...\n",
      "12    Máy đọc sách Kindle Paperwhite 5 (8GB) - Hàng ...\n",
      "14         Máy đọc sách Kindle Scribe - Hàng chính hãng\n",
      "15             Máy đọc sách Boox Go 6 - Hàng chính hãng\n",
      "16    Máy đọc sách Boox Go Color 7- Đen - Hàng chính...\n",
      "17          Máy đọc sách Boox Go 10.3 - Hàng chính hãng\n",
      "18    Máy đọc sách Pocketbook Era Color- Hàng chính ...\n",
      "21    Combo Máy đọc sách Kindle Scribe kèm bút – thế...\n",
      "22            Máy đọc sách Boox Palma - Hàng Chính Hãng\n",
      "25    Máy tính bảng Kindle Fire MAX 11, màn hình 11 ...\n",
      "27             Máy đọc sách Boox Page - Hàng Chính Hãng\n",
      "29    Máy đọc sách Kindle 2022 (11th) Kids Edition k...\n",
      "31    Máy đọc sách Kindle Oasis 3 10th - Hàng nhập khẩu\n",
      "34         Máy đọc sách Kindle Scribe - Hàng chính hãng\n",
      "35    Máy đọc sách Kindle Scribe – thế hệ đầu tiên c...\n",
      "36    Máy tính bảng Kindle Fire HD8 PLUS 2022 (Fire ...\n",
      "37    Máy tính bảng Kindle Fire HD8 2022 (Fire HD 8 ...\n",
      "39    Máy đọc sách Kindle 2022 (11th) - All new kind...\n",
      "42    Máy đọc sách All New Kindle Oasis 3 - Hàng nhậ...\n",
      "43    Máy đọc sách Kobo Libra (Libra Colour, Libra 2...\n",
      "44    Máy đọc sách All New Kindle Paperwhite 5 (11th...\n",
      "45            Máy đọc sách Kobo Elipsa - Hàng nhập khẩu\n",
      "46          Máy Đọc Sách Likebook P10 - Hàng chính hãng\n",
      "48    Máy Đọc Sách Kindle Oasis (10th Gen) 2019- 8GB...\n",
      "Name: Tên sản phẩm, dtype: object\n",
      "------------------------------------------------------\n",
      "Sản phẩm thuộc danh mục Điện Thoại - Máy Tính Bảng:\n",
      "4     Combo Máy đọc sách All New Kindle Paperwhite 5...\n",
      "19     BÚT MÁY ĐỌC SÁCH KINDLE SCRIBE - HÀNG CHÍNH HÃNG\n",
      "23    Combo Máy đọc sách All New Kindle Paperwhite 6...\n",
      "26    Máy đọc sách Kobo Clara (Clara Colour, Clara B...\n",
      "28    Máy đọc sách All New Kindle Paperwhite 5 (11th...\n",
      "32    Combo Máy đọc sách All New Kindle Paperwhite 5...\n",
      "38    Máy đọc sách New Kindle 11th 2022 (16GB) - Hàn...\n",
      "40    Combo máy đọc sách Kindle Paperwhite 5 (11th g...\n",
      "47    Máy đọc sách Kindle Oasis 3 (2019) - Amazon - ...\n",
      "Name: Tên sản phẩm, dtype: object\n",
      "------------------------------------------------------\n"
     ]
    }
   ],
   "source": [
    "print('Sản phẩm thuộc danh mục Máy đọc sách:')\n",
    "print(maydocsach[maydocsach['Danh mục'] == 'Máy đọc sách']['Tên sản phẩm'])\n",
    "print('------------------------------------------------------')\n",
    "\n",
    "print('Sản phẩm thuộc danh mục Điện Thoại - Máy Tính Bảng:')\n",
    "print(maydocsach[maydocsach['Danh mục'] == 'Điện Thoại - Máy Tính Bảng']['Tên sản phẩm'])\n",
    "print('------------------------------------------------------')"
   ]
  },
  {
   "cell_type": "markdown",
   "id": "a2fa063e",
   "metadata": {},
   "source": [
    "Có một số sản phẩm `máy tính bảng` bị lẫn trong danh mục `Máy đọc sách`. \n",
    "\n",
    "Ta thực hiện gộp sản phẩm thuộc 2 danh mục này vào danh mục `Máy đọc sách`. Sau đó lọc ra các sản phẩm `máy tính bảng` rồi cho vào danh mục `Máy tính bảng`"
   ]
  },
  {
   "cell_type": "code",
   "execution_count": 347,
   "id": "46bb517d",
   "metadata": {},
   "outputs": [],
   "source": [
    "maydocsach['Danh mục'] = 'Máy đọc sách'\n",
    "\n",
    "maydocsach.loc[maydocsach['Tên sản phẩm'].str.contains('máy tính bảng', case=False), 'Danh mục'] = 'Máy tính bảng'"
   ]
  },
  {
   "cell_type": "code",
   "execution_count": 348,
   "id": "fb4893f2",
   "metadata": {},
   "outputs": [
    {
     "data": {
      "text/plain": [
       "Danh mục\n",
       "Máy đọc sách     39\n",
       "Máy tính bảng     3\n",
       "Name: count, dtype: int64"
      ]
     },
     "execution_count": 348,
     "metadata": {},
     "output_type": "execute_result"
    }
   ],
   "source": [
    "maydocsach['Danh mục'].value_counts()"
   ]
  },
  {
   "cell_type": "markdown",
   "id": "273bc021",
   "metadata": {},
   "source": [
    "#### 2.7. Máy giặt"
   ]
  },
  {
   "cell_type": "code",
   "execution_count": 349,
   "id": "36be8964",
   "metadata": {},
   "outputs": [
    {
     "data": {
      "text/plain": [
       "Danh mục\n",
       "Máy giặt cửa ngang    160\n",
       "Máy giặt cửa trên     118\n",
       "Máy giặt               90\n",
       "Tháp giặt sấy          12\n",
       "Máy giặt mini           2\n",
       "Name: count, dtype: int64"
      ]
     },
     "execution_count": 349,
     "metadata": {},
     "output_type": "execute_result"
    }
   ],
   "source": [
    "maygiat['Danh mục'].value_counts()"
   ]
  },
  {
   "cell_type": "markdown",
   "id": "eefc9052",
   "metadata": {},
   "source": [
    "Giữ nguyên các danh mục trên"
   ]
  },
  {
   "cell_type": "markdown",
   "id": "a684c5b4",
   "metadata": {},
   "source": [
    "#### 2.8. Máy tính bảng"
   ]
  },
  {
   "cell_type": "code",
   "execution_count": 350,
   "id": "5dad6e31",
   "metadata": {},
   "outputs": [
    {
     "data": {
      "text/plain": [
       "Danh mục\n",
       "Máy tính bảng                 24\n",
       "Điện Thoại - Máy Tính Bảng     5\n",
       "Root                           4\n",
       "Name: count, dtype: int64"
      ]
     },
     "execution_count": 350,
     "metadata": {},
     "output_type": "execute_result"
    }
   ],
   "source": [
    "maytinhbang['Danh mục'].value_counts() "
   ]
  },
  {
   "cell_type": "markdown",
   "id": "9812b288",
   "metadata": {},
   "source": [
    "Gom tất cả sản phẩm cùng chung 1 danh mục `Máy tính bảng`"
   ]
  },
  {
   "cell_type": "code",
   "execution_count": 351,
   "id": "b4ea705f",
   "metadata": {},
   "outputs": [],
   "source": [
    "maytinhbang['Danh mục'] = 'Máy tính bảng'"
   ]
  },
  {
   "cell_type": "code",
   "execution_count": 352,
   "id": "81710296",
   "metadata": {},
   "outputs": [
    {
     "data": {
      "text/plain": [
       "Danh mục\n",
       "Máy tính bảng    33\n",
       "Name: count, dtype: int64"
      ]
     },
     "execution_count": 352,
     "metadata": {},
     "output_type": "execute_result"
    }
   ],
   "source": [
    "maytinhbang['Danh mục'].value_counts()"
   ]
  },
  {
   "cell_type": "markdown",
   "id": "124f8b64",
   "metadata": {},
   "source": [
    "#### 2.9. Tivi"
   ]
  },
  {
   "cell_type": "code",
   "execution_count": 353,
   "id": "e5bbbc2f",
   "metadata": {},
   "outputs": [
    {
     "data": {
      "text/plain": [
       "Danh mục\n",
       "Smart Tivi - Android Tivi    117\n",
       "Tivi 4K                       91\n",
       "Điện Tử - Điện Lạnh           19\n",
       "Tivi thường (LED)             13\n",
       "Tivi OLED                     11\n",
       "Root                           8\n",
       "Tivi QLED                      5\n",
       "Tivi cao cấp                   5\n",
       "Internet Tivi                  4\n",
       "Name: count, dtype: int64"
      ]
     },
     "execution_count": 353,
     "metadata": {},
     "output_type": "execute_result"
    }
   ],
   "source": [
    "tivi['Danh mục'].value_counts()"
   ]
  },
  {
   "cell_type": "markdown",
   "id": "6b42fc1f",
   "metadata": {},
   "source": [
    "Kiểm tra sản phẩm thuộc danh mục `Điện Tử - Điện Lạnh` và `Root`"
   ]
  },
  {
   "cell_type": "code",
   "execution_count": 354,
   "id": "82a69195",
   "metadata": {},
   "outputs": [
    {
     "name": "stdout",
     "output_type": "stream",
     "text": [
      "Sản phẩm thuộc danh mục Điện Tử - Điện Lạnh:\n",
      "26     Màn hình LED Arirang 43 inch UHD 4k AR-43UM01 ...\n",
      "37                 Smart Tivi Casper HD 32 inch 32HX6200\n",
      "38             Smart Tivi Asanzo Full HD 43 inch 43AS560\n",
      "39                   Tivi LED Asanzo HD 25 inch 25S200T2\n",
      "74     Google Tivi Sony 4K 43 inch KD-43X75K - Hàng c...\n",
      "78            Android Tivi OLED Sony 4K 55 inch KD-55A8F\n",
      "79      Tivi LED Asanzo 25 inch 25T350 - Hàng Chính Hãng\n",
      "104    Tivi xách tay LG StanbyME Go 27LX5QKNA 27 inch...\n",
      "107    Smart Tivi LG 55 Inch 4K 55UQ7050PSA - Hàng ch...\n",
      "110      Tivi 32IN HÀNG CHÍNH HÃNG NHẬP KHẨU TỪ HÀN QUỐC\n",
      "119                   Tivi LED Asanzo HD 32 inch 32AT120\n",
      "148          Android TV K-Elec 65UK885V - Hàng nhập khẩu\n",
      "157                   Tivi LED Asanzo HD 32 inch 32AH102\n",
      "158         Smart Tivi QLED Samsung 4K 65 inch QA65Q7FNA\n",
      "159    Smart Tivi Cong QLED Samsung 4K 55 inch QA55Q8CNA\n",
      "185    Smart ti vi Asanzo 55 AG800K- màn hình cường l...\n",
      "232    Google Tivi Sony 4K 75 inch KD.75X77L - Hàng c...\n",
      "239           Smart Tivi Casper Full HD 43 inch 43FX6200\n",
      "269    Smart Tivi 43inch UHD 4K 43UP751C- Hàng chính ...\n",
      "Name: Tên sản phẩm, dtype: object\n",
      "------------------------------------------------------\n",
      "Sản phẩm thuộc danh mục Root:\n",
      "23     Smart Tivi LG 4K 43 Inch 43UQ7050PSA - Model 2023\n",
      "27     Smart Tivi Samsung HD 32 inch 32T4202 - Model ...\n",
      "33     Google Tivi Sony 4K 43 inch KD-43X81DK - Model...\n",
      "77     Smart Tivi Casper Full HD 42 inch 42FX5200 Mới...\n",
      "118            Smart Tivi OLED LG 4K 65 inch OLED65GXPTA\n",
      "155                Android Tivi Sony 4K 50 inch KD-50X75\n",
      "156                Android Tivi Sony 4K 43 inch KD-43X75\n",
      "199                 Tivi LED Sharp HD 32 inch 2T-C32BD1X\n",
      "Name: Tên sản phẩm, dtype: object\n",
      "------------------------------------------------------\n"
     ]
    }
   ],
   "source": [
    "print('Sản phẩm thuộc danh mục Điện Tử - Điện Lạnh:')\n",
    "print(tivi[tivi['Danh mục'] == 'Điện Tử - Điện Lạnh']['Tên sản phẩm'])\n",
    "print('------------------------------------------------------')\n",
    "\n",
    "print('Sản phẩm thuộc danh mục Root:')\n",
    "print(tivi[tivi['Danh mục'] == 'Root']['Tên sản phẩm'])\n",
    "print('------------------------------------------------------')"
   ]
  },
  {
   "cell_type": "markdown",
   "id": "94227021",
   "metadata": {},
   "source": [
    "Tiến hành chia danh mục:\n",
    "- Các sản phẩm thuộc danh mục `Điện Tử - Điện Lạnh` và `Root` có thể được phân bổ vào các danh mục: `Tivi OLED`, `Tivi QLED`, `Smart Tivi - Android Tivi`, `Tivi thường (LED)`, `Tivi 4K` tùy thuộc vào tên của sản phẩm đó.\n",
    "\n",
    "    - Nếu tên sản phẩm chứa từ `oled` $\\rightarrow$ Sản phẩm thuộc danh mục `Tivi OLED`\n",
    "    - Nếu tên sản phẩm chứa từ `qled` $\\rightarrow$ Sản phẩm thuộc danh mục `Tivi QLED`\n",
    "    - Nếu tên sản phẩm chứa từ `smart` hoặc `android` $\\rightarrow$ Sản phẩm thuộc danh mục `Smart Tivi - Android Tivi`\n",
    "    - Nếu tên sản phẩm chứa từ `led` $\\rightarrow$ Sản phẩm thuộc danh mục `Tivi thường (LED)`\n",
    "    - Nếu tên sản phẩm chứa từ `4k` $\\rightarrow$ Sản phẩm thuộc danh mục `Tivi 4K`\n"
   ]
  },
  {
   "cell_type": "code",
   "execution_count": 355,
   "id": "098610f1",
   "metadata": {},
   "outputs": [],
   "source": [
    "def assign_category_to_tivi(df: pd.DataFrame, keywords: str, category: str):\n",
    "    mask = df['Danh mục'].isin(['Điện Tử - Điện Lạnh', 'Root']) & df['Tên sản phẩm'].str.contains(keywords, case=False)\n",
    "    df.loc[mask, 'Danh mục'] = category"
   ]
  },
  {
   "cell_type": "code",
   "execution_count": 356,
   "id": "d021a9da",
   "metadata": {},
   "outputs": [],
   "source": [
    "assign_category_to_tivi(tivi, 'oled', 'Tivi OLED')\n",
    "assign_category_to_tivi(tivi, 'qled', 'Tivi QLED')\n",
    "assign_category_to_tivi(tivi, 'smart|android', 'Smart Tivi - Android Tivi')\n",
    "assign_category_to_tivi(tivi, 'led', 'Tivi thường (LED)')\n",
    "assign_category_to_tivi(tivi, '4k', 'Tivi 4K')"
   ]
  },
  {
   "cell_type": "code",
   "execution_count": 357,
   "id": "996c3fc7",
   "metadata": {},
   "outputs": [
    {
     "data": {
      "text/plain": [
       "Danh mục\n",
       "Smart Tivi - Android Tivi    129\n",
       "Tivi 4K                       94\n",
       "Tivi thường (LED)             19\n",
       "Tivi OLED                     13\n",
       "Tivi QLED                      7\n",
       "Tivi cao cấp                   5\n",
       "Internet Tivi                  4\n",
       "Điện Tử - Điện Lạnh            2\n",
       "Name: count, dtype: int64"
      ]
     },
     "execution_count": 357,
     "metadata": {},
     "output_type": "execute_result"
    }
   ],
   "source": [
    "tivi['Danh mục'].value_counts()"
   ]
  },
  {
   "cell_type": "markdown",
   "id": "d1fa7a6e",
   "metadata": {},
   "source": [
    "Kiểm tra các sản phẩm chưa được tái phân loại trong danh mục `Điện Tử - Điện Lạnh`"
   ]
  },
  {
   "cell_type": "code",
   "execution_count": 358,
   "id": "ce8d94cc",
   "metadata": {},
   "outputs": [
    {
     "data": {
      "text/plain": [
       "104    Tivi xách tay LG StanbyME Go 27LX5QKNA 27 inch...\n",
       "110      Tivi 32IN HÀNG CHÍNH HÃNG NHẬP KHẨU TỪ HÀN QUỐC\n",
       "Name: Tên sản phẩm, dtype: object"
      ]
     },
     "execution_count": 358,
     "metadata": {},
     "output_type": "execute_result"
    }
   ],
   "source": [
    "tivi[tivi['Danh mục'] == 'Điện Tử - Điện Lạnh']['Tên sản phẩm'].head()"
   ]
  },
  {
   "cell_type": "markdown",
   "id": "aae7e93e",
   "metadata": {},
   "source": [
    "Phân loại các sản phẩm trên vào danh mục `Smart Tivi - Android Tivi`"
   ]
  },
  {
   "cell_type": "code",
   "execution_count": 359,
   "id": "cf918bd7",
   "metadata": {},
   "outputs": [],
   "source": [
    "tivi.loc[tivi['Danh mục'] == 'Điện Tử - Điện Lạnh', 'Danh mục'] = 'Smart Tivi - Android Tivi'"
   ]
  },
  {
   "cell_type": "code",
   "execution_count": 360,
   "id": "9919c480",
   "metadata": {},
   "outputs": [
    {
     "data": {
      "text/plain": [
       "Danh mục\n",
       "Smart Tivi - Android Tivi    131\n",
       "Tivi 4K                       94\n",
       "Tivi thường (LED)             19\n",
       "Tivi OLED                     13\n",
       "Tivi QLED                      7\n",
       "Tivi cao cấp                   5\n",
       "Internet Tivi                  4\n",
       "Name: count, dtype: int64"
      ]
     },
     "execution_count": 360,
     "metadata": {},
     "output_type": "execute_result"
    }
   ],
   "source": [
    "tivi['Danh mục'].value_counts()"
   ]
  },
  {
   "cell_type": "markdown",
   "id": "f262b358",
   "metadata": {},
   "source": [
    "#### 2.10. Tủ lạnh"
   ]
  },
  {
   "cell_type": "code",
   "execution_count": 361,
   "id": "d01bc3e9",
   "metadata": {},
   "outputs": [
    {
     "data": {
      "text/plain": [
       "Danh mục\n",
       "Tủ lạnh nhiều cửa       164\n",
       "Tủ lạnh                  78\n",
       "Điện Tử - Điện Lạnh      68\n",
       "Tủ lạnh side by side     53\n",
       "Tủ lạnh mini             37\n",
       "Name: count, dtype: int64"
      ]
     },
     "execution_count": 361,
     "metadata": {},
     "output_type": "execute_result"
    }
   ],
   "source": [
    "tulanh['Danh mục'].value_counts()"
   ]
  },
  {
   "cell_type": "code",
   "execution_count": 362,
   "id": "ce8f8f22",
   "metadata": {},
   "outputs": [
    {
     "data": {
      "text/plain": [
       "19    Tủ lạnh Toshiba Inverter 233 lít GR-RT303WE-PM...\n",
       "20    Tủ lạnh Toshiba GR-RT234WE-PMV(52) Inveter 202...\n",
       "32    Tủ lạnh Panasonic NR-BA190PPVN - Hàng Chính Hã...\n",
       "36    Tủ lạnh Inverter AQR-T239FA(HB) - Hàng chính h...\n",
       "53    TỦ LẠNH TOSHIBA GR-RT252WE-PMV(52) 194 Lít - h...\n",
       "Name: Tên sản phẩm, dtype: object"
      ]
     },
     "execution_count": 362,
     "metadata": {},
     "output_type": "execute_result"
    }
   ],
   "source": [
    "tulanh[tulanh['Danh mục'] == 'Điện Tử - Điện Lạnh']['Tên sản phẩm'].head()"
   ]
  },
  {
   "cell_type": "markdown",
   "id": "a0992e9e",
   "metadata": {},
   "source": [
    "Chuyển sản phẩm thuộc danh mục `Điện Tử - Điện Lạnh` vào danh mục `Tủ lạnh`"
   ]
  },
  {
   "cell_type": "code",
   "execution_count": 363,
   "id": "75c04148",
   "metadata": {},
   "outputs": [],
   "source": [
    "tulanh['Danh mục'] = tulanh['Danh mục'].replace({\n",
    "    'Điện Tử - Điện Lạnh': 'Tủ lạnh',\n",
    "})"
   ]
  },
  {
   "cell_type": "code",
   "execution_count": 364,
   "id": "7ca9cd46",
   "metadata": {},
   "outputs": [
    {
     "data": {
      "text/plain": [
       "Danh mục\n",
       "Tủ lạnh nhiều cửa       164\n",
       "Tủ lạnh                 146\n",
       "Tủ lạnh side by side     53\n",
       "Tủ lạnh mini             37\n",
       "Name: count, dtype: int64"
      ]
     },
     "execution_count": 364,
     "metadata": {},
     "output_type": "execute_result"
    }
   ],
   "source": [
    "tulanh['Danh mục'].value_counts()"
   ]
  },
  {
   "cell_type": "markdown",
   "id": "b1a003f6",
   "metadata": {},
   "source": [
    "#### 2.11. Camera giám sát"
   ]
  },
  {
   "cell_type": "code",
   "execution_count": 365,
   "id": "5f29f096",
   "metadata": {},
   "outputs": [
    {
     "data": {
      "text/plain": [
       "Danh mục\n",
       "Camera IP                   283\n",
       "Máy Ảnh - Máy Quay Phim      78\n",
       "Phụ Kiện Camera Giám Sát     17\n",
       "Đầu Ghi Hình Camera          11\n",
       "Root                          8\n",
       "Hệ Thống Camera Giám Sát      7\n",
       "Camera Quan Sát Analog        2\n",
       "Name: count, dtype: int64"
      ]
     },
     "execution_count": 365,
     "metadata": {},
     "output_type": "execute_result"
    }
   ],
   "source": [
    "camgiamsat['Danh mục'].value_counts()"
   ]
  },
  {
   "cell_type": "markdown",
   "id": "775f37ea",
   "metadata": {},
   "source": [
    "Kiểm tra sản phẩm thuộc danh mục `Camera IP`, `Máy Ảnh - Máy Quay Phim`, `Root`"
   ]
  },
  {
   "cell_type": "code",
   "execution_count": 366,
   "id": "81a13c42",
   "metadata": {},
   "outputs": [
    {
     "name": "stdout",
     "output_type": "stream",
     "text": [
      "Sản phẩm thuộc danh mục Camera IP:\n",
      "0      Camera Wifi Ezviz 2 Mắt Ngoài Trời H9C 3K 6MP/...\n",
      "2      Camera Wifi EZVIZ H3C 2MP Có Màu Ban Đêm, H3C ...\n",
      "3      Camera Yoosee Wifi Ngoài Trời 2 Mắt Xem Cùng L...\n",
      "5      Camera Yoosee Wifi Ngoài Trời 2 Mắt Xem Cùng L...\n",
      "6      Camera Yoosee Ngoài Trời F50 3 MẮT MÁY BAY ĐỘC...\n",
      "                             ...                        \n",
      "418               Camera Ezviz C6N 1080p Hàng Chính Hãng\n",
      "420    Camera ip wifi xoay 360 độ Orikon - Hàng chính...\n",
      "421    DS-2CD1327G0-L CAMERA IP HIKVISION COLORVU LIT...\n",
      "423    Camera IP 1080P Xiaomi Mi Home Magnetic Mount ...\n",
      "424    Camera IP Hồng Ngoại 2MP Hanwha Techwin Wisene...\n",
      "Name: Tên sản phẩm, Length: 283, dtype: object\n",
      "------------------------------------------------------\n",
      "Sản phẩm thuộc danh mục Máy Ảnh - Máy Quay Phim:\n",
      "1      Camera Wifi EZVIZ H3C 4MP 3K - H3C 3M, Có Màu ...\n",
      "4      Camera Wi-Fi TP-Link Tapo C200 1080P (2MP) An ...\n",
      "18     Camera IP Wifi Trong Nhà EZVIZ C6N 1080p - Hàn...\n",
      "22     Camera WiFi EZVIZ H8 3K - Độ Phân Giải 5MP, Ba...\n",
      "24     Camera IP Wifi Ngoài Trời EZVIZ CB8 3MP 2K Tặn...\n",
      "                             ...                        \n",
      "404    Camera IP Wifi quay quét EZVIZ C8W 4MP - Ngoài...\n",
      "405    Camera IP Wifi Imou IPC-F22FP-IMOU Full HD 108...\n",
      "419    Camera IP Wifi Trong Nhà EZVIZ TY1 1080p - Hàn...\n",
      "426    Camera IP Wifi IMOU IPC C22EP FullHD 1080P - H...\n",
      "427    Combo Camera IP Wifi Imou  IPC-A22EP 2.0mpx Fu...\n",
      "Name: Tên sản phẩm, Length: 78, dtype: object\n",
      "------------------------------------------------------\n",
      "Sản phẩm thuộc danh mục Root:\n",
      "48      Thẻ nhớ 64GB HikvisionHS-TF-C1 - Hàng chính hãng\n",
      "52     Camera IP Wifi Ezviz C6N CS-CV246 + Thẻ nhớ Ez...\n",
      "262    Thẻ nhớ 32GB HikvisionHS-TF-C1 - Sản phẩm chín...\n",
      "263    Camera Dahua 2 Mp DH-HAC-HFW1200TLP-S4 1080P -...\n",
      "264    Camera Dahua 2 Mp DH HAC B1A21P 1080P - Thân T...\n",
      "288    Camera Hikvision trong nhà HD-TVI 2 MP, Camera...\n",
      "338    Camera IP Wifi Thân Lớn Ngoài Trời Imou F22P F...\n",
      "355    Camera IP 360 Độ 2MP TP-Link Tapo TC70 - Hàng ...\n",
      "Name: Tên sản phẩm, dtype: object\n",
      "------------------------------------------------------\n"
     ]
    }
   ],
   "source": [
    "print('Sản phẩm thuộc danh mục Camera IP:')\n",
    "print(camgiamsat[camgiamsat['Danh mục'] == 'Camera IP']['Tên sản phẩm'])\n",
    "print('------------------------------------------------------')\n",
    "\n",
    "print('Sản phẩm thuộc danh mục Máy Ảnh - Máy Quay Phim:')\n",
    "print(camgiamsat[camgiamsat['Danh mục'] == 'Máy Ảnh - Máy Quay Phim']['Tên sản phẩm'])\n",
    "print('------------------------------------------------------')\n",
    "\n",
    "print('Sản phẩm thuộc danh mục Root:')\n",
    "print(camgiamsat[camgiamsat['Danh mục'] == 'Root']['Tên sản phẩm'])\n",
    "print('------------------------------------------------------')"
   ]
  },
  {
   "cell_type": "markdown",
   "id": "14a6fa17",
   "metadata": {},
   "source": [
    "Nhìn chung, các sản phẩm có thể phân bổ theo các danh mục như sau:\n",
    "\n",
    "- Camera IP - Camera Wifi: Gồm các sản phẩm thuộc danh mục `Camera IP`, `Máy Ảnh - Máy Quay Phim` và `Root`\n",
    "- Phụ Kiện Camera Giám Sát: Gồm các sản phẩm thuộc danh mục `Phụ Kiện` và `Root`\n",
    "    - Với danh mục `Root`:\n",
    "        - Nếu tên sản phẩm chứa từ `ip` hoặc `wifi` $\\rightarrow$\n",
    " Sản phẩm thuộc danh mục `Camera IP - Camera Wifi`\n",
    "        - Các sản phẩm còn lại thuộc danh mục `Phụ Kiện Camera Giám Sát`\n",
    "- Đầu Ghi Hình Camera\n",
    "- Camera Quan Sát Analog\n",
    "- Hệ Thống Camera Giám Sát"
   ]
  },
  {
   "cell_type": "code",
   "execution_count": 367,
   "id": "b17ef41f",
   "metadata": {},
   "outputs": [],
   "source": [
    "camgiamsat['Danh mục'] = camgiamsat['Danh mục'].replace({\n",
    "    'Camera IP': 'Camera IP - Camera Wifi',\n",
    "    'Máy Ảnh - Máy Quay Phim': 'Camera IP - Camera Wifi',\n",
    "})\n",
    "\n",
    "camgiamsat.loc[\n",
    "    (camgiamsat['Danh mục'] == 'Root') & (camgiamsat['Tên sản phẩm'].str.contains('ip|wifi', case=False)), \n",
    "    'Danh mục'\n",
    "    ] = 'Camera IP - Camera Wifi'\n",
    "\n",
    "camgiamsat['Danh mục'] = camgiamsat['Danh mục'].replace({\n",
    "    'Root': 'Phụ Kiện Camera Giám Sát',\n",
    "})"
   ]
  },
  {
   "cell_type": "code",
   "execution_count": 368,
   "id": "dc54f209",
   "metadata": {},
   "outputs": [
    {
     "data": {
      "text/plain": [
       "Danh mục\n",
       "Camera IP - Camera Wifi     365\n",
       "Phụ Kiện Camera Giám Sát     21\n",
       "Đầu Ghi Hình Camera          11\n",
       "Hệ Thống Camera Giám Sát      7\n",
       "Camera Quan Sát Analog        2\n",
       "Name: count, dtype: int64"
      ]
     },
     "execution_count": 368,
     "metadata": {},
     "output_type": "execute_result"
    }
   ],
   "source": [
    "camgiamsat['Danh mục'].value_counts()"
   ]
  },
  {
   "cell_type": "markdown",
   "id": "0ae4b7c9",
   "metadata": {},
   "source": [
    "#### 2.12. Máy tính để bàn"
   ]
  },
  {
   "cell_type": "code",
   "execution_count": 369,
   "id": "c4837736",
   "metadata": {},
   "outputs": [
    {
     "data": {
      "text/plain": [
       "Danh mục\n",
       "Máy Tính Bộ Thương Hiệu             89\n",
       "Mini PC                             22\n",
       "Laptop - Máy Vi Tính - Linh kiện    10\n",
       "Máy Tính All in one                 10\n",
       "Towers - Máy Chủ - Server           10\n",
       "Máy Tính Để Bàn Lắp Ráp              6\n",
       "PC Gaming                            3\n",
       "Root                                 2\n",
       "PC - Máy Tính Bộ                     1\n",
       "Name: count, dtype: int64"
      ]
     },
     "execution_count": 369,
     "metadata": {},
     "output_type": "execute_result"
    }
   ],
   "source": [
    "pc['Danh mục'].value_counts()"
   ]
  },
  {
   "cell_type": "markdown",
   "id": "a9a0d4ab",
   "metadata": {},
   "source": [
    "Kiểm tra sản phẩm thuộc các danh mục `Laptop - Máy Vi Tính - Linh Kiện`, `Root`, `PC - Máy Tính Bộ`"
   ]
  },
  {
   "cell_type": "code",
   "execution_count": 370,
   "id": "982c0d49",
   "metadata": {},
   "outputs": [
    {
     "name": "stdout",
     "output_type": "stream",
     "text": [
      "Sản phẩm thuộc danh mục Laptop - Máy Vi Tính - Linh Kiện:\n",
      "0      Máy Tính Siêu Nhỏ Ultra Mini Morefine ZX01 Plu...\n",
      "17     Máy Tính Để Bàn Dell Optiplex 3040 Core i7 670...\n",
      "26     Máy tính để bàn nhỏ gọn ThinkCentre  LENOVO ( ...\n",
      "28     Máy tính văn phòng C800 (Core i5/ SSD 240 GB/ ...\n",
      "43     Máy Tính Siêu Nhỏ Ultra Mini Morefine ZX01 Plu...\n",
      "80     Máy tính văn phòng mini Intel NUC7CJYH - Chưa ...\n",
      "81     Máy tính văn phòng mini Intel NUC6CAYS - Chưa ...\n",
      "82     Máy Tính Đồng Bộ DELL OPTIPLEX 7010 (Intel i5,...\n",
      "101    Máy Tính Để Bàn Dell Optiplex 3050 micro nhỏ x...\n",
      "123    Máy tính văn phòng C500 (Core i3/ SSD 120GB/ R...\n",
      "Name: Tên sản phẩm, dtype: object\n",
      "------------------------------------------------------\n",
      "Sản phẩm thuộc danh mục Root:\n",
      "109    Máy tính Dell workstation Precision T5810 cpu ...\n",
      "140    Máy tính Dell workstation Precision T5810 cpu ...\n",
      "Name: Tên sản phẩm, dtype: object\n",
      "------------------------------------------------------\n",
      "Sản phẩm thuộc danh mục PC - Máy Tính Bộ:\n",
      "83    Máy tính để bàn Dell Optiplex Core i5 3470, Ra...\n",
      "Name: Tên sản phẩm, dtype: object\n",
      "------------------------------------------------------\n"
     ]
    }
   ],
   "source": [
    "print('Sản phẩm thuộc danh mục Laptop - Máy Vi Tính - Linh Kiện:')\n",
    "print(pc[pc['Danh mục'] == 'Laptop - Máy Vi Tính - Linh kiện']['Tên sản phẩm'])\n",
    "print('------------------------------------------------------')\n",
    "\n",
    "print('Sản phẩm thuộc danh mục Root:')\n",
    "print(pc[pc['Danh mục'] == 'Root']['Tên sản phẩm'])\n",
    "print('------------------------------------------------------')\n",
    "\n",
    "print('Sản phẩm thuộc danh mục PC - Máy Tính Bộ:')\n",
    "print(pc[pc['Danh mục'] == 'PC - Máy Tính Bộ']['Tên sản phẩm'])\n",
    "print('------------------------------------------------------')"
   ]
  },
  {
   "cell_type": "markdown",
   "id": "95986a3a",
   "metadata": {},
   "source": [
    "Phân bổ sản phẩm và các danh mục như sau:\n",
    "- Máy tính đồng bộ: Gồm sản phẩm thuộc danh mục `Máy Tính Bộ Thương Hiệu`, `Laptop - Máy Vi Tính - Linh kiện`, `Root`, `PC - Máy Tính Bộ`\n",
    "- Mini PC: Gồm sản phẩm thuộc danh mục `Mini PC`, `Laptop - Máy Vi Tính - Linh kiện`\n",
    "- Towers - Máy Chủ - Server\n",
    "- Máy Tính All in one\n",
    "- Máy Tính Để Bàn Lắp Ráp\n",
    "- PC Gaming"
   ]
  },
  {
   "cell_type": "code",
   "execution_count": 371,
   "id": "dfde21e7",
   "metadata": {},
   "outputs": [],
   "source": [
    "pc['Danh mục'] = pc['Danh mục'].replace({\n",
    "    'Máy Tính Bộ Thương Hiệu': 'Máy tính đồng bộ',\n",
    "    'Root': 'Máy tính đồng bộ',\n",
    "    'PC - Máy Tính Bộ': 'Máy tính đồng bộ',\n",
    "})\n",
    "\n",
    "pc.loc[\n",
    "    (pc['Danh mục'] == 'Laptop - Máy Vi Tính - Linh kiện') & (pc['Tên sản phẩm'].str.contains('mini|siêu nhỏ')),\n",
    "    'Danh mục'\n",
    "] = 'Mini PC'\n",
    "\n",
    "pc['Danh mục'] = pc['Danh mục'].replace({\n",
    "    'Laptop - Máy Vi Tính - Linh kiện': 'Máy tính đồng bộ',\n",
    "})"
   ]
  },
  {
   "cell_type": "code",
   "execution_count": 372,
   "id": "4c3f4bd2",
   "metadata": {},
   "outputs": [
    {
     "data": {
      "text/plain": [
       "Danh mục\n",
       "Máy tính đồng bộ             100\n",
       "Mini PC                       24\n",
       "Máy Tính All in one           10\n",
       "Towers - Máy Chủ - Server     10\n",
       "Máy Tính Để Bàn Lắp Ráp        6\n",
       "PC Gaming                      3\n",
       "Name: count, dtype: int64"
      ]
     },
     "execution_count": 372,
     "metadata": {},
     "output_type": "execute_result"
    }
   ],
   "source": [
    "pc['Danh mục'].value_counts()"
   ]
  },
  {
   "cell_type": "markdown",
   "id": "154cae53",
   "metadata": {},
   "source": [
    "#### 2.13. Máy ảnh"
   ]
  },
  {
   "cell_type": "code",
   "execution_count": 373,
   "id": "096f6c82",
   "metadata": {},
   "outputs": [
    {
     "data": {
      "text/plain": [
       "Danh mục\n",
       "Máy Ảnh Mirrorless                   4\n",
       "Máy Ảnh Compact - Máy Ảnh Du Lịch    4\n",
       "Máy Ảnh - Máy Quay Phim              3\n",
       "Máy Ảnh Lấy Liền                     3\n",
       "Máy Chụp Ảnh Phim                    1\n",
       "Name: count, dtype: int64"
      ]
     },
     "execution_count": 373,
     "metadata": {},
     "output_type": "execute_result"
    }
   ],
   "source": [
    "mayanh['Danh mục'].value_counts()"
   ]
  },
  {
   "cell_type": "markdown",
   "id": "c6990b70",
   "metadata": {},
   "source": [
    "Giữ nguyên danh mục như cũ"
   ]
  },
  {
   "cell_type": "markdown",
   "id": "680f8261",
   "metadata": {},
   "source": [
    "### 3. Tạo data cho hệ thống dựa theo Cơ sở dữ liệu đã chuẩn bị"
   ]
  },
  {
   "cell_type": "markdown",
   "id": "d9f2c50d",
   "metadata": {},
   "source": [
    "Gộp các sản phẩm vào dataframe `products`"
   ]
  },
  {
   "cell_type": "code",
   "execution_count": 374,
   "id": "bce74e52",
   "metadata": {},
   "outputs": [],
   "source": [
    "products = pd.concat(\n",
    "    [\n",
    "        dienthoai, mayban, cucgach, dieuhoa, \n",
    "        laptop, maydocsach, maygiat, maytinhbang, \n",
    "        tivi, tulanh, camgiamsat, pc, mayanh\n",
    "    ],\n",
    "    ignore_index=True\n",
    ")\n",
    "\n",
    "products.sort_values(by='Id', inplace=True)"
   ]
  },
  {
   "cell_type": "code",
   "execution_count": 375,
   "id": "bc0cb7c8",
   "metadata": {},
   "outputs": [
    {
     "data": {
      "text/plain": [
       "Index(['Id', 'Tên sản phẩm', 'Thương hiệu', 'Danh mục', 'Thông số kỹ thuật',\n",
       "       'Phiên bản', 'Mô tả', 'Hình ảnh'],\n",
       "      dtype='object')"
      ]
     },
     "execution_count": 375,
     "metadata": {},
     "output_type": "execute_result"
    }
   ],
   "source": [
    "products.columns.unique()"
   ]
  },
  {
   "cell_type": "markdown",
   "id": "5ba15d01",
   "metadata": {},
   "source": [
    "Kiểm tra trùng lặp Id sản phẩm (Do các sản phẩm thuộc danh mục khác nhau có thể trùng Id)."
   ]
  },
  {
   "cell_type": "code",
   "execution_count": 376,
   "id": "eed38e5b",
   "metadata": {},
   "outputs": [
    {
     "name": "stdout",
     "output_type": "stream",
     "text": [
      "Số bản ghi trong products có Id trùng nhau: 17\n"
     ]
    }
   ],
   "source": [
    "print('Số bản ghi trong products có Id trùng nhau:', end=' ')\n",
    "print(products['Id'].duplicated().sum())"
   ]
  },
  {
   "cell_type": "markdown",
   "id": "1441b294",
   "metadata": {},
   "source": [
    "Loại bỏ các bản ghi trùng Id"
   ]
  },
  {
   "cell_type": "code",
   "execution_count": 377,
   "id": "5bf8516f",
   "metadata": {},
   "outputs": [],
   "source": [
    "products.drop_duplicates(subset=['Id'], inplace=True)"
   ]
  },
  {
   "cell_type": "markdown",
   "id": "982769d8",
   "metadata": {},
   "source": [
    "#### 3.1. Tạo dataframe `category` (id, name)"
   ]
  },
  {
   "cell_type": "code",
   "execution_count": 378,
   "id": "f7302925",
   "metadata": {},
   "outputs": [],
   "source": [
    "category_rows = []\n",
    "for index, row in enumerate(products['Danh mục'].unique()):\n",
    "    category_rows.append({\n",
    "        'id': '',\n",
    "        'name': row,\n",
    "    })\n",
    "\n",
    "category_df = pd.DataFrame(category_rows)\n",
    "\n",
    "category_df['id'] = category_df.drop(columns=['id']).apply(get_md5_hash, axis=1)\n",
    "\n",
    "category_df.sort_values(by='id', inplace=True)\n",
    "category_df.reset_index(drop=True, inplace=True)"
   ]
  },
  {
   "cell_type": "code",
   "execution_count": 379,
   "id": "9eb10e89",
   "metadata": {},
   "outputs": [
    {
     "data": {
      "text/html": [
       "<div>\n",
       "<style scoped>\n",
       "    .dataframe tbody tr th:only-of-type {\n",
       "        vertical-align: middle;\n",
       "    }\n",
       "\n",
       "    .dataframe tbody tr th {\n",
       "        vertical-align: top;\n",
       "    }\n",
       "\n",
       "    .dataframe thead th {\n",
       "        text-align: right;\n",
       "    }\n",
       "</style>\n",
       "<table border=\"1\" class=\"dataframe\">\n",
       "  <thead>\n",
       "    <tr style=\"text-align: right;\">\n",
       "      <th></th>\n",
       "      <th>id</th>\n",
       "      <th>name</th>\n",
       "    </tr>\n",
       "  </thead>\n",
       "  <tbody>\n",
       "    <tr>\n",
       "      <th>0</th>\n",
       "      <td>08674aac7e456ae64b716a1bf7f0db30</td>\n",
       "      <td>Hệ Thống Camera Giám Sát</td>\n",
       "    </tr>\n",
       "    <tr>\n",
       "      <th>1</th>\n",
       "      <td>0c2a3d4c5a1fb79fa47f4796bab6a5a5</td>\n",
       "      <td>Tủ lạnh nhiều cửa</td>\n",
       "    </tr>\n",
       "    <tr>\n",
       "      <th>2</th>\n",
       "      <td>0cc282d867981ca0670b4fdc6a78b575</td>\n",
       "      <td>Smart Tivi - Android Tivi</td>\n",
       "    </tr>\n",
       "    <tr>\n",
       "      <th>3</th>\n",
       "      <td>0cf6dca9070252c2987322b5f1575333</td>\n",
       "      <td>Máy Ảnh Mirrorless</td>\n",
       "    </tr>\n",
       "    <tr>\n",
       "      <th>4</th>\n",
       "      <td>0fbec61b92a10eab2a15813d0642c586</td>\n",
       "      <td>Phụ Kiện Camera Giám Sát</td>\n",
       "    </tr>\n",
       "  </tbody>\n",
       "</table>\n",
       "</div>"
      ],
      "text/plain": [
       "                                 id                       name\n",
       "0  08674aac7e456ae64b716a1bf7f0db30   Hệ Thống Camera Giám Sát\n",
       "1  0c2a3d4c5a1fb79fa47f4796bab6a5a5          Tủ lạnh nhiều cửa\n",
       "2  0cc282d867981ca0670b4fdc6a78b575  Smart Tivi - Android Tivi\n",
       "3  0cf6dca9070252c2987322b5f1575333         Máy Ảnh Mirrorless\n",
       "4  0fbec61b92a10eab2a15813d0642c586   Phụ Kiện Camera Giám Sát"
      ]
     },
     "execution_count": 379,
     "metadata": {},
     "output_type": "execute_result"
    }
   ],
   "source": [
    "category_df.head()"
   ]
  },
  {
   "cell_type": "markdown",
   "id": "776e05b0",
   "metadata": {},
   "source": [
    "### 3.2. Tạo dataframe `product` và các dataframe liên quan đến biến thể sản phẩm"
   ]
  },
  {
   "cell_type": "markdown",
   "id": "cd53d320",
   "metadata": {},
   "source": [
    "Xây dựng:\n",
    "\n",
    "|`product`|`attribute`|`attribute_value`|`product_variant`|`attribute_variant`|\n",
    "|-------|---------|---------------|---------------|--------|\n",
    "|id|id|id|id|attribute_value_id|\n",
    "|category_id|name|attribute_id|product_id|attribute_id|\n",
    "|name||value|price|product_variant_id|\n",
    "|description|||original_price||\n",
    "|specification|||profit||\n",
    "|image_url|||sku||\n",
    "|brand|||stock_quantity||\n",
    "||||sold_quantity||"
   ]
  },
  {
   "cell_type": "markdown",
   "id": "2578c17f",
   "metadata": {},
   "source": [
    "Tạo từ điển `category_dict` để tạo ánh xạ từ `tên danh mục` sang `id danh mục` (phục vụ cho việc tạo bảng `product`)"
   ]
  },
  {
   "cell_type": "code",
   "execution_count": 380,
   "id": "beef4eec",
   "metadata": {},
   "outputs": [],
   "source": [
    "category_dict = dict(zip(category_df['name'], category_df['id']))"
   ]
  },
  {
   "cell_type": "markdown",
   "id": "d3161b75",
   "metadata": {},
   "source": [
    "#### 3.2. Tạo dataframe `attribute` (id, name)"
   ]
  },
  {
   "cell_type": "markdown",
   "id": "a3fe05a0",
   "metadata": {},
   "source": [
    "Thực hiện phân tách các `thuộc tính (attribute)` của sản phẩm trong cột `phiên bản` (gồm các thuộc tính dùng để phân biệt các phiên bản với nhau)"
   ]
  },
  {
   "cell_type": "markdown",
   "id": "cae34346",
   "metadata": {},
   "source": [
    "Sau khảo sát, việc phân tách thuộc tính như sau:\n",
    "Với:\n",
    "- Điện thoại: Gồm 2 thuộc tính: Màu và Dung lượng\n",
    "- Camera giám sát: Gồm:\n",
    "    - Model: Trích từ các thuộc tính `model`, `model camera`, `lựa chọn mẫu` trong cột `phiên bản`\n",
    "    - Độ phân giải: Trích từ `độ phân giải`\n",
    "    - Màu\n",
    "    - Lựa chọn\n",
    "- Điện thoại bàn:  Gồm thuộc tính Màu\n",
    "- Điện thoại phổ thông: Gồm thuộc tính Màu\n",
    "- Điều hòa: Gồm:\n",
    "    - Công suất: Trích từ các thuộc tính `Phân loại công suất`, `công suất làm lạnh`, `công suất lạnh`\n",
    "    - Bảo hành: Trích từ các thuộc tính `Bảo hành 2 năm`, `bảo hành toàn quốc`\n",
    "- Laptop: Gồm các thuộc tính: Dung lượng, Màu, Chip, Hệ điều hành, Màn (trích từ `Loại màn`)\n",
    "- Máy ảnh: Gồm các thuộc tính: Màu và Lựa chọn\n",
    "- Máy đọc sách: Gồm:\n",
    "    - Màu: Trích từ các thuộc tính về `màu` và `Màu bao da`\n",
    "    - Dung lượng\n",
    "    - Bút đi kèm: Trích từ `loại bút đi kèm`\n",
    "    - Lựa chọn\n",
    "- Máy giặt: Gồm thuộc tính Màu\n",
    "- Máy tính bảng: Gồm các thuộc tính: Màu, Dung lượng, Lựa chọn\n",
    "- Máy tính để bàn: Gồm các thuộc tính: Dung lượng, Cấu hình, Lựa chọn\n",
    "- Tivi: Gồm các thuộc tính: Kích cỡ (Trích từ `Kích cỡ màn hình`) và Lựa chọn\n",
    "- Tủ lạnh: Gồm 2 thuộc tính: Màu, Lựa chọn"
   ]
  },
  {
   "cell_type": "code",
   "execution_count": 381,
   "id": "cb15c005",
   "metadata": {},
   "outputs": [],
   "source": [
    "def toPascalCase(x: str):\n",
    "    return ' '.join(word.capitalize() for word in x.lower().split())\n",
    "\n",
    "def rename_attribute(attribute: str, value: str):\n",
    "    attribute = attribute.lower()\n",
    "    value = value.lower()\n",
    "\n",
    "    if any(attr in attribute for attr in ['màu', 'colour', 'color']) \\\n",
    "        and all(not char.isdigit() for char in value):\n",
    "        return 'Màu'\n",
    "    \n",
    "    if any(attr in attribute for attr in ['dung lượng', 'ram', 'memory', 'storage']):\n",
    "        return 'Dung lượng'\n",
    "    \n",
    "    if any(attr in attribute for attr in ['model', 'model camera', 'lựa chọn mẫu', 'mẫu']):\n",
    "        return 'Model'\n",
    "    \n",
    "    if any(attr in attribute for attr in ['độ phân giải', 'phân giải', 'resolution']):\n",
    "        return 'Độ phân giải'\n",
    "    \n",
    "    if any(attr in attribute for attr in ['công suất', 'power']):\n",
    "        return 'Công suất'\n",
    "\n",
    "    if any(attr in attribute for attr in ['bảo hành', 'warranty']):\n",
    "        return 'Bảo hành'\n",
    "    \n",
    "    if any(attr in attribute for attr in ['chip', 'cpu', 'vi xử lý', 'processor']):\n",
    "        return 'Chip'\n",
    "    \n",
    "    if any(attr in attribute for attr in ['hệ điều hành', 'os', 'operating system', 'win']):\n",
    "        return 'Hệ điều hành'\n",
    "    \n",
    "    if any(attr in attribute for attr in ['màn', 'display', 'screen']):\n",
    "        return 'Màn hình'\n",
    "    \n",
    "    if any(attr in attribute for attr in ['bút', 'pen']):\n",
    "        return 'Bút đi kèm'\n",
    "\n",
    "    return 'Lựa chọn'"
   ]
  },
  {
   "cell_type": "markdown",
   "id": "8d2d7cf9",
   "metadata": {},
   "source": [
    "Trích xuất các phiên bản từ từng sản phẩm"
   ]
  },
  {
   "cell_type": "code",
   "execution_count": 382,
   "id": "d46f0d50",
   "metadata": {},
   "outputs": [],
   "source": [
    "def extract_options(versions: str):\n",
    "\n",
    "    if '=' not in versions:\n",
    "        return [\n",
    "            {\n",
    "                'attrs': ['Loại'],\n",
    "                'values': ['Mặc Định'],\n",
    "                'price': int(versions.split()[0].strip())\n",
    "            }\n",
    "        ]\n",
    "\n",
    "    options = []\n",
    "\n",
    "    lines = versions.strip().split('\\n')\n",
    "\n",
    "    for line in lines:\n",
    "        attributes, price_str = line.rsplit('=', 1)\n",
    "        \n",
    "        price = int(price_str.strip().split()[0])\n",
    "\n",
    "        split_attributes = attributes.strip().split('$$')\n",
    "\n",
    "        attrs, values = [], []\n",
    "\n",
    "        for pair in split_attributes:\n",
    "            attribute, value = map(str.strip, pair.split(':', 1))\n",
    "            \n",
    "            value = toPascalCase(value)\n",
    "            attribute = rename_attribute(attribute.lower(), value)\n",
    "\n",
    "            attrs.append(attribute)\n",
    "            values.append(value)\n",
    "\n",
    "        options.append({\n",
    "            'attrs': attrs,\n",
    "            'values': values,\n",
    "            'price': price\n",
    "        })\n",
    "\n",
    "    return options"
   ]
  },
  {
   "cell_type": "markdown",
   "id": "418fee56",
   "metadata": {},
   "source": [
    "Trích xuất các thuộc tính (thuộc tính phân biệt các phiên bản)"
   ]
  },
  {
   "cell_type": "code",
   "execution_count": 383,
   "id": "f74e7bd1",
   "metadata": {},
   "outputs": [],
   "source": [
    "def extract_attributes(df: pd.DataFrame):\n",
    "    attrs = {}\n",
    "\n",
    "    rows = df['Phiên bản'].astype(str).str.strip()\n",
    "\n",
    "    for versions in rows:\n",
    "\n",
    "        options = extract_options(versions)\n",
    "\n",
    "        for option in options:\n",
    "            for attr, value in zip(option['attrs'], option['values']):\n",
    "                \n",
    "                attrs.setdefault(attr, set()).add(value)\n",
    "\n",
    "    return attrs"
   ]
  },
  {
   "cell_type": "code",
   "execution_count": 384,
   "id": "b6a35b61",
   "metadata": {},
   "outputs": [],
   "source": [
    "attributes = extract_attributes(products)\n",
    "attributes = sorted(attributes.items(), key=lambda x: (x[0], x[1]))\n",
    "\n",
    "attribute_rows = []\n",
    "\n",
    "for index, (name, _) in enumerate(attributes):\n",
    "    attribute_rows.append({\n",
    "        'id': '',\n",
    "        'name': name,\n",
    "    })\n",
    "\n",
    "attribute_df = pd.DataFrame(attribute_rows)\n",
    "\n",
    "attribute_df['id'] = attribute_df.drop(columns=['id']).apply(get_md5_hash, axis=1)\n",
    "attribute_df.sort_values(by='id', inplace=True)\n",
    "attribute_df.reset_index(drop=True, inplace=True)"
   ]
  },
  {
   "cell_type": "code",
   "execution_count": 385,
   "id": "618afdda",
   "metadata": {},
   "outputs": [
    {
     "data": {
      "text/html": [
       "<div>\n",
       "<style scoped>\n",
       "    .dataframe tbody tr th:only-of-type {\n",
       "        vertical-align: middle;\n",
       "    }\n",
       "\n",
       "    .dataframe tbody tr th {\n",
       "        vertical-align: top;\n",
       "    }\n",
       "\n",
       "    .dataframe thead th {\n",
       "        text-align: right;\n",
       "    }\n",
       "</style>\n",
       "<table border=\"1\" class=\"dataframe\">\n",
       "  <thead>\n",
       "    <tr style=\"text-align: right;\">\n",
       "      <th></th>\n",
       "      <th>id</th>\n",
       "      <th>name</th>\n",
       "    </tr>\n",
       "  </thead>\n",
       "  <tbody>\n",
       "    <tr>\n",
       "      <th>0</th>\n",
       "      <td>4fe72cb1224ba4dd8af3afa74f479211</td>\n",
       "      <td>Lựa chọn</td>\n",
       "    </tr>\n",
       "    <tr>\n",
       "      <th>1</th>\n",
       "      <td>54a710820eefa3b2c7cdf922aea1e48f</td>\n",
       "      <td>Độ phân giải</td>\n",
       "    </tr>\n",
       "    <tr>\n",
       "      <th>2</th>\n",
       "      <td>63a4749010bbe32d8f7f28581a795e21</td>\n",
       "      <td>Màu</td>\n",
       "    </tr>\n",
       "    <tr>\n",
       "      <th>3</th>\n",
       "      <td>6b86d90c688d7e502fae444270022570</td>\n",
       "      <td>Dung lượng</td>\n",
       "    </tr>\n",
       "    <tr>\n",
       "      <th>4</th>\n",
       "      <td>76795adf9620fc6d223bac23d3210440</td>\n",
       "      <td>Bút đi kèm</td>\n",
       "    </tr>\n",
       "  </tbody>\n",
       "</table>\n",
       "</div>"
      ],
      "text/plain": [
       "                                 id          name\n",
       "0  4fe72cb1224ba4dd8af3afa74f479211      Lựa chọn\n",
       "1  54a710820eefa3b2c7cdf922aea1e48f  Độ phân giải\n",
       "2  63a4749010bbe32d8f7f28581a795e21           Màu\n",
       "3  6b86d90c688d7e502fae444270022570    Dung lượng\n",
       "4  76795adf9620fc6d223bac23d3210440    Bút đi kèm"
      ]
     },
     "execution_count": 385,
     "metadata": {},
     "output_type": "execute_result"
    }
   ],
   "source": [
    "attribute_df.head()"
   ]
  },
  {
   "cell_type": "markdown",
   "id": "924236fa",
   "metadata": {},
   "source": [
    "Tạo từ điển `attribute_dict` để ánh xạ từ `tên thuộc tính` sang `id thuộc tính` (phục vụ cho việc tạo bảng `attribute_value`)"
   ]
  },
  {
   "cell_type": "code",
   "execution_count": 386,
   "id": "96e7e7bc",
   "metadata": {},
   "outputs": [],
   "source": [
    "attribute_dict = dict(zip(attribute_df['name'], attribute_df['id']))"
   ]
  },
  {
   "cell_type": "markdown",
   "id": "838e6b58",
   "metadata": {},
   "source": [
    "#### 3.3. Tạo dataframe `attribute_value` (id, attribute_id, value)"
   ]
  },
  {
   "cell_type": "code",
   "execution_count": 387,
   "id": "c6c5fad5",
   "metadata": {},
   "outputs": [],
   "source": [
    "attribute_value_rows = []\n",
    "\n",
    "\n",
    "for index, (name, values) in enumerate(attributes):\n",
    "    for value in values:\n",
    "        \n",
    "        attribute_value_rows.append({\n",
    "            'id': '',\n",
    "            'attribute_id': get_md5_hash(pd.Series({'name': name})),\n",
    "            'value': value,\n",
    "        })\n",
    "\n",
    "\n",
    "attribute_value_df = pd.DataFrame(attribute_value_rows)\n",
    "\n",
    "attribute_value_df['id'] = attribute_value_df.drop(columns=['id']).apply(get_md5_hash, axis=1)\n",
    "\n",
    "attribute_value_df.sort_values(by='id', inplace=True)\n",
    "attribute_value_df.reset_index(drop=True, inplace=True)"
   ]
  },
  {
   "cell_type": "code",
   "execution_count": 388,
   "id": "5b855eff",
   "metadata": {},
   "outputs": [
    {
     "data": {
      "text/html": [
       "<div>\n",
       "<style scoped>\n",
       "    .dataframe tbody tr th:only-of-type {\n",
       "        vertical-align: middle;\n",
       "    }\n",
       "\n",
       "    .dataframe tbody tr th {\n",
       "        vertical-align: top;\n",
       "    }\n",
       "\n",
       "    .dataframe thead th {\n",
       "        text-align: right;\n",
       "    }\n",
       "</style>\n",
       "<table border=\"1\" class=\"dataframe\">\n",
       "  <thead>\n",
       "    <tr style=\"text-align: right;\">\n",
       "      <th></th>\n",
       "      <th>id</th>\n",
       "      <th>attribute_id</th>\n",
       "      <th>value</th>\n",
       "    </tr>\n",
       "  </thead>\n",
       "  <tbody>\n",
       "    <tr>\n",
       "      <th>0</th>\n",
       "      <td>012006e7812a1c5dd091cfccb7ca1245</td>\n",
       "      <td>4fe72cb1224ba4dd8af3afa74f479211</td>\n",
       "      <td>Kèm Thẻ 32g</td>\n",
       "    </tr>\n",
       "    <tr>\n",
       "      <th>1</th>\n",
       "      <td>021ea1c3bbc3ef01d9243ba0dcca5983</td>\n",
       "      <td>4fe72cb1224ba4dd8af3afa74f479211</td>\n",
       "      <td>Chỉ Camera</td>\n",
       "    </tr>\n",
       "    <tr>\n",
       "      <th>2</th>\n",
       "      <td>0241ed995751cd7da1f19313470f1359</td>\n",
       "      <td>6b86d90c688d7e502fae444270022570</td>\n",
       "      <td>128gb</td>\n",
       "    </tr>\n",
       "    <tr>\n",
       "      <th>3</th>\n",
       "      <td>0313f6d47438fadbbb9a6521ed07390e</td>\n",
       "      <td>4fe72cb1224ba4dd8af3afa74f479211</td>\n",
       "      <td>Ranger Se + Thẻ 32gb</td>\n",
       "    </tr>\n",
       "    <tr>\n",
       "      <th>4</th>\n",
       "      <td>0453dd57e211f2175c3a1aac6fce8fa8</td>\n",
       "      <td>aa129eef235656648de966982b812193</td>\n",
       "      <td>Camera + Thẻ 64gb</td>\n",
       "    </tr>\n",
       "    <tr>\n",
       "      <th>...</th>\n",
       "      <td>...</td>\n",
       "      <td>...</td>\n",
       "      <td>...</td>\n",
       "    </tr>\n",
       "    <tr>\n",
       "      <th>710</th>\n",
       "      <td>ff99ec373c515f2d93e9df9781f8e612</td>\n",
       "      <td>4fe72cb1224ba4dd8af3afa74f479211</td>\n",
       "      <td>02 Camera - Ổ Cứng 500gb</td>\n",
       "    </tr>\n",
       "    <tr>\n",
       "      <th>711</th>\n",
       "      <td>ffb548df2bf9f185325bf101c8ba5c3c</td>\n",
       "      <td>4fe72cb1224ba4dd8af3afa74f479211</td>\n",
       "      <td>Thẻ Nhớ 128gb</td>\n",
       "    </tr>\n",
       "    <tr>\n",
       "      <th>712</th>\n",
       "      <td>ffb56cbf3b1860a2fb268a35ea0136d4</td>\n",
       "      <td>63a4749010bbe32d8f7f28581a795e21</td>\n",
       "      <td>Clay White</td>\n",
       "    </tr>\n",
       "    <tr>\n",
       "      <th>713</th>\n",
       "      <td>ffdfa6e5e2c1e2ce7584ffb3a9f3264f</td>\n",
       "      <td>8cd0bfe827492f5bc74889c1638e0465</td>\n",
       "      <td>12.000 Btu - Cánh Đảo 35m2</td>\n",
       "    </tr>\n",
       "    <tr>\n",
       "      <th>714</th>\n",
       "      <td>ffe69b4572419883a38fc6d1f3c455c3</td>\n",
       "      <td>6b86d90c688d7e502fae444270022570</td>\n",
       "      <td>6gb/128gb</td>\n",
       "    </tr>\n",
       "  </tbody>\n",
       "</table>\n",
       "<p>715 rows × 3 columns</p>\n",
       "</div>"
      ],
      "text/plain": [
       "                                   id                      attribute_id  \\\n",
       "0    012006e7812a1c5dd091cfccb7ca1245  4fe72cb1224ba4dd8af3afa74f479211   \n",
       "1    021ea1c3bbc3ef01d9243ba0dcca5983  4fe72cb1224ba4dd8af3afa74f479211   \n",
       "2    0241ed995751cd7da1f19313470f1359  6b86d90c688d7e502fae444270022570   \n",
       "3    0313f6d47438fadbbb9a6521ed07390e  4fe72cb1224ba4dd8af3afa74f479211   \n",
       "4    0453dd57e211f2175c3a1aac6fce8fa8  aa129eef235656648de966982b812193   \n",
       "..                                ...                               ...   \n",
       "710  ff99ec373c515f2d93e9df9781f8e612  4fe72cb1224ba4dd8af3afa74f479211   \n",
       "711  ffb548df2bf9f185325bf101c8ba5c3c  4fe72cb1224ba4dd8af3afa74f479211   \n",
       "712  ffb56cbf3b1860a2fb268a35ea0136d4  63a4749010bbe32d8f7f28581a795e21   \n",
       "713  ffdfa6e5e2c1e2ce7584ffb3a9f3264f  8cd0bfe827492f5bc74889c1638e0465   \n",
       "714  ffe69b4572419883a38fc6d1f3c455c3  6b86d90c688d7e502fae444270022570   \n",
       "\n",
       "                          value  \n",
       "0                   Kèm Thẻ 32g  \n",
       "1                    Chỉ Camera  \n",
       "2                         128gb  \n",
       "3          Ranger Se + Thẻ 32gb  \n",
       "4             Camera + Thẻ 64gb  \n",
       "..                          ...  \n",
       "710    02 Camera - Ổ Cứng 500gb  \n",
       "711               Thẻ Nhớ 128gb  \n",
       "712                  Clay White  \n",
       "713  12.000 Btu - Cánh Đảo 35m2  \n",
       "714                   6gb/128gb  \n",
       "\n",
       "[715 rows x 3 columns]"
      ]
     },
     "execution_count": 388,
     "metadata": {},
     "output_type": "execute_result"
    }
   ],
   "source": [
    "attribute_value_df"
   ]
  },
  {
   "cell_type": "markdown",
   "id": "646b923d",
   "metadata": {},
   "source": [
    "Tạo từ điển `attribute_value_dict` để ánh xạ từ `giá trị thuộc tính` sang `id giá trị thuộc tính`"
   ]
  },
  {
   "cell_type": "code",
   "execution_count": 389,
   "id": "7d637afc",
   "metadata": {},
   "outputs": [],
   "source": [
    "attribute_value_dict = dict(zip(attribute_value_df['value'], attribute_value_df['id']))"
   ]
  },
  {
   "cell_type": "markdown",
   "id": "18e2b243",
   "metadata": {},
   "source": [
    "#### 3.4. Tạo dataframe `product`, `product_variant` và `attribute_variant`"
   ]
  },
  {
   "cell_type": "markdown",
   "id": "6af1bc4a",
   "metadata": {},
   "source": [
    "Chuẩn hóa câu có dấu về câu tiếng anh (để tạo SKU)"
   ]
  },
  {
   "cell_type": "code",
   "execution_count": 390,
   "id": "68f006dd",
   "metadata": {},
   "outputs": [],
   "source": [
    "def normalize_vietnamese_string(s: str):\n",
    "    vietnamese_chars = {\n",
    "        'à': 'a', 'á': 'a', 'ả': 'a', 'ã': 'a', 'ạ': 'a',\n",
    "        'ă': 'a', 'ằ': 'a', 'ắ': 'a', 'ẳ': 'a', 'ẵ': 'a', 'ặ': 'a',\n",
    "        'â': 'a', 'ầ': 'a', 'ấ': 'a', 'ẩ': 'a', 'ẫ': 'a', 'ậ': 'a',\n",
    "        'đ': 'd',\n",
    "        'è': 'e', 'é': 'e', 'ẻ': 'e', 'ẽ': 'e', 'ẹ': 'e',\n",
    "        'ê': 'e', 'ề': 'e', 'ế': 'e', 'ể': 'e', 'ễ': 'e', 'ệ': 'e',\n",
    "        'ì': 'i', 'í': 'i', 'ỉ': 'i', 'ĩ': 'i', 'ị': 'i',\n",
    "        'ò': 'o', 'ó': 'o', 'ỏ': 'o', 'õ': 'o', 'ọ': 'o',\n",
    "        'ô': 'o', 'ồ': 'o', 'ố': 'o', 'ổ': 'o', 'ỗ': 'o', 'ộ': 'o',\n",
    "        'ơ': 'o', 'ờ': 'o', 'ớ': 'o', 'ở': 'o', 'ỡ': 'o', 'ợ': 'o',\n",
    "        'ù': 'u', 'ú': 'u', 'ủ': 'u', 'ũ': 'u', 'ụ': 'u',\n",
    "        'ư': 'u', 'ừ': 'u', 'ứ': 'u', 'ử': 'u', 'ữ': 'u', 'ự': 'u',\n",
    "        'ỳ': 'y', 'ý': 'y', 'ỷ': 'y', 'ỹ': 'y', 'ỵ': 'y'\n",
    "    }\n",
    "\n",
    "    s = s.lower()\n",
    "\n",
    "    for vn_char, latin_char in vietnamese_chars.items():\n",
    "        s = s.replace(vn_char, latin_char)\n",
    "    \n",
    "    s = re.sub(r'[^a-z ]','', s)\n",
    "\n",
    "    return s"
   ]
  },
  {
   "cell_type": "markdown",
   "id": "a0a0a36e",
   "metadata": {},
   "source": [
    "Tạo mã SKU = 2 ký tự đầu của `thương hiệu` + ký tự đầu tiên của các từ của `danh mục` + mã biến thể"
   ]
  },
  {
   "cell_type": "code",
   "execution_count": 391,
   "id": "332d0d43",
   "metadata": {},
   "outputs": [],
   "source": [
    "def create_sku(brand, category, variant_id: str):\n",
    "    brand = normalize_vietnamese_string(brand)\n",
    "    category = normalize_vietnamese_string(category)\n",
    "\n",
    "    sku = f\"{brand[:2].upper()}-{''.join(map(lambda x: x[0].upper(), category.split()))}-{variant_id.upper()}\"\n",
    "\n",
    "    return sku"
   ]
  },
  {
   "cell_type": "markdown",
   "id": "9f2b8d85",
   "metadata": {},
   "source": [
    "Tạo giá nhập cho các biến thể"
   ]
  },
  {
   "cell_type": "code",
   "execution_count": 392,
   "id": "3ce597f7",
   "metadata": {},
   "outputs": [],
   "source": [
    "def create_original_price(price: float):\n",
    "    \n",
    "    mean = 0.8\n",
    "    std_dev = 0.05\n",
    "\n",
    "    original_price = price * random_generator.gauss(mean, std_dev)\n",
    "    original_price = max(original_price, price * 0.5)\n",
    "\n",
    "    return round(original_price)"
   ]
  },
  {
   "cell_type": "markdown",
   "id": "21e10604",
   "metadata": {},
   "source": [
    "Tạo từ điển `option_to_variant_id` để ánh xạ từ `phiên bản` sang `id của biến thể` (phục vụ tạo bảng `feedback` sau này)\n",
    "\n",
    "Tạo từ điển `old_product_id_to_new_product_id` để ánh xạ từ `id` của bảng sản phẩm cũ sang `id` của bảng sản phẩm mới"
   ]
  },
  {
   "cell_type": "code",
   "execution_count": 393,
   "id": "cd0b28e1",
   "metadata": {},
   "outputs": [],
   "source": [
    "option_to_variant_id = {}\n",
    "\n",
    "old_product_id_to_new_product_id = {}"
   ]
  },
  {
   "cell_type": "markdown",
   "id": "ec3c2c1f",
   "metadata": {},
   "source": [
    "Tạo đồng thời ba bảng `product`, `product_variant`, `attribute_variant`"
   ]
  },
  {
   "cell_type": "code",
   "execution_count": 394,
   "id": "148d9299",
   "metadata": {},
   "outputs": [
    {
     "name": "stderr",
     "output_type": "stream",
     "text": [
      "Processing products: 100%|\u001b[32m██████████\u001b[0m| 2636/2636 [00:01<00:00, 2472.25rows/s]\n"
     ]
    }
   ],
   "source": [
    "product_rows = []\n",
    "product_variant_rows = []\n",
    "attribute_variant_rows = []\n",
    "\n",
    "for index, row in tqdm(products.iterrows(), total=products.shape[0], desc=\"Processing products\", unit=\"rows\", colour=\"green\"):\n",
    "    versions = str(row['Phiên bản']).strip()\n",
    "\n",
    "    options = extract_options(versions)\n",
    "\n",
    "    category_id = category_dict[row['Danh mục']]\n",
    "\n",
    "    product_id = get_md5_hash(pd.Series({\n",
    "        'category_id': category_id,\n",
    "        'name': row['Tên sản phẩm'],\n",
    "        'description': row['Mô tả'],\n",
    "        'specification': row['Thông số kỹ thuật'],\n",
    "        'image_url': row['Hình ảnh'],\n",
    "        'brand': row['Thương hiệu'],\n",
    "    }))\n",
    "\n",
    "\n",
    "    product_rows.append({\n",
    "        'id': product_id,\n",
    "        'category_id': category_id,\n",
    "        'name': row['Tên sản phẩm'],\n",
    "        'description': row['Mô tả'],\n",
    "        'specification': row['Thông số kỹ thuật'],\n",
    "        'image_url': row['Hình ảnh'],\n",
    "        'brand': row['Thương hiệu'],\n",
    "    })\n",
    "    \n",
    "    \n",
    "    for option in options:\n",
    "        \n",
    "        stock_quantity = random_generator.randint(0, 120)\n",
    "        \n",
    "        price = option['price']\n",
    "\n",
    "        original_price = create_original_price(price)\n",
    "\n",
    "        profit = price - original_price\n",
    "\n",
    "        sku = create_sku(row['Thương hiệu'], row['Danh mục'], product_id[0:4])\n",
    "\n",
    "        sold_quantity = random_generator.randint(stock_quantity // 2, stock_quantity) if stock_quantity >  10 else 0\n",
    "\n",
    "        product_variant_id = get_md5_hash(pd.Series({\n",
    "            'product_id': product_id,\n",
    "            'price': price,\n",
    "            'original_price': original_price,\n",
    "            'profit': profit,\n",
    "            'sku': sku,\n",
    "            'stock_quantity': stock_quantity,\n",
    "            'sold_quantity': sold_quantity,\n",
    "        }))\n",
    "\n",
    "        product_variant_rows.append({\n",
    "            'id': product_variant_id,\n",
    "            'product_id': product_id,\n",
    "            'price': price,\n",
    "            'original_price': original_price,\n",
    "            'profit': profit,\n",
    "            'sku': sku,\n",
    "            'stock_quantity': stock_quantity,\n",
    "            'sold_quantity': sold_quantity,\n",
    "        })\n",
    "\n",
    "        for attr, val in zip(option['attrs'], option['values']):\n",
    "            attribute_value_id = attribute_value_dict[val]\n",
    "            attrirbute_id = attribute_dict[attr]\n",
    "\n",
    "            attribute_variant_rows.append({\n",
    "                'product_variant_id': product_variant_id,\n",
    "                'attribute_id': attrirbute_id,\n",
    "                'attribute_value_id': attribute_value_id,\n",
    "            })\n",
    "\n",
    "        key = (\n",
    "            int(row['Id']),\n",
    "            tuple(sorted(zip(option['attrs'], option['values']))),\n",
    "        )\n",
    "\n",
    "        option_to_variant_id[key] = product_variant_id\n",
    "\n",
    "        old_product_id_to_new_product_id[int(row['Id'])] = product_id\n",
    "\n",
    "\n",
    "product_df = pd.DataFrame(product_rows)\n",
    "product_variant_df = pd.DataFrame(product_variant_rows)\n",
    "attribute_variant_df = pd.DataFrame(attribute_variant_rows)\n",
    "\n",
    "product_df.sort_values(by='id', inplace=True)\n",
    "product_df.reset_index(drop=True, inplace=True)\n",
    "\n",
    "product_variant_df.sort_values(by='id', inplace=True)\n",
    "product_variant_df.reset_index(drop=True, inplace=True)\n",
    "\n",
    "\n",
    "attribute_variant_df['hash'] = attribute_variant_df.apply(get_md5_hash, axis=1)\n",
    "attribute_variant_df.sort_values(by='product_variant_id', inplace=True)\n",
    "attribute_variant_df.reset_index(drop=True, inplace=True)"
   ]
  },
  {
   "cell_type": "code",
   "execution_count": 395,
   "id": "d5c05dc0",
   "metadata": {},
   "outputs": [
    {
     "data": {
      "text/html": [
       "<div>\n",
       "<style scoped>\n",
       "    .dataframe tbody tr th:only-of-type {\n",
       "        vertical-align: middle;\n",
       "    }\n",
       "\n",
       "    .dataframe tbody tr th {\n",
       "        vertical-align: top;\n",
       "    }\n",
       "\n",
       "    .dataframe thead th {\n",
       "        text-align: right;\n",
       "    }\n",
       "</style>\n",
       "<table border=\"1\" class=\"dataframe\">\n",
       "  <thead>\n",
       "    <tr style=\"text-align: right;\">\n",
       "      <th></th>\n",
       "      <th>id</th>\n",
       "      <th>product_id</th>\n",
       "      <th>price</th>\n",
       "      <th>original_price</th>\n",
       "      <th>profit</th>\n",
       "      <th>sku</th>\n",
       "      <th>stock_quantity</th>\n",
       "      <th>sold_quantity</th>\n",
       "    </tr>\n",
       "  </thead>\n",
       "  <tbody>\n",
       "    <tr>\n",
       "      <th>0</th>\n",
       "      <td>000d22bec31317e05173222cfcdc1c03</td>\n",
       "      <td>99cd373839bfeaee532a2b9e03f21d70</td>\n",
       "      <td>18480000</td>\n",
       "      <td>15144255</td>\n",
       "      <td>3335745</td>\n",
       "      <td>HP-LTT-99CD</td>\n",
       "      <td>36</td>\n",
       "      <td>32</td>\n",
       "    </tr>\n",
       "    <tr>\n",
       "      <th>1</th>\n",
       "      <td>003e617ec1fa42ac1ec2e1c0c4314990</td>\n",
       "      <td>c316995c4eaf98384a2612c5d5728d43</td>\n",
       "      <td>3500000</td>\n",
       "      <td>2911435</td>\n",
       "      <td>588565</td>\n",
       "      <td>VN-TMCS-C316</td>\n",
       "      <td>35</td>\n",
       "      <td>20</td>\n",
       "    </tr>\n",
       "    <tr>\n",
       "      <th>2</th>\n",
       "      <td>004045127afba47047a255133e550906</td>\n",
       "      <td>1c77c1d134e4618d42be3109ac1834b3</td>\n",
       "      <td>421950</td>\n",
       "      <td>339972</td>\n",
       "      <td>81978</td>\n",
       "      <td>YO-CICW-1C77</td>\n",
       "      <td>101</td>\n",
       "      <td>87</td>\n",
       "    </tr>\n",
       "    <tr>\n",
       "      <th>3</th>\n",
       "      <td>0050688672b412542524d62c6344eb38</td>\n",
       "      <td>9236a314809abd5b6b140c562d80fd47</td>\n",
       "      <td>665216</td>\n",
       "      <td>557376</td>\n",
       "      <td>107840</td>\n",
       "      <td>EZ-CICW-9236</td>\n",
       "      <td>77</td>\n",
       "      <td>63</td>\n",
       "    </tr>\n",
       "    <tr>\n",
       "      <th>4</th>\n",
       "      <td>005fc6a1532b0894099cf219c80aa321</td>\n",
       "      <td>850c0147985e6cfc030945a8d7c89cbd</td>\n",
       "      <td>5499000</td>\n",
       "      <td>3992512</td>\n",
       "      <td>1506488</td>\n",
       "      <td>SA-DTS-850C</td>\n",
       "      <td>52</td>\n",
       "      <td>26</td>\n",
       "    </tr>\n",
       "  </tbody>\n",
       "</table>\n",
       "</div>"
      ],
      "text/plain": [
       "                                 id                        product_id  \\\n",
       "0  000d22bec31317e05173222cfcdc1c03  99cd373839bfeaee532a2b9e03f21d70   \n",
       "1  003e617ec1fa42ac1ec2e1c0c4314990  c316995c4eaf98384a2612c5d5728d43   \n",
       "2  004045127afba47047a255133e550906  1c77c1d134e4618d42be3109ac1834b3   \n",
       "3  0050688672b412542524d62c6344eb38  9236a314809abd5b6b140c562d80fd47   \n",
       "4  005fc6a1532b0894099cf219c80aa321  850c0147985e6cfc030945a8d7c89cbd   \n",
       "\n",
       "      price  original_price   profit           sku  stock_quantity  \\\n",
       "0  18480000        15144255  3335745   HP-LTT-99CD              36   \n",
       "1   3500000         2911435   588565  VN-TMCS-C316              35   \n",
       "2    421950          339972    81978  YO-CICW-1C77             101   \n",
       "3    665216          557376   107840  EZ-CICW-9236              77   \n",
       "4   5499000         3992512  1506488   SA-DTS-850C              52   \n",
       "\n",
       "   sold_quantity  \n",
       "0             32  \n",
       "1             20  \n",
       "2             87  \n",
       "3             63  \n",
       "4             26  "
      ]
     },
     "execution_count": 395,
     "metadata": {},
     "output_type": "execute_result"
    }
   ],
   "source": [
    "product_variant_df.head()"
   ]
  },
  {
   "cell_type": "markdown",
   "id": "eb2bfb1d",
   "metadata": {},
   "source": [
    "# II. Xử lý phản hồi của người dùng về sản phẩm và phản hồi của nhân viên hỗ trợ khách hàng"
   ]
  },
  {
   "cell_type": "markdown",
   "id": "e0c25237",
   "metadata": {},
   "source": [
    "### 1. Tạo dataframe `feeback` (id, customer_id, product_id, product_variant_id, rating, comment, created_at)"
   ]
  },
  {
   "cell_type": "markdown",
   "id": "97ed9791",
   "metadata": {},
   "source": [
    "#### 1.1. Tiền xử lý"
   ]
  },
  {
   "cell_type": "code",
   "execution_count": 396,
   "id": "59dd1106",
   "metadata": {},
   "outputs": [
    {
     "name": "stdout",
     "output_type": "stream",
     "text": [
      "Remove 45/414 duplicates\n",
      "Remove 182/597 duplicates\n",
      "Remove 0/23 duplicates\n",
      "Remove 0/14 duplicates\n",
      "Remove 0/204 duplicates\n",
      "Remove 0/52 duplicates\n",
      "Remove 0/2 duplicates\n",
      "Remove 15/112 duplicates\n",
      "Remove 0/107 duplicates\n",
      "Remove 30/90 duplicates\n",
      "Remove 0/283 duplicates\n",
      "Remove 0/308 duplicates\n",
      "Remove 0/0 duplicates\n"
     ]
    }
   ],
   "source": [
    "feedback_file_name = {\n",
    "    'camera_fb': 'camera_fb.csv',\n",
    "    'dienthoai_fb': 'dienthoai_fb.csv',\n",
    "    'mayban_fb': 'dienthoaiban_fb.csv',\n",
    "    'cucgach_fb': 'dienthoaiphothong_fb.csv',\n",
    "    'dieuhoa_fb': 'dieuhoa_fb.csv',\n",
    "    'laptop_fb': 'laptop_fb.csv',\n",
    "    'mayanh_fb': 'mayanh_fb.csv',\n",
    "    'maydocsach_fb': 'maydocsach_fb.csv',\n",
    "    'maygiat_fb': 'maygiat_fb.csv',\n",
    "    'maytinhbang_fb': 'maytinhbang_fb.csv',\n",
    "    'tivi_fb': 'tivi_fb.csv',\n",
    "    'tulanh_fb': 'tulanh_fb.csv',\n",
    "    'pc_fb': 'maytinhdeban_fb.csv',\n",
    "}\n",
    "\n",
    "feedback_dataframes = {\n",
    "    name: pd.read_csv(f'./rawData/feedback/{filename}', encoding='utf-8')\n",
    "    for name, filename in feedback_file_name.items()\n",
    "}\n",
    "\n",
    "feedback_dataframes = {\n",
    "    name: remove_duplicates(df)\n",
    "    for name, df in feedback_dataframes.items()\n",
    "}"
   ]
  },
  {
   "cell_type": "markdown",
   "id": "d9cc53df",
   "metadata": {},
   "source": [
    "Gộp các feedback thành 1 dataframe duy nhất"
   ]
  },
  {
   "cell_type": "code",
   "execution_count": 397,
   "id": "f16a5bd9",
   "metadata": {},
   "outputs": [],
   "source": [
    "feedbacks = pd.concat([\n",
    "    df for df in feedback_dataframes.values()\n",
    "], ignore_index=True)"
   ]
  },
  {
   "cell_type": "code",
   "execution_count": 398,
   "id": "282d8391",
   "metadata": {},
   "outputs": [
    {
     "data": {
      "text/html": [
       "<div>\n",
       "<style scoped>\n",
       "    .dataframe tbody tr th:only-of-type {\n",
       "        vertical-align: middle;\n",
       "    }\n",
       "\n",
       "    .dataframe tbody tr th {\n",
       "        vertical-align: top;\n",
       "    }\n",
       "\n",
       "    .dataframe thead th {\n",
       "        text-align: right;\n",
       "    }\n",
       "</style>\n",
       "<table border=\"1\" class=\"dataframe\">\n",
       "  <thead>\n",
       "    <tr style=\"text-align: right;\">\n",
       "      <th></th>\n",
       "      <th>feedback_id</th>\n",
       "      <th>product_id</th>\n",
       "      <th>customer_id</th>\n",
       "      <th>rating</th>\n",
       "      <th>content</th>\n",
       "      <th>time</th>\n",
       "      <th>variant</th>\n",
       "      <th>image_url</th>\n",
       "    </tr>\n",
       "  </thead>\n",
       "  <tbody>\n",
       "    <tr>\n",
       "      <th>0</th>\n",
       "      <td>5278285</td>\n",
       "      <td>47868431</td>\n",
       "      <td>17145651</td>\n",
       "      <td>5</td>\n",
       "      <td>Đã mua gói hàng rất cẩn thận cảm thấy hài lòng...</td>\n",
       "      <td>2020-10-19 13:34:13</td>\n",
       "      <td>NaN</td>\n",
       "      <td>https://salt.tikicdn.com/ts/review/83/90/16/ac...</td>\n",
       "    </tr>\n",
       "    <tr>\n",
       "      <th>1</th>\n",
       "      <td>5397823</td>\n",
       "      <td>47868431</td>\n",
       "      <td>12180385</td>\n",
       "      <td>5</td>\n",
       "      <td>Sản phẩm dễ cài đặt, nhiều tính năng, độ phân ...</td>\n",
       "      <td>2020-10-29 15:35:34</td>\n",
       "      <td>NaN</td>\n",
       "      <td>https://salt.tikicdn.com/ts/review/9d/f9/73/53...</td>\n",
       "    </tr>\n",
       "    <tr>\n",
       "      <th>2</th>\n",
       "      <td>5437697</td>\n",
       "      <td>47868431</td>\n",
       "      <td>11096412</td>\n",
       "      <td>5</td>\n",
       "      <td>hình rõ, app trên Android lẫn iOS chưa ổn định...</td>\n",
       "      <td>2020-11-02 11:23:52</td>\n",
       "      <td>NaN</td>\n",
       "      <td>https://salt.tikicdn.com/ts/review/18/88/78/84...</td>\n",
       "    </tr>\n",
       "    <tr>\n",
       "      <th>3</th>\n",
       "      <td>20089032</td>\n",
       "      <td>47868431</td>\n",
       "      <td>9883981</td>\n",
       "      <td>5</td>\n",
       "      <td>NaN</td>\n",
       "      <td>2025-02-28 21:09:02</td>\n",
       "      <td>NaN</td>\n",
       "      <td>NaN</td>\n",
       "    </tr>\n",
       "    <tr>\n",
       "      <th>4</th>\n",
       "      <td>5950422</td>\n",
       "      <td>47868431</td>\n",
       "      <td>709976</td>\n",
       "      <td>5</td>\n",
       "      <td>giá rẻ, chất lượng tốtgiá rẻ, chất lượng tốtgi...</td>\n",
       "      <td>2020-12-04 23:53:11</td>\n",
       "      <td>NaN</td>\n",
       "      <td>NaN</td>\n",
       "    </tr>\n",
       "  </tbody>\n",
       "</table>\n",
       "</div>"
      ],
      "text/plain": [
       "  feedback_id product_id customer_id rating  \\\n",
       "0     5278285   47868431    17145651      5   \n",
       "1     5397823   47868431    12180385      5   \n",
       "2     5437697   47868431    11096412      5   \n",
       "3    20089032   47868431     9883981      5   \n",
       "4     5950422   47868431      709976      5   \n",
       "\n",
       "                                             content                 time  \\\n",
       "0  Đã mua gói hàng rất cẩn thận cảm thấy hài lòng...  2020-10-19 13:34:13   \n",
       "1  Sản phẩm dễ cài đặt, nhiều tính năng, độ phân ...  2020-10-29 15:35:34   \n",
       "2  hình rõ, app trên Android lẫn iOS chưa ổn định...  2020-11-02 11:23:52   \n",
       "3                                                NaN  2025-02-28 21:09:02   \n",
       "4  giá rẻ, chất lượng tốtgiá rẻ, chất lượng tốtgi...  2020-12-04 23:53:11   \n",
       "\n",
       "  variant                                          image_url  \n",
       "0     NaN  https://salt.tikicdn.com/ts/review/83/90/16/ac...  \n",
       "1     NaN  https://salt.tikicdn.com/ts/review/9d/f9/73/53...  \n",
       "2     NaN  https://salt.tikicdn.com/ts/review/18/88/78/84...  \n",
       "3     NaN                                                NaN  \n",
       "4     NaN                                                NaN  "
      ]
     },
     "execution_count": 398,
     "metadata": {},
     "output_type": "execute_result"
    }
   ],
   "source": [
    "feedbacks.head()"
   ]
  },
  {
   "cell_type": "markdown",
   "id": "8ae89883",
   "metadata": {},
   "source": [
    "#### 1.2. Tạo dataframe"
   ]
  },
  {
   "cell_type": "markdown",
   "id": "8fda8392",
   "metadata": {},
   "source": [
    "Khởi tạo hàm `extract_version_to_variant_id` để lấy `id biến thể` khi biết `phiên bản`"
   ]
  },
  {
   "cell_type": "code",
   "execution_count": 399,
   "id": "9bdfdc90",
   "metadata": {},
   "outputs": [],
   "source": [
    "def mapping_option_to_variant_id(product_id: str, option: str):\n",
    "    if pd.isna(option) or option == '' or option == 'nan':\n",
    "        return None\n",
    "    \n",
    "    attributes = option.split('$$')\n",
    "    attrs, values = [], []\n",
    "\n",
    "    for pair in attributes:\n",
    "        attr_value = pair.split(':')\n",
    "        attr, value = attr_value[0].strip().lower(), attr_value[-1].strip().lower()\n",
    "\n",
    "        attr = rename_attribute(attr, value)\n",
    "        value = toPascalCase(value)\n",
    "\n",
    "        attrs.append(attr)\n",
    "        values.append(value)\n",
    "\n",
    "    key = (\n",
    "        product_id,\n",
    "        tuple(sorted(zip(attrs, values))),\n",
    "    )\n",
    "\n",
    "    return option_to_variant_id.get(key, None)"
   ]
  },
  {
   "cell_type": "code",
   "execution_count": 400,
   "id": "0d05bebc",
   "metadata": {},
   "outputs": [],
   "source": [
    "def mapping_old_product_id_to_new_product_id(old_product_id: str):\n",
    "    return old_product_id_to_new_product_id.get(old_product_id, None)"
   ]
  },
  {
   "cell_type": "code",
   "execution_count": 401,
   "id": "6d9a6141",
   "metadata": {},
   "outputs": [],
   "source": [
    "def random_date(start_date: str, end_date: str = FIXED_CURRENT_DATE_AND_TIME):\n",
    "    try:\n",
    "        start_date = datetime.strptime(start_date, '%Y-%m-%d')\n",
    "    except ValueError:\n",
    "        start_date = datetime.strptime(start_date, '%Y-%m-%d %H:%M:%S')\n",
    "\n",
    "    try:        \n",
    "        end_date = datetime.strptime(end_date, '%Y-%m-%d')\n",
    "    except ValueError:\n",
    "        end_date = datetime.strptime(end_date, '%Y-%m-%d %H:%M:%S')\n",
    "\n",
    "\n",
    "    delta = end_date - start_date\n",
    "    random_days = random_generator.randint(0, delta.days)\n",
    "    random_date = start_date + timedelta(days=random_days)\n",
    "\n",
    "    return random_date.strftime('%Y-%m-%d %H:%M:%S')"
   ]
  },
  {
   "cell_type": "markdown",
   "id": "1cc20014",
   "metadata": {},
   "source": [
    "Lấy id khách hàng (`customer_id`) và ngày tạo tài khoản (`created_at`) của các khách hàng với điều kiện tài khoản đó không bị cấm bởi hệ thống"
   ]
  },
  {
   "cell_type": "code",
   "execution_count": 402,
   "id": "f940ef6e",
   "metadata": {},
   "outputs": [],
   "source": [
    "conn = get_db_connection(DB_NAME)\n",
    "cursor = conn.cursor()"
   ]
  },
  {
   "cell_type": "code",
   "execution_count": 403,
   "id": "97531e4c",
   "metadata": {},
   "outputs": [
    {
     "name": "stderr",
     "output_type": "stream",
     "text": [
      "C:\\Users\\ADMIN\\AppData\\Local\\Temp\\ipykernel_3232\\1216583135.py:1: UserWarning: pandas only supports SQLAlchemy connectable (engine/connection) or database string URI or sqlite3 DBAPI2 connection. Other DBAPI2 objects are not tested. Please consider using SQLAlchemy.\n",
      "  customer_df = pd.read_sql_query(\"\"\"\n"
     ]
    },
    {
     "data": {
      "text/html": [
       "<div>\n",
       "<style scoped>\n",
       "    .dataframe tbody tr th:only-of-type {\n",
       "        vertical-align: middle;\n",
       "    }\n",
       "\n",
       "    .dataframe tbody tr th {\n",
       "        vertical-align: top;\n",
       "    }\n",
       "\n",
       "    .dataframe thead th {\n",
       "        text-align: right;\n",
       "    }\n",
       "</style>\n",
       "<table border=\"1\" class=\"dataframe\">\n",
       "  <thead>\n",
       "    <tr style=\"text-align: right;\">\n",
       "      <th></th>\n",
       "      <th>id</th>\n",
       "      <th>created_at</th>\n",
       "      <th>address</th>\n",
       "    </tr>\n",
       "  </thead>\n",
       "  <tbody>\n",
       "    <tr>\n",
       "      <th>0</th>\n",
       "      <td>0</td>\n",
       "      <td>2023-12-19</td>\n",
       "      <td>Phường Phong Hải, Thị xã Quảng Yên, Tỉnh Quảng...</td>\n",
       "    </tr>\n",
       "    <tr>\n",
       "      <th>1</th>\n",
       "      <td>1</td>\n",
       "      <td>2023-09-08</td>\n",
       "      <td>Xã Thạnh Bắc, Huyện Tân Biên, Tỉnh Tây Ninh</td>\n",
       "    </tr>\n",
       "    <tr>\n",
       "      <th>2</th>\n",
       "      <td>2</td>\n",
       "      <td>2024-02-13</td>\n",
       "      <td>Xã Thanh Xuân, Huyện Thanh Hà, Tỉnh Hải Dương</td>\n",
       "    </tr>\n",
       "    <tr>\n",
       "      <th>3</th>\n",
       "      <td>3</td>\n",
       "      <td>2025-01-09</td>\n",
       "      <td>Xã Tân Cương, Thành phố Thái Nguyên, Tỉnh Thái...</td>\n",
       "    </tr>\n",
       "    <tr>\n",
       "      <th>4</th>\n",
       "      <td>4</td>\n",
       "      <td>2025-01-10</td>\n",
       "      <td>Xã Tân Nghĩa, Huyện Cao Lãnh, Tỉnh Đồng Tháp</td>\n",
       "    </tr>\n",
       "  </tbody>\n",
       "</table>\n",
       "</div>"
      ],
      "text/plain": [
       "   id created_at                                            address\n",
       "0   0 2023-12-19  Phường Phong Hải, Thị xã Quảng Yên, Tỉnh Quảng...\n",
       "1   1 2023-09-08        Xã Thạnh Bắc, Huyện Tân Biên, Tỉnh Tây Ninh\n",
       "2   2 2024-02-13      Xã Thanh Xuân, Huyện Thanh Hà, Tỉnh Hải Dương\n",
       "3   3 2025-01-09  Xã Tân Cương, Thành phố Thái Nguyên, Tỉnh Thái...\n",
       "4   4 2025-01-10       Xã Tân Nghĩa, Huyện Cao Lãnh, Tỉnh Đồng Tháp"
      ]
     },
     "execution_count": 403,
     "metadata": {},
     "output_type": "execute_result"
    }
   ],
   "source": [
    "customer_df = pd.read_sql_query(\"\"\"\n",
    "    SELECT c.id, a.created_at, c.address\n",
    "    FROM customer as c\n",
    "    JOIN account as a\n",
    "    ON c.account_id = a.id\n",
    "    WHERE a.status != 'banned'\n",
    "    ORDER BY c.id, a.created_at, c.address;\n",
    "\"\"\", conn)\n",
    "\n",
    "customer_df.head()"
   ]
  },
  {
   "cell_type": "markdown",
   "id": "30fee15c",
   "metadata": {},
   "source": [
    "Lấy ngẫu nhiên khách hàng để gán cho feedback"
   ]
  },
  {
   "cell_type": "code",
   "execution_count": 404,
   "id": "f2d3345f",
   "metadata": {},
   "outputs": [],
   "source": [
    "num_of_feedbacks = feedbacks.shape[0]\n",
    "\n",
    "customer_df = customer_df.sort_values('id').reset_index(drop=True)\n",
    "\n",
    "feedbacks = feedbacks.sort_values('feedback_id').reset_index(drop=True)\n",
    "\n",
    "\n",
    "customer_sample = customer_df.sample(num_of_feedbacks, random_state=RANDOM_SEED)\n",
    "customer_sample.reset_index(drop=True, inplace=True)\n",
    "\n",
    "customer_ids_sample = customer_sample['id'].tolist()\n",
    "account_created_at_sample = list(map(\n",
    "    lambda x: x.strftime('%Y-%m-%d'), \n",
    "    customer_sample['created_at'].tolist()\n",
    "    ))"
   ]
  },
  {
   "cell_type": "markdown",
   "id": "f79b72b9",
   "metadata": {},
   "source": [
    "Tạo từ điển `old_customer_id_to_new_customer_id`, ánh xạ từ customer_id cũ sang customer_id mới."
   ]
  },
  {
   "cell_type": "code",
   "execution_count": 405,
   "id": "5ad8ad9b",
   "metadata": {},
   "outputs": [],
   "source": [
    "old_customer_id_to_new_customer_id = {}"
   ]
  },
  {
   "cell_type": "markdown",
   "id": "6c074754",
   "metadata": {},
   "source": [
    "Tạo từ điển `old_feedback_id_to_feedback` để ánh xạ từ `phiên bản` sang `id của biến thể` (phục vụ tạo bảng `feedback_manager` sau này)"
   ]
  },
  {
   "cell_type": "code",
   "execution_count": 406,
   "id": "8696af83",
   "metadata": {},
   "outputs": [],
   "source": [
    "old_feedback_id_to_feedback = {}"
   ]
  },
  {
   "cell_type": "markdown",
   "id": "32e71dfb",
   "metadata": {},
   "source": [
    "Tạo dataframe `feeback` (id, customer_id, product_id, product_variant_id, rating, comment, created_at)"
   ]
  },
  {
   "cell_type": "code",
   "execution_count": 407,
   "id": "4c6b162a",
   "metadata": {},
   "outputs": [
    {
     "name": "stderr",
     "output_type": "stream",
     "text": [
      "Processing feedbacks: 100%|\u001b[32m██████████\u001b[0m| 1934/1934 [00:00<00:00, 2880.08rows/s]\n"
     ]
    }
   ],
   "source": [
    "feedback_rows = []\n",
    "\n",
    "\n",
    "for index, row in tqdm(feedbacks.iterrows(), total=feedbacks.shape[0], desc='Processing feedbacks', unit=\"rows\", colour='green'):\n",
    "\n",
    "    customer_id = old_customer_id_to_new_customer_id.get(\n",
    "        row['customer_id'], random_generator.choice(customer_ids_sample)\n",
    "    )\n",
    "    \n",
    "    old_customer_id_to_new_customer_id.setdefault(row['customer_id'], customer_id)\n",
    "\n",
    "    product_id = mapping_old_product_id_to_new_product_id(row['product_id'])\n",
    "\n",
    "    variant_id = mapping_option_to_variant_id(row['product_id'], row['variant'])\n",
    "\n",
    "    rating = row['rating']\n",
    "\n",
    "    comment = row['content']\n",
    "\n",
    "    created_at = random_date(\n",
    "        random_generator.choice(account_created_at_sample), \n",
    "    )\n",
    "\n",
    "    id = get_md5_hash(pd.Series({\n",
    "        'customer_id': customer_id,\n",
    "        'product_id': product_id,\n",
    "        'product_variant_id': variant_id,\n",
    "        'rating': rating,\n",
    "        'comment': comment,\n",
    "        'created_at': created_at,\n",
    "    }))\n",
    "\n",
    "    feedback_row = {\n",
    "        'id': id,\n",
    "        'customer_id': customer_id,\n",
    "        'product_id': product_id,\n",
    "        'product_variant_id': variant_id,\n",
    "        'rating': rating,\n",
    "        'comment': comment,\n",
    "        'created_at': created_at,\n",
    "    }\n",
    "\n",
    "    feedback_rows.append(feedback_row)\n",
    "\n",
    "    old_feedback_id_to_feedback.setdefault(row['feedback_id'], feedback_row)\n",
    "\n",
    "feedback_df = pd.DataFrame(feedback_rows)\n",
    "\n",
    "feedback_df.sort_values(by='id', inplace=True)\n",
    "feedback_df.reset_index(drop=True, inplace=True)"
   ]
  },
  {
   "cell_type": "code",
   "execution_count": 408,
   "id": "5c26f3b6",
   "metadata": {},
   "outputs": [
    {
     "data": {
      "text/html": [
       "<div>\n",
       "<style scoped>\n",
       "    .dataframe tbody tr th:only-of-type {\n",
       "        vertical-align: middle;\n",
       "    }\n",
       "\n",
       "    .dataframe tbody tr th {\n",
       "        vertical-align: top;\n",
       "    }\n",
       "\n",
       "    .dataframe thead th {\n",
       "        text-align: right;\n",
       "    }\n",
       "</style>\n",
       "<table border=\"1\" class=\"dataframe\">\n",
       "  <thead>\n",
       "    <tr style=\"text-align: right;\">\n",
       "      <th></th>\n",
       "      <th>id</th>\n",
       "      <th>customer_id</th>\n",
       "      <th>product_id</th>\n",
       "      <th>product_variant_id</th>\n",
       "      <th>rating</th>\n",
       "      <th>comment</th>\n",
       "      <th>created_at</th>\n",
       "    </tr>\n",
       "  </thead>\n",
       "  <tbody>\n",
       "    <tr>\n",
       "      <th>0</th>\n",
       "      <td>006fceeb5fc79cd47a7456c49b07a124</td>\n",
       "      <td>47241</td>\n",
       "      <td>29cd0d2c9db3d1ec5c87be5faa34de5a</td>\n",
       "      <td>None</td>\n",
       "      <td>5</td>\n",
       "      <td>tủ rất to đẹp đựng đồ thoải mái , Tiki giao hà...</td>\n",
       "      <td>2024-08-14 00:00:00</td>\n",
       "    </tr>\n",
       "    <tr>\n",
       "      <th>1</th>\n",
       "      <td>00817c0a461096763cf522ee19c038b4</td>\n",
       "      <td>252692</td>\n",
       "      <td>51c5b0c1b508b980fd291be0ec5af6e3</td>\n",
       "      <td>None</td>\n",
       "      <td>5</td>\n",
       "      <td>Máy mới nhất nên k có gì để chê, có thể điều ...</td>\n",
       "      <td>2025-05-25 00:00:00</td>\n",
       "    </tr>\n",
       "    <tr>\n",
       "      <th>2</th>\n",
       "      <td>00b4145abdd8e74513dd32ec696a2fba</td>\n",
       "      <td>383840</td>\n",
       "      <td>006057a8556abec477f37b3c6dd09e97</td>\n",
       "      <td>None</td>\n",
       "      <td>5</td>\n",
       "      <td>NaN</td>\n",
       "      <td>2024-05-27 00:00:00</td>\n",
       "    </tr>\n",
       "    <tr>\n",
       "      <th>3</th>\n",
       "      <td>00c28518bd7ede4318534b23d53dbfb0</td>\n",
       "      <td>413985</td>\n",
       "      <td>774b7b3b3f2ce4329dea2984e9647539</td>\n",
       "      <td>None</td>\n",
       "      <td>5</td>\n",
       "      <td>Tủ tốt như quảng cáo !!</td>\n",
       "      <td>2025-04-13 00:00:00</td>\n",
       "    </tr>\n",
       "    <tr>\n",
       "      <th>4</th>\n",
       "      <td>00d11bd1c0250dfa966222263f76bf31</td>\n",
       "      <td>388144</td>\n",
       "      <td>e59b3c0c11f3b16a49fc168a8be199b0</td>\n",
       "      <td>None</td>\n",
       "      <td>5</td>\n",
       "      <td>NaN</td>\n",
       "      <td>2025-06-14 00:00:00</td>\n",
       "    </tr>\n",
       "  </tbody>\n",
       "</table>\n",
       "</div>"
      ],
      "text/plain": [
       "                                 id  customer_id  \\\n",
       "0  006fceeb5fc79cd47a7456c49b07a124        47241   \n",
       "1  00817c0a461096763cf522ee19c038b4       252692   \n",
       "2  00b4145abdd8e74513dd32ec696a2fba       383840   \n",
       "3  00c28518bd7ede4318534b23d53dbfb0       413985   \n",
       "4  00d11bd1c0250dfa966222263f76bf31       388144   \n",
       "\n",
       "                         product_id product_variant_id  rating  \\\n",
       "0  29cd0d2c9db3d1ec5c87be5faa34de5a               None       5   \n",
       "1  51c5b0c1b508b980fd291be0ec5af6e3               None       5   \n",
       "2  006057a8556abec477f37b3c6dd09e97               None       5   \n",
       "3  774b7b3b3f2ce4329dea2984e9647539               None       5   \n",
       "4  e59b3c0c11f3b16a49fc168a8be199b0               None       5   \n",
       "\n",
       "                                             comment           created_at  \n",
       "0  tủ rất to đẹp đựng đồ thoải mái , Tiki giao hà...  2024-08-14 00:00:00  \n",
       "1  Máy mới nhất nên k có gì để chê, có thể điều ...  2025-05-25 00:00:00  \n",
       "2                                                NaN  2024-05-27 00:00:00  \n",
       "3                            Tủ tốt như quảng cáo !!  2025-04-13 00:00:00  \n",
       "4                                                NaN  2025-06-14 00:00:00  "
      ]
     },
     "execution_count": 408,
     "metadata": {},
     "output_type": "execute_result"
    }
   ],
   "source": [
    "feedback_df.head()"
   ]
  },
  {
   "cell_type": "markdown",
   "id": "b976fefb",
   "metadata": {},
   "source": [
    "### 2. Tạo dataframe `feeback_response` (id, manager_id, feedback_id, content, created_at)"
   ]
  },
  {
   "cell_type": "markdown",
   "id": "461db00a",
   "metadata": {},
   "source": [
    "#### 2.1. Tiền xử lý"
   ]
  },
  {
   "cell_type": "code",
   "execution_count": 409,
   "id": "46bb1033",
   "metadata": {},
   "outputs": [
    {
     "name": "stdout",
     "output_type": "stream",
     "text": [
      "Remove 2/89 duplicates\n",
      "Remove 120/434 duplicates\n",
      "Remove 0/1 duplicates\n",
      "Remove 0/14 duplicates\n",
      "Remove 0/0 duplicates\n",
      "Remove 0/6 duplicates\n",
      "Remove 0/1 duplicates\n",
      "Remove 0/53 duplicates\n",
      "Remove 0/5 duplicates\n",
      "Remove 26/64 duplicates\n",
      "Remove 0/0 duplicates\n",
      "Remove 0/27 duplicates\n",
      "Remove 0/3 duplicates\n"
     ]
    }
   ],
   "source": [
    "feedback_response_file_name = {\n",
    "    'camera_response': 'camera_fb_ma.csv',\n",
    "    'dienthoai_response': 'dienthoai_fb_ma.csv',\n",
    "    'mayban_response': 'dienthoaiban_fb_ma.csv',\n",
    "    'cucgach_response': 'dienthoaiphothong_fb_ma.csv',\n",
    "    'dieuhoa_response': 'dieuhoa_fb_ma.csv',\n",
    "    'laptop_response': 'laptop_fb_ma.csv',\n",
    "    'mayanh_response': 'mayanh_fb_ma.csv',\n",
    "    'maydocsach_response': 'maydocsach_fb_ma.csv',\n",
    "    'maygiat_response': 'maygiat_fb_ma.csv',\n",
    "    'maytinhbang_response': 'maytinhbang_fb_ma.csv',\n",
    "    'pc_response': 'maytinhdeban_fb_ma.csv',\n",
    "    'tivi_response': 'tivi_fb_ma.csv',\n",
    "    'tulanh_response': 'tulanh_fb_ma.csv',\n",
    "}\n",
    "\n",
    "feedback_response_dataframes = {\n",
    "    name: pd.read_csv(f'./rawData/feedback_manager/{filename}', encoding='utf-8')\n",
    "    for name, filename in feedback_response_file_name.items()\n",
    "}\n",
    "\n",
    "feedback_response_dataframes = {\n",
    "    name: remove_duplicates(df)\n",
    "    for name, df in feedback_response_dataframes.items()\n",
    "}"
   ]
  },
  {
   "cell_type": "markdown",
   "id": "8b18bf7a",
   "metadata": {},
   "source": [
    "Gộp các feedback thành 1 dataframe duy nhất"
   ]
  },
  {
   "cell_type": "code",
   "execution_count": 410,
   "id": "02f222ea",
   "metadata": {},
   "outputs": [
    {
     "data": {
      "text/html": [
       "<div>\n",
       "<style scoped>\n",
       "    .dataframe tbody tr th:only-of-type {\n",
       "        vertical-align: middle;\n",
       "    }\n",
       "\n",
       "    .dataframe tbody tr th {\n",
       "        vertical-align: top;\n",
       "    }\n",
       "\n",
       "    .dataframe thead th {\n",
       "        text-align: right;\n",
       "    }\n",
       "</style>\n",
       "<table border=\"1\" class=\"dataframe\">\n",
       "  <thead>\n",
       "    <tr style=\"text-align: right;\">\n",
       "      <th></th>\n",
       "      <th>id</th>\n",
       "      <th>feedback_id</th>\n",
       "      <th>manager_id</th>\n",
       "      <th>manager_name</th>\n",
       "      <th>content</th>\n",
       "      <th>time</th>\n",
       "    </tr>\n",
       "  </thead>\n",
       "  <tbody>\n",
       "    <tr>\n",
       "      <th>0</th>\n",
       "      <td>3310469</td>\n",
       "      <td>20089032</td>\n",
       "      <td>1</td>\n",
       "      <td>Tiki Trading</td>\n",
       "      <td>Cảm ơn bạn đã tin tưởng Tiki và cho Tiki 5⭐️! ...</td>\n",
       "      <td>2025-02-28 21:09:02</td>\n",
       "    </tr>\n",
       "    <tr>\n",
       "      <th>1</th>\n",
       "      <td>3313040</td>\n",
       "      <td>20093906</td>\n",
       "      <td>1</td>\n",
       "      <td>Tiki Trading</td>\n",
       "      <td>Tiki rất vui khi nhận được đánh giá 5⭐️từ bạn....</td>\n",
       "      <td>2025-03-10 15:51:53</td>\n",
       "    </tr>\n",
       "    <tr>\n",
       "      <th>2</th>\n",
       "      <td>3308007</td>\n",
       "      <td>20083515</td>\n",
       "      <td>1</td>\n",
       "      <td>Tiki Trading</td>\n",
       "      <td>Cảm ơn bạn đã để lại nhận xét tại Tiki. Hy vọn...</td>\n",
       "      <td>2025-02-18 00:10:24</td>\n",
       "    </tr>\n",
       "    <tr>\n",
       "      <th>3</th>\n",
       "      <td>3306129</td>\n",
       "      <td>20079569</td>\n",
       "      <td>1</td>\n",
       "      <td>Tiki Trading</td>\n",
       "      <td>Cảm ơn bạn đã để lại nhận xét tại Tiki. Hy vọn...</td>\n",
       "      <td>2025-02-11 12:47:50</td>\n",
       "    </tr>\n",
       "    <tr>\n",
       "      <th>4</th>\n",
       "      <td>3306017</td>\n",
       "      <td>20078193</td>\n",
       "      <td>1</td>\n",
       "      <td>Tiki Trading</td>\n",
       "      <td>Cảm ơn bạn đã để lại nhận xét tại Tiki. Hy vọn...</td>\n",
       "      <td>2025-02-08 22:02:36</td>\n",
       "    </tr>\n",
       "  </tbody>\n",
       "</table>\n",
       "</div>"
      ],
      "text/plain": [
       "        id feedback_id manager_id  manager_name  \\\n",
       "0  3310469    20089032          1  Tiki Trading   \n",
       "1  3313040    20093906          1  Tiki Trading   \n",
       "2  3308007    20083515          1  Tiki Trading   \n",
       "3  3306129    20079569          1  Tiki Trading   \n",
       "4  3306017    20078193          1  Tiki Trading   \n",
       "\n",
       "                                             content                 time  \n",
       "0  Cảm ơn bạn đã tin tưởng Tiki và cho Tiki 5⭐️! ...  2025-02-28 21:09:02  \n",
       "1  Tiki rất vui khi nhận được đánh giá 5⭐️từ bạn....  2025-03-10 15:51:53  \n",
       "2  Cảm ơn bạn đã để lại nhận xét tại Tiki. Hy vọn...  2025-02-18 00:10:24  \n",
       "3  Cảm ơn bạn đã để lại nhận xét tại Tiki. Hy vọn...  2025-02-11 12:47:50  \n",
       "4  Cảm ơn bạn đã để lại nhận xét tại Tiki. Hy vọn...  2025-02-08 22:02:36  "
      ]
     },
     "execution_count": 410,
     "metadata": {},
     "output_type": "execute_result"
    }
   ],
   "source": [
    "feedback_responses = pd.concat([\n",
    "    df for df in feedback_response_dataframes.values()\n",
    "], ignore_index=True)\n",
    "\n",
    "feedback_responses.head()"
   ]
  },
  {
   "cell_type": "markdown",
   "id": "2c410fcf",
   "metadata": {},
   "source": [
    "#### 2.2. Tạo dataframe"
   ]
  },
  {
   "cell_type": "markdown",
   "id": "b7761b67",
   "metadata": {},
   "source": [
    "Tìm ra các nhân viên chăm sóc khách hàng"
   ]
  },
  {
   "cell_type": "code",
   "execution_count": 411,
   "id": "dcbb8bde",
   "metadata": {},
   "outputs": [
    {
     "name": "stderr",
     "output_type": "stream",
     "text": [
      "C:\\Users\\ADMIN\\AppData\\Local\\Temp\\ipykernel_3232\\57359943.py:1: UserWarning: pandas only supports SQLAlchemy connectable (engine/connection) or database string URI or sqlite3 DBAPI2 connection. Other DBAPI2 objects are not tested. Please consider using SQLAlchemy.\n",
      "  service_customer_df = pd.read_sql_query(\"\"\"\n"
     ]
    },
    {
     "data": {
      "text/html": [
       "<div>\n",
       "<style scoped>\n",
       "    .dataframe tbody tr th:only-of-type {\n",
       "        vertical-align: middle;\n",
       "    }\n",
       "\n",
       "    .dataframe tbody tr th {\n",
       "        vertical-align: top;\n",
       "    }\n",
       "\n",
       "    .dataframe thead th {\n",
       "        text-align: right;\n",
       "    }\n",
       "</style>\n",
       "<table border=\"1\" class=\"dataframe\">\n",
       "  <thead>\n",
       "    <tr style=\"text-align: right;\">\n",
       "      <th></th>\n",
       "      <th>id</th>\n",
       "    </tr>\n",
       "  </thead>\n",
       "  <tbody>\n",
       "    <tr>\n",
       "      <th>0</th>\n",
       "      <td>4</td>\n",
       "    </tr>\n",
       "    <tr>\n",
       "      <th>1</th>\n",
       "      <td>5</td>\n",
       "    </tr>\n",
       "    <tr>\n",
       "      <th>2</th>\n",
       "      <td>6</td>\n",
       "    </tr>\n",
       "    <tr>\n",
       "      <th>3</th>\n",
       "      <td>18</td>\n",
       "    </tr>\n",
       "    <tr>\n",
       "      <th>4</th>\n",
       "      <td>20</td>\n",
       "    </tr>\n",
       "  </tbody>\n",
       "</table>\n",
       "</div>"
      ],
      "text/plain": [
       "   id\n",
       "0   4\n",
       "1   5\n",
       "2   6\n",
       "3  18\n",
       "4  20"
      ]
     },
     "execution_count": 411,
     "metadata": {},
     "output_type": "execute_result"
    }
   ],
   "source": [
    "service_customer_df = pd.read_sql_query(\"\"\"\n",
    "    SELECT m.id as id\n",
    "    FROM manager as m\n",
    "    JOIN role as r\n",
    "    ON m.role_id = r.id\n",
    "    WHERE r.name = 'service_customer'\n",
    "    ORDER BY m.id;\n",
    "\"\"\", conn)\n",
    "\n",
    "service_customer_df.head()"
   ]
  },
  {
   "cell_type": "code",
   "execution_count": 412,
   "id": "22e2555c",
   "metadata": {},
   "outputs": [],
   "source": [
    "service_customer_ids = service_customer_df['id'].tolist()"
   ]
  },
  {
   "cell_type": "markdown",
   "id": "9400ec3a",
   "metadata": {},
   "source": [
    "Thay thế toàn bộ từ 'Tiki' xuất hiện trong nội dung phản hồi bằng 'PTIT-EShop'\n",
    "\n"
   ]
  },
  {
   "cell_type": "code",
   "execution_count": 413,
   "id": "065e68cb",
   "metadata": {},
   "outputs": [
    {
     "data": {
      "text/plain": [
       "0    Cảm ơn bạn đã tin tưởng PTIT-EShop và cho PTIT...\n",
       "1    PTIT-EShop rất vui khi nhận được đánh giá 5⭐️t...\n",
       "2    Cảm ơn bạn đã để lại nhận xét tại PTIT-EShop. ...\n",
       "3    Cảm ơn bạn đã để lại nhận xét tại PTIT-EShop. ...\n",
       "4    Cảm ơn bạn đã để lại nhận xét tại PTIT-EShop. ...\n",
       "Name: content, dtype: object"
      ]
     },
     "execution_count": 413,
     "metadata": {},
     "output_type": "execute_result"
    }
   ],
   "source": [
    "feedback_responses['content'] = feedback_responses['content'].str.replace('tiki', 'PTIT-EShop', case=False)\n",
    "feedback_responses['content'].head()"
   ]
  },
  {
   "cell_type": "markdown",
   "id": "620c31f0",
   "metadata": {},
   "source": [
    "Tạo hàm `mapping_old_feedback_id_to_feedback` lấy phản hồi của khách hàng khi biết mã phản hồi của bảng cũ"
   ]
  },
  {
   "cell_type": "code",
   "execution_count": 414,
   "id": "6fe8ce4e",
   "metadata": {},
   "outputs": [],
   "source": [
    "def mapping_old_feedback_id_to_feedback(fb_id):\n",
    "    return old_feedback_id_to_feedback.get(fb_id, None)"
   ]
  },
  {
   "cell_type": "markdown",
   "id": "285d3f88",
   "metadata": {},
   "source": [
    "Tạo dataframe `feedback_response` (id, manager_id, feedback_id, content, created_at)"
   ]
  },
  {
   "cell_type": "code",
   "execution_count": 415,
   "id": "447da1b8",
   "metadata": {},
   "outputs": [
    {
     "data": {
      "text/plain": [
       "Index(['id', 'feedback_id', 'manager_id', 'manager_name', 'content', 'time'], dtype='object')"
      ]
     },
     "execution_count": 415,
     "metadata": {},
     "output_type": "execute_result"
    }
   ],
   "source": [
    "feedback_responses.columns"
   ]
  },
  {
   "cell_type": "code",
   "execution_count": 416,
   "id": "fb2b9c25",
   "metadata": {},
   "outputs": [
    {
     "name": "stderr",
     "output_type": "stream",
     "text": [
      "Processing feedback responses:   0%|\u001b[32m          \u001b[0m| 0/549 [00:00<?, ?rows/s]"
     ]
    },
    {
     "name": "stderr",
     "output_type": "stream",
     "text": [
      "Processing feedback responses: 100%|\u001b[32m██████████\u001b[0m| 549/549 [00:00<00:00, 2964.20rows/s]\n"
     ]
    }
   ],
   "source": [
    "feedback_response_rows = []\n",
    "\n",
    "\n",
    "for index, row in tqdm(feedback_responses.iterrows(), total=feedback_responses.shape[0], desc='Processing feedback responses', unit=\"rows\", colour='green'):\n",
    "    \n",
    "    manager_id = random_generator.choice(service_customer_ids)\n",
    "\n",
    "    customer_feedback = mapping_old_feedback_id_to_feedback(row['feedback_id'])\n",
    "\n",
    "    feedback_id = customer_feedback['id'] if customer_feedback else None\n",
    "\n",
    "    comment = row['content']\n",
    "\n",
    "    create_at = random_date(\n",
    "        customer_feedback['created_at'] if customer_feedback else FIXED_CURRENT_DATE_AND_TIME\n",
    "    )\n",
    "\n",
    "    id = get_md5_hash(pd.Series({\n",
    "        'manager_id': manager_id,\n",
    "        'feedback_id': feedback_id,\n",
    "        'comment': comment,\n",
    "        'created_at': create_at,\n",
    "    }))\n",
    "\n",
    "    feedback_response_rows.append({\n",
    "        'id': id,\n",
    "        'manager_id': manager_id,\n",
    "        'feedback_id': feedback_id,\n",
    "        'comment': comment,\n",
    "        'created_at': create_at,\n",
    "    })\n",
    "\n",
    "feedback_response_df = pd.DataFrame(feedback_response_rows)\n",
    "\n",
    "feedback_response_df.sort_values(by='id', inplace=True)\n",
    "feedback_response_df.reset_index(drop=True, inplace=True)"
   ]
  },
  {
   "cell_type": "code",
   "execution_count": 417,
   "id": "455aaf93",
   "metadata": {},
   "outputs": [
    {
     "data": {
      "text/html": [
       "<div>\n",
       "<style scoped>\n",
       "    .dataframe tbody tr th:only-of-type {\n",
       "        vertical-align: middle;\n",
       "    }\n",
       "\n",
       "    .dataframe tbody tr th {\n",
       "        vertical-align: top;\n",
       "    }\n",
       "\n",
       "    .dataframe thead th {\n",
       "        text-align: right;\n",
       "    }\n",
       "</style>\n",
       "<table border=\"1\" class=\"dataframe\">\n",
       "  <thead>\n",
       "    <tr style=\"text-align: right;\">\n",
       "      <th></th>\n",
       "      <th>id</th>\n",
       "      <th>manager_id</th>\n",
       "      <th>feedback_id</th>\n",
       "      <th>comment</th>\n",
       "      <th>created_at</th>\n",
       "    </tr>\n",
       "  </thead>\n",
       "  <tbody>\n",
       "    <tr>\n",
       "      <th>0</th>\n",
       "      <td>0008cd6ce0df63345199526af4043e2e</td>\n",
       "      <td>110</td>\n",
       "      <td>58a7c224a17f16df568936a4122f24fa</td>\n",
       "      <td>PTIT-EShop rất vui khi nhận được đánh giá 5⭐️ ...</td>\n",
       "      <td>2025-02-14 00:00:00</td>\n",
       "    </tr>\n",
       "    <tr>\n",
       "      <th>1</th>\n",
       "      <td>0037cd30f7a1d31c7f5c8c2e9e93861a</td>\n",
       "      <td>122</td>\n",
       "      <td>4d0d973e081f9811e4af1fe211f76844</td>\n",
       "      <td>PTIT-EShop rất vui khi nhận được đánh giá 5⭐️ ...</td>\n",
       "      <td>2025-05-22 00:00:00</td>\n",
       "    </tr>\n",
       "    <tr>\n",
       "      <th>2</th>\n",
       "      <td>00e882452c67a973793addc1115a2cf2</td>\n",
       "      <td>150</td>\n",
       "      <td>0b9e5ae2cedbc7c1a55c9c88ee8f8c68</td>\n",
       "      <td>Cảm ơn bạn đã tin tưởng PTIT-EShop và cho PTIT...</td>\n",
       "      <td>2025-05-24 00:00:00</td>\n",
       "    </tr>\n",
       "    <tr>\n",
       "      <th>3</th>\n",
       "      <td>013319e0f20a51e879ae1b15c8112534</td>\n",
       "      <td>173</td>\n",
       "      <td>f5917b086c709cdc1e25980f6455d773</td>\n",
       "      <td>Cảm ơn bạn đã tin tưởng và ủng hộ PTIT-EShop n...</td>\n",
       "      <td>2025-03-19 00:00:00</td>\n",
       "    </tr>\n",
       "    <tr>\n",
       "      <th>4</th>\n",
       "      <td>01d59acba6f95be8103713b44053edc4</td>\n",
       "      <td>4</td>\n",
       "      <td>9c387917a5a19b03f681bf50de4aaf7d</td>\n",
       "      <td>Cảm ơn anh đã tin tưởng PTIT-EShop và cho PTIT...</td>\n",
       "      <td>2024-10-03 00:00:00</td>\n",
       "    </tr>\n",
       "  </tbody>\n",
       "</table>\n",
       "</div>"
      ],
      "text/plain": [
       "                                 id  manager_id  \\\n",
       "0  0008cd6ce0df63345199526af4043e2e         110   \n",
       "1  0037cd30f7a1d31c7f5c8c2e9e93861a         122   \n",
       "2  00e882452c67a973793addc1115a2cf2         150   \n",
       "3  013319e0f20a51e879ae1b15c8112534         173   \n",
       "4  01d59acba6f95be8103713b44053edc4           4   \n",
       "\n",
       "                        feedback_id  \\\n",
       "0  58a7c224a17f16df568936a4122f24fa   \n",
       "1  4d0d973e081f9811e4af1fe211f76844   \n",
       "2  0b9e5ae2cedbc7c1a55c9c88ee8f8c68   \n",
       "3  f5917b086c709cdc1e25980f6455d773   \n",
       "4  9c387917a5a19b03f681bf50de4aaf7d   \n",
       "\n",
       "                                             comment           created_at  \n",
       "0  PTIT-EShop rất vui khi nhận được đánh giá 5⭐️ ...  2025-02-14 00:00:00  \n",
       "1  PTIT-EShop rất vui khi nhận được đánh giá 5⭐️ ...  2025-05-22 00:00:00  \n",
       "2  Cảm ơn bạn đã tin tưởng PTIT-EShop và cho PTIT...  2025-05-24 00:00:00  \n",
       "3  Cảm ơn bạn đã tin tưởng và ủng hộ PTIT-EShop n...  2025-03-19 00:00:00  \n",
       "4  Cảm ơn anh đã tin tưởng PTIT-EShop và cho PTIT...  2024-10-03 00:00:00  "
      ]
     },
     "execution_count": 417,
     "metadata": {},
     "output_type": "execute_result"
    }
   ],
   "source": [
    "feedback_response_df.head()"
   ]
  },
  {
   "cell_type": "markdown",
   "id": "eedcd371",
   "metadata": {},
   "source": [
    "# III. Xử lý giảm giá"
   ]
  },
  {
   "cell_type": "markdown",
   "id": "1c8169bd",
   "metadata": {},
   "source": [
    "Tạo hàm tạo giảm giá, với discount $\\in [0.05, 0.3]$ và lợi nhuận tối thiểu bằng $0.05$"
   ]
  },
  {
   "cell_type": "code",
   "execution_count": 418,
   "id": "830e9f04",
   "metadata": {},
   "outputs": [],
   "source": [
    "def get_discount_value(type: str, original_price: float, price: float, min_discount=0.05, max_discount=0.3, min_profit=0.05):\n",
    "    valid_discounts = []\n",
    "    \n",
    "    for i in range(int(min_discount * 100), int(max_discount * 100) + 1):\n",
    "        discount_rate = i / 100\n",
    "        discounted_price = price * (1 - discount_rate)\n",
    "\n",
    "        if discounted_price > original_price * (1 + min_profit):\n",
    "            valid_discounts.append({\n",
    "                'rate': discount_rate,\n",
    "                'price': discounted_price,\n",
    "            })\n",
    "    \n",
    "    if valid_discounts:\n",
    "        if type == 'Percentage':\n",
    "            return round(random_generator.choice(valid_discounts)['rate'], 3)\n",
    "        elif type == 'FixedAmount':\n",
    "            return round(random_generator.choice(valid_discounts)['price'], 3)\n",
    "    \n",
    "    return round(price, 3)\n",
    "\n",
    "def check_status(start_date: str, end_date: str, current_date: str = FIXED_CURRENT_DATE_AND_TIME):\n",
    "    start_date = datetime.strptime(start_date, '%Y-%m-%d %H:%M:%S')\n",
    "    end_date = datetime.strptime(end_date, '%Y-%m-%d %H:%M:%S')\n",
    "\n",
    "    current_date = datetime.strptime(current_date, '%Y-%m-%d %H:%M:%S')\n",
    "\n",
    "    if start_date <= current_date <= end_date:\n",
    "        return 'Active'\n",
    "    elif current_date < start_date:\n",
    "        return 'Inactive'\n",
    "    else:\n",
    "        return 'Expired'"
   ]
  },
  {
   "cell_type": "code",
   "execution_count": 419,
   "id": "81b4a99c",
   "metadata": {},
   "outputs": [],
   "source": [
    "types = ['Percentage', 'FixedAmount']\n",
    "\n",
    "voucher_name = [\n",
    "    'Giảm giá sinh nhật',\n",
    "    'Giảm giá ngày lễ',\n",
    "    'Giảm giá hot',\n",
    "    'Giảm giá sốc',\n",
    "    'Giảm giá cực mạnh',\n",
    "    'Giảm giá lớn',\n",
    "    'Giảm giá hấp dẫn',\n",
    "    'Giảm giá cực chất',\n",
    "    'Giảm giá không thể bỏ qua',\n",
    "    'Giảm giá cực đã',\n",
    "    'Giảm giá cực chất',\n",
    "    'Giảm giá cực đỉnh',\n",
    "    'Giảm giá cực chất lượng',\n",
    "    'Giảm giá siêu hời',\n",
    "    'Giảm giá siêu hấp dẫn',\n",
    "    'Giảm giá siêu chất',\n",
    "    'Giảm giá siêu đỉnh',\n",
    "    'Giảm giá ưu đãi',\n",
    "]"
   ]
  },
  {
   "cell_type": "markdown",
   "id": "750b9486",
   "metadata": {},
   "source": [
    "Tạo từ điển `variant_id_to_voucher` để ánh xạ từ id phiên bản sang loại giảm giá"
   ]
  },
  {
   "cell_type": "code",
   "execution_count": 420,
   "id": "7eb5af93",
   "metadata": {},
   "outputs": [],
   "source": [
    "variant_id_to_voucher = {}"
   ]
  },
  {
   "cell_type": "markdown",
   "id": "c5870f05",
   "metadata": {},
   "source": [
    "Cần xây dựng dataframe `discount`(`id`, `product_variant_id`, `code`, `name`, `type`, `value`, `status`, `start_date`, `end_date`)"
   ]
  },
  {
   "cell_type": "code",
   "execution_count": 421,
   "id": "038b513f",
   "metadata": {},
   "outputs": [
    {
     "name": "stderr",
     "output_type": "stream",
     "text": [
      "Processing discounts: 100%|\u001b[32m██████████\u001b[0m| 1000/1000 [00:00<00:00, 1665.05rows/s]\n"
     ]
    }
   ],
   "source": [
    "discount_rows = []\n",
    "\n",
    "\n",
    "random_product_varriant = product_variant_df[['id', 'price', 'original_price', 'profit']].sample(n=1000, replace=False, random_state=RANDOM_SEED)\n",
    "\n",
    "for index, row in tqdm(random_product_varriant.iterrows(), total=random_product_varriant.shape[0], desc='Processing discounts', unit=\"rows\", colour='green'):\n",
    "    \n",
    "    random_string = ''.join(random_generator.choices('ABCDEFGHIJKLMNOPQRSTUVWXYZ0123456789', k=10))\n",
    "\n",
    "    product_variant_id = row['id']\n",
    "\n",
    "    code = f\"PTIT-{random_string}\"\n",
    "\n",
    "    discount_name = random_generator.choice(voucher_name)\n",
    "\n",
    "    discount_type = random_generator.choice(types)\n",
    "\n",
    "    discount_value = get_discount_value(discount_type, row['original_price'], row['price'])\n",
    "\n",
    "    start_date = random_date('2024-01-01', '2025-12-30')\n",
    "\n",
    "    end_date = random_date(start_date, '2025-12-31')\n",
    "\n",
    "    status = check_status(start_date, end_date)\n",
    "\n",
    "    id = get_md5_hash(pd.Series({\n",
    "        'product_variant_id': product_variant_id,\n",
    "        'code': code,\n",
    "        'name': discount_name,\n",
    "        'type': discount_type,\n",
    "        'value': discount_value,\n",
    "        'status': status,\n",
    "        'start_date': start_date,\n",
    "        'end_date': end_date,\n",
    "    }))\n",
    "\n",
    "    discount_rows.append({\n",
    "        'id': id,\n",
    "        'product_variant_id': product_variant_id,\n",
    "        'code': code,\n",
    "        'name': discount_name,\n",
    "        'type': discount_type,\n",
    "        'value': discount_value,\n",
    "        'status': status,\n",
    "        'start_date': start_date,\n",
    "        'end_date': end_date,\n",
    "    })\n",
    "\n",
    "    variant_id_to_voucher[product_variant_id] = {\n",
    "        'type': discount_type, \n",
    "        'value': discount_value, \n",
    "        'start_date': start_date, \n",
    "        'end_date': end_date\n",
    "    }\n",
    "\n",
    "discount_df = pd.DataFrame(discount_rows)\n",
    "\n",
    "discount_df.sort_values(by='id', inplace=True)\n",
    "discount_df.reset_index(drop=True, inplace=True)"
   ]
  },
  {
   "cell_type": "code",
   "execution_count": 422,
   "id": "63c081e2",
   "metadata": {},
   "outputs": [
    {
     "data": {
      "text/html": [
       "<div>\n",
       "<style scoped>\n",
       "    .dataframe tbody tr th:only-of-type {\n",
       "        vertical-align: middle;\n",
       "    }\n",
       "\n",
       "    .dataframe tbody tr th {\n",
       "        vertical-align: top;\n",
       "    }\n",
       "\n",
       "    .dataframe thead th {\n",
       "        text-align: right;\n",
       "    }\n",
       "</style>\n",
       "<table border=\"1\" class=\"dataframe\">\n",
       "  <thead>\n",
       "    <tr style=\"text-align: right;\">\n",
       "      <th></th>\n",
       "      <th>id</th>\n",
       "      <th>product_variant_id</th>\n",
       "      <th>code</th>\n",
       "      <th>name</th>\n",
       "      <th>type</th>\n",
       "      <th>value</th>\n",
       "      <th>status</th>\n",
       "      <th>start_date</th>\n",
       "      <th>end_date</th>\n",
       "    </tr>\n",
       "  </thead>\n",
       "  <tbody>\n",
       "    <tr>\n",
       "      <th>0</th>\n",
       "      <td>000c0732f291084bbd75dc3034069562</td>\n",
       "      <td>786d8edb86fb6a4882d9c37cd8d66afe</td>\n",
       "      <td>PTIT-QPJBMWMNOH</td>\n",
       "      <td>Giảm giá lớn</td>\n",
       "      <td>Percentage</td>\n",
       "      <td>0.14</td>\n",
       "      <td>Active</td>\n",
       "      <td>2024-02-04 00:00:00</td>\n",
       "      <td>2025-08-10 00:00:00</td>\n",
       "    </tr>\n",
       "    <tr>\n",
       "      <th>1</th>\n",
       "      <td>001d84efaadde3bb5cf822f3dd041163</td>\n",
       "      <td>6310c43648774e9bd02df4d2229e789a</td>\n",
       "      <td>PTIT-XOZLEL8PL6</td>\n",
       "      <td>Giảm giá lớn</td>\n",
       "      <td>Percentage</td>\n",
       "      <td>0.05</td>\n",
       "      <td>Expired</td>\n",
       "      <td>2024-09-13 00:00:00</td>\n",
       "      <td>2025-04-13 00:00:00</td>\n",
       "    </tr>\n",
       "    <tr>\n",
       "      <th>2</th>\n",
       "      <td>005154fd5d37870e7fa7742dba2c348a</td>\n",
       "      <td>fe4b7f28af36c61faae677334c80ca1a</td>\n",
       "      <td>PTIT-99ELJHB051</td>\n",
       "      <td>Giảm giá ưu đãi</td>\n",
       "      <td>Percentage</td>\n",
       "      <td>0.06</td>\n",
       "      <td>Expired</td>\n",
       "      <td>2024-06-03 00:00:00</td>\n",
       "      <td>2024-08-30 00:00:00</td>\n",
       "    </tr>\n",
       "    <tr>\n",
       "      <th>3</th>\n",
       "      <td>00e343ec470ad09dcf10aba573382f2a</td>\n",
       "      <td>b0913a6e80096f633917425b174e6e94</td>\n",
       "      <td>PTIT-5BOIYMYK86</td>\n",
       "      <td>Giảm giá sinh nhật</td>\n",
       "      <td>Percentage</td>\n",
       "      <td>0.06</td>\n",
       "      <td>Active</td>\n",
       "      <td>2025-01-21 00:00:00</td>\n",
       "      <td>2025-06-27 00:00:00</td>\n",
       "    </tr>\n",
       "    <tr>\n",
       "      <th>4</th>\n",
       "      <td>01495b9ff43bb7beefedbd500682974e</td>\n",
       "      <td>e015783efd06060ce3dd2a81563aa15f</td>\n",
       "      <td>PTIT-F4V5I2J4R4</td>\n",
       "      <td>Giảm giá cực mạnh</td>\n",
       "      <td>FixedAmount</td>\n",
       "      <td>809600.00</td>\n",
       "      <td>Expired</td>\n",
       "      <td>2024-07-03 00:00:00</td>\n",
       "      <td>2024-09-02 00:00:00</td>\n",
       "    </tr>\n",
       "  </tbody>\n",
       "</table>\n",
       "</div>"
      ],
      "text/plain": [
       "                                 id                product_variant_id  \\\n",
       "0  000c0732f291084bbd75dc3034069562  786d8edb86fb6a4882d9c37cd8d66afe   \n",
       "1  001d84efaadde3bb5cf822f3dd041163  6310c43648774e9bd02df4d2229e789a   \n",
       "2  005154fd5d37870e7fa7742dba2c348a  fe4b7f28af36c61faae677334c80ca1a   \n",
       "3  00e343ec470ad09dcf10aba573382f2a  b0913a6e80096f633917425b174e6e94   \n",
       "4  01495b9ff43bb7beefedbd500682974e  e015783efd06060ce3dd2a81563aa15f   \n",
       "\n",
       "              code                name         type      value   status  \\\n",
       "0  PTIT-QPJBMWMNOH        Giảm giá lớn   Percentage       0.14   Active   \n",
       "1  PTIT-XOZLEL8PL6        Giảm giá lớn   Percentage       0.05  Expired   \n",
       "2  PTIT-99ELJHB051     Giảm giá ưu đãi   Percentage       0.06  Expired   \n",
       "3  PTIT-5BOIYMYK86  Giảm giá sinh nhật   Percentage       0.06   Active   \n",
       "4  PTIT-F4V5I2J4R4   Giảm giá cực mạnh  FixedAmount  809600.00  Expired   \n",
       "\n",
       "            start_date             end_date  \n",
       "0  2024-02-04 00:00:00  2025-08-10 00:00:00  \n",
       "1  2024-09-13 00:00:00  2025-04-13 00:00:00  \n",
       "2  2024-06-03 00:00:00  2024-08-30 00:00:00  \n",
       "3  2025-01-21 00:00:00  2025-06-27 00:00:00  \n",
       "4  2024-07-03 00:00:00  2024-09-02 00:00:00  "
      ]
     },
     "execution_count": 422,
     "metadata": {},
     "output_type": "execute_result"
    }
   ],
   "source": [
    "discount_df.head()"
   ]
  },
  {
   "cell_type": "markdown",
   "id": "4668e05b",
   "metadata": {},
   "source": [
    "# IV. Xử lý đơn hàng và các dataframe liên quan"
   ]
  },
  {
   "cell_type": "markdown",
   "id": "1d9ba708",
   "metadata": {},
   "source": [
    "- Dataframe `order` (`id`, `customer_id`, `order_date`, `shipping_address`, `status`, `payment_method`, `payment_date`, `payment_status`, `payment_amount`)\n",
    "\n",
    "- Dataframe `order_item` (`id`, `product_variant_id`, `order_id`, `quantity`, `unit_price`, `note`)\n",
    "\n",
    "- Dataframe `order_history` (`id`, `manager_id`, `order_id`, `processing_time`, `previous_status`, `new_status`)"
   ]
  },
  {
   "cell_type": "markdown",
   "id": "e0bf4ac8",
   "metadata": {},
   "source": [
    "## 1. Tiền xử lý"
   ]
  },
  {
   "cell_type": "markdown",
   "id": "24a742e0",
   "metadata": {},
   "source": [
    "- Trạng thái đơn hàng `order_status` nhận 1 trong các giá trị: `Processing`, `Cancelled`, `Rejected`, `Completed`\n",
    "- Trạng thái quản lý đơn hàng `manage_order_status_list` nhận 1 trong các giá trị: `Pending`, `Processing`, `Cancelled`, `Completed`\n",
    "- Trạng thái thanh toán `payment_status` nhận 1 trong các giá trị: `Pending`, `Paid`, `Refunded`, `Partially Paid`\n",
    "- Phương thức thanh toán `payment_method` nhận 1 trong các giá trị: `COD`, `Credit Card`, `Bank Transfer`, `Paypal`"
   ]
  },
  {
   "cell_type": "markdown",
   "id": "7c28b214",
   "metadata": {},
   "source": [
    "Giữa các phần tử của các tập `payment_method`, `manage_order_status`, `order_status`, và `payment_status` tồn tại các mối quan hệ logic như sau:\n",
    "\n",
    "- `COD`: Khi phương thức thanh toán là `COD`, nếu đơn hàng bị từ chối (`Rejected`) hoặc bị hủy (`Cancelled`), trạng thái thanh toán sẽ là `Cancelled`. Trong trường hợp đơn hàng đang ở trạng thái `Pending` hoặc `Processing`, trạng thái thanh toán vẫn là `Pending`.\n",
    "\n",
    "- `Credit Card`, `Bank Transfer`, và `PayPal`: Với các phương thức thanh toán này, nếu đơn hàng bị từ chối hoặc hủy, trạng thái thanh toán sẽ là `Refunded`. Nếu đơn hàng đang xử lý, trạng thái thanh toán là `Partially Paid`. Nếu đơn hàng hoàn tất, trạng thái thanh toán là `Paid`.\n",
    "\n",
    "- `Pending`: Khi `manage_order_status` là `Pending`, `order_status` sẽ luôn là `Processing`, và `payment_status` sẽ là `Pending`, bất kể phương thức thanh toán.\n",
    "\n",
    "- `Processing`: Nếu `manage_order_status` là `Processing`, `order_status` sẽ là `Processing` nếu trạng thái thanh toán là `Paid` hoặc `Partially Paid`. Nếu không, `order_status` sẽ là `Rejected`. Trong trường hợp này, nếu phương thức là `COD`, `payment_status` là `Pending`, còn lại là `Partially Paid`.\n",
    "\n",
    "- `Rejected`: Khi `order_status` là `Rejected`, trạng thái thanh toán phụ thuộc vào phương thức thanh toán: `Cancelled` cho `COD` và `Refunded` cho các phương thức khác.\n",
    "\n",
    "- `Completed`: Khi `manage_order_status` là `Completed`, `order_status` là `Completed`, và `payment_status` là `Paid`.\n",
    "\n",
    "- `Cancelled`: Nếu `manage_order_status` là `Cancelled`, trạng thái thanh toán là `Cancelled` với `COD` hoặc `Refunded` với các phương thức khác."
   ]
  },
  {
   "cell_type": "code",
   "execution_count": 423,
   "id": "54d2c121",
   "metadata": {},
   "outputs": [],
   "source": [
    "def get_order_status(manage_order_status, payment_status=None):\n",
    "    if manage_order_status == 'Pending':\n",
    "        return 'Processing'\n",
    "    \n",
    "    if manage_order_status == 'Rejected':\n",
    "        return 'Rejected'\n",
    "    \n",
    "    if manage_order_status == 'Processing':\n",
    "        if payment_status == 'Paid' or payment_status == 'Partially Paid':\n",
    "            return 'Processing'\n",
    "        \n",
    "        return 'Rejected'\n",
    "\n",
    "    if manage_order_status == 'Completed':\n",
    "            return 'Completed'\n",
    "    \n",
    "    return 'Processing'\n",
    "\n",
    "def get_payment_status(payment_method, manage_order_status, order_status):\n",
    "    if order_status == 'Rejected':\n",
    "        return 'Cancelled' if payment_method == 'COD' else 'Refunded'\n",
    "    \n",
    "    if manage_order_status == 'Pending':\n",
    "        return 'Pending'\n",
    "    \n",
    "    if manage_order_status == 'Processing':\n",
    "        if payment_method == 'COD':\n",
    "            return 'Pending'\n",
    "        \n",
    "        return 'Partially Paid'\n",
    "    \n",
    "    if manage_order_status == 'Completed':\n",
    "        return 'Paid'\n",
    "    \n",
    "    if manage_order_status == 'Cancelled':\n",
    "        return 'Cancelled' if payment_method == 'COD' else 'Refunded'\n",
    "    \n",
    "    return 'Pending'\n",
    "\n",
    "def random_order(payment_method=None, manage_order_status=None, order_status=None, payment_status=None):\n",
    "    if payment_method is None:\n",
    "        payment_method = random_generator.choice(['COD', 'Credit Card', 'Bank Transfer', 'PayPal'])\n",
    "    \n",
    "    if manage_order_status is None:\n",
    "        statuses = ['Pending', 'Processing', 'Cancelled', 'Completed']\n",
    "        probabilities = [0.01, 0.01, 0.01, 0.97]\n",
    "        manage_order_status = random_generator.choices(statuses, weights=probabilities, k=1)[0]\n",
    "\n",
    "    if order_status is None:\n",
    "        order_status = get_order_status(manage_order_status, payment_status)\n",
    "\n",
    "    if payment_status is None:\n",
    "        payment_status = get_payment_status(payment_method, manage_order_status, order_status)\n",
    "\n",
    "    return {\n",
    "        'payment_method': payment_method,\n",
    "        'manage_order_status': manage_order_status,\n",
    "        'order_status': order_status,\n",
    "        'payment_status': payment_status\n",
    "    }"
   ]
  },
  {
   "cell_type": "markdown",
   "id": "34decc0e",
   "metadata": {},
   "source": [
    "Chọn ra các khách hàng từ dataframe `customer` để lập đơn hàng. Tuy nhiên, đối với các khách hàng đã từng gửi phản hồi về sản phẩm, thì bắt buộc phải chọn để tạo đơn hàng và lưu trữ hóa đơn từ họ"
   ]
  },
  {
   "cell_type": "code",
   "execution_count": 424,
   "id": "869a21b4",
   "metadata": {},
   "outputs": [
    {
     "data": {
      "text/html": [
       "<div>\n",
       "<style scoped>\n",
       "    .dataframe tbody tr th:only-of-type {\n",
       "        vertical-align: middle;\n",
       "    }\n",
       "\n",
       "    .dataframe tbody tr th {\n",
       "        vertical-align: top;\n",
       "    }\n",
       "\n",
       "    .dataframe thead th {\n",
       "        text-align: right;\n",
       "    }\n",
       "</style>\n",
       "<table border=\"1\" class=\"dataframe\">\n",
       "  <thead>\n",
       "    <tr style=\"text-align: right;\">\n",
       "      <th></th>\n",
       "      <th>customer_id</th>\n",
       "      <th>feedback_created_at</th>\n",
       "      <th>product_id</th>\n",
       "      <th>product_variant_id</th>\n",
       "    </tr>\n",
       "  </thead>\n",
       "  <tbody>\n",
       "    <tr>\n",
       "      <th>0</th>\n",
       "      <td>47241</td>\n",
       "      <td>2024-08-14 00:00:00</td>\n",
       "      <td>29cd0d2c9db3d1ec5c87be5faa34de5a</td>\n",
       "      <td>None</td>\n",
       "    </tr>\n",
       "    <tr>\n",
       "      <th>1</th>\n",
       "      <td>252692</td>\n",
       "      <td>2025-05-25 00:00:00</td>\n",
       "      <td>51c5b0c1b508b980fd291be0ec5af6e3</td>\n",
       "      <td>None</td>\n",
       "    </tr>\n",
       "    <tr>\n",
       "      <th>2</th>\n",
       "      <td>383840</td>\n",
       "      <td>2024-05-27 00:00:00</td>\n",
       "      <td>006057a8556abec477f37b3c6dd09e97</td>\n",
       "      <td>None</td>\n",
       "    </tr>\n",
       "    <tr>\n",
       "      <th>3</th>\n",
       "      <td>413985</td>\n",
       "      <td>2025-04-13 00:00:00</td>\n",
       "      <td>774b7b3b3f2ce4329dea2984e9647539</td>\n",
       "      <td>None</td>\n",
       "    </tr>\n",
       "    <tr>\n",
       "      <th>4</th>\n",
       "      <td>388144</td>\n",
       "      <td>2025-06-14 00:00:00</td>\n",
       "      <td>e59b3c0c11f3b16a49fc168a8be199b0</td>\n",
       "      <td>None</td>\n",
       "    </tr>\n",
       "  </tbody>\n",
       "</table>\n",
       "</div>"
      ],
      "text/plain": [
       "   customer_id  feedback_created_at                        product_id  \\\n",
       "0        47241  2024-08-14 00:00:00  29cd0d2c9db3d1ec5c87be5faa34de5a   \n",
       "1       252692  2025-05-25 00:00:00  51c5b0c1b508b980fd291be0ec5af6e3   \n",
       "2       383840  2024-05-27 00:00:00  006057a8556abec477f37b3c6dd09e97   \n",
       "3       413985  2025-04-13 00:00:00  774b7b3b3f2ce4329dea2984e9647539   \n",
       "4       388144  2025-06-14 00:00:00  e59b3c0c11f3b16a49fc168a8be199b0   \n",
       "\n",
       "  product_variant_id  \n",
       "0               None  \n",
       "1               None  \n",
       "2               None  \n",
       "3               None  \n",
       "4               None  "
      ]
     },
     "execution_count": 424,
     "metadata": {},
     "output_type": "execute_result"
    }
   ],
   "source": [
    "feedback_customers = feedback_df[['customer_id', 'created_at', 'product_id', 'product_variant_id']].rename(\n",
    "    columns={\n",
    "        'created_at': 'feedback_created_at',\n",
    "    }\n",
    ")\n",
    "\n",
    "feedback_customers.head()"
   ]
  },
  {
   "cell_type": "code",
   "execution_count": 425,
   "id": "9b11cc0c",
   "metadata": {},
   "outputs": [
    {
     "data": {
      "text/html": [
       "<div>\n",
       "<style scoped>\n",
       "    .dataframe tbody tr th:only-of-type {\n",
       "        vertical-align: middle;\n",
       "    }\n",
       "\n",
       "    .dataframe tbody tr th {\n",
       "        vertical-align: top;\n",
       "    }\n",
       "\n",
       "    .dataframe thead th {\n",
       "        text-align: right;\n",
       "    }\n",
       "</style>\n",
       "<table border=\"1\" class=\"dataframe\">\n",
       "  <thead>\n",
       "    <tr style=\"text-align: right;\">\n",
       "      <th></th>\n",
       "      <th>customer_id</th>\n",
       "      <th>feedback_created_at</th>\n",
       "      <th>product_id</th>\n",
       "      <th>product_variant_id</th>\n",
       "      <th>address</th>\n",
       "    </tr>\n",
       "  </thead>\n",
       "  <tbody>\n",
       "    <tr>\n",
       "      <th>0</th>\n",
       "      <td>47241</td>\n",
       "      <td>2024-08-14 00:00:00</td>\n",
       "      <td>29cd0d2c9db3d1ec5c87be5faa34de5a</td>\n",
       "      <td>None</td>\n",
       "      <td>Xã Vĩnh Hòa Hiệp, Huyện Châu Thành, Tỉnh Kiên ...</td>\n",
       "    </tr>\n",
       "    <tr>\n",
       "      <th>1</th>\n",
       "      <td>252692</td>\n",
       "      <td>2025-05-25 00:00:00</td>\n",
       "      <td>51c5b0c1b508b980fd291be0ec5af6e3</td>\n",
       "      <td>None</td>\n",
       "      <td>Xã Xuân Tháp, Huyện Diễn Châu, Tỉnh Nghệ An</td>\n",
       "    </tr>\n",
       "    <tr>\n",
       "      <th>2</th>\n",
       "      <td>383840</td>\n",
       "      <td>2024-05-27 00:00:00</td>\n",
       "      <td>006057a8556abec477f37b3c6dd09e97</td>\n",
       "      <td>None</td>\n",
       "      <td>Xã Láng Dài, Huyện Long Đất, Tỉnh Bà Rịa - Vũn...</td>\n",
       "    </tr>\n",
       "    <tr>\n",
       "      <th>3</th>\n",
       "      <td>413985</td>\n",
       "      <td>2025-04-13 00:00:00</td>\n",
       "      <td>774b7b3b3f2ce4329dea2984e9647539</td>\n",
       "      <td>None</td>\n",
       "      <td>Xã Quốc Tuấn, Huyện Nam Sách, Tỉnh Hải Dương</td>\n",
       "    </tr>\n",
       "    <tr>\n",
       "      <th>4</th>\n",
       "      <td>388144</td>\n",
       "      <td>2025-06-14 00:00:00</td>\n",
       "      <td>e59b3c0c11f3b16a49fc168a8be199b0</td>\n",
       "      <td>None</td>\n",
       "      <td>Xã Tân Sơn, Huyện Trà Cú, Tỉnh Trà Vinh</td>\n",
       "    </tr>\n",
       "  </tbody>\n",
       "</table>\n",
       "</div>"
      ],
      "text/plain": [
       "   customer_id  feedback_created_at                        product_id  \\\n",
       "0        47241  2024-08-14 00:00:00  29cd0d2c9db3d1ec5c87be5faa34de5a   \n",
       "1       252692  2025-05-25 00:00:00  51c5b0c1b508b980fd291be0ec5af6e3   \n",
       "2       383840  2024-05-27 00:00:00  006057a8556abec477f37b3c6dd09e97   \n",
       "3       413985  2025-04-13 00:00:00  774b7b3b3f2ce4329dea2984e9647539   \n",
       "4       388144  2025-06-14 00:00:00  e59b3c0c11f3b16a49fc168a8be199b0   \n",
       "\n",
       "  product_variant_id                                            address  \n",
       "0               None  Xã Vĩnh Hòa Hiệp, Huyện Châu Thành, Tỉnh Kiên ...  \n",
       "1               None        Xã Xuân Tháp, Huyện Diễn Châu, Tỉnh Nghệ An  \n",
       "2               None  Xã Láng Dài, Huyện Long Đất, Tỉnh Bà Rịa - Vũn...  \n",
       "3               None       Xã Quốc Tuấn, Huyện Nam Sách, Tỉnh Hải Dương  \n",
       "4               None            Xã Tân Sơn, Huyện Trà Cú, Tỉnh Trà Vinh  "
      ]
     },
     "execution_count": 425,
     "metadata": {},
     "output_type": "execute_result"
    }
   ],
   "source": [
    "feedback_customers = feedback_customers.merge(\n",
    "    customer_df[['id', 'address']], how = 'left', left_on='customer_id', right_on='id'\n",
    ").drop(columns=['id'])\n",
    "\n",
    "feedback_customers.head()"
   ]
  },
  {
   "cell_type": "code",
   "execution_count": 426,
   "id": "89425041",
   "metadata": {},
   "outputs": [
    {
     "data": {
      "text/html": [
       "<div>\n",
       "<style scoped>\n",
       "    .dataframe tbody tr th:only-of-type {\n",
       "        vertical-align: middle;\n",
       "    }\n",
       "\n",
       "    .dataframe tbody tr th {\n",
       "        vertical-align: top;\n",
       "    }\n",
       "\n",
       "    .dataframe thead th {\n",
       "        text-align: right;\n",
       "    }\n",
       "</style>\n",
       "<table border=\"1\" class=\"dataframe\">\n",
       "  <thead>\n",
       "    <tr style=\"text-align: right;\">\n",
       "      <th></th>\n",
       "      <th>customer_id</th>\n",
       "      <th>customer_created_at</th>\n",
       "      <th>address</th>\n",
       "    </tr>\n",
       "  </thead>\n",
       "  <tbody>\n",
       "    <tr>\n",
       "      <th>121958</th>\n",
       "      <td>135477</td>\n",
       "      <td>2023-05-13</td>\n",
       "      <td>Xã Măng Tố, Huyện Tánh Linh, Tỉnh Bình Thuận</td>\n",
       "    </tr>\n",
       "    <tr>\n",
       "      <th>671155</th>\n",
       "      <td>745907</td>\n",
       "      <td>2024-10-31</td>\n",
       "      <td>Xã Lương Sơn, Huyện Yên Lập, Tỉnh Phú Thọ</td>\n",
       "    </tr>\n",
       "    <tr>\n",
       "      <th>131932</th>\n",
       "      <td>146590</td>\n",
       "      <td>2024-12-28</td>\n",
       "      <td>Xã Nga Thạch, Huyện Nga Sơn, Tỉnh Thanh Hóa</td>\n",
       "    </tr>\n",
       "    <tr>\n",
       "      <th>365838</th>\n",
       "      <td>406645</td>\n",
       "      <td>2023-01-20</td>\n",
       "      <td>Xã Hưng Hòa, Thành phố Vinh, Tỉnh Nghệ An</td>\n",
       "    </tr>\n",
       "    <tr>\n",
       "      <th>259178</th>\n",
       "      <td>287949</td>\n",
       "      <td>2023-06-11</td>\n",
       "      <td>Xã Long Giang, Thị xã Phước Long, Tỉnh Bình Phước</td>\n",
       "    </tr>\n",
       "  </tbody>\n",
       "</table>\n",
       "</div>"
      ],
      "text/plain": [
       "        customer_id customer_created_at  \\\n",
       "121958       135477          2023-05-13   \n",
       "671155       745907          2024-10-31   \n",
       "131932       146590          2024-12-28   \n",
       "365838       406645          2023-01-20   \n",
       "259178       287949          2023-06-11   \n",
       "\n",
       "                                                  address  \n",
       "121958       Xã Măng Tố, Huyện Tánh Linh, Tỉnh Bình Thuận  \n",
       "671155          Xã Lương Sơn, Huyện Yên Lập, Tỉnh Phú Thọ  \n",
       "131932        Xã Nga Thạch, Huyện Nga Sơn, Tỉnh Thanh Hóa  \n",
       "365838          Xã Hưng Hòa, Thành phố Vinh, Tỉnh Nghệ An  \n",
       "259178  Xã Long Giang, Thị xã Phước Long, Tỉnh Bình Phước  "
      ]
     },
     "execution_count": 426,
     "metadata": {},
     "output_type": "execute_result"
    }
   ],
   "source": [
    "customer_sample = customer_df[['id', 'created_at', 'address']] \\\n",
    "            .sample(n=1000000, replace=True, random_state=RANDOM_SEED) \\\n",
    "            .rename(columns={\n",
    "                'id': 'customer_id',\n",
    "                'created_at': 'customer_created_at',\n",
    "            })\n",
    "\n",
    "customer_sample.head()"
   ]
  },
  {
   "cell_type": "code",
   "execution_count": 427,
   "id": "6280994f",
   "metadata": {},
   "outputs": [
    {
     "data": {
      "text/html": [
       "<div>\n",
       "<style scoped>\n",
       "    .dataframe tbody tr th:only-of-type {\n",
       "        vertical-align: middle;\n",
       "    }\n",
       "\n",
       "    .dataframe tbody tr th {\n",
       "        vertical-align: top;\n",
       "    }\n",
       "\n",
       "    .dataframe thead th {\n",
       "        text-align: right;\n",
       "    }\n",
       "</style>\n",
       "<table border=\"1\" class=\"dataframe\">\n",
       "  <thead>\n",
       "    <tr style=\"text-align: right;\">\n",
       "      <th></th>\n",
       "      <th>customer_id</th>\n",
       "      <th>feedback_created_at</th>\n",
       "      <th>product_id</th>\n",
       "      <th>product_variant_id</th>\n",
       "      <th>address</th>\n",
       "      <th>customer_created_at</th>\n",
       "    </tr>\n",
       "  </thead>\n",
       "  <tbody>\n",
       "    <tr>\n",
       "      <th>0</th>\n",
       "      <td>47241</td>\n",
       "      <td>2024-08-14 00:00:00</td>\n",
       "      <td>29cd0d2c9db3d1ec5c87be5faa34de5a</td>\n",
       "      <td>None</td>\n",
       "      <td>Xã Vĩnh Hòa Hiệp, Huyện Châu Thành, Tỉnh Kiên ...</td>\n",
       "      <td>NaT</td>\n",
       "    </tr>\n",
       "    <tr>\n",
       "      <th>1</th>\n",
       "      <td>252692</td>\n",
       "      <td>2025-05-25 00:00:00</td>\n",
       "      <td>51c5b0c1b508b980fd291be0ec5af6e3</td>\n",
       "      <td>None</td>\n",
       "      <td>Xã Xuân Tháp, Huyện Diễn Châu, Tỉnh Nghệ An</td>\n",
       "      <td>NaT</td>\n",
       "    </tr>\n",
       "    <tr>\n",
       "      <th>2</th>\n",
       "      <td>383840</td>\n",
       "      <td>2024-05-27 00:00:00</td>\n",
       "      <td>006057a8556abec477f37b3c6dd09e97</td>\n",
       "      <td>None</td>\n",
       "      <td>Xã Láng Dài, Huyện Long Đất, Tỉnh Bà Rịa - Vũn...</td>\n",
       "      <td>NaT</td>\n",
       "    </tr>\n",
       "    <tr>\n",
       "      <th>3</th>\n",
       "      <td>413985</td>\n",
       "      <td>2025-04-13 00:00:00</td>\n",
       "      <td>774b7b3b3f2ce4329dea2984e9647539</td>\n",
       "      <td>None</td>\n",
       "      <td>Xã Quốc Tuấn, Huyện Nam Sách, Tỉnh Hải Dương</td>\n",
       "      <td>NaT</td>\n",
       "    </tr>\n",
       "    <tr>\n",
       "      <th>4</th>\n",
       "      <td>388144</td>\n",
       "      <td>2025-06-14 00:00:00</td>\n",
       "      <td>e59b3c0c11f3b16a49fc168a8be199b0</td>\n",
       "      <td>None</td>\n",
       "      <td>Xã Tân Sơn, Huyện Trà Cú, Tỉnh Trà Vinh</td>\n",
       "      <td>NaT</td>\n",
       "    </tr>\n",
       "  </tbody>\n",
       "</table>\n",
       "</div>"
      ],
      "text/plain": [
       "   customer_id  feedback_created_at                        product_id  \\\n",
       "0        47241  2024-08-14 00:00:00  29cd0d2c9db3d1ec5c87be5faa34de5a   \n",
       "1       252692  2025-05-25 00:00:00  51c5b0c1b508b980fd291be0ec5af6e3   \n",
       "2       383840  2024-05-27 00:00:00  006057a8556abec477f37b3c6dd09e97   \n",
       "3       413985  2025-04-13 00:00:00  774b7b3b3f2ce4329dea2984e9647539   \n",
       "4       388144  2025-06-14 00:00:00  e59b3c0c11f3b16a49fc168a8be199b0   \n",
       "\n",
       "  product_variant_id                                            address  \\\n",
       "0               None  Xã Vĩnh Hòa Hiệp, Huyện Châu Thành, Tỉnh Kiên ...   \n",
       "1               None        Xã Xuân Tháp, Huyện Diễn Châu, Tỉnh Nghệ An   \n",
       "2               None  Xã Láng Dài, Huyện Long Đất, Tỉnh Bà Rịa - Vũn...   \n",
       "3               None       Xã Quốc Tuấn, Huyện Nam Sách, Tỉnh Hải Dương   \n",
       "4               None            Xã Tân Sơn, Huyện Trà Cú, Tỉnh Trà Vinh   \n",
       "\n",
       "  customer_created_at  \n",
       "0                 NaT  \n",
       "1                 NaT  \n",
       "2                 NaT  \n",
       "3                 NaT  \n",
       "4                 NaT  "
      ]
     },
     "execution_count": 427,
     "metadata": {},
     "output_type": "execute_result"
    }
   ],
   "source": [
    "customer_order_df = pd.concat([\n",
    "    feedback_customers, customer_sample\n",
    "], axis=0, ignore_index=True)\n",
    "\n",
    "customer_order_df.head()"
   ]
  },
  {
   "cell_type": "markdown",
   "id": "268811d9",
   "metadata": {},
   "source": [
    "Chọn ra các biến thể sản phẩm từ dataframe `product_variant` để lập đơn hàng. Tuy nhiên, đối với các khách hàng đã từng gửi phản hồi về sản phẩm, thì bắt buộc phải chọn sản phẩm mà họ từng mua để tạo đơn hàng và lưu trữ hóa đơn từ họ"
   ]
  },
  {
   "cell_type": "markdown",
   "id": "ef35aba8",
   "metadata": {},
   "source": [
    "Lấy mẫu ngẫu nhiên các id biến thể"
   ]
  },
  {
   "cell_type": "code",
   "execution_count": 428,
   "id": "7d0d37ef",
   "metadata": {},
   "outputs": [],
   "source": [
    "product_variant_ids_sample = random_generator.choices(\n",
    "    product_variant_df['id'].tolist(), k=1000000\n",
    ")"
   ]
  },
  {
   "cell_type": "markdown",
   "id": "a8ad8d43",
   "metadata": {},
   "source": [
    "Tạo ánh xạ từ ``product_id`` sang ``product_variant_id``"
   ]
  },
  {
   "cell_type": "code",
   "execution_count": 429,
   "id": "e7d05b1a",
   "metadata": {},
   "outputs": [],
   "source": [
    "product_id_to_variant_id = product_variant_df.groupby('product_id')['id'].apply(list).to_dict()"
   ]
  },
  {
   "cell_type": "markdown",
   "id": "74a74725",
   "metadata": {},
   "source": [
    "Hoàn thiện sinh ngẫu nhiên/ gán id biến thể cho `customer`"
   ]
  },
  {
   "cell_type": "code",
   "execution_count": 430,
   "id": "8036b797",
   "metadata": {},
   "outputs": [],
   "source": [
    "def fill_product_variant_id(row):\n",
    "\n",
    "    if pd.isna(row['product_variant_id']):\n",
    "        if pd.isna(row['product_id']):\n",
    "            return random_generator.choice(product_variant_ids_sample)\n",
    "        \n",
    "        return random_generator.choice(product_id_to_variant_id[row['product_id']])\n",
    "    \n",
    "    return row['product_variant_id']\n",
    "\n",
    "customer_order_df['product_variant_id'] = customer_order_df.apply(\n",
    "    lambda row: fill_product_variant_id(row), axis=1\n",
    ")\n",
    "\n",
    "customer_order_df.drop(columns=['product_id'], inplace=True)\n",
    "\n",
    "customer_order_df['customer_created_at'] = customer_order_df['customer_created_at'].astype(str).str.strip()"
   ]
  },
  {
   "cell_type": "code",
   "execution_count": 431,
   "id": "c7842c4a",
   "metadata": {},
   "outputs": [
    {
     "data": {
      "text/html": [
       "<div>\n",
       "<style scoped>\n",
       "    .dataframe tbody tr th:only-of-type {\n",
       "        vertical-align: middle;\n",
       "    }\n",
       "\n",
       "    .dataframe tbody tr th {\n",
       "        vertical-align: top;\n",
       "    }\n",
       "\n",
       "    .dataframe thead th {\n",
       "        text-align: right;\n",
       "    }\n",
       "</style>\n",
       "<table border=\"1\" class=\"dataframe\">\n",
       "  <thead>\n",
       "    <tr style=\"text-align: right;\">\n",
       "      <th></th>\n",
       "      <th>customer_id</th>\n",
       "      <th>feedback_created_at</th>\n",
       "      <th>product_variant_id</th>\n",
       "      <th>address</th>\n",
       "      <th>customer_created_at</th>\n",
       "    </tr>\n",
       "  </thead>\n",
       "  <tbody>\n",
       "    <tr>\n",
       "      <th>0</th>\n",
       "      <td>47241</td>\n",
       "      <td>2024-08-14 00:00:00</td>\n",
       "      <td>176fa9c5cd99bc72a03edbf903bac028</td>\n",
       "      <td>Xã Vĩnh Hòa Hiệp, Huyện Châu Thành, Tỉnh Kiên ...</td>\n",
       "      <td>NaT</td>\n",
       "    </tr>\n",
       "    <tr>\n",
       "      <th>1</th>\n",
       "      <td>252692</td>\n",
       "      <td>2025-05-25 00:00:00</td>\n",
       "      <td>8bf02fd1d779e15776f1b37e58b289b5</td>\n",
       "      <td>Xã Xuân Tháp, Huyện Diễn Châu, Tỉnh Nghệ An</td>\n",
       "      <td>NaT</td>\n",
       "    </tr>\n",
       "    <tr>\n",
       "      <th>2</th>\n",
       "      <td>383840</td>\n",
       "      <td>2024-05-27 00:00:00</td>\n",
       "      <td>6f2bcb848b43c83f58c572dd8e656e9b</td>\n",
       "      <td>Xã Láng Dài, Huyện Long Đất, Tỉnh Bà Rịa - Vũn...</td>\n",
       "      <td>NaT</td>\n",
       "    </tr>\n",
       "    <tr>\n",
       "      <th>3</th>\n",
       "      <td>413985</td>\n",
       "      <td>2025-04-13 00:00:00</td>\n",
       "      <td>7b0f35f899bba514854c1af64f3f4f4f</td>\n",
       "      <td>Xã Quốc Tuấn, Huyện Nam Sách, Tỉnh Hải Dương</td>\n",
       "      <td>NaT</td>\n",
       "    </tr>\n",
       "    <tr>\n",
       "      <th>4</th>\n",
       "      <td>388144</td>\n",
       "      <td>2025-06-14 00:00:00</td>\n",
       "      <td>a3ab30e777f86065b0bc60a686b33ac9</td>\n",
       "      <td>Xã Tân Sơn, Huyện Trà Cú, Tỉnh Trà Vinh</td>\n",
       "      <td>NaT</td>\n",
       "    </tr>\n",
       "  </tbody>\n",
       "</table>\n",
       "</div>"
      ],
      "text/plain": [
       "   customer_id  feedback_created_at                product_variant_id  \\\n",
       "0        47241  2024-08-14 00:00:00  176fa9c5cd99bc72a03edbf903bac028   \n",
       "1       252692  2025-05-25 00:00:00  8bf02fd1d779e15776f1b37e58b289b5   \n",
       "2       383840  2024-05-27 00:00:00  6f2bcb848b43c83f58c572dd8e656e9b   \n",
       "3       413985  2025-04-13 00:00:00  7b0f35f899bba514854c1af64f3f4f4f   \n",
       "4       388144  2025-06-14 00:00:00  a3ab30e777f86065b0bc60a686b33ac9   \n",
       "\n",
       "                                             address customer_created_at  \n",
       "0  Xã Vĩnh Hòa Hiệp, Huyện Châu Thành, Tỉnh Kiên ...                 NaT  \n",
       "1        Xã Xuân Tháp, Huyện Diễn Châu, Tỉnh Nghệ An                 NaT  \n",
       "2  Xã Láng Dài, Huyện Long Đất, Tỉnh Bà Rịa - Vũn...                 NaT  \n",
       "3       Xã Quốc Tuấn, Huyện Nam Sách, Tỉnh Hải Dương                 NaT  \n",
       "4            Xã Tân Sơn, Huyện Trà Cú, Tỉnh Trà Vinh                 NaT  "
      ]
     },
     "execution_count": 431,
     "metadata": {},
     "output_type": "execute_result"
    }
   ],
   "source": [
    "customer_order_df.head()"
   ]
  },
  {
   "cell_type": "markdown",
   "id": "7d95a299",
   "metadata": {},
   "source": [
    "Lấy `id` của các nhân viên quản lý bán hàng (Để phục vụ tạo bảng `order_history`)"
   ]
  },
  {
   "cell_type": "code",
   "execution_count": 432,
   "id": "612198bc",
   "metadata": {},
   "outputs": [
    {
     "name": "stderr",
     "output_type": "stream",
     "text": [
      "C:\\Users\\ADMIN\\AppData\\Local\\Temp\\ipykernel_3232\\2090637469.py:1: UserWarning: pandas only supports SQLAlchemy connectable (engine/connection) or database string URI or sqlite3 DBAPI2 connection. Other DBAPI2 objects are not tested. Please consider using SQLAlchemy.\n",
      "  manager_df = pd.read_sql_query(\"\"\"\n"
     ]
    },
    {
     "data": {
      "text/html": [
       "<div>\n",
       "<style scoped>\n",
       "    .dataframe tbody tr th:only-of-type {\n",
       "        vertical-align: middle;\n",
       "    }\n",
       "\n",
       "    .dataframe tbody tr th {\n",
       "        vertical-align: top;\n",
       "    }\n",
       "\n",
       "    .dataframe thead th {\n",
       "        text-align: right;\n",
       "    }\n",
       "</style>\n",
       "<table border=\"1\" class=\"dataframe\">\n",
       "  <thead>\n",
       "    <tr style=\"text-align: right;\">\n",
       "      <th></th>\n",
       "      <th>id</th>\n",
       "    </tr>\n",
       "  </thead>\n",
       "  <tbody>\n",
       "    <tr>\n",
       "      <th>0</th>\n",
       "      <td>0</td>\n",
       "    </tr>\n",
       "    <tr>\n",
       "      <th>1</th>\n",
       "      <td>8</td>\n",
       "    </tr>\n",
       "    <tr>\n",
       "      <th>2</th>\n",
       "      <td>11</td>\n",
       "    </tr>\n",
       "    <tr>\n",
       "      <th>3</th>\n",
       "      <td>14</td>\n",
       "    </tr>\n",
       "    <tr>\n",
       "      <th>4</th>\n",
       "      <td>15</td>\n",
       "    </tr>\n",
       "  </tbody>\n",
       "</table>\n",
       "</div>"
      ],
      "text/plain": [
       "   id\n",
       "0   0\n",
       "1   8\n",
       "2  11\n",
       "3  14\n",
       "4  15"
      ]
     },
     "execution_count": 432,
     "metadata": {},
     "output_type": "execute_result"
    }
   ],
   "source": [
    "manager_df = pd.read_sql_query(\"\"\"\n",
    "    SELECT m.id\n",
    "    FROM manager as m\n",
    "    JOIN role as r\n",
    "    ON m.role_id = r.id\n",
    "    WHERE r.name = 'product_manager'\n",
    "    ORDER BY m.id;\n",
    "\"\"\", conn)\n",
    "\n",
    "manager_df.head()"
   ]
  },
  {
   "cell_type": "code",
   "execution_count": 433,
   "id": "7cb96110",
   "metadata": {},
   "outputs": [],
   "source": [
    "manager_ids = manager_df['id'].tolist()"
   ]
  },
  {
   "cell_type": "markdown",
   "id": "c8380772",
   "metadata": {},
   "source": [
    "Xử lý ngày tạo đơn\n",
    "\n",
    "- Nếu khách hàng đã đánh giá sản phẩm, ngày tạo đơn có thể nằm từ 1-3 ngày trước khi đánh giá.\n",
    "\n",
    "- Nếu khách hàng chưa đánh giá, sinh ngẫu nhiên ngày trong khoảng từ khi tạo tài khoản tới hiện tại."
   ]
  },
  {
   "cell_type": "code",
   "execution_count": 434,
   "id": "a6098062",
   "metadata": {},
   "outputs": [],
   "source": [
    "def get_order_date(row):\n",
    "    if pd.isna(row['feedback_created_at']):\n",
    "        return random_date(row['customer_created_at'])\n",
    "    \n",
    "    return (datetime.strptime(row['feedback_created_at'], '%Y-%m-%d %H:%M:%S') - timedelta(days=random_generator.randint(1, 3))).strftime('%Y-%m-%d %H:%M:%S')"
   ]
  },
  {
   "cell_type": "code",
   "execution_count": 435,
   "id": "fa60e78d",
   "metadata": {},
   "outputs": [],
   "source": [
    "def get_status(row):\n",
    "    if pd.isna(row['feedback_created_at']):\n",
    "        return random_order()\n",
    "    \n",
    "    return random_order(manage_order_status='Completed', order_status='Completed', payment_status='Paid')"
   ]
  },
  {
   "cell_type": "code",
   "execution_count": 436,
   "id": "4f3a46e4",
   "metadata": {},
   "outputs": [],
   "source": [
    "def get_payment_date(row, payment_method, order_date, order_status):\n",
    "    if pd.isna(row['feedback_created_at']):\n",
    "        if payment_method == 'COD' and order_status == 'Completed':\n",
    "                return random_date(order_date)\n",
    "        if payment_method != 'COD':\n",
    "            return order_date\n",
    "        \n",
    "        return None\n",
    "    \n",
    "    if payment_method == 'COD':\n",
    "        return random_date(order_date)\n",
    "    \n",
    "    return order_date"
   ]
  },
  {
   "cell_type": "code",
   "execution_count": 437,
   "id": "ac32b2c8",
   "metadata": {},
   "outputs": [],
   "source": [
    "def get_payment_amount(unit_price, quantity, order_date, voucher):\n",
    "\n",
    "    if voucher is None or check_status(voucher['start_date'], voucher['end_date'], order_date) == 'Expired':\n",
    "        return unit_price * quantity\n",
    "    \n",
    "\n",
    "    if voucher['type'] == 'Percentage':\n",
    "        return unit_price * quantity * (1 - voucher['value'])\n",
    "    \n",
    "    return unit_price * quantity - voucher['value']"
   ]
  },
  {
   "cell_type": "markdown",
   "id": "6564cdf8",
   "metadata": {},
   "source": [
    "## 2. Tạo dataframe ``order``, ``order_item``, ``order_history``"
   ]
  },
  {
   "cell_type": "markdown",
   "id": "d1d059cb",
   "metadata": {},
   "source": [
    "- Dataframe `order` (`id`, `customer_id`, `order_date`, `shipping_address`, `status`, `payment_method`, `payment_date`, `payment_status`, `payment_amount`)\n",
    "\n",
    "- Dataframe `order_item` (`id`, `product_variant_id`, `order_id`, `quantity`, `unit_price`, `note`)\n",
    "\n",
    "- Dataframe `order_history` (`id`, `manager_id`, `order_id`, `processing_time`, `previous_status`, `new_status`)"
   ]
  },
  {
   "cell_type": "code",
   "execution_count": 460,
   "id": "26f989c2",
   "metadata": {},
   "outputs": [
    {
     "name": "stderr",
     "output_type": "stream",
     "text": [
      "Processing orders: 100%|\u001b[32m██████████\u001b[0m| 1001934/1001934 [16:22<00:00, 1019.79rows/s]\n"
     ]
    }
   ],
   "source": [
    "order_rows = []\n",
    "order_item_rows = []\n",
    "order_history_rows = []\n",
    "\n",
    "\n",
    "for index, row in tqdm(customer_order_df.iterrows(), total=customer_order_df.shape[0], desc='Processing orders', unit=\"rows\", colour='green'):\n",
    "\n",
    "    customer_id = row['customer_id']\n",
    "\n",
    "    order_date = get_order_date(row)\n",
    "\n",
    "    shipping_address = row['address']\n",
    "\n",
    "    status_dict = get_status(row)\n",
    "\n",
    "    status = status_dict['order_status']\n",
    "\n",
    "    payment_method = status_dict['payment_method']\n",
    "\n",
    "    payment_date = get_payment_date(row, payment_method, order_date, status)\n",
    "\n",
    "    payment_status = status_dict['payment_status']\n",
    "\n",
    "    product_variant_id = row['product_variant_id']\n",
    "\n",
    "    quantity = random_generator.randint(1, 5)\n",
    "\n",
    "    unit_price = product_variant_df.loc[product_variant_df['id'] == product_variant_id, 'price'].values[0]\n",
    "\n",
    "    voucher = variant_id_to_voucher.get(product_variant_id, None)\n",
    "\n",
    "    payment_amount = get_payment_amount(unit_price, quantity, order_date, voucher)\n",
    "\n",
    "    manager_id = random_generator.choice(manager_ids)\n",
    "\n",
    "    processing_time = random_date(order_date, payment_date) if payment_date else None\n",
    "\n",
    "    previous_status = random_generator.choice(['Pending', 'Processing', 'Completed', 'Cancelled'])\n",
    "\n",
    "    new_status = status\n",
    "\n",
    "    order_id = get_md5_hash(pd.Series({\n",
    "        'customer_id': customer_id,\n",
    "        'order_date': order_date,\n",
    "        'shipping_address': shipping_address,\n",
    "        'status': status,\n",
    "        'payment_method': payment_method,\n",
    "        'payment_date': payment_date,\n",
    "        'payment_status': payment_status,\n",
    "        'payment_amount': payment_amount\n",
    "    }))\n",
    "\n",
    "    order_rows.append({\n",
    "        'id': order_id,\n",
    "        'customer_id': customer_id,\n",
    "        'order_date': order_date,\n",
    "        'shipping_address': shipping_address,\n",
    "        'status': status,\n",
    "        'payment_method': payment_method,\n",
    "        'payment_date': payment_date,\n",
    "        'payment_status': payment_status,\n",
    "        'payment_amount': payment_amount,\n",
    "    })\n",
    "\n",
    "    order_item_id = get_md5_hash(pd.Series({\n",
    "        'product_variant_id': product_variant_id,\n",
    "        'order_id': order_id,\n",
    "        'quantity': quantity,\n",
    "        'unit_price': unit_price,\n",
    "        'note': ''\n",
    "    }))\n",
    "\n",
    "    order_item_rows.append({\n",
    "        'id': order_item_id,\n",
    "        'product_variant_id': product_variant_id,\n",
    "        'order_id': order_id,\n",
    "        'quantity': quantity,\n",
    "        'unit_price': unit_price,\n",
    "        'note': '',\n",
    "    })\n",
    "\n",
    "    order_history_id = get_md5_hash(pd.Series({\n",
    "        'manager_id': manager_id,\n",
    "        'order_id': order_id,\n",
    "        'processing_time': processing_time,\n",
    "        'previous_status': previous_status,\n",
    "        'new_status': new_status\n",
    "    }))\n",
    "\n",
    "    order_history_rows.append({\n",
    "        'id': order_history_id,\n",
    "        'manager_id': manager_id,\n",
    "        'order_id': order_id,\n",
    "        'processing_time': processing_time,\n",
    "        'previous_status': previous_status,\n",
    "        'new_status': new_status,\n",
    "    })\n",
    "\n",
    "order_df = pd.DataFrame(order_rows)\n",
    "order_item_df = pd.DataFrame(order_item_rows)\n",
    "order_history_df = pd.DataFrame(order_history_rows)\n",
    "\n",
    "order_df.drop_duplicates(subset=['id'], inplace=True)\n",
    "\n",
    "order_df.sort_values(by='id', inplace=True)\n",
    "order_df.reset_index(drop=True, inplace=True)\n",
    "\n",
    "order_item_df.sort_values(by='id', inplace=True)\n",
    "order_item_df.reset_index(drop=True, inplace=True)\n",
    "\n",
    "order_history_df.sort_values(by='id', inplace=True)\n",
    "order_history_df.reset_index(drop=True, inplace=True)"
   ]
  },
  {
   "cell_type": "code",
   "execution_count": 461,
   "id": "75ebb2b4",
   "metadata": {},
   "outputs": [
    {
     "data": {
      "text/html": [
       "<div>\n",
       "<style scoped>\n",
       "    .dataframe tbody tr th:only-of-type {\n",
       "        vertical-align: middle;\n",
       "    }\n",
       "\n",
       "    .dataframe tbody tr th {\n",
       "        vertical-align: top;\n",
       "    }\n",
       "\n",
       "    .dataframe thead th {\n",
       "        text-align: right;\n",
       "    }\n",
       "</style>\n",
       "<table border=\"1\" class=\"dataframe\">\n",
       "  <thead>\n",
       "    <tr style=\"text-align: right;\">\n",
       "      <th></th>\n",
       "      <th>id</th>\n",
       "      <th>customer_id</th>\n",
       "      <th>order_date</th>\n",
       "      <th>shipping_address</th>\n",
       "      <th>status</th>\n",
       "      <th>payment_method</th>\n",
       "      <th>payment_date</th>\n",
       "      <th>payment_status</th>\n",
       "      <th>payment_amount</th>\n",
       "    </tr>\n",
       "  </thead>\n",
       "  <tbody>\n",
       "    <tr>\n",
       "      <th>0</th>\n",
       "      <td>0000052ae35a58d64d5d0922175c8d2d</td>\n",
       "      <td>897238</td>\n",
       "      <td>2024-04-28 00:00:00</td>\n",
       "      <td>Xã An Khương, Huyện Hớn Quản, Tỉnh Bình Phước</td>\n",
       "      <td>Completed</td>\n",
       "      <td>PayPal</td>\n",
       "      <td>2024-04-28 00:00:00</td>\n",
       "      <td>Paid</td>\n",
       "      <td>50550000.0</td>\n",
       "    </tr>\n",
       "    <tr>\n",
       "      <th>1</th>\n",
       "      <td>00000f0f733c90633b48ee659af09559</td>\n",
       "      <td>415113</td>\n",
       "      <td>2024-07-22 00:00:00</td>\n",
       "      <td>Xã Hợp Tiến, Huyện Mỹ Đức, Thành phố Hà Nội</td>\n",
       "      <td>Completed</td>\n",
       "      <td>COD</td>\n",
       "      <td>2025-03-16 00:00:00</td>\n",
       "      <td>Paid</td>\n",
       "      <td>45950000.0</td>\n",
       "    </tr>\n",
       "    <tr>\n",
       "      <th>2</th>\n",
       "      <td>00001971202fbe6dbc5e3b169dbac59e</td>\n",
       "      <td>403875</td>\n",
       "      <td>2025-02-28 00:00:00</td>\n",
       "      <td>Xã Ngũ Phúc, Huyện Kim Thành, Tỉnh Hải Dương</td>\n",
       "      <td>Completed</td>\n",
       "      <td>Bank Transfer</td>\n",
       "      <td>2025-02-28 00:00:00</td>\n",
       "      <td>Paid</td>\n",
       "      <td>16000000.0</td>\n",
       "    </tr>\n",
       "    <tr>\n",
       "      <th>3</th>\n",
       "      <td>0000267a647dd19e2b47a53553900f47</td>\n",
       "      <td>240122</td>\n",
       "      <td>2025-02-13 00:00:00</td>\n",
       "      <td>Xã Phong Mỹ, Thị xã Phong Điền, Thành phố Huế</td>\n",
       "      <td>Completed</td>\n",
       "      <td>Credit Card</td>\n",
       "      <td>2025-02-13 00:00:00</td>\n",
       "      <td>Paid</td>\n",
       "      <td>1780920.0</td>\n",
       "    </tr>\n",
       "    <tr>\n",
       "      <th>4</th>\n",
       "      <td>0000295cc8a12d1e1a44e87313d0e589</td>\n",
       "      <td>311344</td>\n",
       "      <td>2024-07-18 00:00:00</td>\n",
       "      <td>Xã Lương Bình, Huyện Bến Lức, Tỉnh Long An</td>\n",
       "      <td>Completed</td>\n",
       "      <td>Credit Card</td>\n",
       "      <td>2024-07-18 00:00:00</td>\n",
       "      <td>Paid</td>\n",
       "      <td>14940000.0</td>\n",
       "    </tr>\n",
       "  </tbody>\n",
       "</table>\n",
       "</div>"
      ],
      "text/plain": [
       "                                 id  customer_id           order_date  \\\n",
       "0  0000052ae35a58d64d5d0922175c8d2d       897238  2024-04-28 00:00:00   \n",
       "1  00000f0f733c90633b48ee659af09559       415113  2024-07-22 00:00:00   \n",
       "2  00001971202fbe6dbc5e3b169dbac59e       403875  2025-02-28 00:00:00   \n",
       "3  0000267a647dd19e2b47a53553900f47       240122  2025-02-13 00:00:00   \n",
       "4  0000295cc8a12d1e1a44e87313d0e589       311344  2024-07-18 00:00:00   \n",
       "\n",
       "                                shipping_address     status payment_method  \\\n",
       "0  Xã An Khương, Huyện Hớn Quản, Tỉnh Bình Phước  Completed         PayPal   \n",
       "1    Xã Hợp Tiến, Huyện Mỹ Đức, Thành phố Hà Nội  Completed            COD   \n",
       "2   Xã Ngũ Phúc, Huyện Kim Thành, Tỉnh Hải Dương  Completed  Bank Transfer   \n",
       "3  Xã Phong Mỹ, Thị xã Phong Điền, Thành phố Huế  Completed    Credit Card   \n",
       "4     Xã Lương Bình, Huyện Bến Lức, Tỉnh Long An  Completed    Credit Card   \n",
       "\n",
       "          payment_date payment_status  payment_amount  \n",
       "0  2024-04-28 00:00:00           Paid      50550000.0  \n",
       "1  2025-03-16 00:00:00           Paid      45950000.0  \n",
       "2  2025-02-28 00:00:00           Paid      16000000.0  \n",
       "3  2025-02-13 00:00:00           Paid       1780920.0  \n",
       "4  2024-07-18 00:00:00           Paid      14940000.0  "
      ]
     },
     "execution_count": 461,
     "metadata": {},
     "output_type": "execute_result"
    }
   ],
   "source": [
    "order_df.head()"
   ]
  },
  {
   "cell_type": "code",
   "execution_count": 462,
   "id": "4bcb7136",
   "metadata": {},
   "outputs": [
    {
     "data": {
      "text/html": [
       "<div>\n",
       "<style scoped>\n",
       "    .dataframe tbody tr th:only-of-type {\n",
       "        vertical-align: middle;\n",
       "    }\n",
       "\n",
       "    .dataframe tbody tr th {\n",
       "        vertical-align: top;\n",
       "    }\n",
       "\n",
       "    .dataframe thead th {\n",
       "        text-align: right;\n",
       "    }\n",
       "</style>\n",
       "<table border=\"1\" class=\"dataframe\">\n",
       "  <thead>\n",
       "    <tr style=\"text-align: right;\">\n",
       "      <th></th>\n",
       "      <th>id</th>\n",
       "      <th>product_variant_id</th>\n",
       "      <th>order_id</th>\n",
       "      <th>quantity</th>\n",
       "      <th>unit_price</th>\n",
       "      <th>note</th>\n",
       "    </tr>\n",
       "  </thead>\n",
       "  <tbody>\n",
       "    <tr>\n",
       "      <th>0</th>\n",
       "      <td>0000009c533183840d597f9ebbbc2626</td>\n",
       "      <td>cccf4ddea17489dedff2c50f36da8f26</td>\n",
       "      <td>054328a6af0d4e181e25490270d9f9c1</td>\n",
       "      <td>5</td>\n",
       "      <td>3320000</td>\n",
       "      <td></td>\n",
       "    </tr>\n",
       "    <tr>\n",
       "      <th>1</th>\n",
       "      <td>000005cb1010a3af0fc1278a6a6373b7</td>\n",
       "      <td>98ae96bb17bbde25608d13c1dedd1771</td>\n",
       "      <td>1fe986f69f80a77b8a9556d1c546609c</td>\n",
       "      <td>2</td>\n",
       "      <td>2415300</td>\n",
       "      <td></td>\n",
       "    </tr>\n",
       "    <tr>\n",
       "      <th>2</th>\n",
       "      <td>000005ff36ea0eb821a1f9ef49049848</td>\n",
       "      <td>f8e9004c1f3b36e8469f1e185664e856</td>\n",
       "      <td>c60ccce9ec772e2ae44ee2d8001cfc13</td>\n",
       "      <td>5</td>\n",
       "      <td>9900000</td>\n",
       "      <td></td>\n",
       "    </tr>\n",
       "    <tr>\n",
       "      <th>3</th>\n",
       "      <td>000007da6348d195a199b9eebe1c3849</td>\n",
       "      <td>f2d4487a13efa2b907e0a49b7848fcb9</td>\n",
       "      <td>878a6a6ba2813eaea50af483eb13258c</td>\n",
       "      <td>5</td>\n",
       "      <td>644080</td>\n",
       "      <td></td>\n",
       "    </tr>\n",
       "    <tr>\n",
       "      <th>4</th>\n",
       "      <td>000009ef5c5d66628fdc8a68d28bb4c3</td>\n",
       "      <td>763e055ef0c872c18bb7a61c35a689d9</td>\n",
       "      <td>846fcd2839d6a04751e2b389658375d7</td>\n",
       "      <td>4</td>\n",
       "      <td>6600000</td>\n",
       "      <td></td>\n",
       "    </tr>\n",
       "  </tbody>\n",
       "</table>\n",
       "</div>"
      ],
      "text/plain": [
       "                                 id                product_variant_id  \\\n",
       "0  0000009c533183840d597f9ebbbc2626  cccf4ddea17489dedff2c50f36da8f26   \n",
       "1  000005cb1010a3af0fc1278a6a6373b7  98ae96bb17bbde25608d13c1dedd1771   \n",
       "2  000005ff36ea0eb821a1f9ef49049848  f8e9004c1f3b36e8469f1e185664e856   \n",
       "3  000007da6348d195a199b9eebe1c3849  f2d4487a13efa2b907e0a49b7848fcb9   \n",
       "4  000009ef5c5d66628fdc8a68d28bb4c3  763e055ef0c872c18bb7a61c35a689d9   \n",
       "\n",
       "                           order_id  quantity  unit_price note  \n",
       "0  054328a6af0d4e181e25490270d9f9c1         5     3320000       \n",
       "1  1fe986f69f80a77b8a9556d1c546609c         2     2415300       \n",
       "2  c60ccce9ec772e2ae44ee2d8001cfc13         5     9900000       \n",
       "3  878a6a6ba2813eaea50af483eb13258c         5      644080       \n",
       "4  846fcd2839d6a04751e2b389658375d7         4     6600000       "
      ]
     },
     "execution_count": 462,
     "metadata": {},
     "output_type": "execute_result"
    }
   ],
   "source": [
    "order_item_df.head()"
   ]
  },
  {
   "cell_type": "code",
   "execution_count": 463,
   "id": "d4ef3bd0",
   "metadata": {},
   "outputs": [
    {
     "data": {
      "text/html": [
       "<div>\n",
       "<style scoped>\n",
       "    .dataframe tbody tr th:only-of-type {\n",
       "        vertical-align: middle;\n",
       "    }\n",
       "\n",
       "    .dataframe tbody tr th {\n",
       "        vertical-align: top;\n",
       "    }\n",
       "\n",
       "    .dataframe thead th {\n",
       "        text-align: right;\n",
       "    }\n",
       "</style>\n",
       "<table border=\"1\" class=\"dataframe\">\n",
       "  <thead>\n",
       "    <tr style=\"text-align: right;\">\n",
       "      <th></th>\n",
       "      <th>id</th>\n",
       "      <th>manager_id</th>\n",
       "      <th>order_id</th>\n",
       "      <th>processing_time</th>\n",
       "      <th>previous_status</th>\n",
       "      <th>new_status</th>\n",
       "    </tr>\n",
       "  </thead>\n",
       "  <tbody>\n",
       "    <tr>\n",
       "      <th>0</th>\n",
       "      <td>00000d62ce4e753141bc62ea174250ef</td>\n",
       "      <td>107</td>\n",
       "      <td>61c2a793d8bdc8bf09743544149639d7</td>\n",
       "      <td>2025-03-12 00:00:00</td>\n",
       "      <td>Processing</td>\n",
       "      <td>Completed</td>\n",
       "    </tr>\n",
       "    <tr>\n",
       "      <th>1</th>\n",
       "      <td>00000fbc8d50472bdfff7457de871072</td>\n",
       "      <td>37</td>\n",
       "      <td>e4090171e372aa1ca5adfc2da0c43496</td>\n",
       "      <td>2024-03-29 00:00:00</td>\n",
       "      <td>Pending</td>\n",
       "      <td>Completed</td>\n",
       "    </tr>\n",
       "    <tr>\n",
       "      <th>2</th>\n",
       "      <td>000014e59ee38434fdc4a7a6023701f1</td>\n",
       "      <td>39</td>\n",
       "      <td>93616fbabf5ae05fb2b1aa8a6e4cd5ec</td>\n",
       "      <td>2024-08-20 00:00:00</td>\n",
       "      <td>Pending</td>\n",
       "      <td>Completed</td>\n",
       "    </tr>\n",
       "    <tr>\n",
       "      <th>3</th>\n",
       "      <td>000023209a1e90b7f1f820779d59cafa</td>\n",
       "      <td>37</td>\n",
       "      <td>efb1667f1edbc6b983024fd15b7440e2</td>\n",
       "      <td>2024-11-08 00:00:00</td>\n",
       "      <td>Pending</td>\n",
       "      <td>Completed</td>\n",
       "    </tr>\n",
       "    <tr>\n",
       "      <th>4</th>\n",
       "      <td>0000242f570b2f872635ce3f8ffe0c78</td>\n",
       "      <td>118</td>\n",
       "      <td>ce064a80e77f6fca60e42cba497f8d7c</td>\n",
       "      <td>2025-05-02 00:00:00</td>\n",
       "      <td>Processing</td>\n",
       "      <td>Completed</td>\n",
       "    </tr>\n",
       "  </tbody>\n",
       "</table>\n",
       "</div>"
      ],
      "text/plain": [
       "                                 id  manager_id  \\\n",
       "0  00000d62ce4e753141bc62ea174250ef         107   \n",
       "1  00000fbc8d50472bdfff7457de871072          37   \n",
       "2  000014e59ee38434fdc4a7a6023701f1          39   \n",
       "3  000023209a1e90b7f1f820779d59cafa          37   \n",
       "4  0000242f570b2f872635ce3f8ffe0c78         118   \n",
       "\n",
       "                           order_id      processing_time previous_status  \\\n",
       "0  61c2a793d8bdc8bf09743544149639d7  2025-03-12 00:00:00      Processing   \n",
       "1  e4090171e372aa1ca5adfc2da0c43496  2024-03-29 00:00:00         Pending   \n",
       "2  93616fbabf5ae05fb2b1aa8a6e4cd5ec  2024-08-20 00:00:00         Pending   \n",
       "3  efb1667f1edbc6b983024fd15b7440e2  2024-11-08 00:00:00         Pending   \n",
       "4  ce064a80e77f6fca60e42cba497f8d7c  2025-05-02 00:00:00      Processing   \n",
       "\n",
       "  new_status  \n",
       "0  Completed  \n",
       "1  Completed  \n",
       "2  Completed  \n",
       "3  Completed  \n",
       "4  Completed  "
      ]
     },
     "execution_count": 463,
     "metadata": {},
     "output_type": "execute_result"
    }
   ],
   "source": [
    "order_history_df.head()"
   ]
  },
  {
   "cell_type": "markdown",
   "id": "5a6558b9",
   "metadata": {},
   "source": [
    "# V. Lưu Dataframe vào SQL Server"
   ]
  },
  {
   "cell_type": "markdown",
   "id": "8eaa73b1",
   "metadata": {},
   "source": [
    "Xóa các bảng nếu đã tồn tại trong database"
   ]
  },
  {
   "cell_type": "code",
   "execution_count": 469,
   "id": "0d141903",
   "metadata": {},
   "outputs": [
    {
     "data": {
      "text/plain": [
       "<pyodbc.Cursor at 0x1f23b8fd6b0>"
      ]
     },
     "execution_count": 469,
     "metadata": {},
     "output_type": "execute_result"
    }
   ],
   "source": [
    "conn.execute(\"\"\"\n",
    "    IF OBJECT_ID('order_history', 'U') IS NOT NULL DROP TABLE order_history;\n",
    "\n",
    "    IF OBJECT_ID('order_item', 'U') IS NOT NULL DROP TABLE order_item;\n",
    "\n",
    "    IF OBJECT_ID('order', 'U') IS NOT NULL DROP TABLE [order];   \n",
    "\n",
    "    IF OBJECT_ID('discount', 'U') IS NOT NULL DROP TABLE discount;\n",
    "\n",
    "    IF OBJECT_ID('feedback_response', 'U') IS NOT NULL DROP TABLE feedback_response;\n",
    "\n",
    "    IF OBJECT_ID('feedback', 'U') IS NOT NULL DROP TABLE feedback;\n",
    "\n",
    "    IF OBJECT_ID('attribute_variant', 'U') IS NOT NULL DROP TABLE attribute_variant;\n",
    "\n",
    "    IF OBJECT_ID('product_variant', 'U') IS NOT NULL DROP TABLE product_variant;\n",
    "\n",
    "    IF OBJECT_ID('attribute_value', 'U') IS NOT NULL DROP TABLE attribute_value;\n",
    "\n",
    "    IF OBJECT_ID('attribute', 'U') IS NOT NULL DROP TABLE attribute;\n",
    "\n",
    "    IF OBJECT_ID('product', 'U') IS NOT NULL DROP TABLE product;\n",
    "\n",
    "    IF OBJECT_ID('category', 'U') IS NOT NULL DROP TABLE category; \n",
    "\"\"\")"
   ]
  },
  {
   "cell_type": "markdown",
   "id": "7bac52a7",
   "metadata": {},
   "source": [
    "Tạo bảng"
   ]
  },
  {
   "cell_type": "code",
   "execution_count": 470,
   "id": "269eca28",
   "metadata": {},
   "outputs": [
    {
     "data": {
      "text/plain": [
       "<pyodbc.Cursor at 0x1f20bb81430>"
      ]
     },
     "execution_count": 470,
     "metadata": {},
     "output_type": "execute_result"
    }
   ],
   "source": [
    "conn.execute(\"\"\"\n",
    "    CREATE TABLE category (\n",
    "        id NVARCHAR(255) PRIMARY KEY,\n",
    "        name NVARCHAR(255) NOT NULL,\n",
    "    )\n",
    "\"\"\")\n",
    "\n",
    "conn.execute(\"\"\"\n",
    "    CREATE TABLE product (\n",
    "        id NVARCHAR(255) PRIMARY KEY,\n",
    "        category_id NVARCHAR(255) NOT NULL,\n",
    "        name NVARCHAR(255) NOT NULL,\n",
    "        description NVARCHAR(MAX),\n",
    "        specification NVARCHAR(MAX),\n",
    "        image_url NVARCHAR(MAX),\n",
    "        brand NVARCHAR(255),\n",
    "        CONSTRAINT fk_product_category FOREIGN KEY (category_id) REFERENCES category(id)\n",
    "    )\n",
    "\"\"\")\n",
    "\n",
    "conn.execute(\"\"\"\n",
    "    CREATE TABLE attribute (\n",
    "        id NVARCHAR(255) PRIMARY KEY,\n",
    "        name NVARCHAR(255) NOT NULL,\n",
    "    )\n",
    "\"\"\")\n",
    "\n",
    "conn.execute(\"\"\"\n",
    "    CREATE TABLE attribute_value (\n",
    "        id NVARCHAR(255) PRIMARY KEY,\n",
    "        attribute_id NVARCHAR(255) NOT NULL,\n",
    "        value NVARCHAR(255) NOT NULL,\n",
    "        CONSTRAINT fk_attribute_value_attribute FOREIGN KEY (attribute_id) REFERENCES attribute(id)\n",
    "    )\n",
    "\"\"\")\n",
    "\n",
    "conn.execute(\"\"\"\n",
    "    CREATE TABLE product_variant (\n",
    "        id NVARCHAR(255) PRIMARY KEY,\n",
    "        product_id NVARCHAR(255) NOT NULL,\n",
    "        price DECIMAL(30,3) NOT NULL,\n",
    "        original_price DECIMAL(30,3) NOT NULL,\n",
    "        profit DECIMAL(30,3) NOT NULL,\n",
    "        sku NVARCHAR(MAX),\n",
    "        stock_quantity INT DEFAULT 0,\n",
    "        sold_quantity INT DEFAULT 0,\n",
    "        CONSTRAINT fk_product_variant_product FOREIGN KEY (product_id) REFERENCES product(id)\n",
    "    )\n",
    "\"\"\")\n",
    "\n",
    "conn.execute(\"\"\"\n",
    "    CREATE TABLE attribute_variant (\n",
    "        product_variant_id NVARCHAR(255) NOT NULL,\n",
    "        attribute_id NVARCHAR(255) NOT NULL,\n",
    "        attribute_value_id NVARCHAR(255) NOT NULL,\n",
    "        hash NVARCHAR(255) NOT NULL,\n",
    "        CONSTRAINT pk_variant_attribute PRIMARY KEY (attribute_value_id, attribute_id, product_variant_id),\n",
    "        CONSTRAINT fk_variant_attribute_attribute_value FOREIGN KEY (attribute_value_id) REFERENCES attribute_value(id),\n",
    "        CONSTRAINT fk_variant_attribute_attribute FOREIGN KEY (attribute_id) REFERENCES attribute(id),\n",
    "        CONSTRAINT fk_variant_attribute_product_variant FOREIGN KEY (product_variant_id) REFERENCES product_variant(id)\n",
    "    )\n",
    "\"\"\")\n",
    "\n",
    "conn.execute(\"\"\"\n",
    "    CREATE TABLE feedback (\n",
    "        id NVARCHAR(255) PRIMARY KEY,\n",
    "        customer_id INT NOT NULL,\n",
    "        product_id NVARCHAR(255) NOT NULL,\n",
    "        product_variant_id NVARCHAR(255) NULL,\n",
    "        rating INT CHECK (rating BETWEEN 1 AND 5),\n",
    "        comment NVARCHAR(MAX) NULL,\n",
    "        created_at DATETIME DEFAULT GETDATE(),\n",
    "        CONSTRAINT fk_feedback_product FOREIGN KEY (product_id) REFERENCES product(id),\n",
    "        CONSTRAINT fk_feedback_product_variant FOREIGN KEY (product_variant_id) REFERENCES product_variant(id)\n",
    "    )\n",
    "\"\"\")\n",
    "\n",
    "conn.execute(\"\"\"\n",
    "    CREATE TABLE feedback_response (\n",
    "        id NVARCHAR(255) PRIMARY KEY,\n",
    "        manager_id INT NOT NULL,\n",
    "        feedback_id NVARCHAR(255) NOT NULL,\n",
    "        content NVARCHAR(MAX),\n",
    "        created_at DATETIME DEFAULT GETDATE(),\n",
    "        CONSTRAINT fk_feedback_response_manager FOREIGN KEY (manager_id) REFERENCES manager(id),\n",
    "        CONSTRAINT fk_feedback_response_feedback FOREIGN KEY (feedback_id) REFERENCES feedback(id)\n",
    "    )\n",
    "\"\"\")\n",
    "\n",
    "conn.execute(\"\"\"\n",
    "    CREATE TABLE discount (\n",
    "        id NVARCHAR(255) PRIMARY KEY,\n",
    "        product_variant_id NVARCHAR(255) NOT NULL,\n",
    "        code NVARCHAR(100),\n",
    "        name NVARCHAR(255),\n",
    "        type NVARCHAR(255), \n",
    "        value DECIMAL(19,3),\n",
    "        status NVARCHAR(255) DEFAULT 'Active',\n",
    "        start_date DATETIME,\n",
    "        end_date DATETIME,\n",
    "        CONSTRAINT fk_discount_product_variant FOREIGN KEY (product_variant_id) REFERENCES product_variant(id)\n",
    "    )\n",
    "\"\"\")\n",
    "\n",
    "conn.execute(\"\"\"\n",
    "    CREATE TABLE [order] (\n",
    "        id NVARCHAR(255) PRIMARY KEY,\n",
    "        customer_id INT NOT NULL,\n",
    "        order_date DATETIME DEFAULT GETDATE(),\n",
    "        shipping_address NVARCHAR(MAX),\n",
    "        status NVARCHAR(255) DEFAULT 'Processing', \n",
    "        payment_method NVARCHAR(255),\n",
    "        payment_date DATETIME,\n",
    "        payment_status NVARCHAR(255) DEFAULT 'Pending',\n",
    "        payment_amount DECIMAL(30,3),\n",
    "        CONSTRAINT fk_order_customer FOREIGN KEY (customer_id) REFERENCES customer(id)\n",
    "    )\n",
    "\"\"\")\n",
    "\n",
    "conn.execute(\"\"\"\n",
    "    CREATE TABLE order_item (\n",
    "        id NVARCHAR(255) PRIMARY KEY,\n",
    "        product_variant_id NVARCHAR(255) NOT NULL,\n",
    "        order_id NVARCHAR(255) NOT NULL,\n",
    "        quantity INT NOT NULL DEFAULT 1,\n",
    "        unit_price DECIMAL(30,2) NOT NULL,\n",
    "        note NVARCHAR(MAX),\n",
    "        CONSTRAINT fk_order_item_product_variant FOREIGN KEY (product_variant_id) REFERENCES product_variant(id),\n",
    "        CONSTRAINT fk_order_item_order FOREIGN KEY (order_id) REFERENCES [order](id)\n",
    "    )\n",
    "\"\"\")\n",
    "\n",
    "conn.execute(\"\"\"\n",
    "    CREATE TABLE order_history (\n",
    "        id NVARCHAR(255) PRIMARY KEY,\n",
    "        manager_id INT NOT NULL,\n",
    "        order_id NVARCHAR(255) NOT NULL,\n",
    "        processing_time DATETIME DEFAULT GETDATE(),\n",
    "        previous_status NVARCHAR(255), \n",
    "        new_status NVARCHAR(255), \n",
    "        CONSTRAINT fk_order_history_manager FOREIGN KEY (manager_id) REFERENCES manager(id),\n",
    "        CONSTRAINT fk_order_history_order FOREIGN KEY (order_id) REFERENCES [order](id)\n",
    "    )\n",
    "\"\"\")\n",
    "\n",
    "conn.execute(\"CREATE INDEX idx_attribute_variant_hash ON attribute_variant(hash)\")\n"
   ]
  },
  {
   "cell_type": "code",
   "execution_count": 466,
   "id": "0921770f",
   "metadata": {},
   "outputs": [
    {
     "name": "stderr",
     "output_type": "stream",
     "text": [
      "Creating category tuples: 100%|\u001b[32m██████████\u001b[0m| 46/46 [00:00<00:00, 9662.84rows/s]\n",
      "Creating product tuples: 100%|\u001b[32m██████████\u001b[0m| 2636/2636 [00:00<00:00, 9417.21rows/s]\n",
      "Creating attribute tuples: 100%|\u001b[32m██████████\u001b[0m| 12/12 [00:00<00:00, 14521.54rows/s]\n",
      "Creating attribute_value tuples: 100%|\u001b[32m██████████\u001b[0m| 715/715 [00:00<00:00, 122665.55rows/s]\n",
      "Creating product_variant tuples: 100%|\u001b[32m██████████\u001b[0m| 3704/3704 [00:00<00:00, 92539.97rows/s]\n",
      "Creating attribute_variant tuples: 100%|\u001b[32m██████████\u001b[0m| 4131/4131 [00:00<00:00, 250454.17rows/s]\n",
      "Creating feedback tuples: 100%|\u001b[32m██████████\u001b[0m| 1934/1934 [00:00<00:00, 65466.18rows/s]\n",
      "Creating feedback_response tuples: 100%|\u001b[32m██████████\u001b[0m| 549/549 [00:00<00:00, 84744.33rows/s]\n",
      "Creating order tuples: 100%|\u001b[32m██████████\u001b[0m| 1001934/1001934 [00:04<00:00, 221703.08rows/s]\n",
      "Creating order_item tuples: 100%|\u001b[32m██████████\u001b[0m| 1001934/1001934 [00:02<00:00, 356992.62rows/s]\n",
      "Creating order_history tuples: 100%|\u001b[32m██████████\u001b[0m| 1001934/1001934 [00:06<00:00, 165086.06rows/s]\n",
      "Creating discount tuples: 100%|\u001b[32m██████████\u001b[0m| 1000/1000 [00:00<00:00, 60656.03rows/s]\n"
     ]
    }
   ],
   "source": [
    "category_tuples = [\n",
    "    tuple(None if pd.isna(x) else x for x in row)\n",
    "    for row in tqdm(category_df.itertuples(index=False, name=None), total=category_df.shape[0], desc=\"Creating category tuples\", unit=\"rows\", colour=\"green\")\n",
    "]\n",
    "\n",
    "product_tuples = [\n",
    "    tuple(None if pd.isna(x) else x for x in row)\n",
    "    for row in tqdm(product_df.itertuples(index=False, name=None), total=product_df.shape[0], desc=\"Creating product tuples\", unit=\"rows\", colour=\"green\")\n",
    "]\n",
    "\n",
    "attribute_tuples = [\n",
    "    tuple(None if pd.isna(x) else x for x in row)\n",
    "    for row in tqdm(attribute_df.itertuples(index=False, name=None), total=attribute_df.shape[0], desc=\"Creating attribute tuples\", unit=\"rows\", colour=\"green\")\n",
    "]\n",
    "\n",
    "attribute_value_tuples = [\n",
    "    tuple(None if pd.isna(x) else x for x in row)\n",
    "    for row in tqdm(attribute_value_df.itertuples(index=False, name=None), total=attribute_value_df.shape[0], desc=\"Creating attribute_value tuples\", unit=\"rows\", colour=\"green\")\n",
    "]\n",
    "\n",
    "product_variant_tuples = [\n",
    "    tuple(None if pd.isna(x) else x for x in row)\n",
    "    for row in tqdm(product_variant_df.itertuples(index=False, name=None), total=product_variant_df.shape[0], desc=\"Creating product_variant tuples\", unit=\"rows\", colour=\"green\")\n",
    "]\n",
    "\n",
    "attribute_variant_tuples = [\n",
    "    tuple(None if pd.isna(x) else x for x in row)\n",
    "    for row in tqdm(attribute_variant_df.itertuples(index=False, name=None), total=attribute_variant_df.shape[0], desc=\"Creating attribute_variant tuples\", unit=\"rows\", colour=\"green\")\n",
    "]\n",
    "\n",
    "feedback_tuples = [\n",
    "    tuple(None if pd.isna(x) else x for x in row)\n",
    "    for row in tqdm(feedback_df.itertuples(index=False, name=None), total=feedback_df.shape[0], desc=\"Creating feedback tuples\", unit=\"rows\", colour=\"green\")\n",
    "]\n",
    "\n",
    "feedback_response_tuples = [\n",
    "    tuple(None if pd.isna(x) else x for x in row)\n",
    "    for row in tqdm(feedback_response_df.itertuples(index=False, name=None), total=feedback_response_df.shape[0], desc=\"Creating feedback_response tuples\", unit=\"rows\", colour=\"green\")\n",
    "]\n",
    "\n",
    "order_tuples = [\n",
    "    tuple(None if pd.isna(x) else x for x in row)\n",
    "    for row in tqdm(order_df.itertuples(index=False, name=None), total=order_df.shape[0], desc=\"Creating order tuples\", unit=\"rows\", colour=\"green\")\n",
    "]\n",
    "\n",
    "order_item_tuples = [\n",
    "    tuple(None if pd.isna(x) else x for x in row)\n",
    "    for row in tqdm(order_item_df.itertuples(index=False, name=None), total=order_item_df.shape[0], desc=\"Creating order_item tuples\", unit=\"rows\", colour=\"green\")\n",
    "]\n",
    "\n",
    "order_history_tuples = [\n",
    "    tuple(None if pd.isna(x) else x for x in row)\n",
    "    for row in tqdm(order_history_df.itertuples(index=False, name=None), total=order_history_df.shape[0], desc=\"Creating order_history tuples\", unit=\"rows\", colour=\"green\")\n",
    "]\n",
    "\n",
    "discount_tuples = [\n",
    "    tuple(None if pd.isna(x) else x for x in row)\n",
    "    for row in tqdm(discount_df.itertuples(index=False, name=None), total=discount_df.shape[0], desc=\"Creating discount tuples\", unit=\"rows\", colour=\"green\")\n",
    "]"
   ]
  },
  {
   "cell_type": "code",
   "execution_count": 471,
   "id": "01e077a7",
   "metadata": {},
   "outputs": [],
   "source": [
    "cursor.fast_executemany = True"
   ]
  },
  {
   "cell_type": "code",
   "execution_count": 472,
   "id": "aea7d0de",
   "metadata": {},
   "outputs": [],
   "source": [
    "cursor.executemany(\"INSERT INTO category (id, name) VALUES (?, ?)\", category_tuples)\n"
   ]
  },
  {
   "cell_type": "code",
   "execution_count": 473,
   "id": "b3589619",
   "metadata": {},
   "outputs": [],
   "source": [
    "cursor.executemany(\"INSERT INTO product (id, category_id, name, description, specification, image_url, brand) VALUES (?, ?, ?, ?, ?, ?, ?)\", product_tuples)"
   ]
  },
  {
   "cell_type": "code",
   "execution_count": 474,
   "id": "cc86acd6",
   "metadata": {},
   "outputs": [],
   "source": [
    "cursor.executemany(\"INSERT INTO attribute (id, name) VALUES (?, ?)\", attribute_tuples)"
   ]
  },
  {
   "cell_type": "code",
   "execution_count": 475,
   "id": "720ed106",
   "metadata": {},
   "outputs": [],
   "source": [
    "cursor.executemany(\"INSERT INTO attribute_value (id, attribute_id, value) VALUES (?, ?, ?)\", attribute_value_tuples)"
   ]
  },
  {
   "cell_type": "code",
   "execution_count": 476,
   "id": "d84cc08d",
   "metadata": {},
   "outputs": [],
   "source": [
    "for i in range(0, len(product_variant_tuples), 2000):\n",
    "    cursor.executemany(\"INSERT INTO product_variant (id, product_id, price, original_price, profit, sku, stock_quantity, sold_quantity) VALUES (?, ?, ?, ?, ?, ?, ?, ?)\", product_variant_tuples[i:i+2000])"
   ]
  },
  {
   "cell_type": "code",
   "execution_count": 477,
   "id": "ffbbde77",
   "metadata": {},
   "outputs": [],
   "source": [
    "for i in range(0, len(attribute_variant_tuples), 2000):\n",
    "    cursor.executemany(\"INSERT INTO attribute_variant (product_variant_id, attribute_id, attribute_value_id, hash) VALUES (?, ?, ?, ?)\", attribute_variant_tuples[i:i+2000])"
   ]
  },
  {
   "cell_type": "code",
   "execution_count": 478,
   "id": "759e6b1a",
   "metadata": {},
   "outputs": [],
   "source": [
    "for i in range(0, len(feedback_tuples), 2000):\n",
    "    cursor.executemany(\"INSERT INTO feedback (id, customer_id, product_id, product_variant_id, rating, comment, created_at) VALUES (?, ?, ?, ?, ?, ?, ?)\", feedback_tuples[i:i+2000])"
   ]
  },
  {
   "cell_type": "code",
   "execution_count": 479,
   "id": "7241f434",
   "metadata": {},
   "outputs": [],
   "source": [
    "for i in range(0, len(feedback_response_tuples), 2000):\n",
    "    cursor.executemany(\"INSERT INTO feedback_response (id, manager_id, feedback_id, content, created_at) VALUES (?, ?, ?, ?, ?)\", feedback_response_tuples[i:i+2000])"
   ]
  },
  {
   "cell_type": "code",
   "execution_count": 480,
   "id": "00a982b3",
   "metadata": {},
   "outputs": [],
   "source": [
    "for i in range(0, len(discount_tuples), 2000):\n",
    "    cursor.executemany(\"INSERT INTO discount (id, product_variant_id, code, name, type, value, status, start_date, end_date) VALUES (?, ?, ?, ?, ?, ?, ?, ?, ?)\", discount_tuples[i:i+2000])"
   ]
  },
  {
   "cell_type": "code",
   "execution_count": 481,
   "id": "d86c9335",
   "metadata": {},
   "outputs": [],
   "source": [
    "for i in range(0, len(order_tuples), 2000):\n",
    "    cursor.executemany(\"INSERT INTO [order] (id, customer_id, order_date, shipping_address, status, payment_method, payment_date, payment_status, payment_amount) VALUES (?, ?, ?, ?, ?, ?, ?, ?, ?)\", order_tuples[i:i+2000])"
   ]
  },
  {
   "cell_type": "code",
   "execution_count": 482,
   "id": "7402a8ea",
   "metadata": {},
   "outputs": [],
   "source": [
    "for i in range(0, len(order_item_tuples), 2000):\n",
    "    cursor.executemany(\"INSERT INTO order_item (id, product_variant_id, order_id, quantity, unit_price, note) VALUES (?, ?, ?, ?, ?, ?)\", order_item_tuples[i: i+2000])"
   ]
  },
  {
   "cell_type": "code",
   "execution_count": 483,
   "id": "99201591",
   "metadata": {},
   "outputs": [],
   "source": [
    "for i in range(0, len(order_history_tuples), 2000):\n",
    "    cursor.executemany(\"INSERT INTO order_history (id, manager_id, order_id, processing_time, previous_status, new_status) VALUES (?, ?, ?, ?, ?, ?)\", order_history_tuples[i: i + 2000])"
   ]
  },
  {
   "cell_type": "markdown",
   "id": "2ee83ffd",
   "metadata": {},
   "source": [
    "# VI. Đóng kết nối"
   ]
  },
  {
   "cell_type": "code",
   "execution_count": 484,
   "id": "b47e60ef",
   "metadata": {},
   "outputs": [],
   "source": [
    "conn.commit()\n",
    "conn.close()"
   ]
  },
  {
   "cell_type": "code",
   "execution_count": 485,
   "id": "e905082e",
   "metadata": {},
   "outputs": [],
   "source": [
    "category_df.to_csv('./transformedData/category.csv', index=False, encoding='utf-8-sig')\n",
    "attribute_value_df.to_csv('./transformedData/attribute_value.csv', index=False, encoding='utf-8-sig')\n",
    "attribute_variant_df.to_csv('./transformedData/attribute_variant.csv', index=False, encoding='utf-8-sig')\n",
    "attribute_df.to_csv('./transformedData/attribute.csv', index=False, encoding='utf-8-sig')\n",
    "discount_df.to_csv('./transformedData/discount.csv', index=False, encoding='utf-8-sig')\n",
    "feedback_response_df.to_csv('./transformedData/feedback_response.csv', index=False, encoding='utf-8-sig')\n",
    "feedback_df.to_csv('./transformedData/feedback.csv', index=False, encoding='utf-8-sig')\n",
    "order_history_df.to_csv('./transformedData/order_history.csv', index=False, encoding='utf-8-sig')\n",
    "order_item_df.to_csv('./transformedData/order_item.csv', index=False, encoding='utf-8-sig')\n",
    "order_df.to_csv('./transformedData/order.csv', index=False, encoding='utf-8-sig')\n",
    "product_df.to_csv('./transformedData/product.csv', index=False, encoding='utf-8-sig')\n",
    "product_variant_df.to_csv('./transformedData/product_variant.csv', index=False, encoding='utf-8-sig')"
   ]
  },
  {
   "cell_type": "code",
   "execution_count": 486,
   "id": "bc85fe72",
   "metadata": {},
   "outputs": [
    {
     "name": "stdout",
     "output_type": "stream",
     "text": [
      "category: 46 rows\n",
      "attribute_value: 715 rows\n",
      "attribute_variant: 4131 rows\n",
      "attribute: 12 rows\n",
      "discount: 1000 rows\n",
      "feedback_response: 549 rows\n",
      "feedback: 1934 rows\n",
      "order_history: 1001934 rows\n",
      "order_item: 1001934 rows\n",
      "order: 1001934 rows\n",
      "product: 2636 rows\n",
      "product_variant: 3704 rows\n"
     ]
    }
   ],
   "source": [
    "# get length of all dataframes\n",
    "dataframe_lengths = {\n",
    "    'category': len(category_df),\n",
    "    'attribute_value': len(attribute_value_df),\n",
    "    'attribute_variant': len(attribute_variant_df),\n",
    "    'attribute': len(attribute_df),\n",
    "    'discount': len(discount_df),\n",
    "    'feedback_response': len(feedback_response_df),\n",
    "    'feedback': len(feedback_df),\n",
    "    'order_history': len(order_history_df),\n",
    "    'order_item': len(order_item_df),\n",
    "    'order': len(order_df),\n",
    "    'product': len(product_df),\n",
    "    'product_variant': len(product_variant_df)\n",
    "}\n",
    "\n",
    "for name, length in dataframe_lengths.items():\n",
    "    print(f\"{name}: {length} rows\")"
   ]
  },
  {
   "cell_type": "code",
   "execution_count": 487,
   "id": "a9181f90",
   "metadata": {},
   "outputs": [
    {
     "data": {
      "text/plain": [
       "Index(['product_variant_id', 'attribute_id', 'attribute_value_id', 'hash'], dtype='object')"
      ]
     },
     "execution_count": 487,
     "metadata": {},
     "output_type": "execute_result"
    }
   ],
   "source": [
    "attribute_variant_df.columns"
   ]
  },
  {
   "cell_type": "code",
   "execution_count": 488,
   "id": "6df853b3",
   "metadata": {},
   "outputs": [
    {
     "data": {
      "text/html": [
       "<div>\n",
       "<style scoped>\n",
       "    .dataframe tbody tr th:only-of-type {\n",
       "        vertical-align: middle;\n",
       "    }\n",
       "\n",
       "    .dataframe tbody tr th {\n",
       "        vertical-align: top;\n",
       "    }\n",
       "\n",
       "    .dataframe thead th {\n",
       "        text-align: right;\n",
       "    }\n",
       "</style>\n",
       "<table border=\"1\" class=\"dataframe\">\n",
       "  <thead>\n",
       "    <tr style=\"text-align: right;\">\n",
       "      <th></th>\n",
       "      <th>id</th>\n",
       "      <th>manager_id</th>\n",
       "      <th>feedback_id</th>\n",
       "      <th>comment</th>\n",
       "      <th>created_at</th>\n",
       "    </tr>\n",
       "  </thead>\n",
       "  <tbody>\n",
       "    <tr>\n",
       "      <th>0</th>\n",
       "      <td>0008cd6ce0df63345199526af4043e2e</td>\n",
       "      <td>110</td>\n",
       "      <td>58a7c224a17f16df568936a4122f24fa</td>\n",
       "      <td>PTIT-EShop rất vui khi nhận được đánh giá 5⭐️ ...</td>\n",
       "      <td>2025-02-14 00:00:00</td>\n",
       "    </tr>\n",
       "    <tr>\n",
       "      <th>1</th>\n",
       "      <td>0037cd30f7a1d31c7f5c8c2e9e93861a</td>\n",
       "      <td>122</td>\n",
       "      <td>4d0d973e081f9811e4af1fe211f76844</td>\n",
       "      <td>PTIT-EShop rất vui khi nhận được đánh giá 5⭐️ ...</td>\n",
       "      <td>2025-05-22 00:00:00</td>\n",
       "    </tr>\n",
       "    <tr>\n",
       "      <th>2</th>\n",
       "      <td>00e882452c67a973793addc1115a2cf2</td>\n",
       "      <td>150</td>\n",
       "      <td>0b9e5ae2cedbc7c1a55c9c88ee8f8c68</td>\n",
       "      <td>Cảm ơn bạn đã tin tưởng PTIT-EShop và cho PTIT...</td>\n",
       "      <td>2025-05-24 00:00:00</td>\n",
       "    </tr>\n",
       "    <tr>\n",
       "      <th>3</th>\n",
       "      <td>013319e0f20a51e879ae1b15c8112534</td>\n",
       "      <td>173</td>\n",
       "      <td>f5917b086c709cdc1e25980f6455d773</td>\n",
       "      <td>Cảm ơn bạn đã tin tưởng và ủng hộ PTIT-EShop n...</td>\n",
       "      <td>2025-03-19 00:00:00</td>\n",
       "    </tr>\n",
       "    <tr>\n",
       "      <th>4</th>\n",
       "      <td>01d59acba6f95be8103713b44053edc4</td>\n",
       "      <td>4</td>\n",
       "      <td>9c387917a5a19b03f681bf50de4aaf7d</td>\n",
       "      <td>Cảm ơn anh đã tin tưởng PTIT-EShop và cho PTIT...</td>\n",
       "      <td>2024-10-03 00:00:00</td>\n",
       "    </tr>\n",
       "    <tr>\n",
       "      <th>...</th>\n",
       "      <td>...</td>\n",
       "      <td>...</td>\n",
       "      <td>...</td>\n",
       "      <td>...</td>\n",
       "      <td>...</td>\n",
       "    </tr>\n",
       "    <tr>\n",
       "      <th>544</th>\n",
       "      <td>feb5499cd2ea055d0eecc88905049ec4</td>\n",
       "      <td>181</td>\n",
       "      <td>0d1894b95a1d4b27de7706c8aa42100d</td>\n",
       "      <td>Cảm ơn bạn đã tin tưởng dịch vụ và lựa chọn sả...</td>\n",
       "      <td>2025-05-31 00:00:00</td>\n",
       "    </tr>\n",
       "    <tr>\n",
       "      <th>545</th>\n",
       "      <td>ff09cdd4eb38128ac7972573450136b6</td>\n",
       "      <td>20</td>\n",
       "      <td>b0e01e8e03efe3c8c467372adb4614b9</td>\n",
       "      <td>PTIT-EShop rất vui khi nhận được đánh giá 5⭐️t...</td>\n",
       "      <td>2025-01-12 00:00:00</td>\n",
       "    </tr>\n",
       "    <tr>\n",
       "      <th>546</th>\n",
       "      <td>ff197b2a80903bf2f7a997c7d0fe2a0b</td>\n",
       "      <td>6</td>\n",
       "      <td>273ceccfa0d8d5464604300ebe12e6c1</td>\n",
       "      <td>Cảm ơn chị đã tin tưởng dịch vụ và lựa chọn sả...</td>\n",
       "      <td>2025-05-18 00:00:00</td>\n",
       "    </tr>\n",
       "    <tr>\n",
       "      <th>547</th>\n",
       "      <td>ff464644047005a98a0e9aa5fa988a4b</td>\n",
       "      <td>164</td>\n",
       "      <td>e4db774479081e63933c38026d3e55ec</td>\n",
       "      <td>PTIT-EShop rất vui khi nhận được đánh giá...</td>\n",
       "      <td>2025-03-04 00:00:00</td>\n",
       "    </tr>\n",
       "    <tr>\n",
       "      <th>548</th>\n",
       "      <td>ffda1b42fa7c731d1ecb02f3b4d9b919</td>\n",
       "      <td>24</td>\n",
       "      <td>edfdd51cc181f8e6e0f2e8a78ecd0b5e</td>\n",
       "      <td>Cảm ơn bạn đã tin tưởng dịch vụ và lựa chọn sả...</td>\n",
       "      <td>2025-06-12 00:00:00</td>\n",
       "    </tr>\n",
       "  </tbody>\n",
       "</table>\n",
       "<p>549 rows × 5 columns</p>\n",
       "</div>"
      ],
      "text/plain": [
       "                                   id  manager_id  \\\n",
       "0    0008cd6ce0df63345199526af4043e2e         110   \n",
       "1    0037cd30f7a1d31c7f5c8c2e9e93861a         122   \n",
       "2    00e882452c67a973793addc1115a2cf2         150   \n",
       "3    013319e0f20a51e879ae1b15c8112534         173   \n",
       "4    01d59acba6f95be8103713b44053edc4           4   \n",
       "..                                ...         ...   \n",
       "544  feb5499cd2ea055d0eecc88905049ec4         181   \n",
       "545  ff09cdd4eb38128ac7972573450136b6          20   \n",
       "546  ff197b2a80903bf2f7a997c7d0fe2a0b           6   \n",
       "547  ff464644047005a98a0e9aa5fa988a4b         164   \n",
       "548  ffda1b42fa7c731d1ecb02f3b4d9b919          24   \n",
       "\n",
       "                          feedback_id  \\\n",
       "0    58a7c224a17f16df568936a4122f24fa   \n",
       "1    4d0d973e081f9811e4af1fe211f76844   \n",
       "2    0b9e5ae2cedbc7c1a55c9c88ee8f8c68   \n",
       "3    f5917b086c709cdc1e25980f6455d773   \n",
       "4    9c387917a5a19b03f681bf50de4aaf7d   \n",
       "..                                ...   \n",
       "544  0d1894b95a1d4b27de7706c8aa42100d   \n",
       "545  b0e01e8e03efe3c8c467372adb4614b9   \n",
       "546  273ceccfa0d8d5464604300ebe12e6c1   \n",
       "547  e4db774479081e63933c38026d3e55ec   \n",
       "548  edfdd51cc181f8e6e0f2e8a78ecd0b5e   \n",
       "\n",
       "                                               comment           created_at  \n",
       "0    PTIT-EShop rất vui khi nhận được đánh giá 5⭐️ ...  2025-02-14 00:00:00  \n",
       "1    PTIT-EShop rất vui khi nhận được đánh giá 5⭐️ ...  2025-05-22 00:00:00  \n",
       "2    Cảm ơn bạn đã tin tưởng PTIT-EShop và cho PTIT...  2025-05-24 00:00:00  \n",
       "3    Cảm ơn bạn đã tin tưởng và ủng hộ PTIT-EShop n...  2025-03-19 00:00:00  \n",
       "4    Cảm ơn anh đã tin tưởng PTIT-EShop và cho PTIT...  2024-10-03 00:00:00  \n",
       "..                                                 ...                  ...  \n",
       "544  Cảm ơn bạn đã tin tưởng dịch vụ và lựa chọn sả...  2025-05-31 00:00:00  \n",
       "545  PTIT-EShop rất vui khi nhận được đánh giá 5⭐️t...  2025-01-12 00:00:00  \n",
       "546  Cảm ơn chị đã tin tưởng dịch vụ và lựa chọn sả...  2025-05-18 00:00:00  \n",
       "547  PTIT-EShop rất vui khi nhận được đánh giá...  2025-03-04 00:00:00  \n",
       "548  Cảm ơn bạn đã tin tưởng dịch vụ và lựa chọn sả...  2025-06-12 00:00:00  \n",
       "\n",
       "[549 rows x 5 columns]"
      ]
     },
     "execution_count": 488,
     "metadata": {},
     "output_type": "execute_result"
    }
   ],
   "source": [
    "feedback_response_df"
   ]
  }
 ],
 "metadata": {
  "kernelspec": {
   "display_name": "venv",
   "language": "python",
   "name": "python3"
  },
  "language_info": {
   "codemirror_mode": {
    "name": "ipython",
    "version": 3
   },
   "file_extension": ".py",
   "mimetype": "text/x-python",
   "name": "python",
   "nbconvert_exporter": "python",
   "pygments_lexer": "ipython3",
   "version": "3.13.1"
  }
 },
 "nbformat": 4,
 "nbformat_minor": 5
}
