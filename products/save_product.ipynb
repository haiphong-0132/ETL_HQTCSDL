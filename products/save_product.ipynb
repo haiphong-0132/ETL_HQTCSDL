{
 "cells": [
  {
   "cell_type": "code",
   "execution_count": 26,
   "id": "8887ec46",
   "metadata": {},
   "outputs": [],
   "source": [
    "import os\n",
    "import pyodbc\n",
    "import pandas as pd\n",
    "from tqdm import tqdm\n",
    "from dotenv import load_dotenv"
   ]
  },
  {
   "cell_type": "code",
   "execution_count": 27,
   "id": "8b3d623d",
   "metadata": {},
   "outputs": [
    {
     "data": {
      "text/plain": [
       "True"
      ]
     },
     "execution_count": 27,
     "metadata": {},
     "output_type": "execute_result"
    }
   ],
   "source": [
    "load_dotenv()"
   ]
  },
  {
   "cell_type": "code",
   "execution_count": 28,
   "id": "e467612b",
   "metadata": {},
   "outputs": [],
   "source": [
    "def get_db_connection(DB_NAME:str):\n",
    "    conn = pyodbc.connect(\n",
    "        f\"DRIVER={os.getenv('DB_DRIVER')};\"\n",
    "        f\"SERVER={os.getenv('DB_SERVER')};\"\n",
    "        f\"DATABASE={DB_NAME};\"\n",
    "        f\"UID={os.getenv('DB_UID')};\"\n",
    "        f\"PWD={os.getenv('DB_PWD')};\"\n",
    "        f\"TrustServerCertificate={os.getenv('TRUST_SERVER_CERTIFICATE')};\"\n",
    "    )\n",
    "    \n",
    "    return conn\n"
   ]
  },
  {
   "cell_type": "markdown",
   "id": "cada2e5f",
   "metadata": {},
   "source": [
    "Save all tables relate to products to SQL Server"
   ]
  },
  {
   "cell_type": "code",
   "execution_count": 29,
   "id": "76eefba1",
   "metadata": {},
   "outputs": [],
   "source": [
    "conn = get_db_connection(os.getenv('DB_NAME'))\n",
    "cursor = conn.cursor()"
   ]
  },
  {
   "cell_type": "code",
   "execution_count": 30,
   "id": "2ebe0362",
   "metadata": {},
   "outputs": [],
   "source": [
    "def nan_to_none(df: pd.DataFrame):\n",
    "    return df.where(pd.notnull(df), None)"
   ]
  },
  {
   "cell_type": "code",
   "execution_count": 31,
   "id": "6f0b3a1d",
   "metadata": {},
   "outputs": [],
   "source": [
    "category_df = pd.read_csv('./transformedData/category.csv', encoding='utf-8')\n",
    "product_df = pd.read_csv('./transformedData/product.csv', encoding='utf-8')\n",
    "attribute_df = pd.read_csv('./transformedData/attribute.csv', encoding='utf-8')\n",
    "attribute_value_df = pd.read_csv('./transformedData/attribute_value.csv', encoding='utf-8')\n",
    "product_variant_df = pd.read_csv('./transformedData/product_variant.csv', encoding='utf-8')\n",
    "attribute_variant_df = pd.read_csv('./transformedData/attribute_variant.csv', encoding='utf-8')\n",
    "feedback_df = pd.read_csv('./transformedData/feedback.csv', encoding='utf-8')\n",
    "feedback_response_df = pd.read_csv('./transformedData/feedback_response.csv', encoding='utf-8')\n",
    "discount_df = pd.read_csv('./transformedData/discount.csv', encoding='utf-8')\n",
    "order_df = pd.read_csv('./transformedData/order.csv', encoding='utf-8')\n",
    "order_item_df = pd.read_csv('./transformedData/order_item.csv', encoding='utf-8')\n",
    "order_history_df = pd.read_csv('./transformedData/order_history.csv', encoding='utf-8')"
   ]
  },
  {
   "cell_type": "code",
   "execution_count": 32,
   "id": "db3fe4d9",
   "metadata": {},
   "outputs": [
    {
     "data": {
      "text/plain": [
       "<pyodbc.Cursor at 0x2b230ff5f30>"
      ]
     },
     "execution_count": 32,
     "metadata": {},
     "output_type": "execute_result"
    }
   ],
   "source": [
    "conn.execute(\"\"\"\n",
    "    IF OBJECT_ID('order_history', 'U') IS NOT NULL DROP TABLE order_history;\n",
    "\n",
    "    IF OBJECT_ID('order_item', 'U') IS NOT NULL DROP TABLE order_item;\n",
    "\n",
    "    IF OBJECT_ID('order', 'U') IS NOT NULL DROP TABLE [order];   \n",
    "\n",
    "    IF OBJECT_ID('discount', 'U') IS NOT NULL DROP TABLE discount;\n",
    "\n",
    "    IF OBJECT_ID('feedback_response', 'U') IS NOT NULL DROP TABLE feedback_response;\n",
    "\n",
    "    IF OBJECT_ID('feedback', 'U') IS NOT NULL DROP TABLE feedback;\n",
    "\n",
    "    IF OBJECT_ID('attribute_variant', 'U') IS NOT NULL DROP TABLE attribute_variant;\n",
    "\n",
    "    IF OBJECT_ID('product_variant', 'U') IS NOT NULL DROP TABLE product_variant;\n",
    "\n",
    "    IF OBJECT_ID('attribute_value', 'U') IS NOT NULL DROP TABLE attribute_value;\n",
    "\n",
    "    IF OBJECT_ID('attribute', 'U') IS NOT NULL DROP TABLE attribute;\n",
    "\n",
    "    IF OBJECT_ID('product', 'U') IS NOT NULL DROP TABLE product;\n",
    "\n",
    "    IF OBJECT_ID('category', 'U') IS NOT NULL DROP TABLE category; \n",
    "\"\"\")"
   ]
  },
  {
   "cell_type": "code",
   "execution_count": 33,
   "id": "5baa8fe5",
   "metadata": {},
   "outputs": [
    {
     "data": {
      "text/plain": [
       "<pyodbc.Cursor at 0x2b230ff6230>"
      ]
     },
     "execution_count": 33,
     "metadata": {},
     "output_type": "execute_result"
    }
   ],
   "source": [
    "conn.execute(\"\"\"\n",
    "    CREATE TABLE category (\n",
    "        id INT PRIMARY KEY IDENTITY(1,1),\n",
    "        name NVARCHAR(255) NOT NULL,\n",
    "    )\n",
    "\"\"\")\n",
    "\n",
    "conn.execute(\"\"\"\n",
    "    CREATE TABLE product (\n",
    "        id INT PRIMARY KEY IDENTITY(1,1),\n",
    "        category_id INT NOT NULL,\n",
    "        name NVARCHAR(255) NOT NULL,\n",
    "        description NVARCHAR(MAX),\n",
    "        specification NVARCHAR(MAX),\n",
    "        image_url NVARCHAR(MAX),\n",
    "        brand NVARCHAR(255),\n",
    "        CONSTRAINT fk_product_category FOREIGN KEY (category_id) REFERENCES category(id)\n",
    "    )\n",
    "\"\"\")\n",
    "\n",
    "conn.execute(\"\"\"\n",
    "    CREATE TABLE attribute (\n",
    "        id INT PRIMARY KEY IDENTITY(1,1),\n",
    "        name NVARCHAR(255) NOT NULL\n",
    "    )\n",
    "\"\"\")\n",
    "\n",
    "conn.execute(\"\"\"\n",
    "    CREATE TABLE attribute_value (\n",
    "        id INT PRIMARY KEY IDENTITY(1,1),\n",
    "        attribute_id INT NOT NULL,\n",
    "        value NVARCHAR(255) NOT NULL,\n",
    "        CONSTRAINT fk_attribute_value_attribute FOREIGN KEY (attribute_id) REFERENCES attribute(id)\n",
    "    )\n",
    "\"\"\")\n",
    "\n",
    "conn.execute(\"\"\"\n",
    "    CREATE TABLE product_variant (\n",
    "        id INT PRIMARY KEY IDENTITY(1,1),\n",
    "        product_id INT NOT NULL,\n",
    "        price DECIMAL(19,3) NOT NULL,\n",
    "        original_price DECIMAL(19,3) NOT NULL,\n",
    "        sku NVARCHAR(100),\n",
    "        stock_quantity INT DEFAULT 0,\n",
    "        sold_quantity INT DEFAULT 0,\n",
    "        CONSTRAINT fk_product_variant_product FOREIGN KEY (product_id) REFERENCES product(id)\n",
    "    )\n",
    "\"\"\")\n",
    "\n",
    "conn.execute(\"\"\"\n",
    "    CREATE TABLE attribute_variant (\n",
    "        attribute_value_id INT NOT NULL,\n",
    "        attribute_id INT NOT NULL,\n",
    "        product_variant_id INT NOT NULL,\n",
    "        CONSTRAINT pk_variant_attribute PRIMARY KEY (attribute_value_id, attribute_id, product_variant_id),\n",
    "        CONSTRAINT fk_variant_attribute_attribute_value FOREIGN KEY (attribute_value_id) REFERENCES attribute_value(id),\n",
    "        CONSTRAINT fk_variant_attribute_attribute FOREIGN KEY (attribute_id) REFERENCES attribute(id),\n",
    "        CONSTRAINT fk_variant_attribute_product_variant FOREIGN KEY (product_variant_id) REFERENCES product_variant(id)\n",
    "    )\n",
    "\"\"\")\n",
    "\n",
    "conn.execute(\"\"\"\n",
    "    CREATE TABLE feedback (\n",
    "        id INT PRIMARY KEY IDENTITY(1,1),\n",
    "        customer_id INT NOT NULL,\n",
    "        product_id INT NOT NULL,\n",
    "        product_variant_id INT NULL,\n",
    "        rating INT CHECK (rating BETWEEN 1 AND 5),\n",
    "        comment NVARCHAR(MAX) NULL,\n",
    "        created_at DATETIME DEFAULT GETDATE(),\n",
    "        CONSTRAINT fk_feedback_product FOREIGN KEY (product_id) REFERENCES product(id),\n",
    "        CONSTRAINT fk_feedback_product_variant FOREIGN KEY (product_variant_id) REFERENCES product_variant(id)\n",
    "    )\n",
    "\"\"\")\n",
    "\n",
    "conn.execute(\"\"\"\n",
    "    CREATE TABLE feedback_response (\n",
    "        id INT PRIMARY KEY IDENTITY(1,1),\n",
    "        manager_id INT NOT NULL,\n",
    "        feedback_id INT NOT NULL,\n",
    "        content NVARCHAR(MAX),\n",
    "        created_at DATETIME DEFAULT GETDATE(),\n",
    "        CONSTRAINT fk_feedback_response_manager FOREIGN KEY (manager_id) REFERENCES manager(id),\n",
    "        CONSTRAINT fk_feedback_response_feedback FOREIGN KEY (feedback_id) REFERENCES feedback(id)\n",
    "    )\n",
    "\"\"\")\n",
    "\n",
    "conn.execute(\"\"\"\n",
    "    CREATE TABLE discount (\n",
    "        id INT PRIMARY KEY IDENTITY(1,1),\n",
    "        product_variant_id INT NOT NULL,\n",
    "        code NVARCHAR(100) UNIQUE,\n",
    "        name NVARCHAR(255),\n",
    "        type NVARCHAR(50), \n",
    "        value DECIMAL(19,3),\n",
    "        status NVARCHAR(50) DEFAULT 'Active',\n",
    "        start_date DATETIME,\n",
    "        end_date DATETIME,\n",
    "        CONSTRAINT fk_discount_product_variant FOREIGN KEY (product_variant_id) REFERENCES product_variant(id)\n",
    "    )\n",
    "\"\"\")\n",
    "\n",
    "conn.execute(\"\"\"\n",
    "    CREATE TABLE [order] (\n",
    "        id INT PRIMARY KEY IDENTITY(1,1),\n",
    "        customer_id INT NOT NULL,\n",
    "        order_date DATETIME DEFAULT GETDATE(),\n",
    "        shipping_address NVARCHAR(500),\n",
    "        status NVARCHAR(50) DEFAULT 'Processing', \n",
    "        payment_method NVARCHAR(255),\n",
    "        payment_date DATETIME,\n",
    "        payment_status NVARCHAR(50) DEFAULT 'Pending',\n",
    "        payment_amount DECIMAL(19,3),\n",
    "        CONSTRAINT fk_order_customer FOREIGN KEY (customer_id) REFERENCES customer(id)\n",
    "    )\n",
    "\"\"\")\n",
    "\n",
    "conn.execute(\"\"\"\n",
    "    CREATE TABLE order_item (\n",
    "        id INT PRIMARY KEY IDENTITY(1,1),\n",
    "        product_variant_id INT NOT NULL,\n",
    "        order_id INT NOT NULL,\n",
    "        quantity INT NOT NULL DEFAULT 1,\n",
    "        unit_price DECIMAL(10,3) NOT NULL,\n",
    "        note NVARCHAR(500),\n",
    "        CONSTRAINT fk_order_item_product_variant FOREIGN KEY (product_variant_id) REFERENCES product_variant(id),\n",
    "        CONSTRAINT fk_order_item_order FOREIGN KEY (order_id) REFERENCES [order](id)\n",
    "    )\n",
    "\"\"\")\n",
    "\n",
    "conn.execute(\"\"\"\n",
    "    CREATE TABLE order_history (\n",
    "        id INT PRIMARY KEY IDENTITY(1,1),\n",
    "        manager_id INT NOT NULL,\n",
    "        order_id INT NOT NULL,\n",
    "        processing_time DATETIME DEFAULT GETDATE(),\n",
    "        previous_status NVARCHAR(50), \n",
    "        new_status NVARCHAR(50), \n",
    "        CONSTRAINT fk_order_history_manager FOREIGN KEY (manager_id) REFERENCES manager(id),\n",
    "        CONSTRAINT fk_order_history_order FOREIGN KEY (order_id) REFERENCES [order](id)\n",
    "    )\n",
    "\"\"\")"
   ]
  },
  {
   "cell_type": "code",
   "execution_count": 34,
   "id": "7dc99273",
   "metadata": {},
   "outputs": [
    {
     "name": "stderr",
     "output_type": "stream",
     "text": [
      "Create category tuples: 100%|\u001b[32m██████████\u001b[0m| 46/46 [00:00<00:00, 2642.55row/s]\n",
      "Create product tuples: 100%|\u001b[32m██████████\u001b[0m| 2634/2634 [00:00<00:00, 11107.54row/s]\n",
      "Create attribute tuples: 100%|\u001b[32m██████████\u001b[0m| 12/12 [00:00<00:00, 6740.54row/s]\n",
      "Create attribute_value tuples: 100%|\u001b[32m██████████\u001b[0m| 715/715 [00:00<00:00, 15153.98row/s]\n",
      "Create product_variant tuples: 100%|\u001b[32m██████████\u001b[0m| 3702/3702 [00:00<00:00, 12362.51row/s]\n",
      "Create attribute_variant tuples: 100%|\u001b[32m██████████\u001b[0m| 4129/4129 [00:00<00:00, 20615.31row/s]\n",
      "Create feedback tuples: 100%|\u001b[32m██████████\u001b[0m| 1934/1934 [00:00<00:00, 15386.48row/s]\n",
      "Create feedback_response tuples: 100%|\u001b[32m██████████\u001b[0m| 549/549 [00:00<00:00, 15530.90row/s]\n",
      "Create discount tuples: 100%|\u001b[32m██████████\u001b[0m| 1000/1000 [00:00<00:00, 15150.15row/s]\n",
      "Create order tuples: 100%|\u001b[32m██████████\u001b[0m| 300000/300000 [00:19<00:00, 15228.23row/s]\n",
      "Create order_item tuples: 100%|\u001b[32m██████████\u001b[0m| 300000/300000 [00:13<00:00, 21696.19row/s]\n",
      "Create order_history tuples: 100%|\u001b[32m██████████\u001b[0m| 300000/300000 [00:20<00:00, 14768.32row/s]\n"
     ]
    }
   ],
   "source": [
    "category_tuples = [\n",
    "    (row['id'], row['name']) \n",
    "    for _, row in tqdm(category_df.iterrows(), total=category_df.shape[0], desc=\"Create category tuples\", unit=\"row\", colour=\"green\")\n",
    "]\n",
    "\n",
    "product_tuples = [\n",
    "    (row['id'], row['category_id'], row['name'], row['description'], row['specification'], row['image_url'], row['brand'])\n",
    "    for _, row in tqdm(product_df.iterrows(), total=product_df.shape[0], desc=\"Create product tuples\", unit=\"row\", colour=\"green\")\n",
    "]\n",
    "\n",
    "attribute_tuples = [\n",
    "    (row['id'], row['name']) \n",
    "    for _, row in tqdm(attribute_df.iterrows(), total=attribute_df.shape[0], desc=\"Create attribute tuples\", unit=\"row\", colour=\"green\")\n",
    "]\n",
    "\n",
    "attribute_value_tuples = [\n",
    "    (row['id'], row['attribute_id'], row['value']) \n",
    "    for _, row in tqdm(attribute_value_df.iterrows(), total=attribute_value_df.shape[0], desc=\"Create attribute_value tuples\", unit=\"row\", colour=\"green\")\n",
    "]\n",
    "\n",
    "product_variant_tuples = [\n",
    "    (row['id'], row['product_id'], row['price'], row['original_price'], row['sku'], row['stock_quantity'], row['sold_quantity'])\n",
    "    for _, row in tqdm(product_variant_df.iterrows(), total=product_variant_df.shape[0], desc=\"Create product_variant tuples\", unit=\"row\", colour=\"green\")\n",
    "]\n",
    "\n",
    "attribute_variant_tuples = [\n",
    "    (int(row['attribute_value_id']), int(row['attribute_id']), int(row['product_variant_id'])) \n",
    "    for _, row in tqdm(attribute_variant_df.iterrows(), total=attribute_variant_df.shape[0], desc=\"Create attribute_variant tuples\", unit=\"row\", colour=\"green\")\n",
    "]\n",
    "\n",
    "feedback_tuples = [\n",
    "    tuple(None if pd.isna(x) else x for x in row)\n",
    "    for _, row in tqdm(feedback_df.iterrows(), total=feedback_df.shape[0], desc=\"Create feedback tuples\", unit=\"row\", colour=\"green\")\n",
    "]\n",
    "\n",
    "feedback_response_tuples = [\n",
    "    tuple(None if pd.isna(x) else x for x in row)\n",
    "    for _, row in tqdm(feedback_response_df.iterrows(), total=feedback_response_df.shape[0], desc=\"Create feedback_response tuples\", unit=\"row\", colour=\"green\")\n",
    "]\n",
    "\n",
    "discount_tuples = [\n",
    "    tuple(None if pd.isna(x) else x for x in row)\n",
    "    for _, row in tqdm(discount_df.iterrows(), total=discount_df.shape[0], desc=\"Create discount tuples\", unit=\"row\", colour=\"green\")\n",
    "]\n",
    "\n",
    "order_tuples = [\n",
    "    tuple(None if pd.isna(x) else x for x in row)\n",
    "    for _, row in tqdm(order_df.iterrows(), total=order_df.shape[0], desc=\"Create order tuples\", unit=\"row\", colour=\"green\")\n",
    "]\n",
    "\n",
    "order_item_tuples = [\n",
    "    tuple(None if pd.isna(x) else x for x in row)\n",
    "    for _, row in tqdm(order_item_df.iterrows(), total=order_item_df.shape[0], desc=\"Create order_item tuples\", unit=\"row\", colour=\"green\")\n",
    "]\n",
    "\n",
    "order_history_tuples = [\n",
    "    tuple(None if pd.isna(x) else x for x in row)\n",
    "    for _, row in tqdm(order_history_df.iterrows(), total=order_history_df.shape[0], desc=\"Create order_history tuples\", unit=\"row\", colour=\"green\")\n",
    "]"
   ]
  },
  {
   "cell_type": "code",
   "execution_count": 35,
   "id": "d0bc2090",
   "metadata": {},
   "outputs": [
    {
     "data": {
      "text/plain": [
       "<pyodbc.Cursor at 0x2b247098430>"
      ]
     },
     "execution_count": 35,
     "metadata": {},
     "output_type": "execute_result"
    }
   ],
   "source": [
    "cursor.execute(\"SET IDENTITY_INSERT category ON;\")\n",
    "cursor.executemany(\"INSERT INTO category (id, name) VALUES (?, ?)\", category_tuples)\n",
    "cursor.execute(\"SET IDENTITY_INSERT category OFF;\")"
   ]
  },
  {
   "cell_type": "code",
   "execution_count": 36,
   "id": "4e725ff0",
   "metadata": {},
   "outputs": [
    {
     "data": {
      "text/plain": [
       "<pyodbc.Cursor at 0x2b247098430>"
      ]
     },
     "execution_count": 36,
     "metadata": {},
     "output_type": "execute_result"
    }
   ],
   "source": [
    "cursor.execute(\"SET IDENTITY_INSERT product ON;\")\n",
    "cursor.executemany(\"INSERT INTO product (id, category_id, name, description, specification, image_url, brand) VALUES (?, ?, ?, ?, ?, ?, ?)\", product_tuples)\n",
    "cursor.execute(\"SET IDENTITY_INSERT product OFF;\")"
   ]
  },
  {
   "cell_type": "code",
   "execution_count": 37,
   "id": "a9b200d7",
   "metadata": {},
   "outputs": [
    {
     "data": {
      "text/plain": [
       "<pyodbc.Cursor at 0x2b247098430>"
      ]
     },
     "execution_count": 37,
     "metadata": {},
     "output_type": "execute_result"
    }
   ],
   "source": [
    "cursor.execute(\"SET IDENTITY_INSERT attribute ON;\")\n",
    "cursor.executemany(\"INSERT INTO attribute (id, name) VALUES (?, ?)\", attribute_tuples)\n",
    "cursor.execute(\"SET IDENTITY_INSERT attribute OFF;\")"
   ]
  },
  {
   "cell_type": "code",
   "execution_count": 38,
   "id": "857b4283",
   "metadata": {},
   "outputs": [
    {
     "data": {
      "text/plain": [
       "<pyodbc.Cursor at 0x2b247098430>"
      ]
     },
     "execution_count": 38,
     "metadata": {},
     "output_type": "execute_result"
    }
   ],
   "source": [
    "cursor.execute(\"SET IDENTITY_INSERT attribute_value ON;\")\n",
    "cursor.executemany(\"INSERT INTO attribute_value (id, attribute_id, value) VALUES (?, ?, ?)\", attribute_value_tuples)\n",
    "cursor.execute(\"SET IDENTITY_INSERT attribute_value OFF;\")"
   ]
  },
  {
   "cell_type": "code",
   "execution_count": 39,
   "id": "15eb81a8",
   "metadata": {},
   "outputs": [
    {
     "data": {
      "text/plain": [
       "<pyodbc.Cursor at 0x2b247098430>"
      ]
     },
     "execution_count": 39,
     "metadata": {},
     "output_type": "execute_result"
    }
   ],
   "source": [
    "cursor.execute(\"SET IDENTITY_INSERT product_variant ON;\")\n",
    "cursor.executemany(\"INSERT INTO product_variant (id, product_id, price, original_price, sku, stock_quantity, sold_quantity) VALUES (?, ?, ?, ?, ?, ?, ?)\", product_variant_tuples)\n",
    "cursor.execute(\"SET IDENTITY_INSERT product_variant OFF;\")"
   ]
  },
  {
   "cell_type": "code",
   "execution_count": 40,
   "id": "5a78c396",
   "metadata": {},
   "outputs": [],
   "source": [
    "cursor.executemany(\"INSERT INTO attribute_variant (attribute_value_id, attribute_id, product_variant_id) VALUES (?, ?, ?)\", attribute_variant_tuples)"
   ]
  },
  {
   "cell_type": "code",
   "execution_count": 41,
   "id": "7ff9fb7e",
   "metadata": {},
   "outputs": [
    {
     "data": {
      "text/plain": [
       "<pyodbc.Cursor at 0x2b247098430>"
      ]
     },
     "execution_count": 41,
     "metadata": {},
     "output_type": "execute_result"
    }
   ],
   "source": [
    "cursor.execute(\"SET IDENTITY_INSERT feedback ON;\")\n",
    "cursor.executemany(\"INSERT INTO feedback (id, customer_id, product_id, product_variant_id, rating, comment, created_at) VALUES (?, ?, ?, ?, ?, ?, ?)\", feedback_tuples)\n",
    "cursor.execute(\"SET IDENTITY_INSERT feedback OFF;\")"
   ]
  },
  {
   "cell_type": "code",
   "execution_count": 42,
   "id": "16a3452c",
   "metadata": {},
   "outputs": [
    {
     "data": {
      "text/plain": [
       "<pyodbc.Cursor at 0x2b247098430>"
      ]
     },
     "execution_count": 42,
     "metadata": {},
     "output_type": "execute_result"
    }
   ],
   "source": [
    "cursor.execute(\"SET IDENTITY_INSERT feedback_response ON;\")\n",
    "cursor.executemany(\"INSERT INTO feedback_response (id, manager_id, feedback_id, content, created_at) VALUES (?, ?, ?, ?, ?)\", feedback_response_tuples)\n",
    "cursor.execute(\"SET IDENTITY_INSERT feedback_response OFF;\")"
   ]
  },
  {
   "cell_type": "code",
   "execution_count": 43,
   "id": "7ee65290",
   "metadata": {},
   "outputs": [
    {
     "data": {
      "text/plain": [
       "<pyodbc.Cursor at 0x2b247098430>"
      ]
     },
     "execution_count": 43,
     "metadata": {},
     "output_type": "execute_result"
    }
   ],
   "source": [
    "cursor.execute(\"SET IDENTITY_INSERT discount ON;\")\n",
    "cursor.executemany(\"INSERT INTO discount (id, product_variant_id, code, name, type, value, status, start_date, end_date) VALUES (?, ?, ?, ?, ?, ?, ?, ?, ?)\", discount_tuples)\n",
    "cursor.execute(\"SET IDENTITY_INSERT discount OFF;\")"
   ]
  },
  {
   "cell_type": "code",
   "execution_count": 44,
   "id": "a9b541e6",
   "metadata": {},
   "outputs": [
    {
     "data": {
      "text/plain": [
       "<pyodbc.Cursor at 0x2b247098430>"
      ]
     },
     "execution_count": 44,
     "metadata": {},
     "output_type": "execute_result"
    }
   ],
   "source": [
    "cursor.execute(\"SET IDENTITY_INSERT [order] ON;\")\n",
    "cursor.executemany(\"INSERT INTO [order] (id, customer_id, order_date, shipping_address, status, payment_method, payment_date, payment_status, payment_amount) VALUES (?, ?, ?, ?, ?, ?, ?, ?, ?)\", order_tuples)\n",
    "cursor.execute(\"SET IDENTITY_INSERT [order] OFF;\")"
   ]
  },
  {
   "cell_type": "code",
   "execution_count": 45,
   "id": "488fe945",
   "metadata": {},
   "outputs": [
    {
     "data": {
      "text/plain": [
       "<pyodbc.Cursor at 0x2b247098430>"
      ]
     },
     "execution_count": 45,
     "metadata": {},
     "output_type": "execute_result"
    }
   ],
   "source": [
    "cursor.execute(\"SET IDENTITY_INSERT order_item ON;\")\n",
    "cursor.executemany(\"INSERT INTO order_item (id, product_variant_id, order_id, quantity, unit_price, note) VALUES (?, ?, ?, ?, ?, ?)\", order_item_tuples)\n",
    "cursor.execute(\"SET IDENTITY_INSERT order_item OFF;\")"
   ]
  },
  {
   "cell_type": "code",
   "execution_count": 46,
   "id": "50e936f2",
   "metadata": {},
   "outputs": [
    {
     "data": {
      "text/plain": [
       "<pyodbc.Cursor at 0x2b247098430>"
      ]
     },
     "execution_count": 46,
     "metadata": {},
     "output_type": "execute_result"
    }
   ],
   "source": [
    "cursor.execute(\"SET IDENTITY_INSERT order_history ON;\")\n",
    "cursor.executemany(\"INSERT INTO order_history (id, manager_id, order_id, processing_time, previous_status, new_status) VALUES (?, ?, ?, ?, ?, ?)\", order_history_tuples)\n",
    "cursor.execute(\"SET IDENTITY_INSERT order_history OFF;\")"
   ]
  },
  {
   "cell_type": "code",
   "execution_count": 47,
   "id": "99960eff",
   "metadata": {},
   "outputs": [],
   "source": [
    "# close\n",
    "conn.commit()\n",
    "conn.close()"
   ]
  }
 ],
 "metadata": {
  "kernelspec": {
   "display_name": "venv",
   "language": "python",
   "name": "python3"
  },
  "language_info": {
   "codemirror_mode": {
    "name": "ipython",
    "version": 3
   },
   "file_extension": ".py",
   "mimetype": "text/x-python",
   "name": "python",
   "nbconvert_exporter": "python",
   "pygments_lexer": "ipython3",
   "version": "3.13.1"
  }
 },
 "nbformat": 4,
 "nbformat_minor": 5
}
