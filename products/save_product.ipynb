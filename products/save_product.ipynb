{
 "cells": [
  {
   "cell_type": "code",
   "execution_count": 1,
   "id": "8887ec46",
   "metadata": {},
   "outputs": [],
   "source": [
    "import os\n",
    "import pyodbc\n",
    "import pandas as pd\n",
    "from tqdm import tqdm\n",
    "from dotenv import load_dotenv"
   ]
  },
  {
   "cell_type": "code",
   "execution_count": 2,
   "id": "8b3d623d",
   "metadata": {},
   "outputs": [
    {
     "data": {
      "text/plain": [
       "True"
      ]
     },
     "execution_count": 2,
     "metadata": {},
     "output_type": "execute_result"
    }
   ],
   "source": [
    "load_dotenv()"
   ]
  },
  {
   "cell_type": "code",
   "execution_count": 3,
   "id": "e467612b",
   "metadata": {},
   "outputs": [],
   "source": [
    "def get_db_connection(DB_NAME:str):\n",
    "    conn = pyodbc.connect(\n",
    "        f\"DRIVER={os.getenv('DB_DRIVER')};\"\n",
    "        f\"SERVER={os.getenv('DB_SERVER')};\"\n",
    "        f\"DATABASE={DB_NAME};\"\n",
    "        f\"UID={os.getenv('DB_UID')};\"\n",
    "        f\"PWD={os.getenv('DB_PWD')};\"\n",
    "        f\"TrustServerCertificate={os.getenv('TRUST_SERVER_CERTIFICATE')};\"\n",
    "    )\n",
    "    \n",
    "    return conn\n"
   ]
  },
  {
   "cell_type": "markdown",
   "id": "cada2e5f",
   "metadata": {},
   "source": [
    "Save all tables relate to products to SQL Server"
   ]
  },
  {
   "cell_type": "code",
   "execution_count": 4,
   "id": "76eefba1",
   "metadata": {},
   "outputs": [],
   "source": [
    "conn = get_db_connection(os.getenv('DB_NAME'))\n",
    "cursor = conn.cursor()"
   ]
  },
  {
   "cell_type": "code",
   "execution_count": 5,
   "id": "6f0b3a1d",
   "metadata": {},
   "outputs": [],
   "source": [
    "category_df = pd.read_csv('./transformedData/category.csv', encoding='utf-8')\n",
    "product_df = pd.read_csv('./transformedData/product.csv', encoding='utf-8')\n",
    "attribute_df = pd.read_csv('./transformedData/attribute.csv', encoding='utf-8')\n",
    "attribute_value_df = pd.read_csv('./transformedData/attribute_value.csv', encoding='utf-8')\n",
    "product_variant_df = pd.read_csv('./transformedData/product_variant.csv', encoding='utf-8')\n",
    "attribute_variant_df = pd.read_csv('./transformedData/attribute_variant.csv', encoding='utf-8')"
   ]
  },
  {
   "cell_type": "code",
   "execution_count": 12,
   "id": "db3fe4d9",
   "metadata": {},
   "outputs": [
    {
     "data": {
      "text/plain": [
       "<pyodbc.Cursor at 0x1bb3fd61530>"
      ]
     },
     "execution_count": 12,
     "metadata": {},
     "output_type": "execute_result"
    }
   ],
   "source": [
    "conn.execute(\"\"\"\n",
    "    IF OBJECT_ID('category', 'U') IS NOT NULL DROP TABLE category;\n",
    "    \n",
    "    IF OBJECT_ID('product', 'U') IS NOT NULL DROP TABLE product;\n",
    "             \n",
    "    IF OBJECT_ID('attribute', 'U') IS NOT NULL DROP TABLE attribute;\n",
    "             \n",
    "    IF OBJECT_ID('attribute_value', 'U') IS NOT NULL DROP TABLE attribute_value;\n",
    "             \n",
    "    IF OBJECT_ID('product_variant', 'U') IS NOT NULL DROP TABLE product_variant;\n",
    "             \n",
    "    IF OBJECT_ID('attribute_variant', 'U') IS NOT NULL DROP TABLE attribute_variant;\n",
    "\"\"\")"
   ]
  },
  {
   "cell_type": "code",
   "execution_count": 13,
   "id": "5baa8fe5",
   "metadata": {},
   "outputs": [
    {
     "data": {
      "text/plain": [
       "<pyodbc.Cursor at 0x1bb4071b9b0>"
      ]
     },
     "execution_count": 13,
     "metadata": {},
     "output_type": "execute_result"
    }
   ],
   "source": [
    "conn.execute(\"\"\"\n",
    "    CREATE TABLE category (\n",
    "        id INT PRIMARY KEY IDENTITY(1,1),\n",
    "        name NVARCHAR(255) NOT NULL,\n",
    "    )\n",
    "\"\"\")\n",
    "\n",
    "conn.execute(\"\"\"\n",
    "    CREATE TABLE product (\n",
    "        id INT PRIMARY KEY IDENTITY(1,1),\n",
    "        category_id INT NOT NULL,\n",
    "        name NVARCHAR(255) NOT NULL,\n",
    "        description NVARCHAR(MAX),\n",
    "        specification NVARCHAR(MAX),\n",
    "        image_url NVARCHAR(MAX),\n",
    "        brand NVARCHAR(255),\n",
    "        CONSTRAINT fk_product_category FOREIGN KEY (category_id) REFERENCES category(id)\n",
    "    )\n",
    "\"\"\")\n",
    "\n",
    "conn.execute(\"\"\"\n",
    "    CREATE TABLE attribute (\n",
    "        id INT PRIMARY KEY IDENTITY(1,1),\n",
    "        name NVARCHAR(255) NOT NULL\n",
    "    )\n",
    "\"\"\")\n",
    "\n",
    "conn.execute(\"\"\"\n",
    "    CREATE TABLE attribute_value (\n",
    "        id INT PRIMARY KEY IDENTITY(1,1),\n",
    "        attribute_id INT NOT NULL,\n",
    "        value NVARCHAR(255) NOT NULL,\n",
    "        CONSTRAINT fk_attribute_value_attribute FOREIGN KEY (attribute_id) REFERENCES attribute(id)\n",
    "    )\n",
    "\"\"\")\n",
    "\n",
    "conn.execute(\"\"\"\n",
    "    CREATE TABLE product_variant (\n",
    "        id INT PRIMARY KEY IDENTITY(1,1),\n",
    "        product_id INT NOT NULL,\n",
    "        price DECIMAL(19,3) NOT NULL,\n",
    "        original_price DECIMAL(19,3) NOT NULL,\n",
    "        sku NVARCHAR(100),\n",
    "        stock_quantity INT DEFAULT 0,\n",
    "        sold_quantity INT DEFAULT 0,\n",
    "        CONSTRAINT fk_product_variant_product FOREIGN KEY (product_id) REFERENCES product(id)\n",
    "    )\n",
    "\"\"\")\n",
    "\n",
    "conn.execute(\"\"\"\n",
    "    CREATE TABLE attribute_variant (\n",
    "        attribute_value_id INT NOT NULL,\n",
    "        attribute_id INT NOT NULL,\n",
    "        product_variant_id INT NOT NULL,\n",
    "        CONSTRAINT pk_variant_attribute PRIMARY KEY (attribute_value_id, attribute_id, product_variant_id),\n",
    "        CONSTRAINT fk_variant_attribute_attribute_value FOREIGN KEY (attribute_value_id) REFERENCES attribute_value(id),\n",
    "        CONSTRAINT fk_variant_attribute_attribute FOREIGN KEY (attribute_id) REFERENCES attribute(id),\n",
    "        CONSTRAINT fk_variant_attribute_product_variant FOREIGN KEY (product_variant_id) REFERENCES product_variant(id)\n",
    "    )\n",
    "\"\"\")"
   ]
  },
  {
   "cell_type": "code",
   "execution_count": 20,
   "id": "7dc99273",
   "metadata": {},
   "outputs": [
    {
     "name": "stderr",
     "output_type": "stream",
     "text": [
      "Create category tuples:   0%|\u001b[32m          \u001b[0m| 0/46 [00:00<?, ?row/s]"
     ]
    },
    {
     "name": "stderr",
     "output_type": "stream",
     "text": [
      "Create category tuples: 100%|\u001b[32m██████████\u001b[0m| 46/46 [00:00<00:00, 1139.50row/s]\n",
      "Create product tuples: 100%|\u001b[32m██████████\u001b[0m| 2504/2504 [00:00<00:00, 8151.16row/s]\n",
      "Create attribute tuples: 100%|\u001b[32m██████████\u001b[0m| 12/12 [00:00<00:00, 4400.39row/s]\n",
      "Create attribute_value tuples: 100%|\u001b[32m██████████\u001b[0m| 633/633 [00:00<00:00, 6858.45row/s]\n",
      "Create product_variant tuples: 100%|\u001b[32m██████████\u001b[0m| 3488/3488 [00:00<00:00, 6742.00row/s]\n",
      "Create attribute_variant tuples: 100%|\u001b[32m██████████\u001b[0m| 3896/3896 [00:00<00:00, 15839.48row/s]\n"
     ]
    }
   ],
   "source": [
    "category_tuples = [\n",
    "    (row['id'], row['name']) \n",
    "    for index, row in tqdm(category_df.iterrows(), total=category_df.shape[0], desc=\"Create category tuples\", unit=\"row\", colour=\"green\")\n",
    "]\n",
    "\n",
    "product_tuples = [\n",
    "    (row['id'], row['category_id'], row['name'], row['description'], row['specification'], row['image_url'], row['brand'])\n",
    "    for _, row in tqdm(product_df.iterrows(), total=product_df.shape[0], desc=\"Create product tuples\", unit=\"row\", colour=\"green\")\n",
    "]\n",
    "\n",
    "attribute_tuples = [\n",
    "    (row['id'], row['name']) \n",
    "    for _, row in tqdm(attribute_df.iterrows(), total=attribute_df.shape[0], desc=\"Create attribute tuples\", unit=\"row\", colour=\"green\")\n",
    "]\n",
    "\n",
    "attribute_value_tuples = [\n",
    "    (row['id'], row['attribute_id'], row['value']) \n",
    "    for _, row in tqdm(attribute_value_df.iterrows(), total=attribute_value_df.shape[0], desc=\"Create attribute_value tuples\", unit=\"row\", colour=\"green\")\n",
    "]\n",
    "\n",
    "product_variant_tuples = [\n",
    "    (row['id'], row['product_id'], row['price'], row['original_price'], row['sku'], row['stock_quantity'], row['sold_quantity'])\n",
    "    for _, row in tqdm(product_variant_df.iterrows(), total=product_variant_df.shape[0], desc=\"Create product_variant tuples\", unit=\"row\", colour=\"green\")\n",
    "]\n",
    "\n",
    "attribute_variant_tuples = [\n",
    "    (int(row['attribute_value_id']), int(row['attribute_id']), int(row['product_variant_id'])) \n",
    "    for _, row in tqdm(attribute_variant_df.iterrows(), total=attribute_variant_df.shape[0], desc=\"Create attribute_variant tuples\", unit=\"row\", colour=\"green\")\n",
    "]"
   ]
  },
  {
   "cell_type": "code",
   "execution_count": 14,
   "id": "d0bc2090",
   "metadata": {},
   "outputs": [
    {
     "data": {
      "text/plain": [
       "<pyodbc.Cursor at 0x1bb3fd4ae30>"
      ]
     },
     "execution_count": 14,
     "metadata": {},
     "output_type": "execute_result"
    }
   ],
   "source": [
    "cursor.execute(\"SET IDENTITY_INSERT category ON;\")\n",
    "cursor.executemany(\"INSERT INTO category (id, name) VALUES (?, ?)\", category_tuples)\n",
    "cursor.execute(\"SET IDENTITY_INSERT category OFF;\")"
   ]
  },
  {
   "cell_type": "code",
   "execution_count": 15,
   "id": "4e725ff0",
   "metadata": {},
   "outputs": [
    {
     "data": {
      "text/plain": [
       "<pyodbc.Cursor at 0x1bb3fd4ae30>"
      ]
     },
     "execution_count": 15,
     "metadata": {},
     "output_type": "execute_result"
    }
   ],
   "source": [
    "cursor.execute(\"SET IDENTITY_INSERT product ON;\")\n",
    "cursor.executemany(\"INSERT INTO product (id, category_id, name, description, specification, image_url, brand) VALUES (?, ?, ?, ?, ?, ?, ?)\", product_tuples)\n",
    "cursor.execute(\"SET IDENTITY_INSERT product OFF;\")"
   ]
  },
  {
   "cell_type": "code",
   "execution_count": 16,
   "id": "a9b200d7",
   "metadata": {},
   "outputs": [
    {
     "data": {
      "text/plain": [
       "<pyodbc.Cursor at 0x1bb3fd4ae30>"
      ]
     },
     "execution_count": 16,
     "metadata": {},
     "output_type": "execute_result"
    }
   ],
   "source": [
    "cursor.execute(\"SET IDENTITY_INSERT attribute ON;\")\n",
    "cursor.executemany(\"INSERT INTO attribute (id, name) VALUES (?, ?)\", attribute_tuples)\n",
    "cursor.execute(\"SET IDENTITY_INSERT attribute OFF;\")"
   ]
  },
  {
   "cell_type": "code",
   "execution_count": 17,
   "id": "857b4283",
   "metadata": {},
   "outputs": [
    {
     "data": {
      "text/plain": [
       "<pyodbc.Cursor at 0x1bb3fd4ae30>"
      ]
     },
     "execution_count": 17,
     "metadata": {},
     "output_type": "execute_result"
    }
   ],
   "source": [
    "cursor.execute(\"SET IDENTITY_INSERT attribute_value ON;\")\n",
    "cursor.executemany(\"INSERT INTO attribute_value (id, attribute_id, value) VALUES (?, ?, ?)\", attribute_value_tuples)\n",
    "cursor.execute(\"SET IDENTITY_INSERT attribute_value OFF;\")"
   ]
  },
  {
   "cell_type": "code",
   "execution_count": 18,
   "id": "15eb81a8",
   "metadata": {},
   "outputs": [
    {
     "data": {
      "text/plain": [
       "<pyodbc.Cursor at 0x1bb3fd4ae30>"
      ]
     },
     "execution_count": 18,
     "metadata": {},
     "output_type": "execute_result"
    }
   ],
   "source": [
    "cursor.execute(\"SET IDENTITY_INSERT product_variant ON;\")\n",
    "cursor.executemany(\"INSERT INTO product_variant (id, product_id, price, original_price, sku, stock_quantity, sold_quantity) VALUES (?, ?, ?, ?, ?, ?, ?)\", product_variant_tuples)\n",
    "cursor.execute(\"SET IDENTITY_INSERT product_variant OFF;\")"
   ]
  },
  {
   "cell_type": "code",
   "execution_count": 21,
   "id": "5a78c396",
   "metadata": {},
   "outputs": [],
   "source": [
    "cursor.executemany(\"INSERT INTO attribute_variant (attribute_value_id, attribute_id, product_variant_id) VALUES (?, ?, ?)\", attribute_variant_tuples)"
   ]
  },
  {
   "cell_type": "code",
   "execution_count": 22,
   "id": "99960eff",
   "metadata": {},
   "outputs": [],
   "source": [
    "# close\n",
    "conn.commit()\n",
    "conn.close()"
   ]
  }
 ],
 "metadata": {
  "kernelspec": {
   "display_name": "venv",
   "language": "python",
   "name": "python3"
  },
  "language_info": {
   "codemirror_mode": {
    "name": "ipython",
    "version": 3
   },
   "file_extension": ".py",
   "mimetype": "text/x-python",
   "name": "python",
   "nbconvert_exporter": "python",
   "pygments_lexer": "ipython3",
   "version": "3.13.1"
  }
 },
 "nbformat": 4,
 "nbformat_minor": 5
}
