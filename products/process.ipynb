{
 "cells": [
  {
   "cell_type": "code",
   "execution_count": 1,
   "id": "e648158c",
   "metadata": {},
   "outputs": [],
   "source": [
    "import pandas as pd\n",
    "import numpy as np\n",
    "import random\n",
    "from tqdm import tqdm"
   ]
  },
  {
   "cell_type": "markdown",
   "id": "abf2efc4",
   "metadata": {},
   "source": [
    "### Đặt lại danh mục sản phẩm"
   ]
  },
  {
   "cell_type": "markdown",
   "id": "3361a048",
   "metadata": {},
   "source": [
    "#### Điện thoại"
   ]
  },
  {
   "cell_type": "code",
   "execution_count": 2,
   "id": "53214c35",
   "metadata": {},
   "outputs": [],
   "source": [
    "dienthoai = pd.read_csv('./rawData/dienthoai.csv', encoding='utf-8')"
   ]
  },
  {
   "cell_type": "markdown",
   "id": "e4e3844e",
   "metadata": {},
   "source": [
    "Kiểm tra giá trị trùng lặp"
   ]
  },
  {
   "cell_type": "code",
   "execution_count": 3,
   "id": "dcc81a36",
   "metadata": {},
   "outputs": [
    {
     "name": "stdout",
     "output_type": "stream",
     "text": [
      "24\n"
     ]
    }
   ],
   "source": [
    "# Check for duplicate values in the DataFrame\n",
    "print(dienthoai.duplicated().sum())\n",
    "\n",
    "# Remove duplicate rows from the DataFrame\n",
    "dienthoai = dienthoai.drop_duplicates()"
   ]
  },
  {
   "cell_type": "markdown",
   "id": "13fef6a4",
   "metadata": {},
   "source": [
    "Kiểm tra giá trị thiếu"
   ]
  },
  {
   "cell_type": "code",
   "execution_count": 4,
   "id": "d77c735e",
   "metadata": {},
   "outputs": [
    {
     "name": "stdout",
     "output_type": "stream",
     "text": [
      "Id                   0\n",
      "Tên sản phẩm         0\n",
      "Thương hiệu          0\n",
      "Danh mục             0\n",
      "Thông số kỹ thuật    0\n",
      "Phiên bản            0\n",
      "Mô tả                0\n",
      "Hình ảnh             0\n",
      "dtype: int64\n"
     ]
    }
   ],
   "source": [
    "# Check for missing values in the DataFrame\n",
    "print(dienthoai.isnull().sum())\n"
   ]
  },
  {
   "cell_type": "code",
   "execution_count": 5,
   "id": "fb5d090b",
   "metadata": {},
   "outputs": [
    {
     "data": {
      "text/plain": [
       "Danh mục\n",
       "Điện thoại Smartphone         187\n",
       "Điện Thoại - Máy Tính Bảng     11\n",
       "Phụ kiện                        6\n",
       "Root                            2\n",
       "Name: count, dtype: int64"
      ]
     },
     "execution_count": 5,
     "metadata": {},
     "output_type": "execute_result"
    }
   ],
   "source": [
    "dienthoai['Danh mục'].value_counts()"
   ]
  },
  {
   "cell_type": "markdown",
   "id": "ad2e960d",
   "metadata": {},
   "source": [
    "Chuyển hết sản phẩm thuộc danh mục Điện Thoại - Máy Tính Bản, Root vào Điện thoại Smartphone"
   ]
  },
  {
   "cell_type": "code",
   "execution_count": 6,
   "id": "4c5d8991",
   "metadata": {},
   "outputs": [],
   "source": [
    "df1 = dienthoai\n",
    "\n",
    "df1['Danh mục'] = df1['Danh mục'].replace(\n",
    "    {\n",
    "        'Điện Thoại - Máy Tính Bảng': 'Điện thoại Smartphone',\n",
    "        'Root': 'Điện thoại Smartphone',\n",
    "        'Phụ kiện': 'Phụ kiện điện thoại',\n",
    "    }\n",
    ")"
   ]
  },
  {
   "cell_type": "code",
   "execution_count": 7,
   "id": "aad8f572",
   "metadata": {},
   "outputs": [
    {
     "data": {
      "text/plain": [
       "Danh mục\n",
       "Điện thoại Smartphone    200\n",
       "Phụ kiện điện thoại        6\n",
       "Name: count, dtype: int64"
      ]
     },
     "execution_count": 7,
     "metadata": {},
     "output_type": "execute_result"
    }
   ],
   "source": [
    "df1['Danh mục'].value_counts()"
   ]
  },
  {
   "cell_type": "code",
   "execution_count": 8,
   "id": "6bb6a395",
   "metadata": {},
   "outputs": [],
   "source": [
    "dienthoai = df1"
   ]
  },
  {
   "cell_type": "markdown",
   "id": "b6407fee",
   "metadata": {},
   "source": [
    "#### Điện thoại bàn"
   ]
  },
  {
   "cell_type": "code",
   "execution_count": 9,
   "id": "e6a7526f",
   "metadata": {},
   "outputs": [],
   "source": [
    "mayban = pd.read_csv('./rawData/dienthoaiban.csv', encoding='utf-8')"
   ]
  },
  {
   "cell_type": "markdown",
   "id": "b1d43275",
   "metadata": {},
   "source": [
    "Kiểm tra giá trị trùng lặp"
   ]
  },
  {
   "cell_type": "code",
   "execution_count": 10,
   "id": "02ffcd5b",
   "metadata": {},
   "outputs": [
    {
     "name": "stdout",
     "output_type": "stream",
     "text": [
      "0\n"
     ]
    }
   ],
   "source": [
    "# Check for duplicate values in the DataFrame\n",
    "print(mayban.duplicated().sum())"
   ]
  },
  {
   "cell_type": "markdown",
   "id": "b31230f6",
   "metadata": {},
   "source": [
    "Kiểm tra giá trị thiếu"
   ]
  },
  {
   "cell_type": "code",
   "execution_count": 11,
   "id": "cc819ebe",
   "metadata": {},
   "outputs": [
    {
     "name": "stdout",
     "output_type": "stream",
     "text": [
      "Id                   0\n",
      "Tên sản phẩm         0\n",
      "Thương hiệu          0\n",
      "Danh mục             0\n",
      "Thông số kỹ thuật    0\n",
      "Phiên bản            0\n",
      "Mô tả                0\n",
      "Hình ảnh             0\n",
      "dtype: int64\n"
     ]
    }
   ],
   "source": [
    "# Check for missing values in the DataFrame\n",
    "print(mayban.isnull().sum())"
   ]
  },
  {
   "cell_type": "markdown",
   "id": "12b83c1d",
   "metadata": {},
   "source": [
    "Đặt danh mục của tất cả sản phẩm là ``Điện thoại bàn``"
   ]
  },
  {
   "cell_type": "code",
   "execution_count": 12,
   "id": "3439314b",
   "metadata": {},
   "outputs": [],
   "source": [
    "mayban['Danh mục'] = 'Điện thoại bàn'"
   ]
  },
  {
   "cell_type": "code",
   "execution_count": 13,
   "id": "0bfd7895",
   "metadata": {},
   "outputs": [
    {
     "data": {
      "text/plain": [
       "Danh mục\n",
       "Điện thoại bàn    50\n",
       "Name: count, dtype: int64"
      ]
     },
     "execution_count": 13,
     "metadata": {},
     "output_type": "execute_result"
    }
   ],
   "source": [
    "mayban['Danh mục'].value_counts()"
   ]
  },
  {
   "cell_type": "markdown",
   "id": "15a3b913",
   "metadata": {},
   "source": [
    "#### Điện thoại phổ thông"
   ]
  },
  {
   "cell_type": "code",
   "execution_count": 14,
   "id": "c06c9ea4",
   "metadata": {},
   "outputs": [],
   "source": [
    "cucgach = pd.read_csv('./rawData/dienthoaiphothong.csv', encoding='utf-8')"
   ]
  },
  {
   "cell_type": "markdown",
   "id": "25683b7f",
   "metadata": {},
   "source": [
    "Kiểm tra giá trị trùng lặp"
   ]
  },
  {
   "cell_type": "code",
   "execution_count": 15,
   "id": "3fb4d56a",
   "metadata": {},
   "outputs": [
    {
     "name": "stdout",
     "output_type": "stream",
     "text": [
      "0\n"
     ]
    }
   ],
   "source": [
    "# Check for duplicate values in the DataFrame\n",
    "print(cucgach.duplicated().sum())"
   ]
  },
  {
   "cell_type": "markdown",
   "id": "530f6b32",
   "metadata": {},
   "source": [
    "Kiểm tra giá trị thiếu"
   ]
  },
  {
   "cell_type": "code",
   "execution_count": 16,
   "id": "19f8655f",
   "metadata": {},
   "outputs": [
    {
     "name": "stdout",
     "output_type": "stream",
     "text": [
      "Id                   0\n",
      "Tên sản phẩm         0\n",
      "Thương hiệu          0\n",
      "Danh mục             0\n",
      "Thông số kỹ thuật    0\n",
      "Phiên bản            0\n",
      "Mô tả                0\n",
      "Hình ảnh             0\n",
      "dtype: int64\n"
     ]
    }
   ],
   "source": [
    "# Check for missing values in the DataFrame\n",
    "print(cucgach.isnull().sum())"
   ]
  },
  {
   "cell_type": "markdown",
   "id": "a56bb875",
   "metadata": {},
   "source": [
    "Đặt danh mục của tất cả sản phẩm là `Điện thoại phổ thông`"
   ]
  },
  {
   "cell_type": "code",
   "execution_count": 17,
   "id": "2f239921",
   "metadata": {},
   "outputs": [],
   "source": [
    "cucgach['Danh mục'] = 'Điện thoại phổ thông'"
   ]
  },
  {
   "cell_type": "code",
   "execution_count": 18,
   "id": "7b31cee9",
   "metadata": {},
   "outputs": [
    {
     "data": {
      "text/plain": [
       "Danh mục\n",
       "Điện thoại phổ thông    18\n",
       "Name: count, dtype: int64"
      ]
     },
     "execution_count": 18,
     "metadata": {},
     "output_type": "execute_result"
    }
   ],
   "source": [
    "cucgach['Danh mục'].value_counts()"
   ]
  },
  {
   "cell_type": "markdown",
   "id": "fbc3ae0b",
   "metadata": {},
   "source": [
    "#### dieuhoa.csv"
   ]
  },
  {
   "cell_type": "code",
   "execution_count": 19,
   "id": "0fdeaa43",
   "metadata": {},
   "outputs": [],
   "source": [
    "dieuhoa = pd.read_csv('./rawData/dieuhoa.csv', encoding='utf-8')"
   ]
  },
  {
   "cell_type": "markdown",
   "id": "41aa6191",
   "metadata": {},
   "source": [
    "Kiểm tra giá trị trùng lặp"
   ]
  },
  {
   "cell_type": "code",
   "execution_count": 20,
   "id": "99655177",
   "metadata": {},
   "outputs": [
    {
     "name": "stdout",
     "output_type": "stream",
     "text": [
      "0\n"
     ]
    }
   ],
   "source": [
    "# Check for duplicate values in the DataFrame\n",
    "print(dieuhoa.duplicated().sum())"
   ]
  },
  {
   "cell_type": "markdown",
   "id": "d384fc37",
   "metadata": {},
   "source": [
    "Kiểm tra giá trị thiếu"
   ]
  },
  {
   "cell_type": "code",
   "execution_count": 21,
   "id": "4375e23b",
   "metadata": {},
   "outputs": [
    {
     "name": "stdout",
     "output_type": "stream",
     "text": [
      "Id                   0\n",
      "Tên sản phẩm         0\n",
      "Thương hiệu          0\n",
      "Danh mục             0\n",
      "Thông số kỹ thuật    0\n",
      "Phiên bản            0\n",
      "Mô tả                0\n",
      "Hình ảnh             0\n",
      "dtype: int64\n"
     ]
    }
   ],
   "source": [
    "# Check for missing values in the DataFrame\n",
    "print(dieuhoa.isnull().sum())"
   ]
  },
  {
   "cell_type": "markdown",
   "id": "bac76187",
   "metadata": {},
   "source": [
    "Giữ nguyên tên các danh mục"
   ]
  },
  {
   "cell_type": "code",
   "execution_count": 22,
   "id": "53afb8bc",
   "metadata": {},
   "outputs": [
    {
     "data": {
      "text/plain": [
       "Danh mục\n",
       "Máy lạnh treo tường        231\n",
       "Máy lạnh - Máy điều hòa     95\n",
       "Máy lạnh tủ đứng             9\n",
       "Máy lạnh âm trần             2\n",
       "Name: count, dtype: int64"
      ]
     },
     "execution_count": 22,
     "metadata": {},
     "output_type": "execute_result"
    }
   ],
   "source": [
    "dieuhoa['Danh mục'].value_counts()"
   ]
  },
  {
   "cell_type": "markdown",
   "id": "45864fad",
   "metadata": {},
   "source": [
    "#### laptop.csv"
   ]
  },
  {
   "cell_type": "code",
   "execution_count": 23,
   "id": "c813d364",
   "metadata": {},
   "outputs": [],
   "source": [
    "laptop = pd.read_csv('./rawData/laptop.csv', encoding='utf-8')"
   ]
  },
  {
   "cell_type": "markdown",
   "id": "502cf75c",
   "metadata": {},
   "source": [
    "Kiểm tra giá trị trùng lặp"
   ]
  },
  {
   "cell_type": "code",
   "execution_count": 24,
   "id": "e84e86e7",
   "metadata": {},
   "outputs": [
    {
     "name": "stdout",
     "output_type": "stream",
     "text": [
      "0\n"
     ]
    }
   ],
   "source": [
    "# Check for duplicate values in the DataFrame\n",
    "print(laptop.duplicated().sum())"
   ]
  },
  {
   "cell_type": "markdown",
   "id": "0965da23",
   "metadata": {},
   "source": [
    "Kiểm tra giá trị thiếu"
   ]
  },
  {
   "cell_type": "code",
   "execution_count": 25,
   "id": "71f10656",
   "metadata": {},
   "outputs": [
    {
     "name": "stdout",
     "output_type": "stream",
     "text": [
      "Id                   0\n",
      "Tên sản phẩm         0\n",
      "Thương hiệu          0\n",
      "Danh mục             0\n",
      "Thông số kỹ thuật    0\n",
      "Phiên bản            0\n",
      "Mô tả                0\n",
      "Hình ảnh             0\n",
      "dtype: int64\n"
     ]
    }
   ],
   "source": [
    "# Check for missing values in the DataFrame\n",
    "print(laptop.isnull().sum())"
   ]
  },
  {
   "cell_type": "markdown",
   "id": "82ab53ad",
   "metadata": {},
   "source": [
    "Chuyển đổi các danh mục như sau:\n",
    "\n",
    "**Danh mục mới gồm:** <br/>\n",
    "\n",
    "**Laptop truyền thống** (Laptop truyền thống + Laptop - Máy Vi Tính - Linh Kiện + Laptop + Root) <br />\n",
    "**Laptop Gaming** (Laptop Gaming)<br />\n",
    "**Laptop 2 trong 1** (Laptop 2 trong 1)<br />\n",
    "**Macbook** (Macbook)<br />"
   ]
  },
  {
   "cell_type": "code",
   "execution_count": 26,
   "id": "26d5c44a",
   "metadata": {},
   "outputs": [
    {
     "data": {
      "text/plain": [
       "Danh mục\n",
       "Laptop Truyền Thống                 262\n",
       "Laptop Gaming                        41\n",
       "Laptop - Máy Vi Tính - Linh kiện     16\n",
       "Laptop 2 trong 1                     13\n",
       "Macbook                               4\n",
       "Laptop                                1\n",
       "Root                                  1\n",
       "Name: count, dtype: int64"
      ]
     },
     "execution_count": 26,
     "metadata": {},
     "output_type": "execute_result"
    }
   ],
   "source": [
    "laptop['Danh mục'].value_counts()"
   ]
  },
  {
   "cell_type": "code",
   "execution_count": 27,
   "id": "3954ff06",
   "metadata": {},
   "outputs": [],
   "source": [
    "laptop1 = laptop\n",
    "\n",
    "laptop1['Danh mục'] = laptop1['Danh mục'].replace(\n",
    "    {\n",
    "        'Laptop - Máy Vi Tính - Linh kiện': 'Laptop Truyền Thống',\n",
    "        'Laptop': 'Laptop Truyền Thống',\n",
    "        'Root': 'Laptop Truyền Thống',\n",
    "    }\n",
    ")"
   ]
  },
  {
   "cell_type": "markdown",
   "id": "a6166b1d",
   "metadata": {},
   "source": [
    "Kiểm tra lại danh mục"
   ]
  },
  {
   "cell_type": "code",
   "execution_count": 28,
   "id": "9f76c73c",
   "metadata": {},
   "outputs": [
    {
     "data": {
      "text/plain": [
       "Danh mục\n",
       "Laptop Truyền Thống    280\n",
       "Laptop Gaming           41\n",
       "Laptop 2 trong 1        13\n",
       "Macbook                  4\n",
       "Name: count, dtype: int64"
      ]
     },
     "execution_count": 28,
     "metadata": {},
     "output_type": "execute_result"
    }
   ],
   "source": [
    "laptop1['Danh mục'].value_counts()"
   ]
  },
  {
   "cell_type": "code",
   "execution_count": 29,
   "id": "d126f8ed",
   "metadata": {},
   "outputs": [],
   "source": [
    "laptop = laptop1"
   ]
  },
  {
   "cell_type": "markdown",
   "id": "eff82339",
   "metadata": {},
   "source": [
    "#### maydocsach.csv"
   ]
  },
  {
   "cell_type": "code",
   "execution_count": 30,
   "id": "91b87532",
   "metadata": {},
   "outputs": [],
   "source": [
    "maydocsach = pd.read_csv('./rawData/maydocsach.csv', encoding='utf-8')"
   ]
  },
  {
   "cell_type": "markdown",
   "id": "2010929d",
   "metadata": {},
   "source": [
    "Kiểm tra giá trị trùng lặp"
   ]
  },
  {
   "cell_type": "code",
   "execution_count": 31,
   "id": "f8262afc",
   "metadata": {},
   "outputs": [
    {
     "name": "stdout",
     "output_type": "stream",
     "text": [
      "7\n"
     ]
    }
   ],
   "source": [
    "# Check for duplicate values in the DataFrame\n",
    "print(maydocsach.duplicated().sum())\n",
    "\n",
    "maydocsach.drop_duplicates(inplace=True)"
   ]
  },
  {
   "cell_type": "markdown",
   "id": "481e02ba",
   "metadata": {},
   "source": [
    "Kiểm tra giá trị thiếu"
   ]
  },
  {
   "cell_type": "code",
   "execution_count": 32,
   "id": "724e146c",
   "metadata": {},
   "outputs": [
    {
     "name": "stdout",
     "output_type": "stream",
     "text": [
      "Id                   0\n",
      "Tên sản phẩm         0\n",
      "Thương hiệu          0\n",
      "Danh mục             0\n",
      "Thông số kỹ thuật    0\n",
      "Phiên bản            0\n",
      "Mô tả                0\n",
      "Hình ảnh             0\n",
      "dtype: int64\n"
     ]
    }
   ],
   "source": [
    "# Check for missing values in the DataFrame\n",
    "print(maydocsach.isnull().sum())"
   ]
  },
  {
   "cell_type": "code",
   "execution_count": 33,
   "id": "731542e4",
   "metadata": {},
   "outputs": [
    {
     "data": {
      "text/plain": [
       "Danh mục\n",
       "Máy đọc sách                  33\n",
       "Điện Thoại - Máy Tính Bảng     9\n",
       "Name: count, dtype: int64"
      ]
     },
     "execution_count": 33,
     "metadata": {},
     "output_type": "execute_result"
    }
   ],
   "source": [
    "maydocsach['Danh mục'].value_counts()"
   ]
  },
  {
   "cell_type": "markdown",
   "id": "8450e22e",
   "metadata": {},
   "source": [
    "Gộp danh mục Điện Thoại - Máy Tính Bảng vào danh mục máy đọc sách, sau đó lọc máy tính bảng trong danh mục máy đọc sách."
   ]
  },
  {
   "cell_type": "code",
   "execution_count": 34,
   "id": "3112e92a",
   "metadata": {},
   "outputs": [],
   "source": [
    "maydocsach['Danh mục'] = 'Máy đọc sách'\n",
    "\n",
    "maydocsach.loc[maydocsach['Tên sản phẩm'].str.contains('máy tính bảng', case=False), 'Danh mục'] = 'Máy tính bảng'"
   ]
  },
  {
   "cell_type": "code",
   "execution_count": 35,
   "id": "cf7869a2",
   "metadata": {},
   "outputs": [
    {
     "data": {
      "text/plain": [
       "Danh mục\n",
       "Máy đọc sách     39\n",
       "Máy tính bảng     3\n",
       "Name: count, dtype: int64"
      ]
     },
     "execution_count": 35,
     "metadata": {},
     "output_type": "execute_result"
    }
   ],
   "source": [
    "maydocsach['Danh mục'].value_counts()"
   ]
  },
  {
   "cell_type": "markdown",
   "id": "94affbd1",
   "metadata": {},
   "source": [
    "#### maygiat.csv"
   ]
  },
  {
   "cell_type": "code",
   "execution_count": 36,
   "id": "4cd6e180",
   "metadata": {},
   "outputs": [],
   "source": [
    "maygiat = pd.read_csv('./rawData/maygiat.csv', encoding='utf-8')"
   ]
  },
  {
   "cell_type": "markdown",
   "id": "2e1891ff",
   "metadata": {},
   "source": [
    "Kiểm tra giá trị trùng lặp"
   ]
  },
  {
   "cell_type": "code",
   "execution_count": 37,
   "id": "225df867",
   "metadata": {},
   "outputs": [
    {
     "name": "stdout",
     "output_type": "stream",
     "text": [
      "0\n"
     ]
    }
   ],
   "source": [
    "# Check for duplicate values in the DataFrame\n",
    "print(maygiat.duplicated().sum())\n",
    "\n",
    "# Remove duplicate rows from the DataFrame\n",
    "maygiat.drop_duplicates(inplace=True)"
   ]
  },
  {
   "cell_type": "markdown",
   "id": "77c71622",
   "metadata": {},
   "source": [
    "Kiểm tra giá trị thiếu"
   ]
  },
  {
   "cell_type": "code",
   "execution_count": 38,
   "id": "e27675e8",
   "metadata": {},
   "outputs": [
    {
     "name": "stdout",
     "output_type": "stream",
     "text": [
      "Id                   0\n",
      "Tên sản phẩm         0\n",
      "Thương hiệu          0\n",
      "Danh mục             0\n",
      "Thông số kỹ thuật    0\n",
      "Phiên bản            0\n",
      "Mô tả                0\n",
      "Hình ảnh             0\n",
      "dtype: int64\n"
     ]
    }
   ],
   "source": [
    "# Check for missing values in the DataFrame\n",
    "print(maygiat.isnull().sum())"
   ]
  },
  {
   "cell_type": "markdown",
   "id": "4db93da9",
   "metadata": {},
   "source": [
    "Giữ nguyên tên của các danh mục"
   ]
  },
  {
   "cell_type": "code",
   "execution_count": 39,
   "id": "d4d67c41",
   "metadata": {},
   "outputs": [
    {
     "data": {
      "text/plain": [
       "Danh mục\n",
       "Máy giặt cửa ngang    160\n",
       "Máy giặt cửa trên     118\n",
       "Máy giặt               90\n",
       "Tháp giặt sấy          12\n",
       "Máy giặt mini           2\n",
       "Name: count, dtype: int64"
      ]
     },
     "execution_count": 39,
     "metadata": {},
     "output_type": "execute_result"
    }
   ],
   "source": [
    "maygiat['Danh mục'].value_counts()"
   ]
  },
  {
   "cell_type": "markdown",
   "id": "4eb64f70",
   "metadata": {},
   "source": [
    "#### maytinhbang.csv"
   ]
  },
  {
   "cell_type": "code",
   "execution_count": 40,
   "id": "46cd2c58",
   "metadata": {},
   "outputs": [],
   "source": [
    "maytinhbang = pd.read_csv('./rawData/maytinhbang.csv', encoding='utf-8')"
   ]
  },
  {
   "cell_type": "markdown",
   "id": "0ed66505",
   "metadata": {},
   "source": [
    "Kiểm tra giá trị trùng lặp"
   ]
  },
  {
   "cell_type": "code",
   "execution_count": 41,
   "id": "baf6557b",
   "metadata": {},
   "outputs": [
    {
     "name": "stdout",
     "output_type": "stream",
     "text": [
      "2\n"
     ]
    }
   ],
   "source": [
    "# Check for duplicate values in the DataFrame\n",
    "print(maytinhbang.duplicated().sum())\n",
    "\n",
    "maytinhbang.drop_duplicates(inplace=True)"
   ]
  },
  {
   "cell_type": "markdown",
   "id": "9000a0c9",
   "metadata": {},
   "source": [
    "Kiểm tra giá trị thiếu"
   ]
  },
  {
   "cell_type": "code",
   "execution_count": 42,
   "id": "cea8b12b",
   "metadata": {},
   "outputs": [
    {
     "name": "stdout",
     "output_type": "stream",
     "text": [
      "Id                   0\n",
      "Tên sản phẩm         0\n",
      "Thương hiệu          0\n",
      "Danh mục             0\n",
      "Thông số kỹ thuật    0\n",
      "Phiên bản            0\n",
      "Mô tả                0\n",
      "Hình ảnh             0\n",
      "dtype: int64\n"
     ]
    }
   ],
   "source": [
    "# Check for missing values in the DataFrame\n",
    "print(maytinhbang.isnull().sum())"
   ]
  },
  {
   "cell_type": "markdown",
   "id": "18119ccf",
   "metadata": {},
   "source": [
    "Gộp chung sản phẩm cùng danh mục Máy tính bảng"
   ]
  },
  {
   "cell_type": "code",
   "execution_count": 43,
   "id": "22a80f17",
   "metadata": {},
   "outputs": [],
   "source": [
    "maytinhbang['Danh mục'] = 'Máy tính bảng'"
   ]
  },
  {
   "cell_type": "code",
   "execution_count": 44,
   "id": "d1859026",
   "metadata": {},
   "outputs": [
    {
     "data": {
      "text/plain": [
       "Danh mục\n",
       "Máy tính bảng    33\n",
       "Name: count, dtype: int64"
      ]
     },
     "execution_count": 44,
     "metadata": {},
     "output_type": "execute_result"
    }
   ],
   "source": [
    "maytinhbang['Danh mục'].value_counts()"
   ]
  },
  {
   "cell_type": "markdown",
   "id": "9dd65052",
   "metadata": {},
   "source": [
    "#### tivi.csv"
   ]
  },
  {
   "cell_type": "code",
   "execution_count": 45,
   "id": "c4362d1c",
   "metadata": {},
   "outputs": [],
   "source": [
    "tivi = pd.read_csv('./rawData/tivi.csv', encoding='utf-8')"
   ]
  },
  {
   "cell_type": "markdown",
   "id": "151d6903",
   "metadata": {},
   "source": [
    "Kiểm tra giá trị trùng lặp"
   ]
  },
  {
   "cell_type": "code",
   "execution_count": 46,
   "id": "0c14e1d7",
   "metadata": {},
   "outputs": [
    {
     "name": "stdout",
     "output_type": "stream",
     "text": [
      "0\n"
     ]
    }
   ],
   "source": [
    "# Check for duplicate values in the DataFrame\n",
    "print(tivi.duplicated().sum())"
   ]
  },
  {
   "cell_type": "markdown",
   "id": "1930d363",
   "metadata": {},
   "source": [
    "Kiểm tra giá trị thiếu"
   ]
  },
  {
   "cell_type": "code",
   "execution_count": 47,
   "id": "8f4c9096",
   "metadata": {},
   "outputs": [
    {
     "name": "stdout",
     "output_type": "stream",
     "text": [
      "Id                   0\n",
      "Tên sản phẩm         0\n",
      "Thương hiệu          0\n",
      "Danh mục             0\n",
      "Thông số kỹ thuật    0\n",
      "Phiên bản            0\n",
      "Mô tả                0\n",
      "Hình ảnh             0\n",
      "dtype: int64\n"
     ]
    }
   ],
   "source": [
    "# Check for missing values in the DataFrame\n",
    "print(tivi.isnull().sum())"
   ]
  },
  {
   "cell_type": "markdown",
   "id": "3bb3f957",
   "metadata": {},
   "source": [
    "Tiến hành chia danh muc:\n",
    "\n",
    "Từ danh mục ĐT-ĐL và Root, ta có thể phân phối chúng vào 2 danh mục: Tivi thường (LED) và Smart Tivi - Android Tivi\n",
    "\n",
    "Nếu tên sản phẩm chứa OLED -> Tivi OLED<br/>\n",
    "Nếu tên sản phẩm chứa Smart hoặc Android -> Smart Tivi - Android Tivi<br/>\n",
    "Nếu tên sản phẩm chứa LED -> Tivi thường (LED)<br/>\n",
    "Nếu tên sản phẩm chứa QLED -> Tivi QLED<br/>"
   ]
  },
  {
   "cell_type": "code",
   "execution_count": 48,
   "id": "021ce7fd",
   "metadata": {},
   "outputs": [],
   "source": [
    "df4 = tivi.loc[tivi['Danh mục'].isin(['Điện Tử - Điện Lạnh', 'Root'])].copy()\n",
    "\n",
    "df4.loc[\n",
    "    df4['Tên sản phẩm'].str.contains('oled', case=False),\n",
    "    'Danh mục'\n",
    "] = 'Tivi OLED'\n",
    "\n",
    "df4.loc[\n",
    "    df4['Tên sản phẩm'].str.contains('qled', case=False),\n",
    "    'Danh mục'\n",
    "] = 'Tivi QLED'\n",
    "\n",
    "df4.loc[\n",
    "    df4['Tên sản phẩm'].str.contains('smart|android', case=False),\n",
    "    'Danh mục'\n",
    "] = 'Smart Tivi - Android Tivi'\n",
    "\n",
    "df4.loc[\n",
    "    df4['Tên sản phẩm'].str.contains('led', case=False),\n",
    "    'Danh mục'\n",
    "] = 'Tivi thường (LED)'\n",
    "\n",
    "df4.loc[\n",
    "    df4['Tên sản phẩm'].str.contains('4k', case=False),\n",
    "    'Danh mục'\n",
    "] = 'Tivi 4K'"
   ]
  },
  {
   "cell_type": "markdown",
   "id": "a227b455",
   "metadata": {},
   "source": [
    "Xóa bỏ danh mục ĐT-ĐL và Root. Nối df4 với tivi"
   ]
  },
  {
   "cell_type": "code",
   "execution_count": 49,
   "id": "302e8a61",
   "metadata": {},
   "outputs": [],
   "source": [
    "tivi.drop(\n",
    "    tivi[tivi['Danh mục'].isin(['Điện Tử - Điện Lạnh', 'Root'])].index,\n",
    "    inplace=True\n",
    "\n",
    ")\n",
    "\n",
    "df4.drop(\n",
    "    df4[df4['Danh mục'].isin(['Điện Tử - Điện Lạnh', 'Root'])].index,\n",
    "    inplace=True\n",
    "\n",
    ")\n",
    "\n",
    "tivi = pd.concat([tivi, df4], ignore_index=True)"
   ]
  },
  {
   "cell_type": "code",
   "execution_count": 50,
   "id": "dec74e5d",
   "metadata": {},
   "outputs": [
    {
     "data": {
      "text/plain": [
       "Danh mục\n",
       "Smart Tivi - Android Tivi    124\n",
       "Tivi 4K                      104\n",
       "Tivi thường (LED)             18\n",
       "Tivi OLED                     11\n",
       "Tivi QLED                      5\n",
       "Tivi cao cấp                   5\n",
       "Internet Tivi                  4\n",
       "Name: count, dtype: int64"
      ]
     },
     "execution_count": 50,
     "metadata": {},
     "output_type": "execute_result"
    }
   ],
   "source": [
    "tivi['Danh mục'].value_counts()"
   ]
  },
  {
   "cell_type": "markdown",
   "id": "3e7e5426",
   "metadata": {},
   "source": [
    "#### tulanh.csv"
   ]
  },
  {
   "cell_type": "code",
   "execution_count": 51,
   "id": "f06d31ac",
   "metadata": {},
   "outputs": [],
   "source": [
    "tulanh = pd.read_csv('./rawData/tulanh.csv', encoding='utf-8')"
   ]
  },
  {
   "cell_type": "markdown",
   "id": "00e7ca5d",
   "metadata": {},
   "source": [
    "Kiểm tra các giá trị trùng lặp"
   ]
  },
  {
   "cell_type": "code",
   "execution_count": 52,
   "id": "7a5fa796",
   "metadata": {},
   "outputs": [
    {
     "name": "stdout",
     "output_type": "stream",
     "text": [
      "0\n"
     ]
    }
   ],
   "source": [
    "# Check for duplicate values in the DataFrame\n",
    "print(tulanh.duplicated().sum())"
   ]
  },
  {
   "cell_type": "markdown",
   "id": "827863f8",
   "metadata": {},
   "source": [
    "Kiểm tra các giá trị thiếu"
   ]
  },
  {
   "cell_type": "code",
   "execution_count": 53,
   "id": "09b44cde",
   "metadata": {},
   "outputs": [
    {
     "name": "stdout",
     "output_type": "stream",
     "text": [
      "Id                   0\n",
      "Tên sản phẩm         0\n",
      "Thương hiệu          0\n",
      "Danh mục             0\n",
      "Thông số kỹ thuật    0\n",
      "Phiên bản            0\n",
      "Mô tả                0\n",
      "Hình ảnh             0\n",
      "dtype: int64\n"
     ]
    }
   ],
   "source": [
    "# Check for missing values in the DataFrame\n",
    "print(tulanh.isnull().sum())"
   ]
  },
  {
   "cell_type": "code",
   "execution_count": 54,
   "id": "3aa61001",
   "metadata": {},
   "outputs": [
    {
     "data": {
      "text/plain": [
       "Danh mục\n",
       "Tủ lạnh nhiều cửa       164\n",
       "Tủ lạnh                  78\n",
       "Điện Tử - Điện Lạnh      68\n",
       "Tủ lạnh side by side     53\n",
       "Tủ lạnh mini             37\n",
       "Name: count, dtype: int64"
      ]
     },
     "execution_count": 54,
     "metadata": {},
     "output_type": "execute_result"
    }
   ],
   "source": [
    "tulanh['Danh mục'].value_counts()"
   ]
  },
  {
   "cell_type": "markdown",
   "id": "3c8cbc8f",
   "metadata": {},
   "source": [
    "Chuyển sản phẩm thuộc danh mục Điện Tử - Điện Lạnh vào danh mục Tủ lạnh"
   ]
  },
  {
   "cell_type": "code",
   "execution_count": 55,
   "id": "174d1c0e",
   "metadata": {},
   "outputs": [],
   "source": [
    "tulanh['Danh mục'] = tulanh['Danh mục'].replace(\n",
    "    {\n",
    "        'Điện Tử - Điện Lạnh': 'Tủ lạnh',\n",
    "    }\n",
    ")"
   ]
  },
  {
   "cell_type": "code",
   "execution_count": 56,
   "id": "2f0c2a6c",
   "metadata": {},
   "outputs": [
    {
     "data": {
      "text/plain": [
       "Danh mục\n",
       "Tủ lạnh nhiều cửa       164\n",
       "Tủ lạnh                 146\n",
       "Tủ lạnh side by side     53\n",
       "Tủ lạnh mini             37\n",
       "Name: count, dtype: int64"
      ]
     },
     "execution_count": 56,
     "metadata": {},
     "output_type": "execute_result"
    }
   ],
   "source": [
    "tulanh['Danh mục'].value_counts()"
   ]
  },
  {
   "cell_type": "markdown",
   "id": "b3dfc7a7",
   "metadata": {},
   "source": [
    "#### cameragiamsat.csv"
   ]
  },
  {
   "cell_type": "code",
   "execution_count": 57,
   "id": "99b1c2a0",
   "metadata": {},
   "outputs": [],
   "source": [
    "camgiamsat = pd.read_csv('./rawData/cameragiamsat.csv', encoding='utf-8')"
   ]
  },
  {
   "cell_type": "markdown",
   "id": "08055891",
   "metadata": {},
   "source": [
    "Kiểm tra giá trị trùng lặp"
   ]
  },
  {
   "cell_type": "code",
   "execution_count": 58,
   "id": "cdb9ae45",
   "metadata": {},
   "outputs": [
    {
     "name": "stdout",
     "output_type": "stream",
     "text": [
      "24\n"
     ]
    }
   ],
   "source": [
    "print(camgiamsat.duplicated().sum())\n",
    "\n",
    "camgiamsat.drop_duplicates(inplace=True)"
   ]
  },
  {
   "cell_type": "markdown",
   "id": "13fc4c41",
   "metadata": {},
   "source": [
    "Kiểm tra giá trị thiếu"
   ]
  },
  {
   "cell_type": "code",
   "execution_count": 59,
   "id": "bc0ad506",
   "metadata": {},
   "outputs": [
    {
     "data": {
      "text/plain": [
       "Id                   0\n",
       "Tên sản phẩm         0\n",
       "Thương hiệu          0\n",
       "Danh mục             0\n",
       "Thông số kỹ thuật    0\n",
       "Phiên bản            0\n",
       "Mô tả                0\n",
       "Hình ảnh             0\n",
       "dtype: int64"
      ]
     },
     "execution_count": 59,
     "metadata": {},
     "output_type": "execute_result"
    }
   ],
   "source": [
    "camgiamsat.isnull().sum()"
   ]
  },
  {
   "cell_type": "code",
   "execution_count": 60,
   "id": "17c2713e",
   "metadata": {},
   "outputs": [
    {
     "data": {
      "text/plain": [
       "Danh mục\n",
       "Camera IP                   283\n",
       "Máy Ảnh - Máy Quay Phim      78\n",
       "Phụ Kiện Camera Giám Sát     17\n",
       "Đầu Ghi Hình Camera          11\n",
       "Root                          8\n",
       "Hệ Thống Camera Giám Sát      7\n",
       "Camera Quan Sát Analog        2\n",
       "Name: count, dtype: int64"
      ]
     },
     "execution_count": 60,
     "metadata": {},
     "output_type": "execute_result"
    }
   ],
   "source": [
    "camgiamsat['Danh mục'].value_counts()"
   ]
  },
  {
   "cell_type": "markdown",
   "id": "1dea2a5a",
   "metadata": {},
   "source": [
    "Cần phân bổ thành các danh mục\n",
    "\n",
    "**Camera IP - Camera Wifi** (Camera IP + Máy Ảnh - Máy Quay Phim + Root)<br />\n",
    "**Phụ Kiện Camera Giám Sát** (Phụ Kiện + Root)<br />\n",
    "**Đầu Ghi Hình Camera**<br />\n",
    "**Camera Quan Sát Analog**<br/>\n",
    "**Hệ Thống Camera Giám Sát**"
   ]
  },
  {
   "cell_type": "code",
   "execution_count": 61,
   "id": "5122c935",
   "metadata": {},
   "outputs": [
    {
     "name": "stderr",
     "output_type": "stream",
     "text": [
      "C:\\Users\\ADMIN\\AppData\\Local\\Temp\\ipykernel_2120\\489877380.py:17: SettingWithCopyWarning: \n",
      "A value is trying to be set on a copy of a slice from a DataFrame.\n",
      "Try using .loc[row_indexer,col_indexer] = value instead\n",
      "\n",
      "See the caveats in the documentation: https://pandas.pydata.org/pandas-docs/stable/user_guide/indexing.html#returning-a-view-versus-a-copy\n",
      "  df6['Danh mục'] = df5['Danh mục'].replace(\n"
     ]
    }
   ],
   "source": [
    "df5 = camgiamsat\n",
    "\n",
    "df5['Danh mục'] = df5['Danh mục'].replace(\n",
    "    {\n",
    "        'Máy Ảnh - Máy Quay Phim': 'Camera IP - Camera Wifi',\n",
    "        'Camera IP': 'Camera IP - Camera Wifi',\n",
    "    }\n",
    ")\n",
    "\n",
    "df6 = df5.loc[df5['Danh mục'] == 'Root']\n",
    "\n",
    "df6.loc[\n",
    "    df6['Tên sản phẩm'].str.contains('ip|wifi', case=False),\n",
    "    'Danh mục'\n",
    "] = 'Camera IP - Camera Wifi'\n",
    "\n",
    "df6['Danh mục'] = df5['Danh mục'].replace(\n",
    "    {\n",
    "        'Root': 'Phụ Kiện Camera Giám Sát',\n",
    "        \n",
    "    }\n",
    ")\n",
    "\n",
    "df5.drop(\n",
    "    df5[df5['Danh mục'] == 'Root'].index,\n",
    "    inplace=True\n",
    ")\n",
    "\n",
    "df5 = pd.concat([df5, df6], ignore_index=True)\n"
   ]
  },
  {
   "cell_type": "code",
   "execution_count": 62,
   "id": "d0e1bc03",
   "metadata": {},
   "outputs": [
    {
     "data": {
      "text/plain": [
       "Danh mục\n",
       "Camera IP - Camera Wifi     361\n",
       "Phụ Kiện Camera Giám Sát     25\n",
       "Đầu Ghi Hình Camera          11\n",
       "Hệ Thống Camera Giám Sát      7\n",
       "Camera Quan Sát Analog        2\n",
       "Name: count, dtype: int64"
      ]
     },
     "execution_count": 62,
     "metadata": {},
     "output_type": "execute_result"
    }
   ],
   "source": [
    "df5['Danh mục'].value_counts()"
   ]
  },
  {
   "cell_type": "code",
   "execution_count": 63,
   "id": "a63ff220",
   "metadata": {},
   "outputs": [],
   "source": [
    "camgiamsat = df5"
   ]
  },
  {
   "cell_type": "markdown",
   "id": "69f1d50c",
   "metadata": {},
   "source": [
    "#### maytinhdeban.csv"
   ]
  },
  {
   "cell_type": "code",
   "execution_count": 64,
   "id": "8a180c84",
   "metadata": {},
   "outputs": [],
   "source": [
    "pc = pd.read_csv('./rawData/maytinhdeban.csv', encoding='utf-8')"
   ]
  },
  {
   "cell_type": "markdown",
   "id": "6f82a689",
   "metadata": {},
   "source": [
    "Kiểm tra giá trị trùng lặp"
   ]
  },
  {
   "cell_type": "code",
   "execution_count": 65,
   "id": "f2a5cde5",
   "metadata": {},
   "outputs": [
    {
     "name": "stdout",
     "output_type": "stream",
     "text": [
      "2\n"
     ]
    }
   ],
   "source": [
    "print(pc.duplicated().sum())\n",
    "\n",
    "pc.drop_duplicates(inplace=True)"
   ]
  },
  {
   "cell_type": "markdown",
   "id": "135e8a88",
   "metadata": {},
   "source": [
    "Kiểm tra giá trị thiếu"
   ]
  },
  {
   "cell_type": "code",
   "execution_count": 66,
   "id": "d2923004",
   "metadata": {},
   "outputs": [
    {
     "data": {
      "text/plain": [
       "Id                   0\n",
       "Tên sản phẩm         0\n",
       "Thương hiệu          0\n",
       "Danh mục             0\n",
       "Thông số kỹ thuật    0\n",
       "Phiên bản            0\n",
       "Mô tả                0\n",
       "Hình ảnh             0\n",
       "dtype: int64"
      ]
     },
     "execution_count": 66,
     "metadata": {},
     "output_type": "execute_result"
    }
   ],
   "source": [
    "pc.isnull().sum()"
   ]
  },
  {
   "cell_type": "code",
   "execution_count": 67,
   "id": "5aa6f911",
   "metadata": {},
   "outputs": [
    {
     "data": {
      "text/plain": [
       "Danh mục\n",
       "Máy Tính Bộ Thương Hiệu             89\n",
       "Mini PC                             22\n",
       "Laptop - Máy Vi Tính - Linh kiện    10\n",
       "Máy Tính All in one                 10\n",
       "Towers - Máy Chủ - Server           10\n",
       "Máy Tính Để Bàn Lắp Ráp              6\n",
       "PC Gaming                            3\n",
       "Root                                 2\n",
       "PC - Máy Tính Bộ                     1\n",
       "Name: count, dtype: int64"
      ]
     },
     "execution_count": 67,
     "metadata": {},
     "output_type": "execute_result"
    }
   ],
   "source": [
    "pc['Danh mục'].value_counts()"
   ]
  },
  {
   "cell_type": "markdown",
   "id": "1ad01029",
   "metadata": {},
   "source": [
    "Chuyển đổi thành các danh mục:\n",
    "\n",
    "**Máy tính đồng bộ** (Bổ sung Laptop - Máy Vi Tính - Linh kiện + Root + PC - Máy Tính Bộ)<br />\n",
    "**Mini PC** (Bổ sung Laptop - Máy Vi Tính - Linh kiện)<br />\n",
    "**Towers - Máy Chủ - Server**<br />\n",
    "**Máy Tính All in one**<br />\n",
    "**Máy Tính Để Bàn Lắp Ráp**<br />\n",
    "**PC Gaming**<br />"
   ]
  },
  {
   "cell_type": "code",
   "execution_count": 68,
   "id": "648f115e",
   "metadata": {},
   "outputs": [
    {
     "name": "stderr",
     "output_type": "stream",
     "text": [
      "C:\\Users\\ADMIN\\AppData\\Local\\Temp\\ipykernel_2120\\203120257.py:18: SettingWithCopyWarning: \n",
      "A value is trying to be set on a copy of a slice from a DataFrame.\n",
      "Try using .loc[row_indexer,col_indexer] = value instead\n",
      "\n",
      "See the caveats in the documentation: https://pandas.pydata.org/pandas-docs/stable/user_guide/indexing.html#returning-a-view-versus-a-copy\n",
      "  df7['Danh mục'] = df7['Danh mục'].replace(\n"
     ]
    },
    {
     "data": {
      "text/plain": [
       "Danh mục\n",
       "Máy tính đồng bộ             100\n",
       "Mini PC                       24\n",
       "Máy Tính All in one           10\n",
       "Towers - Máy Chủ - Server     10\n",
       "Máy Tính Để Bàn Lắp Ráp        6\n",
       "PC Gaming                      3\n",
       "Name: count, dtype: int64"
      ]
     },
     "execution_count": 68,
     "metadata": {},
     "output_type": "execute_result"
    }
   ],
   "source": [
    "df6 = pc\n",
    "\n",
    "df6['Danh mục'] = df6['Danh mục'].replace(\n",
    "    {\n",
    "        'Máy Tính Bộ Thương Hiệu': 'Máy tính đồng bộ',\n",
    "        'Root': 'Máy tính đồng bộ',\n",
    "        'PC - Máy Tính Bộ': 'Máy tính đồng bộ',\n",
    "    }\n",
    ")\n",
    "\n",
    "df7 = df6.loc[df6['Danh mục'] == 'Laptop - Máy Vi Tính - Linh kiện']\n",
    "\n",
    "df7.loc[\n",
    "    df7['Tên sản phẩm'].str.contains('mini|siêu nhỏ'),\n",
    "    'Danh mục'\n",
    "] = 'Mini PC'\n",
    "\n",
    "df7['Danh mục'] = df7['Danh mục'].replace(\n",
    "    {\n",
    "        'Laptop - Máy Vi Tính - Linh kiện': 'Máy tính đồng bộ',\n",
    "    }\n",
    ")\n",
    "\n",
    "df6.drop(\n",
    "    df6[df6['Danh mục'] == 'Laptop - Máy Vi Tính - Linh kiện'].index,\n",
    "    inplace=True\n",
    ")\n",
    "\n",
    "df6 = pd.concat([df6, df7], ignore_index=True)\n",
    "df6['Danh mục'].value_counts()"
   ]
  },
  {
   "cell_type": "code",
   "execution_count": 69,
   "id": "3611a800",
   "metadata": {},
   "outputs": [],
   "source": [
    "pc = df6"
   ]
  },
  {
   "cell_type": "markdown",
   "id": "b279b0a8",
   "metadata": {},
   "source": [
    "#### mayanh.csv"
   ]
  },
  {
   "cell_type": "code",
   "execution_count": 70,
   "id": "9548c99b",
   "metadata": {},
   "outputs": [],
   "source": [
    "mayanh = pd.read_csv('./rawData/mayanh.csv', encoding='utf-8')"
   ]
  },
  {
   "cell_type": "markdown",
   "id": "957d86d9",
   "metadata": {},
   "source": [
    "Kiểm tra giá trị trùng lặp"
   ]
  },
  {
   "cell_type": "code",
   "execution_count": 71,
   "id": "9cf74699",
   "metadata": {},
   "outputs": [
    {
     "data": {
      "text/plain": [
       "np.int64(0)"
      ]
     },
     "execution_count": 71,
     "metadata": {},
     "output_type": "execute_result"
    }
   ],
   "source": [
    "mayanh.duplicated().sum()"
   ]
  },
  {
   "cell_type": "markdown",
   "id": "3131ac27",
   "metadata": {},
   "source": [
    "Kiểm tra giá trị thiếu"
   ]
  },
  {
   "cell_type": "code",
   "execution_count": 72,
   "id": "2090fb08",
   "metadata": {},
   "outputs": [
    {
     "data": {
      "text/plain": [
       "Id                   0\n",
       "Tên sản phẩm         0\n",
       "Thương hiệu          0\n",
       "Danh mục             0\n",
       "Thông số kỹ thuật    0\n",
       "Phiên bản            0\n",
       "Mô tả                0\n",
       "Hình ảnh             0\n",
       "dtype: int64"
      ]
     },
     "execution_count": 72,
     "metadata": {},
     "output_type": "execute_result"
    }
   ],
   "source": [
    "mayanh.isnull().sum()"
   ]
  },
  {
   "cell_type": "markdown",
   "id": "d2487079",
   "metadata": {},
   "source": [
    "Giữ nguyên danh mục như cũ."
   ]
  },
  {
   "cell_type": "markdown",
   "id": "ee044514",
   "metadata": {},
   "source": [
    "### Gộp thành 1 file products duy nhất"
   ]
  },
  {
   "cell_type": "code",
   "execution_count": 73,
   "id": "f567f763",
   "metadata": {},
   "outputs": [],
   "source": [
    "products = pd.concat(\n",
    "    [dienthoai, mayban, cucgach, dieuhoa, laptop, maydocsach, maygiat, maytinhbang, tivi, tulanh, camgiamsat, pc, mayanh],\n",
    "    ignore_index=True\n",
    ")"
   ]
  },
  {
   "cell_type": "code",
   "execution_count": 74,
   "id": "e60143a4",
   "metadata": {},
   "outputs": [],
   "source": [
    "category_rows = []\n",
    "\n",
    "for i, row in enumerate(products['Danh mục'].unique()):\n",
    "    category_rows.append({\n",
    "        'id': str(i).zfill(2),\n",
    "        'name': row,\n",
    "    })\n",
    "\n",
    "category_rows = pd.DataFrame(category_rows)\n",
    "\n",
    "category_rows.to_csv('./transformedData/category.csv', index=False, encoding='utf-8-sig')\n",
    "    \n",
    "    "
   ]
  },
  {
   "cell_type": "code",
   "execution_count": 75,
   "id": "5fa09422",
   "metadata": {},
   "outputs": [
    {
     "name": "stdout",
     "output_type": "stream",
     "text": [
      "0\n"
     ]
    },
    {
     "data": {
      "text/plain": [
       "2651"
      ]
     },
     "execution_count": 75,
     "metadata": {},
     "output_type": "execute_result"
    }
   ],
   "source": [
    "print(products.duplicated().sum())\n",
    "len(products)"
   ]
  },
  {
   "cell_type": "code",
   "execution_count": 76,
   "id": "f2814e73",
   "metadata": {},
   "outputs": [
    {
     "name": "stdout",
     "output_type": "stream",
     "text": [
      "17\n",
      "2634\n"
     ]
    }
   ],
   "source": [
    "print(products['Id'].duplicated().sum())\n",
    "products.drop_duplicates(subset=['Id'], inplace=True)\n",
    "print(len(products))"
   ]
  },
  {
   "cell_type": "code",
   "execution_count": 77,
   "id": "2c8ba803",
   "metadata": {},
   "outputs": [
    {
     "data": {
      "text/plain": [
       "Id                   0\n",
       "Tên sản phẩm         0\n",
       "Thương hiệu          0\n",
       "Danh mục             0\n",
       "Thông số kỹ thuật    0\n",
       "Phiên bản            0\n",
       "Mô tả                0\n",
       "Hình ảnh             0\n",
       "dtype: int64"
      ]
     },
     "execution_count": 77,
     "metadata": {},
     "output_type": "execute_result"
    }
   ],
   "source": [
    "products.isnull().sum()"
   ]
  },
  {
   "cell_type": "markdown",
   "id": "a23f08e8",
   "metadata": {},
   "source": [
    "Các cột hiện tại"
   ]
  },
  {
   "cell_type": "code",
   "execution_count": 78,
   "id": "5ee24a7e",
   "metadata": {},
   "outputs": [
    {
     "data": {
      "text/plain": [
       "Index(['Id', 'Tên sản phẩm', 'Thương hiệu', 'Danh mục', 'Thông số kỹ thuật',\n",
       "       'Phiên bản', 'Mô tả', 'Hình ảnh'],\n",
       "      dtype='object')"
      ]
     },
     "execution_count": 78,
     "metadata": {},
     "output_type": "execute_result"
    }
   ],
   "source": [
    "products.columns"
   ]
  },
  {
   "cell_type": "code",
   "execution_count": 79,
   "id": "0144024d",
   "metadata": {},
   "outputs": [],
   "source": [
    "# # create unique id for each product\n",
    "\n",
    "# products['ID'] = np.arange(1, len(products) + 1)\n",
    "# products['ID'] = products['ID'].astype(str).str.zfill(6)"
   ]
  },
  {
   "cell_type": "markdown",
   "id": "6fb70afc",
   "metadata": {},
   "source": [
    "Thực hiện:\n",
    "\n",
    "Xây dựng:\n",
    "\n",
    "• DF Product(id, categoryId, name, description, specification, imageURL, brand)\n",
    "\n",
    "• DF Attribute (id, name) (Với attribute là các thuộc tính phân biệt các biến thể)\n",
    "\n",
    "• DF Value_Attribute(id, attributeId, value) (Bảng chứa giá trị biến thể)\n",
    "\n",
    "• DF Product_Variant(id, productId, price, quantity, SKU)\n",
    "\n"
   ]
  },
  {
   "cell_type": "code",
   "execution_count": 80,
   "id": "703c61ba",
   "metadata": {},
   "outputs": [
    {
     "data": {
      "text/html": [
       "<div>\n",
       "<style scoped>\n",
       "    .dataframe tbody tr th:only-of-type {\n",
       "        vertical-align: middle;\n",
       "    }\n",
       "\n",
       "    .dataframe tbody tr th {\n",
       "        vertical-align: top;\n",
       "    }\n",
       "\n",
       "    .dataframe thead th {\n",
       "        text-align: right;\n",
       "    }\n",
       "</style>\n",
       "<table border=\"1\" class=\"dataframe\">\n",
       "  <thead>\n",
       "    <tr style=\"text-align: right;\">\n",
       "      <th></th>\n",
       "      <th>id</th>\n",
       "      <th>name</th>\n",
       "    </tr>\n",
       "  </thead>\n",
       "  <tbody>\n",
       "    <tr>\n",
       "      <th>0</th>\n",
       "      <td>0</td>\n",
       "      <td>Điện thoại Smartphone</td>\n",
       "    </tr>\n",
       "    <tr>\n",
       "      <th>1</th>\n",
       "      <td>1</td>\n",
       "      <td>Phụ kiện điện thoại</td>\n",
       "    </tr>\n",
       "    <tr>\n",
       "      <th>2</th>\n",
       "      <td>2</td>\n",
       "      <td>Điện thoại bàn</td>\n",
       "    </tr>\n",
       "    <tr>\n",
       "      <th>3</th>\n",
       "      <td>3</td>\n",
       "      <td>Điện thoại phổ thông</td>\n",
       "    </tr>\n",
       "    <tr>\n",
       "      <th>4</th>\n",
       "      <td>4</td>\n",
       "      <td>Máy lạnh treo tường</td>\n",
       "    </tr>\n",
       "    <tr>\n",
       "      <th>5</th>\n",
       "      <td>5</td>\n",
       "      <td>Máy lạnh tủ đứng</td>\n",
       "    </tr>\n",
       "    <tr>\n",
       "      <th>6</th>\n",
       "      <td>6</td>\n",
       "      <td>Máy lạnh - Máy điều hòa</td>\n",
       "    </tr>\n",
       "    <tr>\n",
       "      <th>7</th>\n",
       "      <td>7</td>\n",
       "      <td>Máy lạnh âm trần</td>\n",
       "    </tr>\n",
       "    <tr>\n",
       "      <th>8</th>\n",
       "      <td>8</td>\n",
       "      <td>Laptop Truyền Thống</td>\n",
       "    </tr>\n",
       "    <tr>\n",
       "      <th>9</th>\n",
       "      <td>9</td>\n",
       "      <td>Macbook</td>\n",
       "    </tr>\n",
       "    <tr>\n",
       "      <th>10</th>\n",
       "      <td>10</td>\n",
       "      <td>Laptop Gaming</td>\n",
       "    </tr>\n",
       "    <tr>\n",
       "      <th>11</th>\n",
       "      <td>11</td>\n",
       "      <td>Laptop 2 trong 1</td>\n",
       "    </tr>\n",
       "    <tr>\n",
       "      <th>12</th>\n",
       "      <td>12</td>\n",
       "      <td>Máy đọc sách</td>\n",
       "    </tr>\n",
       "    <tr>\n",
       "      <th>13</th>\n",
       "      <td>13</td>\n",
       "      <td>Máy tính bảng</td>\n",
       "    </tr>\n",
       "    <tr>\n",
       "      <th>14</th>\n",
       "      <td>14</td>\n",
       "      <td>Máy giặt cửa ngang</td>\n",
       "    </tr>\n",
       "    <tr>\n",
       "      <th>15</th>\n",
       "      <td>15</td>\n",
       "      <td>Máy giặt cửa trên</td>\n",
       "    </tr>\n",
       "    <tr>\n",
       "      <th>16</th>\n",
       "      <td>16</td>\n",
       "      <td>Máy giặt</td>\n",
       "    </tr>\n",
       "    <tr>\n",
       "      <th>17</th>\n",
       "      <td>17</td>\n",
       "      <td>Máy giặt mini</td>\n",
       "    </tr>\n",
       "    <tr>\n",
       "      <th>18</th>\n",
       "      <td>18</td>\n",
       "      <td>Tháp giặt sấy</td>\n",
       "    </tr>\n",
       "    <tr>\n",
       "      <th>19</th>\n",
       "      <td>19</td>\n",
       "      <td>Tivi 4K</td>\n",
       "    </tr>\n",
       "    <tr>\n",
       "      <th>20</th>\n",
       "      <td>20</td>\n",
       "      <td>Tivi thường (LED)</td>\n",
       "    </tr>\n",
       "    <tr>\n",
       "      <th>21</th>\n",
       "      <td>21</td>\n",
       "      <td>Tivi QLED</td>\n",
       "    </tr>\n",
       "    <tr>\n",
       "      <th>22</th>\n",
       "      <td>22</td>\n",
       "      <td>Smart Tivi - Android Tivi</td>\n",
       "    </tr>\n",
       "    <tr>\n",
       "      <th>23</th>\n",
       "      <td>23</td>\n",
       "      <td>Tivi OLED</td>\n",
       "    </tr>\n",
       "    <tr>\n",
       "      <th>24</th>\n",
       "      <td>24</td>\n",
       "      <td>Tivi cao cấp</td>\n",
       "    </tr>\n",
       "    <tr>\n",
       "      <th>25</th>\n",
       "      <td>25</td>\n",
       "      <td>Internet Tivi</td>\n",
       "    </tr>\n",
       "    <tr>\n",
       "      <th>26</th>\n",
       "      <td>26</td>\n",
       "      <td>Tủ lạnh nhiều cửa</td>\n",
       "    </tr>\n",
       "    <tr>\n",
       "      <th>27</th>\n",
       "      <td>27</td>\n",
       "      <td>Tủ lạnh mini</td>\n",
       "    </tr>\n",
       "    <tr>\n",
       "      <th>28</th>\n",
       "      <td>28</td>\n",
       "      <td>Tủ lạnh side by side</td>\n",
       "    </tr>\n",
       "    <tr>\n",
       "      <th>29</th>\n",
       "      <td>29</td>\n",
       "      <td>Tủ lạnh</td>\n",
       "    </tr>\n",
       "    <tr>\n",
       "      <th>30</th>\n",
       "      <td>30</td>\n",
       "      <td>Camera IP - Camera Wifi</td>\n",
       "    </tr>\n",
       "    <tr>\n",
       "      <th>31</th>\n",
       "      <td>31</td>\n",
       "      <td>Phụ Kiện Camera Giám Sát</td>\n",
       "    </tr>\n",
       "    <tr>\n",
       "      <th>32</th>\n",
       "      <td>32</td>\n",
       "      <td>Đầu Ghi Hình Camera</td>\n",
       "    </tr>\n",
       "    <tr>\n",
       "      <th>33</th>\n",
       "      <td>33</td>\n",
       "      <td>Hệ Thống Camera Giám Sát</td>\n",
       "    </tr>\n",
       "    <tr>\n",
       "      <th>34</th>\n",
       "      <td>34</td>\n",
       "      <td>Camera Quan Sát Analog</td>\n",
       "    </tr>\n",
       "    <tr>\n",
       "      <th>35</th>\n",
       "      <td>35</td>\n",
       "      <td>Mini PC</td>\n",
       "    </tr>\n",
       "    <tr>\n",
       "      <th>36</th>\n",
       "      <td>36</td>\n",
       "      <td>Máy tính đồng bộ</td>\n",
       "    </tr>\n",
       "    <tr>\n",
       "      <th>37</th>\n",
       "      <td>37</td>\n",
       "      <td>Máy Tính All in one</td>\n",
       "    </tr>\n",
       "    <tr>\n",
       "      <th>38</th>\n",
       "      <td>38</td>\n",
       "      <td>Máy Tính Để Bàn Lắp Ráp</td>\n",
       "    </tr>\n",
       "    <tr>\n",
       "      <th>39</th>\n",
       "      <td>39</td>\n",
       "      <td>PC Gaming</td>\n",
       "    </tr>\n",
       "    <tr>\n",
       "      <th>40</th>\n",
       "      <td>40</td>\n",
       "      <td>Towers - Máy Chủ - Server</td>\n",
       "    </tr>\n",
       "    <tr>\n",
       "      <th>41</th>\n",
       "      <td>41</td>\n",
       "      <td>Máy Chụp Ảnh Phim</td>\n",
       "    </tr>\n",
       "    <tr>\n",
       "      <th>42</th>\n",
       "      <td>42</td>\n",
       "      <td>Máy Ảnh Lấy Liền</td>\n",
       "    </tr>\n",
       "    <tr>\n",
       "      <th>43</th>\n",
       "      <td>43</td>\n",
       "      <td>Máy Ảnh - Máy Quay Phim</td>\n",
       "    </tr>\n",
       "    <tr>\n",
       "      <th>44</th>\n",
       "      <td>44</td>\n",
       "      <td>Máy Ảnh Compact - Máy Ảnh Du Lịch</td>\n",
       "    </tr>\n",
       "    <tr>\n",
       "      <th>45</th>\n",
       "      <td>45</td>\n",
       "      <td>Máy Ảnh Mirrorless</td>\n",
       "    </tr>\n",
       "  </tbody>\n",
       "</table>\n",
       "</div>"
      ],
      "text/plain": [
       "    id                               name\n",
       "0    0              Điện thoại Smartphone\n",
       "1    1                Phụ kiện điện thoại\n",
       "2    2                     Điện thoại bàn\n",
       "3    3               Điện thoại phổ thông\n",
       "4    4                Máy lạnh treo tường\n",
       "5    5                   Máy lạnh tủ đứng\n",
       "6    6            Máy lạnh - Máy điều hòa\n",
       "7    7                   Máy lạnh âm trần\n",
       "8    8                Laptop Truyền Thống\n",
       "9    9                            Macbook\n",
       "10  10                      Laptop Gaming\n",
       "11  11                   Laptop 2 trong 1\n",
       "12  12                       Máy đọc sách\n",
       "13  13                      Máy tính bảng\n",
       "14  14                 Máy giặt cửa ngang\n",
       "15  15                  Máy giặt cửa trên\n",
       "16  16                           Máy giặt\n",
       "17  17                      Máy giặt mini\n",
       "18  18                      Tháp giặt sấy\n",
       "19  19                            Tivi 4K\n",
       "20  20                  Tivi thường (LED)\n",
       "21  21                          Tivi QLED\n",
       "22  22          Smart Tivi - Android Tivi\n",
       "23  23                          Tivi OLED\n",
       "24  24                       Tivi cao cấp\n",
       "25  25                      Internet Tivi\n",
       "26  26                  Tủ lạnh nhiều cửa\n",
       "27  27                       Tủ lạnh mini\n",
       "28  28               Tủ lạnh side by side\n",
       "29  29                            Tủ lạnh\n",
       "30  30            Camera IP - Camera Wifi\n",
       "31  31           Phụ Kiện Camera Giám Sát\n",
       "32  32                Đầu Ghi Hình Camera\n",
       "33  33           Hệ Thống Camera Giám Sát\n",
       "34  34             Camera Quan Sát Analog\n",
       "35  35                            Mini PC\n",
       "36  36                   Máy tính đồng bộ\n",
       "37  37                Máy Tính All in one\n",
       "38  38            Máy Tính Để Bàn Lắp Ráp\n",
       "39  39                          PC Gaming\n",
       "40  40          Towers - Máy Chủ - Server\n",
       "41  41                  Máy Chụp Ảnh Phim\n",
       "42  42                   Máy Ảnh Lấy Liền\n",
       "43  43            Máy Ảnh - Máy Quay Phim\n",
       "44  44  Máy Ảnh Compact - Máy Ảnh Du Lịch\n",
       "45  45                 Máy Ảnh Mirrorless"
      ]
     },
     "execution_count": 80,
     "metadata": {},
     "output_type": "execute_result"
    }
   ],
   "source": [
    "categories = pd.read_csv('./transformedData/category.csv', encoding='utf-8')\n",
    "categories"
   ]
  },
  {
   "cell_type": "code",
   "execution_count": 81,
   "id": "a0670574",
   "metadata": {},
   "outputs": [
    {
     "data": {
      "text/plain": [
       "Index(['id', 'name'], dtype='object')"
      ]
     },
     "execution_count": 81,
     "metadata": {},
     "output_type": "execute_result"
    }
   ],
   "source": [
    "categories.columns"
   ]
  },
  {
   "cell_type": "code",
   "execution_count": 82,
   "id": "a3ce2b60",
   "metadata": {},
   "outputs": [
    {
     "name": "stdout",
     "output_type": "stream",
     "text": [
      "Index(['id', 'name'], dtype='object')\n"
     ]
    },
    {
     "data": {
      "text/plain": [
       "{'Điện thoại Smartphone': 0,\n",
       " 'Phụ kiện điện thoại': 1,\n",
       " 'Điện thoại bàn': 2,\n",
       " 'Điện thoại phổ thông': 3,\n",
       " 'Máy lạnh treo tường': 4,\n",
       " 'Máy lạnh tủ đứng': 5,\n",
       " 'Máy lạnh - Máy điều hòa': 6,\n",
       " 'Máy lạnh âm trần': 7,\n",
       " 'Laptop Truyền Thống': 8,\n",
       " 'Macbook': 9,\n",
       " 'Laptop Gaming': 10,\n",
       " 'Laptop 2 trong 1': 11,\n",
       " 'Máy đọc sách': 12,\n",
       " 'Máy tính bảng': 13,\n",
       " 'Máy giặt cửa ngang': 14,\n",
       " 'Máy giặt cửa trên': 15,\n",
       " 'Máy giặt': 16,\n",
       " 'Máy giặt mini': 17,\n",
       " 'Tháp giặt sấy': 18,\n",
       " 'Tivi 4K': 19,\n",
       " 'Tivi thường (LED)': 20,\n",
       " 'Tivi QLED': 21,\n",
       " 'Smart Tivi - Android Tivi': 22,\n",
       " 'Tivi OLED': 23,\n",
       " 'Tivi cao cấp': 24,\n",
       " 'Internet Tivi': 25,\n",
       " 'Tủ lạnh nhiều cửa': 26,\n",
       " 'Tủ lạnh mini': 27,\n",
       " 'Tủ lạnh side by side': 28,\n",
       " 'Tủ lạnh': 29,\n",
       " 'Camera IP - Camera Wifi': 30,\n",
       " 'Phụ Kiện Camera Giám Sát': 31,\n",
       " 'Đầu Ghi Hình Camera': 32,\n",
       " 'Hệ Thống Camera Giám Sát': 33,\n",
       " 'Camera Quan Sát Analog': 34,\n",
       " 'Mini PC': 35,\n",
       " 'Máy tính đồng bộ': 36,\n",
       " 'Máy Tính All in one': 37,\n",
       " 'Máy Tính Để Bàn Lắp Ráp': 38,\n",
       " 'PC Gaming': 39,\n",
       " 'Towers - Máy Chủ - Server': 40,\n",
       " 'Máy Chụp Ảnh Phim': 41,\n",
       " 'Máy Ảnh Lấy Liền': 42,\n",
       " 'Máy Ảnh - Máy Quay Phim': 43,\n",
       " 'Máy Ảnh Compact - Máy Ảnh Du Lịch': 44,\n",
       " 'Máy Ảnh Mirrorless': 45}"
      ]
     },
     "execution_count": 82,
     "metadata": {},
     "output_type": "execute_result"
    }
   ],
   "source": [
    "cat_dict = {}\n",
    "print(categories.columns)  # Check the column names in the DataFrame\n",
    "for index, row in categories.iterrows():\n",
    "        cat_dict[row['name']] = row['id']\n",
    "\n",
    "cat_dict\n"
   ]
  },
  {
   "cell_type": "markdown",
   "id": "f447e0ac",
   "metadata": {},
   "source": [
    "• DF Product(id, categoryId, name, description, specification, imageURL, brand)\n"
   ]
  },
  {
   "cell_type": "code",
   "execution_count": 83,
   "id": "88425aca",
   "metadata": {},
   "outputs": [
    {
     "data": {
      "text/html": [
       "<div>\n",
       "<style scoped>\n",
       "    .dataframe tbody tr th:only-of-type {\n",
       "        vertical-align: middle;\n",
       "    }\n",
       "\n",
       "    .dataframe tbody tr th {\n",
       "        vertical-align: top;\n",
       "    }\n",
       "\n",
       "    .dataframe thead th {\n",
       "        text-align: right;\n",
       "    }\n",
       "</style>\n",
       "<table border=\"1\" class=\"dataframe\">\n",
       "  <thead>\n",
       "    <tr style=\"text-align: right;\">\n",
       "      <th></th>\n",
       "      <th>id</th>\n",
       "      <th>categoryId</th>\n",
       "      <th>name</th>\n",
       "      <th>brand</th>\n",
       "      <th>description</th>\n",
       "      <th>specification</th>\n",
       "      <th>imageURL</th>\n",
       "    </tr>\n",
       "  </thead>\n",
       "  <tbody>\n",
       "    <tr>\n",
       "      <th>0</th>\n",
       "      <td>275618846</td>\n",
       "      <td>0</td>\n",
       "      <td>Điện thoại Samsung Galaxy A34 5G (8GB/256GB) -...</td>\n",
       "      <td>Samsung</td>\n",
       "      <td>Sở hữu những tính năng hàng đầu trong phân khú...</td>\n",
       "      <td>Dung lượng pin: 5000 mAh\\nBluetooth: v5.3\\nThư...</td>\n",
       "      <td>https://salt.tikicdn.com/ts/product/90/23/03/2...</td>\n",
       "    </tr>\n",
       "    <tr>\n",
       "      <th>1</th>\n",
       "      <td>273947792</td>\n",
       "      <td>0</td>\n",
       "      <td>Điện thoại AI Samsung Galaxy S24 Ultra, Camera...</td>\n",
       "      <td>Samsung</td>\n",
       "      <td>Điện thoại Samsung Galaxy S24 Ultra 5G- Hàng c...</td>\n",
       "      <td>Dung lượng pin: 5000 mAh\\nBluetooth: v5.3\\nThư...</td>\n",
       "      <td>https://salt.tikicdn.com/ts/product/c1/77/a8/e...</td>\n",
       "    </tr>\n",
       "    <tr>\n",
       "      <th>2</th>\n",
       "      <td>276250848</td>\n",
       "      <td>0</td>\n",
       "      <td>Điện Thoại Samsung Galaxy A06 (4GB/128GB) - Hà...</td>\n",
       "      <td>Samsung</td>\n",
       "      <td>Với thiết kế thanh lịch, công nghệ mạnh mẽ và ...</td>\n",
       "      <td>Dung lượng pin: 5000 mAh\\nBluetooth: v5.3\\nThư...</td>\n",
       "      <td>https://salt.tikicdn.com/ts/product/1d/fd/79/2...</td>\n",
       "    </tr>\n",
       "    <tr>\n",
       "      <th>3</th>\n",
       "      <td>275307093</td>\n",
       "      <td>0</td>\n",
       "      <td>Điện Thoại Samsung Galaxy A25 5G (6GB/128GB) -...</td>\n",
       "      <td>Samsung</td>\n",
       "      <td>Rực rỡ đáng kinh ngạc\\nRạng rỡ mọi sắc màu. Mà...</td>\n",
       "      <td>Thương hiệu: Samsung\\nXuất xứ thương hiệu: Hàn...</td>\n",
       "      <td>https://salt.tikicdn.com/ts/product/63/93/e5/6...</td>\n",
       "    </tr>\n",
       "    <tr>\n",
       "      <th>4</th>\n",
       "      <td>276614493</td>\n",
       "      <td>0</td>\n",
       "      <td>Điện Thoại Samsung Galaxy A16 LTE (4GB/128GB) ...</td>\n",
       "      <td>Samsung</td>\n",
       "      <td>Samsung Galaxy A16 4GB/128GB là chiếc smartpho...</td>\n",
       "      <td>Dung lượng pin: 5000 mAh\\nBluetooth: v5.3\\nThư...</td>\n",
       "      <td>https://salt.tikicdn.com/ts/product/02/59/95/3...</td>\n",
       "    </tr>\n",
       "  </tbody>\n",
       "</table>\n",
       "</div>"
      ],
      "text/plain": [
       "          id  categoryId                                               name  \\\n",
       "0  275618846           0  Điện thoại Samsung Galaxy A34 5G (8GB/256GB) -...   \n",
       "1  273947792           0  Điện thoại AI Samsung Galaxy S24 Ultra, Camera...   \n",
       "2  276250848           0  Điện Thoại Samsung Galaxy A06 (4GB/128GB) - Hà...   \n",
       "3  275307093           0  Điện Thoại Samsung Galaxy A25 5G (6GB/128GB) -...   \n",
       "4  276614493           0  Điện Thoại Samsung Galaxy A16 LTE (4GB/128GB) ...   \n",
       "\n",
       "     brand                                        description  \\\n",
       "0  Samsung  Sở hữu những tính năng hàng đầu trong phân khú...   \n",
       "1  Samsung  Điện thoại Samsung Galaxy S24 Ultra 5G- Hàng c...   \n",
       "2  Samsung  Với thiết kế thanh lịch, công nghệ mạnh mẽ và ...   \n",
       "3  Samsung  Rực rỡ đáng kinh ngạc\\nRạng rỡ mọi sắc màu. Mà...   \n",
       "4  Samsung  Samsung Galaxy A16 4GB/128GB là chiếc smartpho...   \n",
       "\n",
       "                                       specification  \\\n",
       "0  Dung lượng pin: 5000 mAh\\nBluetooth: v5.3\\nThư...   \n",
       "1  Dung lượng pin: 5000 mAh\\nBluetooth: v5.3\\nThư...   \n",
       "2  Dung lượng pin: 5000 mAh\\nBluetooth: v5.3\\nThư...   \n",
       "3  Thương hiệu: Samsung\\nXuất xứ thương hiệu: Hàn...   \n",
       "4  Dung lượng pin: 5000 mAh\\nBluetooth: v5.3\\nThư...   \n",
       "\n",
       "                                            imageURL  \n",
       "0  https://salt.tikicdn.com/ts/product/90/23/03/2...  \n",
       "1  https://salt.tikicdn.com/ts/product/c1/77/a8/e...  \n",
       "2  https://salt.tikicdn.com/ts/product/1d/fd/79/2...  \n",
       "3  https://salt.tikicdn.com/ts/product/63/93/e5/6...  \n",
       "4  https://salt.tikicdn.com/ts/product/02/59/95/3...  "
      ]
     },
     "execution_count": 83,
     "metadata": {},
     "output_type": "execute_result"
    }
   ],
   "source": [
    "Product = products.rename(columns={\n",
    "    'Id': 'id',\n",
    "    'Tên sản phẩm': 'name',\n",
    "    'Thương hiệu': 'brand',\n",
    "    'Mô tả': 'description',\n",
    "    'Thông số kỹ thuật': 'specification',\n",
    "    'Hình ảnh': 'imageURL',\n",
    "})\n",
    "\n",
    "Product['categoryId'] = Product['Danh mục'].map(cat_dict)\n",
    "\n",
    "Product = Product[['id', 'categoryId', 'name', 'brand', 'description', 'specification', 'imageURL']]\n",
    "\n",
    "\n",
    "Product.head()\n"
   ]
  },
  {
   "cell_type": "markdown",
   "id": "580e8578",
   "metadata": {},
   "source": [
    "• DF Attribute (id, name) (Với attribute là các thuộc tính phân biệt các biến thể)\n"
   ]
  },
  {
   "cell_type": "markdown",
   "id": "6a0b458c",
   "metadata": {},
   "source": [
    "Điện thoại: Màu, Dung lượng\n",
    "\n",
    "Camera giám sát: \n",
    "- Model (model, model camera, lựa chọn mẫu),\n",
    "- Độ phân giải (độ phân giải)\n",
    "- Màu (Color)\n",
    "- Lựa chọn (Loại, lựa chọn, camera, loại camera, memory, tùy chọn, mẫu)\n",
    "\n",
    "Điện thoại bàn: Màu\n",
    "\n",
    "Điện thoại phổ thông: Màu\n",
    "\n",
    "Điều hòa: Công suất (Phân loại công suất, công suất làm lạnh, công suất lạnh), Bảo hành (Bảo hành 2 năm, bảo hành toàn quốc)\n",
    "\n",
    "Laptop: Dung lượng, Màu, Chip, Hệ điều hành, Màn (Loại màn)\n",
    "\n",
    "Máy ảnh: Màu, Lựa chọn\n",
    "\n",
    "Máy đọc sách: Màu (+ Màu bao da), Dung lượng, Bút đi kèm (loại bút đi kèm), Lựa chọn\n",
    "\n",
    "Máy giặt: Màu\n",
    "\n",
    "Máy tính bảng: Màu, Dung lượng, Lựa chọn\n",
    "\n",
    "Máy tính để bàn: Dung lượng, Cấu hình, Lựa chọn\n",
    "\n",
    "Tivi: Kích cỡ (Kích cỡ màn hình), Lựa chọn\n",
    "\n",
    "Tủ lạnh: Màu, Lựa chọn"
   ]
  },
  {
   "cell_type": "code",
   "execution_count": 84,
   "id": "14f749d3",
   "metadata": {},
   "outputs": [],
   "source": [
    "def toPascalCase(x: str):\n",
    "    return ' '.join(word.capitalize() for word in x.lower().split())\n",
    "\n",
    "def rename_attribute(pre_attribute: str, value: str):\n",
    "    \n",
    "    attribute = pre_attribute.lower()\n",
    "    value = value.lower()\n",
    "\n",
    "    if any(attr in attribute for attr in ['màu', 'colour', 'color']) and all(not char.isdigit() for char in value):\n",
    "        attribute = 'Màu'\n",
    "    elif any(attr in attribute for attr in ['dung lượng', 'ram', 'memory', 'storage']):\n",
    "        attribute = 'Dung lượng'\n",
    "    elif any(attr in attribute for attr in ['model', 'model camera', 'lựa chọn mẫu', 'mẫu']):\n",
    "        attribute = 'Model'\n",
    "    elif any(attr in attribute for attr in ['độ phân giải', 'phân giải', 'resolution']):\n",
    "        attribute = 'Độ phân giải'\n",
    "    elif any(attr in attribute for attr in ['công suất', 'power']):\n",
    "        attribute = 'Công suất'\n",
    "    elif any(attr in attribute for attr in ['bảo hành', 'warranty']):\n",
    "        attribute = 'Bảo hành'\n",
    "    elif any(attr in attribute for attr in ['chip', 'cpu', 'vi xử lý', 'processor']):\n",
    "        attribute = 'Chip'\n",
    "    elif any(attr in attribute for attr in ['hệ điều hành', 'os', 'operating system', 'win']):\n",
    "        attribute = 'Hệ điều hành'\n",
    "    elif any(attr in attribute for attr in ['màn', 'display', 'screen']):\n",
    "        attribute = 'Màn hình'\n",
    "    elif any(attr in attribute for attr in ['bút', 'pen']):\n",
    "        attribute = 'Bút đi kèm'\n",
    "\n",
    "    else:\n",
    "        attribute = 'Lựa chọn'\n",
    "\n",
    "    return attribute"
   ]
  },
  {
   "cell_type": "code",
   "execution_count": 85,
   "id": "97393c45",
   "metadata": {},
   "outputs": [],
   "source": [
    "def extract_options(versions: str):\n",
    "    if '=' not in versions:\n",
    "        return [{\n",
    "            'attrs': ['Other'],\n",
    "            'values': ['1 giá'],\n",
    "            'price': int(versions.split()[0].strip())\n",
    "        }]\n",
    "    \n",
    "    options = []\n",
    "\n",
    "    lines = versions.split('\\n')\n",
    "    for line in lines:\n",
    "        current = line.split('=')\n",
    "        price = int(current[-1].strip().split()[0].strip())\n",
    "        \n",
    "        option = {\n",
    "            'attrs': [],\n",
    "            'values': [],\n",
    "            'price': price\n",
    "        }\n",
    "        \n",
    "        current_attributes = current[0].strip()\n",
    "        split_current_attribute = current_attributes.split('$$')\n",
    "        for attribute_value in split_current_attribute:\n",
    "            attribute = attribute_value.split(':')[0].strip().lower()\n",
    "            value = attribute_value.split(':')[1].strip()\n",
    "\n",
    "            value = toPascalCase(value)\n",
    "\n",
    "            attribute = rename_attribute(attribute, value)\n",
    "\n",
    "            option['attrs'].append(attribute)\n",
    "            option['values'].append(value)\n",
    "        \n",
    "        options.append(option)\n",
    "\n",
    "    return options\n",
    "\n"
   ]
  },
  {
   "cell_type": "code",
   "execution_count": 86,
   "id": "be2d6fef",
   "metadata": {},
   "outputs": [],
   "source": [
    "def extract_attributes(dataframe: pd.DataFrame):\n",
    "    res = {}\n",
    "\n",
    "    for _, row in dataframe[['Id', 'Phiên bản']].iterrows():\n",
    "        versions = str(row['Phiên bản'])\n",
    "\n",
    "        options = extract_options(versions)\n",
    "\n",
    "        for option in options:\n",
    "            for (attr, value) in zip(option['attrs'], option['values']):\n",
    "                if attr not in res:\n",
    "                    res[attr] = set()\n",
    "                res[attr].add(value)\n",
    "\n",
    "    return res"
   ]
  },
  {
   "cell_type": "code",
   "execution_count": 87,
   "id": "00c9e0ac",
   "metadata": {},
   "outputs": [],
   "source": [
    "attributes = extract_attributes(products)\n",
    "\n",
    "sorted_attributes = sorted(attributes.items(), key=lambda kv: (kv[0], kv[1]))\n",
    "sorted_attributes = {k: v for k, v in sorted_attributes}  \n",
    "\n",
    "att_dict = {}\n",
    "\n",
    "attribute_df = pd.DataFrame(columns=['id', 'name'])\n",
    "\n",
    "for i, key in enumerate(sorted_attributes.keys()):\n",
    "    row = {'id': str(i).zfill(6), 'name': key}\n",
    "    att_dict[key] = str(i).zfill(6)\n",
    "    attribute_df = pd.concat([attribute_df, pd.DataFrame([row])], ignore_index=True)\n",
    "\n",
    "\n",
    "attribute_df.to_csv('./transformedData/attribute.csv', index=False, encoding='utf-8-sig')"
   ]
  },
  {
   "cell_type": "code",
   "execution_count": 88,
   "id": "0023b7a8",
   "metadata": {},
   "outputs": [],
   "source": [
    "attribute_value = pd.DataFrame(columns=['id', 'attribute_id', 'value'])\n",
    "\n",
    "att_val_dict = {}\n",
    "\n",
    "att_val_id_counter = 0\n",
    "\n",
    "for i, (key, value) in enumerate(sorted_attributes.items()):\n",
    "    for v in value:\n",
    "        row = {\n",
    "            'id': str(att_val_id_counter).zfill(6),\n",
    "            'attribute_id': str(i).zfill(6),\n",
    "            'value': v\n",
    "        }\n",
    "        att_val_dict[v] = str(att_val_id_counter).zfill(6)\n",
    "\n",
    "        attribute_value = pd.concat([attribute_value, pd.DataFrame([row])], ignore_index=True)\n",
    "\n",
    "        att_val_id_counter += 1\n",
    "\n",
    "attribute_value.to_csv('./transformedData/attribute_value.csv', index=False, encoding='utf-8-sig')\n"
   ]
  },
  {
   "cell_type": "code",
   "execution_count": 89,
   "id": "cfd205a9",
   "metadata": {},
   "outputs": [
    {
     "data": {
      "text/html": [
       "<div>\n",
       "<style scoped>\n",
       "    .dataframe tbody tr th:only-of-type {\n",
       "        vertical-align: middle;\n",
       "    }\n",
       "\n",
       "    .dataframe tbody tr th {\n",
       "        vertical-align: top;\n",
       "    }\n",
       "\n",
       "    .dataframe thead th {\n",
       "        text-align: right;\n",
       "    }\n",
       "</style>\n",
       "<table border=\"1\" class=\"dataframe\">\n",
       "  <thead>\n",
       "    <tr style=\"text-align: right;\">\n",
       "      <th></th>\n",
       "      <th>id</th>\n",
       "      <th>attribute_id</th>\n",
       "      <th>value</th>\n",
       "    </tr>\n",
       "  </thead>\n",
       "  <tbody>\n",
       "    <tr>\n",
       "      <th>0</th>\n",
       "      <td>000000</td>\n",
       "      <td>000000</td>\n",
       "      <td>Combo Premium Pen + Cover Fabric Chính Hãng</td>\n",
       "    </tr>\n",
       "    <tr>\n",
       "      <th>1</th>\n",
       "      <td>000001</td>\n",
       "      <td>000000</td>\n",
       "      <td>Premium Pen</td>\n",
       "    </tr>\n",
       "    <tr>\n",
       "      <th>2</th>\n",
       "      <td>000002</td>\n",
       "      <td>000000</td>\n",
       "      <td>Basic Pen</td>\n",
       "    </tr>\n",
       "    <tr>\n",
       "      <th>3</th>\n",
       "      <td>000003</td>\n",
       "      <td>000001</td>\n",
       "      <td>Mpac12 Cánh Mở</td>\n",
       "    </tr>\n",
       "    <tr>\n",
       "      <th>4</th>\n",
       "      <td>000004</td>\n",
       "      <td>000001</td>\n",
       "      <td>12 Thàng</td>\n",
       "    </tr>\n",
       "    <tr>\n",
       "      <th>...</th>\n",
       "      <td>...</td>\n",
       "      <td>...</td>\n",
       "      <td>...</td>\n",
       "    </tr>\n",
       "    <tr>\n",
       "      <th>710</th>\n",
       "      <td>000710</td>\n",
       "      <td>000011</td>\n",
       "      <td>3k - 5mp Sắc Nét</td>\n",
       "    </tr>\n",
       "    <tr>\n",
       "      <th>711</th>\n",
       "      <td>000711</td>\n",
       "      <td>000011</td>\n",
       "      <td>S2xp 6mp</td>\n",
       "    </tr>\n",
       "    <tr>\n",
       "      <th>712</th>\n",
       "      <td>000712</td>\n",
       "      <td>000011</td>\n",
       "      <td>2.0mp</td>\n",
       "    </tr>\n",
       "    <tr>\n",
       "      <th>713</th>\n",
       "      <td>000713</td>\n",
       "      <td>000011</td>\n",
       "      <td>2mp/1080p</td>\n",
       "    </tr>\n",
       "    <tr>\n",
       "      <th>714</th>\n",
       "      <td>000714</td>\n",
       "      <td>000011</td>\n",
       "      <td>2k - 3mp</td>\n",
       "    </tr>\n",
       "  </tbody>\n",
       "</table>\n",
       "<p>715 rows × 3 columns</p>\n",
       "</div>"
      ],
      "text/plain": [
       "         id attribute_id                                        value\n",
       "0    000000       000000  Combo Premium Pen + Cover Fabric Chính Hãng\n",
       "1    000001       000000                                  Premium Pen\n",
       "2    000002       000000                                    Basic Pen\n",
       "3    000003       000001                               Mpac12 Cánh Mở\n",
       "4    000004       000001                                     12 Thàng\n",
       "..      ...          ...                                          ...\n",
       "710  000710       000011                             3k - 5mp Sắc Nét\n",
       "711  000711       000011                                     S2xp 6mp\n",
       "712  000712       000011                                        2.0mp\n",
       "713  000713       000011                                    2mp/1080p\n",
       "714  000714       000011                                     2k - 3mp\n",
       "\n",
       "[715 rows x 3 columns]"
      ]
     },
     "execution_count": 89,
     "metadata": {},
     "output_type": "execute_result"
    }
   ],
   "source": [
    "attribute_value"
   ]
  },
  {
   "cell_type": "code",
   "execution_count": 90,
   "id": "08931d3b",
   "metadata": {},
   "outputs": [],
   "source": [
    "import re\n",
    "\n",
    "def normalize_viet_name(name):\n",
    "    vietnamese_chars = {\n",
    "        'à': 'a', 'á': 'a', 'ả': 'a', 'ã': 'a', 'ạ': 'a',\n",
    "        'ă': 'a', 'ằ': 'a', 'ắ': 'a', 'ẳ': 'a', 'ẵ': 'a', 'ặ': 'a',\n",
    "        'â': 'a', 'ầ': 'a', 'ấ': 'a', 'ẩ': 'a', 'ẫ': 'a', 'ậ': 'a',\n",
    "        'đ': 'd',\n",
    "        'è': 'e', 'é': 'e', 'ẻ': 'e', 'ẽ': 'e', 'ẹ': 'e',\n",
    "        'ê': 'e', 'ề': 'e', 'ế': 'e', 'ể': 'e', 'ễ': 'e', 'ệ': 'e',\n",
    "        'ì': 'i', 'í': 'i', 'ỉ': 'i', 'ĩ': 'i', 'ị': 'i',\n",
    "        'ò': 'o', 'ó': 'o', 'ỏ': 'o', 'õ': 'o', 'ọ': 'o',\n",
    "        'ô': 'o', 'ồ': 'o', 'ố': 'o', 'ổ': 'o', 'ỗ': 'o', 'ộ': 'o',\n",
    "        'ơ': 'o', 'ờ': 'o', 'ớ': 'o', 'ở': 'o', 'ỡ': 'o', 'ợ': 'o',\n",
    "        'ù': 'u', 'ú': 'u', 'ủ': 'u', 'ũ': 'u', 'ụ': 'u',\n",
    "        'ư': 'u', 'ừ': 'u', 'ứ': 'u', 'ử': 'u', 'ữ': 'u', 'ự': 'u',\n",
    "        'ỳ': 'y', 'ý': 'y', 'ỷ': 'y', 'ỹ': 'y', 'ỵ': 'y'\n",
    "    }\n",
    "\n",
    "    name = name.lower()\n",
    "    for vn_char, latin_char in vietnamese_chars.items():\n",
    "        name = name.replace(vn_char, latin_char)\n",
    "\n",
    "    name = re.sub(r'[^a-z ]','', name)\n",
    "\n",
    "    return name\n",
    "\n",
    "def create_sku(brand, category, variant_id):\n",
    "    brand = normalize_viet_name(brand)\n",
    "    category = normalize_viet_name(category)\n",
    "\n",
    "    return f'{brand[:2].upper()}-{''.join(map(lambda x: x[0].upper(), category.split()))}-{variant_id}'"
   ]
  },
  {
   "cell_type": "code",
   "execution_count": 91,
   "id": "abd1ec4b",
   "metadata": {},
   "outputs": [],
   "source": [
    "def create_cost_price(price):\n",
    "    mean = 0.8\n",
    "    std_dev = 0.05\n",
    "\n",
    "    original_price = price * random.gauss(mean, std_dev)\n",
    "    original_price = max(original_price, price * 0.5)\n",
    "\n",
    "    return round(original_price)"
   ]
  },
  {
   "cell_type": "code",
   "execution_count": 92,
   "id": "18377ae2",
   "metadata": {},
   "outputs": [],
   "source": [
    "option_to_variant = {}\n",
    "old_product_id_to_new_product_id = {}"
   ]
  },
  {
   "cell_type": "code",
   "execution_count": 93,
   "id": "8f6da908",
   "metadata": {},
   "outputs": [],
   "source": [
    "product_rows = []\n",
    "product_variant_rows = []\n",
    "attribute_variant_rows = []\n",
    "\n",
    "variant_id_counter = 0\n",
    "\n",
    "for i, row in products.iterrows():\n",
    "    versions = str(row['Phiên bản'])\n",
    "\n",
    "    options = extract_options(versions)\n",
    "\n",
    "    product_id = str(i).zfill(6)\n",
    "\n",
    "    product_row = {\n",
    "        'id': product_id,\n",
    "        'category_id': cat_dict[row['Danh mục']],\n",
    "        'name': row['Tên sản phẩm'],\n",
    "        'description': row['Mô tả'],\n",
    "        'specification': row['Thông số kỹ thuật'],\n",
    "        'image_url': row['Hình ảnh'],\n",
    "        'brand': row['Thương hiệu']\n",
    "    }\n",
    "\n",
    "    product_rows.append(product_row)\n",
    "\n",
    "    for option in options:\n",
    "        \n",
    "        stock_quantity = random.randint(0, 120)\n",
    "\n",
    "        variant_id = str(variant_id_counter).zfill(6)\n",
    "        \n",
    "        price = option['price']\n",
    "\n",
    "        original_price = create_cost_price(option['price'])\n",
    "\n",
    "        profit = option['price'] - original_price\n",
    "\n",
    "        sku = create_sku(row['Thương hiệu'], row['Danh mục'], variant_id)\n",
    "\n",
    "        sold_quantity = random.randint(0, 100)\n",
    "\n",
    "        product_variant_row = {\n",
    "                'id': variant_id,\n",
    "                'product_id': product_id,\n",
    "                'price': price,\n",
    "                'original_price': original_price,\n",
    "                'profit': profit,\n",
    "                'sku': sku,\n",
    "                'stock_quantity': stock_quantity,\n",
    "                'sold_quantity': sold_quantity\n",
    "        }\n",
    "\n",
    "        product_variant_rows.append(product_variant_row)\n",
    "\n",
    "        for (attr, val) in zip(option['attrs'], option['values']):\n",
    "\n",
    "            attribute_variant_row = {\n",
    "                'attribute_value_id': att_val_dict[val],\n",
    "                'attribute_id': att_dict[attr],\n",
    "                'product_variant_id': variant_id\n",
    "            }\n",
    "\n",
    "            attribute_variant_rows.append(attribute_variant_row)\n",
    "\n",
    "        key = (\n",
    "            str(row['Id']),\n",
    "            tuple(sorted(zip(option['attrs'], option['values'])))\n",
    "        )\n",
    "\n",
    "        option_to_variant[key] = variant_id_counter\n",
    "        old_product_id_to_new_product_id[str(row['Id'])] = product_id\n",
    "\n",
    "        variant_id_counter += 1\n",
    "\n",
    "product_df = pd.DataFrame(product_rows)\n",
    "product_variant = pd.DataFrame(product_variant_rows)\n",
    "attribute_variant = pd.DataFrame(attribute_variant_rows)"
   ]
  },
  {
   "cell_type": "code",
   "execution_count": 94,
   "id": "2117eb3b",
   "metadata": {},
   "outputs": [],
   "source": [
    "product_df.to_csv('./transformedData/product.csv', index=False, encoding='utf-8-sig')\n",
    "product_variant.to_csv('./transformedData/product_variant.csv', index=False, encoding='utf-8-sig')\n",
    "attribute_variant.to_csv('./transformedData/attribute_variant.csv', index=False, encoding='utf-8-sig')"
   ]
  },
  {
   "cell_type": "markdown",
   "id": "7ec9697a",
   "metadata": {},
   "source": [
    "### Xử lý feedback"
   ]
  },
  {
   "cell_type": "code",
   "execution_count": 95,
   "id": "1c9f4125",
   "metadata": {},
   "outputs": [],
   "source": [
    "def something(df: pd.DataFrame):\n",
    "    print('Number of Na')\n",
    "    print(df.isnull().sum())\n",
    "    print('Previous number of rows')\n",
    "    print(len(df))\n",
    "    print('Number of duplicates')\n",
    "    print(df.duplicated().sum())\n",
    "    if df.duplicated().sum() > 0:\n",
    "        df.drop_duplicates(inplace=True) \n",
    "        print('After removing duplicates')\n",
    "        print(len(df))\n"
   ]
  },
  {
   "cell_type": "code",
   "execution_count": 96,
   "id": "2b3397f5",
   "metadata": {},
   "outputs": [
    {
     "name": "stdout",
     "output_type": "stream",
     "text": [
      "Number of Na\n",
      "feedback_id      0\n",
      "product_id       0\n",
      "customer_id      0\n",
      "rating           0\n",
      "content        102\n",
      "time             0\n",
      "variant        257\n",
      "image_url      218\n",
      "dtype: int64\n",
      "Previous number of rows\n",
      "414\n",
      "Number of duplicates\n",
      "45\n",
      "After removing duplicates\n",
      "369\n"
     ]
    }
   ],
   "source": [
    "camera_fb = pd.read_csv('./feedback/camera_fb.csv', encoding='utf-8')\n",
    "something(camera_fb)\n"
   ]
  },
  {
   "cell_type": "code",
   "execution_count": 97,
   "id": "8061be25",
   "metadata": {},
   "outputs": [
    {
     "name": "stdout",
     "output_type": "stream",
     "text": [
      "Number of Na\n",
      "feedback_id      0\n",
      "product_id       0\n",
      "customer_id      0\n",
      "rating           0\n",
      "content        290\n",
      "time             8\n",
      "variant         49\n",
      "image_url      420\n",
      "dtype: int64\n",
      "Previous number of rows\n",
      "597\n",
      "Number of duplicates\n",
      "182\n",
      "After removing duplicates\n",
      "415\n"
     ]
    }
   ],
   "source": [
    "dienthoai_fb = pd.read_csv('./feedback/dienthoai_fb.csv', encoding='utf-8')\n",
    "something(dienthoai_fb)"
   ]
  },
  {
   "cell_type": "code",
   "execution_count": 98,
   "id": "94a3fc72",
   "metadata": {},
   "outputs": [
    {
     "name": "stdout",
     "output_type": "stream",
     "text": [
      "Number of Na\n",
      "feedback_id     0\n",
      "product_id      0\n",
      "customer_id     0\n",
      "rating          0\n",
      "content         3\n",
      "time            0\n",
      "variant         0\n",
      "image_url      15\n",
      "dtype: int64\n",
      "Previous number of rows\n",
      "23\n",
      "Number of duplicates\n",
      "0\n"
     ]
    }
   ],
   "source": [
    "dienthoaiban_fb = pd.read_csv('./feedback/dienthoaiban_fb.csv', encoding='utf-8')\n",
    "something(dienthoaiban_fb)\n"
   ]
  },
  {
   "cell_type": "code",
   "execution_count": 99,
   "id": "9932ae4b",
   "metadata": {},
   "outputs": [
    {
     "name": "stdout",
     "output_type": "stream",
     "text": [
      "Number of Na\n",
      "feedback_id     0\n",
      "product_id      0\n",
      "customer_id     0\n",
      "rating          0\n",
      "content         8\n",
      "time            0\n",
      "variant         0\n",
      "image_url      10\n",
      "dtype: int64\n",
      "Previous number of rows\n",
      "14\n",
      "Number of duplicates\n",
      "0\n"
     ]
    }
   ],
   "source": [
    "dienthoaiphothong_fb = pd.read_csv('./feedback/dienthoaiphothong_fb.csv', encoding='utf-8')\n",
    "something(dienthoaiphothong_fb)"
   ]
  },
  {
   "cell_type": "code",
   "execution_count": 100,
   "id": "19a84734",
   "metadata": {},
   "outputs": [
    {
     "name": "stdout",
     "output_type": "stream",
     "text": [
      "Number of Na\n",
      "feedback_id      0\n",
      "product_id       0\n",
      "customer_id      0\n",
      "rating           0\n",
      "content         73\n",
      "time             9\n",
      "variant        204\n",
      "image_url      137\n",
      "dtype: int64\n",
      "Previous number of rows\n",
      "204\n",
      "Number of duplicates\n",
      "0\n"
     ]
    }
   ],
   "source": [
    "dieuhoa_fb = pd.read_csv('./feedback/dieuhoa_fb.csv', encoding='utf-8')\n",
    "something(dieuhoa_fb)"
   ]
  },
  {
   "cell_type": "code",
   "execution_count": 101,
   "id": "8684abfd",
   "metadata": {},
   "outputs": [
    {
     "name": "stdout",
     "output_type": "stream",
     "text": [
      "Number of Na\n",
      "feedback_id     0\n",
      "product_id      0\n",
      "customer_id     0\n",
      "rating          0\n",
      "content        11\n",
      "time            0\n",
      "variant        21\n",
      "image_url      16\n",
      "dtype: int64\n",
      "Previous number of rows\n",
      "52\n",
      "Number of duplicates\n",
      "0\n"
     ]
    }
   ],
   "source": [
    "laptop_fb = pd.read_csv('./feedback/laptop_fb.csv', encoding='utf-8')\n",
    "something(laptop_fb)\n"
   ]
  },
  {
   "cell_type": "code",
   "execution_count": 102,
   "id": "24d733fe",
   "metadata": {},
   "outputs": [
    {
     "name": "stdout",
     "output_type": "stream",
     "text": [
      "Number of Na\n",
      "feedback_id    0\n",
      "product_id     0\n",
      "customer_id    0\n",
      "rating         0\n",
      "content        1\n",
      "time           0\n",
      "variant        2\n",
      "image_url      2\n",
      "dtype: int64\n",
      "Previous number of rows\n",
      "2\n",
      "Number of duplicates\n",
      "0\n"
     ]
    }
   ],
   "source": [
    "mayanh_fb = pd.read_csv('./feedback/mayanh_fb.csv', encoding='utf-8')\n",
    "something(mayanh_fb)"
   ]
  },
  {
   "cell_type": "code",
   "execution_count": 103,
   "id": "b5da37d5",
   "metadata": {},
   "outputs": [
    {
     "name": "stdout",
     "output_type": "stream",
     "text": [
      "Number of Na\n",
      "feedback_id     0\n",
      "product_id      0\n",
      "customer_id     0\n",
      "rating          0\n",
      "content        35\n",
      "time            1\n",
      "variant        64\n",
      "image_url      46\n",
      "dtype: int64\n",
      "Previous number of rows\n",
      "112\n",
      "Number of duplicates\n",
      "15\n",
      "After removing duplicates\n",
      "97\n"
     ]
    }
   ],
   "source": [
    "maydocsach_fb = pd.read_csv('./feedback/maydocsach_fb.csv', encoding='utf-8')\n",
    "something(maydocsach_fb)"
   ]
  },
  {
   "cell_type": "code",
   "execution_count": 104,
   "id": "2617fb10",
   "metadata": {},
   "outputs": [
    {
     "name": "stdout",
     "output_type": "stream",
     "text": [
      "Number of Na\n",
      "feedback_id      0\n",
      "product_id       0\n",
      "customer_id      0\n",
      "rating           0\n",
      "content         32\n",
      "time             3\n",
      "variant        107\n",
      "image_url       62\n",
      "dtype: int64\n",
      "Previous number of rows\n",
      "107\n",
      "Number of duplicates\n",
      "0\n"
     ]
    }
   ],
   "source": [
    "maygiat_fb = pd.read_csv('./feedback/maygiat_fb.csv', encoding='utf-8')\n",
    "something(maygiat_fb)"
   ]
  },
  {
   "cell_type": "code",
   "execution_count": 105,
   "id": "cac00f41",
   "metadata": {},
   "outputs": [
    {
     "name": "stdout",
     "output_type": "stream",
     "text": [
      "Number of Na\n",
      "feedback_id     0\n",
      "product_id      0\n",
      "customer_id     0\n",
      "rating          0\n",
      "content         0\n",
      "time            0\n",
      "variant         0\n",
      "image_url      29\n",
      "dtype: int64\n",
      "Previous number of rows\n",
      "90\n",
      "Number of duplicates\n",
      "30\n",
      "After removing duplicates\n",
      "60\n"
     ]
    }
   ],
   "source": [
    "maytinhbang_fb = pd.read_csv('./feedback/maytinhbang_fb.csv', encoding='utf-8')\n",
    "something(maytinhbang_fb)"
   ]
  },
  {
   "cell_type": "code",
   "execution_count": 106,
   "id": "b37890e9",
   "metadata": {},
   "outputs": [
    {
     "name": "stdout",
     "output_type": "stream",
     "text": [
      "Number of Na\n",
      "feedback_id      0\n",
      "product_id       0\n",
      "customer_id      0\n",
      "rating           0\n",
      "content         72\n",
      "time             8\n",
      "variant        283\n",
      "image_url      158\n",
      "dtype: int64\n",
      "Previous number of rows\n",
      "283\n",
      "Number of duplicates\n",
      "0\n"
     ]
    }
   ],
   "source": [
    "tivi_fb = pd.read_csv('./feedback/tivi_fb.csv', encoding='utf-8')\n",
    "something(tivi_fb)"
   ]
  },
  {
   "cell_type": "code",
   "execution_count": 107,
   "id": "36a276b7",
   "metadata": {},
   "outputs": [
    {
     "name": "stdout",
     "output_type": "stream",
     "text": [
      "Number of Na\n",
      "feedback_id      0\n",
      "product_id       0\n",
      "customer_id      0\n",
      "rating           0\n",
      "content         84\n",
      "time             3\n",
      "variant        306\n",
      "image_url      168\n",
      "dtype: int64\n",
      "Previous number of rows\n",
      "308\n",
      "Number of duplicates\n",
      "0\n"
     ]
    }
   ],
   "source": [
    "tulanh_fb = pd.read_csv('./feedback/tulanh_fb.csv', encoding='utf-8')\n",
    "something(tulanh_fb)"
   ]
  },
  {
   "cell_type": "code",
   "execution_count": 108,
   "id": "115dee6d",
   "metadata": {},
   "outputs": [
    {
     "data": {
      "text/plain": [
       "'feedback_id,product_id,customer_id,rating,content,time,variant,image_url'"
      ]
     },
     "execution_count": 108,
     "metadata": {},
     "output_type": "execute_result"
    }
   ],
   "source": [
    "','.join(dienthoai_fb.columns)"
   ]
  },
  {
   "cell_type": "code",
   "execution_count": 109,
   "id": "7792a08f",
   "metadata": {},
   "outputs": [
    {
     "name": "stdout",
     "output_type": "stream",
     "text": [
      "Number of Na\n",
      "feedback_id    0\n",
      "product_id     0\n",
      "customer_id    0\n",
      "rating         0\n",
      "content        0\n",
      "time           0\n",
      "variant        0\n",
      "image_url      0\n",
      "dtype: int64\n",
      "Previous number of rows\n",
      "0\n",
      "Number of duplicates\n",
      "0\n"
     ]
    }
   ],
   "source": [
    "maytinhdeban_fb = pd.read_csv('./feedback/maytinhdeban_fb.csv', encoding='utf-8')\n",
    "something(maytinhdeban_fb)"
   ]
  },
  {
   "cell_type": "code",
   "execution_count": 110,
   "id": "9a8417cc",
   "metadata": {},
   "outputs": [],
   "source": [
    "feedbacks = pd.concat(\n",
    "    [camera_fb, \n",
    "     dienthoai_fb, \n",
    "     dienthoaiban_fb, \n",
    "     dienthoaiphothong_fb, \n",
    "     dieuhoa_fb, \n",
    "     laptop_fb, \n",
    "     mayanh_fb, \n",
    "     maydocsach_fb, \n",
    "     maygiat_fb, \n",
    "     maytinhbang_fb, \n",
    "     tivi_fb, \n",
    "     tulanh_fb, \n",
    "     maytinhdeban_fb], ignore_index=True\n",
    ")"
   ]
  },
  {
   "cell_type": "code",
   "execution_count": 111,
   "id": "517656e6",
   "metadata": {},
   "outputs": [],
   "source": [
    "def extract_version_to_variant_id(product_id, version):\n",
    "    if pd.isna(version) or version == '' or version == 'nan':\n",
    "        return None\n",
    "    \n",
    "    attributes = version.split('$$')\n",
    "    attrs = []\n",
    "    values = []\n",
    "    for attribute in attributes:\n",
    "        attr = attribute.split(':')[0].strip().lower()\n",
    "        value = attribute.split(':')[-1].strip()\n",
    "\n",
    "        value = toPascalCase(value)\n",
    "\n",
    "        attr = rename_attribute(attr, value)\n",
    "\n",
    "        attrs.append(attr)\n",
    "        values.append(value)\n",
    "\n",
    "    key = (\n",
    "        product_id,\n",
    "        tuple(sorted(zip(attrs, values)))\n",
    "    )\n",
    "    if key not in option_to_variant:\n",
    "        return None\n",
    "\n",
    "    return option_to_variant[key]"
   ]
  },
  {
   "cell_type": "code",
   "execution_count": 112,
   "id": "dc34fe61",
   "metadata": {},
   "outputs": [],
   "source": [
    "customer_df = pd.read_csv('../users/data/customer.csv', encoding='utf-8')\n",
    "customer_ids = customer_df['id'].unique()"
   ]
  },
  {
   "cell_type": "code",
   "execution_count": 113,
   "id": "851fa1e9",
   "metadata": {},
   "outputs": [
    {
     "data": {
      "text/plain": [
       "id_x            0\n",
       "username        0\n",
       "password        0\n",
       "name            0\n",
       "email           0\n",
       "status          0\n",
       "created_at      0\n",
       "updated_at      0\n",
       "id_y            0\n",
       "account_id      0\n",
       "phone_number    0\n",
       "address         0\n",
       "dtype: int64"
      ]
     },
     "execution_count": 113,
     "metadata": {},
     "output_type": "execute_result"
    }
   ],
   "source": [
    "account_df = pd.read_csv('../users/data/account.csv', encoding='utf-8')\n",
    "account_df = pd.merge(account_df, customer_df, left_on='id', right_on='account_id', how='left')\n",
    "\n",
    "account_df.dropna(inplace=True)\n",
    "account_df.isnull().sum()"
   ]
  },
  {
   "cell_type": "code",
   "execution_count": 114,
   "id": "6afc5f1d",
   "metadata": {},
   "outputs": [],
   "source": [
    "account_created_times = account_df['created_at'].unique()"
   ]
  },
  {
   "cell_type": "code",
   "execution_count": 115,
   "id": "28a27795",
   "metadata": {},
   "outputs": [
    {
     "data": {
      "text/html": [
       "<div>\n",
       "<style scoped>\n",
       "    .dataframe tbody tr th:only-of-type {\n",
       "        vertical-align: middle;\n",
       "    }\n",
       "\n",
       "    .dataframe tbody tr th {\n",
       "        vertical-align: top;\n",
       "    }\n",
       "\n",
       "    .dataframe thead th {\n",
       "        text-align: right;\n",
       "    }\n",
       "</style>\n",
       "<table border=\"1\" class=\"dataframe\">\n",
       "  <thead>\n",
       "    <tr style=\"text-align: right;\">\n",
       "      <th></th>\n",
       "      <th>feedback_id</th>\n",
       "      <th>product_id</th>\n",
       "      <th>customer_id</th>\n",
       "      <th>rating</th>\n",
       "      <th>content</th>\n",
       "      <th>time</th>\n",
       "      <th>variant</th>\n",
       "      <th>image_url</th>\n",
       "    </tr>\n",
       "  </thead>\n",
       "  <tbody>\n",
       "    <tr>\n",
       "      <th>0</th>\n",
       "      <td>5278285</td>\n",
       "      <td>47868431</td>\n",
       "      <td>17145651</td>\n",
       "      <td>5</td>\n",
       "      <td>Đã mua gói hàng rất cẩn thận cảm thấy hài lòng...</td>\n",
       "      <td>2020-10-19 13:34:13</td>\n",
       "      <td>NaN</td>\n",
       "      <td>https://salt.tikicdn.com/ts/review/83/90/16/ac...</td>\n",
       "    </tr>\n",
       "    <tr>\n",
       "      <th>1</th>\n",
       "      <td>5397823</td>\n",
       "      <td>47868431</td>\n",
       "      <td>12180385</td>\n",
       "      <td>5</td>\n",
       "      <td>Sản phẩm dễ cài đặt, nhiều tính năng, độ phân ...</td>\n",
       "      <td>2020-10-29 15:35:34</td>\n",
       "      <td>NaN</td>\n",
       "      <td>https://salt.tikicdn.com/ts/review/9d/f9/73/53...</td>\n",
       "    </tr>\n",
       "    <tr>\n",
       "      <th>2</th>\n",
       "      <td>5437697</td>\n",
       "      <td>47868431</td>\n",
       "      <td>11096412</td>\n",
       "      <td>5</td>\n",
       "      <td>hình rõ, app trên Android lẫn iOS chưa ổn định...</td>\n",
       "      <td>2020-11-02 11:23:52</td>\n",
       "      <td>NaN</td>\n",
       "      <td>https://salt.tikicdn.com/ts/review/18/88/78/84...</td>\n",
       "    </tr>\n",
       "    <tr>\n",
       "      <th>3</th>\n",
       "      <td>20089032</td>\n",
       "      <td>47868431</td>\n",
       "      <td>9883981</td>\n",
       "      <td>5</td>\n",
       "      <td>NaN</td>\n",
       "      <td>2025-02-28 21:09:02</td>\n",
       "      <td>NaN</td>\n",
       "      <td>NaN</td>\n",
       "    </tr>\n",
       "    <tr>\n",
       "      <th>4</th>\n",
       "      <td>5950422</td>\n",
       "      <td>47868431</td>\n",
       "      <td>709976</td>\n",
       "      <td>5</td>\n",
       "      <td>giá rẻ, chất lượng tốtgiá rẻ, chất lượng tốtgi...</td>\n",
       "      <td>2020-12-04 23:53:11</td>\n",
       "      <td>NaN</td>\n",
       "      <td>NaN</td>\n",
       "    </tr>\n",
       "    <tr>\n",
       "      <th>...</th>\n",
       "      <td>...</td>\n",
       "      <td>...</td>\n",
       "      <td>...</td>\n",
       "      <td>...</td>\n",
       "      <td>...</td>\n",
       "      <td>...</td>\n",
       "      <td>...</td>\n",
       "      <td>...</td>\n",
       "    </tr>\n",
       "    <tr>\n",
       "      <th>1929</th>\n",
       "      <td>1833090</td>\n",
       "      <td>1265845</td>\n",
       "      <td>1279572</td>\n",
       "      <td>5</td>\n",
       "      <td>sản phẩm tốt mới, dễ sử dụng tiki hỗ trợ ship ...</td>\n",
       "      <td>2018-10-03 20:20:59</td>\n",
       "      <td>Màu: Đen</td>\n",
       "      <td>https://salt.tikicdn.com/ts/review/f4/9d/0b/df...</td>\n",
       "    </tr>\n",
       "    <tr>\n",
       "      <th>1930</th>\n",
       "      <td>1262798</td>\n",
       "      <td>1265845</td>\n",
       "      <td>6496671</td>\n",
       "      <td>3</td>\n",
       "      <td>Cửa tủ ko nằm trên 1 mặt thẳng, bị lệch nếu để...</td>\n",
       "      <td>2018-03-07 00:03:31</td>\n",
       "      <td>NaN</td>\n",
       "      <td>https://salt.tikicdn.com/ts/review/20/7a/2c/f5...</td>\n",
       "    </tr>\n",
       "    <tr>\n",
       "      <th>1931</th>\n",
       "      <td>14876120</td>\n",
       "      <td>55964013</td>\n",
       "      <td>1720141</td>\n",
       "      <td>5</td>\n",
       "      <td>Giao nhanh</td>\n",
       "      <td>2022-02-10 10:29:41</td>\n",
       "      <td>NaN</td>\n",
       "      <td>NaN</td>\n",
       "    </tr>\n",
       "    <tr>\n",
       "      <th>1932</th>\n",
       "      <td>15075700</td>\n",
       "      <td>55964013</td>\n",
       "      <td>1471768</td>\n",
       "      <td>5</td>\n",
       "      <td>Ok</td>\n",
       "      <td>2022-02-22 00:24:45</td>\n",
       "      <td>NaN</td>\n",
       "      <td>NaN</td>\n",
       "    </tr>\n",
       "    <tr>\n",
       "      <th>1933</th>\n",
       "      <td>15177899</td>\n",
       "      <td>55964013</td>\n",
       "      <td>22571119</td>\n",
       "      <td>5</td>\n",
       "      <td>NaN</td>\n",
       "      <td>2022-02-27 21:44:26</td>\n",
       "      <td>NaN</td>\n",
       "      <td>NaN</td>\n",
       "    </tr>\n",
       "  </tbody>\n",
       "</table>\n",
       "<p>1934 rows × 8 columns</p>\n",
       "</div>"
      ],
      "text/plain": [
       "     feedback_id product_id customer_id rating  \\\n",
       "0        5278285   47868431    17145651      5   \n",
       "1        5397823   47868431    12180385      5   \n",
       "2        5437697   47868431    11096412      5   \n",
       "3       20089032   47868431     9883981      5   \n",
       "4        5950422   47868431      709976      5   \n",
       "...          ...        ...         ...    ...   \n",
       "1929     1833090    1265845     1279572      5   \n",
       "1930     1262798    1265845     6496671      3   \n",
       "1931    14876120   55964013     1720141      5   \n",
       "1932    15075700   55964013     1471768      5   \n",
       "1933    15177899   55964013    22571119      5   \n",
       "\n",
       "                                                content                 time  \\\n",
       "0     Đã mua gói hàng rất cẩn thận cảm thấy hài lòng...  2020-10-19 13:34:13   \n",
       "1     Sản phẩm dễ cài đặt, nhiều tính năng, độ phân ...  2020-10-29 15:35:34   \n",
       "2     hình rõ, app trên Android lẫn iOS chưa ổn định...  2020-11-02 11:23:52   \n",
       "3                                                   NaN  2025-02-28 21:09:02   \n",
       "4     giá rẻ, chất lượng tốtgiá rẻ, chất lượng tốtgi...  2020-12-04 23:53:11   \n",
       "...                                                 ...                  ...   \n",
       "1929  sản phẩm tốt mới, dễ sử dụng tiki hỗ trợ ship ...  2018-10-03 20:20:59   \n",
       "1930  Cửa tủ ko nằm trên 1 mặt thẳng, bị lệch nếu để...  2018-03-07 00:03:31   \n",
       "1931                                         Giao nhanh  2022-02-10 10:29:41   \n",
       "1932                                                 Ok  2022-02-22 00:24:45   \n",
       "1933                                                NaN  2022-02-27 21:44:26   \n",
       "\n",
       "       variant                                          image_url  \n",
       "0          NaN  https://salt.tikicdn.com/ts/review/83/90/16/ac...  \n",
       "1          NaN  https://salt.tikicdn.com/ts/review/9d/f9/73/53...  \n",
       "2          NaN  https://salt.tikicdn.com/ts/review/18/88/78/84...  \n",
       "3          NaN                                                NaN  \n",
       "4          NaN                                                NaN  \n",
       "...        ...                                                ...  \n",
       "1929  Màu: Đen  https://salt.tikicdn.com/ts/review/f4/9d/0b/df...  \n",
       "1930       NaN  https://salt.tikicdn.com/ts/review/20/7a/2c/f5...  \n",
       "1931       NaN                                                NaN  \n",
       "1932       NaN                                                NaN  \n",
       "1933       NaN                                                NaN  \n",
       "\n",
       "[1934 rows x 8 columns]"
      ]
     },
     "execution_count": 115,
     "metadata": {},
     "output_type": "execute_result"
    }
   ],
   "source": [
    "feedbacks"
   ]
  },
  {
   "cell_type": "markdown",
   "id": "a10d3ffc",
   "metadata": {},
   "source": [
    "feedback(id, customer_id, product_id, product_variant_id, rating, comment, created_at, image_url)"
   ]
  },
  {
   "cell_type": "code",
   "execution_count": 116,
   "id": "c10176ea",
   "metadata": {},
   "outputs": [],
   "source": [
    "from datetime import datetime, timedelta\n",
    "\n",
    "def convert_old_product_id_to_new_product_id(old_product_id):\n",
    "    if old_product_id in old_product_id_to_new_product_id:\n",
    "        return old_product_id_to_new_product_id[old_product_id]\n",
    "    else:\n",
    "        return None\n",
    "    \n",
    "def random_skipped_date(str_created_at):\n",
    "    try:\n",
    "        created_at = datetime.strptime(str_created_at, '%Y-%m-%d %H:%M:%S')\n",
    "    except ValueError:\n",
    "        created_at = datetime.strptime(str_created_at, '%Y-%m-%d')\n",
    "    current = datetime.now()\n",
    "    random_time = created_at + timedelta(days=random.randint(0, (current - created_at).days))\n",
    "    return random_time.strftime('%Y-%m-%d %H:%M:%S')"
   ]
  },
  {
   "cell_type": "code",
   "execution_count": 117,
   "id": "9b9aeda5",
   "metadata": {},
   "outputs": [],
   "source": [
    "option_to_variant_set = set(option_to_variant.keys())"
   ]
  },
  {
   "cell_type": "code",
   "execution_count": 118,
   "id": "5f225f72",
   "metadata": {},
   "outputs": [],
   "source": [
    "old_feedback_id_to_new_feedback = {}"
   ]
  },
  {
   "cell_type": "code",
   "execution_count": 119,
   "id": "13d20ef6",
   "metadata": {},
   "outputs": [],
   "source": [
    "def convert_old_feedback_id_to_new_feedback(old_feedback_id):\n",
    "    if old_feedback_id in old_feedback_id_to_new_feedback:\n",
    "        return old_feedback_id_to_new_feedback[old_feedback_id]\n",
    "    else:\n",
    "        return None"
   ]
  },
  {
   "cell_type": "code",
   "execution_count": 120,
   "id": "6595f76d",
   "metadata": {},
   "outputs": [],
   "source": [
    "feedback_rows = []\n",
    "\n",
    "for index, row in feedbacks.iterrows():\n",
    "    id = index\n",
    "    customer_id = random.choice(customer_ids)\n",
    "    product_id = convert_old_product_id_to_new_product_id(str(row['product_id']))\n",
    "    product_variant_id = extract_version_to_variant_id(str(row['product_id']), row['variant'])\n",
    "    rating = row['rating']\n",
    "    comment = row['content']\n",
    "    \n",
    "    created_at = random_skipped_date(random.choice(account_created_times))\n",
    "\n",
    "    feedback_row = {\n",
    "        'id': id,\n",
    "        'customer_id': customer_id,\n",
    "        'product_id': product_id,\n",
    "        'product_variant_id': product_variant_id,\n",
    "        'rating': rating,\n",
    "        'comment': comment,\n",
    "        'created_at': created_at\n",
    "    }\n",
    "\n",
    "    feedback_rows.append(feedback_row)\n",
    "\n",
    "    old_feedback_id_to_new_feedback[str(row['feedback_id'])] = feedback_row\n",
    "\n",
    "feedback_df = pd.DataFrame(feedback_rows)"
   ]
  },
  {
   "cell_type": "code",
   "execution_count": 121,
   "id": "58c9a3e7",
   "metadata": {},
   "outputs": [],
   "source": [
    "feedback_df.dropna(subset=['product_id', 'created_at'], inplace=True)"
   ]
  },
  {
   "cell_type": "code",
   "execution_count": 122,
   "id": "12cda019",
   "metadata": {},
   "outputs": [
    {
     "data": {
      "text/plain": [
       "array([      nan, 2.474e+03, 2.475e+03, 2.561e+03, 2.663e+03, 2.664e+03,\n",
       "       2.673e+03, 2.709e+03, 2.765e+03, 2.910e+03, 2.940e+03, 3.046e+03,\n",
       "       3.128e+03, 3.129e+03, 3.133e+03, 3.319e+03, 0.000e+00, 1.000e+00,\n",
       "       5.000e+00, 3.000e+00, 6.000e+00, 7.000e+00, 8.000e+00, 9.000e+00,\n",
       "       1.000e+01, 1.100e+01, 1.200e+01, 1.600e+01, 3.800e+01, 3.600e+01,\n",
       "       3.700e+01, 3.900e+01, 4.900e+01, 5.200e+01, 5.100e+01, 5.300e+01,\n",
       "       5.500e+01, 5.400e+01, 6.200e+01, 6.100e+01, 6.500e+01, 6.400e+01,\n",
       "       6.600e+01, 6.300e+01, 6.900e+01, 6.700e+01, 6.800e+01, 7.000e+01,\n",
       "       7.200e+01, 7.100e+01, 7.400e+01, 7.300e+01, 7.600e+01, 7.900e+01,\n",
       "       7.800e+01, 8.000e+01, 8.100e+01, 8.800e+01, 8.900e+01, 9.100e+01,\n",
       "       9.000e+01, 9.500e+01, 9.600e+01, 9.700e+01, 9.800e+01, 9.900e+01,\n",
       "       1.000e+02, 1.040e+02, 1.050e+02, 1.900e+02, 1.890e+02, 1.880e+02,\n",
       "       2.620e+02, 2.710e+02, 3.940e+02, 4.060e+02, 4.090e+02, 4.170e+02,\n",
       "       4.710e+02, 4.700e+02, 4.720e+02, 4.740e+02, 4.730e+02, 4.750e+02,\n",
       "       4.920e+02, 4.930e+02, 4.910e+02, 8.720e+02, 9.070e+02, 9.120e+02,\n",
       "       1.265e+03, 1.264e+03, 1.293e+03, 1.311e+03, 1.696e+03, 1.697e+03,\n",
       "       1.698e+03, 1.699e+03, 1.700e+03, 1.701e+03, 1.753e+03, 1.755e+03,\n",
       "       1.756e+03, 2.351e+03])"
      ]
     },
     "execution_count": 122,
     "metadata": {},
     "output_type": "execute_result"
    }
   ],
   "source": [
    "feedback_df['product_variant_id'].unique()"
   ]
  },
  {
   "cell_type": "code",
   "execution_count": 123,
   "id": "cb579754",
   "metadata": {},
   "outputs": [
    {
     "data": {
      "text/plain": [
       "id                       0\n",
       "customer_id              0\n",
       "product_id               0\n",
       "product_variant_id    1472\n",
       "rating                   0\n",
       "comment                603\n",
       "created_at               0\n",
       "dtype: int64"
      ]
     },
     "execution_count": 123,
     "metadata": {},
     "output_type": "execute_result"
    }
   ],
   "source": [
    "feedback_df.isna().sum()"
   ]
  },
  {
   "cell_type": "code",
   "execution_count": 124,
   "id": "e63a09cc",
   "metadata": {},
   "outputs": [],
   "source": [
    "feedback_df.to_csv('./transformedData/feedback.csv', index=False, encoding='utf-8-sig')"
   ]
  },
  {
   "cell_type": "code",
   "execution_count": 125,
   "id": "b46c4106",
   "metadata": {},
   "outputs": [
    {
     "data": {
      "text/html": [
       "<div>\n",
       "<style scoped>\n",
       "    .dataframe tbody tr th:only-of-type {\n",
       "        vertical-align: middle;\n",
       "    }\n",
       "\n",
       "    .dataframe tbody tr th {\n",
       "        vertical-align: top;\n",
       "    }\n",
       "\n",
       "    .dataframe thead th {\n",
       "        text-align: right;\n",
       "    }\n",
       "</style>\n",
       "<table border=\"1\" class=\"dataframe\">\n",
       "  <thead>\n",
       "    <tr style=\"text-align: right;\">\n",
       "      <th></th>\n",
       "      <th>id</th>\n",
       "      <th>customer_id</th>\n",
       "      <th>product_id</th>\n",
       "      <th>product_variant_id</th>\n",
       "      <th>rating</th>\n",
       "      <th>comment</th>\n",
       "      <th>created_at</th>\n",
       "    </tr>\n",
       "  </thead>\n",
       "  <tbody>\n",
       "    <tr>\n",
       "      <th>0</th>\n",
       "      <td>0</td>\n",
       "      <td>860739</td>\n",
       "      <td>002081</td>\n",
       "      <td>NaN</td>\n",
       "      <td>5</td>\n",
       "      <td>Đã mua gói hàng rất cẩn thận cảm thấy hài lòng...</td>\n",
       "      <td>2024-12-13 00:00:00</td>\n",
       "    </tr>\n",
       "    <tr>\n",
       "      <th>1</th>\n",
       "      <td>1</td>\n",
       "      <td>564224</td>\n",
       "      <td>002081</td>\n",
       "      <td>NaN</td>\n",
       "      <td>5</td>\n",
       "      <td>Sản phẩm dễ cài đặt, nhiều tính năng, độ phân ...</td>\n",
       "      <td>2023-05-22 00:00:00</td>\n",
       "    </tr>\n",
       "    <tr>\n",
       "      <th>2</th>\n",
       "      <td>2</td>\n",
       "      <td>278897</td>\n",
       "      <td>002081</td>\n",
       "      <td>NaN</td>\n",
       "      <td>5</td>\n",
       "      <td>hình rõ, app trên Android lẫn iOS chưa ổn định...</td>\n",
       "      <td>2025-04-15 00:00:00</td>\n",
       "    </tr>\n",
       "    <tr>\n",
       "      <th>3</th>\n",
       "      <td>3</td>\n",
       "      <td>820480</td>\n",
       "      <td>002081</td>\n",
       "      <td>NaN</td>\n",
       "      <td>5</td>\n",
       "      <td>NaN</td>\n",
       "      <td>2024-09-24 00:00:00</td>\n",
       "    </tr>\n",
       "    <tr>\n",
       "      <th>4</th>\n",
       "      <td>4</td>\n",
       "      <td>202874</td>\n",
       "      <td>002081</td>\n",
       "      <td>NaN</td>\n",
       "      <td>5</td>\n",
       "      <td>giá rẻ, chất lượng tốtgiá rẻ, chất lượng tốtgi...</td>\n",
       "      <td>2024-08-02 00:00:00</td>\n",
       "    </tr>\n",
       "  </tbody>\n",
       "</table>\n",
       "</div>"
      ],
      "text/plain": [
       "   id  customer_id product_id  product_variant_id  rating  \\\n",
       "0   0       860739     002081                 NaN       5   \n",
       "1   1       564224     002081                 NaN       5   \n",
       "2   2       278897     002081                 NaN       5   \n",
       "3   3       820480     002081                 NaN       5   \n",
       "4   4       202874     002081                 NaN       5   \n",
       "\n",
       "                                             comment           created_at  \n",
       "0  Đã mua gói hàng rất cẩn thận cảm thấy hài lòng...  2024-12-13 00:00:00  \n",
       "1  Sản phẩm dễ cài đặt, nhiều tính năng, độ phân ...  2023-05-22 00:00:00  \n",
       "2  hình rõ, app trên Android lẫn iOS chưa ổn định...  2025-04-15 00:00:00  \n",
       "3                                                NaN  2024-09-24 00:00:00  \n",
       "4  giá rẻ, chất lượng tốtgiá rẻ, chất lượng tốtgi...  2024-08-02 00:00:00  "
      ]
     },
     "execution_count": 125,
     "metadata": {},
     "output_type": "execute_result"
    }
   ],
   "source": [
    "feedback_df.head()"
   ]
  },
  {
   "cell_type": "markdown",
   "id": "943e8320",
   "metadata": {},
   "source": [
    "### Handle feedback_response"
   ]
  },
  {
   "cell_type": "markdown",
   "id": "6c32110f",
   "metadata": {},
   "source": [
    "feedback_response(id, manager_id, feedback_id, content, created_at)"
   ]
  },
  {
   "cell_type": "code",
   "execution_count": 126,
   "id": "69982f09",
   "metadata": {},
   "outputs": [
    {
     "name": "stdout",
     "output_type": "stream",
     "text": [
      "Number of Na\n",
      "id              0\n",
      "feedback_id     0\n",
      "manager_id      0\n",
      "manager_name    0\n",
      "content         0\n",
      "time            0\n",
      "dtype: int64\n",
      "Previous number of rows\n",
      "89\n",
      "Number of duplicates\n",
      "2\n",
      "After removing duplicates\n",
      "87\n"
     ]
    }
   ],
   "source": [
    "camera_fb_ma = pd.read_csv('./feedback_manager/camera_fb_ma.csv', encoding='utf-8')\n",
    "something(camera_fb_ma)"
   ]
  },
  {
   "cell_type": "code",
   "execution_count": 127,
   "id": "ed55dd91",
   "metadata": {},
   "outputs": [
    {
     "name": "stdout",
     "output_type": "stream",
     "text": [
      "Number of Na\n",
      "id              0\n",
      "feedback_id     0\n",
      "manager_id      0\n",
      "manager_name    0\n",
      "content         0\n",
      "time            3\n",
      "dtype: int64\n",
      "Previous number of rows\n",
      "434\n",
      "Number of duplicates\n",
      "120\n",
      "After removing duplicates\n",
      "314\n"
     ]
    }
   ],
   "source": [
    "dienthoai_fb_ma = pd.read_csv('./feedback_manager/dienthoai_fb_ma.csv', encoding='utf-8')\n",
    "something(dienthoai_fb_ma)"
   ]
  },
  {
   "cell_type": "code",
   "execution_count": 128,
   "id": "a15cb9a9",
   "metadata": {},
   "outputs": [
    {
     "name": "stdout",
     "output_type": "stream",
     "text": [
      "Number of Na\n",
      "id              0\n",
      "feedback_id     0\n",
      "manager_id      0\n",
      "manager_name    0\n",
      "content         0\n",
      "time            0\n",
      "dtype: int64\n",
      "Previous number of rows\n",
      "1\n",
      "Number of duplicates\n",
      "0\n"
     ]
    }
   ],
   "source": [
    "dienthoaiban_fb_ma = pd.read_csv('./feedback_manager/dienthoaiban_fb_ma.csv', encoding='utf-8')\n",
    "something(dienthoaiban_fb_ma)"
   ]
  },
  {
   "cell_type": "code",
   "execution_count": 129,
   "id": "0845b45d",
   "metadata": {},
   "outputs": [
    {
     "name": "stdout",
     "output_type": "stream",
     "text": [
      "Number of Na\n",
      "id              0\n",
      "feedback_id     0\n",
      "manager_id      0\n",
      "manager_name    0\n",
      "content         0\n",
      "time            0\n",
      "dtype: int64\n",
      "Previous number of rows\n",
      "14\n",
      "Number of duplicates\n",
      "0\n"
     ]
    }
   ],
   "source": [
    "dienthoaiphothong_fb_ma = pd.read_csv('./feedback_manager/dienthoaiphothong_fb_ma.csv', encoding='utf-8')\n",
    "something(dienthoaiphothong_fb_ma)"
   ]
  },
  {
   "cell_type": "code",
   "execution_count": 130,
   "id": "b7510c28",
   "metadata": {},
   "outputs": [
    {
     "name": "stdout",
     "output_type": "stream",
     "text": [
      "Number of Na\n",
      "id              0\n",
      "feedback_id     0\n",
      "manager_id      0\n",
      "manager_name    0\n",
      "content         0\n",
      "time            0\n",
      "dtype: int64\n",
      "Previous number of rows\n",
      "0\n",
      "Number of duplicates\n",
      "0\n"
     ]
    }
   ],
   "source": [
    "dieuhoa_fb_ma = pd.read_csv('./feedback_manager/dieuhoa_fb_ma.csv', encoding='utf-8')\n",
    "something(dieuhoa_fb_ma)"
   ]
  },
  {
   "cell_type": "code",
   "execution_count": 131,
   "id": "b87870a9",
   "metadata": {},
   "outputs": [
    {
     "name": "stdout",
     "output_type": "stream",
     "text": [
      "Number of Na\n",
      "id              0\n",
      "feedback_id     0\n",
      "manager_id      0\n",
      "manager_name    0\n",
      "content         0\n",
      "time            0\n",
      "dtype: int64\n",
      "Previous number of rows\n",
      "6\n",
      "Number of duplicates\n",
      "0\n"
     ]
    }
   ],
   "source": [
    "laptop_fb_ma = pd.read_csv('./feedback_manager/laptop_fb_ma.csv', encoding='utf-8')\n",
    "something(laptop_fb_ma)"
   ]
  },
  {
   "cell_type": "code",
   "execution_count": 132,
   "id": "3257423f",
   "metadata": {},
   "outputs": [
    {
     "name": "stdout",
     "output_type": "stream",
     "text": [
      "Number of Na\n",
      "id              0\n",
      "feedback_id     0\n",
      "manager_id      0\n",
      "manager_name    0\n",
      "content         0\n",
      "time            0\n",
      "dtype: int64\n",
      "Previous number of rows\n",
      "1\n",
      "Number of duplicates\n",
      "0\n"
     ]
    }
   ],
   "source": [
    "mayanh_fb_ma = pd.read_csv('./feedback_manager/mayanh_fb_ma.csv', encoding='utf-8')\n",
    "something(mayanh_fb_ma)"
   ]
  },
  {
   "cell_type": "code",
   "execution_count": 133,
   "id": "c78d3a5d",
   "metadata": {},
   "outputs": [
    {
     "name": "stdout",
     "output_type": "stream",
     "text": [
      "Number of Na\n",
      "id              0\n",
      "feedback_id     0\n",
      "manager_id      0\n",
      "manager_name    0\n",
      "content         0\n",
      "time            0\n",
      "dtype: int64\n",
      "Previous number of rows\n",
      "53\n",
      "Number of duplicates\n",
      "0\n"
     ]
    }
   ],
   "source": [
    "maydocsach_fb_ma = pd.read_csv('./feedback_manager/maydocsach_fb_ma.csv', encoding='utf-8')\n",
    "something(maydocsach_fb_ma)"
   ]
  },
  {
   "cell_type": "code",
   "execution_count": 134,
   "id": "151ef2bc",
   "metadata": {},
   "outputs": [
    {
     "name": "stdout",
     "output_type": "stream",
     "text": [
      "Number of Na\n",
      "id              0\n",
      "feedback_id     0\n",
      "manager_id      0\n",
      "manager_name    0\n",
      "content         0\n",
      "time            0\n",
      "dtype: int64\n",
      "Previous number of rows\n",
      "5\n",
      "Number of duplicates\n",
      "0\n"
     ]
    }
   ],
   "source": [
    "maygiat_fb_ma = pd.read_csv('./feedback_manager/maygiat_fb_ma.csv', encoding='utf-8')\n",
    "something(maygiat_fb_ma)"
   ]
  },
  {
   "cell_type": "code",
   "execution_count": 135,
   "id": "39e0dabc",
   "metadata": {},
   "outputs": [
    {
     "name": "stdout",
     "output_type": "stream",
     "text": [
      "Number of Na\n",
      "id              0\n",
      "feedback_id     0\n",
      "manager_id      0\n",
      "manager_name    0\n",
      "content         0\n",
      "time            0\n",
      "dtype: int64\n",
      "Previous number of rows\n",
      "64\n",
      "Number of duplicates\n",
      "26\n",
      "After removing duplicates\n",
      "38\n"
     ]
    }
   ],
   "source": [
    "maytinhbang_fb_ma = pd.read_csv('./feedback_manager/maytinhbang_fb_ma.csv', encoding='utf-8')\n",
    "something(maytinhbang_fb_ma)"
   ]
  },
  {
   "cell_type": "code",
   "execution_count": 136,
   "id": "ee31c6ce",
   "metadata": {},
   "outputs": [
    {
     "name": "stdout",
     "output_type": "stream",
     "text": [
      "Number of Na\n",
      "id              0\n",
      "feedback_id     0\n",
      "manager_id      0\n",
      "manager_name    0\n",
      "content         0\n",
      "time            0\n",
      "dtype: int64\n",
      "Previous number of rows\n",
      "0\n",
      "Number of duplicates\n",
      "0\n"
     ]
    }
   ],
   "source": [
    "maytinhdeban_fb_ma = pd.read_csv('./feedback_manager/maytinhdeban_fb_ma.csv', encoding='utf-8')\n",
    "something(maytinhdeban_fb_ma)"
   ]
  },
  {
   "cell_type": "code",
   "execution_count": 137,
   "id": "fae2aa3f",
   "metadata": {},
   "outputs": [
    {
     "name": "stdout",
     "output_type": "stream",
     "text": [
      "Number of Na\n",
      "id              0\n",
      "feedback_id     0\n",
      "manager_id      0\n",
      "manager_name    0\n",
      "content         0\n",
      "time            1\n",
      "dtype: int64\n",
      "Previous number of rows\n",
      "27\n",
      "Number of duplicates\n",
      "0\n"
     ]
    }
   ],
   "source": [
    "tivi_fb_ma = pd.read_csv('./feedback_manager/tivi_fb_ma.csv', encoding='utf-8')\n",
    "something(tivi_fb_ma)"
   ]
  },
  {
   "cell_type": "code",
   "execution_count": 138,
   "id": "5ff9ab70",
   "metadata": {},
   "outputs": [
    {
     "name": "stdout",
     "output_type": "stream",
     "text": [
      "Number of Na\n",
      "id              0\n",
      "feedback_id     0\n",
      "manager_id      0\n",
      "manager_name    0\n",
      "content         0\n",
      "time            0\n",
      "dtype: int64\n",
      "Previous number of rows\n",
      "3\n",
      "Number of duplicates\n",
      "0\n"
     ]
    }
   ],
   "source": [
    "tulanh_fb_ma = pd.read_csv('./feedback_manager/tulanh_fb_ma.csv', encoding='utf-8')\n",
    "something(tulanh_fb_ma)"
   ]
  },
  {
   "cell_type": "code",
   "execution_count": 139,
   "id": "7f2c3cf5",
   "metadata": {},
   "outputs": [],
   "source": [
    "feedback_ma = pd.concat(\n",
    "    [camera_fb_ma, \n",
    "     dienthoai_fb_ma, \n",
    "     dienthoaiban_fb_ma, \n",
    "     dienthoaiphothong_fb_ma, \n",
    "     dieuhoa_fb_ma, \n",
    "     laptop_fb_ma, \n",
    "     mayanh_fb_ma, \n",
    "     maydocsach_fb_ma, \n",
    "     maygiat_fb_ma, \n",
    "     maytinhbang_fb_ma, \n",
    "     tivi_fb_ma, \n",
    "     tulanh_fb_ma,\n",
    "     maytinhdeban_fb_ma], ignore_index=True\n",
    ")"
   ]
  },
  {
   "cell_type": "code",
   "execution_count": 140,
   "id": "0a3d45fe",
   "metadata": {},
   "outputs": [
    {
     "data": {
      "text/plain": [
       "549"
      ]
     },
     "execution_count": 140,
     "metadata": {},
     "output_type": "execute_result"
    }
   ],
   "source": [
    "len(feedback_ma)"
   ]
  },
  {
   "cell_type": "markdown",
   "id": "f03533d3",
   "metadata": {},
   "source": [
    "feedback_response(id, manager_id, feedback_id, content, created_at)"
   ]
  },
  {
   "cell_type": "code",
   "execution_count": 141,
   "id": "7f3aa248",
   "metadata": {},
   "outputs": [],
   "source": [
    "manager_df = pd.read_csv('../users/data/manager.csv', encoding='utf-8')"
   ]
  },
  {
   "cell_type": "code",
   "execution_count": 142,
   "id": "c1ed4d99",
   "metadata": {},
   "outputs": [
    {
     "data": {
      "text/plain": [
       "array([170, 168, 125, 167, 124, 166, 122, 121, 164, 120,   5,  85,  84,\n",
       "       160,  80,  79,  10,  11, 156,  12, 155,  76, 153,  75,   1, 149,\n",
       "        71, 118,  14, 117,  29, 146, 145, 144,  19, 112,  33, 111, 142,\n",
       "        63,  21, 141,  62, 140,  59,  60, 198,  58,  15, 137,  57, 196,\n",
       "        56,   0, 194,  53,  27, 191,  52,  49, 187,  48, 186, 182, 100,\n",
       "        42, 134,  99,  41, 133,  40, 131, 130, 129,  95,  36, 128, 174,\n",
       "        94, 127,  92, 126,  91])"
      ]
     },
     "execution_count": 142,
     "metadata": {},
     "output_type": "execute_result"
    }
   ],
   "source": [
    "service_customer_ids = manager_df[manager_df['role_id'] == 2]['id'].unique()\n",
    "service_customer_ids\n"
   ]
  },
  {
   "cell_type": "code",
   "execution_count": 143,
   "id": "49a897b0",
   "metadata": {},
   "outputs": [],
   "source": [
    "feedback_ma['content'] = feedback_ma['content'].str.replace('tiki', 'PTIT-EShop', case=False)"
   ]
  },
  {
   "cell_type": "code",
   "execution_count": 144,
   "id": "8a8bd731",
   "metadata": {},
   "outputs": [],
   "source": [
    "feedback_response_rows = []\n",
    "\n",
    "for index, row in feedback_ma.iterrows():\n",
    "    id = index\n",
    "    manager_id = random.choice(service_customer_ids)\n",
    "    customer_feedback = convert_old_feedback_id_to_new_feedback(str(row['feedback_id']))\n",
    "    feedback_id = customer_feedback['id']\n",
    "    content = row['content']\n",
    "    created_at =  random_skipped_date(customer_feedback['created_at'])\n",
    "\n",
    "    feedback_response_row = {\n",
    "        'id': id,\n",
    "        'manager_id': manager_id,\n",
    "        'feedback_id': feedback_id,\n",
    "        'content': content,\n",
    "        'created_at': created_at\n",
    "    }\n",
    "    feedback_response_rows.append(feedback_response_row)\n",
    "\n",
    "feedback_response_df = pd.DataFrame(feedback_response_rows)"
   ]
  },
  {
   "cell_type": "code",
   "execution_count": 145,
   "id": "8a26ca24",
   "metadata": {},
   "outputs": [
    {
     "data": {
      "text/html": [
       "<div>\n",
       "<style scoped>\n",
       "    .dataframe tbody tr th:only-of-type {\n",
       "        vertical-align: middle;\n",
       "    }\n",
       "\n",
       "    .dataframe tbody tr th {\n",
       "        vertical-align: top;\n",
       "    }\n",
       "\n",
       "    .dataframe thead th {\n",
       "        text-align: right;\n",
       "    }\n",
       "</style>\n",
       "<table border=\"1\" class=\"dataframe\">\n",
       "  <thead>\n",
       "    <tr style=\"text-align: right;\">\n",
       "      <th></th>\n",
       "      <th>id</th>\n",
       "      <th>manager_id</th>\n",
       "      <th>feedback_id</th>\n",
       "      <th>content</th>\n",
       "      <th>created_at</th>\n",
       "    </tr>\n",
       "  </thead>\n",
       "  <tbody>\n",
       "    <tr>\n",
       "      <th>0</th>\n",
       "      <td>0</td>\n",
       "      <td>125</td>\n",
       "      <td>3</td>\n",
       "      <td>Cảm ơn bạn đã tin tưởng PTIT-EShop và cho PTIT...</td>\n",
       "      <td>2024-10-16 00:00:00</td>\n",
       "    </tr>\n",
       "    <tr>\n",
       "      <th>1</th>\n",
       "      <td>1</td>\n",
       "      <td>168</td>\n",
       "      <td>30</td>\n",
       "      <td>PTIT-EShop rất vui khi nhận được đánh giá 5⭐️t...</td>\n",
       "      <td>2025-03-18 00:00:00</td>\n",
       "    </tr>\n",
       "    <tr>\n",
       "      <th>2</th>\n",
       "      <td>2</td>\n",
       "      <td>196</td>\n",
       "      <td>31</td>\n",
       "      <td>Cảm ơn bạn đã để lại nhận xét tại PTIT-EShop. ...</td>\n",
       "      <td>2025-04-30 00:00:00</td>\n",
       "    </tr>\n",
       "    <tr>\n",
       "      <th>3</th>\n",
       "      <td>3</td>\n",
       "      <td>10</td>\n",
       "      <td>32</td>\n",
       "      <td>Cảm ơn bạn đã để lại nhận xét tại PTIT-EShop. ...</td>\n",
       "      <td>2025-04-04 00:00:00</td>\n",
       "    </tr>\n",
       "    <tr>\n",
       "      <th>4</th>\n",
       "      <td>4</td>\n",
       "      <td>168</td>\n",
       "      <td>33</td>\n",
       "      <td>Cảm ơn bạn đã để lại nhận xét tại PTIT-EShop. ...</td>\n",
       "      <td>2025-04-28 00:00:00</td>\n",
       "    </tr>\n",
       "    <tr>\n",
       "      <th>...</th>\n",
       "      <td>...</td>\n",
       "      <td>...</td>\n",
       "      <td>...</td>\n",
       "      <td>...</td>\n",
       "      <td>...</td>\n",
       "    </tr>\n",
       "    <tr>\n",
       "      <th>544</th>\n",
       "      <td>544</td>\n",
       "      <td>12</td>\n",
       "      <td>1569</td>\n",
       "      <td>Chào bạn, PTIT-EShop rất xin lỗi bạn vì đơn hà...</td>\n",
       "      <td>2025-04-29 00:00:00</td>\n",
       "    </tr>\n",
       "    <tr>\n",
       "      <th>545</th>\n",
       "      <td>545</td>\n",
       "      <td>137</td>\n",
       "      <td>1572</td>\n",
       "      <td>Cảm ơn anh đã tin tưởng PTIT-EShop trong suốt ...</td>\n",
       "      <td>2025-04-13 00:00:00</td>\n",
       "    </tr>\n",
       "    <tr>\n",
       "      <th>546</th>\n",
       "      <td>546</td>\n",
       "      <td>27</td>\n",
       "      <td>1762</td>\n",
       "      <td>Chào bạn, PTIT-EShop đã nhận được thông tin đá...</td>\n",
       "      <td>2025-04-05 00:00:00</td>\n",
       "    </tr>\n",
       "    <tr>\n",
       "      <th>547</th>\n",
       "      <td>547</td>\n",
       "      <td>111</td>\n",
       "      <td>1774</td>\n",
       "      <td>Mến chào anh, PTIT-EShop đã nhận được thông ti...</td>\n",
       "      <td>2025-03-04 00:00:00</td>\n",
       "    </tr>\n",
       "    <tr>\n",
       "      <th>548</th>\n",
       "      <td>548</td>\n",
       "      <td>146</td>\n",
       "      <td>1833</td>\n",
       "      <td>Chào bạn, PTIT-EShop đã nhận được thông tin nh...</td>\n",
       "      <td>2025-03-12 00:00:00</td>\n",
       "    </tr>\n",
       "  </tbody>\n",
       "</table>\n",
       "<p>549 rows × 5 columns</p>\n",
       "</div>"
      ],
      "text/plain": [
       "      id  manager_id  feedback_id  \\\n",
       "0      0         125            3   \n",
       "1      1         168           30   \n",
       "2      2         196           31   \n",
       "3      3          10           32   \n",
       "4      4         168           33   \n",
       "..   ...         ...          ...   \n",
       "544  544          12         1569   \n",
       "545  545         137         1572   \n",
       "546  546          27         1762   \n",
       "547  547         111         1774   \n",
       "548  548         146         1833   \n",
       "\n",
       "                                               content           created_at  \n",
       "0    Cảm ơn bạn đã tin tưởng PTIT-EShop và cho PTIT...  2024-10-16 00:00:00  \n",
       "1    PTIT-EShop rất vui khi nhận được đánh giá 5⭐️t...  2025-03-18 00:00:00  \n",
       "2    Cảm ơn bạn đã để lại nhận xét tại PTIT-EShop. ...  2025-04-30 00:00:00  \n",
       "3    Cảm ơn bạn đã để lại nhận xét tại PTIT-EShop. ...  2025-04-04 00:00:00  \n",
       "4    Cảm ơn bạn đã để lại nhận xét tại PTIT-EShop. ...  2025-04-28 00:00:00  \n",
       "..                                                 ...                  ...  \n",
       "544  Chào bạn, PTIT-EShop rất xin lỗi bạn vì đơn hà...  2025-04-29 00:00:00  \n",
       "545  Cảm ơn anh đã tin tưởng PTIT-EShop trong suốt ...  2025-04-13 00:00:00  \n",
       "546  Chào bạn, PTIT-EShop đã nhận được thông tin đá...  2025-04-05 00:00:00  \n",
       "547  Mến chào anh, PTIT-EShop đã nhận được thông ti...  2025-03-04 00:00:00  \n",
       "548  Chào bạn, PTIT-EShop đã nhận được thông tin nh...  2025-03-12 00:00:00  \n",
       "\n",
       "[549 rows x 5 columns]"
      ]
     },
     "execution_count": 145,
     "metadata": {},
     "output_type": "execute_result"
    }
   ],
   "source": [
    "feedback_response_df"
   ]
  },
  {
   "cell_type": "code",
   "execution_count": 146,
   "id": "734a5cc8",
   "metadata": {},
   "outputs": [],
   "source": [
    "feedback_response_df.to_csv('./transformedData/feedback_response.csv', index=False, encoding='utf-8-sig')"
   ]
  },
  {
   "cell_type": "markdown",
   "id": "ff2184a3",
   "metadata": {},
   "source": [
    "### Discount"
   ]
  },
  {
   "cell_type": "markdown",
   "id": "fc3d9cd0",
   "metadata": {},
   "source": [
    "discount(id, product_variant_id, code, name, type, value, status, start_date, end_date)"
   ]
  },
  {
   "cell_type": "code",
   "execution_count": 147,
   "id": "98695026",
   "metadata": {},
   "outputs": [],
   "source": [
    "def discount_value(type: str, original_price: float, price: float, min_discount=0.05, max_discount=0.3, min_profit=0.05):\n",
    "    valid_discounts = []\n",
    "    \n",
    "    for i in range(int(min_discount * 100), int(max_discount * 100) + 1):\n",
    "        discount_rate = i / 100\n",
    "        discounted_price = price * (1 - discount_rate)\n",
    "\n",
    "        if discounted_price > original_price * (1 + min_profit):\n",
    "            valid_discounts.append({\n",
    "                'rate': discount_rate,\n",
    "                'price': discounted_price,\n",
    "            })\n",
    "    \n",
    "    if valid_discounts:\n",
    "        if type == 'Percentage':\n",
    "            return random.choice(valid_discounts)['rate']\n",
    "        elif type == 'FixedAmount':\n",
    "            return random.choice(valid_discounts)['price']\n",
    "    \n",
    "    return price\n",
    "\n",
    "def check_status(start_date: str, end_date: str):\n",
    "    start_date = datetime.strptime(start_date, '%Y-%m-%d %H:%M:%S')\n",
    "    end_date = datetime.strptime(end_date, '%Y-%m-%d %H:%M:%S')\n",
    "\n",
    "    current_date = datetime.now()\n",
    "\n",
    "    if start_date <= current_date <= end_date:\n",
    "        return 'Active'\n",
    "    elif current_date < start_date:\n",
    "        return 'Inactive'\n",
    "    else:\n",
    "        return 'Expired'"
   ]
  },
  {
   "cell_type": "code",
   "execution_count": null,
   "id": "f2bf8f1c",
   "metadata": {},
   "outputs": [],
   "source": [
    "types = ['Percentage', 'FixedAmount']\n",
    "\n",
    "voucher_name = [\n",
    "    'Giảm giá sinh nhật',\n",
    "    'Giảm giá lễ tình nhân',\n",
    "    'Giảm giá giáng sinh',\n",
    "    'Giảm giá năm mới',\n",
    "    'Giảm giá ngày phụ nữ',\n",
    "    'Giảm giá ngày quốc tế lao động',\n",
    "    'Giảm giá ngày quốc khánh',\n",
    "    'Giảm giá ngày lễ tình yêu',\n",
    "    'Giảm giá ngày lễ hội',\n",
    "    'Giảm giá ngày lễ tạ ơn',\n",
    "    'Giảm giá ngày lễ độc lập',\n",
    "    'Giảm giá ngày lễ Halloween',\n",
    "    'Giảm giá ngày lễ Phục sinh',\n",
    "    'Giảm giá hot',\n",
    "    'Giảm giá sốc',\n",
    "    'Giảm giá cực mạnh',\n",
    "    'Giảm giá lớn',\n",
    "    'Giảm giá hấp dẫn',\n",
    "    'Giảm giá cực chất',\n",
    "    'Giảm giá không thể bỏ qua',\n",
    "    'Giảm giá cực đã',\n",
    "    'Giảm giá cực phê',\n",
    "    'Giảm giá cực chất',\n",
    "    'Giảm giá cực đỉnh',\n",
    "    'Giảm giá cực chất lượng',\n",
    "    'Giảm giá cực chất lượng cao'\n",
    "]\n",
    "\n",
    "discount_rows = []\n",
    "\n",
    "random_product_variant = product_variant[['id', 'price', 'original_price', 'profit']].sample(n=1000, replace=False, random_state=42)\n",
    "\n",
    "for index, row in random_product_variant.iterrows():\n",
    "    \n",
    "    random_string = ''.join(random.choices('ABCDEFGHIJKLMNOPQRSTUVWXYZ0123456789', k=12))\n",
    "\n",
    "    product_variant_id = row['id']\n",
    "\n",
    "    original_price = row['original_price']\n",
    "    price = row['price']\n",
    "\n",
    "    start_date = datetime.now().strftime('%Y-%m-%d %H:%M:%S')\n",
    "\n",
    "    end_date = (datetime.now() + timedelta(days=random.randint(1, 30))).strftime('%Y-%m-%d %H:%M:%S')\n",
    "\n",
    "    discount_row = {\n",
    "        'id': index,\n",
    "        'product_variant_id': product_variant_id,\n",
    "        'code':  random_string,\n",
    "        'name': random.choice(voucher_name),\n",
    "        'type': random.choice(types),\n",
    "        'value': discount_value(random.choice(types), original_price, price),\n",
    "        'status': check_status(start_date, end_date),\n",
    "        'start_date': start_date,\n",
    "        'end_date': end_date,\n",
    "    }\n",
    "    \n",
    "    discount_rows.append(discount_row)\n",
    "\n",
    "discount_df = pd.DataFrame(discount_rows)"
   ]
  },
  {
   "cell_type": "code",
   "execution_count": 149,
   "id": "173ab8c5",
   "metadata": {},
   "outputs": [
    {
     "data": {
      "text/html": [
       "<div>\n",
       "<style scoped>\n",
       "    .dataframe tbody tr th:only-of-type {\n",
       "        vertical-align: middle;\n",
       "    }\n",
       "\n",
       "    .dataframe tbody tr th {\n",
       "        vertical-align: top;\n",
       "    }\n",
       "\n",
       "    .dataframe thead th {\n",
       "        text-align: right;\n",
       "    }\n",
       "</style>\n",
       "<table border=\"1\" class=\"dataframe\">\n",
       "  <thead>\n",
       "    <tr style=\"text-align: right;\">\n",
       "      <th></th>\n",
       "      <th>id</th>\n",
       "      <th>product_variant_id</th>\n",
       "      <th>code</th>\n",
       "      <th>name</th>\n",
       "      <th>type</th>\n",
       "      <th>value</th>\n",
       "      <th>status</th>\n",
       "      <th>start_date</th>\n",
       "      <th>end_date</th>\n",
       "    </tr>\n",
       "  </thead>\n",
       "  <tbody>\n",
       "    <tr>\n",
       "      <th>0</th>\n",
       "      <td>1842</td>\n",
       "      <td>001842</td>\n",
       "      <td>K5T9K87YASZW</td>\n",
       "      <td>Giảm giá ngày quốc khánh</td>\n",
       "      <td>Percentage</td>\n",
       "      <td>3255120.00</td>\n",
       "      <td>Active</td>\n",
       "      <td>2025-05-03 19:33:15</td>\n",
       "      <td>2025-05-21 19:33:15</td>\n",
       "    </tr>\n",
       "    <tr>\n",
       "      <th>1</th>\n",
       "      <td>2246</td>\n",
       "      <td>002246</td>\n",
       "      <td>DBBVQG6EM829</td>\n",
       "      <td>Giảm giá ngày quốc khánh</td>\n",
       "      <td>FixedAmount</td>\n",
       "      <td>66469150.00</td>\n",
       "      <td>Active</td>\n",
       "      <td>2025-05-03 19:33:15</td>\n",
       "      <td>2025-05-24 19:33:15</td>\n",
       "    </tr>\n",
       "    <tr>\n",
       "      <th>2</th>\n",
       "      <td>2685</td>\n",
       "      <td>002685</td>\n",
       "      <td>XWPAQUOT0F16</td>\n",
       "      <td>Giảm giá ngày lễ tạ ơn</td>\n",
       "      <td>FixedAmount</td>\n",
       "      <td>623910.60</td>\n",
       "      <td>Active</td>\n",
       "      <td>2025-05-03 19:33:15</td>\n",
       "      <td>2025-05-22 19:33:15</td>\n",
       "    </tr>\n",
       "    <tr>\n",
       "      <th>3</th>\n",
       "      <td>1610</td>\n",
       "      <td>001610</td>\n",
       "      <td>WQZ7468OYTZ2</td>\n",
       "      <td>Giảm giá ngày lễ Halloween</td>\n",
       "      <td>Percentage</td>\n",
       "      <td>33840000.00</td>\n",
       "      <td>Active</td>\n",
       "      <td>2025-05-03 19:33:15</td>\n",
       "      <td>2025-05-21 19:33:15</td>\n",
       "    </tr>\n",
       "    <tr>\n",
       "      <th>4</th>\n",
       "      <td>1242</td>\n",
       "      <td>001242</td>\n",
       "      <td>7BQG7Q01JOET</td>\n",
       "      <td>Giảm giá lớn</td>\n",
       "      <td>Percentage</td>\n",
       "      <td>0.20</td>\n",
       "      <td>Active</td>\n",
       "      <td>2025-05-03 19:33:15</td>\n",
       "      <td>2025-05-19 19:33:15</td>\n",
       "    </tr>\n",
       "    <tr>\n",
       "      <th>...</th>\n",
       "      <td>...</td>\n",
       "      <td>...</td>\n",
       "      <td>...</td>\n",
       "      <td>...</td>\n",
       "      <td>...</td>\n",
       "      <td>...</td>\n",
       "      <td>...</td>\n",
       "      <td>...</td>\n",
       "      <td>...</td>\n",
       "    </tr>\n",
       "    <tr>\n",
       "      <th>995</th>\n",
       "      <td>3631</td>\n",
       "      <td>003631</td>\n",
       "      <td>YDGOYSBH5Y9P</td>\n",
       "      <td>Giảm giá cực đã</td>\n",
       "      <td>FixedAmount</td>\n",
       "      <td>8366000.00</td>\n",
       "      <td>Active</td>\n",
       "      <td>2025-05-03 19:33:16</td>\n",
       "      <td>2025-05-17 19:33:16</td>\n",
       "    </tr>\n",
       "    <tr>\n",
       "      <th>996</th>\n",
       "      <td>1366</td>\n",
       "      <td>001366</td>\n",
       "      <td>NM63HE4TIWDD</td>\n",
       "      <td>Giảm giá cực phê</td>\n",
       "      <td>Percentage</td>\n",
       "      <td>0.12</td>\n",
       "      <td>Active</td>\n",
       "      <td>2025-05-03 19:33:16</td>\n",
       "      <td>2025-05-25 19:33:16</td>\n",
       "    </tr>\n",
       "    <tr>\n",
       "      <th>997</th>\n",
       "      <td>3605</td>\n",
       "      <td>003605</td>\n",
       "      <td>E1ARYPQ08J64</td>\n",
       "      <td>Giảm giá cực mạnh</td>\n",
       "      <td>FixedAmount</td>\n",
       "      <td>0.05</td>\n",
       "      <td>Active</td>\n",
       "      <td>2025-05-03 19:33:16</td>\n",
       "      <td>2025-05-12 19:33:16</td>\n",
       "    </tr>\n",
       "    <tr>\n",
       "      <th>998</th>\n",
       "      <td>2768</td>\n",
       "      <td>002768</td>\n",
       "      <td>NGSIXKFUVHY4</td>\n",
       "      <td>Giảm giá cực đã</td>\n",
       "      <td>FixedAmount</td>\n",
       "      <td>0.06</td>\n",
       "      <td>Active</td>\n",
       "      <td>2025-05-03 19:33:16</td>\n",
       "      <td>2025-05-05 19:33:16</td>\n",
       "    </tr>\n",
       "    <tr>\n",
       "      <th>999</th>\n",
       "      <td>765</td>\n",
       "      <td>000765</td>\n",
       "      <td>HUJ2M92YKWTS</td>\n",
       "      <td>Giảm giá ngày quốc tế lao động</td>\n",
       "      <td>Percentage</td>\n",
       "      <td>10824000.00</td>\n",
       "      <td>Active</td>\n",
       "      <td>2025-05-03 19:33:16</td>\n",
       "      <td>2025-05-12 19:33:16</td>\n",
       "    </tr>\n",
       "  </tbody>\n",
       "</table>\n",
       "<p>1000 rows × 9 columns</p>\n",
       "</div>"
      ],
      "text/plain": [
       "       id product_variant_id          code                            name  \\\n",
       "0    1842             001842  K5T9K87YASZW        Giảm giá ngày quốc khánh   \n",
       "1    2246             002246  DBBVQG6EM829        Giảm giá ngày quốc khánh   \n",
       "2    2685             002685  XWPAQUOT0F16          Giảm giá ngày lễ tạ ơn   \n",
       "3    1610             001610  WQZ7468OYTZ2      Giảm giá ngày lễ Halloween   \n",
       "4    1242             001242  7BQG7Q01JOET                    Giảm giá lớn   \n",
       "..    ...                ...           ...                             ...   \n",
       "995  3631             003631  YDGOYSBH5Y9P                 Giảm giá cực đã   \n",
       "996  1366             001366  NM63HE4TIWDD                Giảm giá cực phê   \n",
       "997  3605             003605  E1ARYPQ08J64               Giảm giá cực mạnh   \n",
       "998  2768             002768  NGSIXKFUVHY4                 Giảm giá cực đã   \n",
       "999   765             000765  HUJ2M92YKWTS  Giảm giá ngày quốc tế lao động   \n",
       "\n",
       "            type        value  status           start_date  \\\n",
       "0     Percentage   3255120.00  Active  2025-05-03 19:33:15   \n",
       "1    FixedAmount  66469150.00  Active  2025-05-03 19:33:15   \n",
       "2    FixedAmount    623910.60  Active  2025-05-03 19:33:15   \n",
       "3     Percentage  33840000.00  Active  2025-05-03 19:33:15   \n",
       "4     Percentage         0.20  Active  2025-05-03 19:33:15   \n",
       "..           ...          ...     ...                  ...   \n",
       "995  FixedAmount   8366000.00  Active  2025-05-03 19:33:16   \n",
       "996   Percentage         0.12  Active  2025-05-03 19:33:16   \n",
       "997  FixedAmount         0.05  Active  2025-05-03 19:33:16   \n",
       "998  FixedAmount         0.06  Active  2025-05-03 19:33:16   \n",
       "999   Percentage  10824000.00  Active  2025-05-03 19:33:16   \n",
       "\n",
       "                end_date  \n",
       "0    2025-05-21 19:33:15  \n",
       "1    2025-05-24 19:33:15  \n",
       "2    2025-05-22 19:33:15  \n",
       "3    2025-05-21 19:33:15  \n",
       "4    2025-05-19 19:33:15  \n",
       "..                   ...  \n",
       "995  2025-05-17 19:33:16  \n",
       "996  2025-05-25 19:33:16  \n",
       "997  2025-05-12 19:33:16  \n",
       "998  2025-05-05 19:33:16  \n",
       "999  2025-05-12 19:33:16  \n",
       "\n",
       "[1000 rows x 9 columns]"
      ]
     },
     "execution_count": 149,
     "metadata": {},
     "output_type": "execute_result"
    }
   ],
   "source": [
    "discount_df"
   ]
  },
  {
   "cell_type": "code",
   "execution_count": 150,
   "id": "87fd099e",
   "metadata": {},
   "outputs": [],
   "source": [
    "discount_df.to_csv('./transformedData/discount.csv', index=False, encoding='utf-8-sig')"
   ]
  },
  {
   "cell_type": "markdown",
   "id": "35d98fcb",
   "metadata": {},
   "source": [
    "### Order"
   ]
  },
  {
   "cell_type": "markdown",
   "id": "f582afba",
   "metadata": {},
   "source": [
    "order(id, customer_id, order_date, shipping_address, status, payment_method, payment_date, payment_status, payment_amount)\n",
    "\n",
    "order_item(id, product_variant_id, order_id, quantity, unit_price, note)\n",
    "\n",
    "order_history(id, manager_id, order_id, processing_time, previous_status, new_status)"
   ]
  },
  {
   "cell_type": "code",
   "execution_count": 151,
   "id": "e5233c9f",
   "metadata": {},
   "outputs": [],
   "source": [
    "order_status_list = ['Processing', 'Cancelled', 'Rejected', 'Completed']\n",
    "manage_order_status_list = ['Pending', 'Processing', 'Cancelled', 'Completed']\n",
    "payment_status_list = ['Pending', 'Paid', 'Refunded', 'Partially Paid']\n",
    "payment_method_list = ['COD', 'Credit Card', 'Bank Transfer', 'PayPal']"
   ]
  },
  {
   "cell_type": "code",
   "execution_count": 152,
   "id": "ffe75dc6",
   "metadata": {},
   "outputs": [],
   "source": [
    "random_customer_order = account_df[account_df['status'].isin(['active', 'inactive'])][['id_y', 'address', 'created_at']].sample(n=300000, random_state=42).rename(columns={\n",
    "    'id_y': 'customer_id',\n",
    "    'address': 'shipping_address',\n",
    "    'created_at': 'created_at'\n",
    "})\n",
    "\n",
    "random_customer_order_tuples = [\n",
    "    (row['customer_id'], row['shipping_address'], row['created_at']) for _, row in random_customer_order.iterrows()\n",
    "]"
   ]
  },
  {
   "cell_type": "code",
   "execution_count": 153,
   "id": "8d5577f7",
   "metadata": {},
   "outputs": [
    {
     "data": {
      "text/html": [
       "<div>\n",
       "<style scoped>\n",
       "    .dataframe tbody tr th:only-of-type {\n",
       "        vertical-align: middle;\n",
       "    }\n",
       "\n",
       "    .dataframe tbody tr th {\n",
       "        vertical-align: top;\n",
       "    }\n",
       "\n",
       "    .dataframe thead th {\n",
       "        text-align: right;\n",
       "    }\n",
       "</style>\n",
       "<table border=\"1\" class=\"dataframe\">\n",
       "  <thead>\n",
       "    <tr style=\"text-align: right;\">\n",
       "      <th></th>\n",
       "      <th>id</th>\n",
       "      <th>price</th>\n",
       "    </tr>\n",
       "  </thead>\n",
       "  <tbody>\n",
       "    <tr>\n",
       "      <th>1842</th>\n",
       "      <td>001842</td>\n",
       "      <td>3699000</td>\n",
       "    </tr>\n",
       "    <tr>\n",
       "      <th>2246</th>\n",
       "      <td>002246</td>\n",
       "      <td>78199000</td>\n",
       "    </tr>\n",
       "    <tr>\n",
       "      <th>2685</th>\n",
       "      <td>002685</td>\n",
       "      <td>656748</td>\n",
       "    </tr>\n",
       "    <tr>\n",
       "      <th>1610</th>\n",
       "      <td>001610</td>\n",
       "      <td>36000000</td>\n",
       "    </tr>\n",
       "    <tr>\n",
       "      <th>1242</th>\n",
       "      <td>001242</td>\n",
       "      <td>8960000</td>\n",
       "    </tr>\n",
       "    <tr>\n",
       "      <th>...</th>\n",
       "      <td>...</td>\n",
       "      <td>...</td>\n",
       "    </tr>\n",
       "    <tr>\n",
       "      <th>3631</th>\n",
       "      <td>003631</td>\n",
       "      <td>8900000</td>\n",
       "    </tr>\n",
       "    <tr>\n",
       "      <th>1366</th>\n",
       "      <td>001366</td>\n",
       "      <td>8490000</td>\n",
       "    </tr>\n",
       "    <tr>\n",
       "      <th>3605</th>\n",
       "      <td>003605</td>\n",
       "      <td>26900000</td>\n",
       "    </tr>\n",
       "    <tr>\n",
       "      <th>2768</th>\n",
       "      <td>002768</td>\n",
       "      <td>625650</td>\n",
       "    </tr>\n",
       "    <tr>\n",
       "      <th>765</th>\n",
       "      <td>000765</td>\n",
       "      <td>12300000</td>\n",
       "    </tr>\n",
       "  </tbody>\n",
       "</table>\n",
       "<p>1000 rows × 2 columns</p>\n",
       "</div>"
      ],
      "text/plain": [
       "          id     price\n",
       "1842  001842   3699000\n",
       "2246  002246  78199000\n",
       "2685  002685    656748\n",
       "1610  001610  36000000\n",
       "1242  001242   8960000\n",
       "...      ...       ...\n",
       "3631  003631   8900000\n",
       "1366  001366   8490000\n",
       "3605  003605  26900000\n",
       "2768  002768    625650\n",
       "765   000765  12300000\n",
       "\n",
       "[1000 rows x 2 columns]"
      ]
     },
     "execution_count": 153,
     "metadata": {},
     "output_type": "execute_result"
    }
   ],
   "source": [
    "random_product_variant_order = product_variant[['id', 'price']].sample(n=1000, random_state=42)\n",
    "random_product_variant_order"
   ]
  },
  {
   "cell_type": "code",
   "execution_count": 154,
   "id": "5a36061b",
   "metadata": {},
   "outputs": [
    {
     "data": {
      "text/plain": [
       "array([170, 168, 125, 167, 124, 166, 122, 121, 164, 120,   5,  85,  84,\n",
       "       160,  80,  79,  10,  11, 156,  12, 155,  76, 153,  75,   1, 149,\n",
       "        71, 118,  14, 117,  29, 146, 145, 144,  19, 112,  33, 111, 142,\n",
       "        63,  21, 141,  62, 140,  59,  60, 198,  58,  15, 137,  57, 196,\n",
       "        56,   0, 194,  53,  27, 191,  52,  49, 187,  48, 186, 182, 100,\n",
       "        42, 134,  99,  41, 133,  40, 131, 130, 129,  95,  36, 128, 174,\n",
       "        94, 127,  92, 126,  91])"
      ]
     },
     "execution_count": 154,
     "metadata": {},
     "output_type": "execute_result"
    }
   ],
   "source": [
    "random_product_manager_id = manager_df[manager_df['role_id'] == 2]['id'].unique()\n",
    "random_product_manager_id"
   ]
  },
  {
   "cell_type": "code",
   "execution_count": 155,
   "id": "ab0da6c1",
   "metadata": {},
   "outputs": [
    {
     "data": {
      "text/html": [
       "<div>\n",
       "<style scoped>\n",
       "    .dataframe tbody tr th:only-of-type {\n",
       "        vertical-align: middle;\n",
       "    }\n",
       "\n",
       "    .dataframe tbody tr th {\n",
       "        vertical-align: top;\n",
       "    }\n",
       "\n",
       "    .dataframe thead th {\n",
       "        text-align: right;\n",
       "    }\n",
       "</style>\n",
       "<table border=\"1\" class=\"dataframe\">\n",
       "  <thead>\n",
       "    <tr style=\"text-align: right;\">\n",
       "      <th></th>\n",
       "      <th>id</th>\n",
       "      <th>account_id</th>\n",
       "      <th>phone_number</th>\n",
       "      <th>address</th>\n",
       "    </tr>\n",
       "  </thead>\n",
       "  <tbody>\n",
       "    <tr>\n",
       "      <th>0</th>\n",
       "      <td>9097</td>\n",
       "      <td>181656</td>\n",
       "      <td>895077865</td>\n",
       "      <td>Xã Ngũ Phúc, Huyện Kim Thành, Tỉnh Hải Dương</td>\n",
       "    </tr>\n",
       "    <tr>\n",
       "      <th>1</th>\n",
       "      <td>12359</td>\n",
       "      <td>942479</td>\n",
       "      <td>799693867</td>\n",
       "      <td>Phường Tân Tạo A, Quận Bình Tân, Thành phố Hồ ...</td>\n",
       "    </tr>\n",
       "    <tr>\n",
       "      <th>2</th>\n",
       "      <td>9096</td>\n",
       "      <td>538186</td>\n",
       "      <td>854784163</td>\n",
       "      <td>Xã Ia RMok, Huyện Krông Pa, Tỉnh Gia Lai</td>\n",
       "    </tr>\n",
       "    <tr>\n",
       "      <th>3</th>\n",
       "      <td>12358</td>\n",
       "      <td>741616</td>\n",
       "      <td>850627329</td>\n",
       "      <td>Xã Nhơn Nghĩa, Huyện Phong Điền, Thành phố Cần...</td>\n",
       "    </tr>\n",
       "    <tr>\n",
       "      <th>4</th>\n",
       "      <td>9095</td>\n",
       "      <td>830350</td>\n",
       "      <td>914802883</td>\n",
       "      <td>Thị trấn Bắc Hà, Huyện Bắc Hà, Tỉnh Lào Cai</td>\n",
       "    </tr>\n",
       "    <tr>\n",
       "      <th>...</th>\n",
       "      <td>...</td>\n",
       "      <td>...</td>\n",
       "      <td>...</td>\n",
       "      <td>...</td>\n",
       "    </tr>\n",
       "    <tr>\n",
       "      <th>999795</th>\n",
       "      <td>999795</td>\n",
       "      <td>995325</td>\n",
       "      <td>864759815</td>\n",
       "      <td>Xã Trà Nam, Huyện Nam Trà My, Tỉnh Quảng Nam</td>\n",
       "    </tr>\n",
       "    <tr>\n",
       "      <th>999796</th>\n",
       "      <td>999796</td>\n",
       "      <td>537859</td>\n",
       "      <td>915667946</td>\n",
       "      <td>Xã Dần Thàng, Huyện Văn Bàn, Tỉnh Lào Cai</td>\n",
       "    </tr>\n",
       "    <tr>\n",
       "      <th>999797</th>\n",
       "      <td>999797</td>\n",
       "      <td>182847</td>\n",
       "      <td>902786359</td>\n",
       "      <td>Xã Trung Giã, Huyện Sóc Sơn, Thành phố Hà Nội</td>\n",
       "    </tr>\n",
       "    <tr>\n",
       "      <th>999798</th>\n",
       "      <td>999798</td>\n",
       "      <td>513559</td>\n",
       "      <td>886485769</td>\n",
       "      <td>Thị trấn Sa Thầy, Huyện Sa Thầy, Tỉnh Kon Tum</td>\n",
       "    </tr>\n",
       "    <tr>\n",
       "      <th>999799</th>\n",
       "      <td>999799</td>\n",
       "      <td>251205</td>\n",
       "      <td>920706754</td>\n",
       "      <td>Phường Hưng Chiến, Thị xã Bình Long, Tỉnh Bình...</td>\n",
       "    </tr>\n",
       "  </tbody>\n",
       "</table>\n",
       "<p>999800 rows × 4 columns</p>\n",
       "</div>"
      ],
      "text/plain": [
       "            id  account_id  phone_number  \\\n",
       "0         9097      181656     895077865   \n",
       "1        12359      942479     799693867   \n",
       "2         9096      538186     854784163   \n",
       "3        12358      741616     850627329   \n",
       "4         9095      830350     914802883   \n",
       "...        ...         ...           ...   \n",
       "999795  999795      995325     864759815   \n",
       "999796  999796      537859     915667946   \n",
       "999797  999797      182847     902786359   \n",
       "999798  999798      513559     886485769   \n",
       "999799  999799      251205     920706754   \n",
       "\n",
       "                                                  address  \n",
       "0            Xã Ngũ Phúc, Huyện Kim Thành, Tỉnh Hải Dương  \n",
       "1       Phường Tân Tạo A, Quận Bình Tân, Thành phố Hồ ...  \n",
       "2                Xã Ia RMok, Huyện Krông Pa, Tỉnh Gia Lai  \n",
       "3       Xã Nhơn Nghĩa, Huyện Phong Điền, Thành phố Cần...  \n",
       "4             Thị trấn Bắc Hà, Huyện Bắc Hà, Tỉnh Lào Cai  \n",
       "...                                                   ...  \n",
       "999795       Xã Trà Nam, Huyện Nam Trà My, Tỉnh Quảng Nam  \n",
       "999796          Xã Dần Thàng, Huyện Văn Bàn, Tỉnh Lào Cai  \n",
       "999797      Xã Trung Giã, Huyện Sóc Sơn, Thành phố Hà Nội  \n",
       "999798      Thị trấn Sa Thầy, Huyện Sa Thầy, Tỉnh Kon Tum  \n",
       "999799  Phường Hưng Chiến, Thị xã Bình Long, Tỉnh Bình...  \n",
       "\n",
       "[999800 rows x 4 columns]"
      ]
     },
     "execution_count": 155,
     "metadata": {},
     "output_type": "execute_result"
    }
   ],
   "source": [
    "customer_df"
   ]
  },
  {
   "cell_type": "code",
   "execution_count": 156,
   "id": "d6d17892",
   "metadata": {},
   "outputs": [
    {
     "data": {
      "text/plain": [
       "[(512655.0, 'Xã Yên Cư, Huyện Chợ Mới, Tỉnh Bắc Kạn', '2023-12-03'),\n",
       " (806245.0,\n",
       "  'Phường Song Mai, Thành phố Bắc Giang, Tỉnh Bắc Giang',\n",
       "  '2023-09-05'),\n",
       " (648871.0, 'Xã Đồng Tiến, Huyện Đồng Phú, Tỉnh Bình Phước', '2025-01-27'),\n",
       " (985924.0, 'Xã Ninh Phước, Huyện Quế Sơn, Tỉnh Quảng Nam', '2023-04-23'),\n",
       " (480190.0, 'Xã Tân Thanh, Huyện Lạng Giang, Tỉnh Bắc Giang', '2024-03-28'),\n",
       " (265180.0, 'Xã Quảng Phú, Huyện Thọ Xuân, Tỉnh Thanh Hóa', '2024-11-17'),\n",
       " (915133.0, 'Xã Thanh Hòa, Huyện Bù Đốp, Tỉnh Bình Phước', '2025-02-05'),\n",
       " (643180.0, \"Xã Krông Jing, Huyện M'Đrắk, Tỉnh Đắk Lắk\", '2023-03-05'),\n",
       " (188108.0,\n",
       "  'Phường Đồng Sơn, Thành phố Bắc Giang, Tỉnh Bắc Giang',\n",
       "  '2024-08-17'),\n",
       " (700169.0, 'Xã Tân Long, Huyện Đồng Hỷ, Tỉnh Thái Nguyên', '2024-12-24'),\n",
       " (690453.0,\n",
       "  'Phường Vĩnh Tân, Thành phố Tân Uyên, Tỉnh Bình Dương',\n",
       "  '2024-07-07'),\n",
       " (751236.0, 'Xã Quỳnh Bảng, Huyện Quỳnh Lưu, Tỉnh Nghệ An', '2024-04-12'),\n",
       " (582721.0, 'Xã Cư Pui, Huyện Krông Bông, Tỉnh Đắk Lắk', '2024-05-16'),\n",
       " (567891.0, 'Xã Yên Trường, Huyện Yên Định, Tỉnh Thanh Hóa', '2023-01-30'),\n",
       " (130259.0, 'Xã Trung Phúc, Huyện Trùng Khánh, Tỉnh Cao Bằng', '2023-12-25'),\n",
       " (515524.0, 'Xã Ngọc Hồi, Huyện Thanh Trì, Thành phố Hà Nội', '2023-05-18'),\n",
       " (992465.0, 'Xã Trà Dương, Huyện Bắc Trà My, Tỉnh Quảng Nam', '2024-03-10'),\n",
       " (850274.0,\n",
       "  'Xã Phước Đồng, Thành phố Nha Trang, Tỉnh Khánh Hòa',\n",
       "  '2024-12-22'),\n",
       " (660938.0, 'Xã Vĩnh Bình, Huyện Hoà Bình, Tỉnh Bạc Liêu', '2024-05-30'),\n",
       " (164269.0, 'Xã Hòa Sơn, Huyện Đô Lương, Tỉnh Nghệ An', '2024-03-23'),\n",
       " (902585.0, 'Xã Thái Bảo, Huyện Gia Bình, Tỉnh Bắc Ninh', '2023-04-13'),\n",
       " (222572.0,\n",
       "  'Thị trấn Phùng, Huyện Đan Phượng, Thành phố Hà Nội',\n",
       "  '2023-09-04'),\n",
       " (605185.0, 'Xã Trung Thành, Huyện Vụ Bản, Tỉnh Nam Định', '2024-07-16'),\n",
       " (535821.0, 'Xã Ya Hội, Huyện Đăk Pơ, Tỉnh Gia Lai', '2023-05-01'),\n",
       " (607797.0, 'Xã Quy Kỳ, Huyện Định Hóa, Tỉnh Thái Nguyên', '2024-11-27'),\n",
       " (260297.0, 'Xã Phú Hưng, Huyện Phú Tân, Tỉnh An Giang', '2024-07-04'),\n",
       " (930605.0, 'Xã Mai Đình, Huyện Sóc Sơn, Thành phố Hà Nội', '2024-11-03'),\n",
       " (749058.0, 'Xã Tuyết Nghĩa, Huyện Quốc Oai, Thành phố Hà Nội', '2023-06-06'),\n",
       " (470189.0, 'Xã Hưng Yên, Huyện An Biên, Tỉnh Kiên Giang', '2024-03-05'),\n",
       " (51020.0, 'Xã Mường Sại, Huyện Quỳnh Nhai, Tỉnh Sơn La', '2023-06-19'),\n",
       " (578489.0, 'Xã Tân Ân Tây, Huyện Ngọc Hiển, Tỉnh Cà Mau', '2024-04-17'),\n",
       " (630970.0,\n",
       "  'Xã An Minh Bắc, Huyện U Minh Thượng, Tỉnh Kiên Giang',\n",
       "  '2023-08-27'),\n",
       " (953310.0, 'Xã Ninh Thạnh Lợi, Huyện Hồng Dân, Tỉnh Bạc Liêu', '2024-04-24'),\n",
       " (723725.0, 'Xã Đan Phượng, Huyện Lâm Hà, Tỉnh Lâm Đồng', '2024-01-15'),\n",
       " (518384.0, 'Xã Ka Đơn, Huyện Đơn Dương, Tỉnh Lâm Đồng', '2023-11-28'),\n",
       " (893847.0, 'Xã Chư Don, Huyện Chư Pưh, Tỉnh Gia Lai', '2023-12-20'),\n",
       " (97155.0, 'Xã Nhị Trường, Huyện Cầu Ngang, Tỉnh Trà Vinh', '2024-03-02'),\n",
       " (22761.0, 'Xã Khánh Hòa, Huyện Yên Khánh, Tỉnh Ninh Bình', '2024-10-23'),\n",
       " (866544.0, 'Xã Tân Hoa, Huyện Lục Ngạn, Tỉnh Bắc Giang', '2023-02-20'),\n",
       " (866522.0, 'Xã Thanh Tùng, Huyện Thanh Chương, Tỉnh Nghệ An', '2025-03-03'),\n",
       " (785265.0, 'Xã Nam Chính, Huyện Tiền Hải, Tỉnh Thái Bình', '2023-12-15'),\n",
       " (757122.0, 'Phường 14, Quận 8, Thành phố Hồ Chí Minh', '2024-04-12'),\n",
       " (858931.0, 'Xã Bảo Nam, Huyện Kỳ Sơn, Tỉnh Nghệ An', '2023-10-21'),\n",
       " (660469.0,\n",
       "  'Xã Khánh Bình Tây Bắc, Huyện Trần Văn Thời, Tỉnh Cà Mau',\n",
       "  '2023-12-09'),\n",
       " (441514.0, 'Xã Ia RMok, Huyện Krông Pa, Tỉnh Gia Lai', '2025-03-05'),\n",
       " (951879.0, 'Phường La Khê, Quận Hà Đông, Thành phố Hà Nội', '2024-06-15'),\n",
       " (523780.0, 'Xã Long Sơn, Huyện Cầu Ngang, Tỉnh Trà Vinh', '2024-05-01'),\n",
       " (503065.0,\n",
       "  'Phường Cam Thuận, Thành phố Cam Ranh, Tỉnh Khánh Hòa',\n",
       "  '2025-01-13'),\n",
       " (536597.0, 'Xã Hòa Phú, Huyện Long Hồ, Tỉnh Vĩnh Long', '2024-05-20'),\n",
       " (895234.0, 'Xã Thạch Lâm, Huyện Thạch Thành, Tỉnh Thanh Hóa', '2024-06-21'),\n",
       " (970964.0,\n",
       "  'Phường Quảng Thọ, Thành phố Sầm Sơn, Tỉnh Thanh Hóa',\n",
       "  '2024-03-13'),\n",
       " (566740.0,\n",
       "  'Phường Yên Đức, Thành phố Đông Triều, Tỉnh Quảng Ninh',\n",
       "  '2023-07-10'),\n",
       " (733483.0,\n",
       "  'Phường Hà Phong, Thành phố Hạ Long, Tỉnh Quảng Ninh',\n",
       "  '2023-10-03'),\n",
       " (787558.0, 'Xã Thành Trực, Huyện Thạch Thành, Tỉnh Thanh Hóa', '2024-01-13'),\n",
       " (673701.0,\n",
       "  'Thị trấn Nhân Thắng, Huyện Gia Bình, Tỉnh Bắc Ninh',\n",
       "  '2023-01-15'),\n",
       " (851801.0, 'Phường Ba Đình, Thị xã Bỉm Sơn, Tỉnh Thanh Hóa', '2024-11-12'),\n",
       " (147105.0, 'Xã Định Tăng, Huyện Yên Định, Tỉnh Thanh Hóa', '2023-04-27'),\n",
       " (544472.0, 'Xã Trà Mai, Huyện Nam Trà My, Tỉnh Quảng Nam', '2024-12-14'),\n",
       " (634402.0, 'Thị trấn Sơn Lư, Huyện Quan Sơn, Tỉnh Thanh Hóa', '2024-04-27'),\n",
       " (56734.0, 'Xã Minh Thắng, Huyện Cẩm Khê, Tỉnh Phú Thọ', '2023-09-12'),\n",
       " (220591.0, 'Xã Sông Trà, Huyện Hiệp Đức, Tỉnh Quảng Nam', '2024-03-18'),\n",
       " (946287.0, 'Phường 1, Thành phố Bạc Liêu, Tỉnh Bạc Liêu', '2023-10-27'),\n",
       " (512344.0, 'Xã Minh Khôi, Huyện Nông Cống, Tỉnh Thanh Hóa', '2024-09-08'),\n",
       " (927439.0, 'Xã Xuân Sơn, Huyện Tân Sơn, Tỉnh Phú Thọ', '2023-01-15'),\n",
       " (710568.0, 'Xã Thạch Thắng, Thành phố Hà Tĩnh, Tỉnh Hà Tĩnh', '2024-08-28'),\n",
       " (535496.0, 'Xã Châu Quang, Huyện Quỳ Hợp, Tỉnh Nghệ An', '2024-03-03'),\n",
       " (499574.0, 'Xã Ea Na, Huyện Krông A Na, Tỉnh Đắk Lắk', '2023-04-09'),\n",
       " (103807.0, 'Xã Trường Giang, Huyện Nông Cống, Tỉnh Thanh Hóa', '2024-02-27'),\n",
       " (206530.0, 'Xã Tân An, Huyện Văn Bàn, Tỉnh Lào Cai', '2024-05-08'),\n",
       " (354208.0, 'Xã Trung Môn, Huyện Yên Sơn, Tỉnh Tuyên Quang', '2025-02-10'),\n",
       " (334283.0, 'Xã Cam An Nam, Huyện Cam Lâm, Tỉnh Khánh Hòa', '2023-08-01'),\n",
       " (474144.0, 'Xã Thuận Phú, Huyện Đồng Phú, Tỉnh Bình Phước', '2023-02-19'),\n",
       " (726213.0, 'Xã Sơn Đà, Huyện Ba Vì, Thành phố Hà Nội', '2023-04-20'),\n",
       " (44565.0, 'Thị trấn Plei Kần, Huyện Ngọc Hồi, Tỉnh Kon Tum', '2023-06-24'),\n",
       " (796849.0, 'Xã Chư KBô, Huyện Krông Búk, Tỉnh Đắk Lắk', '2024-12-19'),\n",
       " (338107.0, 'Xã Phúc Hòa, Huyện Phúc Thọ, Thành phố Hà Nội', '2023-06-11'),\n",
       " (832492.0, 'Xã Ninh Thọ, Thị xã Ninh Hòa, Tỉnh Khánh Hòa', '2024-02-04'),\n",
       " (677683.0,\n",
       "  'Phường Nghĩa Lộ, Thành phố Quảng Ngãi, Tỉnh Quảng Ngãi',\n",
       "  '2023-03-13'),\n",
       " (59232.0, 'Xã Tân Triều, Huyện Thanh Trì, Thành phố Hà Nội', '2023-03-23'),\n",
       " (952558.0, 'Xã Nậm Chảy, Huyện Mường Khương, Tỉnh Lào Cai', '2023-04-19'),\n",
       " (297708.0, 'Xã Bình Thạnh, Huyện Thủ Thừa, Tỉnh Long An', '2024-01-29'),\n",
       " (836715.0, 'Xã Tân Mỹ, Huyện Trà Ôn, Tỉnh Vĩnh Long', '2024-04-08'),\n",
       " (876072.0, 'Xã Nam Tiến, Huyện Nam Trực, Tỉnh Nam Định', '2023-10-08'),\n",
       " (981442.0,\n",
       "  'Xã Quảng Thạch, Huyện Quảng Trạch, Tỉnh Quảng Bình',\n",
       "  '2023-06-24'),\n",
       " (28057.0, 'Xã Thái Xuyên, Huyện Thái Thụy, Tỉnh Thái Bình', '2024-09-29'),\n",
       " (682331.0, 'Xã Đồng Tân, Huyện Mai Châu, Tỉnh Hoà Bình', '2024-07-13'),\n",
       " (642218.0, 'Phường 5, Quận 11, Thành phố Hồ Chí Minh', '2023-03-26'),\n",
       " (655880.0, 'Xã Phổ Phong, Thị xã Đức Phổ, Tỉnh Quảng Ngãi', '2023-11-21'),\n",
       " (930171.0, 'Thị trấn Phú Lộc, Huyện Phú Lộc, Thành phố Huế', '2025-03-25'),\n",
       " (710377.0, 'Xã Đa Lộc, Huyện Ân Thi, Tỉnh Hưng Yên', '2023-10-30'),\n",
       " (415522.0, 'Xã Hiệp Thạnh, Huyện Gò Dầu, Tỉnh Tây Ninh', '2023-03-20'),\n",
       " (916539.0, 'Xã Xuân Hòa, Huyện Như Xuân, Tỉnh Thanh Hóa', '2025-01-06'),\n",
       " (16183.0, 'Xã Tân Hà, Huyện Lâm Hà, Tỉnh Lâm Đồng', '2024-05-01'),\n",
       " (547573.0, 'Xã Yên Hòa, Huyện Tương Dương, Tỉnh Nghệ An', '2023-12-04'),\n",
       " (333545.0, 'Xã Thượng Cốc, Huyện Lạc Sơn, Tỉnh Hoà Bình', '2025-03-25'),\n",
       " (427833.0, 'Phường 7, Thành phố Trà Vinh, Tỉnh Trà Vinh', '2023-04-25'),\n",
       " (126713.0, 'Xã Đông Hòa Hiệp, Huyện Cái Bè, Tỉnh Tiền Giang', '2024-01-20'),\n",
       " (277161.0, 'Xã Chiềng Sung, Huyện Mai Sơn, Tỉnh Sơn La', '2023-11-04'),\n",
       " (85640.0, 'Xã Cư Jang, Huyện Ea Kar, Tỉnh Đắk Lắk', '2023-07-18'),\n",
       " (640459.0, 'Xã Bình Nhân, Huyện Chiêm Hóa, Tỉnh Tuyên Quang', '2023-12-05'),\n",
       " (264874.0, 'Xã Ea Tu, Thành phố Buôn Ma Thuột, Tỉnh Đắk Lắk', '2025-04-15'),\n",
       " (239361.0, 'Xã Long Phú, Thị xã Long Mỹ, Tỉnh Hậu Giang', '2024-02-03'),\n",
       " (2052.0, 'Xã Phú An, Huyện Tân Phú, Tỉnh Đồng Nai', '2023-10-21'),\n",
       " (841000.0, 'Xã Phương Thịnh, Huyện Cao Lãnh, Tỉnh Đồng Tháp', '2024-05-10'),\n",
       " (555756.0, 'Xã Tiên Sơn, Huyện Tiên Phước, Tỉnh Quảng Nam', '2024-03-07'),\n",
       " (533700.0, 'Xã Đắk Blà, Thành phố Kon Tum, Tỉnh Kon Tum', '2025-01-25'),\n",
       " (583153.0, 'Xã Đất Bằng, Huyện Krông Pa, Tỉnh Gia Lai', '2024-09-06'),\n",
       " (41359.0, 'Xã Trương Lương, Huyện Hoà An, Tỉnh Cao Bằng', '2024-09-12'),\n",
       " (697598.0, 'Xã Đắk Môl, Huyện Đắk Song, Tỉnh Đắk Nông', '2024-01-18'),\n",
       " (339802.0, 'Phường Bắc Hồng, Thị xã Hồng Lĩnh, Tỉnh Hà Tĩnh', '2023-05-22'),\n",
       " (181534.0,\n",
       "  'Phường Nam Thành, Thành phố Hoa Lư, Tỉnh Ninh Bình',\n",
       "  '2024-01-06'),\n",
       " (890531.0, 'Xã Hòa Châu, Huyện Hòa Vang, Thành phố Đà Nẵng', '2024-07-05'),\n",
       " (841548.0, 'Xã Bình Chương, Huyện Bình Sơn, Tỉnh Quảng Ngãi', '2023-09-19'),\n",
       " (286741.0, 'Xã Nghị Đức, Huyện Tánh Linh, Tỉnh Bình Thuận', '2024-02-05'),\n",
       " (753389.0, 'Xã Thành Thọ, Huyện Thạch Thành, Tỉnh Thanh Hóa', '2024-01-25'),\n",
       " (566090.0,\n",
       "  'Phường Xuân Hoà, Thành phố Phúc Yên, Tỉnh Vĩnh Phúc',\n",
       "  '2023-03-11'),\n",
       " (706244.0, 'Xã Yên Phú, Huyện Yên Định, Tỉnh Thanh Hóa', '2023-10-06'),\n",
       " (523087.0, 'Xã Ngọc Động, Huyện Hà Quảng, Tỉnh Cao Bằng', '2024-05-03'),\n",
       " (858336.0, 'Xã Nuông Dăm, Huyện Kim Bôi, Tỉnh Hoà Bình', '2023-09-07'),\n",
       " (204090.0, 'Phường Tân Hòa, Thành phố Biên Hòa, Tỉnh Đồng Nai', '2024-12-16'),\n",
       " (224501.0, 'Xã Mỹ Hưng, Huyện Thạnh Phú, Tỉnh Bến Tre', '2023-01-14'),\n",
       " (334883.0, 'Xã Ân Hảo Tây, Huyện Hoài Ân, Tỉnh Bình Định', '2023-05-31'),\n",
       " (327303.0, 'Xã Thạch Định, Huyện Thạch Thành, Tỉnh Thanh Hóa', '2025-04-22'),\n",
       " (357160.0,\n",
       "  'Phường An Dương, Quận Lê Chân, Thành phố Hải Phòng',\n",
       "  '2023-05-09'),\n",
       " (663338.0, 'Xã Châu Hòa, Huyện Giồng Trôm, Tỉnh Bến Tre', '2024-06-30'),\n",
       " (824705.0, 'Xã Tê Xăng, Huyện Tu Mơ Rông, Tỉnh Kon Tum', '2023-04-20'),\n",
       " (898861.0, 'Xã Hợp Lý, Huyện Lập Thạch, Tỉnh Vĩnh Phúc', '2024-08-16'),\n",
       " (779470.0, 'Xã Yên Kỳ, Huyện Hạ Hoà, Tỉnh Phú Thọ', '2024-07-29'),\n",
       " (986638.0, 'Xã Quang Trung, Huyện Bình Gia, Tỉnh Lạng Sơn', '2024-10-01'),\n",
       " (457696.0, 'Xã Định Hiệp, Huyện Dầu Tiếng, Tỉnh Bình Dương', '2023-12-05'),\n",
       " (598573.0, 'Xã Đại Lịch, Huyện Văn Chấn, Tỉnh Yên Bái', '2024-11-17'),\n",
       " (19674.0, 'Xã Đỗ Sơn, Huyện Thanh Ba, Tỉnh Phú Thọ', '2023-06-24'),\n",
       " (184111.0, 'Xã Mỹ Lộc, Huyện Hậu Lộc, Tỉnh Thanh Hóa', '2024-07-10'),\n",
       " (407922.0, 'Xã Phú Minh, Huyện Sóc Sơn, Thành phố Hà Nội', '2024-01-06'),\n",
       " (566378.0, 'Xã Quỳnh Lâm, Huyện Quỳnh Lưu, Tỉnh Nghệ An', '2024-07-13'),\n",
       " (851299.0, 'Xã Đông Lĩnh, Huyện Thanh Ba, Tỉnh Phú Thọ', '2024-11-16'),\n",
       " (801769.0, 'Xã Yang Nam, Huyện Kông Chro, Tỉnh Gia Lai', '2023-01-09'),\n",
       " (899466.0, 'Xã Yên Mạc, Huyện Yên Mô, Tỉnh Ninh Bình', '2024-02-20'),\n",
       " (666530.0, 'Xã An Ngãi Trung, Huyện Ba Tri, Tỉnh Bến Tre', '2024-12-21'),\n",
       " (965811.0, 'Xã Vạn Thắng, Huyện Vạn Ninh, Tỉnh Khánh Hòa', '2023-04-07'),\n",
       " (698466.0,\n",
       "  'Thị trấn Phú Minh, Huyện Phú Xuyên, Thành phố Hà Nội',\n",
       "  '2024-07-14'),\n",
       " (793571.0, 'Phường Tịnh Biên, Thị xã Tịnh Biên, Tỉnh An Giang', '2024-04-27'),\n",
       " (138946.0, 'Xã Lâm Trạch, Huyện Bố Trạch, Tỉnh Quảng Bình', '2024-01-12'),\n",
       " (931404.0, 'Xã Bình Phước, Huyện Mang Thít, Tỉnh Vĩnh Long', '2025-01-12'),\n",
       " (50201.0, 'Xã Cần Yên, Huyện Hà Quảng, Tỉnh Cao Bằng', '2024-06-15'),\n",
       " (575471.0, 'Xã Nam Cát, Huyện Nam Đàn, Tỉnh Nghệ An', '2023-08-14'),\n",
       " (197800.0, 'Xã Thanh Lâm, Huyện Như Xuân, Tỉnh Thanh Hóa', '2024-10-15'),\n",
       " (706977.0, 'Xã Nga Liên, Huyện Nga Sơn, Tỉnh Thanh Hóa', '2023-10-15'),\n",
       " (81959.0, 'Phường Thụy Khuê, Quận Tây Hồ, Thành phố Hà Nội', '2024-03-05'),\n",
       " (858086.0,\n",
       "  'Phường Long Thạnh Mỹ, Thành phố Thủ Đức, Thành phố Hồ Chí Minh',\n",
       "  '2023-01-15'),\n",
       " (377732.0, 'Xã Dak Lua, Huyện Tân Phú, Tỉnh Đồng Nai', '2024-01-30'),\n",
       " (782576.0, 'Xã Đăk Tơ Pang, Huyện Kông Chro, Tỉnh Gia Lai', '2023-01-10'),\n",
       " (521343.0, 'Xã Đạp Thanh, Huyện Ba Chẽ, Tỉnh Quảng Ninh', '2024-01-05'),\n",
       " (861502.0, 'Xã Chiềng Ve, Huyện Mai Sơn, Tỉnh Sơn La', '2024-04-12'),\n",
       " (153650.0, 'Xã Bình Sơn, Huyện Hiệp Đức, Tỉnh Quảng Nam', '2025-03-10'),\n",
       " (655443.0, 'Xã Lộc Hòa, Huyện Lộc Ninh, Tỉnh Bình Phước', '2024-08-25'),\n",
       " (685886.0, 'Xã Tân Phú, Huyện Tân Kỳ, Tỉnh Nghệ An', '2025-04-21'),\n",
       " (798245.0, 'Xã Quảng Tiến, Huyện Quảng Trạch, Tỉnh Quảng Bình', '2023-02-22'),\n",
       " (486112.0, 'Xã Kiên Thành, Thị xã Chũ, Tỉnh Bắc Giang', '2024-09-15'),\n",
       " (769769.0, 'Xã Xuân Thành, Huyện Nghi Xuân, Tỉnh Hà Tĩnh', '2023-02-16'),\n",
       " (679511.0, 'Thị trấn Trà My, Huyện Bắc Trà My, Tỉnh Quảng Nam', '2023-12-15'),\n",
       " (940647.0, 'Phường I, Thành phố Vị Thanh, Tỉnh Hậu Giang', '2023-01-18'),\n",
       " (651246.0, 'Xã Trung Hưng, Huyện Cờ Đỏ, Thành phố Cần Thơ', '2025-01-07'),\n",
       " (797255.0,\n",
       "  'Phường Linh Đông, Thành phố Thủ Đức, Thành phố Hồ Chí Minh',\n",
       "  '2023-05-20'),\n",
       " (498409.0, 'Xã Ia Nan, Huyện Đức Cơ, Tỉnh Gia Lai', '2023-10-31'),\n",
       " (707171.0, 'Xã Tân Minh, Huyện Thanh Sơn, Tỉnh Phú Thọ', '2023-05-17'),\n",
       " (776400.0, 'Xã Điện Thọ, Thị xã Điện Bàn, Tỉnh Quảng Nam', '2023-10-15'),\n",
       " (797348.0, 'Xã Vinh Xuân, Huyện Phú Vang, Thành phố Huế', '2023-10-07'),\n",
       " (710907.0, 'Phường Hợp Minh, Thành phố Yên Bái, Tỉnh Yên Bái', '2025-01-06'),\n",
       " (288363.0, 'Xã Hà Bắc, Huyện Hà Trung, Tỉnh Thanh Hóa', '2023-05-07'),\n",
       " (190254.0, 'Xã Tam Đa, Huyện Phù Cừ, Tỉnh Hưng Yên', '2024-11-05'),\n",
       " (665306.0,\n",
       "  'Phường Đồng Nguyên, Thành phố Từ Sơn, Tỉnh Bắc Ninh',\n",
       "  '2023-09-10'),\n",
       " (656090.0, 'Phường Kỳ Ninh, Thị xã Kỳ Anh, Tỉnh Hà Tĩnh', '2023-10-13'),\n",
       " (793153.0, 'Xã Đồng Lương, Huyện Lang Chánh, Tỉnh Thanh Hóa', '2023-06-17'),\n",
       " (266308.0, 'Xã Khánh An, Huyện Yên Khánh, Tỉnh Ninh Bình', '2024-12-22'),\n",
       " (274068.0, 'Xã Dũng Tiến, Huyện Thường Tín, Thành phố Hà Nội', '2024-07-20'),\n",
       " (201955.0, 'Xã Hồng Dương, Huyện Thanh Oai, Thành phố Hà Nội', '2023-02-01'),\n",
       " (10432.0,\n",
       "  'Phường Thanh Sơn, Thành phố Uông Bí, Tỉnh Quảng Ninh',\n",
       "  '2023-05-15'),\n",
       " (650106.0, 'Xã Thanh Hải, Huyện Thanh Hà, Tỉnh Hải Dương', '2024-01-07'),\n",
       " (173190.0, 'Phường Nghi Hòa, Thành phố Vinh, Tỉnh Nghệ An', '2023-12-07'),\n",
       " (733267.0, 'Xã Thạch Đà, Huyện Mê Linh, Thành phố Hà Nội', '2024-08-19'),\n",
       " (530492.0, 'Xã Tả Phìn, Huyện Tủa Chùa, Tỉnh Điện Biên', '2024-02-04'),\n",
       " (195839.0, 'Xã Bồi Sơn, Huyện Đô Lương, Tỉnh Nghệ An', '2023-08-09'),\n",
       " (557243.0, 'Xã Ba Sao, Huyện Cao Lãnh, Tỉnh Đồng Tháp', '2024-12-18'),\n",
       " (290816.0,\n",
       "  'Thị trấn Ngãi Giao, Huyện Châu Đức, Tỉnh Bà Rịa - Vũng Tàu',\n",
       "  '2025-03-30'),\n",
       " (147967.0, 'Xã Lộc An, Huyện Phú Lộc, Thành phố Huế', '2023-12-22'),\n",
       " (668359.0,\n",
       "  'Phường Hoài Thanh Tây, Thị xã Hoài Nhơn, Tỉnh Bình Định',\n",
       "  '2025-03-27'),\n",
       " (435514.0, 'Xã Phù Lỗ, Huyện Sóc Sơn, Thành phố Hà Nội', '2025-01-23'),\n",
       " (545704.0, 'Xã Thạch Đài, Thành phố Hà Tĩnh, Tỉnh Hà Tĩnh', '2024-09-08'),\n",
       " (885368.0, 'Xã Hồ Thầu, Huyện Hoàng Su Phì, Tỉnh Hà Giang', '2025-02-12'),\n",
       " (743443.0, 'Xã Yên Sơn, Huyện Bảo Yên, Tỉnh Lào Cai', '2023-06-21'),\n",
       " (170124.0,\n",
       "  'Phường Phong Hòa, Thị xã Phong Điền, Thành phố Huế',\n",
       "  '2025-02-08'),\n",
       " (197886.0,\n",
       "  'Phường Hiệp Ninh, Thành phố Tây Ninh, Tỉnh Tây Ninh',\n",
       "  '2024-05-02'),\n",
       " (582058.0, 'Xã Hợp Thành, Huyện Triệu Sơn, Tỉnh Thanh Hóa', '2025-01-31'),\n",
       " (753449.0,\n",
       "  'Xã Phước Tân, Huyện Xuyên Mộc, Tỉnh Bà Rịa - Vũng Tàu',\n",
       "  '2023-02-28'),\n",
       " (13789.0, 'Xã Hiên Vân, Huyện Tiên Du, Tỉnh Bắc Ninh', '2023-05-26'),\n",
       " (282744.0, 'Xã Thanh Long, Huyện Văn Lãng, Tỉnh Lạng Sơn', '2024-06-27'),\n",
       " (17998.0, 'Xã Gia Tân, Huyện Gia Viễn, Tỉnh Ninh Bình', '2024-09-21'),\n",
       " (675993.0, 'Xã Bình Hòa Đông, Huyện Mộc Hóa, Tỉnh Long An', '2023-12-14'),\n",
       " (152587.0, 'Xã Tri Hải, Huyện Ninh Hải, Tỉnh Ninh Thuận', '2023-04-03'),\n",
       " (9285.0, 'Phường Văn Quán, Quận Hà Đông, Thành phố Hà Nội', '2024-09-06'),\n",
       " (694663.0, 'Xã Long Định, Huyện Châu Thành, Tỉnh Tiền Giang', '2023-01-08'),\n",
       " (866822.0, 'Xã Lai Hòa, Thị xã Vĩnh Châu, Tỉnh Sóc Trăng', '2023-06-10'),\n",
       " (310074.0, 'Thị trấn Thanh Nhật, Huyện Hạ Lang, Tỉnh Cao Bằng', '2023-09-24'),\n",
       " (346030.0, 'Xã Quỳnh Yên, Huyện Quỳnh Lưu, Tỉnh Nghệ An', '2023-12-25'),\n",
       " (533703.0, 'Xã Đoan Bái, Huyện Hiệp Hòa, Tỉnh Bắc Giang', '2024-04-29'),\n",
       " (792288.0, 'Xã Phú Long, Huyện Nho Quan, Tỉnh Ninh Bình', '2023-11-17'),\n",
       " (818109.0, 'Xã Thạnh Hải, Huyện Thạnh Phú, Tỉnh Bến Tre', '2024-03-05'),\n",
       " (158627.0, 'Xã An Đức, Huyện Ninh Giang, Tỉnh Hải Dương', '2025-03-04'),\n",
       " (573918.0, 'Xã Văn Cẩm, Huyện Hưng Hà, Tỉnh Thái Bình', '2024-06-01'),\n",
       " (344110.0, 'Xã Bình Nghi, Huyện Tây Sơn, Tỉnh Bình Định', '2025-01-05'),\n",
       " (195812.0, 'Xã Vi Hương, Huyện Bạch Thông, Tỉnh Bắc Kạn', '2024-06-28'),\n",
       " (480675.0, 'Xã Quang Minh, Huyện Kiến Xương, Tỉnh Thái Bình', '2023-01-14'),\n",
       " (432321.0, 'Xã Phúc Than, Huyện Than Uyên, Tỉnh Lai Châu', '2023-12-08'),\n",
       " (30173.0, 'Thị trấn Đình Cả, Huyện Võ Nhai, Tỉnh Thái Nguyên', '2023-12-13'),\n",
       " (538960.0, 'Xã Yên Nhân, Huyện Yên Mô, Tỉnh Ninh Bình', '2024-10-18'),\n",
       " (415738.0,\n",
       "  'Phường Mỹ Xuân, Thành phố Phú Mỹ, Tỉnh Bà Rịa - Vũng Tàu',\n",
       "  '2023-07-30'),\n",
       " (205531.0, 'Xã Phước Trung, Huyện Bác Ái, Tỉnh Ninh Thuận', '2023-12-27'),\n",
       " (350258.0, 'Xã Nghĩa Dũng, Huyện Tân Kỳ, Tỉnh Nghệ An', '2023-03-23'),\n",
       " (597403.0, 'Xã Xuân Thọ, Huyện Xuân Lộc, Tỉnh Đồng Nai', '2025-03-26'),\n",
       " (762682.0, 'Xã Nghĩa Thái, Huyện Nam Đàn, Tỉnh Nghệ An', '2024-07-31'),\n",
       " (874279.0, 'Xã Xuân Lập, Huyện Thọ Xuân, Tỉnh Thanh Hóa', '2023-02-04'),\n",
       " (559210.0,\n",
       "  'Phường Thanh Lương, Quận Hai Bà Trưng, Thành phố Hà Nội',\n",
       "  '2023-07-08'),\n",
       " (259979.0, 'Phường Phú Đô, Quận Nam Từ Liêm, Thành phố Hà Nội', '2025-04-06'),\n",
       " (198656.0, 'Xã Quang Phục, Huyện Tứ Kỳ, Tỉnh Hải Dương', '2024-07-31'),\n",
       " (547149.0, 'Xã Tân Phước Tây, Huyện Tân Trụ, Tỉnh Long An', '2023-03-09'),\n",
       " (844328.0, 'Xã Hải Lâm, Huyện Hải Lăng, Tỉnh Quảng Trị', '2024-08-31'),\n",
       " (111756.0, 'Xã Xuân Phú, Huyện Xuân Trường, Tỉnh Nam Định', '2024-03-13'),\n",
       " (482399.0, 'Phường Bắc Sơn, Thành phố Sầm Sơn, Tỉnh Thanh Hóa', '2023-08-03'),\n",
       " (604303.0, 'Xã Vĩnh Thuận, Huyện Vĩnh Thuận, Tỉnh Kiên Giang', '2025-02-19'),\n",
       " (859802.0, 'Xã Cư KBang, Huyện Ea Súp, Tỉnh Đắk Lắk', '2023-02-06'),\n",
       " (181300.0, 'Xã Mỹ Thạnh, Huyện Giồng Trôm, Tỉnh Bến Tre', '2024-11-14'),\n",
       " (172350.0, 'Phường Thốt Nốt, Quận Thốt Nốt, Thành phố Cần Thơ', '2024-04-12'),\n",
       " (43449.0, 'Phường Gia Thụy, Quận Long Biên, Thành phố Hà Nội', '2024-07-28'),\n",
       " (78866.0, 'Thị trấn Tủa Chùa, Huyện Tủa Chùa, Tỉnh Điện Biên', '2024-05-19'),\n",
       " (173364.0, 'Xã Độc Lập, Thành phố Hòa Bình, Tỉnh Hoà Bình', '2024-12-24'),\n",
       " (420523.0, 'Xã A Dơk, Huyện Đăk Đoa, Tỉnh Gia Lai', '2023-07-01'),\n",
       " (839280.0, 'Xã Đồn Đạc, Huyện Ba Chẽ, Tỉnh Quảng Ninh', '2023-09-04'),\n",
       " (710615.0,\n",
       "  'Phường Hải Cảng, Thành phố Quy Nhơn, Tỉnh Bình Định',\n",
       "  '2024-02-23'),\n",
       " (476993.0, 'Xã Quảng Điền, Huyện Krông A Na, Tỉnh Đắk Lắk', '2024-05-14'),\n",
       " (778821.0,\n",
       "  'Phường Thanh Khê Đông, Quận Thanh Khê, Thành phố Đà Nẵng',\n",
       "  '2024-08-04'),\n",
       " (152235.0, 'Xã Bắc Sơn, Huyện Trảng Bom, Tỉnh Đồng Nai', '2023-03-17'),\n",
       " (976195.0, 'Xã Thanh An, Huyện Thanh Chương, Tỉnh Nghệ An', '2023-04-30'),\n",
       " (85139.0,\n",
       "  'Thị trấn Tĩnh Túc, Huyện Nguyên Bình, Tỉnh Cao Bằng',\n",
       "  '2023-10-18'),\n",
       " (821520.0, 'Xã Đại Thạnh, Huyện Đại Lộc, Tỉnh Quảng Nam', '2024-06-07'),\n",
       " (258513.0, 'Xã Nậm Nhoóng, Huyện Quế Phong, Tỉnh Nghệ An', '2023-09-29'),\n",
       " (157777.0, 'Thị trấn Hưng Hà, Huyện Hưng Hà, Tỉnh Thái Bình', '2024-05-18'),\n",
       " (100808.0, 'Xã Vũ Đông, Thành phố Thái Bình, Tỉnh Thái Bình', '2024-05-23'),\n",
       " (928452.0,\n",
       "  'Xã Vĩnh Trung, Thành phố Móng Cái, Tỉnh Quảng Ninh',\n",
       "  '2023-09-28'),\n",
       " (968975.0,\n",
       "  'Thị trấn Lạc Dương, Huyện Lạc Dương, Tỉnh Lâm Đồng',\n",
       "  '2025-01-17'),\n",
       " (532531.0, 'Xã Minh Khai, Huyện Thạch An, Tỉnh Cao Bằng', '2023-11-06'),\n",
       " (746323.0, 'Xã Thạnh Lợi, Huyện Tháp Mười, Tỉnh Đồng Tháp', '2024-09-20'),\n",
       " (809529.0, 'Xã Nam Tiến, Huyện Nam Trực, Tỉnh Nam Định', '2023-06-20'),\n",
       " (587367.0,\n",
       "  'Phường Mỹ Hải, Thành phố Phan Rang-Tháp Chàm, Tỉnh Ninh Thuận',\n",
       "  '2023-02-02'),\n",
       " (732854.0, 'Thị trấn Quý Lộc, Huyện Yên Định, Tỉnh Thanh Hóa', '2025-01-26'),\n",
       " (333655.0, 'Xã Nghi Kim, Thành phố Vinh, Tỉnh Nghệ An', '2024-12-16'),\n",
       " (84497.0, 'Xã Hoàng Hanh, Thành phố Hưng Yên, Tỉnh Hưng Yên', '2023-08-26'),\n",
       " (701321.0, 'Xã Quỳnh Hội, Huyện Quỳnh Phụ, Tỉnh Thái Bình', '2025-02-19'),\n",
       " (662314.0, 'Xã Đạo Lý, Huyện Lý Nhân, Tỉnh Hà Nam', '2023-09-20'),\n",
       " (925067.0, 'Xã Hải Minh, Huyện Hải Hậu, Tỉnh Nam Định', '2024-08-20'),\n",
       " (437018.0, 'Xã Tiến Thắng, Huyện Yên Thế, Tỉnh Bắc Giang', '2024-11-09'),\n",
       " (648862.0, 'Xã Tân Minh, Huyện Thanh Sơn, Tỉnh Phú Thọ', '2023-10-29'),\n",
       " (293665.0, 'Phường Ngọc Lâm, Quận Long Biên, Thành phố Hà Nội', '2023-11-12'),\n",
       " (492868.0, 'Thị trấn KBang, Huyện KBang, Tỉnh Gia Lai', '2023-06-05'),\n",
       " (640484.0, 'Xã Kim Sơn, Thị xã Sơn Tây, Thành phố Hà Nội', '2023-05-24'),\n",
       " (500006.0, 'Xã Hòa Phú, Huyện Tây Hoà, Tỉnh Phú Yên', '2023-11-01'),\n",
       " (637414.0, 'Thị trấn Định An, Huyện Trà Cú, Tỉnh Trà Vinh', '2023-05-02'),\n",
       " (815660.0, 'Xã Tam Lãnh, Huyện Phú Ninh, Tỉnh Quảng Nam', '2025-04-16'),\n",
       " (372512.0, 'Xã Vĩnh Nhuận, Huyện Châu Thành, Tỉnh An Giang', '2024-05-30'),\n",
       " (862955.0, 'Phường Bích Động, Thị xã Việt Yên, Tỉnh Bắc Giang', '2023-10-21'),\n",
       " (614235.0, 'Xã Huy Khiêm, Huyện Tánh Linh, Tỉnh Bình Thuận', '2023-04-25'),\n",
       " (661635.0, 'Xã Ngư Thủy Bắc, Huyện Lệ Thủy, Tỉnh Quảng Bình', '2023-12-15'),\n",
       " (699089.0, 'Xã Ia Dom, Huyện Đức Cơ, Tỉnh Gia Lai', '2023-07-21'),\n",
       " (847679.0,\n",
       "  'Phường Cam Linh, Thành phố Cam Ranh, Tỉnh Khánh Hòa',\n",
       "  '2024-06-22'),\n",
       " (807903.0, 'Xã Thanh Thủy, Huyện Lệ Thủy, Tỉnh Quảng Bình', '2023-06-24'),\n",
       " (202467.0,\n",
       "  'Phường Phú Bình, Thành phố Long Khánh, Tỉnh Đồng Nai',\n",
       "  '2023-01-06'),\n",
       " (150479.0, 'Phường Vân Trung, Thị xã Việt Yên, Tỉnh Bắc Giang', '2023-02-15'),\n",
       " (356970.0, 'Xã Tri Hải, Huyện Ninh Hải, Tỉnh Ninh Thuận', '2023-05-14'),\n",
       " (426469.0, 'Xã Định Tân, Huyện Yên Định, Tỉnh Thanh Hóa', '2024-09-18'),\n",
       " (411199.0, 'Xã Tri Hải, Huyện Ninh Hải, Tỉnh Ninh Thuận', '2023-07-13'),\n",
       " (742444.0, 'Xã Sơn Hà, Huyện Sơn Hòa, Tỉnh Phú Yên', '2025-02-23'),\n",
       " (818530.0, 'Xã Vũ Lăng, Huyện Bắc Sơn, Tỉnh Lạng Sơn', '2023-11-24'),\n",
       " (547393.0, 'Xã Ân Nghĩa, Huyện Lạc Sơn, Tỉnh Hoà Bình', '2023-03-21'),\n",
       " (434568.0, 'Xã Lộc Thủy, Huyện Phú Lộc, Thành phố Huế', '2023-05-28'),\n",
       " (597007.0, 'Xã Hoài Mỹ, Thị xã Hoài Nhơn, Tỉnh Bình Định', '2024-05-16'),\n",
       " (294515.0,\n",
       "  'Xã Tân Thuận Đông, Thành phố Cao Lãnh, Tỉnh Đồng Tháp',\n",
       "  '2023-04-29'),\n",
       " (790027.0, 'Xã Yên Thường, Huyện Gia Lâm, Thành phố Hà Nội', '2024-04-24'),\n",
       " (848920.0, 'Xã Tân An, Huyện Đăk Pơ, Tỉnh Gia Lai', '2023-04-04'),\n",
       " (596296.0, 'Xã Tràng Sơn, Huyện Đô Lương, Tỉnh Nghệ An', '2023-08-03'),\n",
       " (531112.0,\n",
       "  'Thị trấn Cao Thượng, Huyện Tân Yên, Tỉnh Bắc Giang',\n",
       "  '2023-11-06'),\n",
       " (633707.0, 'Xã Đăk Long, Huyện Đắk Hà, Tỉnh Kon Tum', '2024-08-19'),\n",
       " (599502.0, 'Phường Ngọc Hà, Thành phố Hà Giang, Tỉnh Hà Giang', '2024-03-10'),\n",
       " (3153.0, 'Xã Mỹ Lương, Huyện Cái Bè, Tỉnh Tiền Giang', '2024-07-28'),\n",
       " (735649.0, 'Xã Kim Quan, Huyện Thạch Thất, Thành phố Hà Nội', '2024-07-28'),\n",
       " (858654.0,\n",
       "  'Phường Tân Hưng Thuận, Quận 12, Thành phố Hồ Chí Minh',\n",
       "  '2023-04-29'),\n",
       " (15141.0,\n",
       "  'Phường Thanh Sơn, Thành phố Uông Bí, Tỉnh Quảng Ninh',\n",
       "  '2023-12-26'),\n",
       " (646886.0,\n",
       "  'Xã Hòa Bình, Huyện Xuyên Mộc, Tỉnh Bà Rịa - Vũng Tàu',\n",
       "  '2025-02-06'),\n",
       " (480423.0, 'Phường 4, Thành phố Vĩnh Long, Tỉnh Vĩnh Long', '2023-01-07'),\n",
       " (36140.0, 'Xã Hiệp Cường, Huyện Kim Động, Tỉnh Hưng Yên', '2024-06-13'),\n",
       " (159140.0, 'Xã Hộ Độ, Thành phố Hà Tĩnh, Tỉnh Hà Tĩnh', '2023-05-11'),\n",
       " (320558.0,\n",
       "  'Xã Bạch Đằng, Thành phố Thuỷ Nguyên, Thành phố Hải Phòng',\n",
       "  '2023-10-27'),\n",
       " (408113.0, 'Phường Bồng Sơn, Thị xã Hoài Nhơn, Tỉnh Bình Định', '2023-11-11'),\n",
       " (546249.0, 'Xã Thạnh Lợi, Huyện Vĩnh Thạnh, Thành phố Cần Thơ', '2023-07-15'),\n",
       " (686387.0, 'Xã Cẩm Quang, Huyện Cẩm Xuyên, Tỉnh Hà Tĩnh', '2024-10-28'),\n",
       " (302146.0, 'Xã Bình Nghĩa, Huyện Bình Lục, Tỉnh Hà Nam', '2024-10-08'),\n",
       " (461456.0, 'Xã Đào Viên, Huyện Tràng Định, Tỉnh Lạng Sơn', '2025-02-18'),\n",
       " (561679.0, 'Xã An Phú, Huyện Củ Chi, Thành phố Hồ Chí Minh', '2024-07-28'),\n",
       " (624791.0, 'Xã Hoả Tiến, Thành phố Vị Thanh, Tỉnh Hậu Giang', '2024-03-14'),\n",
       " (934684.0, 'Thị trấn Lộc Hà, Huyện Thạch Hà, Tỉnh Hà Tĩnh', '2024-07-31'),\n",
       " (381444.0, 'Xã Đồng Tiến, Huyện Quỳnh Phụ, Tỉnh Thái Bình', '2023-02-27'),\n",
       " (952522.0, 'Xã Hải Lệ, Thị xã Quảng Trị, Tỉnh Quảng Trị', '2023-09-07'),\n",
       " (223900.0, 'Xã An Phú Thuận, Huyện Châu Thành, Tỉnh Đồng Tháp', '2023-05-02'),\n",
       " (224458.0, 'Xã Thắng Mố, Huyện Yên Minh, Tỉnh Hà Giang', '2023-02-23'),\n",
       " (444408.0, 'Xã Cần Kiệm, Huyện Thạch Thất, Thành phố Hà Nội', '2023-12-11'),\n",
       " (763321.0, 'Xã Xuân Giao, Huyện Bảo Thắng, Tỉnh Lào Cai', '2024-02-23'),\n",
       " (157588.0, 'Xã Đại Ân 2, Huyện Trần Đề, Tỉnh Sóc Trăng', '2025-03-27'),\n",
       " (371481.0, 'Xã Đại An, Huyện Trà Cú, Tỉnh Trà Vinh', '2023-07-14'),\n",
       " (590270.0, 'Xã Tây Thuận, Huyện Tây Sơn, Tỉnh Bình Định', '2023-01-22'),\n",
       " (889238.0, 'Xã Thanh An, Huyện Điện Biên, Tỉnh Điện Biên', '2024-02-09'),\n",
       " (655904.0, 'Xã Hương Cần, Huyện Thanh Sơn, Tỉnh Phú Thọ', '2023-08-15'),\n",
       " (469910.0, 'Xã Mỹ Thuận, Huyện Mỹ Tú, Tỉnh Sóc Trăng', '2024-07-04'),\n",
       " (400474.0, 'Xã Yên Hân, Huyện Chợ Mới, Tỉnh Bắc Kạn', '2024-04-14'),\n",
       " (276449.0,\n",
       "  'Phường Ninh Giang, Thị xã Ninh Hòa, Tỉnh Khánh Hòa',\n",
       "  '2023-09-09'),\n",
       " (117630.0,\n",
       "  'Phường Phú Thọ Hòa, Quận Tân Phú, Thành phố Hồ Chí Minh',\n",
       "  '2023-11-17'),\n",
       " (400226.0, 'Xã Hương Toàn, Thị xã Hương Trà, Thành phố Huế', '2023-10-07'),\n",
       " (924839.0, 'Xã Huy Tường, Huyện Phù Yên, Tỉnh Sơn La', '2024-01-22'),\n",
       " (274276.0, 'Xã Bản Mù, Huyện Trạm Tấu, Tỉnh Yên Bái', '2023-12-05'),\n",
       " (464774.0, 'Xã Ninh Hòa, Huyện Hồng Dân, Tỉnh Bạc Liêu', '2024-09-24'),\n",
       " (242619.0, 'Xã Tân Việt, Huyện Bình Giang, Tỉnh Hải Dương', '2025-03-31'),\n",
       " (523377.0, 'Xã Tân Lộc Đông, Huyện Thới Bình, Tỉnh Cà Mau', '2023-12-02'),\n",
       " (520346.0, 'Xã Châu Thới, Huyện Vĩnh Lợi, Tỉnh Bạc Liêu', '2023-01-26'),\n",
       " (936431.0, 'Xã Lộc Yên, Huyện Cao Lộc, Tỉnh Lạng Sơn', '2024-02-08'),\n",
       " (77070.0, 'Xã Tân Bình, Huyện Đăk Đoa, Tỉnh Gia Lai', '2023-05-17'),\n",
       " (185630.0, 'Xã Thượng Lộ, Huyện Phú Lộc, Thành phố Huế', '2023-03-08'),\n",
       " (153516.0, 'Xã Bình Thuận, Thị xã Buôn Hồ, Tỉnh Đắk Lắk', '2023-06-05'),\n",
       " (900487.0, 'Xã Vũ An, Huyện Kiến Xương, Tỉnh Thái Bình', '2025-03-11'),\n",
       " (839719.0, 'Xã Phong Mỹ, Huyện Cao Lãnh, Tỉnh Đồng Tháp', '2023-11-26'),\n",
       " (955172.0, 'Xã Quảng Tân, Huyện Tuy Đức, Tỉnh Đắk Nông', '2024-05-27'),\n",
       " (15380.0, 'Xã Phú Lâm, Huyện Tiên Du, Tỉnh Bắc Ninh', '2025-01-05'),\n",
       " (991945.0, 'Xã Đắk Xú, Huyện Ngọc Hồi, Tỉnh Kon Tum', '2024-03-23'),\n",
       " (529070.0, 'Xã Dũng Nghĩa, Huyện Vũ Thư, Tỉnh Thái Bình', '2025-04-22'),\n",
       " (598147.0, 'Xã Lưu Vĩnh Sơn, Huyện Thạch Hà, Tỉnh Hà Tĩnh', '2024-12-29'),\n",
       " (852844.0, 'Xã Noong Luống, Huyện Điện Biên, Tỉnh Điện Biên', '2024-06-02'),\n",
       " (543501.0, 'Phường Đại Kim, Quận Hoàng Mai, Thành phố Hà Nội', '2024-07-20'),\n",
       " (360938.0, 'Xã Hàm Liêm, Huyện Hàm Thuận Bắc, Tỉnh Bình Thuận', '2023-03-03'),\n",
       " (486952.0, 'Xã Đồng Tiến, Huyện Triệu Sơn, Tỉnh Thanh Hóa', '2025-02-26'),\n",
       " (681317.0, 'Xã Phong Nẫm, Huyện Giồng Trôm, Tỉnh Bến Tre', '2023-06-25'),\n",
       " (807697.0,\n",
       "  'Phường Nhơn Phú, Thành phố Quy Nhơn, Tỉnh Bình Định',\n",
       "  '2023-10-16'),\n",
       " (412202.0, 'Xã Đôn Thuận, Thị xã Trảng Bàng, Tỉnh Tây Ninh', '2023-08-10'),\n",
       " (514679.0,\n",
       "  'Xã Phong Thạnh Tây A, Huyện Phước Long, Tỉnh Bạc Liêu',\n",
       "  '2023-02-23'),\n",
       " (972014.0,\n",
       "  'Xã Phạm Hồng Thái, Huyện Khoái Châu, Tỉnh Hưng Yên',\n",
       "  '2024-05-22'),\n",
       " (614359.0, 'Xã Thanh Lâm, Huyện Ba Chẽ, Tỉnh Quảng Ninh', '2024-09-12'),\n",
       " (622045.0,\n",
       "  'Phường Bình Hưng, Thành phố Phan Thiết, Tỉnh Bình Thuận',\n",
       "  '2023-11-18'),\n",
       " (328508.0,\n",
       "  'Phường Hòa Thọ Tây, Quận Cẩm Lệ, Thành phố Đà Nẵng',\n",
       "  '2023-11-21'),\n",
       " (565450.0, 'Phường Cẩm Nam, Thành phố Hội An, Tỉnh Quảng Nam', '2025-03-02'),\n",
       " (514680.0, 'Xã Quang Lộc, Huyện Can Lộc, Tỉnh Hà Tĩnh', '2023-08-28'),\n",
       " (811135.0, 'Xã Đại Trạch, Huyện Bố Trạch, Tỉnh Quảng Bình', '2023-07-05'),\n",
       " (389146.0,\n",
       "  'Phường Gia Viên, Quận Ngô Quyền, Thành phố Hải Phòng',\n",
       "  '2024-07-18'),\n",
       " (256106.0, 'Xã Hồng Quang, Huyện Thanh Miện, Tỉnh Hải Dương', '2024-01-30'),\n",
       " (979099.0,\n",
       "  'Phường Bình Chuẩn, Thành phố Thuận An, Tỉnh Bình Dương',\n",
       "  '2023-11-06'),\n",
       " (492616.0,\n",
       "  'Phường Tân Giang, Thành phố Cao Bằng, Tỉnh Cao Bằng',\n",
       "  '2024-04-21'),\n",
       " (797882.0, 'Phường 18, Quận 4, Thành phố Hồ Chí Minh', '2023-07-03'),\n",
       " (117887.0, 'Xã Phổng Lập, Huyện Thuận Châu, Tỉnh Sơn La', '2023-11-03'),\n",
       " (290161.0, 'Xã Định Bình, Huyện Yên Định, Tỉnh Thanh Hóa', '2023-09-30'),\n",
       " (82471.0, 'Xã Thụy Hương, Huyện Chương Mỹ, Thành phố Hà Nội', '2024-04-15'),\n",
       " (59927.0, 'Xã Ba Lế, Huyện Ba Tơ, Tỉnh Quảng Ngãi', '2023-11-24'),\n",
       " (395500.0, 'Xã Trung Sơn, Huyện Yên Sơn, Tỉnh Tuyên Quang', '2023-09-06'),\n",
       " (299012.0,\n",
       "  'Thị trấn Đạo Đức, Huyện Bình Xuyên, Tỉnh Vĩnh Phúc',\n",
       "  '2024-10-31'),\n",
       " (485792.0, 'Thị trấn Đồng Văn, Huyện Đồng Văn, Tỉnh Hà Giang', '2025-03-24'),\n",
       " (728859.0, 'Phường Bắc Sơn, Thị xã Bỉm Sơn, Tỉnh Thanh Hóa', '2024-10-28'),\n",
       " (575418.0, 'Phường Vũ Ninh, Thành phố Bắc Ninh, Tỉnh Bắc Ninh', '2024-06-18'),\n",
       " (927957.0, 'Xã Hải Dương, Huyện Hải Lăng, Tỉnh Quảng Trị', '2024-07-15'),\n",
       " (458375.0,\n",
       "  'Phường Trung Sơn, Thành phố Tam Điệp, Tỉnh Ninh Bình',\n",
       "  '2024-10-12'),\n",
       " (325711.0, 'Xã Vạn Tín, Huyện Mỹ Đức, Thành phố Hà Nội', '2023-03-10'),\n",
       " (370528.0, 'Xã Lũng Phìn, Huyện Đồng Văn, Tỉnh Hà Giang', '2025-04-18'),\n",
       " (517124.0, 'Xã Thụy Quỳnh, Huyện Thái Thụy, Tỉnh Thái Bình', '2025-04-22'),\n",
       " (613079.0, 'Xã Thủy Tân, Thị xã Hương Thủy, Thành phố Huế', '2024-03-31'),\n",
       " (679847.0, 'Xã Ia Băng, Huyện Đăk Đoa, Tỉnh Gia Lai', '2023-12-01'),\n",
       " (219119.0, 'Xã Công Đa, Huyện Yên Sơn, Tỉnh Tuyên Quang', '2023-11-25'),\n",
       " (69745.0, 'Xã Nguyệt Ấn, Huyện Ngọc Lặc, Tỉnh Thanh Hóa', '2025-04-02'),\n",
       " (903503.0, 'Xã Ka Dăng, Huyện Đông Giang, Tỉnh Quảng Nam', '2024-07-13'),\n",
       " (798394.0, 'Xã Diên Thạnh, Huyện Diên Khánh, Tỉnh Khánh Hòa', '2023-07-03'),\n",
       " (78271.0, 'Xã Hòa Tân Tây, Huyện Tây Hoà, Tỉnh Phú Yên', '2025-01-19'),\n",
       " (369445.0,\n",
       "  'Thị trấn Phước Vĩnh, Huyện Phú Giáo, Tỉnh Bình Dương',\n",
       "  '2025-03-31'),\n",
       " (643572.0,\n",
       "  'Thị trấn Dầu Giây, Huyện Thống Nhất, Tỉnh Đồng Nai',\n",
       "  '2025-01-27'),\n",
       " (499928.0, 'Phường Bắc Hà, Quận Kiến An, Thành phố Hải Phòng', '2025-03-08'),\n",
       " (913029.0, 'Xã Bông Krang, Huyện Lắk, Tỉnh Đắk Lắk', '2024-07-13'),\n",
       " (461692.0, 'Xã Cộng Hòa, Huyện Nam Sách, Tỉnh Hải Dương', '2023-04-06'),\n",
       " (762221.0, 'Xã Tân Xuân, Huyện Hóc Môn, Thành phố Hồ Chí Minh', '2023-01-31'),\n",
       " (625755.0, 'Xã Đồng Thịnh, Huyện Yên Lập, Tỉnh Phú Thọ', '2023-01-16'),\n",
       " (200576.0,\n",
       "  'Xã Lùng Khấu Nhin, Huyện Mường Khương, Tỉnh Lào Cai',\n",
       "  '2024-01-21'),\n",
       " (704699.0, 'Phường 1, Thị xã Giá Rai, Tỉnh Bạc Liêu', '2023-11-18'),\n",
       " (199610.0, 'Xã Gia Hòa 1, Huyện Mỹ Xuyên, Tỉnh Sóc Trăng', '2023-06-11'),\n",
       " (44921.0, 'Xã Yên Khang, Huyện Ý Yên, Tỉnh Nam Định', '2024-05-31'),\n",
       " (91603.0, 'Xã Nguyễn Huệ, Huyện Hoà An, Tỉnh Cao Bằng', '2023-12-05'),\n",
       " (365996.0, 'Xã Tả Van, Thị xã Sa Pa, Tỉnh Lào Cai', '2023-12-14'),\n",
       " (553629.0,\n",
       "  'Xã Phong Thạnh Tây B, Huyện Phước Long, Tỉnh Bạc Liêu',\n",
       "  '2023-05-27'),\n",
       " (716855.0, 'Xã Phúc Hòa, Huyện Tân Yên, Tỉnh Bắc Giang', '2023-08-30'),\n",
       " (229883.0, 'Xã Sông Phan, Huyện Hàm Tân, Tỉnh Bình Thuận', '2025-01-12'),\n",
       " (820268.0, 'Xã Sơn Lâm, Huyện Khánh Sơn, Tỉnh Khánh Hòa', '2024-10-08'),\n",
       " (234728.0, 'Phường Thới Sơn, Thị xã Tịnh Biên, Tỉnh An Giang', '2024-02-01'),\n",
       " (262996.0, 'Xã Cần Kiệm, Huyện Thạch Thất, Thành phố Hà Nội', '2023-10-11'),\n",
       " (246558.0, 'Xã Văn Khê, Huyện Mê Linh, Thành phố Hà Nội', '2023-06-26'),\n",
       " (449527.0, 'Thị trấn Đông Khê, Huyện Thạch An, Tỉnh Cao Bằng', '2024-06-06'),\n",
       " (764493.0, 'Xã Kông HTok, Huyện Chư Sê, Tỉnh Gia Lai', '2023-08-25'),\n",
       " (271790.0, 'Xã Ba Giang, Huyện Ba Tơ, Tỉnh Quảng Ngãi', '2023-07-03'),\n",
       " (905067.0, 'Xã Long Điền Tây, Huyện Đông Hải, Tỉnh Bạc Liêu', '2023-12-08'),\n",
       " (266781.0, 'Xã Viễn Sơn, Huyện Văn Yên, Tỉnh Yên Bái', '2024-03-24'),\n",
       " (918459.0, 'Phường Hương Sơ, Quận Phú Xuân, Thành phố Huế', '2024-02-04'),\n",
       " (363057.0, 'Xã Văn Vũ, Huyện Na Rì, Tỉnh Bắc Kạn', '2024-02-18'),\n",
       " (463602.0, 'Xã Vũ Dũng, Huyện Kim Thành, Tỉnh Hải Dương', '2024-03-13'),\n",
       " (261732.0, 'Xã Hòa Nhơn, Huyện Hòa Vang, Thành phố Đà Nẵng', '2024-02-12'),\n",
       " (612646.0, 'Xã Xuân Quang 1, Huyện Đồng Xuân, Tỉnh Phú Yên', '2023-02-18'),\n",
       " (181878.0, 'Xã Hoà Bình, Huyện Vĩnh Bảo, Thành phố Hải Phòng', '2023-03-03'),\n",
       " (552334.0, 'Xã Bình Phú, Huyện Thăng Bình, Tỉnh Quảng Nam', '2023-08-15'),\n",
       " (30227.0,\n",
       "  'Phường Vàng Danh, Thành phố Uông Bí, Tỉnh Quảng Ninh',\n",
       "  '2024-07-31'),\n",
       " (378929.0, 'Xã Đông Quang, Huyện Tiền Hải, Tỉnh Thái Bình', '2024-03-08'),\n",
       " (43321.0, 'Xã Bắc Thành, Huyện Yên Thành, Tỉnh Nghệ An', '2023-03-05'),\n",
       " (194566.0, 'Xã Tân Lập, Huyện Vũ Thư, Tỉnh Thái Bình', '2024-05-19'),\n",
       " (225581.0, 'Xã Điền Xá, Huyện Tiên Yên, Tỉnh Quảng Ninh', '2024-06-13'),\n",
       " (895743.0, 'Xã Tri Phương, Huyện Trùng Khánh, Tỉnh Cao Bằng', '2023-07-07'),\n",
       " (994577.0,\n",
       "  'Phường Hiệp Hòa, Thành phố Biên Hòa, Tỉnh Đồng Nai',\n",
       "  '2023-11-14'),\n",
       " (445209.0, 'Xã Thái Trị, Huyện Vĩnh Hưng, Tỉnh Long An', '2024-06-20'),\n",
       " (582011.0, 'Xã Hòa Minh, Huyện Tuy Phong, Tỉnh Bình Thuận', '2023-09-04'),\n",
       " (807622.0, 'Xã Chư Đăng Ya, Huyện Chư Păh, Tỉnh Gia Lai', '2023-04-08'),\n",
       " (949354.0, 'Xã Hồng Minh, Huyện Hưng Hà, Tỉnh Thái Bình', '2024-01-19'),\n",
       " (875311.0, 'Xã Quyết Thắng, Huyện Hữu Lũng, Tỉnh Lạng Sơn', '2023-11-20'),\n",
       " (838733.0, 'Xã Lao Chải, Huyện Mù Căng Chải, Tỉnh Yên Bái', '2025-03-18'),\n",
       " (344003.0, 'Xã Ninh Thọ, Thị xã Ninh Hòa, Tỉnh Khánh Hòa', '2023-01-03'),\n",
       " (317279.0, 'Xã Đỗ Xuyên, Huyện Thanh Ba, Tỉnh Phú Thọ', '2023-05-04'),\n",
       " (77175.0, 'Xã Hùng Hải, Huyện Diễn Châu, Tỉnh Nghệ An', '2023-02-09'),\n",
       " (875222.0, 'Xã Hòa Phú, Huyện Chư Păh, Tỉnh Gia Lai', '2024-08-06'),\n",
       " (588734.0, 'Xã Tân Tiến, Huyện Yên Sơn, Tỉnh Tuyên Quang', '2024-03-28'),\n",
       " (320586.0, 'Xã Nam Thái, Huyện Nam Trực, Tỉnh Nam Định', '2024-04-20'),\n",
       " (348610.0,\n",
       "  'Thị trấn Tĩnh Túc, Huyện Nguyên Bình, Tỉnh Cao Bằng',\n",
       "  '2023-01-04'),\n",
       " (106301.0, 'Xã Triệu Độ, Huyện Triệu Phong, Tỉnh Quảng Trị', '2023-05-11'),\n",
       " (796717.0, 'Xã Glar, Huyện Đăk Đoa, Tỉnh Gia Lai', '2024-01-18'),\n",
       " (712640.0, 'Xã Nàn Ma, Huyện Xín Mần, Tỉnh Hà Giang', '2023-03-25'),\n",
       " (597656.0, 'Xã Hồ Thị Kỷ, Huyện Thới Bình, Tỉnh Cà Mau', '2024-04-08'),\n",
       " (863017.0, 'Xã Hải Nam, Huyện Hải Hậu, Tỉnh Nam Định', '2024-03-30'),\n",
       " (411983.0, 'Xã Liên Hiệp, Huyện Đức Trọng, Tỉnh Lâm Đồng', '2025-02-21'),\n",
       " (651777.0,\n",
       "  'Phường Hoằng Đại, Thành phố Thanh Hóa, Tỉnh Thanh Hóa',\n",
       "  '2024-12-25'),\n",
       " (459998.0, 'Xã Xuân Hồng, Huyện Xuân Trường, Tỉnh Nam Định', '2024-03-07'),\n",
       " (83945.0, 'Phường Tây Tựu, Quận Bắc Từ Liêm, Thành phố Hà Nội', '2023-01-12'),\n",
       " (3116.0, 'Thị trấn Chí Thạnh, Huyện Tuy An, Tỉnh Phú Yên', '2024-03-29'),\n",
       " (786019.0, 'Phường Tân Kiểng, Quận 7, Thành phố Hồ Chí Minh', '2023-06-12'),\n",
       " (180076.0, 'Xã Xuân Thọ, Huyện Xuân Lộc, Tỉnh Đồng Nai', '2025-01-17'),\n",
       " (196142.0, 'Xã Bắc An, Thành phố Chí Linh, Tỉnh Hải Dương', '2024-02-18'),\n",
       " (319703.0, 'Xã Gia Xuyên, Thành phố Hải Dương, Tỉnh Hải Dương', '2024-03-10'),\n",
       " (877860.0,\n",
       "  'Phường Thanh Nhàn, Quận Hai Bà Trưng, Thành phố Hà Nội',\n",
       "  '2024-08-25'),\n",
       " (582326.0, 'Xã Mỹ Lộc, Huyện Hậu Lộc, Tỉnh Thanh Hóa', '2023-04-25'),\n",
       " (31073.0, 'Xã Hương Xạ, Huyện Hạ Hoà, Tỉnh Phú Thọ', '2023-06-23'),\n",
       " (228045.0, 'Xã Xuân Lộc, Thị xã Sông Cầu, Tỉnh Phú Yên', '2024-05-03'),\n",
       " (695962.0, 'Xã Niêm Tòng, Huyện Mèo Vạc, Tỉnh Hà Giang', '2024-09-04'),\n",
       " (702436.0, 'Xã Tráng Việt, Huyện Mê Linh, Thành phố Hà Nội', '2024-04-07'),\n",
       " (987584.0, 'Xã Kỳ Thư, Huyện Kỳ Anh, Tỉnh Hà Tĩnh', '2025-01-13'),\n",
       " (817482.0, 'Xã Bàu Trâm, Thành phố Long Khánh, Tỉnh Đồng Nai', '2024-10-02'),\n",
       " (404855.0, 'Xã Ngư Thủy Bắc, Huyện Lệ Thủy, Tỉnh Quảng Bình', '2025-03-26'),\n",
       " (286885.0, 'Xã Yên Đồng, Huyện Yên Lạc, Tỉnh Vĩnh Phúc', '2025-03-16'),\n",
       " (605798.0,\n",
       "  'Phường Yên Đức, Thành phố Đông Triều, Tỉnh Quảng Ninh',\n",
       "  '2023-09-05'),\n",
       " (577430.0,\n",
       "  'Xã Nhơn Nghĩa, Huyện Phong Điền, Thành phố Cần Thơ',\n",
       "  '2024-02-04'),\n",
       " (465339.0, 'Xã Nam Mẫu, Huyện Ba Bể, Tỉnh Bắc Kạn', '2024-05-24'),\n",
       " (341363.0, 'Phường An Tảo, Thành phố Hưng Yên, Tỉnh Hưng Yên', '2025-03-15'),\n",
       " (5533.0, 'Xã Thới Thạnh, Huyện Thới Lai, Thành phố Cần Thơ', '2023-03-12'),\n",
       " (231780.0, 'Xã Mỹ An, Huyện Thủ Thừa, Tỉnh Long An', '2025-01-09'),\n",
       " (896591.0, 'Xã An Phước, Huyện Long Thành, Tỉnh Đồng Nai', '2023-12-02'),\n",
       " (248049.0, 'Phường Phố Mới, Thị xã Quế Võ, Tỉnh Bắc Ninh', '2024-08-22'),\n",
       " (789463.0, 'Xã Quảng Ngọc, Huyện Quảng Xương, Tỉnh Thanh Hóa', '2024-10-10'),\n",
       " (680346.0,\n",
       "  'Xã Trường Thành, Huyện Thới Lai, Thành phố Cần Thơ',\n",
       "  '2025-03-06'),\n",
       " (120280.0, 'Xã Nghi Ân, Thành phố Vinh, Tỉnh Nghệ An', '2024-11-29'),\n",
       " (741452.0, 'Xã Sủng Máng, Huyện Mèo Vạc, Tỉnh Hà Giang', '2024-12-31'),\n",
       " (507266.0, 'Xã Cao Thịnh, Huyện Ngọc Lặc, Tỉnh Thanh Hóa', '2024-12-26'),\n",
       " (209480.0,\n",
       "  'Phường Ea Tam, Thành phố Buôn Ma Thuột, Tỉnh Đắk Lắk',\n",
       "  '2024-12-19'),\n",
       " (548421.0, 'Xã Mê Linh, Huyện Mê Linh, Thành phố Hà Nội', '2023-04-08'),\n",
       " (830922.0, 'Xã Kim Sơn, Huyện Bảo Yên, Tỉnh Lào Cai', '2024-02-02'),\n",
       " (687083.0, 'Xã Tiên Tiến, Huyện Phù Cừ, Tỉnh Hưng Yên', '2023-12-09'),\n",
       " (592131.0,\n",
       "  'Phường Hồng Châu, Thành phố Hưng Yên, Tỉnh Hưng Yên',\n",
       "  '2025-04-02'),\n",
       " (918979.0,\n",
       "  'Xã Thèn Chu Phìn, Huyện Hoàng Su Phì, Tỉnh Hà Giang',\n",
       "  '2024-09-19'),\n",
       " (633000.0, 'Xã An Thạch, Huyện Tuy An, Tỉnh Phú Yên', '2024-02-19'),\n",
       " (725654.0, 'Xã Kha Sơn, Huyện Phú Bình, Tỉnh Thái Nguyên', '2023-11-12'),\n",
       " (282100.0,\n",
       "  'Xã Tân Nhựt, Huyện Bình Chánh, Thành phố Hồ Chí Minh',\n",
       "  '2024-06-18'),\n",
       " (223076.0,\n",
       "  'Xã Đông Thạnh, Huyện Hóc Môn, Thành phố Hồ Chí Minh',\n",
       "  '2024-10-24'),\n",
       " (904274.0, 'Xã Hậu Mỹ Bắc A, Huyện Cái Bè, Tỉnh Tiền Giang', '2023-03-28'),\n",
       " (289596.0, 'Phường Cẩm Phô, Thành phố Hội An, Tỉnh Quảng Nam', '2023-07-02'),\n",
       " (587650.0, 'Phường La Khê, Quận Hà Đông, Thành phố Hà Nội', '2024-07-26'),\n",
       " (344985.0, 'Xã Hùng Tiến, Huyện Nam Đàn, Tỉnh Nghệ An', '2023-09-02'),\n",
       " (299512.0, 'Xã Nông Trường, Huyện Triệu Sơn, Tỉnh Thanh Hóa', '2025-03-03'),\n",
       " (453424.0,\n",
       "  'Xã Phước Thạnh, Huyện Củ Chi, Thành phố Hồ Chí Minh',\n",
       "  '2023-11-11'),\n",
       " (120421.0, 'Xã Tùng Khê, Huyện Cẩm Khê, Tỉnh Phú Thọ', '2024-06-20'),\n",
       " (244755.0, 'Xã Bình Chương, Huyện Bình Sơn, Tỉnh Quảng Ngãi', '2024-10-30'),\n",
       " (11750.0, 'Thị trấn Hoa Thành, Huyện Yên Thành, Tỉnh Nghệ An', '2023-01-08'),\n",
       " (546765.0, 'Phường Tịnh Biên, Thị xã Tịnh Biên, Tỉnh An Giang', '2024-09-05'),\n",
       " (69802.0, 'Xã Long Phú, Thị xã Long Mỹ, Tỉnh Hậu Giang', '2023-05-07'),\n",
       " (330946.0,\n",
       "  'Phường Hắc Dịch, Thành phố Phú Mỹ, Tỉnh Bà Rịa - Vũng Tàu',\n",
       "  '2024-09-27'),\n",
       " (506276.0,\n",
       "  'Xã Phong Phú, Huyện Bình Chánh, Thành phố Hồ Chí Minh',\n",
       "  '2024-03-04'),\n",
       " (131439.0, 'Xã Nhị Quý, Thị xã Cai Lậy, Tỉnh Tiền Giang', '2023-04-22'),\n",
       " (354874.0, 'Xã Khâm Thành, Huyện Trùng Khánh, Tỉnh Cao Bằng', '2023-12-29'),\n",
       " (482915.0, 'Xã Phù Cảnh, Huyện Quảng Trạch, Tỉnh Quảng Bình', '2024-03-22'),\n",
       " (144184.0, 'Xã Hạ Mỗ, Huyện Đan Phượng, Thành phố Hà Nội', '2023-06-07'),\n",
       " (559741.0, 'Phường 9, Quận Tân Bình, Thành phố Hồ Chí Minh', '2024-08-26'),\n",
       " (630076.0, 'Xã An Mỹ, Huyện Mỹ Đức, Thành phố Hà Nội', '2024-09-22'),\n",
       " (363729.0, 'Xã Mỹ An, Huyện Mang Thít, Tỉnh Vĩnh Long', '2023-07-19'),\n",
       " (947179.0, 'Xã Khánh Trung, Huyện Khánh Vĩnh, Tỉnh Khánh Hòa', '2023-04-18'),\n",
       " (212786.0, 'Xã Cần Đăng, Huyện Châu Thành, Tỉnh An Giang', '2024-09-13'),\n",
       " (343078.0, 'Thị trấn Tân Thanh, Huyện Thanh Liêm, Tỉnh Hà Nam', '2024-06-21'),\n",
       " (998785.0, 'Xã Mường Và, Huyện Sốp Cộp, Tỉnh Sơn La', '2024-08-26'),\n",
       " (895806.0, 'Xã Thụy Trường, Huyện Thái Thụy, Tỉnh Thái Bình', '2024-08-10'),\n",
       " (383811.0, 'Xã Vĩnh Hoà, Huyện Vĩnh Bảo, Thành phố Hải Phòng', '2025-01-21'),\n",
       " (368601.0, 'Xã Nà Nghịu, Huyện Sông Mã, Tỉnh Sơn La', '2024-01-09'),\n",
       " (561332.0, 'Xã Kim Sơn, Huyện Lục Ngạn, Tỉnh Bắc Giang', '2024-08-21'),\n",
       " (472316.0,\n",
       "  'Phường Trần Thành Ngọ, Quận Kiến An, Thành phố Hải Phòng',\n",
       "  '2024-06-19'),\n",
       " (598382.0, 'Xã Thượng Cốc, Huyện Lạc Sơn, Tỉnh Hoà Bình', '2025-01-18'),\n",
       " (983180.0,\n",
       "  'Phường Mỏ Chè, Thành phố Sông Công, Tỉnh Thái Nguyên',\n",
       "  '2023-11-10'),\n",
       " (593496.0,\n",
       "  'Phường Hải Cảng, Thành phố Quy Nhơn, Tỉnh Bình Định',\n",
       "  '2024-01-16'),\n",
       " (453006.0, 'Xã Vĩnh Viễn A, Huyện Long Mỹ, Tỉnh Hậu Giang', '2024-01-21'),\n",
       " (998955.0, 'Xã Tân Thanh, Huyện Cái Bè, Tỉnh Tiền Giang', '2023-10-13'),\n",
       " (113274.0,\n",
       "  'Xã Bá Xuyên, Thành phố Sông Công, Tỉnh Thái Nguyên',\n",
       "  '2024-01-04'),\n",
       " (807441.0, 'Xã Ma Nới, Huyện Ninh Sơn, Tỉnh Ninh Thuận', '2023-11-05'),\n",
       " (524156.0, 'Xã Cát Hiệp, Huyện Phù Cát, Tỉnh Bình Định', '2024-03-21'),\n",
       " (312781.0, 'Xã Phú Lâm, Huyện Phú Tân, Tỉnh An Giang', '2025-03-18'),\n",
       " (224569.0,\n",
       "  'Phường Long Hòa, Thành phố Gò Công, Tỉnh Tiền Giang',\n",
       "  '2025-03-10'),\n",
       " (472308.0,\n",
       "  'Xã Tân An Hội, Huyện Củ Chi, Thành phố Hồ Chí Minh',\n",
       "  '2025-01-19'),\n",
       " (838239.0, 'Xã Thái Trị, Huyện Vĩnh Hưng, Tỉnh Long An', '2024-10-02'),\n",
       " (379854.0, 'Xã Vạn Phước, Huyện Vạn Ninh, Tỉnh Khánh Hòa', '2025-03-10'),\n",
       " (613364.0, 'Phường Kỳ Bá, Thành phố Thái Bình, Tỉnh Thái Bình', '2024-10-23'),\n",
       " (880379.0, 'Xã Cự Khê, Huyện Thanh Oai, Thành phố Hà Nội', '2023-11-03'),\n",
       " (173474.0,\n",
       "  'Phường Hòa Xuân Tây, Thị xã Đông Hòa, Tỉnh Phú Yên',\n",
       "  '2023-10-21'),\n",
       " (226634.0, 'Xã Nghĩa Mỹ, Thị xã Thái Hoà, Tỉnh Nghệ An', '2025-01-06'),\n",
       " (243494.0, 'Xã Minh Quang, Huyện Tam Đảo, Tỉnh Vĩnh Phúc', '2023-06-19'),\n",
       " (221426.0, 'Phường Điện An, Thị xã Điện Bàn, Tỉnh Quảng Nam', '2024-07-20'),\n",
       " (129348.0, 'Xã Đồng Hóa, Huyện Tuyên Hóa, Tỉnh Quảng Bình', '2023-06-13'),\n",
       " (842121.0, 'Phường Đông Vĩnh, Thành phố Vinh, Tỉnh Nghệ An', '2024-11-16'),\n",
       " (315340.0, 'Xã Xuân Phước, Huyện Đồng Xuân, Tỉnh Phú Yên', '2025-04-12'),\n",
       " (466489.0, 'Xã An Đổ, Huyện Bình Lục, Tỉnh Hà Nam', '2024-04-04'),\n",
       " (349924.0,\n",
       "  'Xã Triệu Thượng, Huyện Triệu Phong, Tỉnh Quảng Trị',\n",
       "  '2023-03-21'),\n",
       " (612598.0, 'Xã Nga Thiện, Huyện Nga Sơn, Tỉnh Thanh Hóa', '2024-09-22'),\n",
       " (824417.0, 'Xã Tân Lập, Huyện Sông Lô, Tỉnh Vĩnh Phúc', '2023-10-04'),\n",
       " (412423.0, 'Xã Đú Sáng, Huyện Kim Bôi, Tỉnh Hoà Bình', '2024-03-17'),\n",
       " (83547.0, 'Xã Phú Lộc, Huyện Tân Phú, Tỉnh Đồng Nai', '2023-06-21'),\n",
       " (652809.0, 'Xã Ngọc Sơn, Thành phố Hải Dương, Tỉnh Hải Dương', '2024-08-07'),\n",
       " (279855.0, 'Xã Bình Giáo, Huyện Chư Prông, Tỉnh Gia Lai', '2025-01-16'),\n",
       " (210639.0, 'Xã Nghi Thái, Thành phố Vinh, Tỉnh Nghệ An', '2025-03-24'),\n",
       " (700793.0, 'Xã Tiền Yên, Huyện Hoài Đức, Thành phố Hà Nội', '2023-06-14'),\n",
       " (892857.0, 'Xã Bình Hiệp, Thị xã Kiến Tường, Tỉnh Long An', '2023-12-09'),\n",
       " (682017.0, 'Xã Hữu Khuông, Huyện Tương Dương, Tỉnh Nghệ An', '2024-11-11'),\n",
       " (97293.0, 'Xã Co Tòng, Huyện Thuận Châu, Tỉnh Sơn La', '2023-07-31'),\n",
       " (126176.0, 'Xã An Dũng, Huyện An Lão, Tỉnh Bình Định', '2023-10-08'),\n",
       " (165373.0,\n",
       "  'Phường Bình Trị Đông A, Quận Bình Tân, Thành phố Hồ Chí Minh',\n",
       "  '2024-09-20'),\n",
       " (751250.0, 'Xã Thường Nga, Huyện Can Lộc, Tỉnh Hà Tĩnh', '2024-07-12'),\n",
       " (892966.0,\n",
       "  'Phường Minh Xuân, Thành phố Tuyên Quang, Tỉnh Tuyên Quang',\n",
       "  '2023-04-07'),\n",
       " (555019.0, 'Xã Kỳ Giang, Huyện Kỳ Anh, Tỉnh Hà Tĩnh', '2023-02-12'),\n",
       " (79881.0, 'Xã Đức Lạng, Huyện Đức Thọ, Tỉnh Hà Tĩnh', '2023-10-08'),\n",
       " (654571.0, 'Xã Kim Thủy, Huyện Lệ Thủy, Tỉnh Quảng Bình', '2023-07-09'),\n",
       " (904331.0,\n",
       "  'Thị trấn Tân Hiệp, Huyện Tân Hiệp, Tỉnh Kiên Giang',\n",
       "  '2023-09-20'),\n",
       " (403436.0, 'Xã Nậm Cần, Huyện Tân Uyên, Tỉnh Lai Châu', '2024-06-24'),\n",
       " (977146.0, 'Xã Xuân Thủy, Huyện Lệ Thủy, Tỉnh Quảng Bình', '2024-09-26'),\n",
       " (72774.0, 'Xã Phú Thạnh, Huyện Phú Tân, Tỉnh An Giang', '2023-09-20'),\n",
       " (346317.0, 'Xã Tân Liên, Huyện Cao Lộc, Tỉnh Lạng Sơn', '2024-01-23'),\n",
       " (689396.0, 'Xã Phương Phú, Huyện Phụng Hiệp, Tỉnh Hậu Giang', '2023-06-03'),\n",
       " (400216.0, 'Xã Sơn Kiên, Huyện Hòn Đất, Tỉnh Kiên Giang', '2024-05-12'),\n",
       " (997990.0,\n",
       "  'Phường Đông Khê, Quận Ngô Quyền, Thành phố Hải Phòng',\n",
       "  '2023-03-13'),\n",
       " (589399.0, 'Xã An Long, Huyện Tam Nông, Tỉnh Đồng Tháp', '2024-12-29'),\n",
       " (465953.0, 'Xã Ka Dăng, Huyện Đông Giang, Tỉnh Quảng Nam', '2024-08-07'),\n",
       " (828812.0, 'Xã Thanh Giang, Huyện Thanh Miện, Tỉnh Hải Dương', '2023-06-21'),\n",
       " (301425.0, 'Xã Thọ Sơn, Huyện Anh Sơn, Tỉnh Nghệ An', '2025-03-24'),\n",
       " (226766.0, 'Xã Ba Lòng, Huyện Đa Krông, Tỉnh Quảng Trị', '2025-02-23'),\n",
       " (853999.0, 'Xã Tứ Hiệp, Huyện Thanh Trì, Thành phố Hà Nội', '2024-12-18'),\n",
       " (112780.0,\n",
       "  'Phường Đông Vệ, Thành phố Thanh Hóa, Tỉnh Thanh Hóa',\n",
       "  '2023-11-04'),\n",
       " (224640.0, 'Xã Vĩnh Khê, Huyện Vĩnh Linh, Tỉnh Quảng Trị', '2023-09-22'),\n",
       " (842463.0, 'Xã Phú Thủy, Huyện Lệ Thủy, Tỉnh Quảng Bình', '2024-01-16'),\n",
       " (409832.0, 'Xã Ayun, Huyện Mang Yang, Tỉnh Gia Lai', '2025-01-07'),\n",
       " (23527.0, 'Xã Bình Xuân, Thành phố Gò Công, Tỉnh Tiền Giang', '2024-03-24'),\n",
       " (181995.0, 'Xã Xuân Đài, Huyện Tân Sơn, Tỉnh Phú Thọ', '2025-04-11'),\n",
       " (516399.0, 'Xã Nậm Lúc, Huyện Bắc Hà, Tỉnh Lào Cai', '2023-10-13'),\n",
       " (985858.0, 'Xã Sơn Lang, Huyện KBang, Tỉnh Gia Lai', '2024-11-05'),\n",
       " (467326.0,\n",
       "  'Phường Nhơn Phú, Thành phố Quy Nhơn, Tỉnh Bình Định',\n",
       "  '2025-01-24'),\n",
       " (453845.0, 'Phường Văn An, Thành phố Chí Linh, Tỉnh Hải Dương', '2025-01-05'),\n",
       " (519444.0, 'Xã Ba Bích, Huyện Ba Tơ, Tỉnh Quảng Ngãi', '2024-12-14'),\n",
       " (291440.0, 'Thị trấn Đức Hòa, Huyện Đức Hòa, Tỉnh Long An', '2023-11-13'),\n",
       " (148043.0, 'Xã Xuân Đông, Huyện Cẩm Mỹ, Tỉnh Đồng Nai', '2025-02-17'),\n",
       " (528318.0, 'Xã Hải Phú, Huyện Hải Lăng, Tỉnh Quảng Trị', '2024-01-26'),\n",
       " (713922.0, 'Phường 6, Thành phố Sóc Trăng, Tỉnh Sóc Trăng', '2024-09-11'),\n",
       " (782072.0, 'Thị trấn Lăng Cô, Huyện Phú Lộc, Thành phố Huế', '2024-08-07'),\n",
       " (664521.0, 'Xã Đức Ninh, Huyện Hàm Yên, Tỉnh Tuyên Quang', '2024-10-27'),\n",
       " (233315.0, 'Xã Chiêu Lưu, Huyện Kỳ Sơn, Tỉnh Nghệ An', '2024-06-19'),\n",
       " (517553.0, 'Thị trấn Chợ Gạo, Huyện Chợ Gạo, Tỉnh Tiền Giang', '2023-11-01'),\n",
       " (30251.0, 'Thị trấn Nưa, Huyện Triệu Sơn, Tỉnh Thanh Hóa', '2025-03-31'),\n",
       " (945046.0, 'Xã Điện Phong, Thị xã Điện Bàn, Tỉnh Quảng Nam', '2023-10-19'),\n",
       " (582976.0, 'Xã Đông Hưng A, Huyện An Minh, Tỉnh Kiên Giang', '2025-03-10'),\n",
       " (431556.0, 'Xã Hiệp Hòa, Huyện Đức Hòa, Tỉnh Long An', '2023-08-11'),\n",
       " (200814.0, 'Phường Gia Thụy, Quận Long Biên, Thành phố Hà Nội', '2024-07-27'),\n",
       " (645962.0, 'Xã Sơn Kim 1, Huyện Hương Sơn, Tỉnh Hà Tĩnh', '2023-10-10'),\n",
       " (780223.0,\n",
       "  'Xã Ninh Thạnh Lợi A, Huyện Hồng Dân, Tỉnh Bạc Liêu',\n",
       "  '2023-04-04'),\n",
       " (821419.0, 'Xã Đức Hòa Hạ, Huyện Đức Hòa, Tỉnh Long An', '2024-07-31'),\n",
       " (963717.0, 'Xã Vị Trung, Huyện Vị Thuỷ, Tỉnh Hậu Giang', '2023-10-04'),\n",
       " (121489.0,\n",
       "  'Phường Hiệp Bình Chánh, Thành phố Thủ Đức, Thành phố Hồ Chí Minh',\n",
       "  '2024-04-26'),\n",
       " (77139.0, 'Xã Đăk Pling, Huyện Kông Chro, Tỉnh Gia Lai', '2024-01-22'),\n",
       " (683408.0, 'Xã Cẩm Hà, Huyện Cẩm Xuyên, Tỉnh Hà Tĩnh', '2024-11-16'),\n",
       " (265299.0, \"Xã Quảng Tín, Huyện Đắk R'Lấp, Tỉnh Đắk Nông\", '2023-05-11'),\n",
       " (858903.0, 'Xã Long Định, Huyện Châu Thành, Tỉnh Tiền Giang', '2023-04-13'),\n",
       " (384234.0, 'Xã Đắk Long, Huyện Đắk Glei, Tỉnh Kon Tum', '2023-08-16'),\n",
       " (649601.0, 'Thị trấn Mai Châu, Huyện Mai Châu, Tỉnh Hoà Bình', '2024-04-19'),\n",
       " (986400.0, 'Xã Bắc Lý, Huyện Lý Nhân, Tỉnh Hà Nam', '2023-11-25'),\n",
       " (687938.0, 'Xã Cam Thành Bắc, Huyện Cam Lâm, Tỉnh Khánh Hòa', '2023-08-16'),\n",
       " (24339.0, \"Xã Ea Tir, Huyện Ea H'leo, Tỉnh Đắk Lắk\", '2024-12-07'),\n",
       " (824810.0, 'Xã Mỹ Long Bắc, Huyện Cầu Ngang, Tỉnh Trà Vinh', '2024-02-11'),\n",
       " (594934.0, 'Xã Đông Khê, Thành phố Thanh Hóa, Tỉnh Thanh Hóa', '2024-03-28'),\n",
       " (10787.0, 'Xã Lam Sơn, Huyện Ngọc Lặc, Tỉnh Thanh Hóa', '2023-10-19'),\n",
       " (216889.0, 'Phường Bắc Sơn, Thành phố Sầm Sơn, Tỉnh Thanh Hóa', '2023-09-26'),\n",
       " (432286.0,\n",
       "  'Xã Tân Hưng, Thành phố Bà Rịa, Tỉnh Bà Rịa - Vũng Tàu',\n",
       "  '2023-11-10'),\n",
       " (642341.0, 'Xã Quảng Trực, Huyện Tuy Đức, Tỉnh Đắk Nông', '2024-03-17'),\n",
       " (470471.0, 'Xã Minh Tiến, Huyện Ngọc Lặc, Tỉnh Thanh Hóa', '2025-04-06'),\n",
       " (264674.0, 'Xã Thăng Long, Huyện Nông Cống, Tỉnh Thanh Hóa', '2024-03-09'),\n",
       " (926070.0, 'Xã Mỹ Lộc, Thành phố Nam Định, Tỉnh Nam Định', '2023-04-10'),\n",
       " (603153.0,\n",
       "  'Phường Kênh Dương, Quận Lê Chân, Thành phố Hải Phòng',\n",
       "  '2023-10-07'),\n",
       " (830906.0,\n",
       "  'Phường Phú Sơn, Thành phố Thanh Hóa, Tỉnh Thanh Hóa',\n",
       "  '2024-05-09'),\n",
       " (400374.0, 'Xã Hải Phú, Huyện Hải Hậu, Tỉnh Nam Định', '2023-05-22'),\n",
       " (940228.0,\n",
       "  'Phường Bình Nhâm, Thành phố Thuận An, Tỉnh Bình Dương',\n",
       "  '2024-12-02'),\n",
       " (91343.0, 'Thị trấn Hòa Bình, Huyện Hoà Bình, Tỉnh Bạc Liêu', '2024-06-28'),\n",
       " (902919.0,\n",
       "  'Xã Nam Phương Tiến, Huyện Chương Mỹ, Thành phố Hà Nội',\n",
       "  '2024-05-17'),\n",
       " (727689.0,\n",
       "  'Thị trấn Việt Quang, Huyện Bắc Quang, Tỉnh Hà Giang',\n",
       "  '2023-05-26'),\n",
       " (232747.0,\n",
       "  'Xã Việt Dân, Thành phố Đông Triều, Tỉnh Quảng Ninh',\n",
       "  '2024-05-09'),\n",
       " (668848.0, 'Xã Xuân Long, Huyện Cao Lộc, Tỉnh Lạng Sơn', '2023-08-16'),\n",
       " (632160.0, 'Xã Cao Thịnh, Huyện Ngọc Lặc, Tỉnh Thanh Hóa', '2024-09-24'),\n",
       " (949351.0, 'Xã Tân Phước, Huyện Gò Công Đông, Tỉnh Tiền Giang', '2023-04-17'),\n",
       " (518619.0, 'Xã Nam Tiến, Huyện Tiền Hải, Tỉnh Thái Bình', '2024-12-06'),\n",
       " (224340.0, 'Phường Xuất Hóa, Thành phố Bắc Kạn, Tỉnh Bắc Kạn', '2025-04-22'),\n",
       " (124663.0,\n",
       "  'Phường Đông Thịnh, Thành phố Thanh Hóa, Tỉnh Thanh Hóa',\n",
       "  '2024-11-18'),\n",
       " (298525.0, 'Xã Quảng Đức, Huyện Hải Hà, Tỉnh Quảng Ninh', '2024-04-22'),\n",
       " (701854.0, 'Xã An Thạnh, Huyện Bến Cầu, Tỉnh Tây Ninh', '2023-01-01'),\n",
       " (985980.0, 'Xã Thới Sơn, Thành phố Mỹ Tho, Tỉnh Tiền Giang', '2024-05-22'),\n",
       " (325075.0, 'Xã Xuân Giang, Huyện Quang Bình, Tỉnh Hà Giang', '2023-10-13'),\n",
       " (845699.0, 'Thị trấn Tô Hạp, Huyện Khánh Sơn, Tỉnh Khánh Hòa', '2024-10-15'),\n",
       " (670698.0, 'Thị trấn Ái Tử, Huyện Triệu Phong, Tỉnh Quảng Trị', '2023-07-12'),\n",
       " (582769.0, 'Xã Thới Lai, Huyện Bình Đại, Tỉnh Bến Tre', '2025-04-04'),\n",
       " (8946.0, 'Xã Triệu Nguyên, Huyện Đa Krông, Tỉnh Quảng Trị', '2025-01-26'),\n",
       " (196029.0,\n",
       "  'Phường Phú Thạnh, Quận Tân Phú, Thành phố Hồ Chí Minh',\n",
       "  '2023-11-12'),\n",
       " (211133.0, 'Phường Trung Tâm, Thị xã Nghĩa Lộ, Tỉnh Yên Bái', '2025-03-24'),\n",
       " (262553.0, 'Xã Xuân Hương, Huyện Lạng Giang, Tỉnh Bắc Giang', '2023-04-11'),\n",
       " (856232.0, 'Xã Quảng Đức, Huyện Quảng Xương, Tỉnh Thanh Hóa', '2023-01-23'),\n",
       " (371313.0, 'Xã Phú An, Huyện Đăk Pơ, Tỉnh Gia Lai', '2024-08-20'),\n",
       " (740751.0, 'Xã Thụy Lôi, Huyện Tiên Lữ, Tỉnh Hưng Yên', '2023-02-09'),\n",
       " (963135.0, 'Xã Liên Hồng, Huyện Đan Phượng, Thành phố Hà Nội', '2024-11-10'),\n",
       " (775730.0, 'Xã Thống Nhất, Huyện Bù Đăng, Tỉnh Bình Phước', '2023-09-06'),\n",
       " (124012.0, 'Xã Phú Nhuận, Huyện Bảo Thắng, Tỉnh Lào Cai', '2023-10-02'),\n",
       " (233941.0, 'Xã Ia RBol, Thị xã Ayun Pa, Tỉnh Gia Lai', '2023-11-12'),\n",
       " (45903.0, 'Xã Dân Hòa, Huyện Thanh Oai, Thành phố Hà Nội', '2023-04-23'),\n",
       " (171931.0, 'Thị trấn Tri Tôn, Huyện Tri Tôn, Tỉnh An Giang', '2025-01-26'),\n",
       " (94356.0, 'Xã Yên Nguyên, Huyện Chiêm Hóa, Tỉnh Tuyên Quang', '2023-06-10'),\n",
       " (620994.0, 'Xã Thiệu Thành, Huyện Thiệu Hóa, Tỉnh Thanh Hóa', '2023-07-30'),\n",
       " (102204.0, 'Xã Vĩnh Thịnh, Huyện Hoà Bình, Tỉnh Bạc Liêu', '2024-02-21'),\n",
       " (206532.0, 'Xã Hồng Ngài, Huyện Bắc Yên, Tỉnh Sơn La', '2023-02-16'),\n",
       " (333967.0, 'Xã Đinh Lạc, Huyện Di Linh, Tỉnh Lâm Đồng', '2024-02-07'),\n",
       " (519327.0, 'Xã Mỹ Yên, Huyện Bến Lức, Tỉnh Long An', '2024-01-21'),\n",
       " (652734.0,\n",
       "  'Thị trấn Kinh Cùng, Huyện Phụng Hiệp, Tỉnh Hậu Giang',\n",
       "  '2024-12-01'),\n",
       " (432579.0, 'Xã Luận Khê, Huyện Thường Xuân, Tỉnh Thanh Hóa', '2024-01-26'),\n",
       " (374638.0, 'Xã Yên Chính, Huyện Ý Yên, Tỉnh Nam Định', '2025-02-17'),\n",
       " (650899.0, 'Xã Mỹ Long, Huyện Cao Lãnh, Tỉnh Đồng Tháp', '2024-11-05'),\n",
       " (50392.0, 'Xã Thuận Nghĩa Hòa, Huyện Thạnh Hóa, Tỉnh Long An', '2023-12-23'),\n",
       " (549125.0, 'Xã Tân Hưng, Huyện Ba Tri, Tỉnh Bến Tre', '2024-12-25'),\n",
       " (389204.0, 'Xã Hoằng Tân, Huyện Hoằng Hóa, Tỉnh Thanh Hóa', '2023-04-16'),\n",
       " (358747.0, 'Xã Lê Hồng, Huyện Thanh Miện, Tỉnh Hải Dương', '2023-06-11'),\n",
       " (586417.0, 'Thị trấn Phú Mỹ, Huyện Phú Tân, Tỉnh An Giang', '2023-06-14'),\n",
       " (609154.0,\n",
       "  'Phường Phú Chánh, Thành phố Tân Uyên, Tỉnh Bình Dương',\n",
       "  '2024-04-19'),\n",
       " (333234.0, 'Xã Nam Giang, Huyện Nam Đàn, Tỉnh Nghệ An', '2023-08-09'),\n",
       " (73174.0, 'Xã Thạnh Phú, Huyện Mỹ Xuyên, Tỉnh Sóc Trăng', '2023-08-07'),\n",
       " (622837.0, 'Xã Dũng Tiến, Huyện Thường Tín, Thành phố Hà Nội', '2023-05-24'),\n",
       " (405934.0,\n",
       "  'Phường Cảnh Thụy, Thành phố Bắc Giang, Tỉnh Bắc Giang',\n",
       "  '2024-05-15'),\n",
       " (184011.0,\n",
       "  'Xã Xuân Thới Sơn, Huyện Hóc Môn, Thành phố Hồ Chí Minh',\n",
       "  '2023-03-21'),\n",
       " (604176.0, 'Phường Thuận Hòa, Quận Phú Xuân, Thành phố Huế', '2023-09-12'),\n",
       " (142443.0, 'Xã Trà Giang, Huyện Trà Bồng, Tỉnh Quảng Ngãi', '2024-01-07'),\n",
       " (207280.0, 'Xã Nga Thắng, Huyện Nga Sơn, Tỉnh Thanh Hóa', '2023-09-24'),\n",
       " (768840.0, 'Xã Đông Xá, Huyện Đông Hưng, Tỉnh Thái Bình', '2024-10-07'),\n",
       " (759350.0, 'Xã Long Giang, Thị xã Phước Long, Tỉnh Bình Phước', '2023-10-06'),\n",
       " (816755.0, 'Xã Thường Nga, Huyện Can Lộc, Tỉnh Hà Tĩnh', '2023-03-18'),\n",
       " (220598.0,\n",
       "  'Thị trấn Diễn Thành, Huyện Diễn Châu, Tỉnh Nghệ An',\n",
       "  '2023-12-09'),\n",
       " (8570.0, 'Xã Tân Tiến, Thành phố Vị Thanh, Tỉnh Hậu Giang', '2025-02-13'),\n",
       " (773054.0, 'Xã Cao Sơn Tiến, Huyện Ứng Hòa, Thành phố Hà Nội', '2024-07-27'),\n",
       " (623223.0, 'Xã Sơ Pai, Huyện KBang, Tỉnh Gia Lai', '2023-02-17'),\n",
       " (685728.0, 'Xã Cẩm Giang, Huyện Gò Dầu, Tỉnh Tây Ninh', '2023-10-18'),\n",
       " (423484.0, 'Xã Thành Vinh, Huyện Thạch Thành, Tỉnh Thanh Hóa', '2024-01-24'),\n",
       " (679014.0, 'Xã Đăk Trôi, Huyện Mang Yang, Tỉnh Gia Lai', '2024-08-13'),\n",
       " (328058.0, 'Xã Phong Bình, Thị xã Phong Điền, Thành phố Huế', '2023-11-17'),\n",
       " (596761.0, 'Xã Đạ Kho, Huyện Đạ Tẻh, Tỉnh Lâm Đồng', '2024-05-07'),\n",
       " (695685.0, 'Xã Lương Thế Trân, Huyện Cái Nước, Tỉnh Cà Mau', '2023-01-31'),\n",
       " (866111.0, 'Xã Mỹ Thành Bắc, Huyện Cai Lậy, Tỉnh Tiền Giang', '2024-07-20'),\n",
       " (913877.0,\n",
       "  'Phường Song Khê, Thành phố Bắc Giang, Tỉnh Bắc Giang',\n",
       "  '2024-07-29'),\n",
       " (234938.0, 'Xã Kim Thủy, Huyện Lệ Thủy, Tỉnh Quảng Bình', '2023-07-10'),\n",
       " (435046.0,\n",
       "  'Thị trấn Thịnh Vượng, Huyện Gia Viễn, Tỉnh Ninh Bình',\n",
       "  '2023-12-23'),\n",
       " (423038.0,\n",
       "  'Xã Tịnh Long, Thành phố Quảng Ngãi, Tỉnh Quảng Ngãi',\n",
       "  '2023-08-31'),\n",
       " (820714.0, 'Xã Tân Mỹ Hà, Huyện Hương Sơn, Tỉnh Hà Tĩnh', '2023-12-29'),\n",
       " (615698.0,\n",
       "  'Xã Phước Ninh, Huyện Dương Minh Châu, Tỉnh Tây Ninh',\n",
       "  '2023-12-06'),\n",
       " (198712.0, 'Xã Đông Hoàng, Huyện Đông Hưng, Tỉnh Thái Bình', '2023-03-01'),\n",
       " (869169.0, 'Phường Hưng Trí, Thị xã Kỳ Anh, Tỉnh Hà Tĩnh', '2023-05-31'),\n",
       " (732481.0, 'Xã Quảng Phúc, Huyện Quảng Xương, Tỉnh Thanh Hóa', '2025-03-13'),\n",
       " (147888.0, 'Xã Mậu Đông, Huyện Văn Yên, Tỉnh Yên Bái', '2024-08-08'),\n",
       " (2225.0, 'Xã Phú Xá, Huyện Cao Lộc, Tỉnh Lạng Sơn', '2024-09-18'),\n",
       " (845561.0, 'Xã An Mỹ, Huyện Mỹ Đức, Thành phố Hà Nội', '2025-02-03'),\n",
       " (739829.0,\n",
       "  'Phường Tam Thanh, Thành phố Lạng Sơn, Tỉnh Lạng Sơn',\n",
       "  '2024-02-13'),\n",
       " (228660.0, 'Xã Bồi Sơn, Huyện Đô Lương, Tỉnh Nghệ An', '2024-12-27'),\n",
       " (943266.0, 'Xã Chỉ Đạo, Huyện Văn Lâm, Tỉnh Hưng Yên', '2024-04-06'),\n",
       " (173363.0, 'Xã Bản Thi, Huyện Chợ Đồn, Tỉnh Bắc Kạn', '2024-12-23'),\n",
       " (315848.0, 'Phường Tây Sơn, Thị xã An Khê, Tỉnh Gia Lai', '2023-07-30'),\n",
       " (992242.0, 'Phường Sao Đỏ, Thành phố Chí Linh, Tỉnh Hải Dương', '2024-06-28'),\n",
       " (54719.0, 'Xã Bình Lộc, Huyện Diên Khánh, Tỉnh Khánh Hòa', '2023-02-08'),\n",
       " (52126.0, 'Xã Ngọc Định, Huyện Định Quán, Tỉnh Đồng Nai', '2024-12-24'),\n",
       " (853484.0, 'Xã Định Tân, Huyện Yên Định, Tỉnh Thanh Hóa', '2024-12-10'),\n",
       " (932245.0, 'Xã Vĩnh Điều, Huyện Giang Thành, Tỉnh Kiên Giang', '2024-10-26'),\n",
       " (310075.0,\n",
       "  'Xã Nghĩa Hà, Thành phố Quảng Ngãi, Tỉnh Quảng Ngãi',\n",
       "  '2023-12-08'),\n",
       " (805937.0, 'Xã Tây Giang, Huyện Tiền Hải, Tỉnh Thái Bình', '2024-04-09'),\n",
       " (145295.0, 'Phường 1, Quận Tân Bình, Thành phố Hồ Chí Minh', '2024-08-05'),\n",
       " (945369.0, 'Xã An Phong, Huyện Thanh Bình, Tỉnh Đồng Tháp', '2025-02-12'),\n",
       " (736342.0, 'Xã Nậm Manh, Huyện Nậm Nhùn, Tỉnh Lai Châu', '2024-04-07'),\n",
       " (315079.0, 'Thị trấn Bình Đại, Huyện Bình Đại, Tỉnh Bến Tre', '2023-03-28'),\n",
       " (526880.0, 'Thị trấn Tân Kỳ, Huyện Tân Kỳ, Tỉnh Nghệ An', '2024-02-11'),\n",
       " (832294.0, 'Xã Bình Định, Huyện Lương Tài, Tỉnh Bắc Ninh', '2024-04-19'),\n",
       " (551249.0, 'Xã Tu Tra, Huyện Đơn Dương, Tỉnh Lâm Đồng', '2023-01-17'),\n",
       " (576887.0, 'Xã Hà Hồi, Huyện Thường Tín, Thành phố Hà Nội', '2023-08-04'),\n",
       " (303700.0, 'Xã Đông Thạnh, Huyện Châu Thành, Tỉnh Hậu Giang', '2024-08-14'),\n",
       " (223423.0, 'Xã Hồng An, Huyện Hưng Hà, Tỉnh Thái Bình', '2025-01-18'),\n",
       " (534830.0,\n",
       "  'Phường Đồng Hải, Thành phố Đồng Hới, Tỉnh Quảng Bình',\n",
       "  '2025-04-05'),\n",
       " (351118.0, 'Xã Cẩm Lạc, Huyện Cẩm Xuyên, Tỉnh Hà Tĩnh', '2024-03-22'),\n",
       " (333594.0,\n",
       "  'Phường Linh Tây, Thành phố Thủ Đức, Thành phố Hồ Chí Minh',\n",
       "  '2024-03-15'),\n",
       " (366512.0, 'Xã Phúc Ứng, Huyện Sơn Dương, Tỉnh Tuyên Quang', '2023-02-28'),\n",
       " (629540.0, 'Xã Chiến Thắng, Huyện An Lão, Thành phố Hải Phòng', '2025-03-13'),\n",
       " (677949.0, 'Xã Thụy Hùng, Huyện Cao Lộc, Tỉnh Lạng Sơn', '2024-03-02'),\n",
       " (138168.0, 'Xã Lộc Hòa, Huyện Long Hồ, Tỉnh Vĩnh Long', '2024-01-12'),\n",
       " (207174.0,\n",
       "  'Phường Mỹ Quý, Thành phố Long Xuyên, Tỉnh An Giang',\n",
       "  '2025-03-31'),\n",
       " (233060.0,\n",
       "  'Xã Thân Cửu Nghĩa, Huyện Châu Thành, Tỉnh Tiền Giang',\n",
       "  '2023-02-04'),\n",
       " (107254.0,\n",
       "  'Phường Phương Sài, Thành phố Nha Trang, Tỉnh Khánh Hòa',\n",
       "  '2025-03-10'),\n",
       " (896750.0, 'Xã Lùng Vai, Huyện Mường Khương, Tỉnh Lào Cai', '2024-04-20'),\n",
       " (988909.0, 'Xã Hùng Sơn, Huyện Tràng Định, Tỉnh Lạng Sơn', '2024-07-17'),\n",
       " (350134.0, 'Xã Dũng Tiến, Huyện Vĩnh Bảo, Thành phố Hải Phòng', '2023-01-16'),\n",
       " (725203.0, 'Xã Niêm Sơn, Huyện Mèo Vạc, Tỉnh Hà Giang', '2024-03-22'),\n",
       " (509502.0, 'Xã Yên Trung, Huyện Yên Định, Tỉnh Thanh Hóa', '2024-12-01'),\n",
       " (292193.0, 'Xã An Sơn, Huyện Kiên Hải, Tỉnh Kiên Giang', '2023-05-03'),\n",
       " (19817.0, 'Xã Mỹ Hương, Huyện Mỹ Tú, Tỉnh Sóc Trăng', '2023-06-13'),\n",
       " (377633.0, 'Xã Tân Bình, Huyện Bình Tân, Tỉnh Vĩnh Long', '2024-11-17'),\n",
       " (621840.0, 'Xã Mỹ Lợi B, Huyện Cái Bè, Tỉnh Tiền Giang', '2024-06-01'),\n",
       " (522297.0, 'Thị trấn Mậu A, Huyện Văn Yên, Tỉnh Yên Bái', '2023-03-18'),\n",
       " (550682.0, 'Xã Quý Sơn, Thị xã Chũ, Tỉnh Bắc Giang', '2024-10-23'),\n",
       " (194638.0, 'Xã An Phượng, Huyện Thanh Hà, Tỉnh Hải Dương', '2024-03-14'),\n",
       " (786131.0, 'Xã Đông Mỹ, Huyện Thanh Trì, Thành phố Hà Nội', '2023-12-05'),\n",
       " (177516.0, 'Xã Khánh Thượng, Huyện Ba Vì, Thành phố Hà Nội', '2024-01-31'),\n",
       " (602274.0, 'Xã Nhơn Hạnh, Thị xã An Nhơn, Tỉnh Bình Định', '2023-02-06'),\n",
       " (350360.0, 'Xã An Phú Tân, Huyện Cầu Kè, Tỉnh Trà Vinh', '2025-04-04'),\n",
       " (808613.0, 'Xã Phước Lâm, Huyện Cần Giuộc, Tỉnh Long An', '2024-06-29'),\n",
       " (504393.0, 'Xã Sơn Lễ, Huyện Hương Sơn, Tỉnh Hà Tĩnh', '2024-03-13'),\n",
       " (494039.0, 'Xã Thuận Hưng, Huyện Long Mỹ, Tỉnh Hậu Giang', '2024-04-14'),\n",
       " (798036.0, 'Phường Thụy Khuê, Quận Tây Hồ, Thành phố Hà Nội', '2024-03-26'),\n",
       " (921793.0, 'Xã Mỹ Xuyên, Huyện Mỹ Đức, Thành phố Hà Nội', '2025-02-26'),\n",
       " (924922.0, 'Xã Lộc Thuận, Huyện Lộc Ninh, Tỉnh Bình Phước', '2025-02-20'),\n",
       " (110381.0, 'Xã Lạng Khê, Huyện Con Cuông, Tỉnh Nghệ An', '2023-10-05'),\n",
       " (118079.0, 'Xã Nghĩa Thái, Huyện Nam Đàn, Tỉnh Nghệ An', '2024-11-11'),\n",
       " (451992.0, 'Xã Thủy Tây, Huyện Thạnh Hóa, Tỉnh Long An', '2024-01-14'),\n",
       " (959015.0, 'Xã Ia Yok, Huyện Ia Grai, Tỉnh Gia Lai', '2024-11-05'),\n",
       " (812378.0, 'Xã Phương Tiến, Huyện Vị Xuyên, Tỉnh Hà Giang', '2023-06-26'),\n",
       " (10629.0, \"Xã Ch'ơm, Huyện Tây Giang, Tỉnh Quảng Nam\", '2023-09-01'),\n",
       " (554161.0, 'Xã Cát Chánh, Huyện Phù Cát, Tỉnh Bình Định', '2024-03-31'),\n",
       " (657705.0, 'Thị trấn Lam Sơn, Huyện Thọ Xuân, Tỉnh Thanh Hóa', '2023-09-01'),\n",
       " (410006.0, 'Xã Trà Xinh, Huyện Trà Bồng, Tỉnh Quảng Ngãi', '2024-05-09'),\n",
       " (23490.0, 'Xã Mỹ Hiệp, Huyện Chợ Mới, Tỉnh An Giang', '2023-08-14'),\n",
       " (133045.0, 'Xã Tạ An Khương Nam, Huyện Đầm Dơi, Tỉnh Cà Mau', '2023-07-06'),\n",
       " (263901.0, 'Xã Hòa Ninh, Huyện Long Hồ, Tỉnh Vĩnh Long', '2024-06-20'),\n",
       " (877990.0, 'Xã Ngãi Hùng, Huyện Tiểu Cần, Tỉnh Trà Vinh', '2025-04-04'),\n",
       " (500272.0, 'Phường Tân Kiểng, Quận 7, Thành phố Hồ Chí Minh', '2024-12-26'),\n",
       " (714848.0, 'Xã Thọ Điền, Huyện Vũ Quang, Tỉnh Hà Tĩnh', '2023-11-18'),\n",
       " (620340.0, 'Xã Hương Trà, Huyện Hương Khê, Tỉnh Hà Tĩnh', '2024-07-27'),\n",
       " (187732.0, 'Xã Lương Trung, Huyện Bá Thước, Tỉnh Thanh Hóa', '2023-11-05'),\n",
       " (583977.0,\n",
       "  'Phường Nhân Chính, Quận Thanh Xuân, Thành phố Hà Nội',\n",
       "  '2023-06-11'),\n",
       " (865155.0,\n",
       "  'Phường Trung Nhứt, Quận Thốt Nốt, Thành phố Cần Thơ',\n",
       "  '2025-04-13'),\n",
       " (662479.0,\n",
       "  'Phường Trung Sơn Trầm, Thị xã Sơn Tây, Thành phố Hà Nội',\n",
       "  '2024-03-06'),\n",
       " (752114.0, 'Xã Minh Châu, Huyện Diễn Châu, Tỉnh Nghệ An', '2025-03-01'),\n",
       " (978018.0, 'Thị trấn Ba Chẽ, Huyện Ba Chẽ, Tỉnh Quảng Ninh', '2024-08-25'),\n",
       " (572762.0, 'Xã Tam Đa, Huyện Phù Cừ, Tỉnh Hưng Yên', '2024-04-06'),\n",
       " (601507.0, 'Xã Đông Các, Huyện Đông Hưng, Tỉnh Thái Bình', '2024-11-24'),\n",
       " (575287.0, 'Xã Liên Nghĩa, Huyện Văn Giang, Tỉnh Hưng Yên', '2024-12-25'),\n",
       " (83222.0, 'Xã Mỹ Thuận, Huyện Hòn Đất, Tỉnh Kiên Giang', '2024-07-01'),\n",
       " (103159.0, 'Phường Kỳ Nam, Thị xã Kỳ Anh, Tỉnh Hà Tĩnh', '2025-02-22'),\n",
       " (915373.0, 'Phường Lam Sơn, Thành phố Hưng Yên, Tỉnh Hưng Yên', '2025-02-24'),\n",
       " (257424.0, 'Xã Minh Hoàng, Huyện Phù Cừ, Tỉnh Hưng Yên', '2024-02-04'),\n",
       " (377866.0, 'Xã Sơn Thành Đông, Huyện Tây Hoà, Tỉnh Phú Yên', '2024-07-03'),\n",
       " (811895.0, 'Xã Thanh Đa, Huyện Phúc Thọ, Thành phố Hà Nội', '2023-11-15'),\n",
       " (573611.0, 'Xã Vũ Lễ, Huyện Bắc Sơn, Tỉnh Lạng Sơn', '2024-05-02'),\n",
       " (424507.0, 'Xã Thanh Giang, Huyện Thanh Miện, Tỉnh Hải Dương', '2024-10-13'),\n",
       " (249651.0, 'Xã Ngọc Sơn, Huyện Lạc Sơn, Tỉnh Hoà Bình', '2024-06-14'),\n",
       " (438107.0, 'Xã Tân Tiến, Thành phố Vị Thanh, Tỉnh Hậu Giang', '2024-09-14'),\n",
       " (881626.0,\n",
       "  'Xã Nghĩa Thành, Huyện Châu Đức, Tỉnh Bà Rịa - Vũng Tàu',\n",
       "  '2024-10-06'),\n",
       " (282396.0, 'Xã Phúc Khánh, Huyện Hưng Hà, Tỉnh Thái Bình', '2024-11-14'),\n",
       " (954653.0, 'Xã Tạ An Khương Đông, Huyện Đầm Dơi, Tỉnh Cà Mau', '2023-11-03'),\n",
       " (92052.0, 'Thị trấn An Châu, Huyện Châu Thành, Tỉnh An Giang', '2024-03-31'),\n",
       " (70635.0, 'Xã Cam Lập, Thành phố Cam Ranh, Tỉnh Khánh Hòa', '2023-11-21'),\n",
       " (688234.0, 'Xã Quảng Công, Huyện Quảng Điền, Thành phố Huế', '2023-03-18'),\n",
       " (266765.0, 'Xã Bằng Luân, Huyện Đoan Hùng, Tỉnh Phú Thọ', '2023-06-06'),\n",
       " (354281.0, 'Xã Tân Lễ, Huyện Hưng Hà, Tỉnh Thái Bình', '2023-02-20'),\n",
       " (639993.0, 'Xã Phương Viên, Huyện Chợ Đồn, Tỉnh Bắc Kạn', '2023-04-11'),\n",
       " (439241.0, 'Xã Quảng Sơn, Thị xã Ba Đồn, Tỉnh Quảng Bình', '2023-08-30'),\n",
       " (397741.0,\n",
       "  'Phường Vĩnh Phước, Thành phố Nha Trang, Tỉnh Khánh Hòa',\n",
       "  '2024-11-13'),\n",
       " (480234.0, 'Xã Trì Quang, Huyện Bảo Thắng, Tỉnh Lào Cai', '2023-04-07'),\n",
       " (781791.0, 'Xã Hiệp An, Huyện Đức Trọng, Tỉnh Lâm Đồng', '2023-07-20'),\n",
       " (272979.0, 'Xã Đức Hoà, Huyện Sóc Sơn, Thành phố Hà Nội', '2023-08-04'),\n",
       " (89936.0, 'Xã Ia Pnôn, Huyện Đức Cơ, Tỉnh Gia Lai', '2024-02-08'),\n",
       " (118546.0,\n",
       "  'Thị trấn Chợ Chu, Huyện Định Hóa, Tỉnh Thái Nguyên',\n",
       "  '2024-07-26'),\n",
       " (727033.0, 'Xã Hòa Tân, Huyện Châu Thành, Tỉnh Đồng Tháp', '2023-01-27'),\n",
       " (829451.0, 'Xã Đăk Song, Huyện Kông Chro, Tỉnh Gia Lai', '2024-03-12'),\n",
       " (406080.0, 'Xã Châu Nhân, Huyện Hưng Nguyên, Tỉnh Nghệ An', '2024-02-19'),\n",
       " (713643.0,\n",
       "  'Phường Đồng Nhân, Quận Hai Bà Trưng, Thành phố Hà Nội',\n",
       "  '2024-07-29'),\n",
       " (762469.0, 'Xã Trà Lâm, Huyện Trà Bồng, Tỉnh Quảng Ngãi', '2023-04-20'),\n",
       " (993165.0, 'Phường Đằng Hải, Quận Hải An, Thành phố Hải Phòng', '2023-11-26'),\n",
       " (632983.0, 'Xã Trung Môn, Huyện Yên Sơn, Tỉnh Tuyên Quang', '2024-05-21'),\n",
       " (649273.0, 'Phường Nam Hồng, Thị xã Hồng Lĩnh, Tỉnh Hà Tĩnh', '2023-02-06'),\n",
       " (164158.0, 'Xã Nghĩa An, Huyện Nam Trực, Tỉnh Nam Định', '2025-03-04'),\n",
       " (495767.0, 'Xã Hưng Phú, Huyện Phước Long, Tỉnh Bạc Liêu', '2024-12-22'),\n",
       " (166523.0, 'Xã Trực Chính, Huyện Trực Ninh, Tỉnh Nam Định', '2023-10-19'),\n",
       " (730987.0, 'Xã Hiệp Xương, Huyện Phú Tân, Tỉnh An Giang', '2023-05-18'),\n",
       " (592057.0, 'Xã Châu Khánh, Huyện Long Phú, Tỉnh Sóc Trăng', '2024-05-12'),\n",
       " (679468.0, 'Xã Yên Phú, Huyện Yên Định, Tỉnh Thanh Hóa', '2024-02-08'),\n",
       " (219779.0, 'Xã Đại Trạch, Huyện Bố Trạch, Tỉnh Quảng Bình', '2023-08-08'),\n",
       " (725167.0, 'Xã Vị Đông, Huyện Vị Thuỷ, Tỉnh Hậu Giang', '2024-02-02'),\n",
       " (446713.0,\n",
       "  'Phường Đồng Nhân, Quận Hai Bà Trưng, Thành phố Hà Nội',\n",
       "  '2024-01-04'),\n",
       " (416466.0, 'Xã Văn Phú, Huyện Sơn Dương, Tỉnh Tuyên Quang', '2023-04-15'),\n",
       " (693556.0, 'Xã Khánh Lâm, Huyện U Minh, Tỉnh Cà Mau', '2024-08-02'),\n",
       " (580294.0, 'Xã Hàm Liêm, Huyện Hàm Thuận Bắc, Tỉnh Bình Thuận', '2025-01-06'),\n",
       " (436125.0, 'Phường Đồng Hóa, Thị xã Kim Bảng, Tỉnh Hà Nam', '2025-03-07'),\n",
       " (257782.0, 'Xã Hải Xuân, Huyện Hải Hậu, Tỉnh Nam Định', '2023-09-11'),\n",
       " (801862.0, 'Xã Lạc Long, Thị xã Kinh Môn, Tỉnh Hải Dương', '2024-10-16'),\n",
       " (828806.0, 'Xã Thanh Mai, Huyện Thanh Oai, Thành phố Hà Nội', '2024-10-13'),\n",
       " (68435.0, 'Thị trấn Đăk Đoa, Huyện Đăk Đoa, Tỉnh Gia Lai', '2025-04-09'),\n",
       " (231820.0, 'Xã Tri Lễ, Huyện Văn Quan, Tỉnh Lạng Sơn', '2023-03-30'),\n",
       " (845310.0, 'Xã Tân Sơn, Huyện Quỳnh Lưu, Tỉnh Nghệ An', '2023-06-28'),\n",
       " (806330.0, 'Xã Linh Phú, Huyện Chiêm Hóa, Tỉnh Tuyên Quang', '2023-12-31'),\n",
       " (679266.0, 'Phường 1, Thị xã Kiến Tường, Tỉnh Long An', '2023-11-28'),\n",
       " (857051.0, 'Xã Mường Khiêng, Huyện Thuận Châu, Tỉnh Sơn La', '2023-05-23'),\n",
       " (17022.0, 'Xã Pha Mu, Huyện Than Uyên, Tỉnh Lai Châu', '2023-08-02'),\n",
       " (703976.0,\n",
       "  'Phường Hòa Thọ Tây, Quận Cẩm Lệ, Thành phố Đà Nẵng',\n",
       "  '2023-06-14'),\n",
       " (686380.0, 'Xã Văn Minh, Huyện Na Rì, Tỉnh Bắc Kạn', '2024-11-24'),\n",
       " (414188.0, 'Thị trấn Đô Lương, Huyện Đô Lương, Tỉnh Nghệ An', '2025-03-28'),\n",
       " (951171.0, 'Xã Lạc Lương, Huyện Yên Thủy, Tỉnh Hoà Bình', '2025-03-09'),\n",
       " (986448.0,\n",
       "  'Phường Ninh Sơn, Thành phố Tây Ninh, Tỉnh Tây Ninh',\n",
       "  '2024-07-29'),\n",
       " (975876.0, 'Xã Thọ An, Huyện Đan Phượng, Thành phố Hà Nội', '2023-04-03'),\n",
       " (717754.0, 'Xã Cát Hiệp, Huyện Phù Cát, Tỉnh Bình Định', '2024-02-07'),\n",
       " (588377.0, 'Xã Xuân Lập, Huyện Thọ Xuân, Tỉnh Thanh Hóa', '2024-07-16'),\n",
       " (695908.0, 'Xã Đú Sáng, Huyện Kim Bôi, Tỉnh Hoà Bình', '2024-09-26'),\n",
       " (717073.0, 'Xã Vô Điếm, Huyện Bắc Quang, Tỉnh Hà Giang', '2024-06-26'),\n",
       " (453013.0, 'Xã Cun Pheo, Huyện Mai Châu, Tỉnh Hoà Bình', '2023-08-16'),\n",
       " (36853.0, 'Xã Thanh Long, Huyện Yên Mỹ, Tỉnh Hưng Yên', '2024-03-31'),\n",
       " (657636.0, 'Xã Cao Dương, Huyện Lương Sơn, Tỉnh Hoà Bình', '2024-04-03'),\n",
       " (757800.0, 'Xã Phong Điền, Huyện Trần Văn Thời, Tỉnh Cà Mau', '2023-08-22'),\n",
       " (837745.0,\n",
       "  'Phường Sở Dầu, Quận Hồng Bàng, Thành phố Hải Phòng',\n",
       "  '2024-04-02'),\n",
       " (985372.0, 'Xã Tiên Sơn, Huyện Tiên Phước, Tỉnh Quảng Nam', '2023-03-08'),\n",
       " (236134.0, 'Xã Bắc Hồng, Huyện Đông Anh, Thành phố Hà Nội', '2023-08-19'),\n",
       " (857660.0, 'Thị trấn Thọ Xuân, Huyện Thọ Xuân, Tỉnh Thanh Hóa', '2023-09-10'),\n",
       " (561948.0, 'Xã Tri Phương, Huyện Tràng Định, Tỉnh Lạng Sơn', '2024-01-10'),\n",
       " (494901.0, 'Xã Đà Loan, Huyện Đức Trọng, Tỉnh Lâm Đồng', '2024-10-14'),\n",
       " (325970.0, 'Xã Xuân Tín, Huyện Thọ Xuân, Tỉnh Thanh Hóa', '2024-04-06'),\n",
       " (447239.0,\n",
       "  'Phường Hiệp Bình Chánh, Thành phố Thủ Đức, Thành phố Hồ Chí Minh',\n",
       "  '2024-03-12'),\n",
       " (579814.0, 'Xã Liên Hòa, Thị xã Quảng Yên, Tỉnh Quảng Ninh', '2023-10-13'),\n",
       " (679986.0, 'Xã Vĩnh Lợi, Huyện Tân Hưng, Tỉnh Long An', '2023-07-14'),\n",
       " (31709.0, 'Xã Phú Thành, Huyện Lạc Thủy, Tỉnh Hoà Bình', '2023-11-17'),\n",
       " (875588.0,\n",
       "  'Phường Hội Nghĩa, Thành phố Tân Uyên, Tỉnh Bình Dương',\n",
       "  '2025-02-18'),\n",
       " (257890.0, 'Xã Tiên Phú, Huyện Phù Ninh, Tỉnh Phú Thọ', '2024-03-15'),\n",
       " (282110.0,\n",
       "  'Phường Đồng Tâm, Thành phố Vĩnh Yên, Tỉnh Vĩnh Phúc',\n",
       "  '2023-03-09'),\n",
       " (914279.0, 'Xã Đồng Tâm, Huyện Lạc Thủy, Tỉnh Hoà Bình', '2024-02-11'),\n",
       " (847904.0, 'Xã Khánh Bình, Huyện Khánh Vĩnh, Tỉnh Khánh Hòa', '2024-06-04'),\n",
       " (271379.0, 'Xã Minh Khai, Huyện Hoài Đức, Thành phố Hà Nội', '2025-01-18'),\n",
       " (649506.0,\n",
       "  'Xã Tân Quý Tây, Huyện Bình Chánh, Thành phố Hồ Chí Minh',\n",
       "  '2024-11-10'),\n",
       " (864152.0,\n",
       "  'Thị trấn Cửa Tùng, Huyện Vĩnh Linh, Tỉnh Quảng Trị',\n",
       "  '2024-02-07'),\n",
       " (177.0, 'Xã Thạnh Mỹ, Huyện Tân Phước, Tỉnh Tiền Giang', '2024-03-02'),\n",
       " (653759.0, 'Xã Văn Sơn, Huyện Lạc Sơn, Tỉnh Hoà Bình', '2023-05-20'),\n",
       " (650903.0, 'Xã Nàn Sán, Huyện Si Ma Cai, Tỉnh Lào Cai', '2023-11-08'),\n",
       " (533136.0, 'Xã Liên Am, Huyện Vĩnh Bảo, Thành phố Hải Phòng', '2024-09-04'),\n",
       " (796423.0, 'Xã Mai Sơn, Huyện Tương Dương, Tỉnh Nghệ An', '2024-03-15'),\n",
       " (348166.0, 'Xã Bắc Hưng, Huyện Tiên Lãng, Thành phố Hải Phòng', '2023-10-27'),\n",
       " (853199.0,\n",
       "  'Phường Phú Thọ, Thành phố Thủ Dầu Một, Tỉnh Bình Dương',\n",
       "  '2023-01-14'),\n",
       " (86244.0, 'Xã Thành Mỹ, Huyện Thạch Thành, Tỉnh Thanh Hóa', '2023-03-01'),\n",
       " (483379.0, 'Xã Cán Khê, Huyện Như Thanh, Tỉnh Thanh Hóa', '2025-02-09'),\n",
       " (189440.0, 'Xã Xiêng My, Huyện Tương Dương, Tỉnh Nghệ An', '2025-03-26'),\n",
       " (532120.0, 'Xã Hiệp An, Huyện Đức Trọng, Tỉnh Lâm Đồng', '2023-12-27'),\n",
       " (190839.0, 'Xã Tân Lập, Huyện Mộc Hóa, Tỉnh Long An', '2024-01-07'),\n",
       " (394354.0, 'Xã Vân Lĩnh, Huyện Thanh Ba, Tỉnh Phú Thọ', '2023-02-08'),\n",
       " (789291.0, 'Xã Châu Quang, Huyện Quỳ Hợp, Tỉnh Nghệ An', '2025-02-27'),\n",
       " (698657.0,\n",
       "  'Phường Phùng Chí Kiên, Thành phố Bắc Kạn, Tỉnh Bắc Kạn',\n",
       "  '2024-10-14'),\n",
       " (118882.0, 'Xã Bắc Phú, Huyện Sóc Sơn, Thành phố Hà Nội', '2025-03-12'),\n",
       " (942131.0,\n",
       "  'Xã Tân Thuận, Huyện Hàm Thuận Nam, Tỉnh Bình Thuận',\n",
       "  '2024-08-19'),\n",
       " (353395.0, 'Xã Hải Bối, Huyện Đông Anh, Thành phố Hà Nội', '2023-08-25'),\n",
       " (612027.0, 'Xã Phúc Sơn, Thị xã Nghĩa Lộ, Tỉnh Yên Bái', '2025-04-20'),\n",
       " (149536.0, 'Phường Tây Mỗ, Quận Nam Từ Liêm, Thành phố Hà Nội', '2024-02-06'),\n",
       " (726487.0,\n",
       "  'Xã Lưỡng Vượng, Thành phố Tuyên Quang, Tỉnh Tuyên Quang',\n",
       "  '2023-05-25'),\n",
       " (419049.0, 'Xã Hoa Thủy, Huyện Lệ Thủy, Tỉnh Quảng Bình', '2024-03-17'),\n",
       " (984715.0,\n",
       "  'Phường Tiền Phong, Thành phố Bắc Giang, Tỉnh Bắc Giang',\n",
       "  '2024-03-04'),\n",
       " (575905.0, 'Thị trấn Gò Quao, Huyện Gò Quao, Tỉnh Kiên Giang', '2024-05-23'),\n",
       " (748542.0, 'Xã Đại Hồng, Huyện Đại Lộc, Tỉnh Quảng Nam', '2024-05-28'),\n",
       " (396676.0, 'Xã Ba Tầng, Huyện Hướng Hóa, Tỉnh Quảng Trị', '2023-02-05'),\n",
       " (821207.0, 'Phường Đằng Lâm, Quận Hải An, Thành phố Hải Phòng', '2024-06-29'),\n",
       " (879966.0, 'Xã Hưng Nghĩa, Huyện Hưng Nguyên, Tỉnh Nghệ An', '2023-01-24'),\n",
       " (813984.0, 'Xã Quang Chiểu, Huyện Mường Lát, Tỉnh Thanh Hóa', '2023-07-01'),\n",
       " (218423.0, 'Xã Thạnh Phú, Huyện Cái Nước, Tỉnh Cà Mau', '2023-05-23'),\n",
       " (18555.0, 'Xã Phước Quang, Huyện Tuy Phước, Tỉnh Bình Định', '2024-05-22'),\n",
       " (395365.0, 'Xã Mỹ An, Huyện Thạnh Phú, Tỉnh Bến Tre', '2024-10-27'),\n",
       " (313369.0, 'Xã Bãi Sậy, Huyện Ân Thi, Tỉnh Hưng Yên', '2024-06-11'),\n",
       " (178506.0, 'Xã Đồng Xuân, Huyện Thanh Ba, Tỉnh Phú Thọ', '2024-04-18'),\n",
       " (964694.0, 'Xã Đồng Tâm, Huyện Lạc Thủy, Tỉnh Hoà Bình', '2024-07-18'),\n",
       " (82013.0,\n",
       "  'Xã Mường Luân, Huyện Điện Biên Đông, Tỉnh Điện Biên',\n",
       "  '2025-01-19'),\n",
       " (496983.0, 'Xã Điện Quang, Thị xã Điện Bàn, Tỉnh Quảng Nam', '2023-02-04'),\n",
       " (429332.0, 'Xã Quyết Thắng, Huyện Hữu Lũng, Tỉnh Lạng Sơn', '2025-03-31'),\n",
       " (103926.0, 'Phường 5, Thành phố Cà Mau, Tỉnh Cà Mau', '2025-01-24'),\n",
       " (240872.0,\n",
       "  'Thị trấn Thuận Châu, Huyện Thuận Châu, Tỉnh Sơn La',\n",
       "  '2024-05-06'),\n",
       " (234089.0, 'Xã Thành Minh, Huyện Thạch Thành, Tỉnh Thanh Hóa', '2023-09-14'),\n",
       " (61222.0, 'Thị trấn Mộ Đức, Huyện Mộ Đức, Tỉnh Quảng Ngãi', '2023-05-16'),\n",
       " (460536.0,\n",
       "  'Thị trấn Trung Phước, Huyện Quế Sơn, Tỉnh Quảng Nam',\n",
       "  '2023-01-28'),\n",
       " (844908.0, 'Xã Đồng Thanh, Huyện Kim Động, Tỉnh Hưng Yên', '2024-02-02'),\n",
       " (718071.0, 'Xã Nậm Mười, Huyện Văn Chấn, Tỉnh Yên Bái', '2023-03-27'),\n",
       " (39992.0, 'Xã Mỹ Hòa, Huyện Cầu Ngang, Tỉnh Trà Vinh', '2024-07-12'),\n",
       " (738378.0, 'Xã Đa Lộc, Huyện Đồng Xuân, Tỉnh Phú Yên', '2023-10-14'),\n",
       " (309709.0, 'Xã Phước Thiền, Huyện Nhơn Trạch, Tỉnh Đồng Nai', '2023-04-03'),\n",
       " (970778.0, 'Xã Yên Khương, Huyện Lang Chánh, Tỉnh Thanh Hóa', '2024-01-21'),\n",
       " (129683.0, 'Xã Trà Nam, Huyện Nam Trà My, Tỉnh Quảng Nam', '2024-10-02'),\n",
       " (512701.0, 'Xã Thạnh Trị, Huyện Gò Công Tây, Tỉnh Tiền Giang', '2024-11-24'),\n",
       " (142037.0, 'Xã Trà Tân, Huyện Trà Bồng, Tỉnh Quảng Ngãi', '2023-11-02'),\n",
       " (903460.0, 'Thị trấn Bình Gia, Huyện Bình Gia, Tỉnh Lạng Sơn', '2024-08-12'),\n",
       " (591953.0, 'Xã Mỹ Lâm, Huyện Hòn Đất, Tỉnh Kiên Giang', '2023-06-10'),\n",
       " (673924.0, 'Xã Đắk Som, Huyện Đăk Glong, Tỉnh Đắk Nông', '2023-12-18'),\n",
       " (686524.0, 'Xã Tân Hải, Huyện Phú Tân, Tỉnh Cà Mau', '2023-05-04'),\n",
       " (428138.0, 'Xã Hưng Điền, Huyện Tân Hưng, Tỉnh Long An', '2024-08-28'),\n",
       " (233503.0,\n",
       "  'Thị trấn Quảng Uyên, Huyện Quảng Hòa, Tỉnh Cao Bằng',\n",
       "  '2024-04-16'),\n",
       " (895786.0, 'Xã Cẩm Yên, Huyện Cẩm Thủy, Tỉnh Thanh Hóa', '2024-09-29'),\n",
       " (981087.0, 'Xã Vĩnh Quỳnh, Huyện Thanh Trì, Thành phố Hà Nội', '2023-01-21'),\n",
       " (740787.0, 'Xã Yên Thành, Huyện Yên Mô, Tỉnh Ninh Bình', '2023-12-06'),\n",
       " (473348.0,\n",
       "  'Xã Tịnh Ấn Tây, Thành phố Quảng Ngãi, Tỉnh Quảng Ngãi',\n",
       "  '2025-03-30'),\n",
       " (231565.0, 'Thị trấn Yên Bình, Huyện Yên Bình, Tỉnh Yên Bái', '2024-02-02'),\n",
       " (216813.0, 'Xã Phú Đức, Huyện Tam Nông, Tỉnh Đồng Tháp', '2025-01-04'),\n",
       " (741419.0, 'Xã Hiệp Hòa, Thị xã Kinh Môn, Tỉnh Hải Dương', '2023-06-13'),\n",
       " (538236.0, 'Xã Quảng Lộc, Huyện Quảng Xương, Tỉnh Thanh Hóa', '2023-04-17'),\n",
       " (161018.0, 'Xã Dray Bhăng, Huyện Cư Kuin, Tỉnh Đắk Lắk', '2024-02-23'),\n",
       " (381929.0,\n",
       "  'Phường Hiệp Ninh, Thành phố Tây Ninh, Tỉnh Tây Ninh',\n",
       "  '2024-02-21'),\n",
       " (138491.0, 'Xã Đông Nam, Thành phố Thanh Hóa, Tỉnh Thanh Hóa', '2025-03-29'),\n",
       " (585913.0, 'Xã Ngọc Long, Huyện Yên Minh, Tỉnh Hà Giang', '2023-07-14'),\n",
       " (736699.0,\n",
       "  'Phường Đồng Lạc, Thành phố Chí Linh, Tỉnh Hải Dương',\n",
       "  '2023-10-27'),\n",
       " (628167.0, 'Xã Bản Lang, Huyện Phong Thổ, Tỉnh Lai Châu', '2023-07-02'),\n",
       " (415122.0, 'Phường Hiệp Tân, Thị xã Hòa Thành, Tỉnh Tây Ninh', '2025-02-21'),\n",
       " (626511.0, 'Xã Tân Thanh, Huyện Cái Bè, Tỉnh Tiền Giang', '2023-12-20'),\n",
       " (445037.0,\n",
       "  'Phường Phước Hoà, Thành phố Phú Mỹ, Tỉnh Bà Rịa - Vũng Tàu',\n",
       "  '2024-04-04'),\n",
       " (879774.0, 'Xã Duy Ninh, Huyện Quảng Ninh, Tỉnh Quảng Bình', '2024-07-11'),\n",
       " (460481.0, 'Xã Ngọc Liệp, Huyện Quốc Oai, Thành phố Hà Nội', '2025-03-01'),\n",
       " (354639.0, 'Xã Phước Đông, Huyện Gò Dầu, Tỉnh Tây Ninh', '2024-10-22'),\n",
       " (467673.0, 'Phường 1, Thành phố Đông Hà, Tỉnh Quảng Trị', '2025-02-20'),\n",
       " (509298.0,\n",
       "  'Xã Đông Phương Yên, Huyện Chương Mỹ, Thành phố Hà Nội',\n",
       "  '2023-07-25'),\n",
       " (406245.0, 'Thị trấn Cô Tô, Huyện Cô Tô, Tỉnh Quảng Ninh', '2023-01-24'),\n",
       " (763557.0, 'Xã Quỳnh Khê, Huyện Quỳnh Phụ, Tỉnh Thái Bình', '2023-02-22'),\n",
       " (736542.0, 'Xã Long Khê, Huyện Cần Đước, Tỉnh Long An', '2023-08-06'),\n",
       " (622590.0, 'Xã Thiệu Giang, Huyện Thiệu Hóa, Tỉnh Thanh Hóa', '2023-02-11'),\n",
       " (480914.0, 'Xã Trà Đông, Huyện Bắc Trà My, Tỉnh Quảng Nam', '2024-11-19'),\n",
       " (787475.0, 'Xã Tam Hiệp, Huyện Châu Thành, Tỉnh Tiền Giang', '2025-03-11'),\n",
       " (499672.0, 'Xã Đức Tân, Huyện Tân Trụ, Tỉnh Long An', '2025-03-11'),\n",
       " (936201.0, 'Xã Nga Thiện, Huyện Nga Sơn, Tỉnh Thanh Hóa', '2024-06-27'),\n",
       " (3569.0, 'Xã Hoằng Xuyên, Huyện Hoằng Hóa, Tỉnh Thanh Hóa', '2024-02-04'),\n",
       " (927470.0, 'Xã Minh Diệu, Huyện Hoà Bình, Tỉnh Bạc Liêu', '2023-08-05'),\n",
       " (775372.0, 'Xã Ca Thành, Huyện Nguyên Bình, Tỉnh Cao Bằng', '2023-03-12'),\n",
       " (387354.0, 'Xã Khang Ninh, Huyện Ba Bể, Tỉnh Bắc Kạn', '2024-11-11'),\n",
       " (522048.0, 'Xã Nam Bình, Huyện Đắk Song, Tỉnh Đắk Nông', '2024-03-18'),\n",
       " (210237.0,\n",
       "  'Phường Nguyễn Nghiêm, Thành phố Quảng Ngãi, Tỉnh Quảng Ngãi',\n",
       "  '2024-02-24'),\n",
       " (653688.0, 'Xã Yên Thắng, Huyện Yên Mô, Tỉnh Ninh Bình', '2024-09-13'),\n",
       " (337670.0,\n",
       "  'Thị trấn Tiên Yên, Huyện Tiên Yên, Tỉnh Quảng Ninh',\n",
       "  '2025-01-11'),\n",
       " (110282.0, 'Xã Chiềng Ban, Huyện Mai Sơn, Tỉnh Sơn La', '2024-09-16'),\n",
       " (232595.0, 'Xã Tịnh Hiệp, Huyện Sơn Tịnh, Tỉnh Quảng Ngãi', '2023-05-24'),\n",
       " (906647.0, 'Xã Tam Dân, Huyện Phú Ninh, Tỉnh Quảng Nam', '2024-06-03'),\n",
       " (811629.0, 'Xã Văn Yên, Huyện Đại Từ, Tỉnh Thái Nguyên', '2023-05-01'),\n",
       " (597367.0, 'Xã Khánh Thiện, Huyện Lục Yên, Tỉnh Yên Bái', '2023-04-29'),\n",
       " (282230.0, 'Xã Diễn Hoa, Huyện Diễn Châu, Tỉnh Nghệ An', '2023-08-03'),\n",
       " (952294.0, 'Phường Phú Tân, Thành phố Bến Tre, Tỉnh Bến Tre', '2024-08-25'),\n",
       " (108734.0, 'Xã Gia Huynh, Huyện Tánh Linh, Tỉnh Bình Thuận', '2024-04-15'),\n",
       " (848228.0, 'Xã Phong Mỹ, Thị xã Phong Điền, Thành phố Huế', '2023-05-20'),\n",
       " (46378.0, 'Xã Phi Hải, Huyện Quảng Hòa, Tỉnh Cao Bằng', '2024-03-08'),\n",
       " (406299.0, 'Xã Phan Tiến, Huyện Bắc Bình, Tỉnh Bình Thuận', '2024-08-04'),\n",
       " (774293.0, 'Phường Tân Dân, Thị xã Kinh Môn, Tỉnh Hải Dương', '2023-12-11'),\n",
       " (44973.0, 'Xã Dương Đức, Huyện Lạng Giang, Tỉnh Bắc Giang', '2024-01-18'),\n",
       " (370350.0, 'Xã Tạ An Khương Đông, Huyện Đầm Dơi, Tỉnh Cà Mau', '2024-07-17'),\n",
       " (733493.0,\n",
       "  'Phường Quang Trung, Quận Hà Đông, Thành phố Hà Nội',\n",
       "  '2023-02-06'),\n",
       " (104549.0, 'Xã Suối Kiết, Huyện Tánh Linh, Tỉnh Bình Thuận', '2024-03-21'),\n",
       " (782416.0, 'Xã Nà Tăm, Huyện Tam Đường, Tỉnh Lai Châu', '2024-12-17'),\n",
       " (44197.0, 'Xã Điền Quang, Huyện Bá Thước, Tỉnh Thanh Hóa', '2025-02-19'),\n",
       " (940630.0, 'Xã Hưng Hội, Huyện Vĩnh Lợi, Tỉnh Bạc Liêu', '2024-06-05'),\n",
       " (251744.0, 'Phường Tân Hồng, Thành phố Từ Sơn, Tỉnh Bắc Ninh', '2024-11-17'),\n",
       " (37397.0, 'Phường Long Hưng, Quận Ô Môn, Thành phố Cần Thơ', '2024-10-04'),\n",
       " (865060.0, \"Xã K' Dang, Huyện Đăk Đoa, Tỉnh Gia Lai\", '2023-12-11'),\n",
       " (978988.0, 'Thị trấn Đầm Dơi, Huyện Đầm Dơi, Tỉnh Cà Mau', '2023-08-31'),\n",
       " (152709.0, 'Phường Song Hồ, Thị xã Thuận Thành, Tỉnh Bắc Ninh', '2025-01-05'),\n",
       " (538739.0, 'Xã Tân Lập, Huyện Sông Lô, Tỉnh Vĩnh Phúc', '2023-10-10'),\n",
       " (465095.0, 'Xã Kỳ Lợi, Thị xã Kỳ Anh, Tỉnh Hà Tĩnh', '2024-03-19'),\n",
       " (861197.0, 'Xã Đồng Tiến, Huyện Hữu Lũng, Tỉnh Lạng Sơn', '2024-01-11'),\n",
       " (814437.0, 'Xã Xuất Hóa, Huyện Lạc Sơn, Tỉnh Hoà Bình', '2023-07-18'),\n",
       " (129676.0, 'Xã Đông Lỗ, Huyện Ứng Hòa, Thành phố Hà Nội', '2024-06-13'),\n",
       " (291495.0,\n",
       "  'Thị trấn Mù Căng Chải, Huyện Mù Căng Chải, Tỉnh Yên Bái',\n",
       "  '2024-06-11'),\n",
       " (15011.0, 'Xã Mỹ Yên, Huyện Bến Lức, Tỉnh Long An', '2023-10-12'),\n",
       " (387729.0, 'Xã Nặm Lịch, Huyện Mường Ảng, Tỉnh Điện Biên', '2023-09-14'),\n",
       " (749338.0, 'Xã Tuân Tức, Huyện Thạnh Trị, Tỉnh Sóc Trăng', '2024-07-10'),\n",
       " (273248.0, 'Xã Tiên Dương, Huyện Đông Anh, Thành phố Hà Nội', '2024-08-15'),\n",
       " (20214.0, 'Thị trấn Cao Phong, Huyện Cao Phong, Tỉnh Hoà Bình', '2023-01-05'),\n",
       " (687573.0, 'Xã Đức Hòa Đông, Huyện Đức Hòa, Tỉnh Long An', '2023-08-07'),\n",
       " (425350.0, 'Xã Púng Bánh, Huyện Sốp Cộp, Tỉnh Sơn La', '2023-03-25'),\n",
       " ...]"
      ]
     },
     "execution_count": 156,
     "metadata": {},
     "output_type": "execute_result"
    }
   ],
   "source": [
    "random_customer_order_tuples"
   ]
  },
  {
   "cell_type": "code",
   "execution_count": 157,
   "id": "56189894",
   "metadata": {},
   "outputs": [
    {
     "name": "stderr",
     "output_type": "stream",
     "text": [
      "Processing orders: 100%|██████████| 300000/300000 [01:19<00:00, 3750.53it/s]\n"
     ]
    }
   ],
   "source": [
    "order_rows = []\n",
    "order_item_rows = []\n",
    "order_history_rows = []\n",
    "\n",
    "random.seed(42) \n",
    "\n",
    "for index, row in tqdm(enumerate(random_customer_order_tuples), total=len(random_customer_order_tuples), desc=\"Processing orders\"):\n",
    "    id = index\n",
    "    customer_id = int(row[0])\n",
    "    order_date = random_skipped_date(row[2])\n",
    "    shipping_address = row[1]\n",
    "    status = random.choice(order_status_list)\n",
    "    payment_method = random.choice(payment_method_list)\n",
    "    payment_status = random.choice(payment_status_list)\n",
    "    \n",
    "    payment_date = None\n",
    "\n",
    "    if payment_status == 'Pending':\n",
    "        payment_date = None\n",
    "    else:\n",
    "        if payment_method == 'COD':\n",
    "            payment_date = random_skipped_date(order_date)\n",
    "        else:\n",
    "            payment_date = order_date\n",
    "\n",
    "    current_product_variant = random_product_variant_order.sample(n=1)\n",
    "\n",
    "    product_variant_id = current_product_variant['id'].values[0]\n",
    "    unit_price = current_product_variant['price'].values[0]\n",
    "    quantity = random.randint(1, 5)\n",
    "    payment_amount = unit_price * quantity\n",
    "\n",
    "    manager_id = random.choice(random_product_manager_id)\n",
    "    processing_time = random_skipped_date(order_date)\n",
    "    previous_status = random.choice(manage_order_status_list)\n",
    "    new_status = random.choice(manage_order_status_list)\n",
    "\n",
    "    order_row = {\n",
    "        'id': id,\n",
    "        'customer_id': customer_id,\n",
    "        'order_date': order_date,\n",
    "        'shipping_address': shipping_address,\n",
    "        'status': status,\n",
    "        'payment_method': payment_method,\n",
    "        'payment_date': payment_date,\n",
    "        'payment_status': payment_status,\n",
    "        'payment_amount': payment_amount\n",
    "    }\n",
    "\n",
    "    order_item_row = {\n",
    "        'id': index,\n",
    "        'product_variant_id': product_variant_id,\n",
    "        'order_id': id,\n",
    "        'quantity': quantity,\n",
    "        'unit_price': unit_price,\n",
    "        'note': ''\n",
    "    }\n",
    "  \n",
    "    order_history_row = {\n",
    "        'id': index,\n",
    "        'manager_id': manager_id,\n",
    "        'order_id': id,\n",
    "        'processing_time': processing_time,\n",
    "        'previous_status': previous_status,\n",
    "        'new_status': new_status,\n",
    "    }\n",
    "\n",
    "    order_rows.append(order_row)\n",
    "    order_item_rows.append(order_item_row)\n",
    "    order_history_rows.append(order_history_row)\n",
    "\n",
    "order_df = pd.DataFrame(order_rows)\n",
    "order_item_df = pd.DataFrame(order_item_rows)\n",
    "order_history_df = pd.DataFrame(order_history_rows)\n",
    "    \n",
    "\n"
   ]
  },
  {
   "cell_type": "code",
   "execution_count": 158,
   "id": "0fece894",
   "metadata": {},
   "outputs": [
    {
     "data": {
      "text/html": [
       "<div>\n",
       "<style scoped>\n",
       "    .dataframe tbody tr th:only-of-type {\n",
       "        vertical-align: middle;\n",
       "    }\n",
       "\n",
       "    .dataframe tbody tr th {\n",
       "        vertical-align: top;\n",
       "    }\n",
       "\n",
       "    .dataframe thead th {\n",
       "        text-align: right;\n",
       "    }\n",
       "</style>\n",
       "<table border=\"1\" class=\"dataframe\">\n",
       "  <thead>\n",
       "    <tr style=\"text-align: right;\">\n",
       "      <th></th>\n",
       "      <th>id</th>\n",
       "      <th>customer_id</th>\n",
       "      <th>order_date</th>\n",
       "      <th>shipping_address</th>\n",
       "      <th>status</th>\n",
       "      <th>payment_method</th>\n",
       "      <th>payment_date</th>\n",
       "      <th>payment_status</th>\n",
       "      <th>payment_amount</th>\n",
       "    </tr>\n",
       "  </thead>\n",
       "  <tbody>\n",
       "    <tr>\n",
       "      <th>0</th>\n",
       "      <td>0</td>\n",
       "      <td>512655</td>\n",
       "      <td>2024-03-26 00:00:00</td>\n",
       "      <td>Xã Yên Cư, Huyện Chợ Mới, Tỉnh Bắc Kạn</td>\n",
       "      <td>Processing</td>\n",
       "      <td>Bank Transfer</td>\n",
       "      <td>2024-03-26 00:00:00</td>\n",
       "      <td>Paid</td>\n",
       "      <td>5078000</td>\n",
       "    </tr>\n",
       "    <tr>\n",
       "      <th>1</th>\n",
       "      <td>1</td>\n",
       "      <td>806245</td>\n",
       "      <td>2025-05-01 00:00:00</td>\n",
       "      <td>Phường Song Mai, Thành phố Bắc Giang, Tỉnh Bắc...</td>\n",
       "      <td>Completed</td>\n",
       "      <td>COD</td>\n",
       "      <td>None</td>\n",
       "      <td>Pending</td>\n",
       "      <td>7899000</td>\n",
       "    </tr>\n",
       "    <tr>\n",
       "      <th>2</th>\n",
       "      <td>2</td>\n",
       "      <td>648871</td>\n",
       "      <td>2025-04-28 00:00:00</td>\n",
       "      <td>Xã Đồng Tiến, Huyện Đồng Phú, Tỉnh Bình Phước</td>\n",
       "      <td>Completed</td>\n",
       "      <td>Credit Card</td>\n",
       "      <td>2025-04-28 00:00:00</td>\n",
       "      <td>Partially Paid</td>\n",
       "      <td>25450000</td>\n",
       "    </tr>\n",
       "    <tr>\n",
       "      <th>3</th>\n",
       "      <td>3</td>\n",
       "      <td>985924</td>\n",
       "      <td>2024-04-05 00:00:00</td>\n",
       "      <td>Xã Ninh Phước, Huyện Quế Sơn, Tỉnh Quảng Nam</td>\n",
       "      <td>Rejected</td>\n",
       "      <td>Credit Card</td>\n",
       "      <td>2024-04-05 00:00:00</td>\n",
       "      <td>Paid</td>\n",
       "      <td>34470000</td>\n",
       "    </tr>\n",
       "    <tr>\n",
       "      <th>4</th>\n",
       "      <td>4</td>\n",
       "      <td>480190</td>\n",
       "      <td>2024-09-27 00:00:00</td>\n",
       "      <td>Xã Tân Thanh, Huyện Lạng Giang, Tỉnh Bắc Giang</td>\n",
       "      <td>Rejected</td>\n",
       "      <td>Bank Transfer</td>\n",
       "      <td>None</td>\n",
       "      <td>Pending</td>\n",
       "      <td>36760000</td>\n",
       "    </tr>\n",
       "    <tr>\n",
       "      <th>...</th>\n",
       "      <td>...</td>\n",
       "      <td>...</td>\n",
       "      <td>...</td>\n",
       "      <td>...</td>\n",
       "      <td>...</td>\n",
       "      <td>...</td>\n",
       "      <td>...</td>\n",
       "      <td>...</td>\n",
       "      <td>...</td>\n",
       "    </tr>\n",
       "    <tr>\n",
       "      <th>299995</th>\n",
       "      <td>299995</td>\n",
       "      <td>694113</td>\n",
       "      <td>2024-10-26 00:00:00</td>\n",
       "      <td>Xã Phước Chiến, Huyện Thuận Bắc, Tỉnh Ninh Thuận</td>\n",
       "      <td>Rejected</td>\n",
       "      <td>COD</td>\n",
       "      <td>None</td>\n",
       "      <td>Pending</td>\n",
       "      <td>30590000</td>\n",
       "    </tr>\n",
       "    <tr>\n",
       "      <th>299996</th>\n",
       "      <td>299996</td>\n",
       "      <td>924551</td>\n",
       "      <td>2025-01-02 00:00:00</td>\n",
       "      <td>Thị trấn Nghĩa Đàn, Huyện Nghĩa Đàn, Tỉnh Nghệ An</td>\n",
       "      <td>Processing</td>\n",
       "      <td>PayPal</td>\n",
       "      <td>2025-01-02 00:00:00</td>\n",
       "      <td>Paid</td>\n",
       "      <td>46995000</td>\n",
       "    </tr>\n",
       "    <tr>\n",
       "      <th>299997</th>\n",
       "      <td>299997</td>\n",
       "      <td>203193</td>\n",
       "      <td>2024-03-03 00:00:00</td>\n",
       "      <td>Xã Chiêu Vũ, Huyện Bắc Sơn, Tỉnh Lạng Sơn</td>\n",
       "      <td>Completed</td>\n",
       "      <td>COD</td>\n",
       "      <td>2025-04-14 00:00:00</td>\n",
       "      <td>Paid</td>\n",
       "      <td>49400000</td>\n",
       "    </tr>\n",
       "    <tr>\n",
       "      <th>299998</th>\n",
       "      <td>299998</td>\n",
       "      <td>79008</td>\n",
       "      <td>2025-01-13 00:00:00</td>\n",
       "      <td>Xã Vị Tân, Thành phố Vị Thanh, Tỉnh Hậu Giang</td>\n",
       "      <td>Rejected</td>\n",
       "      <td>COD</td>\n",
       "      <td>2025-02-07 00:00:00</td>\n",
       "      <td>Paid</td>\n",
       "      <td>20000000</td>\n",
       "    </tr>\n",
       "    <tr>\n",
       "      <th>299999</th>\n",
       "      <td>299999</td>\n",
       "      <td>233244</td>\n",
       "      <td>2025-02-17 00:00:00</td>\n",
       "      <td>Xã Bình Thạnh, Huyện Thủ Thừa, Tỉnh Long An</td>\n",
       "      <td>Cancelled</td>\n",
       "      <td>COD</td>\n",
       "      <td>2025-03-01 00:00:00</td>\n",
       "      <td>Refunded</td>\n",
       "      <td>124950000</td>\n",
       "    </tr>\n",
       "  </tbody>\n",
       "</table>\n",
       "<p>300000 rows × 9 columns</p>\n",
       "</div>"
      ],
      "text/plain": [
       "            id  customer_id           order_date  \\\n",
       "0            0       512655  2024-03-26 00:00:00   \n",
       "1            1       806245  2025-05-01 00:00:00   \n",
       "2            2       648871  2025-04-28 00:00:00   \n",
       "3            3       985924  2024-04-05 00:00:00   \n",
       "4            4       480190  2024-09-27 00:00:00   \n",
       "...        ...          ...                  ...   \n",
       "299995  299995       694113  2024-10-26 00:00:00   \n",
       "299996  299996       924551  2025-01-02 00:00:00   \n",
       "299997  299997       203193  2024-03-03 00:00:00   \n",
       "299998  299998        79008  2025-01-13 00:00:00   \n",
       "299999  299999       233244  2025-02-17 00:00:00   \n",
       "\n",
       "                                         shipping_address      status  \\\n",
       "0                  Xã Yên Cư, Huyện Chợ Mới, Tỉnh Bắc Kạn  Processing   \n",
       "1       Phường Song Mai, Thành phố Bắc Giang, Tỉnh Bắc...   Completed   \n",
       "2           Xã Đồng Tiến, Huyện Đồng Phú, Tỉnh Bình Phước   Completed   \n",
       "3            Xã Ninh Phước, Huyện Quế Sơn, Tỉnh Quảng Nam    Rejected   \n",
       "4          Xã Tân Thanh, Huyện Lạng Giang, Tỉnh Bắc Giang    Rejected   \n",
       "...                                                   ...         ...   \n",
       "299995   Xã Phước Chiến, Huyện Thuận Bắc, Tỉnh Ninh Thuận    Rejected   \n",
       "299996  Thị trấn Nghĩa Đàn, Huyện Nghĩa Đàn, Tỉnh Nghệ An  Processing   \n",
       "299997          Xã Chiêu Vũ, Huyện Bắc Sơn, Tỉnh Lạng Sơn   Completed   \n",
       "299998      Xã Vị Tân, Thành phố Vị Thanh, Tỉnh Hậu Giang    Rejected   \n",
       "299999        Xã Bình Thạnh, Huyện Thủ Thừa, Tỉnh Long An   Cancelled   \n",
       "\n",
       "       payment_method         payment_date  payment_status  payment_amount  \n",
       "0       Bank Transfer  2024-03-26 00:00:00            Paid         5078000  \n",
       "1                 COD                 None         Pending         7899000  \n",
       "2         Credit Card  2025-04-28 00:00:00  Partially Paid        25450000  \n",
       "3         Credit Card  2024-04-05 00:00:00            Paid        34470000  \n",
       "4       Bank Transfer                 None         Pending        36760000  \n",
       "...               ...                  ...             ...             ...  \n",
       "299995            COD                 None         Pending        30590000  \n",
       "299996         PayPal  2025-01-02 00:00:00            Paid        46995000  \n",
       "299997            COD  2025-04-14 00:00:00            Paid        49400000  \n",
       "299998            COD  2025-02-07 00:00:00            Paid        20000000  \n",
       "299999            COD  2025-03-01 00:00:00        Refunded       124950000  \n",
       "\n",
       "[300000 rows x 9 columns]"
      ]
     },
     "execution_count": 158,
     "metadata": {},
     "output_type": "execute_result"
    }
   ],
   "source": [
    "order_df"
   ]
  },
  {
   "cell_type": "code",
   "execution_count": 159,
   "id": "d9aeac8d",
   "metadata": {},
   "outputs": [
    {
     "data": {
      "text/html": [
       "<div>\n",
       "<style scoped>\n",
       "    .dataframe tbody tr th:only-of-type {\n",
       "        vertical-align: middle;\n",
       "    }\n",
       "\n",
       "    .dataframe tbody tr th {\n",
       "        vertical-align: top;\n",
       "    }\n",
       "\n",
       "    .dataframe thead th {\n",
       "        text-align: right;\n",
       "    }\n",
       "</style>\n",
       "<table border=\"1\" class=\"dataframe\">\n",
       "  <thead>\n",
       "    <tr style=\"text-align: right;\">\n",
       "      <th></th>\n",
       "      <th>id</th>\n",
       "      <th>product_variant_id</th>\n",
       "      <th>order_id</th>\n",
       "      <th>quantity</th>\n",
       "      <th>unit_price</th>\n",
       "      <th>note</th>\n",
       "    </tr>\n",
       "  </thead>\n",
       "  <tbody>\n",
       "    <tr>\n",
       "      <th>0</th>\n",
       "      <td>0</td>\n",
       "      <td>000178</td>\n",
       "      <td>0</td>\n",
       "      <td>2</td>\n",
       "      <td>2539000</td>\n",
       "      <td></td>\n",
       "    </tr>\n",
       "    <tr>\n",
       "      <th>1</th>\n",
       "      <td>1</td>\n",
       "      <td>002104</td>\n",
       "      <td>1</td>\n",
       "      <td>1</td>\n",
       "      <td>7899000</td>\n",
       "      <td></td>\n",
       "    </tr>\n",
       "    <tr>\n",
       "      <th>2</th>\n",
       "      <td>2</td>\n",
       "      <td>000144</td>\n",
       "      <td>2</td>\n",
       "      <td>5</td>\n",
       "      <td>5090000</td>\n",
       "      <td></td>\n",
       "    </tr>\n",
       "    <tr>\n",
       "      <th>3</th>\n",
       "      <td>3</td>\n",
       "      <td>001558</td>\n",
       "      <td>3</td>\n",
       "      <td>3</td>\n",
       "      <td>11490000</td>\n",
       "      <td></td>\n",
       "    </tr>\n",
       "    <tr>\n",
       "      <th>4</th>\n",
       "      <td>4</td>\n",
       "      <td>000729</td>\n",
       "      <td>4</td>\n",
       "      <td>4</td>\n",
       "      <td>9190000</td>\n",
       "      <td></td>\n",
       "    </tr>\n",
       "    <tr>\n",
       "      <th>...</th>\n",
       "      <td>...</td>\n",
       "      <td>...</td>\n",
       "      <td>...</td>\n",
       "      <td>...</td>\n",
       "      <td>...</td>\n",
       "      <td>...</td>\n",
       "    </tr>\n",
       "    <tr>\n",
       "      <th>299995</th>\n",
       "      <td>299995</td>\n",
       "      <td>001213</td>\n",
       "      <td>299995</td>\n",
       "      <td>1</td>\n",
       "      <td>30590000</td>\n",
       "      <td></td>\n",
       "    </tr>\n",
       "    <tr>\n",
       "      <th>299996</th>\n",
       "      <td>299996</td>\n",
       "      <td>000599</td>\n",
       "      <td>299996</td>\n",
       "      <td>5</td>\n",
       "      <td>9399000</td>\n",
       "      <td></td>\n",
       "    </tr>\n",
       "    <tr>\n",
       "      <th>299997</th>\n",
       "      <td>299997</td>\n",
       "      <td>000818</td>\n",
       "      <td>299997</td>\n",
       "      <td>4</td>\n",
       "      <td>12350000</td>\n",
       "      <td></td>\n",
       "    </tr>\n",
       "    <tr>\n",
       "      <th>299998</th>\n",
       "      <td>299998</td>\n",
       "      <td>002247</td>\n",
       "      <td>299998</td>\n",
       "      <td>1</td>\n",
       "      <td>20000000</td>\n",
       "      <td></td>\n",
       "    </tr>\n",
       "    <tr>\n",
       "      <th>299999</th>\n",
       "      <td>299999</td>\n",
       "      <td>001023</td>\n",
       "      <td>299999</td>\n",
       "      <td>5</td>\n",
       "      <td>24990000</td>\n",
       "      <td></td>\n",
       "    </tr>\n",
       "  </tbody>\n",
       "</table>\n",
       "<p>300000 rows × 6 columns</p>\n",
       "</div>"
      ],
      "text/plain": [
       "            id product_variant_id  order_id  quantity  unit_price note\n",
       "0            0             000178         0         2     2539000     \n",
       "1            1             002104         1         1     7899000     \n",
       "2            2             000144         2         5     5090000     \n",
       "3            3             001558         3         3    11490000     \n",
       "4            4             000729         4         4     9190000     \n",
       "...        ...                ...       ...       ...         ...  ...\n",
       "299995  299995             001213    299995         1    30590000     \n",
       "299996  299996             000599    299996         5     9399000     \n",
       "299997  299997             000818    299997         4    12350000     \n",
       "299998  299998             002247    299998         1    20000000     \n",
       "299999  299999             001023    299999         5    24990000     \n",
       "\n",
       "[300000 rows x 6 columns]"
      ]
     },
     "execution_count": 159,
     "metadata": {},
     "output_type": "execute_result"
    }
   ],
   "source": [
    "order_item_df"
   ]
  },
  {
   "cell_type": "code",
   "execution_count": 160,
   "id": "f6a201a8",
   "metadata": {},
   "outputs": [
    {
     "data": {
      "text/html": [
       "<div>\n",
       "<style scoped>\n",
       "    .dataframe tbody tr th:only-of-type {\n",
       "        vertical-align: middle;\n",
       "    }\n",
       "\n",
       "    .dataframe tbody tr th {\n",
       "        vertical-align: top;\n",
       "    }\n",
       "\n",
       "    .dataframe thead th {\n",
       "        text-align: right;\n",
       "    }\n",
       "</style>\n",
       "<table border=\"1\" class=\"dataframe\">\n",
       "  <thead>\n",
       "    <tr style=\"text-align: right;\">\n",
       "      <th></th>\n",
       "      <th>id</th>\n",
       "      <th>manager_id</th>\n",
       "      <th>order_id</th>\n",
       "      <th>processing_time</th>\n",
       "      <th>previous_status</th>\n",
       "      <th>new_status</th>\n",
       "    </tr>\n",
       "  </thead>\n",
       "  <tbody>\n",
       "    <tr>\n",
       "      <th>0</th>\n",
       "      <td>0</td>\n",
       "      <td>11</td>\n",
       "      <td>0</td>\n",
       "      <td>2025-04-07 00:00:00</td>\n",
       "      <td>Pending</td>\n",
       "      <td>Pending</td>\n",
       "    </tr>\n",
       "    <tr>\n",
       "      <th>1</th>\n",
       "      <td>1</td>\n",
       "      <td>118</td>\n",
       "      <td>1</td>\n",
       "      <td>2025-05-01 00:00:00</td>\n",
       "      <td>Pending</td>\n",
       "      <td>Processing</td>\n",
       "    </tr>\n",
       "    <tr>\n",
       "      <th>2</th>\n",
       "      <td>2</td>\n",
       "      <td>112</td>\n",
       "      <td>2</td>\n",
       "      <td>2025-04-28 00:00:00</td>\n",
       "      <td>Processing</td>\n",
       "      <td>Completed</td>\n",
       "    </tr>\n",
       "    <tr>\n",
       "      <th>3</th>\n",
       "      <td>3</td>\n",
       "      <td>160</td>\n",
       "      <td>3</td>\n",
       "      <td>2024-05-22 00:00:00</td>\n",
       "      <td>Completed</td>\n",
       "      <td>Pending</td>\n",
       "    </tr>\n",
       "    <tr>\n",
       "      <th>4</th>\n",
       "      <td>4</td>\n",
       "      <td>41</td>\n",
       "      <td>4</td>\n",
       "      <td>2024-10-28 00:00:00</td>\n",
       "      <td>Completed</td>\n",
       "      <td>Pending</td>\n",
       "    </tr>\n",
       "    <tr>\n",
       "      <th>...</th>\n",
       "      <td>...</td>\n",
       "      <td>...</td>\n",
       "      <td>...</td>\n",
       "      <td>...</td>\n",
       "      <td>...</td>\n",
       "      <td>...</td>\n",
       "    </tr>\n",
       "    <tr>\n",
       "      <th>299995</th>\n",
       "      <td>299995</td>\n",
       "      <td>156</td>\n",
       "      <td>299995</td>\n",
       "      <td>2025-03-28 00:00:00</td>\n",
       "      <td>Completed</td>\n",
       "      <td>Cancelled</td>\n",
       "    </tr>\n",
       "    <tr>\n",
       "      <th>299996</th>\n",
       "      <td>299996</td>\n",
       "      <td>174</td>\n",
       "      <td>299996</td>\n",
       "      <td>2025-01-03 00:00:00</td>\n",
       "      <td>Processing</td>\n",
       "      <td>Processing</td>\n",
       "    </tr>\n",
       "    <tr>\n",
       "      <th>299997</th>\n",
       "      <td>299997</td>\n",
       "      <td>127</td>\n",
       "      <td>299997</td>\n",
       "      <td>2024-05-17 00:00:00</td>\n",
       "      <td>Cancelled</td>\n",
       "      <td>Cancelled</td>\n",
       "    </tr>\n",
       "    <tr>\n",
       "      <th>299998</th>\n",
       "      <td>299998</td>\n",
       "      <td>76</td>\n",
       "      <td>299998</td>\n",
       "      <td>2025-04-18 00:00:00</td>\n",
       "      <td>Processing</td>\n",
       "      <td>Pending</td>\n",
       "    </tr>\n",
       "    <tr>\n",
       "      <th>299999</th>\n",
       "      <td>299999</td>\n",
       "      <td>153</td>\n",
       "      <td>299999</td>\n",
       "      <td>2025-04-20 00:00:00</td>\n",
       "      <td>Processing</td>\n",
       "      <td>Completed</td>\n",
       "    </tr>\n",
       "  </tbody>\n",
       "</table>\n",
       "<p>300000 rows × 6 columns</p>\n",
       "</div>"
      ],
      "text/plain": [
       "            id  manager_id  order_id      processing_time previous_status  \\\n",
       "0            0          11         0  2025-04-07 00:00:00         Pending   \n",
       "1            1         118         1  2025-05-01 00:00:00         Pending   \n",
       "2            2         112         2  2025-04-28 00:00:00      Processing   \n",
       "3            3         160         3  2024-05-22 00:00:00       Completed   \n",
       "4            4          41         4  2024-10-28 00:00:00       Completed   \n",
       "...        ...         ...       ...                  ...             ...   \n",
       "299995  299995         156    299995  2025-03-28 00:00:00       Completed   \n",
       "299996  299996         174    299996  2025-01-03 00:00:00      Processing   \n",
       "299997  299997         127    299997  2024-05-17 00:00:00       Cancelled   \n",
       "299998  299998          76    299998  2025-04-18 00:00:00      Processing   \n",
       "299999  299999         153    299999  2025-04-20 00:00:00      Processing   \n",
       "\n",
       "        new_status  \n",
       "0          Pending  \n",
       "1       Processing  \n",
       "2        Completed  \n",
       "3          Pending  \n",
       "4          Pending  \n",
       "...            ...  \n",
       "299995   Cancelled  \n",
       "299996  Processing  \n",
       "299997   Cancelled  \n",
       "299998     Pending  \n",
       "299999   Completed  \n",
       "\n",
       "[300000 rows x 6 columns]"
      ]
     },
     "execution_count": 160,
     "metadata": {},
     "output_type": "execute_result"
    }
   ],
   "source": [
    "order_history_df"
   ]
  },
  {
   "cell_type": "code",
   "execution_count": 161,
   "id": "2d34978c",
   "metadata": {},
   "outputs": [],
   "source": [
    "order_df.to_csv('./transformedData/order.csv', index=False, encoding='utf-8-sig')\n",
    "order_item_df.to_csv('./transformedData/order_item.csv', index=False, encoding='utf-8-sig')\n",
    "order_history_df.to_csv('./transformedData/order_history.csv', index=False, encoding='utf-8-sig')"
   ]
  }
 ],
 "metadata": {
  "kernelspec": {
   "display_name": "venv",
   "language": "python",
   "name": "python3"
  },
  "language_info": {
   "codemirror_mode": {
    "name": "ipython",
    "version": 3
   },
   "file_extension": ".py",
   "mimetype": "text/x-python",
   "name": "python",
   "nbconvert_exporter": "python",
   "pygments_lexer": "ipython3",
   "version": "3.13.1"
  }
 },
 "nbformat": 4,
 "nbformat_minor": 5
}
