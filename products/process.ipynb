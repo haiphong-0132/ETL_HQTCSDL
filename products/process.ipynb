{
 "cells": [
  {
   "cell_type": "code",
   "execution_count": 97,
   "id": "e648158c",
   "metadata": {},
   "outputs": [],
   "source": [
    "import pandas as pd\n",
    "import numpy as np\n",
    "import random"
   ]
  },
  {
   "cell_type": "markdown",
   "id": "abf2efc4",
   "metadata": {},
   "source": [
    "### Đặt lại danh mục sản phẩm"
   ]
  },
  {
   "cell_type": "markdown",
   "id": "3361a048",
   "metadata": {},
   "source": [
    "#### Điện thoại"
   ]
  },
  {
   "cell_type": "code",
   "execution_count": 98,
   "id": "53214c35",
   "metadata": {},
   "outputs": [],
   "source": [
    "dienthoai = pd.read_csv('./rawData/dienthoai.csv', encoding='utf-8')"
   ]
  },
  {
   "cell_type": "markdown",
   "id": "e4e3844e",
   "metadata": {},
   "source": [
    "Kiểm tra giá trị trùng lặp"
   ]
  },
  {
   "cell_type": "code",
   "execution_count": 99,
   "id": "dcc81a36",
   "metadata": {},
   "outputs": [
    {
     "name": "stdout",
     "output_type": "stream",
     "text": [
      "24\n"
     ]
    }
   ],
   "source": [
    "# Check for duplicate values in the DataFrame\n",
    "print(dienthoai.duplicated().sum())\n",
    "\n",
    "# Remove duplicate rows from the DataFrame\n",
    "dienthoai = dienthoai.drop_duplicates()"
   ]
  },
  {
   "cell_type": "markdown",
   "id": "13fef6a4",
   "metadata": {},
   "source": [
    "Kiểm tra giá trị thiếu"
   ]
  },
  {
   "cell_type": "code",
   "execution_count": 100,
   "id": "d77c735e",
   "metadata": {},
   "outputs": [
    {
     "name": "stdout",
     "output_type": "stream",
     "text": [
      "Id                   0\n",
      "Tên sản phẩm         0\n",
      "Thương hiệu          0\n",
      "Danh mục             0\n",
      "Thông số kỹ thuật    0\n",
      "Phiên bản            0\n",
      "Mô tả                0\n",
      "Hình ảnh             0\n",
      "dtype: int64\n"
     ]
    }
   ],
   "source": [
    "# Check for missing values in the DataFrame\n",
    "print(dienthoai.isnull().sum())\n"
   ]
  },
  {
   "cell_type": "code",
   "execution_count": 101,
   "id": "fb5d090b",
   "metadata": {},
   "outputs": [
    {
     "data": {
      "text/plain": [
       "Danh mục\n",
       "Điện thoại Smartphone         187\n",
       "Điện Thoại - Máy Tính Bảng     11\n",
       "Phụ kiện                        5\n",
       "Root                            2\n",
       "Name: count, dtype: int64"
      ]
     },
     "execution_count": 101,
     "metadata": {},
     "output_type": "execute_result"
    }
   ],
   "source": [
    "dienthoai['Danh mục'].value_counts()"
   ]
  },
  {
   "cell_type": "markdown",
   "id": "ad2e960d",
   "metadata": {},
   "source": [
    "Chuyển hết sản phẩm thuộc danh mục Điện Thoại - Máy Tính Bản, Root vào Điện thoại Smartphone"
   ]
  },
  {
   "cell_type": "code",
   "execution_count": 102,
   "id": "4c5d8991",
   "metadata": {},
   "outputs": [],
   "source": [
    "df1 = dienthoai\n",
    "\n",
    "df1['Danh mục'] = df1['Danh mục'].replace(\n",
    "    {\n",
    "        'Điện Thoại - Máy Tính Bảng': 'Điện thoại Smartphone',\n",
    "        'Root': 'Điện thoại Smartphone',\n",
    "        'Phụ kiện': 'Phụ kiện điện thoại',\n",
    "    }\n",
    ")"
   ]
  },
  {
   "cell_type": "code",
   "execution_count": 103,
   "id": "aad8f572",
   "metadata": {},
   "outputs": [
    {
     "data": {
      "text/plain": [
       "Danh mục\n",
       "Điện thoại Smartphone    200\n",
       "Phụ kiện điện thoại        5\n",
       "Name: count, dtype: int64"
      ]
     },
     "execution_count": 103,
     "metadata": {},
     "output_type": "execute_result"
    }
   ],
   "source": [
    "df1['Danh mục'].value_counts()"
   ]
  },
  {
   "cell_type": "code",
   "execution_count": 104,
   "id": "6bb6a395",
   "metadata": {},
   "outputs": [],
   "source": [
    "dienthoai = df1"
   ]
  },
  {
   "cell_type": "markdown",
   "id": "b6407fee",
   "metadata": {},
   "source": [
    "#### Điện thoại bàn"
   ]
  },
  {
   "cell_type": "code",
   "execution_count": 105,
   "id": "e6a7526f",
   "metadata": {},
   "outputs": [],
   "source": [
    "mayban = pd.read_csv('./rawData/dienthoaiban.csv', encoding='utf-8')"
   ]
  },
  {
   "cell_type": "markdown",
   "id": "b1d43275",
   "metadata": {},
   "source": [
    "Kiểm tra giá trị trùng lặp"
   ]
  },
  {
   "cell_type": "code",
   "execution_count": 106,
   "id": "02ffcd5b",
   "metadata": {},
   "outputs": [
    {
     "name": "stdout",
     "output_type": "stream",
     "text": [
      "0\n"
     ]
    }
   ],
   "source": [
    "# Check for duplicate values in the DataFrame\n",
    "print(mayban.duplicated().sum())"
   ]
  },
  {
   "cell_type": "markdown",
   "id": "b31230f6",
   "metadata": {},
   "source": [
    "Kiểm tra giá trị thiếu"
   ]
  },
  {
   "cell_type": "code",
   "execution_count": 107,
   "id": "cc819ebe",
   "metadata": {},
   "outputs": [
    {
     "name": "stdout",
     "output_type": "stream",
     "text": [
      "Id                   0\n",
      "Tên sản phẩm         0\n",
      "Thương hiệu          0\n",
      "Danh mục             0\n",
      "Thông số kỹ thuật    0\n",
      "Phiên bản            0\n",
      "Mô tả                0\n",
      "Hình ảnh             0\n",
      "dtype: int64\n"
     ]
    }
   ],
   "source": [
    "# Check for missing values in the DataFrame\n",
    "print(mayban.isnull().sum())"
   ]
  },
  {
   "cell_type": "markdown",
   "id": "12b83c1d",
   "metadata": {},
   "source": [
    "Đặt danh mục của tất cả sản phẩm là ``Điện thoại bàn``"
   ]
  },
  {
   "cell_type": "code",
   "execution_count": 108,
   "id": "3439314b",
   "metadata": {},
   "outputs": [],
   "source": [
    "mayban['Danh mục'] = 'Điện thoại bàn'"
   ]
  },
  {
   "cell_type": "code",
   "execution_count": 109,
   "id": "0bfd7895",
   "metadata": {},
   "outputs": [
    {
     "data": {
      "text/plain": [
       "Danh mục\n",
       "Điện thoại bàn    50\n",
       "Name: count, dtype: int64"
      ]
     },
     "execution_count": 109,
     "metadata": {},
     "output_type": "execute_result"
    }
   ],
   "source": [
    "mayban['Danh mục'].value_counts()"
   ]
  },
  {
   "cell_type": "markdown",
   "id": "15a3b913",
   "metadata": {},
   "source": [
    "#### Điện thoại phổ thông"
   ]
  },
  {
   "cell_type": "code",
   "execution_count": 110,
   "id": "c06c9ea4",
   "metadata": {},
   "outputs": [],
   "source": [
    "cucgach = pd.read_csv('./rawData/dienthoaiphothong.csv', encoding='utf-8')"
   ]
  },
  {
   "cell_type": "markdown",
   "id": "25683b7f",
   "metadata": {},
   "source": [
    "Kiểm tra giá trị trùng lặp"
   ]
  },
  {
   "cell_type": "code",
   "execution_count": 111,
   "id": "3fb4d56a",
   "metadata": {},
   "outputs": [
    {
     "name": "stdout",
     "output_type": "stream",
     "text": [
      "0\n"
     ]
    }
   ],
   "source": [
    "# Check for duplicate values in the DataFrame\n",
    "print(cucgach.duplicated().sum())"
   ]
  },
  {
   "cell_type": "markdown",
   "id": "530f6b32",
   "metadata": {},
   "source": [
    "Kiểm tra giá trị thiếu"
   ]
  },
  {
   "cell_type": "code",
   "execution_count": 112,
   "id": "19f8655f",
   "metadata": {},
   "outputs": [
    {
     "name": "stdout",
     "output_type": "stream",
     "text": [
      "Id                   0\n",
      "Tên sản phẩm         0\n",
      "Thương hiệu          0\n",
      "Danh mục             0\n",
      "Thông số kỹ thuật    0\n",
      "Phiên bản            0\n",
      "Mô tả                0\n",
      "Hình ảnh             0\n",
      "dtype: int64\n"
     ]
    }
   ],
   "source": [
    "# Check for missing values in the DataFrame\n",
    "print(cucgach.isnull().sum())"
   ]
  },
  {
   "cell_type": "markdown",
   "id": "a56bb875",
   "metadata": {},
   "source": [
    "Đặt danh mục của tất cả sản phẩm là `Điện thoại phổ thông`"
   ]
  },
  {
   "cell_type": "code",
   "execution_count": 113,
   "id": "2f239921",
   "metadata": {},
   "outputs": [],
   "source": [
    "cucgach['Danh mục'] = 'Điện thoại phổ thông'"
   ]
  },
  {
   "cell_type": "code",
   "execution_count": 114,
   "id": "7b31cee9",
   "metadata": {},
   "outputs": [
    {
     "data": {
      "text/plain": [
       "Danh mục\n",
       "Điện thoại phổ thông    18\n",
       "Name: count, dtype: int64"
      ]
     },
     "execution_count": 114,
     "metadata": {},
     "output_type": "execute_result"
    }
   ],
   "source": [
    "cucgach['Danh mục'].value_counts()"
   ]
  },
  {
   "cell_type": "markdown",
   "id": "fbc3ae0b",
   "metadata": {},
   "source": [
    "#### dieuhoa.csv"
   ]
  },
  {
   "cell_type": "code",
   "execution_count": 115,
   "id": "0fdeaa43",
   "metadata": {},
   "outputs": [],
   "source": [
    "dieuhoa = pd.read_csv('./rawData/dieuhoa.csv', encoding='utf-8')"
   ]
  },
  {
   "cell_type": "markdown",
   "id": "41aa6191",
   "metadata": {},
   "source": [
    "Kiểm tra giá trị trùng lặp"
   ]
  },
  {
   "cell_type": "code",
   "execution_count": 116,
   "id": "99655177",
   "metadata": {},
   "outputs": [
    {
     "name": "stdout",
     "output_type": "stream",
     "text": [
      "0\n"
     ]
    }
   ],
   "source": [
    "# Check for duplicate values in the DataFrame\n",
    "print(dieuhoa.duplicated().sum())"
   ]
  },
  {
   "cell_type": "markdown",
   "id": "d384fc37",
   "metadata": {},
   "source": [
    "Kiểm tra giá trị thiếu"
   ]
  },
  {
   "cell_type": "code",
   "execution_count": 117,
   "id": "4375e23b",
   "metadata": {},
   "outputs": [
    {
     "name": "stdout",
     "output_type": "stream",
     "text": [
      "Id                   0\n",
      "Tên sản phẩm         0\n",
      "Thương hiệu          0\n",
      "Danh mục             0\n",
      "Thông số kỹ thuật    0\n",
      "Phiên bản            0\n",
      "Mô tả                0\n",
      "Hình ảnh             0\n",
      "dtype: int64\n"
     ]
    }
   ],
   "source": [
    "# Check for missing values in the DataFrame\n",
    "print(dieuhoa.isnull().sum())"
   ]
  },
  {
   "cell_type": "markdown",
   "id": "bac76187",
   "metadata": {},
   "source": [
    "Giữ nguyên tên các danh mục"
   ]
  },
  {
   "cell_type": "code",
   "execution_count": 118,
   "id": "53afb8bc",
   "metadata": {},
   "outputs": [
    {
     "data": {
      "text/plain": [
       "Danh mục\n",
       "Máy lạnh treo tường        235\n",
       "Máy lạnh - Máy điều hòa     98\n",
       "Máy lạnh tủ đứng             9\n",
       "Máy lạnh âm trần             2\n",
       "Name: count, dtype: int64"
      ]
     },
     "execution_count": 118,
     "metadata": {},
     "output_type": "execute_result"
    }
   ],
   "source": [
    "dieuhoa['Danh mục'].value_counts()"
   ]
  },
  {
   "cell_type": "markdown",
   "id": "45864fad",
   "metadata": {},
   "source": [
    "#### laptop.csv"
   ]
  },
  {
   "cell_type": "code",
   "execution_count": 119,
   "id": "c813d364",
   "metadata": {},
   "outputs": [],
   "source": [
    "laptop = pd.read_csv('./rawData/laptop.csv', encoding='utf-8')"
   ]
  },
  {
   "cell_type": "markdown",
   "id": "502cf75c",
   "metadata": {},
   "source": [
    "Kiểm tra giá trị trùng lặp"
   ]
  },
  {
   "cell_type": "code",
   "execution_count": 120,
   "id": "e84e86e7",
   "metadata": {},
   "outputs": [
    {
     "name": "stdout",
     "output_type": "stream",
     "text": [
      "0\n"
     ]
    }
   ],
   "source": [
    "# Check for duplicate values in the DataFrame\n",
    "print(laptop.duplicated().sum())"
   ]
  },
  {
   "cell_type": "markdown",
   "id": "0965da23",
   "metadata": {},
   "source": [
    "Kiểm tra giá trị thiếu"
   ]
  },
  {
   "cell_type": "code",
   "execution_count": 121,
   "id": "71f10656",
   "metadata": {},
   "outputs": [
    {
     "name": "stdout",
     "output_type": "stream",
     "text": [
      "Id                   0\n",
      "Tên sản phẩm         0\n",
      "Thương hiệu          0\n",
      "Danh mục             0\n",
      "Thông số kỹ thuật    0\n",
      "Phiên bản            0\n",
      "Mô tả                0\n",
      "Hình ảnh             0\n",
      "dtype: int64\n"
     ]
    }
   ],
   "source": [
    "# Check for missing values in the DataFrame\n",
    "print(laptop.isnull().sum())"
   ]
  },
  {
   "cell_type": "markdown",
   "id": "82ab53ad",
   "metadata": {},
   "source": [
    "Chuyển đổi các danh mục như sau:\n",
    "\n",
    "**Danh mục mới gồm:** <br/>\n",
    "\n",
    "**Laptop truyền thống** (Laptop truyền thống + Laptop - Máy Vi Tính - Linh Kiện + Laptop + Root) <br />\n",
    "**Laptop Gaming** (Laptop Gaming)<br />\n",
    "**Laptop 2 trong 1** (Laptop 2 trong 1)<br />\n",
    "**Macbook** (Macbook)<br />"
   ]
  },
  {
   "cell_type": "code",
   "execution_count": 122,
   "id": "26d5c44a",
   "metadata": {},
   "outputs": [
    {
     "data": {
      "text/plain": [
       "Danh mục\n",
       "Laptop Truyền Thống                 260\n",
       "Laptop Gaming                        40\n",
       "Laptop - Máy Vi Tính - Linh kiện     13\n",
       "Laptop 2 trong 1                     12\n",
       "Macbook                               4\n",
       "Laptop                                1\n",
       "Name: count, dtype: int64"
      ]
     },
     "execution_count": 122,
     "metadata": {},
     "output_type": "execute_result"
    }
   ],
   "source": [
    "laptop['Danh mục'].value_counts()"
   ]
  },
  {
   "cell_type": "code",
   "execution_count": 123,
   "id": "3954ff06",
   "metadata": {},
   "outputs": [],
   "source": [
    "laptop1 = laptop\n",
    "\n",
    "laptop1['Danh mục'] = laptop1['Danh mục'].replace(\n",
    "    {\n",
    "        'Laptop - Máy Vi Tính - Linh kiện': 'Laptop Truyền Thống',\n",
    "        'Laptop': 'Laptop Truyền Thống',\n",
    "        'Root': 'Laptop Truyền Thống',\n",
    "    }\n",
    ")"
   ]
  },
  {
   "cell_type": "markdown",
   "id": "a6166b1d",
   "metadata": {},
   "source": [
    "Kiểm tra lại danh mục"
   ]
  },
  {
   "cell_type": "code",
   "execution_count": 124,
   "id": "9f76c73c",
   "metadata": {},
   "outputs": [
    {
     "data": {
      "text/plain": [
       "Danh mục\n",
       "Laptop Truyền Thống    274\n",
       "Laptop Gaming           40\n",
       "Laptop 2 trong 1        12\n",
       "Macbook                  4\n",
       "Name: count, dtype: int64"
      ]
     },
     "execution_count": 124,
     "metadata": {},
     "output_type": "execute_result"
    }
   ],
   "source": [
    "laptop1['Danh mục'].value_counts()"
   ]
  },
  {
   "cell_type": "code",
   "execution_count": 125,
   "id": "d126f8ed",
   "metadata": {},
   "outputs": [],
   "source": [
    "laptop = laptop1"
   ]
  },
  {
   "cell_type": "markdown",
   "id": "eff82339",
   "metadata": {},
   "source": [
    "#### maydocsach.csv"
   ]
  },
  {
   "cell_type": "code",
   "execution_count": 126,
   "id": "91b87532",
   "metadata": {},
   "outputs": [],
   "source": [
    "maydocsach = pd.read_csv('./rawData/maydocsach.csv', encoding='utf-8')"
   ]
  },
  {
   "cell_type": "markdown",
   "id": "2010929d",
   "metadata": {},
   "source": [
    "Kiểm tra giá trị trùng lặp"
   ]
  },
  {
   "cell_type": "code",
   "execution_count": 127,
   "id": "f8262afc",
   "metadata": {},
   "outputs": [
    {
     "name": "stdout",
     "output_type": "stream",
     "text": [
      "10\n"
     ]
    }
   ],
   "source": [
    "# Check for duplicate values in the DataFrame\n",
    "print(maydocsach.duplicated().sum())\n",
    "\n",
    "maydocsach.drop_duplicates(inplace=True)"
   ]
  },
  {
   "cell_type": "markdown",
   "id": "481e02ba",
   "metadata": {},
   "source": [
    "Kiểm tra giá trị thiếu"
   ]
  },
  {
   "cell_type": "code",
   "execution_count": 128,
   "id": "724e146c",
   "metadata": {},
   "outputs": [
    {
     "name": "stdout",
     "output_type": "stream",
     "text": [
      "Id                   0\n",
      "Tên sản phẩm         0\n",
      "Thương hiệu          0\n",
      "Danh mục             0\n",
      "Thông số kỹ thuật    0\n",
      "Phiên bản            0\n",
      "Mô tả                0\n",
      "Hình ảnh             0\n",
      "dtype: int64\n"
     ]
    }
   ],
   "source": [
    "# Check for missing values in the DataFrame\n",
    "print(maydocsach.isnull().sum())"
   ]
  },
  {
   "cell_type": "code",
   "execution_count": 129,
   "id": "731542e4",
   "metadata": {},
   "outputs": [
    {
     "data": {
      "text/plain": [
       "Danh mục\n",
       "Máy đọc sách                  32\n",
       "Điện Thoại - Máy Tính Bảng     8\n",
       "Name: count, dtype: int64"
      ]
     },
     "execution_count": 129,
     "metadata": {},
     "output_type": "execute_result"
    }
   ],
   "source": [
    "maydocsach['Danh mục'].value_counts()"
   ]
  },
  {
   "cell_type": "markdown",
   "id": "8450e22e",
   "metadata": {},
   "source": [
    "Gộp danh mục Điện Thoại - Máy Tính Bảng vào danh mục máy đọc sách, sau đó lọc máy tính bảng trong danh mục máy đọc sách."
   ]
  },
  {
   "cell_type": "code",
   "execution_count": 130,
   "id": "3112e92a",
   "metadata": {},
   "outputs": [],
   "source": [
    "maydocsach['Danh mục'] = 'Máy đọc sách'\n",
    "\n",
    "maydocsach.loc[maydocsach['Tên sản phẩm'].str.contains('máy tính bảng', case=False), 'Danh mục'] = 'Máy tính bảng'"
   ]
  },
  {
   "cell_type": "code",
   "execution_count": 131,
   "id": "cf7869a2",
   "metadata": {},
   "outputs": [
    {
     "data": {
      "text/plain": [
       "Danh mục\n",
       "Máy đọc sách     37\n",
       "Máy tính bảng     3\n",
       "Name: count, dtype: int64"
      ]
     },
     "execution_count": 131,
     "metadata": {},
     "output_type": "execute_result"
    }
   ],
   "source": [
    "maydocsach['Danh mục'].value_counts()"
   ]
  },
  {
   "cell_type": "markdown",
   "id": "94affbd1",
   "metadata": {},
   "source": [
    "#### maygiat.csv"
   ]
  },
  {
   "cell_type": "code",
   "execution_count": 132,
   "id": "4cd6e180",
   "metadata": {},
   "outputs": [],
   "source": [
    "maygiat = pd.read_csv('./rawData/maygiat.csv', encoding='utf-8')"
   ]
  },
  {
   "cell_type": "markdown",
   "id": "2e1891ff",
   "metadata": {},
   "source": [
    "Kiểm tra giá trị trùng lặp"
   ]
  },
  {
   "cell_type": "code",
   "execution_count": 133,
   "id": "225df867",
   "metadata": {},
   "outputs": [
    {
     "name": "stdout",
     "output_type": "stream",
     "text": [
      "5\n"
     ]
    }
   ],
   "source": [
    "# Check for duplicate values in the DataFrame\n",
    "print(maygiat.duplicated().sum())\n",
    "\n",
    "# Remove duplicate rows from the DataFrame\n",
    "maygiat.drop_duplicates(inplace=True)"
   ]
  },
  {
   "cell_type": "markdown",
   "id": "77c71622",
   "metadata": {},
   "source": [
    "Kiểm tra giá trị thiếu"
   ]
  },
  {
   "cell_type": "code",
   "execution_count": 134,
   "id": "e27675e8",
   "metadata": {},
   "outputs": [
    {
     "name": "stdout",
     "output_type": "stream",
     "text": [
      "Id                   0\n",
      "Tên sản phẩm         0\n",
      "Thương hiệu          0\n",
      "Danh mục             0\n",
      "Thông số kỹ thuật    0\n",
      "Phiên bản            0\n",
      "Mô tả                0\n",
      "Hình ảnh             0\n",
      "dtype: int64\n"
     ]
    }
   ],
   "source": [
    "# Check for missing values in the DataFrame\n",
    "print(maygiat.isnull().sum())"
   ]
  },
  {
   "cell_type": "markdown",
   "id": "4db93da9",
   "metadata": {},
   "source": [
    "Giữ nguyên tên của các danh mục"
   ]
  },
  {
   "cell_type": "code",
   "execution_count": 135,
   "id": "d4d67c41",
   "metadata": {},
   "outputs": [
    {
     "data": {
      "text/plain": [
       "Danh mục\n",
       "Máy giặt cửa ngang    153\n",
       "Máy giặt cửa trên     107\n",
       "Máy giặt               87\n",
       "Tháp giặt sấy          11\n",
       "Máy giặt mini           3\n",
       "Name: count, dtype: int64"
      ]
     },
     "execution_count": 135,
     "metadata": {},
     "output_type": "execute_result"
    }
   ],
   "source": [
    "maygiat['Danh mục'].value_counts()"
   ]
  },
  {
   "cell_type": "markdown",
   "id": "4eb64f70",
   "metadata": {},
   "source": [
    "#### maytinhbang.csv"
   ]
  },
  {
   "cell_type": "code",
   "execution_count": 136,
   "id": "46cd2c58",
   "metadata": {},
   "outputs": [],
   "source": [
    "maytinhbang = pd.read_csv('./rawData/maytinhbang.csv', encoding='utf-8')"
   ]
  },
  {
   "cell_type": "markdown",
   "id": "0ed66505",
   "metadata": {},
   "source": [
    "Kiểm tra giá trị trùng lặp"
   ]
  },
  {
   "cell_type": "code",
   "execution_count": 137,
   "id": "baf6557b",
   "metadata": {},
   "outputs": [
    {
     "name": "stdout",
     "output_type": "stream",
     "text": [
      "2\n"
     ]
    }
   ],
   "source": [
    "# Check for duplicate values in the DataFrame\n",
    "print(maytinhbang.duplicated().sum())\n",
    "\n",
    "maytinhbang.drop_duplicates(inplace=True)"
   ]
  },
  {
   "cell_type": "markdown",
   "id": "9000a0c9",
   "metadata": {},
   "source": [
    "Kiểm tra giá trị thiếu"
   ]
  },
  {
   "cell_type": "code",
   "execution_count": 138,
   "id": "cea8b12b",
   "metadata": {},
   "outputs": [
    {
     "name": "stdout",
     "output_type": "stream",
     "text": [
      "Id                   0\n",
      "Tên sản phẩm         0\n",
      "Thương hiệu          0\n",
      "Danh mục             0\n",
      "Thông số kỹ thuật    0\n",
      "Phiên bản            0\n",
      "Mô tả                0\n",
      "Hình ảnh             0\n",
      "dtype: int64\n"
     ]
    }
   ],
   "source": [
    "# Check for missing values in the DataFrame\n",
    "print(maytinhbang.isnull().sum())"
   ]
  },
  {
   "cell_type": "markdown",
   "id": "18119ccf",
   "metadata": {},
   "source": [
    "Gộp chung sản phẩm cùng danh mục Máy tính bảng"
   ]
  },
  {
   "cell_type": "code",
   "execution_count": 139,
   "id": "22a80f17",
   "metadata": {},
   "outputs": [],
   "source": [
    "maytinhbang['Danh mục'] = 'Máy tính bảng'"
   ]
  },
  {
   "cell_type": "code",
   "execution_count": 140,
   "id": "d1859026",
   "metadata": {},
   "outputs": [
    {
     "data": {
      "text/plain": [
       "Danh mục\n",
       "Máy tính bảng    33\n",
       "Name: count, dtype: int64"
      ]
     },
     "execution_count": 140,
     "metadata": {},
     "output_type": "execute_result"
    }
   ],
   "source": [
    "maytinhbang['Danh mục'].value_counts()"
   ]
  },
  {
   "cell_type": "markdown",
   "id": "9dd65052",
   "metadata": {},
   "source": [
    "#### tivi.csv"
   ]
  },
  {
   "cell_type": "code",
   "execution_count": 141,
   "id": "c4362d1c",
   "metadata": {},
   "outputs": [],
   "source": [
    "tivi = pd.read_csv('./rawData/tivi.csv', encoding='utf-8')"
   ]
  },
  {
   "cell_type": "markdown",
   "id": "151d6903",
   "metadata": {},
   "source": [
    "Kiểm tra giá trị trùng lặp"
   ]
  },
  {
   "cell_type": "code",
   "execution_count": 142,
   "id": "0c14e1d7",
   "metadata": {},
   "outputs": [
    {
     "name": "stdout",
     "output_type": "stream",
     "text": [
      "0\n"
     ]
    }
   ],
   "source": [
    "# Check for duplicate values in the DataFrame\n",
    "print(tivi.duplicated().sum())"
   ]
  },
  {
   "cell_type": "markdown",
   "id": "1930d363",
   "metadata": {},
   "source": [
    "Kiểm tra giá trị thiếu"
   ]
  },
  {
   "cell_type": "code",
   "execution_count": 143,
   "id": "8f4c9096",
   "metadata": {},
   "outputs": [
    {
     "name": "stdout",
     "output_type": "stream",
     "text": [
      "Id                   0\n",
      "Tên sản phẩm         0\n",
      "Thương hiệu          0\n",
      "Danh mục             0\n",
      "Thông số kỹ thuật    0\n",
      "Phiên bản            0\n",
      "Mô tả                0\n",
      "Hình ảnh             0\n",
      "dtype: int64\n"
     ]
    }
   ],
   "source": [
    "# Check for missing values in the DataFrame\n",
    "print(tivi.isnull().sum())"
   ]
  },
  {
   "cell_type": "markdown",
   "id": "3bb3f957",
   "metadata": {},
   "source": [
    "Tiến hành chia danh muc:\n",
    "\n",
    "Từ danh mục ĐT-ĐL và Root, ta có thể phân phối chúng vào 2 danh mục: Tivi thường (LED) và Smart Tivi - Android Tivi\n",
    "\n",
    "Nếu tên sản phẩm chứa OLED -> Tivi OLED<br/>\n",
    "Nếu tên sản phẩm chứa Smart hoặc Android -> Smart Tivi - Android Tivi<br/>\n",
    "Nếu tên sản phẩm chứa LED -> Tivi thường (LED)<br/>\n",
    "Nếu tên sản phẩm chứa QLED -> Tivi QLED<br/>"
   ]
  },
  {
   "cell_type": "code",
   "execution_count": 144,
   "id": "021ce7fd",
   "metadata": {},
   "outputs": [],
   "source": [
    "df4 = tivi.loc[tivi['Danh mục'].isin(['Điện Tử - Điện Lạnh', 'Root'])]\n",
    "\n",
    "df4.loc[\n",
    "    df4['Tên sản phẩm'].str.contains('oled', case=False),\n",
    "    'Danh mục'\n",
    "] = 'Tivi OLED'\n",
    "\n",
    "df4.loc[\n",
    "    df4['Tên sản phẩm'].str.contains('qled', case=False),\n",
    "    'Danh mục'\n",
    "] = 'Tivi QLED'\n",
    "\n",
    "df4.loc[\n",
    "    df4['Tên sản phẩm'].str.contains('smart|android', case=False),\n",
    "    'Danh mục'\n",
    "] = 'Smart Tivi - Android Tivi'\n",
    "\n",
    "df4.loc[\n",
    "    df4['Tên sản phẩm'].str.contains('led', case=False),\n",
    "    'Danh mục'\n",
    "] = 'Tivi thường (LED)'\n",
    "\n",
    "df4.loc[\n",
    "    df4['Tên sản phẩm'].str.contains('4k', case=False),\n",
    "    'Danh mục'\n",
    "] = 'Tivi 4K'"
   ]
  },
  {
   "cell_type": "markdown",
   "id": "a227b455",
   "metadata": {},
   "source": [
    "Xóa bỏ danh mục ĐT-ĐL và Root. Nối df4 với tivi"
   ]
  },
  {
   "cell_type": "code",
   "execution_count": 145,
   "id": "302e8a61",
   "metadata": {},
   "outputs": [
    {
     "name": "stderr",
     "output_type": "stream",
     "text": [
      "C:\\Users\\ADMIN\\AppData\\Local\\Temp\\ipykernel_20576\\372448485.py:7: SettingWithCopyWarning: \n",
      "A value is trying to be set on a copy of a slice from a DataFrame\n",
      "\n",
      "See the caveats in the documentation: https://pandas.pydata.org/pandas-docs/stable/user_guide/indexing.html#returning-a-view-versus-a-copy\n",
      "  df4.drop(\n"
     ]
    }
   ],
   "source": [
    "tivi.drop(\n",
    "    tivi[tivi['Danh mục'].isin(['Điện Tử - Điện Lạnh', 'Root'])].index,\n",
    "    inplace=True\n",
    "\n",
    ")\n",
    "\n",
    "df4.drop(\n",
    "    df4[df4['Danh mục'].isin(['Điện Tử - Điện Lạnh', 'Root'])].index,\n",
    "    inplace=True\n",
    "\n",
    ")\n",
    "\n",
    "tivi = pd.concat([tivi, df4], ignore_index=True)"
   ]
  },
  {
   "cell_type": "code",
   "execution_count": 146,
   "id": "dec74e5d",
   "metadata": {},
   "outputs": [
    {
     "data": {
      "text/plain": [
       "Danh mục\n",
       "Smart Tivi - Android Tivi    122\n",
       "Tivi 4K                      105\n",
       "Tivi thường (LED)             20\n",
       "Tivi OLED                     11\n",
       "Tivi QLED                      5\n",
       "Tivi cao cấp                   5\n",
       "Internet Tivi                  4\n",
       "Name: count, dtype: int64"
      ]
     },
     "execution_count": 146,
     "metadata": {},
     "output_type": "execute_result"
    }
   ],
   "source": [
    "tivi['Danh mục'].value_counts()"
   ]
  },
  {
   "cell_type": "markdown",
   "id": "3e7e5426",
   "metadata": {},
   "source": [
    "#### tulanh.csv"
   ]
  },
  {
   "cell_type": "code",
   "execution_count": 147,
   "id": "f06d31ac",
   "metadata": {},
   "outputs": [],
   "source": [
    "tulanh = pd.read_csv('./rawData/tulanh.csv', encoding='utf-8')"
   ]
  },
  {
   "cell_type": "markdown",
   "id": "00e7ca5d",
   "metadata": {},
   "source": [
    "Kiểm tra các giá trị trùng lặp"
   ]
  },
  {
   "cell_type": "code",
   "execution_count": 148,
   "id": "7a5fa796",
   "metadata": {},
   "outputs": [
    {
     "name": "stdout",
     "output_type": "stream",
     "text": [
      "0\n"
     ]
    }
   ],
   "source": [
    "# Check for duplicate values in the DataFrame\n",
    "print(tulanh.duplicated().sum())"
   ]
  },
  {
   "cell_type": "markdown",
   "id": "827863f8",
   "metadata": {},
   "source": [
    "Kiểm tra các giá trị thiếu"
   ]
  },
  {
   "cell_type": "code",
   "execution_count": 149,
   "id": "09b44cde",
   "metadata": {},
   "outputs": [
    {
     "name": "stdout",
     "output_type": "stream",
     "text": [
      "Id                   0\n",
      "Tên sản phẩm         0\n",
      "Thương hiệu          0\n",
      "Danh mục             0\n",
      "Thông số kỹ thuật    0\n",
      "Phiên bản            0\n",
      "Mô tả                0\n",
      "Hình ảnh             0\n",
      "dtype: int64\n"
     ]
    }
   ],
   "source": [
    "# Check for missing values in the DataFrame\n",
    "print(tulanh.isnull().sum())"
   ]
  },
  {
   "cell_type": "code",
   "execution_count": 150,
   "id": "3aa61001",
   "metadata": {},
   "outputs": [
    {
     "data": {
      "text/plain": [
       "Danh mục\n",
       "Tủ lạnh nhiều cửa       145\n",
       "Tủ lạnh                  69\n",
       "Điện Tử - Điện Lạnh      64\n",
       "Tủ lạnh side by side     47\n",
       "Tủ lạnh mini             35\n",
       "Name: count, dtype: int64"
      ]
     },
     "execution_count": 150,
     "metadata": {},
     "output_type": "execute_result"
    }
   ],
   "source": [
    "tulanh['Danh mục'].value_counts()"
   ]
  },
  {
   "cell_type": "markdown",
   "id": "3c8cbc8f",
   "metadata": {},
   "source": [
    "Chuyển sản phẩm thuộc danh mục Điện Tử - Điện Lạnh vào danh mục Tủ lạnh"
   ]
  },
  {
   "cell_type": "code",
   "execution_count": 151,
   "id": "174d1c0e",
   "metadata": {},
   "outputs": [],
   "source": [
    "tulanh['Danh mục'] = tulanh['Danh mục'].replace(\n",
    "    {\n",
    "        'Điện Tử - Điện Lạnh': 'Tủ lạnh',\n",
    "    }\n",
    ")"
   ]
  },
  {
   "cell_type": "code",
   "execution_count": 152,
   "id": "2f0c2a6c",
   "metadata": {},
   "outputs": [
    {
     "data": {
      "text/plain": [
       "Danh mục\n",
       "Tủ lạnh nhiều cửa       145\n",
       "Tủ lạnh                 133\n",
       "Tủ lạnh side by side     47\n",
       "Tủ lạnh mini             35\n",
       "Name: count, dtype: int64"
      ]
     },
     "execution_count": 152,
     "metadata": {},
     "output_type": "execute_result"
    }
   ],
   "source": [
    "tulanh['Danh mục'].value_counts()"
   ]
  },
  {
   "cell_type": "markdown",
   "id": "b3dfc7a7",
   "metadata": {},
   "source": [
    "#### cameragiamsat.csv"
   ]
  },
  {
   "cell_type": "code",
   "execution_count": 153,
   "id": "99b1c2a0",
   "metadata": {},
   "outputs": [],
   "source": [
    "camgiamsat = pd.read_csv('./rawData/camera.csv', encoding='utf-8')"
   ]
  },
  {
   "cell_type": "markdown",
   "id": "08055891",
   "metadata": {},
   "source": [
    "Kiểm tra giá trị trùng lặp"
   ]
  },
  {
   "cell_type": "code",
   "execution_count": 154,
   "id": "cdb9ae45",
   "metadata": {},
   "outputs": [
    {
     "name": "stdout",
     "output_type": "stream",
     "text": [
      "25\n"
     ]
    }
   ],
   "source": [
    "print(camgiamsat.duplicated().sum())\n",
    "\n",
    "camgiamsat.drop_duplicates(inplace=True)"
   ]
  },
  {
   "cell_type": "markdown",
   "id": "13fc4c41",
   "metadata": {},
   "source": [
    "Kiểm tra giá trị thiếu"
   ]
  },
  {
   "cell_type": "code",
   "execution_count": 155,
   "id": "bc0ad506",
   "metadata": {},
   "outputs": [
    {
     "data": {
      "text/plain": [
       "Id                   0\n",
       "Tên sản phẩm         0\n",
       "Thương hiệu          0\n",
       "Danh mục             0\n",
       "Thông số kỹ thuật    0\n",
       "Phiên bản            0\n",
       "Mô tả                0\n",
       "Hình ảnh             0\n",
       "dtype: int64"
      ]
     },
     "execution_count": 155,
     "metadata": {},
     "output_type": "execute_result"
    }
   ],
   "source": [
    "camgiamsat.isnull().sum()"
   ]
  },
  {
   "cell_type": "code",
   "execution_count": 156,
   "id": "17c2713e",
   "metadata": {},
   "outputs": [
    {
     "data": {
      "text/plain": [
       "Danh mục\n",
       "Camera IP                   255\n",
       "Máy Ảnh - Máy Quay Phim      69\n",
       "Phụ Kiện Camera Giám Sát     15\n",
       "Root                         10\n",
       "Đầu Ghi Hình Camera           9\n",
       "Hệ Thống Camera Giám Sát      5\n",
       "Camera Quan Sát Analog        2\n",
       "Name: count, dtype: int64"
      ]
     },
     "execution_count": 156,
     "metadata": {},
     "output_type": "execute_result"
    }
   ],
   "source": [
    "camgiamsat['Danh mục'].value_counts()"
   ]
  },
  {
   "cell_type": "markdown",
   "id": "1dea2a5a",
   "metadata": {},
   "source": [
    "Cần phân bổ thành các danh mục\n",
    "\n",
    "**Camera IP - Camera Wifi** (Camera IP + Máy Ảnh - Máy Quay Phim + Root)<br />\n",
    "**Phụ Kiện Camera Giám Sát** (Phụ Kiện + Root)<br />\n",
    "**Đầu Ghi Hình Camera**<br />\n",
    "**Camera Quan Sát Analog**\n",
    "**Hệ Thống Camera Giám Sát**"
   ]
  },
  {
   "cell_type": "code",
   "execution_count": 157,
   "id": "5122c935",
   "metadata": {},
   "outputs": [
    {
     "name": "stderr",
     "output_type": "stream",
     "text": [
      "C:\\Users\\ADMIN\\AppData\\Local\\Temp\\ipykernel_20576\\489877380.py:17: SettingWithCopyWarning: \n",
      "A value is trying to be set on a copy of a slice from a DataFrame.\n",
      "Try using .loc[row_indexer,col_indexer] = value instead\n",
      "\n",
      "See the caveats in the documentation: https://pandas.pydata.org/pandas-docs/stable/user_guide/indexing.html#returning-a-view-versus-a-copy\n",
      "  df6['Danh mục'] = df5['Danh mục'].replace(\n"
     ]
    }
   ],
   "source": [
    "df5 = camgiamsat\n",
    "\n",
    "df5['Danh mục'] = df5['Danh mục'].replace(\n",
    "    {\n",
    "        'Máy Ảnh - Máy Quay Phim': 'Camera IP - Camera Wifi',\n",
    "        'Camera IP': 'Camera IP - Camera Wifi',\n",
    "    }\n",
    ")\n",
    "\n",
    "df6 = df5.loc[df5['Danh mục'] == 'Root']\n",
    "\n",
    "df6.loc[\n",
    "    df6['Tên sản phẩm'].str.contains('ip|wifi', case=False),\n",
    "    'Danh mục'\n",
    "] = 'Camera IP - Camera Wifi'\n",
    "\n",
    "df6['Danh mục'] = df5['Danh mục'].replace(\n",
    "    {\n",
    "        'Root': 'Phụ Kiện Camera Giám Sát',\n",
    "        \n",
    "    }\n",
    ")\n",
    "\n",
    "df5.drop(\n",
    "    df5[df5['Danh mục'] == 'Root'].index,\n",
    "    inplace=True\n",
    ")\n",
    "\n",
    "df5 = pd.concat([df5, df6], ignore_index=True)\n"
   ]
  },
  {
   "cell_type": "code",
   "execution_count": 158,
   "id": "d0e1bc03",
   "metadata": {},
   "outputs": [
    {
     "data": {
      "text/plain": [
       "Danh mục\n",
       "Camera IP - Camera Wifi     324\n",
       "Phụ Kiện Camera Giám Sát     25\n",
       "Đầu Ghi Hình Camera           9\n",
       "Hệ Thống Camera Giám Sát      5\n",
       "Camera Quan Sát Analog        2\n",
       "Name: count, dtype: int64"
      ]
     },
     "execution_count": 158,
     "metadata": {},
     "output_type": "execute_result"
    }
   ],
   "source": [
    "df5['Danh mục'].value_counts()"
   ]
  },
  {
   "cell_type": "code",
   "execution_count": 159,
   "id": "a63ff220",
   "metadata": {},
   "outputs": [],
   "source": [
    "camgiamsat = df5"
   ]
  },
  {
   "cell_type": "markdown",
   "id": "69f1d50c",
   "metadata": {},
   "source": [
    "#### maytinhdeban.csv"
   ]
  },
  {
   "cell_type": "code",
   "execution_count": 160,
   "id": "8a180c84",
   "metadata": {},
   "outputs": [],
   "source": [
    "pc = pd.read_csv('./rawData/maytinhdeban.csv', encoding='utf-8')"
   ]
  },
  {
   "cell_type": "markdown",
   "id": "6f82a689",
   "metadata": {},
   "source": [
    "Kiểm tra giá trị trùng lặp"
   ]
  },
  {
   "cell_type": "code",
   "execution_count": 161,
   "id": "f2a5cde5",
   "metadata": {},
   "outputs": [
    {
     "name": "stdout",
     "output_type": "stream",
     "text": [
      "3\n"
     ]
    }
   ],
   "source": [
    "print(pc.duplicated().sum())\n",
    "\n",
    "pc.drop_duplicates(inplace=True)"
   ]
  },
  {
   "cell_type": "markdown",
   "id": "135e8a88",
   "metadata": {},
   "source": [
    "Kiểm tra giá trị thiếu"
   ]
  },
  {
   "cell_type": "code",
   "execution_count": 162,
   "id": "d2923004",
   "metadata": {},
   "outputs": [
    {
     "data": {
      "text/plain": [
       "Id                   0\n",
       "Tên sản phẩm         0\n",
       "Thương hiệu          0\n",
       "Danh mục             0\n",
       "Thông số kỹ thuật    0\n",
       "Phiên bản            0\n",
       "Mô tả                0\n",
       "Hình ảnh             0\n",
       "dtype: int64"
      ]
     },
     "execution_count": 162,
     "metadata": {},
     "output_type": "execute_result"
    }
   ],
   "source": [
    "pc.isnull().sum()"
   ]
  },
  {
   "cell_type": "code",
   "execution_count": 163,
   "id": "5aa6f911",
   "metadata": {},
   "outputs": [
    {
     "data": {
      "text/plain": [
       "Danh mục\n",
       "Máy Tính Bộ Thương Hiệu             57\n",
       "Mini PC                             21\n",
       "Laptop - Máy Vi Tính - Linh kiện    10\n",
       "Towers - Máy Chủ - Server           10\n",
       "Máy Tính All in one                  7\n",
       "PC Gaming                            3\n",
       "Máy Tính Để Bàn Lắp Ráp              1\n",
       "PC - Máy Tính Bộ                     1\n",
       "Name: count, dtype: int64"
      ]
     },
     "execution_count": 163,
     "metadata": {},
     "output_type": "execute_result"
    }
   ],
   "source": [
    "pc['Danh mục'].value_counts()"
   ]
  },
  {
   "cell_type": "markdown",
   "id": "1ad01029",
   "metadata": {},
   "source": [
    "Chuyển đổi thành các danh mục:\n",
    "\n",
    "**Máy tính đồng bộ** (Bổ sung Laptop - Máy Vi Tính - Linh kiện + Root + PC - Máy Tính Bộ)<br />\n",
    "**Mini PC** (Bổ sung Laptop - Máy Vi Tính - Linh kiện)<br />\n",
    "**Towers - Máy Chủ - Server**<br />\n",
    "**Máy Tính All in one**<br />\n",
    "**Máy Tính Để Bàn Lắp Ráp**<br />\n",
    "**PC Gaming**<br />"
   ]
  },
  {
   "cell_type": "code",
   "execution_count": 164,
   "id": "648f115e",
   "metadata": {},
   "outputs": [
    {
     "name": "stderr",
     "output_type": "stream",
     "text": [
      "C:\\Users\\ADMIN\\AppData\\Local\\Temp\\ipykernel_20576\\203120257.py:18: SettingWithCopyWarning: \n",
      "A value is trying to be set on a copy of a slice from a DataFrame.\n",
      "Try using .loc[row_indexer,col_indexer] = value instead\n",
      "\n",
      "See the caveats in the documentation: https://pandas.pydata.org/pandas-docs/stable/user_guide/indexing.html#returning-a-view-versus-a-copy\n",
      "  df7['Danh mục'] = df7['Danh mục'].replace(\n"
     ]
    },
    {
     "data": {
      "text/plain": [
       "Danh mục\n",
       "Máy tính đồng bộ             66\n",
       "Mini PC                      23\n",
       "Towers - Máy Chủ - Server    10\n",
       "Máy Tính All in one           7\n",
       "PC Gaming                     3\n",
       "Máy Tính Để Bàn Lắp Ráp       1\n",
       "Name: count, dtype: int64"
      ]
     },
     "execution_count": 164,
     "metadata": {},
     "output_type": "execute_result"
    }
   ],
   "source": [
    "df6 = pc\n",
    "\n",
    "df6['Danh mục'] = df6['Danh mục'].replace(\n",
    "    {\n",
    "        'Máy Tính Bộ Thương Hiệu': 'Máy tính đồng bộ',\n",
    "        'Root': 'Máy tính đồng bộ',\n",
    "        'PC - Máy Tính Bộ': 'Máy tính đồng bộ',\n",
    "    }\n",
    ")\n",
    "\n",
    "df7 = df6.loc[df6['Danh mục'] == 'Laptop - Máy Vi Tính - Linh kiện']\n",
    "\n",
    "df7.loc[\n",
    "    df7['Tên sản phẩm'].str.contains('mini|siêu nhỏ'),\n",
    "    'Danh mục'\n",
    "] = 'Mini PC'\n",
    "\n",
    "df7['Danh mục'] = df7['Danh mục'].replace(\n",
    "    {\n",
    "        'Laptop - Máy Vi Tính - Linh kiện': 'Máy tính đồng bộ',\n",
    "    }\n",
    ")\n",
    "\n",
    "df6.drop(\n",
    "    df6[df6['Danh mục'] == 'Laptop - Máy Vi Tính - Linh kiện'].index,\n",
    "    inplace=True\n",
    ")\n",
    "\n",
    "df6 = pd.concat([df6, df7], ignore_index=True)\n",
    "df6['Danh mục'].value_counts()"
   ]
  },
  {
   "cell_type": "code",
   "execution_count": 165,
   "id": "3611a800",
   "metadata": {},
   "outputs": [],
   "source": [
    "pc = df6"
   ]
  },
  {
   "cell_type": "markdown",
   "id": "b279b0a8",
   "metadata": {},
   "source": [
    "#### mayanh.csv"
   ]
  },
  {
   "cell_type": "code",
   "execution_count": 166,
   "id": "9548c99b",
   "metadata": {},
   "outputs": [],
   "source": [
    "mayanh = pd.read_csv('./rawData/mayanh.csv', encoding='utf-8')"
   ]
  },
  {
   "cell_type": "markdown",
   "id": "957d86d9",
   "metadata": {},
   "source": [
    "Kiểm tra giá trị trùng lặp"
   ]
  },
  {
   "cell_type": "code",
   "execution_count": 167,
   "id": "9cf74699",
   "metadata": {},
   "outputs": [
    {
     "data": {
      "text/plain": [
       "np.int64(0)"
      ]
     },
     "execution_count": 167,
     "metadata": {},
     "output_type": "execute_result"
    }
   ],
   "source": [
    "mayanh.duplicated().sum()"
   ]
  },
  {
   "cell_type": "markdown",
   "id": "3131ac27",
   "metadata": {},
   "source": [
    "Kiểm tra giá trị thiếu"
   ]
  },
  {
   "cell_type": "code",
   "execution_count": 168,
   "id": "2090fb08",
   "metadata": {},
   "outputs": [
    {
     "data": {
      "text/plain": [
       "Id                   0\n",
       "Tên sản phẩm         0\n",
       "Thương hiệu          0\n",
       "Danh mục             0\n",
       "Thông số kỹ thuật    0\n",
       "Phiên bản            0\n",
       "Mô tả                0\n",
       "Hình ảnh             0\n",
       "dtype: int64"
      ]
     },
     "execution_count": 168,
     "metadata": {},
     "output_type": "execute_result"
    }
   ],
   "source": [
    "mayanh.isnull().sum()"
   ]
  },
  {
   "cell_type": "markdown",
   "id": "d2487079",
   "metadata": {},
   "source": [
    "Giữ nguyên danh mục như cũ."
   ]
  },
  {
   "cell_type": "markdown",
   "id": "ee044514",
   "metadata": {},
   "source": [
    "### Gộp thành 1 file products duy nhất"
   ]
  },
  {
   "cell_type": "code",
   "execution_count": 169,
   "id": "f567f763",
   "metadata": {},
   "outputs": [],
   "source": [
    "products = pd.concat(\n",
    "    [dienthoai, mayban, cucgach, dieuhoa, laptop, maydocsach, maygiat, maytinhbang, tivi, tulanh, camgiamsat, pc, mayanh],\n",
    "    ignore_index=True\n",
    ")"
   ]
  },
  {
   "cell_type": "code",
   "execution_count": 170,
   "id": "e60143a4",
   "metadata": {},
   "outputs": [],
   "source": [
    "category_rows = []\n",
    "\n",
    "for i, row in enumerate(products['Danh mục'].unique()):\n",
    "    category_rows.append({\n",
    "        'id': str(i).zfill(2),\n",
    "        'name': row,\n",
    "    })\n",
    "\n",
    "category_rows = pd.DataFrame(category_rows)\n",
    "\n",
    "category_rows.to_csv('./transformedData/category.csv', index=False, encoding='utf-8-sig')\n",
    "    \n",
    "    "
   ]
  },
  {
   "cell_type": "code",
   "execution_count": 171,
   "id": "5fa09422",
   "metadata": {},
   "outputs": [
    {
     "data": {
      "text/plain": [
       "np.int64(0)"
      ]
     },
     "execution_count": 171,
     "metadata": {},
     "output_type": "execute_result"
    }
   ],
   "source": [
    "products.duplicated().sum()"
   ]
  },
  {
   "cell_type": "code",
   "execution_count": 172,
   "id": "2c8ba803",
   "metadata": {},
   "outputs": [
    {
     "data": {
      "text/plain": [
       "Id                   0\n",
       "Tên sản phẩm         0\n",
       "Thương hiệu          0\n",
       "Danh mục             0\n",
       "Thông số kỹ thuật    0\n",
       "Phiên bản            0\n",
       "Mô tả                0\n",
       "Hình ảnh             0\n",
       "dtype: int64"
      ]
     },
     "execution_count": 172,
     "metadata": {},
     "output_type": "execute_result"
    }
   ],
   "source": [
    "products.isnull().sum()"
   ]
  },
  {
   "cell_type": "markdown",
   "id": "a23f08e8",
   "metadata": {},
   "source": [
    "Các cột hiện tại"
   ]
  },
  {
   "cell_type": "code",
   "execution_count": 173,
   "id": "5ee24a7e",
   "metadata": {},
   "outputs": [
    {
     "data": {
      "text/plain": [
       "Index(['Id', 'Tên sản phẩm', 'Thương hiệu', 'Danh mục', 'Thông số kỹ thuật',\n",
       "       'Phiên bản', 'Mô tả', 'Hình ảnh'],\n",
       "      dtype='object')"
      ]
     },
     "execution_count": 173,
     "metadata": {},
     "output_type": "execute_result"
    }
   ],
   "source": [
    "products.columns"
   ]
  },
  {
   "cell_type": "code",
   "execution_count": 174,
   "id": "0144024d",
   "metadata": {},
   "outputs": [],
   "source": [
    "# # create unique id for each product\n",
    "\n",
    "# products['ID'] = np.arange(1, len(products) + 1)\n",
    "# products['ID'] = products['ID'].astype(str).str.zfill(6)"
   ]
  },
  {
   "cell_type": "markdown",
   "id": "6fb70afc",
   "metadata": {},
   "source": [
    "Thực hiện:\n",
    "\n",
    "Xây dựng:\n",
    "\n",
    "• DF Product(id, categoryId, name, description, specification, imageURL, brand)\n",
    "\n",
    "• DF Attribute (id, name) (Với attribute là các thuộc tính phân biệt các biến thể)\n",
    "\n",
    "• DF Value_Attribute(id, attributeId, value) (Bảng chứa giá trị biến thể)\n",
    "\n",
    "• DF Product_Variant(id, productId, price, quantity, SKU)\n",
    "\n"
   ]
  },
  {
   "cell_type": "code",
   "execution_count": 175,
   "id": "703c61ba",
   "metadata": {},
   "outputs": [
    {
     "data": {
      "text/html": [
       "<div>\n",
       "<style scoped>\n",
       "    .dataframe tbody tr th:only-of-type {\n",
       "        vertical-align: middle;\n",
       "    }\n",
       "\n",
       "    .dataframe tbody tr th {\n",
       "        vertical-align: top;\n",
       "    }\n",
       "\n",
       "    .dataframe thead th {\n",
       "        text-align: right;\n",
       "    }\n",
       "</style>\n",
       "<table border=\"1\" class=\"dataframe\">\n",
       "  <thead>\n",
       "    <tr style=\"text-align: right;\">\n",
       "      <th></th>\n",
       "      <th>id</th>\n",
       "      <th>name</th>\n",
       "    </tr>\n",
       "  </thead>\n",
       "  <tbody>\n",
       "    <tr>\n",
       "      <th>0</th>\n",
       "      <td>0</td>\n",
       "      <td>Điện thoại Smartphone</td>\n",
       "    </tr>\n",
       "    <tr>\n",
       "      <th>1</th>\n",
       "      <td>1</td>\n",
       "      <td>Phụ kiện điện thoại</td>\n",
       "    </tr>\n",
       "    <tr>\n",
       "      <th>2</th>\n",
       "      <td>2</td>\n",
       "      <td>Điện thoại bàn</td>\n",
       "    </tr>\n",
       "    <tr>\n",
       "      <th>3</th>\n",
       "      <td>3</td>\n",
       "      <td>Điện thoại phổ thông</td>\n",
       "    </tr>\n",
       "    <tr>\n",
       "      <th>4</th>\n",
       "      <td>4</td>\n",
       "      <td>Máy lạnh treo tường</td>\n",
       "    </tr>\n",
       "    <tr>\n",
       "      <th>5</th>\n",
       "      <td>5</td>\n",
       "      <td>Máy lạnh tủ đứng</td>\n",
       "    </tr>\n",
       "    <tr>\n",
       "      <th>6</th>\n",
       "      <td>6</td>\n",
       "      <td>Máy lạnh - Máy điều hòa</td>\n",
       "    </tr>\n",
       "    <tr>\n",
       "      <th>7</th>\n",
       "      <td>7</td>\n",
       "      <td>Máy lạnh âm trần</td>\n",
       "    </tr>\n",
       "    <tr>\n",
       "      <th>8</th>\n",
       "      <td>8</td>\n",
       "      <td>Laptop Truyền Thống</td>\n",
       "    </tr>\n",
       "    <tr>\n",
       "      <th>9</th>\n",
       "      <td>9</td>\n",
       "      <td>Laptop Gaming</td>\n",
       "    </tr>\n",
       "    <tr>\n",
       "      <th>10</th>\n",
       "      <td>10</td>\n",
       "      <td>Macbook</td>\n",
       "    </tr>\n",
       "    <tr>\n",
       "      <th>11</th>\n",
       "      <td>11</td>\n",
       "      <td>Laptop 2 trong 1</td>\n",
       "    </tr>\n",
       "    <tr>\n",
       "      <th>12</th>\n",
       "      <td>12</td>\n",
       "      <td>Máy đọc sách</td>\n",
       "    </tr>\n",
       "    <tr>\n",
       "      <th>13</th>\n",
       "      <td>13</td>\n",
       "      <td>Máy tính bảng</td>\n",
       "    </tr>\n",
       "    <tr>\n",
       "      <th>14</th>\n",
       "      <td>14</td>\n",
       "      <td>Máy giặt</td>\n",
       "    </tr>\n",
       "    <tr>\n",
       "      <th>15</th>\n",
       "      <td>15</td>\n",
       "      <td>Máy giặt mini</td>\n",
       "    </tr>\n",
       "    <tr>\n",
       "      <th>16</th>\n",
       "      <td>16</td>\n",
       "      <td>Máy giặt cửa ngang</td>\n",
       "    </tr>\n",
       "    <tr>\n",
       "      <th>17</th>\n",
       "      <td>17</td>\n",
       "      <td>Máy giặt cửa trên</td>\n",
       "    </tr>\n",
       "    <tr>\n",
       "      <th>18</th>\n",
       "      <td>18</td>\n",
       "      <td>Tháp giặt sấy</td>\n",
       "    </tr>\n",
       "    <tr>\n",
       "      <th>19</th>\n",
       "      <td>19</td>\n",
       "      <td>Tivi 4K</td>\n",
       "    </tr>\n",
       "    <tr>\n",
       "      <th>20</th>\n",
       "      <td>20</td>\n",
       "      <td>Tivi thường (LED)</td>\n",
       "    </tr>\n",
       "    <tr>\n",
       "      <th>21</th>\n",
       "      <td>21</td>\n",
       "      <td>Tivi QLED</td>\n",
       "    </tr>\n",
       "    <tr>\n",
       "      <th>22</th>\n",
       "      <td>22</td>\n",
       "      <td>Smart Tivi - Android Tivi</td>\n",
       "    </tr>\n",
       "    <tr>\n",
       "      <th>23</th>\n",
       "      <td>23</td>\n",
       "      <td>Tivi OLED</td>\n",
       "    </tr>\n",
       "    <tr>\n",
       "      <th>24</th>\n",
       "      <td>24</td>\n",
       "      <td>Tivi cao cấp</td>\n",
       "    </tr>\n",
       "    <tr>\n",
       "      <th>25</th>\n",
       "      <td>25</td>\n",
       "      <td>Internet Tivi</td>\n",
       "    </tr>\n",
       "    <tr>\n",
       "      <th>26</th>\n",
       "      <td>26</td>\n",
       "      <td>Tủ lạnh nhiều cửa</td>\n",
       "    </tr>\n",
       "    <tr>\n",
       "      <th>27</th>\n",
       "      <td>27</td>\n",
       "      <td>Tủ lạnh mini</td>\n",
       "    </tr>\n",
       "    <tr>\n",
       "      <th>28</th>\n",
       "      <td>28</td>\n",
       "      <td>Tủ lạnh side by side</td>\n",
       "    </tr>\n",
       "    <tr>\n",
       "      <th>29</th>\n",
       "      <td>29</td>\n",
       "      <td>Tủ lạnh</td>\n",
       "    </tr>\n",
       "    <tr>\n",
       "      <th>30</th>\n",
       "      <td>30</td>\n",
       "      <td>Camera IP - Camera Wifi</td>\n",
       "    </tr>\n",
       "    <tr>\n",
       "      <th>31</th>\n",
       "      <td>31</td>\n",
       "      <td>Phụ Kiện Camera Giám Sát</td>\n",
       "    </tr>\n",
       "    <tr>\n",
       "      <th>32</th>\n",
       "      <td>32</td>\n",
       "      <td>Đầu Ghi Hình Camera</td>\n",
       "    </tr>\n",
       "    <tr>\n",
       "      <th>33</th>\n",
       "      <td>33</td>\n",
       "      <td>Hệ Thống Camera Giám Sát</td>\n",
       "    </tr>\n",
       "    <tr>\n",
       "      <th>34</th>\n",
       "      <td>34</td>\n",
       "      <td>Camera Quan Sát Analog</td>\n",
       "    </tr>\n",
       "    <tr>\n",
       "      <th>35</th>\n",
       "      <td>35</td>\n",
       "      <td>Mini PC</td>\n",
       "    </tr>\n",
       "    <tr>\n",
       "      <th>36</th>\n",
       "      <td>36</td>\n",
       "      <td>Máy tính đồng bộ</td>\n",
       "    </tr>\n",
       "    <tr>\n",
       "      <th>37</th>\n",
       "      <td>37</td>\n",
       "      <td>Máy Tính All in one</td>\n",
       "    </tr>\n",
       "    <tr>\n",
       "      <th>38</th>\n",
       "      <td>38</td>\n",
       "      <td>PC Gaming</td>\n",
       "    </tr>\n",
       "    <tr>\n",
       "      <th>39</th>\n",
       "      <td>39</td>\n",
       "      <td>Towers - Máy Chủ - Server</td>\n",
       "    </tr>\n",
       "    <tr>\n",
       "      <th>40</th>\n",
       "      <td>40</td>\n",
       "      <td>Máy Tính Để Bàn Lắp Ráp</td>\n",
       "    </tr>\n",
       "    <tr>\n",
       "      <th>41</th>\n",
       "      <td>41</td>\n",
       "      <td>Máy Chụp Ảnh Phim</td>\n",
       "    </tr>\n",
       "    <tr>\n",
       "      <th>42</th>\n",
       "      <td>42</td>\n",
       "      <td>Máy Ảnh Lấy Liền</td>\n",
       "    </tr>\n",
       "    <tr>\n",
       "      <th>43</th>\n",
       "      <td>43</td>\n",
       "      <td>Máy Ảnh - Máy Quay Phim</td>\n",
       "    </tr>\n",
       "    <tr>\n",
       "      <th>44</th>\n",
       "      <td>44</td>\n",
       "      <td>Máy Ảnh Compact - Máy Ảnh Du Lịch</td>\n",
       "    </tr>\n",
       "    <tr>\n",
       "      <th>45</th>\n",
       "      <td>45</td>\n",
       "      <td>Máy Ảnh Mirrorless</td>\n",
       "    </tr>\n",
       "  </tbody>\n",
       "</table>\n",
       "</div>"
      ],
      "text/plain": [
       "    id                               name\n",
       "0    0              Điện thoại Smartphone\n",
       "1    1                Phụ kiện điện thoại\n",
       "2    2                     Điện thoại bàn\n",
       "3    3               Điện thoại phổ thông\n",
       "4    4                Máy lạnh treo tường\n",
       "5    5                   Máy lạnh tủ đứng\n",
       "6    6            Máy lạnh - Máy điều hòa\n",
       "7    7                   Máy lạnh âm trần\n",
       "8    8                Laptop Truyền Thống\n",
       "9    9                      Laptop Gaming\n",
       "10  10                            Macbook\n",
       "11  11                   Laptop 2 trong 1\n",
       "12  12                       Máy đọc sách\n",
       "13  13                      Máy tính bảng\n",
       "14  14                           Máy giặt\n",
       "15  15                      Máy giặt mini\n",
       "16  16                 Máy giặt cửa ngang\n",
       "17  17                  Máy giặt cửa trên\n",
       "18  18                      Tháp giặt sấy\n",
       "19  19                            Tivi 4K\n",
       "20  20                  Tivi thường (LED)\n",
       "21  21                          Tivi QLED\n",
       "22  22          Smart Tivi - Android Tivi\n",
       "23  23                          Tivi OLED\n",
       "24  24                       Tivi cao cấp\n",
       "25  25                      Internet Tivi\n",
       "26  26                  Tủ lạnh nhiều cửa\n",
       "27  27                       Tủ lạnh mini\n",
       "28  28               Tủ lạnh side by side\n",
       "29  29                            Tủ lạnh\n",
       "30  30            Camera IP - Camera Wifi\n",
       "31  31           Phụ Kiện Camera Giám Sát\n",
       "32  32                Đầu Ghi Hình Camera\n",
       "33  33           Hệ Thống Camera Giám Sát\n",
       "34  34             Camera Quan Sát Analog\n",
       "35  35                            Mini PC\n",
       "36  36                   Máy tính đồng bộ\n",
       "37  37                Máy Tính All in one\n",
       "38  38                          PC Gaming\n",
       "39  39          Towers - Máy Chủ - Server\n",
       "40  40            Máy Tính Để Bàn Lắp Ráp\n",
       "41  41                  Máy Chụp Ảnh Phim\n",
       "42  42                   Máy Ảnh Lấy Liền\n",
       "43  43            Máy Ảnh - Máy Quay Phim\n",
       "44  44  Máy Ảnh Compact - Máy Ảnh Du Lịch\n",
       "45  45                 Máy Ảnh Mirrorless"
      ]
     },
     "execution_count": 175,
     "metadata": {},
     "output_type": "execute_result"
    }
   ],
   "source": [
    "categories = pd.read_csv('./transformedData/category.csv', encoding='utf-8')\n",
    "categories"
   ]
  },
  {
   "cell_type": "code",
   "execution_count": 176,
   "id": "a0670574",
   "metadata": {},
   "outputs": [
    {
     "data": {
      "text/plain": [
       "Index(['id', 'name'], dtype='object')"
      ]
     },
     "execution_count": 176,
     "metadata": {},
     "output_type": "execute_result"
    }
   ],
   "source": [
    "categories.columns"
   ]
  },
  {
   "cell_type": "code",
   "execution_count": 177,
   "id": "a3ce2b60",
   "metadata": {},
   "outputs": [
    {
     "name": "stdout",
     "output_type": "stream",
     "text": [
      "Index(['id', 'name'], dtype='object')\n"
     ]
    },
    {
     "data": {
      "text/plain": [
       "{'Điện thoại Smartphone': 0,\n",
       " 'Phụ kiện điện thoại': 1,\n",
       " 'Điện thoại bàn': 2,\n",
       " 'Điện thoại phổ thông': 3,\n",
       " 'Máy lạnh treo tường': 4,\n",
       " 'Máy lạnh tủ đứng': 5,\n",
       " 'Máy lạnh - Máy điều hòa': 6,\n",
       " 'Máy lạnh âm trần': 7,\n",
       " 'Laptop Truyền Thống': 8,\n",
       " 'Laptop Gaming': 9,\n",
       " 'Macbook': 10,\n",
       " 'Laptop 2 trong 1': 11,\n",
       " 'Máy đọc sách': 12,\n",
       " 'Máy tính bảng': 13,\n",
       " 'Máy giặt': 14,\n",
       " 'Máy giặt mini': 15,\n",
       " 'Máy giặt cửa ngang': 16,\n",
       " 'Máy giặt cửa trên': 17,\n",
       " 'Tháp giặt sấy': 18,\n",
       " 'Tivi 4K': 19,\n",
       " 'Tivi thường (LED)': 20,\n",
       " 'Tivi QLED': 21,\n",
       " 'Smart Tivi - Android Tivi': 22,\n",
       " 'Tivi OLED': 23,\n",
       " 'Tivi cao cấp': 24,\n",
       " 'Internet Tivi': 25,\n",
       " 'Tủ lạnh nhiều cửa': 26,\n",
       " 'Tủ lạnh mini': 27,\n",
       " 'Tủ lạnh side by side': 28,\n",
       " 'Tủ lạnh': 29,\n",
       " 'Camera IP - Camera Wifi': 30,\n",
       " 'Phụ Kiện Camera Giám Sát': 31,\n",
       " 'Đầu Ghi Hình Camera': 32,\n",
       " 'Hệ Thống Camera Giám Sát': 33,\n",
       " 'Camera Quan Sát Analog': 34,\n",
       " 'Mini PC': 35,\n",
       " 'Máy tính đồng bộ': 36,\n",
       " 'Máy Tính All in one': 37,\n",
       " 'PC Gaming': 38,\n",
       " 'Towers - Máy Chủ - Server': 39,\n",
       " 'Máy Tính Để Bàn Lắp Ráp': 40,\n",
       " 'Máy Chụp Ảnh Phim': 41,\n",
       " 'Máy Ảnh Lấy Liền': 42,\n",
       " 'Máy Ảnh - Máy Quay Phim': 43,\n",
       " 'Máy Ảnh Compact - Máy Ảnh Du Lịch': 44,\n",
       " 'Máy Ảnh Mirrorless': 45}"
      ]
     },
     "execution_count": 177,
     "metadata": {},
     "output_type": "execute_result"
    }
   ],
   "source": [
    "cat_dict = {}\n",
    "print(categories.columns)  # Check the column names in the DataFrame\n",
    "for index, row in categories.iterrows():\n",
    "        cat_dict[row['name']] = row['id']\n",
    "\n",
    "cat_dict\n"
   ]
  },
  {
   "cell_type": "markdown",
   "id": "f447e0ac",
   "metadata": {},
   "source": [
    "• DF Product(id, categoryId, name, description, specification, imageURL, brand)\n"
   ]
  },
  {
   "cell_type": "code",
   "execution_count": 178,
   "id": "88425aca",
   "metadata": {},
   "outputs": [
    {
     "data": {
      "text/html": [
       "<div>\n",
       "<style scoped>\n",
       "    .dataframe tbody tr th:only-of-type {\n",
       "        vertical-align: middle;\n",
       "    }\n",
       "\n",
       "    .dataframe tbody tr th {\n",
       "        vertical-align: top;\n",
       "    }\n",
       "\n",
       "    .dataframe thead th {\n",
       "        text-align: right;\n",
       "    }\n",
       "</style>\n",
       "<table border=\"1\" class=\"dataframe\">\n",
       "  <thead>\n",
       "    <tr style=\"text-align: right;\">\n",
       "      <th></th>\n",
       "      <th>id</th>\n",
       "      <th>categoryId</th>\n",
       "      <th>name</th>\n",
       "      <th>brand</th>\n",
       "      <th>description</th>\n",
       "      <th>specification</th>\n",
       "      <th>imageURL</th>\n",
       "    </tr>\n",
       "  </thead>\n",
       "  <tbody>\n",
       "    <tr>\n",
       "      <th>0</th>\n",
       "      <td>275618846</td>\n",
       "      <td>0</td>\n",
       "      <td>Điện thoại Samsung Galaxy A34 5G (8GB/256GB) -...</td>\n",
       "      <td>Samsung</td>\n",
       "      <td>Sở hữu những tính năng hàng đầu trong phân khú...</td>\n",
       "      <td>Sản phẩm có được bảo hành không?: Có\\nHình thứ...</td>\n",
       "      <td>https://salt.tikicdn.com/ts/product/90/23/03/2...</td>\n",
       "    </tr>\n",
       "    <tr>\n",
       "      <th>1</th>\n",
       "      <td>276250848</td>\n",
       "      <td>0</td>\n",
       "      <td>Điện Thoại Samsung Galaxy A06 (4GB/128GB) - Hà...</td>\n",
       "      <td>Samsung</td>\n",
       "      <td>Với thiết kế thanh lịch, công nghệ mạnh mẽ và ...</td>\n",
       "      <td>Dung lượng pin: 5000 mAh\\nBluetooth: v5.3\\nThư...</td>\n",
       "      <td>https://salt.tikicdn.com/ts/product/1d/fd/79/2...</td>\n",
       "    </tr>\n",
       "    <tr>\n",
       "      <th>2</th>\n",
       "      <td>275307093</td>\n",
       "      <td>0</td>\n",
       "      <td>Điện Thoại Samsung Galaxy A25 5G (6GB/128GB) -...</td>\n",
       "      <td>Samsung</td>\n",
       "      <td>Rực rỡ đáng kinh ngạc\\nRạng rỡ mọi sắc màu. Mà...</td>\n",
       "      <td>Thương hiệu: Samsung\\nXuất xứ thương hiệu: Hàn...</td>\n",
       "      <td>https://salt.tikicdn.com/ts/product/63/93/e5/6...</td>\n",
       "    </tr>\n",
       "    <tr>\n",
       "      <th>3</th>\n",
       "      <td>273947792</td>\n",
       "      <td>0</td>\n",
       "      <td>Điện thoại AI Samsung Galaxy S24 Ultra, Camera...</td>\n",
       "      <td>Samsung</td>\n",
       "      <td>Điện thoại Samsung Galaxy S24 Ultra 5G- Hàng c...</td>\n",
       "      <td>Dung lượng pin: 5000 mAh\\nBluetooth: v5.3\\nThư...</td>\n",
       "      <td>https://salt.tikicdn.com/ts/product/5b/7f/3e/4...</td>\n",
       "    </tr>\n",
       "    <tr>\n",
       "      <th>4</th>\n",
       "      <td>276614493</td>\n",
       "      <td>0</td>\n",
       "      <td>Điện Thoại Samsung Galaxy A16 LTE (4GB/128GB) ...</td>\n",
       "      <td>Samsung</td>\n",
       "      <td>Samsung Galaxy A16 4GB/128GB là chiếc smartpho...</td>\n",
       "      <td>Dung lượng pin: 5000 mAh\\nBluetooth: v5.3\\nThư...</td>\n",
       "      <td>https://salt.tikicdn.com/ts/product/02/59/95/3...</td>\n",
       "    </tr>\n",
       "  </tbody>\n",
       "</table>\n",
       "</div>"
      ],
      "text/plain": [
       "          id  categoryId                                               name  \\\n",
       "0  275618846           0  Điện thoại Samsung Galaxy A34 5G (8GB/256GB) -...   \n",
       "1  276250848           0  Điện Thoại Samsung Galaxy A06 (4GB/128GB) - Hà...   \n",
       "2  275307093           0  Điện Thoại Samsung Galaxy A25 5G (6GB/128GB) -...   \n",
       "3  273947792           0  Điện thoại AI Samsung Galaxy S24 Ultra, Camera...   \n",
       "4  276614493           0  Điện Thoại Samsung Galaxy A16 LTE (4GB/128GB) ...   \n",
       "\n",
       "     brand                                        description  \\\n",
       "0  Samsung  Sở hữu những tính năng hàng đầu trong phân khú...   \n",
       "1  Samsung  Với thiết kế thanh lịch, công nghệ mạnh mẽ và ...   \n",
       "2  Samsung  Rực rỡ đáng kinh ngạc\\nRạng rỡ mọi sắc màu. Mà...   \n",
       "3  Samsung  Điện thoại Samsung Galaxy S24 Ultra 5G- Hàng c...   \n",
       "4  Samsung  Samsung Galaxy A16 4GB/128GB là chiếc smartpho...   \n",
       "\n",
       "                                       specification  \\\n",
       "0  Sản phẩm có được bảo hành không?: Có\\nHình thứ...   \n",
       "1  Dung lượng pin: 5000 mAh\\nBluetooth: v5.3\\nThư...   \n",
       "2  Thương hiệu: Samsung\\nXuất xứ thương hiệu: Hàn...   \n",
       "3  Dung lượng pin: 5000 mAh\\nBluetooth: v5.3\\nThư...   \n",
       "4  Dung lượng pin: 5000 mAh\\nBluetooth: v5.3\\nThư...   \n",
       "\n",
       "                                            imageURL  \n",
       "0  https://salt.tikicdn.com/ts/product/90/23/03/2...  \n",
       "1  https://salt.tikicdn.com/ts/product/1d/fd/79/2...  \n",
       "2  https://salt.tikicdn.com/ts/product/63/93/e5/6...  \n",
       "3  https://salt.tikicdn.com/ts/product/5b/7f/3e/4...  \n",
       "4  https://salt.tikicdn.com/ts/product/02/59/95/3...  "
      ]
     },
     "execution_count": 178,
     "metadata": {},
     "output_type": "execute_result"
    }
   ],
   "source": [
    "Product = products.rename(columns={\n",
    "    'Id': 'id',\n",
    "    'Tên sản phẩm': 'name',\n",
    "    'Thương hiệu': 'brand',\n",
    "    'Mô tả': 'description',\n",
    "    'Thông số kỹ thuật': 'specification',\n",
    "    'Hình ảnh': 'imageURL',\n",
    "})\n",
    "\n",
    "Product['categoryId'] = Product['Danh mục'].map(cat_dict)\n",
    "\n",
    "Product = Product[['id', 'categoryId', 'name', 'brand', 'description', 'specification', 'imageURL']]\n",
    "\n",
    "\n",
    "Product.head()\n"
   ]
  },
  {
   "cell_type": "markdown",
   "id": "580e8578",
   "metadata": {},
   "source": [
    "• DF Attribute (id, name) (Với attribute là các thuộc tính phân biệt các biến thể)\n"
   ]
  },
  {
   "cell_type": "markdown",
   "id": "6a0b458c",
   "metadata": {},
   "source": [
    "Điện thoại: Màu, Dung lượng\n",
    "\n",
    "Camera giám sát: \n",
    "- Model (model, model camera, lựa chọn mẫu),\n",
    "- Độ phân giải (độ phân giải)\n",
    "- Màu (Color)\n",
    "- Lựa chọn (Loại, lựa chọn, camera, loại camera, memory, tùy chọn, mẫu)\n",
    "\n",
    "Điện thoại bàn: Màu\n",
    "\n",
    "Điện thoại phổ thông: Màu\n",
    "\n",
    "Điều hòa: Công suất (Phân loại công suất, công suất làm lạnh, công suất lạnh), Bảo hành (Bảo hành 2 năm, bảo hành toàn quốc)\n",
    "\n",
    "Laptop: Dung lượng, Màu, Chip, Hệ điều hành, Màn (Loại màn)\n",
    "\n",
    "Máy ảnh: Màu, Lựa chọn\n",
    "\n",
    "Máy đọc sách: Màu (+ Màu bao da), Dung lượng, Bút đi kèm (loại bút đi kèm), Lựa chọn\n",
    "\n",
    "Máy giặt: Màu\n",
    "\n",
    "Máy tính bảng: Màu, Dung lượng, Lựa chọn\n",
    "\n",
    "Máy tính để bàn: Dung lượng, Cấu hình, Lựa chọn\n",
    "\n",
    "Tivi: Kích cỡ (Kích cỡ màn hình), Lựa chọn\n",
    "\n",
    "Tủ lạnh: Màu, Lựa chọn"
   ]
  },
  {
   "cell_type": "code",
   "execution_count": 179,
   "id": "14f749d3",
   "metadata": {},
   "outputs": [],
   "source": [
    "def toPascalCase(x: str):\n",
    "    return ' '.join(word.capitalize() for word in x.lower().split())\n",
    "\n",
    "def rename_attribute(pre_attribute: str, value: str):\n",
    "    \n",
    "    attribute = pre_attribute.lower()\n",
    "    value = value.lower()\n",
    "\n",
    "    if any(attr in attribute for attr in ['màu', 'colour', 'color']) and all(not char.isdigit() for char in value):\n",
    "        attribute = 'Màu'\n",
    "    elif any(attr in attribute for attr in ['dung lượng', 'ram', 'memory', 'storage']):\n",
    "        attribute = 'Dung lượng'\n",
    "    elif any(attr in attribute for attr in ['model', 'model camera', 'lựa chọn mẫu', 'mẫu']):\n",
    "        attribute = 'Model'\n",
    "    elif any(attr in attribute for attr in ['độ phân giải', 'phân giải', 'resolution']):\n",
    "        attribute = 'Độ phân giải'\n",
    "    elif any(attr in attribute for attr in ['công suất', 'power']):\n",
    "        attribute = 'Công suất'\n",
    "    elif any(attr in attribute for attr in ['bảo hành', 'warranty']):\n",
    "        attribute = 'Bảo hành'\n",
    "    elif any(attr in attribute for attr in ['chip', 'cpu', 'vi xử lý', 'processor']):\n",
    "        attribute = 'Chip'\n",
    "    elif any(attr in attribute for attr in ['hệ điều hành', 'os', 'operating system', 'win']):\n",
    "        attribute = 'Hệ điều hành'\n",
    "    elif any(attr in attribute for attr in ['màn', 'display', 'screen']):\n",
    "        attribute = 'Màn hình'\n",
    "    elif any(attr in attribute for attr in ['bút', 'pen']):\n",
    "        attribute = 'Bút đi kèm'\n",
    "\n",
    "    else:\n",
    "        attribute = 'Lựa chọn'\n",
    "\n",
    "    return attribute"
   ]
  },
  {
   "cell_type": "code",
   "execution_count": 180,
   "id": "97393c45",
   "metadata": {},
   "outputs": [],
   "source": [
    "def extract_options(versions: str):\n",
    "    if '=' not in versions:\n",
    "        return [{\n",
    "            'attrs': ['Other'],\n",
    "            'values': ['1 giá'],\n",
    "            'price': int(versions.split()[0].strip())\n",
    "        }]\n",
    "    \n",
    "    options = []\n",
    "\n",
    "    lines = versions.split('\\n')\n",
    "    for line in lines:\n",
    "        current = line.split('=')\n",
    "        price = int(current[-1].strip().split()[0].strip())\n",
    "        \n",
    "        option = {\n",
    "            'attrs': [],\n",
    "            'values': [],\n",
    "            'price': price\n",
    "        }\n",
    "        \n",
    "        current_attributes = current[0].strip()\n",
    "        split_current_attribute = current_attributes.split('$$')\n",
    "        for attribute_value in split_current_attribute:\n",
    "            attribute = attribute_value.split(':')[0].strip().lower()\n",
    "            value = attribute_value.split(':')[1].strip()\n",
    "\n",
    "            value = toPascalCase(value)\n",
    "\n",
    "            attribute = rename_attribute(attribute, value)\n",
    "\n",
    "            option['attrs'].append(attribute)\n",
    "            option['values'].append(value)\n",
    "        \n",
    "        options.append(option)\n",
    "\n",
    "    return options\n",
    "\n"
   ]
  },
  {
   "cell_type": "code",
   "execution_count": 181,
   "id": "be2d6fef",
   "metadata": {},
   "outputs": [],
   "source": [
    "def extract_attributes(dataframe: pd.DataFrame):\n",
    "    res = {}\n",
    "\n",
    "    for _, row in dataframe[['Id', 'Phiên bản']].iterrows():\n",
    "        versions = str(row['Phiên bản'])\n",
    "\n",
    "        options = extract_options(versions)\n",
    "\n",
    "        for option in options:\n",
    "            for (attr, value) in zip(option['attrs'], option['values']):\n",
    "                if attr not in res:\n",
    "                    res[attr] = set()\n",
    "                res[attr].add(value)\n",
    "\n",
    "    return res"
   ]
  },
  {
   "cell_type": "code",
   "execution_count": 182,
   "id": "00c9e0ac",
   "metadata": {},
   "outputs": [],
   "source": [
    "attributes = extract_attributes(products)\n",
    "\n",
    "sorted_attributes = sorted(attributes.items(), key=lambda kv: (kv[0], kv[1]))\n",
    "sorted_attributes = {k: v for k, v in sorted_attributes}  \n",
    "\n",
    "att_dict = {}\n",
    "\n",
    "attribute_df = pd.DataFrame(columns=['id', 'name'])\n",
    "\n",
    "for i, key in enumerate(sorted_attributes.keys()):\n",
    "    row = {'id': str(i).zfill(6), 'name': key}\n",
    "    att_dict[key] = str(i).zfill(6)\n",
    "    attribute_df = pd.concat([attribute_df, pd.DataFrame([row])], ignore_index=True)\n",
    "\n",
    "\n",
    "attribute_df.to_csv('./transformedData/attribute.csv', index=False, encoding='utf-8-sig')"
   ]
  },
  {
   "cell_type": "code",
   "execution_count": 183,
   "id": "0023b7a8",
   "metadata": {},
   "outputs": [],
   "source": [
    "attribute_value = pd.DataFrame(columns=['id', 'attribute_id', 'value'])\n",
    "\n",
    "att_val_dict = {}\n",
    "\n",
    "att_val_id_counter = 0\n",
    "\n",
    "for i, (key, value) in enumerate(sorted_attributes.items()):\n",
    "    for v in value:\n",
    "        row = {\n",
    "            'id': str(att_val_id_counter).zfill(6),\n",
    "            'attribute_id': str(i).zfill(6),\n",
    "            'value': v\n",
    "        }\n",
    "        att_val_dict[v] = str(att_val_id_counter).zfill(6)\n",
    "\n",
    "        attribute_value = pd.concat([attribute_value, pd.DataFrame([row])], ignore_index=True)\n",
    "\n",
    "        att_val_id_counter += 1\n",
    "\n",
    "attribute_value.to_csv('./transformedData/attribute_value.csv', index=False, encoding='utf-8-sig')\n"
   ]
  },
  {
   "cell_type": "code",
   "execution_count": 184,
   "id": "08931d3b",
   "metadata": {},
   "outputs": [],
   "source": [
    "import re\n",
    "\n",
    "def normalize_viet_name(name):\n",
    "    vietnamese_chars = {\n",
    "        'à': 'a', 'á': 'a', 'ả': 'a', 'ã': 'a', 'ạ': 'a',\n",
    "        'ă': 'a', 'ằ': 'a', 'ắ': 'a', 'ẳ': 'a', 'ẵ': 'a', 'ặ': 'a',\n",
    "        'â': 'a', 'ầ': 'a', 'ấ': 'a', 'ẩ': 'a', 'ẫ': 'a', 'ậ': 'a',\n",
    "        'đ': 'd',\n",
    "        'è': 'e', 'é': 'e', 'ẻ': 'e', 'ẽ': 'e', 'ẹ': 'e',\n",
    "        'ê': 'e', 'ề': 'e', 'ế': 'e', 'ể': 'e', 'ễ': 'e', 'ệ': 'e',\n",
    "        'ì': 'i', 'í': 'i', 'ỉ': 'i', 'ĩ': 'i', 'ị': 'i',\n",
    "        'ò': 'o', 'ó': 'o', 'ỏ': 'o', 'õ': 'o', 'ọ': 'o',\n",
    "        'ô': 'o', 'ồ': 'o', 'ố': 'o', 'ổ': 'o', 'ỗ': 'o', 'ộ': 'o',\n",
    "        'ơ': 'o', 'ờ': 'o', 'ớ': 'o', 'ở': 'o', 'ỡ': 'o', 'ợ': 'o',\n",
    "        'ù': 'u', 'ú': 'u', 'ủ': 'u', 'ũ': 'u', 'ụ': 'u',\n",
    "        'ư': 'u', 'ừ': 'u', 'ứ': 'u', 'ử': 'u', 'ữ': 'u', 'ự': 'u',\n",
    "        'ỳ': 'y', 'ý': 'y', 'ỷ': 'y', 'ỹ': 'y', 'ỵ': 'y'\n",
    "    }\n",
    "\n",
    "    name = name.lower()\n",
    "    for vn_char, latin_char in vietnamese_chars.items():\n",
    "        name = name.replace(vn_char, latin_char)\n",
    "\n",
    "    name = re.sub(r'[^a-z ]','', name)\n",
    "\n",
    "    return name\n",
    "\n",
    "def create_sku(brand, category, variant_id):\n",
    "    brand = normalize_viet_name(brand)\n",
    "    category = normalize_viet_name(category)\n",
    "\n",
    "    return f'{brand[:2].upper()}-{''.join(map(lambda x: x[0].upper(), category.split()))}-{variant_id}'"
   ]
  },
  {
   "cell_type": "code",
   "execution_count": 185,
   "id": "abd1ec4b",
   "metadata": {},
   "outputs": [],
   "source": [
    "def create_cost_price(price):\n",
    "    mean = 0.8\n",
    "    std_dev = 0.05\n",
    "\n",
    "    original_price = price * random.gauss(mean, std_dev)\n",
    "    original_price = max(original_price, price * 0.5)\n",
    "\n",
    "    return round(original_price)"
   ]
  },
  {
   "cell_type": "code",
   "execution_count": null,
   "id": "18377ae2",
   "metadata": {},
   "outputs": [],
   "source": [
    "option_to_variant = {}\n"
   ]
  },
  {
   "cell_type": "code",
   "execution_count": null,
   "id": "8f6da908",
   "metadata": {},
   "outputs": [],
   "source": [
    "product_rows = []\n",
    "product_variant_rows = []\n",
    "attribute_variant_rows = []\n",
    "\n",
    "variant_id_counter = 0\n",
    "\n",
    "for i, row in products.iterrows():\n",
    "    versions = str(row['Phiên bản'])\n",
    "\n",
    "    options = extract_options(versions)\n",
    "\n",
    "    product_id = str(i).zfill(6)\n",
    "\n",
    "    product_row = {\n",
    "        'id': product_id,\n",
    "        'category_id': cat_dict[row['Danh mục']],\n",
    "        'name': row['Tên sản phẩm'],\n",
    "        'description': row['Mô tả'],\n",
    "        'specification': row['Thông số kỹ thuật'],\n",
    "        'image_url': row['Hình ảnh'],\n",
    "        'brand': row['Thương hiệu']\n",
    "    }\n",
    "\n",
    "    product_rows.append(product_row)\n",
    "\n",
    "    for option in options:\n",
    "        \n",
    "        stock_quantity = random.randint(0, 120)\n",
    "\n",
    "        variant_id = str(variant_id_counter).zfill(6)\n",
    "        \n",
    "        price = option['price']\n",
    "\n",
    "        original_price = create_cost_price(option['price'])\n",
    "\n",
    "        profit = option['price'] - original_price\n",
    "\n",
    "        sku = create_sku(row['Thương hiệu'], row['Danh mục'], variant_id)\n",
    "\n",
    "        sold_quantity = random.randint(0, 100)\n",
    "\n",
    "        product_variant_row = {\n",
    "                'id': variant_id,\n",
    "                'product_id': product_id,\n",
    "                'price': price,\n",
    "                'original_price': original_price,\n",
    "                'profit': profit,\n",
    "                'sku': sku,\n",
    "                'stock_quantity': stock_quantity,\n",
    "                'sold_quantity': sold_quantity\n",
    "        }\n",
    "\n",
    "        product_variant_rows.append(product_variant_row)\n",
    "\n",
    "        for (attr, val) in zip(option['attrs'], option['values']):\n",
    "\n",
    "            attribute_variant_row = {\n",
    "                'attribute_value_id': att_val_dict[val],\n",
    "                'attribute_id': att_dict[attr],\n",
    "                'product_variant_id': variant_id\n",
    "            }\n",
    "\n",
    "            attribute_variant_rows.append(attribute_variant_row)\n",
    "\n",
    "        key = (\n",
    "            row['Id'],\n",
    "            tuple(sorted(zip(option['attrs'], option['values'])))\n",
    "        )\n",
    "\n",
    "        option_to_variant[key] = variant_id_counter\n",
    "\n",
    "        variant_id_counter += 1\n",
    "\n",
    "product_df = pd.DataFrame(product_rows)\n",
    "product_variant = pd.DataFrame(product_variant_rows)\n",
    "attribute_variant = pd.DataFrame(attribute_variant_rows)"
   ]
  },
  {
   "cell_type": "code",
   "execution_count": 189,
   "id": "2117eb3b",
   "metadata": {},
   "outputs": [],
   "source": [
    "product_df.to_csv('./transformedData/product.csv', index=False, encoding='utf-8-sig')\n",
    "product_variant.to_csv('./transformedData/product_variant.csv', index=False, encoding='utf-8-sig')\n",
    "attribute_variant.to_csv('./transformedData/attribute_variant.csv', index=False, encoding='utf-8-sig')"
   ]
  },
  {
   "cell_type": "markdown",
   "id": "7ec9697a",
   "metadata": {},
   "source": [
    "### Xử lý feedback"
   ]
  },
  {
   "cell_type": "code",
   "execution_count": 218,
   "id": "2b3397f5",
   "metadata": {},
   "outputs": [
    {
     "name": "stdout",
     "output_type": "stream",
     "text": [
      "feedback_id      0\n",
      "product_id       0\n",
      "customer_id      0\n",
      "rating           0\n",
      "content         89\n",
      "time             0\n",
      "variant        242\n",
      "dtype: int64\n",
      "60\n",
      "399\n"
     ]
    }
   ],
   "source": [
    "camera_fb = pd.read_csv('./feedback/camera_fb.csv', encoding='utf-8')\n",
    "print(camera_fb.isnull().sum())\n",
    "print(camera_fb.duplicated().sum())\n",
    "print(len(camera_fb))\n"
   ]
  },
  {
   "cell_type": "code",
   "execution_count": 220,
   "id": "8061be25",
   "metadata": {},
   "outputs": [
    {
     "name": "stdout",
     "output_type": "stream",
     "text": [
      "feedback_id      0\n",
      "product_id       0\n",
      "customer_id      0\n",
      "rating           0\n",
      "content        285\n",
      "time             5\n",
      "variant         49\n",
      "dtype: int64\n",
      "174\n",
      "585\n"
     ]
    }
   ],
   "source": [
    "dienthoai_fb = pd.read_csv('./feedback/dienthoai_fb.csv', encoding='utf-8')\n",
    "print(dienthoai_fb.isnull().sum())\n",
    "print(dienthoai_fb.duplicated().sum())\n",
    "print(len(dienthoai_fb))"
   ]
  },
  {
   "cell_type": "code",
   "execution_count": 221,
   "id": "94a3fc72",
   "metadata": {},
   "outputs": [
    {
     "name": "stdout",
     "output_type": "stream",
     "text": [
      "feedback_id    0\n",
      "product_id     0\n",
      "customer_id    0\n",
      "rating         0\n",
      "content        3\n",
      "time           0\n",
      "variant        0\n",
      "dtype: int64\n",
      "0\n",
      "23\n"
     ]
    }
   ],
   "source": [
    "dienthoaiban_fb = pd.read_csv('./feedback/dienthoaiban_fb.csv', encoding='utf-8')\n",
    "print(dienthoaiban_fb.isnull().sum())\n",
    "print(dienthoaiban_fb.duplicated().sum())\n",
    "print(len(dienthoaiban_fb))"
   ]
  },
  {
   "cell_type": "code",
   "execution_count": 222,
   "id": "9932ae4b",
   "metadata": {},
   "outputs": [
    {
     "name": "stdout",
     "output_type": "stream",
     "text": [
      "feedback_id    0\n",
      "product_id     0\n",
      "customer_id    0\n",
      "rating         0\n",
      "content        8\n",
      "time           0\n",
      "variant        0\n",
      "dtype: int64\n",
      "0\n",
      "14\n"
     ]
    }
   ],
   "source": [
    "dienthoaiphothong_fb = pd.read_csv('./feedback/dienthoaiphothong_fb.csv', encoding='utf-8')\n",
    "print(dienthoaiphothong_fb.isnull().sum())\n",
    "print(dienthoaiphothong_fb.duplicated().sum())\n",
    "print(len(dienthoaiphothong_fb))"
   ]
  },
  {
   "cell_type": "code",
   "execution_count": 223,
   "id": "19a84734",
   "metadata": {},
   "outputs": [
    {
     "name": "stdout",
     "output_type": "stream",
     "text": [
      "feedback_id      0\n",
      "product_id       0\n",
      "customer_id      0\n",
      "rating           0\n",
      "content         76\n",
      "time            10\n",
      "variant        216\n",
      "dtype: int64\n",
      "0\n",
      "216\n"
     ]
    }
   ],
   "source": [
    "dieuhoa_fb = pd.read_csv('./feedback/dieuhoa_fb.csv', encoding='utf-8')\n",
    "print(dieuhoa_fb.isnull().sum())\n",
    "print(dieuhoa_fb.duplicated().sum())\n",
    "print(len(dieuhoa_fb))"
   ]
  },
  {
   "cell_type": "code",
   "execution_count": 224,
   "id": "8684abfd",
   "metadata": {},
   "outputs": [
    {
     "name": "stdout",
     "output_type": "stream",
     "text": [
      "feedback_id     0\n",
      "product_id      0\n",
      "customer_id     0\n",
      "rating          0\n",
      "content        11\n",
      "time            0\n",
      "variant        21\n",
      "dtype: int64\n",
      "0\n"
     ]
    }
   ],
   "source": [
    "laptop_fb = pd.read_csv('./feedback/laptop_fb.csv', encoding='utf-8')\n",
    "print(laptop_fb.isnull().sum())\n",
    "print(laptop_fb.duplicated().sum())\n"
   ]
  },
  {
   "cell_type": "code",
   "execution_count": 225,
   "id": "24d733fe",
   "metadata": {},
   "outputs": [
    {
     "name": "stdout",
     "output_type": "stream",
     "text": [
      "feedback_id    0\n",
      "product_id     0\n",
      "customer_id    0\n",
      "rating         0\n",
      "content        1\n",
      "time           0\n",
      "variant        2\n",
      "dtype: int64\n",
      "0\n",
      "2\n"
     ]
    }
   ],
   "source": [
    "mayanh_fb = pd.read_csv('./feedback/mayanh_fb.csv', encoding='utf-8')\n",
    "print(mayanh_fb.isnull().sum())\n",
    "print(mayanh_fb.duplicated().sum())\n",
    "print(len(mayanh_fb))"
   ]
  },
  {
   "cell_type": "code",
   "execution_count": 226,
   "id": "b5da37d5",
   "metadata": {},
   "outputs": [
    {
     "name": "stdout",
     "output_type": "stream",
     "text": [
      "feedback_id     0\n",
      "product_id      0\n",
      "customer_id     0\n",
      "rating          0\n",
      "content        35\n",
      "time            1\n",
      "variant        64\n",
      "dtype: int64\n",
      "15\n",
      "112\n"
     ]
    }
   ],
   "source": [
    "maydocsach_fb = pd.read_csv('./feedback/maydocsach_fb.csv', encoding='utf-8')\n",
    "print(maydocsach_fb.isnull().sum())\n",
    "print(maydocsach_fb.duplicated().sum())\n",
    "print(len(maydocsach_fb))"
   ]
  },
  {
   "cell_type": "code",
   "execution_count": 227,
   "id": "2617fb10",
   "metadata": {},
   "outputs": [
    {
     "name": "stdout",
     "output_type": "stream",
     "text": [
      "feedback_id     0\n",
      "product_id      0\n",
      "customer_id     0\n",
      "rating          0\n",
      "content        31\n",
      "time            2\n",
      "variant        91\n",
      "dtype: int64\n",
      "0\n",
      "91\n"
     ]
    }
   ],
   "source": [
    "maygiat_fb = pd.read_csv('./feedback/maygiat_fb.csv', encoding='utf-8')\n",
    "print(maygiat_fb.isnull().sum())\n",
    "print(maygiat_fb.duplicated().sum())\n",
    "print(len(maygiat_fb))"
   ]
  },
  {
   "cell_type": "code",
   "execution_count": 228,
   "id": "cac00f41",
   "metadata": {},
   "outputs": [
    {
     "name": "stdout",
     "output_type": "stream",
     "text": [
      "feedback_id    0\n",
      "product_id     0\n",
      "customer_id    0\n",
      "rating         0\n",
      "content        0\n",
      "time           0\n",
      "variant        0\n",
      "dtype: int64\n",
      "30\n",
      "90\n"
     ]
    }
   ],
   "source": [
    "maytinhbang_fb = pd.read_csv('./feedback/maytinhbang_fb.csv', encoding='utf-8')\n",
    "print(maytinhbang_fb.isnull().sum())\n",
    "print(maytinhbang_fb.duplicated().sum())\n",
    "print(len(maytinhbang_fb))"
   ]
  },
  {
   "cell_type": "code",
   "execution_count": 229,
   "id": "b37890e9",
   "metadata": {},
   "outputs": [
    {
     "name": "stdout",
     "output_type": "stream",
     "text": [
      "feedback_id      0\n",
      "product_id       0\n",
      "customer_id      0\n",
      "rating           0\n",
      "content         72\n",
      "time             8\n",
      "variant        283\n",
      "dtype: int64\n",
      "0\n",
      "283\n"
     ]
    }
   ],
   "source": [
    "tivi_fb = pd.read_csv('./feedback/tivi_fb.csv', encoding='utf-8')\n",
    "print(tivi_fb.isnull().sum())\n",
    "print(tivi_fb.duplicated().sum())\n",
    "print(len(tivi_fb))"
   ]
  },
  {
   "cell_type": "code",
   "execution_count": 230,
   "id": "36a276b7",
   "metadata": {},
   "outputs": [
    {
     "name": "stdout",
     "output_type": "stream",
     "text": [
      "feedback_id      0\n",
      "product_id       0\n",
      "customer_id      0\n",
      "rating           0\n",
      "content         83\n",
      "time             3\n",
      "variant        303\n",
      "dtype: int64\n",
      "0\n",
      "305\n"
     ]
    }
   ],
   "source": [
    "tulanh_fb = pd.read_csv('./feedback/tulanh_fb.csv', encoding='utf-8')\n",
    "print(tulanh_fb.isnull().sum())\n",
    "print(tulanh_fb.duplicated().sum())\n",
    "print(len(tulanh_fb))"
   ]
  }
 ],
 "metadata": {
  "kernelspec": {
   "display_name": "venv",
   "language": "python",
   "name": "python3"
  },
  "language_info": {
   "codemirror_mode": {
    "name": "ipython",
    "version": 3
   },
   "file_extension": ".py",
   "mimetype": "text/x-python",
   "name": "python",
   "nbconvert_exporter": "python",
   "pygments_lexer": "ipython3",
   "version": "3.13.1"
  }
 },
 "nbformat": 4,
 "nbformat_minor": 5
}
