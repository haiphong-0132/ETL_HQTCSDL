{
 "cells": [
  {
   "cell_type": "code",
   "execution_count": 1,
   "id": "e648158c",
   "metadata": {},
   "outputs": [],
   "source": [
    "import pandas as pd\n",
    "import numpy as np\n",
    "import random"
   ]
  },
  {
   "cell_type": "markdown",
   "id": "abf2efc4",
   "metadata": {},
   "source": [
    "### Đặt lại danh mục sản phẩm"
   ]
  },
  {
   "cell_type": "markdown",
   "id": "3361a048",
   "metadata": {},
   "source": [
    "#### Điện thoại"
   ]
  },
  {
   "cell_type": "code",
   "execution_count": 2,
   "id": "53214c35",
   "metadata": {},
   "outputs": [],
   "source": [
    "dienthoai = pd.read_csv('./rawData/dienthoai.csv', encoding='utf-8')"
   ]
  },
  {
   "cell_type": "markdown",
   "id": "e4e3844e",
   "metadata": {},
   "source": [
    "Kiểm tra giá trị trùng lặp"
   ]
  },
  {
   "cell_type": "code",
   "execution_count": 3,
   "id": "dcc81a36",
   "metadata": {},
   "outputs": [
    {
     "name": "stdout",
     "output_type": "stream",
     "text": [
      "24\n"
     ]
    }
   ],
   "source": [
    "# Check for duplicate values in the DataFrame\n",
    "print(dienthoai.duplicated().sum())\n",
    "\n",
    "# Remove duplicate rows from the DataFrame\n",
    "dienthoai = dienthoai.drop_duplicates()"
   ]
  },
  {
   "cell_type": "markdown",
   "id": "13fef6a4",
   "metadata": {},
   "source": [
    "Kiểm tra giá trị thiếu"
   ]
  },
  {
   "cell_type": "code",
   "execution_count": 4,
   "id": "d77c735e",
   "metadata": {},
   "outputs": [
    {
     "name": "stdout",
     "output_type": "stream",
     "text": [
      "Id                   0\n",
      "Tên sản phẩm         0\n",
      "Thương hiệu          0\n",
      "Danh mục             0\n",
      "Thông số kỹ thuật    0\n",
      "Phiên bản            0\n",
      "Mô tả                0\n",
      "Hình ảnh             0\n",
      "dtype: int64\n"
     ]
    }
   ],
   "source": [
    "# Check for missing values in the DataFrame\n",
    "print(dienthoai.isnull().sum())\n"
   ]
  },
  {
   "cell_type": "code",
   "execution_count": 5,
   "id": "fb5d090b",
   "metadata": {},
   "outputs": [
    {
     "data": {
      "text/plain": [
       "Danh mục\n",
       "Điện thoại Smartphone         187\n",
       "Điện Thoại - Máy Tính Bảng     11\n",
       "Phụ kiện                        6\n",
       "Root                            2\n",
       "Name: count, dtype: int64"
      ]
     },
     "execution_count": 5,
     "metadata": {},
     "output_type": "execute_result"
    }
   ],
   "source": [
    "dienthoai['Danh mục'].value_counts()"
   ]
  },
  {
   "cell_type": "markdown",
   "id": "ad2e960d",
   "metadata": {},
   "source": [
    "Chuyển hết sản phẩm thuộc danh mục Điện Thoại - Máy Tính Bản, Root vào Điện thoại Smartphone"
   ]
  },
  {
   "cell_type": "code",
   "execution_count": 6,
   "id": "4c5d8991",
   "metadata": {},
   "outputs": [],
   "source": [
    "df1 = dienthoai\n",
    "\n",
    "df1['Danh mục'] = df1['Danh mục'].replace(\n",
    "    {\n",
    "        'Điện Thoại - Máy Tính Bảng': 'Điện thoại Smartphone',\n",
    "        'Root': 'Điện thoại Smartphone',\n",
    "        'Phụ kiện': 'Phụ kiện điện thoại',\n",
    "    }\n",
    ")"
   ]
  },
  {
   "cell_type": "code",
   "execution_count": 7,
   "id": "aad8f572",
   "metadata": {},
   "outputs": [
    {
     "data": {
      "text/plain": [
       "Danh mục\n",
       "Điện thoại Smartphone    200\n",
       "Phụ kiện điện thoại        6\n",
       "Name: count, dtype: int64"
      ]
     },
     "execution_count": 7,
     "metadata": {},
     "output_type": "execute_result"
    }
   ],
   "source": [
    "df1['Danh mục'].value_counts()"
   ]
  },
  {
   "cell_type": "code",
   "execution_count": 8,
   "id": "6bb6a395",
   "metadata": {},
   "outputs": [],
   "source": [
    "dienthoai = df1"
   ]
  },
  {
   "cell_type": "markdown",
   "id": "b6407fee",
   "metadata": {},
   "source": [
    "#### Điện thoại bàn"
   ]
  },
  {
   "cell_type": "code",
   "execution_count": 9,
   "id": "e6a7526f",
   "metadata": {},
   "outputs": [],
   "source": [
    "mayban = pd.read_csv('./rawData/dienthoaiban.csv', encoding='utf-8')"
   ]
  },
  {
   "cell_type": "markdown",
   "id": "b1d43275",
   "metadata": {},
   "source": [
    "Kiểm tra giá trị trùng lặp"
   ]
  },
  {
   "cell_type": "code",
   "execution_count": 10,
   "id": "02ffcd5b",
   "metadata": {},
   "outputs": [
    {
     "name": "stdout",
     "output_type": "stream",
     "text": [
      "0\n"
     ]
    }
   ],
   "source": [
    "# Check for duplicate values in the DataFrame\n",
    "print(mayban.duplicated().sum())"
   ]
  },
  {
   "cell_type": "markdown",
   "id": "b31230f6",
   "metadata": {},
   "source": [
    "Kiểm tra giá trị thiếu"
   ]
  },
  {
   "cell_type": "code",
   "execution_count": 11,
   "id": "cc819ebe",
   "metadata": {},
   "outputs": [
    {
     "name": "stdout",
     "output_type": "stream",
     "text": [
      "Id                   0\n",
      "Tên sản phẩm         0\n",
      "Thương hiệu          0\n",
      "Danh mục             0\n",
      "Thông số kỹ thuật    0\n",
      "Phiên bản            0\n",
      "Mô tả                0\n",
      "Hình ảnh             0\n",
      "dtype: int64\n"
     ]
    }
   ],
   "source": [
    "# Check for missing values in the DataFrame\n",
    "print(mayban.isnull().sum())"
   ]
  },
  {
   "cell_type": "markdown",
   "id": "12b83c1d",
   "metadata": {},
   "source": [
    "Đặt danh mục của tất cả sản phẩm là ``Điện thoại bàn``"
   ]
  },
  {
   "cell_type": "code",
   "execution_count": 12,
   "id": "3439314b",
   "metadata": {},
   "outputs": [],
   "source": [
    "mayban['Danh mục'] = 'Điện thoại bàn'"
   ]
  },
  {
   "cell_type": "code",
   "execution_count": 13,
   "id": "0bfd7895",
   "metadata": {},
   "outputs": [
    {
     "data": {
      "text/plain": [
       "Danh mục\n",
       "Điện thoại bàn    50\n",
       "Name: count, dtype: int64"
      ]
     },
     "execution_count": 13,
     "metadata": {},
     "output_type": "execute_result"
    }
   ],
   "source": [
    "mayban['Danh mục'].value_counts()"
   ]
  },
  {
   "cell_type": "markdown",
   "id": "15a3b913",
   "metadata": {},
   "source": [
    "#### Điện thoại phổ thông"
   ]
  },
  {
   "cell_type": "code",
   "execution_count": 14,
   "id": "c06c9ea4",
   "metadata": {},
   "outputs": [],
   "source": [
    "cucgach = pd.read_csv('./rawData/dienthoaiphothong.csv', encoding='utf-8')"
   ]
  },
  {
   "cell_type": "markdown",
   "id": "25683b7f",
   "metadata": {},
   "source": [
    "Kiểm tra giá trị trùng lặp"
   ]
  },
  {
   "cell_type": "code",
   "execution_count": 15,
   "id": "3fb4d56a",
   "metadata": {},
   "outputs": [
    {
     "name": "stdout",
     "output_type": "stream",
     "text": [
      "0\n"
     ]
    }
   ],
   "source": [
    "# Check for duplicate values in the DataFrame\n",
    "print(cucgach.duplicated().sum())"
   ]
  },
  {
   "cell_type": "markdown",
   "id": "530f6b32",
   "metadata": {},
   "source": [
    "Kiểm tra giá trị thiếu"
   ]
  },
  {
   "cell_type": "code",
   "execution_count": 16,
   "id": "19f8655f",
   "metadata": {},
   "outputs": [
    {
     "name": "stdout",
     "output_type": "stream",
     "text": [
      "Id                   0\n",
      "Tên sản phẩm         0\n",
      "Thương hiệu          0\n",
      "Danh mục             0\n",
      "Thông số kỹ thuật    0\n",
      "Phiên bản            0\n",
      "Mô tả                0\n",
      "Hình ảnh             0\n",
      "dtype: int64\n"
     ]
    }
   ],
   "source": [
    "# Check for missing values in the DataFrame\n",
    "print(cucgach.isnull().sum())"
   ]
  },
  {
   "cell_type": "markdown",
   "id": "a56bb875",
   "metadata": {},
   "source": [
    "Đặt danh mục của tất cả sản phẩm là `Điện thoại phổ thông`"
   ]
  },
  {
   "cell_type": "code",
   "execution_count": 17,
   "id": "2f239921",
   "metadata": {},
   "outputs": [],
   "source": [
    "cucgach['Danh mục'] = 'Điện thoại phổ thông'"
   ]
  },
  {
   "cell_type": "code",
   "execution_count": 18,
   "id": "7b31cee9",
   "metadata": {},
   "outputs": [
    {
     "data": {
      "text/plain": [
       "Danh mục\n",
       "Điện thoại phổ thông    18\n",
       "Name: count, dtype: int64"
      ]
     },
     "execution_count": 18,
     "metadata": {},
     "output_type": "execute_result"
    }
   ],
   "source": [
    "cucgach['Danh mục'].value_counts()"
   ]
  },
  {
   "cell_type": "markdown",
   "id": "fbc3ae0b",
   "metadata": {},
   "source": [
    "#### dieuhoa.csv"
   ]
  },
  {
   "cell_type": "code",
   "execution_count": 19,
   "id": "0fdeaa43",
   "metadata": {},
   "outputs": [],
   "source": [
    "dieuhoa = pd.read_csv('./rawData/dieuhoa.csv', encoding='utf-8')"
   ]
  },
  {
   "cell_type": "markdown",
   "id": "41aa6191",
   "metadata": {},
   "source": [
    "Kiểm tra giá trị trùng lặp"
   ]
  },
  {
   "cell_type": "code",
   "execution_count": 20,
   "id": "99655177",
   "metadata": {},
   "outputs": [
    {
     "name": "stdout",
     "output_type": "stream",
     "text": [
      "0\n"
     ]
    }
   ],
   "source": [
    "# Check for duplicate values in the DataFrame\n",
    "print(dieuhoa.duplicated().sum())"
   ]
  },
  {
   "cell_type": "markdown",
   "id": "d384fc37",
   "metadata": {},
   "source": [
    "Kiểm tra giá trị thiếu"
   ]
  },
  {
   "cell_type": "code",
   "execution_count": 21,
   "id": "4375e23b",
   "metadata": {},
   "outputs": [
    {
     "name": "stdout",
     "output_type": "stream",
     "text": [
      "Id                   0\n",
      "Tên sản phẩm         0\n",
      "Thương hiệu          0\n",
      "Danh mục             0\n",
      "Thông số kỹ thuật    0\n",
      "Phiên bản            0\n",
      "Mô tả                0\n",
      "Hình ảnh             0\n",
      "dtype: int64\n"
     ]
    }
   ],
   "source": [
    "# Check for missing values in the DataFrame\n",
    "print(dieuhoa.isnull().sum())"
   ]
  },
  {
   "cell_type": "markdown",
   "id": "bac76187",
   "metadata": {},
   "source": [
    "Giữ nguyên tên các danh mục"
   ]
  },
  {
   "cell_type": "code",
   "execution_count": 22,
   "id": "53afb8bc",
   "metadata": {},
   "outputs": [
    {
     "data": {
      "text/plain": [
       "Danh mục\n",
       "Máy lạnh treo tường        231\n",
       "Máy lạnh - Máy điều hòa     95\n",
       "Máy lạnh tủ đứng             9\n",
       "Máy lạnh âm trần             2\n",
       "Name: count, dtype: int64"
      ]
     },
     "execution_count": 22,
     "metadata": {},
     "output_type": "execute_result"
    }
   ],
   "source": [
    "dieuhoa['Danh mục'].value_counts()"
   ]
  },
  {
   "cell_type": "markdown",
   "id": "45864fad",
   "metadata": {},
   "source": [
    "#### laptop.csv"
   ]
  },
  {
   "cell_type": "code",
   "execution_count": 23,
   "id": "c813d364",
   "metadata": {},
   "outputs": [],
   "source": [
    "laptop = pd.read_csv('./rawData/laptop.csv', encoding='utf-8')"
   ]
  },
  {
   "cell_type": "markdown",
   "id": "502cf75c",
   "metadata": {},
   "source": [
    "Kiểm tra giá trị trùng lặp"
   ]
  },
  {
   "cell_type": "code",
   "execution_count": 24,
   "id": "e84e86e7",
   "metadata": {},
   "outputs": [
    {
     "name": "stdout",
     "output_type": "stream",
     "text": [
      "0\n"
     ]
    }
   ],
   "source": [
    "# Check for duplicate values in the DataFrame\n",
    "print(laptop.duplicated().sum())"
   ]
  },
  {
   "cell_type": "markdown",
   "id": "0965da23",
   "metadata": {},
   "source": [
    "Kiểm tra giá trị thiếu"
   ]
  },
  {
   "cell_type": "code",
   "execution_count": 25,
   "id": "71f10656",
   "metadata": {},
   "outputs": [
    {
     "name": "stdout",
     "output_type": "stream",
     "text": [
      "Id                   0\n",
      "Tên sản phẩm         0\n",
      "Thương hiệu          0\n",
      "Danh mục             0\n",
      "Thông số kỹ thuật    0\n",
      "Phiên bản            0\n",
      "Mô tả                0\n",
      "Hình ảnh             0\n",
      "dtype: int64\n"
     ]
    }
   ],
   "source": [
    "# Check for missing values in the DataFrame\n",
    "print(laptop.isnull().sum())"
   ]
  },
  {
   "cell_type": "markdown",
   "id": "82ab53ad",
   "metadata": {},
   "source": [
    "Chuyển đổi các danh mục như sau:\n",
    "\n",
    "**Danh mục mới gồm:** <br/>\n",
    "\n",
    "**Laptop truyền thống** (Laptop truyền thống + Laptop - Máy Vi Tính - Linh Kiện + Laptop + Root) <br />\n",
    "**Laptop Gaming** (Laptop Gaming)<br />\n",
    "**Laptop 2 trong 1** (Laptop 2 trong 1)<br />\n",
    "**Macbook** (Macbook)<br />"
   ]
  },
  {
   "cell_type": "code",
   "execution_count": 26,
   "id": "26d5c44a",
   "metadata": {},
   "outputs": [
    {
     "data": {
      "text/plain": [
       "Danh mục\n",
       "Laptop Truyền Thống                 262\n",
       "Laptop Gaming                        41\n",
       "Laptop - Máy Vi Tính - Linh kiện     16\n",
       "Laptop 2 trong 1                     13\n",
       "Macbook                               4\n",
       "Laptop                                1\n",
       "Root                                  1\n",
       "Name: count, dtype: int64"
      ]
     },
     "execution_count": 26,
     "metadata": {},
     "output_type": "execute_result"
    }
   ],
   "source": [
    "laptop['Danh mục'].value_counts()"
   ]
  },
  {
   "cell_type": "code",
   "execution_count": 27,
   "id": "3954ff06",
   "metadata": {},
   "outputs": [],
   "source": [
    "laptop1 = laptop\n",
    "\n",
    "laptop1['Danh mục'] = laptop1['Danh mục'].replace(\n",
    "    {\n",
    "        'Laptop - Máy Vi Tính - Linh kiện': 'Laptop Truyền Thống',\n",
    "        'Laptop': 'Laptop Truyền Thống',\n",
    "        'Root': 'Laptop Truyền Thống',\n",
    "    }\n",
    ")"
   ]
  },
  {
   "cell_type": "markdown",
   "id": "a6166b1d",
   "metadata": {},
   "source": [
    "Kiểm tra lại danh mục"
   ]
  },
  {
   "cell_type": "code",
   "execution_count": 28,
   "id": "9f76c73c",
   "metadata": {},
   "outputs": [
    {
     "data": {
      "text/plain": [
       "Danh mục\n",
       "Laptop Truyền Thống    280\n",
       "Laptop Gaming           41\n",
       "Laptop 2 trong 1        13\n",
       "Macbook                  4\n",
       "Name: count, dtype: int64"
      ]
     },
     "execution_count": 28,
     "metadata": {},
     "output_type": "execute_result"
    }
   ],
   "source": [
    "laptop1['Danh mục'].value_counts()"
   ]
  },
  {
   "cell_type": "code",
   "execution_count": 29,
   "id": "d126f8ed",
   "metadata": {},
   "outputs": [],
   "source": [
    "laptop = laptop1"
   ]
  },
  {
   "cell_type": "markdown",
   "id": "eff82339",
   "metadata": {},
   "source": [
    "#### maydocsach.csv"
   ]
  },
  {
   "cell_type": "code",
   "execution_count": 30,
   "id": "91b87532",
   "metadata": {},
   "outputs": [],
   "source": [
    "maydocsach = pd.read_csv('./rawData/maydocsach.csv', encoding='utf-8')"
   ]
  },
  {
   "cell_type": "markdown",
   "id": "2010929d",
   "metadata": {},
   "source": [
    "Kiểm tra giá trị trùng lặp"
   ]
  },
  {
   "cell_type": "code",
   "execution_count": 31,
   "id": "f8262afc",
   "metadata": {},
   "outputs": [
    {
     "name": "stdout",
     "output_type": "stream",
     "text": [
      "7\n"
     ]
    }
   ],
   "source": [
    "# Check for duplicate values in the DataFrame\n",
    "print(maydocsach.duplicated().sum())\n",
    "\n",
    "maydocsach.drop_duplicates(inplace=True)"
   ]
  },
  {
   "cell_type": "markdown",
   "id": "481e02ba",
   "metadata": {},
   "source": [
    "Kiểm tra giá trị thiếu"
   ]
  },
  {
   "cell_type": "code",
   "execution_count": 32,
   "id": "724e146c",
   "metadata": {},
   "outputs": [
    {
     "name": "stdout",
     "output_type": "stream",
     "text": [
      "Id                   0\n",
      "Tên sản phẩm         0\n",
      "Thương hiệu          0\n",
      "Danh mục             0\n",
      "Thông số kỹ thuật    0\n",
      "Phiên bản            0\n",
      "Mô tả                0\n",
      "Hình ảnh             0\n",
      "dtype: int64\n"
     ]
    }
   ],
   "source": [
    "# Check for missing values in the DataFrame\n",
    "print(maydocsach.isnull().sum())"
   ]
  },
  {
   "cell_type": "code",
   "execution_count": 33,
   "id": "731542e4",
   "metadata": {},
   "outputs": [
    {
     "data": {
      "text/plain": [
       "Danh mục\n",
       "Máy đọc sách                  33\n",
       "Điện Thoại - Máy Tính Bảng     9\n",
       "Name: count, dtype: int64"
      ]
     },
     "execution_count": 33,
     "metadata": {},
     "output_type": "execute_result"
    }
   ],
   "source": [
    "maydocsach['Danh mục'].value_counts()"
   ]
  },
  {
   "cell_type": "markdown",
   "id": "8450e22e",
   "metadata": {},
   "source": [
    "Gộp danh mục Điện Thoại - Máy Tính Bảng vào danh mục máy đọc sách, sau đó lọc máy tính bảng trong danh mục máy đọc sách."
   ]
  },
  {
   "cell_type": "code",
   "execution_count": 34,
   "id": "3112e92a",
   "metadata": {},
   "outputs": [],
   "source": [
    "maydocsach['Danh mục'] = 'Máy đọc sách'\n",
    "\n",
    "maydocsach.loc[maydocsach['Tên sản phẩm'].str.contains('máy tính bảng', case=False), 'Danh mục'] = 'Máy tính bảng'"
   ]
  },
  {
   "cell_type": "code",
   "execution_count": 35,
   "id": "cf7869a2",
   "metadata": {},
   "outputs": [
    {
     "data": {
      "text/plain": [
       "Danh mục\n",
       "Máy đọc sách     39\n",
       "Máy tính bảng     3\n",
       "Name: count, dtype: int64"
      ]
     },
     "execution_count": 35,
     "metadata": {},
     "output_type": "execute_result"
    }
   ],
   "source": [
    "maydocsach['Danh mục'].value_counts()"
   ]
  },
  {
   "cell_type": "markdown",
   "id": "94affbd1",
   "metadata": {},
   "source": [
    "#### maygiat.csv"
   ]
  },
  {
   "cell_type": "code",
   "execution_count": 36,
   "id": "4cd6e180",
   "metadata": {},
   "outputs": [],
   "source": [
    "maygiat = pd.read_csv('./rawData/maygiat.csv', encoding='utf-8')"
   ]
  },
  {
   "cell_type": "markdown",
   "id": "2e1891ff",
   "metadata": {},
   "source": [
    "Kiểm tra giá trị trùng lặp"
   ]
  },
  {
   "cell_type": "code",
   "execution_count": 37,
   "id": "225df867",
   "metadata": {},
   "outputs": [
    {
     "name": "stdout",
     "output_type": "stream",
     "text": [
      "0\n"
     ]
    }
   ],
   "source": [
    "# Check for duplicate values in the DataFrame\n",
    "print(maygiat.duplicated().sum())\n",
    "\n",
    "# Remove duplicate rows from the DataFrame\n",
    "maygiat.drop_duplicates(inplace=True)"
   ]
  },
  {
   "cell_type": "markdown",
   "id": "77c71622",
   "metadata": {},
   "source": [
    "Kiểm tra giá trị thiếu"
   ]
  },
  {
   "cell_type": "code",
   "execution_count": 38,
   "id": "e27675e8",
   "metadata": {},
   "outputs": [
    {
     "name": "stdout",
     "output_type": "stream",
     "text": [
      "Id                   0\n",
      "Tên sản phẩm         0\n",
      "Thương hiệu          0\n",
      "Danh mục             0\n",
      "Thông số kỹ thuật    0\n",
      "Phiên bản            0\n",
      "Mô tả                0\n",
      "Hình ảnh             0\n",
      "dtype: int64\n"
     ]
    }
   ],
   "source": [
    "# Check for missing values in the DataFrame\n",
    "print(maygiat.isnull().sum())"
   ]
  },
  {
   "cell_type": "markdown",
   "id": "4db93da9",
   "metadata": {},
   "source": [
    "Giữ nguyên tên của các danh mục"
   ]
  },
  {
   "cell_type": "code",
   "execution_count": 39,
   "id": "d4d67c41",
   "metadata": {},
   "outputs": [
    {
     "data": {
      "text/plain": [
       "Danh mục\n",
       "Máy giặt cửa ngang    160\n",
       "Máy giặt cửa trên     118\n",
       "Máy giặt               90\n",
       "Tháp giặt sấy          12\n",
       "Máy giặt mini           2\n",
       "Name: count, dtype: int64"
      ]
     },
     "execution_count": 39,
     "metadata": {},
     "output_type": "execute_result"
    }
   ],
   "source": [
    "maygiat['Danh mục'].value_counts()"
   ]
  },
  {
   "cell_type": "markdown",
   "id": "4eb64f70",
   "metadata": {},
   "source": [
    "#### maytinhbang.csv"
   ]
  },
  {
   "cell_type": "code",
   "execution_count": 40,
   "id": "46cd2c58",
   "metadata": {},
   "outputs": [],
   "source": [
    "maytinhbang = pd.read_csv('./rawData/maytinhbang.csv', encoding='utf-8')"
   ]
  },
  {
   "cell_type": "markdown",
   "id": "0ed66505",
   "metadata": {},
   "source": [
    "Kiểm tra giá trị trùng lặp"
   ]
  },
  {
   "cell_type": "code",
   "execution_count": 41,
   "id": "baf6557b",
   "metadata": {},
   "outputs": [
    {
     "name": "stdout",
     "output_type": "stream",
     "text": [
      "2\n"
     ]
    }
   ],
   "source": [
    "# Check for duplicate values in the DataFrame\n",
    "print(maytinhbang.duplicated().sum())\n",
    "\n",
    "maytinhbang.drop_duplicates(inplace=True)"
   ]
  },
  {
   "cell_type": "markdown",
   "id": "9000a0c9",
   "metadata": {},
   "source": [
    "Kiểm tra giá trị thiếu"
   ]
  },
  {
   "cell_type": "code",
   "execution_count": 42,
   "id": "cea8b12b",
   "metadata": {},
   "outputs": [
    {
     "name": "stdout",
     "output_type": "stream",
     "text": [
      "Id                   0\n",
      "Tên sản phẩm         0\n",
      "Thương hiệu          0\n",
      "Danh mục             0\n",
      "Thông số kỹ thuật    0\n",
      "Phiên bản            0\n",
      "Mô tả                0\n",
      "Hình ảnh             0\n",
      "dtype: int64\n"
     ]
    }
   ],
   "source": [
    "# Check for missing values in the DataFrame\n",
    "print(maytinhbang.isnull().sum())"
   ]
  },
  {
   "cell_type": "markdown",
   "id": "18119ccf",
   "metadata": {},
   "source": [
    "Gộp chung sản phẩm cùng danh mục Máy tính bảng"
   ]
  },
  {
   "cell_type": "code",
   "execution_count": 43,
   "id": "22a80f17",
   "metadata": {},
   "outputs": [],
   "source": [
    "maytinhbang['Danh mục'] = 'Máy tính bảng'"
   ]
  },
  {
   "cell_type": "code",
   "execution_count": 44,
   "id": "d1859026",
   "metadata": {},
   "outputs": [
    {
     "data": {
      "text/plain": [
       "Danh mục\n",
       "Máy tính bảng    33\n",
       "Name: count, dtype: int64"
      ]
     },
     "execution_count": 44,
     "metadata": {},
     "output_type": "execute_result"
    }
   ],
   "source": [
    "maytinhbang['Danh mục'].value_counts()"
   ]
  },
  {
   "cell_type": "markdown",
   "id": "9dd65052",
   "metadata": {},
   "source": [
    "#### tivi.csv"
   ]
  },
  {
   "cell_type": "code",
   "execution_count": 45,
   "id": "c4362d1c",
   "metadata": {},
   "outputs": [],
   "source": [
    "tivi = pd.read_csv('./rawData/tivi.csv', encoding='utf-8')"
   ]
  },
  {
   "cell_type": "markdown",
   "id": "151d6903",
   "metadata": {},
   "source": [
    "Kiểm tra giá trị trùng lặp"
   ]
  },
  {
   "cell_type": "code",
   "execution_count": 46,
   "id": "0c14e1d7",
   "metadata": {},
   "outputs": [
    {
     "name": "stdout",
     "output_type": "stream",
     "text": [
      "0\n"
     ]
    }
   ],
   "source": [
    "# Check for duplicate values in the DataFrame\n",
    "print(tivi.duplicated().sum())"
   ]
  },
  {
   "cell_type": "markdown",
   "id": "1930d363",
   "metadata": {},
   "source": [
    "Kiểm tra giá trị thiếu"
   ]
  },
  {
   "cell_type": "code",
   "execution_count": 47,
   "id": "8f4c9096",
   "metadata": {},
   "outputs": [
    {
     "name": "stdout",
     "output_type": "stream",
     "text": [
      "Id                   0\n",
      "Tên sản phẩm         0\n",
      "Thương hiệu          0\n",
      "Danh mục             0\n",
      "Thông số kỹ thuật    0\n",
      "Phiên bản            0\n",
      "Mô tả                0\n",
      "Hình ảnh             0\n",
      "dtype: int64\n"
     ]
    }
   ],
   "source": [
    "# Check for missing values in the DataFrame\n",
    "print(tivi.isnull().sum())"
   ]
  },
  {
   "cell_type": "markdown",
   "id": "3bb3f957",
   "metadata": {},
   "source": [
    "Tiến hành chia danh muc:\n",
    "\n",
    "Từ danh mục ĐT-ĐL và Root, ta có thể phân phối chúng vào 2 danh mục: Tivi thường (LED) và Smart Tivi - Android Tivi\n",
    "\n",
    "Nếu tên sản phẩm chứa OLED -> Tivi OLED<br/>\n",
    "Nếu tên sản phẩm chứa Smart hoặc Android -> Smart Tivi - Android Tivi<br/>\n",
    "Nếu tên sản phẩm chứa LED -> Tivi thường (LED)<br/>\n",
    "Nếu tên sản phẩm chứa QLED -> Tivi QLED<br/>"
   ]
  },
  {
   "cell_type": "code",
   "execution_count": 48,
   "id": "021ce7fd",
   "metadata": {},
   "outputs": [],
   "source": [
    "df4 = tivi.loc[tivi['Danh mục'].isin(['Điện Tử - Điện Lạnh', 'Root'])]\n",
    "\n",
    "df4.loc[\n",
    "    df4['Tên sản phẩm'].str.contains('oled', case=False),\n",
    "    'Danh mục'\n",
    "] = 'Tivi OLED'\n",
    "\n",
    "df4.loc[\n",
    "    df4['Tên sản phẩm'].str.contains('qled', case=False),\n",
    "    'Danh mục'\n",
    "] = 'Tivi QLED'\n",
    "\n",
    "df4.loc[\n",
    "    df4['Tên sản phẩm'].str.contains('smart|android', case=False),\n",
    "    'Danh mục'\n",
    "] = 'Smart Tivi - Android Tivi'\n",
    "\n",
    "df4.loc[\n",
    "    df4['Tên sản phẩm'].str.contains('led', case=False),\n",
    "    'Danh mục'\n",
    "] = 'Tivi thường (LED)'\n",
    "\n",
    "df4.loc[\n",
    "    df4['Tên sản phẩm'].str.contains('4k', case=False),\n",
    "    'Danh mục'\n",
    "] = 'Tivi 4K'"
   ]
  },
  {
   "cell_type": "markdown",
   "id": "a227b455",
   "metadata": {},
   "source": [
    "Xóa bỏ danh mục ĐT-ĐL và Root. Nối df4 với tivi"
   ]
  },
  {
   "cell_type": "code",
   "execution_count": 49,
   "id": "302e8a61",
   "metadata": {},
   "outputs": [
    {
     "name": "stderr",
     "output_type": "stream",
     "text": [
      "C:\\Users\\ADMIN\\AppData\\Local\\Temp\\ipykernel_12100\\372448485.py:7: SettingWithCopyWarning: \n",
      "A value is trying to be set on a copy of a slice from a DataFrame\n",
      "\n",
      "See the caveats in the documentation: https://pandas.pydata.org/pandas-docs/stable/user_guide/indexing.html#returning-a-view-versus-a-copy\n",
      "  df4.drop(\n"
     ]
    }
   ],
   "source": [
    "tivi.drop(\n",
    "    tivi[tivi['Danh mục'].isin(['Điện Tử - Điện Lạnh', 'Root'])].index,\n",
    "    inplace=True\n",
    "\n",
    ")\n",
    "\n",
    "df4.drop(\n",
    "    df4[df4['Danh mục'].isin(['Điện Tử - Điện Lạnh', 'Root'])].index,\n",
    "    inplace=True\n",
    "\n",
    ")\n",
    "\n",
    "tivi = pd.concat([tivi, df4], ignore_index=True)"
   ]
  },
  {
   "cell_type": "code",
   "execution_count": 50,
   "id": "dec74e5d",
   "metadata": {},
   "outputs": [
    {
     "data": {
      "text/plain": [
       "Danh mục\n",
       "Smart Tivi - Android Tivi    124\n",
       "Tivi 4K                      104\n",
       "Tivi thường (LED)             18\n",
       "Tivi OLED                     11\n",
       "Tivi QLED                      5\n",
       "Tivi cao cấp                   5\n",
       "Internet Tivi                  4\n",
       "Name: count, dtype: int64"
      ]
     },
     "execution_count": 50,
     "metadata": {},
     "output_type": "execute_result"
    }
   ],
   "source": [
    "tivi['Danh mục'].value_counts()"
   ]
  },
  {
   "cell_type": "markdown",
   "id": "3e7e5426",
   "metadata": {},
   "source": [
    "#### tulanh.csv"
   ]
  },
  {
   "cell_type": "code",
   "execution_count": 51,
   "id": "f06d31ac",
   "metadata": {},
   "outputs": [],
   "source": [
    "tulanh = pd.read_csv('./rawData/tulanh.csv', encoding='utf-8')"
   ]
  },
  {
   "cell_type": "markdown",
   "id": "00e7ca5d",
   "metadata": {},
   "source": [
    "Kiểm tra các giá trị trùng lặp"
   ]
  },
  {
   "cell_type": "code",
   "execution_count": 52,
   "id": "7a5fa796",
   "metadata": {},
   "outputs": [
    {
     "name": "stdout",
     "output_type": "stream",
     "text": [
      "0\n"
     ]
    }
   ],
   "source": [
    "# Check for duplicate values in the DataFrame\n",
    "print(tulanh.duplicated().sum())"
   ]
  },
  {
   "cell_type": "markdown",
   "id": "827863f8",
   "metadata": {},
   "source": [
    "Kiểm tra các giá trị thiếu"
   ]
  },
  {
   "cell_type": "code",
   "execution_count": 53,
   "id": "09b44cde",
   "metadata": {},
   "outputs": [
    {
     "name": "stdout",
     "output_type": "stream",
     "text": [
      "Id                   0\n",
      "Tên sản phẩm         0\n",
      "Thương hiệu          0\n",
      "Danh mục             0\n",
      "Thông số kỹ thuật    0\n",
      "Phiên bản            0\n",
      "Mô tả                0\n",
      "Hình ảnh             0\n",
      "dtype: int64\n"
     ]
    }
   ],
   "source": [
    "# Check for missing values in the DataFrame\n",
    "print(tulanh.isnull().sum())"
   ]
  },
  {
   "cell_type": "code",
   "execution_count": 54,
   "id": "3aa61001",
   "metadata": {},
   "outputs": [
    {
     "data": {
      "text/plain": [
       "Danh mục\n",
       "Tủ lạnh nhiều cửa       164\n",
       "Tủ lạnh                  78\n",
       "Điện Tử - Điện Lạnh      68\n",
       "Tủ lạnh side by side     53\n",
       "Tủ lạnh mini             37\n",
       "Name: count, dtype: int64"
      ]
     },
     "execution_count": 54,
     "metadata": {},
     "output_type": "execute_result"
    }
   ],
   "source": [
    "tulanh['Danh mục'].value_counts()"
   ]
  },
  {
   "cell_type": "markdown",
   "id": "3c8cbc8f",
   "metadata": {},
   "source": [
    "Chuyển sản phẩm thuộc danh mục Điện Tử - Điện Lạnh vào danh mục Tủ lạnh"
   ]
  },
  {
   "cell_type": "code",
   "execution_count": 55,
   "id": "174d1c0e",
   "metadata": {},
   "outputs": [],
   "source": [
    "tulanh['Danh mục'] = tulanh['Danh mục'].replace(\n",
    "    {\n",
    "        'Điện Tử - Điện Lạnh': 'Tủ lạnh',\n",
    "    }\n",
    ")"
   ]
  },
  {
   "cell_type": "code",
   "execution_count": 56,
   "id": "2f0c2a6c",
   "metadata": {},
   "outputs": [
    {
     "data": {
      "text/plain": [
       "Danh mục\n",
       "Tủ lạnh nhiều cửa       164\n",
       "Tủ lạnh                 146\n",
       "Tủ lạnh side by side     53\n",
       "Tủ lạnh mini             37\n",
       "Name: count, dtype: int64"
      ]
     },
     "execution_count": 56,
     "metadata": {},
     "output_type": "execute_result"
    }
   ],
   "source": [
    "tulanh['Danh mục'].value_counts()"
   ]
  },
  {
   "cell_type": "markdown",
   "id": "b3dfc7a7",
   "metadata": {},
   "source": [
    "#### cameragiamsat.csv"
   ]
  },
  {
   "cell_type": "code",
   "execution_count": 59,
   "id": "99b1c2a0",
   "metadata": {},
   "outputs": [],
   "source": [
    "camgiamsat = pd.read_csv('./rawData/cameragiamsat.csv', encoding='utf-8')"
   ]
  },
  {
   "cell_type": "markdown",
   "id": "08055891",
   "metadata": {},
   "source": [
    "Kiểm tra giá trị trùng lặp"
   ]
  },
  {
   "cell_type": "code",
   "execution_count": 60,
   "id": "cdb9ae45",
   "metadata": {},
   "outputs": [
    {
     "name": "stdout",
     "output_type": "stream",
     "text": [
      "24\n"
     ]
    }
   ],
   "source": [
    "print(camgiamsat.duplicated().sum())\n",
    "\n",
    "camgiamsat.drop_duplicates(inplace=True)"
   ]
  },
  {
   "cell_type": "markdown",
   "id": "13fc4c41",
   "metadata": {},
   "source": [
    "Kiểm tra giá trị thiếu"
   ]
  },
  {
   "cell_type": "code",
   "execution_count": 61,
   "id": "bc0ad506",
   "metadata": {},
   "outputs": [
    {
     "data": {
      "text/plain": [
       "Id                   0\n",
       "Tên sản phẩm         0\n",
       "Thương hiệu          0\n",
       "Danh mục             0\n",
       "Thông số kỹ thuật    0\n",
       "Phiên bản            0\n",
       "Mô tả                0\n",
       "Hình ảnh             0\n",
       "dtype: int64"
      ]
     },
     "execution_count": 61,
     "metadata": {},
     "output_type": "execute_result"
    }
   ],
   "source": [
    "camgiamsat.isnull().sum()"
   ]
  },
  {
   "cell_type": "code",
   "execution_count": 62,
   "id": "17c2713e",
   "metadata": {},
   "outputs": [
    {
     "data": {
      "text/plain": [
       "Danh mục\n",
       "Camera IP                   283\n",
       "Máy Ảnh - Máy Quay Phim      78\n",
       "Phụ Kiện Camera Giám Sát     17\n",
       "Đầu Ghi Hình Camera          11\n",
       "Root                          8\n",
       "Hệ Thống Camera Giám Sát      7\n",
       "Camera Quan Sát Analog        2\n",
       "Name: count, dtype: int64"
      ]
     },
     "execution_count": 62,
     "metadata": {},
     "output_type": "execute_result"
    }
   ],
   "source": [
    "camgiamsat['Danh mục'].value_counts()"
   ]
  },
  {
   "cell_type": "markdown",
   "id": "1dea2a5a",
   "metadata": {},
   "source": [
    "Cần phân bổ thành các danh mục\n",
    "\n",
    "**Camera IP - Camera Wifi** (Camera IP + Máy Ảnh - Máy Quay Phim + Root)<br />\n",
    "**Phụ Kiện Camera Giám Sát** (Phụ Kiện + Root)<br />\n",
    "**Đầu Ghi Hình Camera**<br />\n",
    "**Camera Quan Sát Analog**\n",
    "**Hệ Thống Camera Giám Sát**"
   ]
  },
  {
   "cell_type": "code",
   "execution_count": 63,
   "id": "5122c935",
   "metadata": {},
   "outputs": [
    {
     "name": "stderr",
     "output_type": "stream",
     "text": [
      "C:\\Users\\ADMIN\\AppData\\Local\\Temp\\ipykernel_12100\\489877380.py:17: SettingWithCopyWarning: \n",
      "A value is trying to be set on a copy of a slice from a DataFrame.\n",
      "Try using .loc[row_indexer,col_indexer] = value instead\n",
      "\n",
      "See the caveats in the documentation: https://pandas.pydata.org/pandas-docs/stable/user_guide/indexing.html#returning-a-view-versus-a-copy\n",
      "  df6['Danh mục'] = df5['Danh mục'].replace(\n"
     ]
    }
   ],
   "source": [
    "df5 = camgiamsat\n",
    "\n",
    "df5['Danh mục'] = df5['Danh mục'].replace(\n",
    "    {\n",
    "        'Máy Ảnh - Máy Quay Phim': 'Camera IP - Camera Wifi',\n",
    "        'Camera IP': 'Camera IP - Camera Wifi',\n",
    "    }\n",
    ")\n",
    "\n",
    "df6 = df5.loc[df5['Danh mục'] == 'Root']\n",
    "\n",
    "df6.loc[\n",
    "    df6['Tên sản phẩm'].str.contains('ip|wifi', case=False),\n",
    "    'Danh mục'\n",
    "] = 'Camera IP - Camera Wifi'\n",
    "\n",
    "df6['Danh mục'] = df5['Danh mục'].replace(\n",
    "    {\n",
    "        'Root': 'Phụ Kiện Camera Giám Sát',\n",
    "        \n",
    "    }\n",
    ")\n",
    "\n",
    "df5.drop(\n",
    "    df5[df5['Danh mục'] == 'Root'].index,\n",
    "    inplace=True\n",
    ")\n",
    "\n",
    "df5 = pd.concat([df5, df6], ignore_index=True)\n"
   ]
  },
  {
   "cell_type": "code",
   "execution_count": 64,
   "id": "d0e1bc03",
   "metadata": {},
   "outputs": [
    {
     "data": {
      "text/plain": [
       "Danh mục\n",
       "Camera IP - Camera Wifi     361\n",
       "Phụ Kiện Camera Giám Sát     25\n",
       "Đầu Ghi Hình Camera          11\n",
       "Hệ Thống Camera Giám Sát      7\n",
       "Camera Quan Sát Analog        2\n",
       "Name: count, dtype: int64"
      ]
     },
     "execution_count": 64,
     "metadata": {},
     "output_type": "execute_result"
    }
   ],
   "source": [
    "df5['Danh mục'].value_counts()"
   ]
  },
  {
   "cell_type": "code",
   "execution_count": 65,
   "id": "a63ff220",
   "metadata": {},
   "outputs": [],
   "source": [
    "camgiamsat = df5"
   ]
  },
  {
   "cell_type": "markdown",
   "id": "69f1d50c",
   "metadata": {},
   "source": [
    "#### maytinhdeban.csv"
   ]
  },
  {
   "cell_type": "code",
   "execution_count": 66,
   "id": "8a180c84",
   "metadata": {},
   "outputs": [],
   "source": [
    "pc = pd.read_csv('./rawData/maytinhdeban.csv', encoding='utf-8')"
   ]
  },
  {
   "cell_type": "markdown",
   "id": "6f82a689",
   "metadata": {},
   "source": [
    "Kiểm tra giá trị trùng lặp"
   ]
  },
  {
   "cell_type": "code",
   "execution_count": 67,
   "id": "f2a5cde5",
   "metadata": {},
   "outputs": [
    {
     "name": "stdout",
     "output_type": "stream",
     "text": [
      "2\n"
     ]
    }
   ],
   "source": [
    "print(pc.duplicated().sum())\n",
    "\n",
    "pc.drop_duplicates(inplace=True)"
   ]
  },
  {
   "cell_type": "markdown",
   "id": "135e8a88",
   "metadata": {},
   "source": [
    "Kiểm tra giá trị thiếu"
   ]
  },
  {
   "cell_type": "code",
   "execution_count": 68,
   "id": "d2923004",
   "metadata": {},
   "outputs": [
    {
     "data": {
      "text/plain": [
       "Id                   0\n",
       "Tên sản phẩm         0\n",
       "Thương hiệu          0\n",
       "Danh mục             0\n",
       "Thông số kỹ thuật    0\n",
       "Phiên bản            0\n",
       "Mô tả                0\n",
       "Hình ảnh             0\n",
       "dtype: int64"
      ]
     },
     "execution_count": 68,
     "metadata": {},
     "output_type": "execute_result"
    }
   ],
   "source": [
    "pc.isnull().sum()"
   ]
  },
  {
   "cell_type": "code",
   "execution_count": 69,
   "id": "5aa6f911",
   "metadata": {},
   "outputs": [
    {
     "data": {
      "text/plain": [
       "Danh mục\n",
       "Máy Tính Bộ Thương Hiệu             89\n",
       "Mini PC                             22\n",
       "Laptop - Máy Vi Tính - Linh kiện    10\n",
       "Máy Tính All in one                 10\n",
       "Towers - Máy Chủ - Server           10\n",
       "Máy Tính Để Bàn Lắp Ráp              6\n",
       "PC Gaming                            3\n",
       "Root                                 2\n",
       "PC - Máy Tính Bộ                     1\n",
       "Name: count, dtype: int64"
      ]
     },
     "execution_count": 69,
     "metadata": {},
     "output_type": "execute_result"
    }
   ],
   "source": [
    "pc['Danh mục'].value_counts()"
   ]
  },
  {
   "cell_type": "markdown",
   "id": "1ad01029",
   "metadata": {},
   "source": [
    "Chuyển đổi thành các danh mục:\n",
    "\n",
    "**Máy tính đồng bộ** (Bổ sung Laptop - Máy Vi Tính - Linh kiện + Root + PC - Máy Tính Bộ)<br />\n",
    "**Mini PC** (Bổ sung Laptop - Máy Vi Tính - Linh kiện)<br />\n",
    "**Towers - Máy Chủ - Server**<br />\n",
    "**Máy Tính All in one**<br />\n",
    "**Máy Tính Để Bàn Lắp Ráp**<br />\n",
    "**PC Gaming**<br />"
   ]
  },
  {
   "cell_type": "code",
   "execution_count": 70,
   "id": "648f115e",
   "metadata": {},
   "outputs": [
    {
     "name": "stderr",
     "output_type": "stream",
     "text": [
      "C:\\Users\\ADMIN\\AppData\\Local\\Temp\\ipykernel_12100\\203120257.py:18: SettingWithCopyWarning: \n",
      "A value is trying to be set on a copy of a slice from a DataFrame.\n",
      "Try using .loc[row_indexer,col_indexer] = value instead\n",
      "\n",
      "See the caveats in the documentation: https://pandas.pydata.org/pandas-docs/stable/user_guide/indexing.html#returning-a-view-versus-a-copy\n",
      "  df7['Danh mục'] = df7['Danh mục'].replace(\n"
     ]
    },
    {
     "data": {
      "text/plain": [
       "Danh mục\n",
       "Máy tính đồng bộ             100\n",
       "Mini PC                       24\n",
       "Máy Tính All in one           10\n",
       "Towers - Máy Chủ - Server     10\n",
       "Máy Tính Để Bàn Lắp Ráp        6\n",
       "PC Gaming                      3\n",
       "Name: count, dtype: int64"
      ]
     },
     "execution_count": 70,
     "metadata": {},
     "output_type": "execute_result"
    }
   ],
   "source": [
    "df6 = pc\n",
    "\n",
    "df6['Danh mục'] = df6['Danh mục'].replace(\n",
    "    {\n",
    "        'Máy Tính Bộ Thương Hiệu': 'Máy tính đồng bộ',\n",
    "        'Root': 'Máy tính đồng bộ',\n",
    "        'PC - Máy Tính Bộ': 'Máy tính đồng bộ',\n",
    "    }\n",
    ")\n",
    "\n",
    "df7 = df6.loc[df6['Danh mục'] == 'Laptop - Máy Vi Tính - Linh kiện']\n",
    "\n",
    "df7.loc[\n",
    "    df7['Tên sản phẩm'].str.contains('mini|siêu nhỏ'),\n",
    "    'Danh mục'\n",
    "] = 'Mini PC'\n",
    "\n",
    "df7['Danh mục'] = df7['Danh mục'].replace(\n",
    "    {\n",
    "        'Laptop - Máy Vi Tính - Linh kiện': 'Máy tính đồng bộ',\n",
    "    }\n",
    ")\n",
    "\n",
    "df6.drop(\n",
    "    df6[df6['Danh mục'] == 'Laptop - Máy Vi Tính - Linh kiện'].index,\n",
    "    inplace=True\n",
    ")\n",
    "\n",
    "df6 = pd.concat([df6, df7], ignore_index=True)\n",
    "df6['Danh mục'].value_counts()"
   ]
  },
  {
   "cell_type": "code",
   "execution_count": 71,
   "id": "3611a800",
   "metadata": {},
   "outputs": [],
   "source": [
    "pc = df6"
   ]
  },
  {
   "cell_type": "markdown",
   "id": "b279b0a8",
   "metadata": {},
   "source": [
    "#### mayanh.csv"
   ]
  },
  {
   "cell_type": "code",
   "execution_count": 72,
   "id": "9548c99b",
   "metadata": {},
   "outputs": [],
   "source": [
    "mayanh = pd.read_csv('./rawData/mayanh.csv', encoding='utf-8')"
   ]
  },
  {
   "cell_type": "markdown",
   "id": "957d86d9",
   "metadata": {},
   "source": [
    "Kiểm tra giá trị trùng lặp"
   ]
  },
  {
   "cell_type": "code",
   "execution_count": 73,
   "id": "9cf74699",
   "metadata": {},
   "outputs": [
    {
     "data": {
      "text/plain": [
       "np.int64(0)"
      ]
     },
     "execution_count": 73,
     "metadata": {},
     "output_type": "execute_result"
    }
   ],
   "source": [
    "mayanh.duplicated().sum()"
   ]
  },
  {
   "cell_type": "markdown",
   "id": "3131ac27",
   "metadata": {},
   "source": [
    "Kiểm tra giá trị thiếu"
   ]
  },
  {
   "cell_type": "code",
   "execution_count": 74,
   "id": "2090fb08",
   "metadata": {},
   "outputs": [
    {
     "data": {
      "text/plain": [
       "Id                   0\n",
       "Tên sản phẩm         0\n",
       "Thương hiệu          0\n",
       "Danh mục             0\n",
       "Thông số kỹ thuật    0\n",
       "Phiên bản            0\n",
       "Mô tả                0\n",
       "Hình ảnh             0\n",
       "dtype: int64"
      ]
     },
     "execution_count": 74,
     "metadata": {},
     "output_type": "execute_result"
    }
   ],
   "source": [
    "mayanh.isnull().sum()"
   ]
  },
  {
   "cell_type": "markdown",
   "id": "d2487079",
   "metadata": {},
   "source": [
    "Giữ nguyên danh mục như cũ."
   ]
  },
  {
   "cell_type": "markdown",
   "id": "ee044514",
   "metadata": {},
   "source": [
    "### Gộp thành 1 file products duy nhất"
   ]
  },
  {
   "cell_type": "code",
   "execution_count": 75,
   "id": "f567f763",
   "metadata": {},
   "outputs": [],
   "source": [
    "products = pd.concat(\n",
    "    [dienthoai, mayban, cucgach, dieuhoa, laptop, maydocsach, maygiat, maytinhbang, tivi, tulanh, camgiamsat, pc, mayanh],\n",
    "    ignore_index=True\n",
    ")"
   ]
  },
  {
   "cell_type": "code",
   "execution_count": 76,
   "id": "e60143a4",
   "metadata": {},
   "outputs": [],
   "source": [
    "category_rows = []\n",
    "\n",
    "for i, row in enumerate(products['Danh mục'].unique()):\n",
    "    category_rows.append({\n",
    "        'id': str(i).zfill(2),\n",
    "        'name': row,\n",
    "    })\n",
    "\n",
    "category_rows = pd.DataFrame(category_rows)\n",
    "\n",
    "category_rows.to_csv('./transformedData/category.csv', index=False, encoding='utf-8-sig')\n",
    "    \n",
    "    "
   ]
  },
  {
   "cell_type": "code",
   "execution_count": 77,
   "id": "5fa09422",
   "metadata": {},
   "outputs": [
    {
     "name": "stdout",
     "output_type": "stream",
     "text": [
      "0\n"
     ]
    },
    {
     "data": {
      "text/plain": [
       "2651"
      ]
     },
     "execution_count": 77,
     "metadata": {},
     "output_type": "execute_result"
    }
   ],
   "source": [
    "print(products.duplicated().sum())\n",
    "len(products)"
   ]
  },
  {
   "cell_type": "code",
   "execution_count": 78,
   "id": "f2814e73",
   "metadata": {},
   "outputs": [
    {
     "name": "stdout",
     "output_type": "stream",
     "text": [
      "17\n",
      "2634\n"
     ]
    }
   ],
   "source": [
    "print(products['Id'].duplicated().sum())\n",
    "products.drop_duplicates(subset=['Id'], inplace=True)\n",
    "print(len(products))"
   ]
  },
  {
   "cell_type": "code",
   "execution_count": 79,
   "id": "2c8ba803",
   "metadata": {},
   "outputs": [
    {
     "data": {
      "text/plain": [
       "Id                   0\n",
       "Tên sản phẩm         0\n",
       "Thương hiệu          0\n",
       "Danh mục             0\n",
       "Thông số kỹ thuật    0\n",
       "Phiên bản            0\n",
       "Mô tả                0\n",
       "Hình ảnh             0\n",
       "dtype: int64"
      ]
     },
     "execution_count": 79,
     "metadata": {},
     "output_type": "execute_result"
    }
   ],
   "source": [
    "products.isnull().sum()"
   ]
  },
  {
   "cell_type": "markdown",
   "id": "a23f08e8",
   "metadata": {},
   "source": [
    "Các cột hiện tại"
   ]
  },
  {
   "cell_type": "code",
   "execution_count": 80,
   "id": "5ee24a7e",
   "metadata": {},
   "outputs": [
    {
     "data": {
      "text/plain": [
       "Index(['Id', 'Tên sản phẩm', 'Thương hiệu', 'Danh mục', 'Thông số kỹ thuật',\n",
       "       'Phiên bản', 'Mô tả', 'Hình ảnh'],\n",
       "      dtype='object')"
      ]
     },
     "execution_count": 80,
     "metadata": {},
     "output_type": "execute_result"
    }
   ],
   "source": [
    "products.columns"
   ]
  },
  {
   "cell_type": "code",
   "execution_count": 81,
   "id": "0144024d",
   "metadata": {},
   "outputs": [],
   "source": [
    "# # create unique id for each product\n",
    "\n",
    "# products['ID'] = np.arange(1, len(products) + 1)\n",
    "# products['ID'] = products['ID'].astype(str).str.zfill(6)"
   ]
  },
  {
   "cell_type": "markdown",
   "id": "6fb70afc",
   "metadata": {},
   "source": [
    "Thực hiện:\n",
    "\n",
    "Xây dựng:\n",
    "\n",
    "• DF Product(id, categoryId, name, description, specification, imageURL, brand)\n",
    "\n",
    "• DF Attribute (id, name) (Với attribute là các thuộc tính phân biệt các biến thể)\n",
    "\n",
    "• DF Value_Attribute(id, attributeId, value) (Bảng chứa giá trị biến thể)\n",
    "\n",
    "• DF Product_Variant(id, productId, price, quantity, SKU)\n",
    "\n"
   ]
  },
  {
   "cell_type": "code",
   "execution_count": 82,
   "id": "703c61ba",
   "metadata": {},
   "outputs": [
    {
     "data": {
      "text/html": [
       "<div>\n",
       "<style scoped>\n",
       "    .dataframe tbody tr th:only-of-type {\n",
       "        vertical-align: middle;\n",
       "    }\n",
       "\n",
       "    .dataframe tbody tr th {\n",
       "        vertical-align: top;\n",
       "    }\n",
       "\n",
       "    .dataframe thead th {\n",
       "        text-align: right;\n",
       "    }\n",
       "</style>\n",
       "<table border=\"1\" class=\"dataframe\">\n",
       "  <thead>\n",
       "    <tr style=\"text-align: right;\">\n",
       "      <th></th>\n",
       "      <th>id</th>\n",
       "      <th>name</th>\n",
       "    </tr>\n",
       "  </thead>\n",
       "  <tbody>\n",
       "    <tr>\n",
       "      <th>0</th>\n",
       "      <td>0</td>\n",
       "      <td>Điện thoại Smartphone</td>\n",
       "    </tr>\n",
       "    <tr>\n",
       "      <th>1</th>\n",
       "      <td>1</td>\n",
       "      <td>Phụ kiện điện thoại</td>\n",
       "    </tr>\n",
       "    <tr>\n",
       "      <th>2</th>\n",
       "      <td>2</td>\n",
       "      <td>Điện thoại bàn</td>\n",
       "    </tr>\n",
       "    <tr>\n",
       "      <th>3</th>\n",
       "      <td>3</td>\n",
       "      <td>Điện thoại phổ thông</td>\n",
       "    </tr>\n",
       "    <tr>\n",
       "      <th>4</th>\n",
       "      <td>4</td>\n",
       "      <td>Máy lạnh treo tường</td>\n",
       "    </tr>\n",
       "    <tr>\n",
       "      <th>5</th>\n",
       "      <td>5</td>\n",
       "      <td>Máy lạnh tủ đứng</td>\n",
       "    </tr>\n",
       "    <tr>\n",
       "      <th>6</th>\n",
       "      <td>6</td>\n",
       "      <td>Máy lạnh - Máy điều hòa</td>\n",
       "    </tr>\n",
       "    <tr>\n",
       "      <th>7</th>\n",
       "      <td>7</td>\n",
       "      <td>Máy lạnh âm trần</td>\n",
       "    </tr>\n",
       "    <tr>\n",
       "      <th>8</th>\n",
       "      <td>8</td>\n",
       "      <td>Laptop Truyền Thống</td>\n",
       "    </tr>\n",
       "    <tr>\n",
       "      <th>9</th>\n",
       "      <td>9</td>\n",
       "      <td>Macbook</td>\n",
       "    </tr>\n",
       "    <tr>\n",
       "      <th>10</th>\n",
       "      <td>10</td>\n",
       "      <td>Laptop Gaming</td>\n",
       "    </tr>\n",
       "    <tr>\n",
       "      <th>11</th>\n",
       "      <td>11</td>\n",
       "      <td>Laptop 2 trong 1</td>\n",
       "    </tr>\n",
       "    <tr>\n",
       "      <th>12</th>\n",
       "      <td>12</td>\n",
       "      <td>Máy đọc sách</td>\n",
       "    </tr>\n",
       "    <tr>\n",
       "      <th>13</th>\n",
       "      <td>13</td>\n",
       "      <td>Máy tính bảng</td>\n",
       "    </tr>\n",
       "    <tr>\n",
       "      <th>14</th>\n",
       "      <td>14</td>\n",
       "      <td>Máy giặt cửa ngang</td>\n",
       "    </tr>\n",
       "    <tr>\n",
       "      <th>15</th>\n",
       "      <td>15</td>\n",
       "      <td>Máy giặt cửa trên</td>\n",
       "    </tr>\n",
       "    <tr>\n",
       "      <th>16</th>\n",
       "      <td>16</td>\n",
       "      <td>Máy giặt</td>\n",
       "    </tr>\n",
       "    <tr>\n",
       "      <th>17</th>\n",
       "      <td>17</td>\n",
       "      <td>Máy giặt mini</td>\n",
       "    </tr>\n",
       "    <tr>\n",
       "      <th>18</th>\n",
       "      <td>18</td>\n",
       "      <td>Tháp giặt sấy</td>\n",
       "    </tr>\n",
       "    <tr>\n",
       "      <th>19</th>\n",
       "      <td>19</td>\n",
       "      <td>Tivi 4K</td>\n",
       "    </tr>\n",
       "    <tr>\n",
       "      <th>20</th>\n",
       "      <td>20</td>\n",
       "      <td>Tivi thường (LED)</td>\n",
       "    </tr>\n",
       "    <tr>\n",
       "      <th>21</th>\n",
       "      <td>21</td>\n",
       "      <td>Tivi QLED</td>\n",
       "    </tr>\n",
       "    <tr>\n",
       "      <th>22</th>\n",
       "      <td>22</td>\n",
       "      <td>Smart Tivi - Android Tivi</td>\n",
       "    </tr>\n",
       "    <tr>\n",
       "      <th>23</th>\n",
       "      <td>23</td>\n",
       "      <td>Tivi OLED</td>\n",
       "    </tr>\n",
       "    <tr>\n",
       "      <th>24</th>\n",
       "      <td>24</td>\n",
       "      <td>Tivi cao cấp</td>\n",
       "    </tr>\n",
       "    <tr>\n",
       "      <th>25</th>\n",
       "      <td>25</td>\n",
       "      <td>Internet Tivi</td>\n",
       "    </tr>\n",
       "    <tr>\n",
       "      <th>26</th>\n",
       "      <td>26</td>\n",
       "      <td>Tủ lạnh nhiều cửa</td>\n",
       "    </tr>\n",
       "    <tr>\n",
       "      <th>27</th>\n",
       "      <td>27</td>\n",
       "      <td>Tủ lạnh mini</td>\n",
       "    </tr>\n",
       "    <tr>\n",
       "      <th>28</th>\n",
       "      <td>28</td>\n",
       "      <td>Tủ lạnh side by side</td>\n",
       "    </tr>\n",
       "    <tr>\n",
       "      <th>29</th>\n",
       "      <td>29</td>\n",
       "      <td>Tủ lạnh</td>\n",
       "    </tr>\n",
       "    <tr>\n",
       "      <th>30</th>\n",
       "      <td>30</td>\n",
       "      <td>Camera IP - Camera Wifi</td>\n",
       "    </tr>\n",
       "    <tr>\n",
       "      <th>31</th>\n",
       "      <td>31</td>\n",
       "      <td>Phụ Kiện Camera Giám Sát</td>\n",
       "    </tr>\n",
       "    <tr>\n",
       "      <th>32</th>\n",
       "      <td>32</td>\n",
       "      <td>Đầu Ghi Hình Camera</td>\n",
       "    </tr>\n",
       "    <tr>\n",
       "      <th>33</th>\n",
       "      <td>33</td>\n",
       "      <td>Hệ Thống Camera Giám Sát</td>\n",
       "    </tr>\n",
       "    <tr>\n",
       "      <th>34</th>\n",
       "      <td>34</td>\n",
       "      <td>Camera Quan Sát Analog</td>\n",
       "    </tr>\n",
       "    <tr>\n",
       "      <th>35</th>\n",
       "      <td>35</td>\n",
       "      <td>Mini PC</td>\n",
       "    </tr>\n",
       "    <tr>\n",
       "      <th>36</th>\n",
       "      <td>36</td>\n",
       "      <td>Máy tính đồng bộ</td>\n",
       "    </tr>\n",
       "    <tr>\n",
       "      <th>37</th>\n",
       "      <td>37</td>\n",
       "      <td>Máy Tính All in one</td>\n",
       "    </tr>\n",
       "    <tr>\n",
       "      <th>38</th>\n",
       "      <td>38</td>\n",
       "      <td>Máy Tính Để Bàn Lắp Ráp</td>\n",
       "    </tr>\n",
       "    <tr>\n",
       "      <th>39</th>\n",
       "      <td>39</td>\n",
       "      <td>PC Gaming</td>\n",
       "    </tr>\n",
       "    <tr>\n",
       "      <th>40</th>\n",
       "      <td>40</td>\n",
       "      <td>Towers - Máy Chủ - Server</td>\n",
       "    </tr>\n",
       "    <tr>\n",
       "      <th>41</th>\n",
       "      <td>41</td>\n",
       "      <td>Máy Chụp Ảnh Phim</td>\n",
       "    </tr>\n",
       "    <tr>\n",
       "      <th>42</th>\n",
       "      <td>42</td>\n",
       "      <td>Máy Ảnh Lấy Liền</td>\n",
       "    </tr>\n",
       "    <tr>\n",
       "      <th>43</th>\n",
       "      <td>43</td>\n",
       "      <td>Máy Ảnh - Máy Quay Phim</td>\n",
       "    </tr>\n",
       "    <tr>\n",
       "      <th>44</th>\n",
       "      <td>44</td>\n",
       "      <td>Máy Ảnh Compact - Máy Ảnh Du Lịch</td>\n",
       "    </tr>\n",
       "    <tr>\n",
       "      <th>45</th>\n",
       "      <td>45</td>\n",
       "      <td>Máy Ảnh Mirrorless</td>\n",
       "    </tr>\n",
       "  </tbody>\n",
       "</table>\n",
       "</div>"
      ],
      "text/plain": [
       "    id                               name\n",
       "0    0              Điện thoại Smartphone\n",
       "1    1                Phụ kiện điện thoại\n",
       "2    2                     Điện thoại bàn\n",
       "3    3               Điện thoại phổ thông\n",
       "4    4                Máy lạnh treo tường\n",
       "5    5                   Máy lạnh tủ đứng\n",
       "6    6            Máy lạnh - Máy điều hòa\n",
       "7    7                   Máy lạnh âm trần\n",
       "8    8                Laptop Truyền Thống\n",
       "9    9                            Macbook\n",
       "10  10                      Laptop Gaming\n",
       "11  11                   Laptop 2 trong 1\n",
       "12  12                       Máy đọc sách\n",
       "13  13                      Máy tính bảng\n",
       "14  14                 Máy giặt cửa ngang\n",
       "15  15                  Máy giặt cửa trên\n",
       "16  16                           Máy giặt\n",
       "17  17                      Máy giặt mini\n",
       "18  18                      Tháp giặt sấy\n",
       "19  19                            Tivi 4K\n",
       "20  20                  Tivi thường (LED)\n",
       "21  21                          Tivi QLED\n",
       "22  22          Smart Tivi - Android Tivi\n",
       "23  23                          Tivi OLED\n",
       "24  24                       Tivi cao cấp\n",
       "25  25                      Internet Tivi\n",
       "26  26                  Tủ lạnh nhiều cửa\n",
       "27  27                       Tủ lạnh mini\n",
       "28  28               Tủ lạnh side by side\n",
       "29  29                            Tủ lạnh\n",
       "30  30            Camera IP - Camera Wifi\n",
       "31  31           Phụ Kiện Camera Giám Sát\n",
       "32  32                Đầu Ghi Hình Camera\n",
       "33  33           Hệ Thống Camera Giám Sát\n",
       "34  34             Camera Quan Sát Analog\n",
       "35  35                            Mini PC\n",
       "36  36                   Máy tính đồng bộ\n",
       "37  37                Máy Tính All in one\n",
       "38  38            Máy Tính Để Bàn Lắp Ráp\n",
       "39  39                          PC Gaming\n",
       "40  40          Towers - Máy Chủ - Server\n",
       "41  41                  Máy Chụp Ảnh Phim\n",
       "42  42                   Máy Ảnh Lấy Liền\n",
       "43  43            Máy Ảnh - Máy Quay Phim\n",
       "44  44  Máy Ảnh Compact - Máy Ảnh Du Lịch\n",
       "45  45                 Máy Ảnh Mirrorless"
      ]
     },
     "execution_count": 82,
     "metadata": {},
     "output_type": "execute_result"
    }
   ],
   "source": [
    "categories = pd.read_csv('./transformedData/category.csv', encoding='utf-8')\n",
    "categories"
   ]
  },
  {
   "cell_type": "code",
   "execution_count": 83,
   "id": "a0670574",
   "metadata": {},
   "outputs": [
    {
     "data": {
      "text/plain": [
       "Index(['id', 'name'], dtype='object')"
      ]
     },
     "execution_count": 83,
     "metadata": {},
     "output_type": "execute_result"
    }
   ],
   "source": [
    "categories.columns"
   ]
  },
  {
   "cell_type": "code",
   "execution_count": 84,
   "id": "a3ce2b60",
   "metadata": {},
   "outputs": [
    {
     "name": "stdout",
     "output_type": "stream",
     "text": [
      "Index(['id', 'name'], dtype='object')\n"
     ]
    },
    {
     "data": {
      "text/plain": [
       "{'Điện thoại Smartphone': 0,\n",
       " 'Phụ kiện điện thoại': 1,\n",
       " 'Điện thoại bàn': 2,\n",
       " 'Điện thoại phổ thông': 3,\n",
       " 'Máy lạnh treo tường': 4,\n",
       " 'Máy lạnh tủ đứng': 5,\n",
       " 'Máy lạnh - Máy điều hòa': 6,\n",
       " 'Máy lạnh âm trần': 7,\n",
       " 'Laptop Truyền Thống': 8,\n",
       " 'Macbook': 9,\n",
       " 'Laptop Gaming': 10,\n",
       " 'Laptop 2 trong 1': 11,\n",
       " 'Máy đọc sách': 12,\n",
       " 'Máy tính bảng': 13,\n",
       " 'Máy giặt cửa ngang': 14,\n",
       " 'Máy giặt cửa trên': 15,\n",
       " 'Máy giặt': 16,\n",
       " 'Máy giặt mini': 17,\n",
       " 'Tháp giặt sấy': 18,\n",
       " 'Tivi 4K': 19,\n",
       " 'Tivi thường (LED)': 20,\n",
       " 'Tivi QLED': 21,\n",
       " 'Smart Tivi - Android Tivi': 22,\n",
       " 'Tivi OLED': 23,\n",
       " 'Tivi cao cấp': 24,\n",
       " 'Internet Tivi': 25,\n",
       " 'Tủ lạnh nhiều cửa': 26,\n",
       " 'Tủ lạnh mini': 27,\n",
       " 'Tủ lạnh side by side': 28,\n",
       " 'Tủ lạnh': 29,\n",
       " 'Camera IP - Camera Wifi': 30,\n",
       " 'Phụ Kiện Camera Giám Sát': 31,\n",
       " 'Đầu Ghi Hình Camera': 32,\n",
       " 'Hệ Thống Camera Giám Sát': 33,\n",
       " 'Camera Quan Sát Analog': 34,\n",
       " 'Mini PC': 35,\n",
       " 'Máy tính đồng bộ': 36,\n",
       " 'Máy Tính All in one': 37,\n",
       " 'Máy Tính Để Bàn Lắp Ráp': 38,\n",
       " 'PC Gaming': 39,\n",
       " 'Towers - Máy Chủ - Server': 40,\n",
       " 'Máy Chụp Ảnh Phim': 41,\n",
       " 'Máy Ảnh Lấy Liền': 42,\n",
       " 'Máy Ảnh - Máy Quay Phim': 43,\n",
       " 'Máy Ảnh Compact - Máy Ảnh Du Lịch': 44,\n",
       " 'Máy Ảnh Mirrorless': 45}"
      ]
     },
     "execution_count": 84,
     "metadata": {},
     "output_type": "execute_result"
    }
   ],
   "source": [
    "cat_dict = {}\n",
    "print(categories.columns)  # Check the column names in the DataFrame\n",
    "for index, row in categories.iterrows():\n",
    "        cat_dict[row['name']] = row['id']\n",
    "\n",
    "cat_dict\n"
   ]
  },
  {
   "cell_type": "markdown",
   "id": "f447e0ac",
   "metadata": {},
   "source": [
    "• DF Product(id, categoryId, name, description, specification, imageURL, brand)\n"
   ]
  },
  {
   "cell_type": "code",
   "execution_count": 85,
   "id": "88425aca",
   "metadata": {},
   "outputs": [
    {
     "data": {
      "text/html": [
       "<div>\n",
       "<style scoped>\n",
       "    .dataframe tbody tr th:only-of-type {\n",
       "        vertical-align: middle;\n",
       "    }\n",
       "\n",
       "    .dataframe tbody tr th {\n",
       "        vertical-align: top;\n",
       "    }\n",
       "\n",
       "    .dataframe thead th {\n",
       "        text-align: right;\n",
       "    }\n",
       "</style>\n",
       "<table border=\"1\" class=\"dataframe\">\n",
       "  <thead>\n",
       "    <tr style=\"text-align: right;\">\n",
       "      <th></th>\n",
       "      <th>id</th>\n",
       "      <th>categoryId</th>\n",
       "      <th>name</th>\n",
       "      <th>brand</th>\n",
       "      <th>description</th>\n",
       "      <th>specification</th>\n",
       "      <th>imageURL</th>\n",
       "    </tr>\n",
       "  </thead>\n",
       "  <tbody>\n",
       "    <tr>\n",
       "      <th>0</th>\n",
       "      <td>275618846</td>\n",
       "      <td>0</td>\n",
       "      <td>Điện thoại Samsung Galaxy A34 5G (8GB/256GB) -...</td>\n",
       "      <td>Samsung</td>\n",
       "      <td>Sở hữu những tính năng hàng đầu trong phân khú...</td>\n",
       "      <td>Dung lượng pin: 5000 mAh\\nBluetooth: v5.3\\nThư...</td>\n",
       "      <td>https://salt.tikicdn.com/ts/product/90/23/03/2...</td>\n",
       "    </tr>\n",
       "    <tr>\n",
       "      <th>1</th>\n",
       "      <td>273947792</td>\n",
       "      <td>0</td>\n",
       "      <td>Điện thoại AI Samsung Galaxy S24 Ultra, Camera...</td>\n",
       "      <td>Samsung</td>\n",
       "      <td>Điện thoại Samsung Galaxy S24 Ultra 5G- Hàng c...</td>\n",
       "      <td>Dung lượng pin: 5000 mAh\\nBluetooth: v5.3\\nThư...</td>\n",
       "      <td>https://salt.tikicdn.com/ts/product/c1/77/a8/e...</td>\n",
       "    </tr>\n",
       "    <tr>\n",
       "      <th>2</th>\n",
       "      <td>276250848</td>\n",
       "      <td>0</td>\n",
       "      <td>Điện Thoại Samsung Galaxy A06 (4GB/128GB) - Hà...</td>\n",
       "      <td>Samsung</td>\n",
       "      <td>Với thiết kế thanh lịch, công nghệ mạnh mẽ và ...</td>\n",
       "      <td>Dung lượng pin: 5000 mAh\\nBluetooth: v5.3\\nThư...</td>\n",
       "      <td>https://salt.tikicdn.com/ts/product/1d/fd/79/2...</td>\n",
       "    </tr>\n",
       "    <tr>\n",
       "      <th>3</th>\n",
       "      <td>275307093</td>\n",
       "      <td>0</td>\n",
       "      <td>Điện Thoại Samsung Galaxy A25 5G (6GB/128GB) -...</td>\n",
       "      <td>Samsung</td>\n",
       "      <td>Rực rỡ đáng kinh ngạc\\nRạng rỡ mọi sắc màu. Mà...</td>\n",
       "      <td>Thương hiệu: Samsung\\nXuất xứ thương hiệu: Hàn...</td>\n",
       "      <td>https://salt.tikicdn.com/ts/product/63/93/e5/6...</td>\n",
       "    </tr>\n",
       "    <tr>\n",
       "      <th>4</th>\n",
       "      <td>276614493</td>\n",
       "      <td>0</td>\n",
       "      <td>Điện Thoại Samsung Galaxy A16 LTE (4GB/128GB) ...</td>\n",
       "      <td>Samsung</td>\n",
       "      <td>Samsung Galaxy A16 4GB/128GB là chiếc smartpho...</td>\n",
       "      <td>Dung lượng pin: 5000 mAh\\nBluetooth: v5.3\\nThư...</td>\n",
       "      <td>https://salt.tikicdn.com/ts/product/02/59/95/3...</td>\n",
       "    </tr>\n",
       "  </tbody>\n",
       "</table>\n",
       "</div>"
      ],
      "text/plain": [
       "          id  categoryId                                               name  \\\n",
       "0  275618846           0  Điện thoại Samsung Galaxy A34 5G (8GB/256GB) -...   \n",
       "1  273947792           0  Điện thoại AI Samsung Galaxy S24 Ultra, Camera...   \n",
       "2  276250848           0  Điện Thoại Samsung Galaxy A06 (4GB/128GB) - Hà...   \n",
       "3  275307093           0  Điện Thoại Samsung Galaxy A25 5G (6GB/128GB) -...   \n",
       "4  276614493           0  Điện Thoại Samsung Galaxy A16 LTE (4GB/128GB) ...   \n",
       "\n",
       "     brand                                        description  \\\n",
       "0  Samsung  Sở hữu những tính năng hàng đầu trong phân khú...   \n",
       "1  Samsung  Điện thoại Samsung Galaxy S24 Ultra 5G- Hàng c...   \n",
       "2  Samsung  Với thiết kế thanh lịch, công nghệ mạnh mẽ và ...   \n",
       "3  Samsung  Rực rỡ đáng kinh ngạc\\nRạng rỡ mọi sắc màu. Mà...   \n",
       "4  Samsung  Samsung Galaxy A16 4GB/128GB là chiếc smartpho...   \n",
       "\n",
       "                                       specification  \\\n",
       "0  Dung lượng pin: 5000 mAh\\nBluetooth: v5.3\\nThư...   \n",
       "1  Dung lượng pin: 5000 mAh\\nBluetooth: v5.3\\nThư...   \n",
       "2  Dung lượng pin: 5000 mAh\\nBluetooth: v5.3\\nThư...   \n",
       "3  Thương hiệu: Samsung\\nXuất xứ thương hiệu: Hàn...   \n",
       "4  Dung lượng pin: 5000 mAh\\nBluetooth: v5.3\\nThư...   \n",
       "\n",
       "                                            imageURL  \n",
       "0  https://salt.tikicdn.com/ts/product/90/23/03/2...  \n",
       "1  https://salt.tikicdn.com/ts/product/c1/77/a8/e...  \n",
       "2  https://salt.tikicdn.com/ts/product/1d/fd/79/2...  \n",
       "3  https://salt.tikicdn.com/ts/product/63/93/e5/6...  \n",
       "4  https://salt.tikicdn.com/ts/product/02/59/95/3...  "
      ]
     },
     "execution_count": 85,
     "metadata": {},
     "output_type": "execute_result"
    }
   ],
   "source": [
    "Product = products.rename(columns={\n",
    "    'Id': 'id',\n",
    "    'Tên sản phẩm': 'name',\n",
    "    'Thương hiệu': 'brand',\n",
    "    'Mô tả': 'description',\n",
    "    'Thông số kỹ thuật': 'specification',\n",
    "    'Hình ảnh': 'imageURL',\n",
    "})\n",
    "\n",
    "Product['categoryId'] = Product['Danh mục'].map(cat_dict)\n",
    "\n",
    "Product = Product[['id', 'categoryId', 'name', 'brand', 'description', 'specification', 'imageURL']]\n",
    "\n",
    "\n",
    "Product.head()\n"
   ]
  },
  {
   "cell_type": "markdown",
   "id": "580e8578",
   "metadata": {},
   "source": [
    "• DF Attribute (id, name) (Với attribute là các thuộc tính phân biệt các biến thể)\n"
   ]
  },
  {
   "cell_type": "markdown",
   "id": "6a0b458c",
   "metadata": {},
   "source": [
    "Điện thoại: Màu, Dung lượng\n",
    "\n",
    "Camera giám sát: \n",
    "- Model (model, model camera, lựa chọn mẫu),\n",
    "- Độ phân giải (độ phân giải)\n",
    "- Màu (Color)\n",
    "- Lựa chọn (Loại, lựa chọn, camera, loại camera, memory, tùy chọn, mẫu)\n",
    "\n",
    "Điện thoại bàn: Màu\n",
    "\n",
    "Điện thoại phổ thông: Màu\n",
    "\n",
    "Điều hòa: Công suất (Phân loại công suất, công suất làm lạnh, công suất lạnh), Bảo hành (Bảo hành 2 năm, bảo hành toàn quốc)\n",
    "\n",
    "Laptop: Dung lượng, Màu, Chip, Hệ điều hành, Màn (Loại màn)\n",
    "\n",
    "Máy ảnh: Màu, Lựa chọn\n",
    "\n",
    "Máy đọc sách: Màu (+ Màu bao da), Dung lượng, Bút đi kèm (loại bút đi kèm), Lựa chọn\n",
    "\n",
    "Máy giặt: Màu\n",
    "\n",
    "Máy tính bảng: Màu, Dung lượng, Lựa chọn\n",
    "\n",
    "Máy tính để bàn: Dung lượng, Cấu hình, Lựa chọn\n",
    "\n",
    "Tivi: Kích cỡ (Kích cỡ màn hình), Lựa chọn\n",
    "\n",
    "Tủ lạnh: Màu, Lựa chọn"
   ]
  },
  {
   "cell_type": "code",
   "execution_count": 86,
   "id": "14f749d3",
   "metadata": {},
   "outputs": [],
   "source": [
    "def toPascalCase(x: str):\n",
    "    return ' '.join(word.capitalize() for word in x.lower().split())\n",
    "\n",
    "def rename_attribute(pre_attribute: str, value: str):\n",
    "    \n",
    "    attribute = pre_attribute.lower()\n",
    "    value = value.lower()\n",
    "\n",
    "    if any(attr in attribute for attr in ['màu', 'colour', 'color']) and all(not char.isdigit() for char in value):\n",
    "        attribute = 'Màu'\n",
    "    elif any(attr in attribute for attr in ['dung lượng', 'ram', 'memory', 'storage']):\n",
    "        attribute = 'Dung lượng'\n",
    "    elif any(attr in attribute for attr in ['model', 'model camera', 'lựa chọn mẫu', 'mẫu']):\n",
    "        attribute = 'Model'\n",
    "    elif any(attr in attribute for attr in ['độ phân giải', 'phân giải', 'resolution']):\n",
    "        attribute = 'Độ phân giải'\n",
    "    elif any(attr in attribute for attr in ['công suất', 'power']):\n",
    "        attribute = 'Công suất'\n",
    "    elif any(attr in attribute for attr in ['bảo hành', 'warranty']):\n",
    "        attribute = 'Bảo hành'\n",
    "    elif any(attr in attribute for attr in ['chip', 'cpu', 'vi xử lý', 'processor']):\n",
    "        attribute = 'Chip'\n",
    "    elif any(attr in attribute for attr in ['hệ điều hành', 'os', 'operating system', 'win']):\n",
    "        attribute = 'Hệ điều hành'\n",
    "    elif any(attr in attribute for attr in ['màn', 'display', 'screen']):\n",
    "        attribute = 'Màn hình'\n",
    "    elif any(attr in attribute for attr in ['bút', 'pen']):\n",
    "        attribute = 'Bút đi kèm'\n",
    "\n",
    "    else:\n",
    "        attribute = 'Lựa chọn'\n",
    "\n",
    "    return attribute"
   ]
  },
  {
   "cell_type": "code",
   "execution_count": 87,
   "id": "97393c45",
   "metadata": {},
   "outputs": [],
   "source": [
    "def extract_options(versions: str):\n",
    "    if '=' not in versions:\n",
    "        return [{\n",
    "            'attrs': ['Other'],\n",
    "            'values': ['1 giá'],\n",
    "            'price': int(versions.split()[0].strip())\n",
    "        }]\n",
    "    \n",
    "    options = []\n",
    "\n",
    "    lines = versions.split('\\n')\n",
    "    for line in lines:\n",
    "        current = line.split('=')\n",
    "        price = int(current[-1].strip().split()[0].strip())\n",
    "        \n",
    "        option = {\n",
    "            'attrs': [],\n",
    "            'values': [],\n",
    "            'price': price\n",
    "        }\n",
    "        \n",
    "        current_attributes = current[0].strip()\n",
    "        split_current_attribute = current_attributes.split('$$')\n",
    "        for attribute_value in split_current_attribute:\n",
    "            attribute = attribute_value.split(':')[0].strip().lower()\n",
    "            value = attribute_value.split(':')[1].strip()\n",
    "\n",
    "            value = toPascalCase(value)\n",
    "\n",
    "            attribute = rename_attribute(attribute, value)\n",
    "\n",
    "            option['attrs'].append(attribute)\n",
    "            option['values'].append(value)\n",
    "        \n",
    "        options.append(option)\n",
    "\n",
    "    return options\n",
    "\n"
   ]
  },
  {
   "cell_type": "code",
   "execution_count": 88,
   "id": "be2d6fef",
   "metadata": {},
   "outputs": [],
   "source": [
    "def extract_attributes(dataframe: pd.DataFrame):\n",
    "    res = {}\n",
    "\n",
    "    for _, row in dataframe[['Id', 'Phiên bản']].iterrows():\n",
    "        versions = str(row['Phiên bản'])\n",
    "\n",
    "        options = extract_options(versions)\n",
    "\n",
    "        for option in options:\n",
    "            for (attr, value) in zip(option['attrs'], option['values']):\n",
    "                if attr not in res:\n",
    "                    res[attr] = set()\n",
    "                res[attr].add(value)\n",
    "\n",
    "    return res"
   ]
  },
  {
   "cell_type": "code",
   "execution_count": 89,
   "id": "00c9e0ac",
   "metadata": {},
   "outputs": [],
   "source": [
    "attributes = extract_attributes(products)\n",
    "\n",
    "sorted_attributes = sorted(attributes.items(), key=lambda kv: (kv[0], kv[1]))\n",
    "sorted_attributes = {k: v for k, v in sorted_attributes}  \n",
    "\n",
    "att_dict = {}\n",
    "\n",
    "attribute_df = pd.DataFrame(columns=['id', 'name'])\n",
    "\n",
    "for i, key in enumerate(sorted_attributes.keys()):\n",
    "    row = {'id': str(i).zfill(6), 'name': key}\n",
    "    att_dict[key] = str(i).zfill(6)\n",
    "    attribute_df = pd.concat([attribute_df, pd.DataFrame([row])], ignore_index=True)\n",
    "\n",
    "\n",
    "attribute_df.to_csv('./transformedData/attribute.csv', index=False, encoding='utf-8-sig')"
   ]
  },
  {
   "cell_type": "code",
   "execution_count": 90,
   "id": "0023b7a8",
   "metadata": {},
   "outputs": [],
   "source": [
    "attribute_value = pd.DataFrame(columns=['id', 'attribute_id', 'value'])\n",
    "\n",
    "att_val_dict = {}\n",
    "\n",
    "att_val_id_counter = 0\n",
    "\n",
    "for i, (key, value) in enumerate(sorted_attributes.items()):\n",
    "    for v in value:\n",
    "        row = {\n",
    "            'id': str(att_val_id_counter).zfill(6),\n",
    "            'attribute_id': str(i).zfill(6),\n",
    "            'value': v\n",
    "        }\n",
    "        att_val_dict[v] = str(att_val_id_counter).zfill(6)\n",
    "\n",
    "        attribute_value = pd.concat([attribute_value, pd.DataFrame([row])], ignore_index=True)\n",
    "\n",
    "        att_val_id_counter += 1\n",
    "\n",
    "attribute_value.to_csv('./transformedData/attribute_value.csv', index=False, encoding='utf-8-sig')\n"
   ]
  },
  {
   "cell_type": "code",
   "execution_count": 91,
   "id": "08931d3b",
   "metadata": {},
   "outputs": [],
   "source": [
    "import re\n",
    "\n",
    "def normalize_viet_name(name):\n",
    "    vietnamese_chars = {\n",
    "        'à': 'a', 'á': 'a', 'ả': 'a', 'ã': 'a', 'ạ': 'a',\n",
    "        'ă': 'a', 'ằ': 'a', 'ắ': 'a', 'ẳ': 'a', 'ẵ': 'a', 'ặ': 'a',\n",
    "        'â': 'a', 'ầ': 'a', 'ấ': 'a', 'ẩ': 'a', 'ẫ': 'a', 'ậ': 'a',\n",
    "        'đ': 'd',\n",
    "        'è': 'e', 'é': 'e', 'ẻ': 'e', 'ẽ': 'e', 'ẹ': 'e',\n",
    "        'ê': 'e', 'ề': 'e', 'ế': 'e', 'ể': 'e', 'ễ': 'e', 'ệ': 'e',\n",
    "        'ì': 'i', 'í': 'i', 'ỉ': 'i', 'ĩ': 'i', 'ị': 'i',\n",
    "        'ò': 'o', 'ó': 'o', 'ỏ': 'o', 'õ': 'o', 'ọ': 'o',\n",
    "        'ô': 'o', 'ồ': 'o', 'ố': 'o', 'ổ': 'o', 'ỗ': 'o', 'ộ': 'o',\n",
    "        'ơ': 'o', 'ờ': 'o', 'ớ': 'o', 'ở': 'o', 'ỡ': 'o', 'ợ': 'o',\n",
    "        'ù': 'u', 'ú': 'u', 'ủ': 'u', 'ũ': 'u', 'ụ': 'u',\n",
    "        'ư': 'u', 'ừ': 'u', 'ứ': 'u', 'ử': 'u', 'ữ': 'u', 'ự': 'u',\n",
    "        'ỳ': 'y', 'ý': 'y', 'ỷ': 'y', 'ỹ': 'y', 'ỵ': 'y'\n",
    "    }\n",
    "\n",
    "    name = name.lower()\n",
    "    for vn_char, latin_char in vietnamese_chars.items():\n",
    "        name = name.replace(vn_char, latin_char)\n",
    "\n",
    "    name = re.sub(r'[^a-z ]','', name)\n",
    "\n",
    "    return name\n",
    "\n",
    "def create_sku(brand, category, variant_id):\n",
    "    brand = normalize_viet_name(brand)\n",
    "    category = normalize_viet_name(category)\n",
    "\n",
    "    return f'{brand[:2].upper()}-{''.join(map(lambda x: x[0].upper(), category.split()))}-{variant_id}'"
   ]
  },
  {
   "cell_type": "code",
   "execution_count": 92,
   "id": "abd1ec4b",
   "metadata": {},
   "outputs": [],
   "source": [
    "def create_cost_price(price):\n",
    "    mean = 0.8\n",
    "    std_dev = 0.05\n",
    "\n",
    "    original_price = price * random.gauss(mean, std_dev)\n",
    "    original_price = max(original_price, price * 0.5)\n",
    "\n",
    "    return round(original_price)"
   ]
  },
  {
   "cell_type": "code",
   "execution_count": 93,
   "id": "18377ae2",
   "metadata": {},
   "outputs": [],
   "source": [
    "option_to_variant = {}\n",
    "old_product_id_to_new_product_id = {}"
   ]
  },
  {
   "cell_type": "code",
   "execution_count": 94,
   "id": "8f6da908",
   "metadata": {},
   "outputs": [],
   "source": [
    "product_rows = []\n",
    "product_variant_rows = []\n",
    "attribute_variant_rows = []\n",
    "\n",
    "variant_id_counter = 0\n",
    "\n",
    "for i, row in products.iterrows():\n",
    "    versions = str(row['Phiên bản'])\n",
    "\n",
    "    options = extract_options(versions)\n",
    "\n",
    "    product_id = str(i).zfill(6)\n",
    "\n",
    "    product_row = {\n",
    "        'id': product_id,\n",
    "        'category_id': cat_dict[row['Danh mục']],\n",
    "        'name': row['Tên sản phẩm'],\n",
    "        'description': row['Mô tả'],\n",
    "        'specification': row['Thông số kỹ thuật'],\n",
    "        'image_url': row['Hình ảnh'],\n",
    "        'brand': row['Thương hiệu']\n",
    "    }\n",
    "\n",
    "    product_rows.append(product_row)\n",
    "\n",
    "    for option in options:\n",
    "        \n",
    "        stock_quantity = random.randint(0, 120)\n",
    "\n",
    "        variant_id = str(variant_id_counter).zfill(6)\n",
    "        \n",
    "        price = option['price']\n",
    "\n",
    "        original_price = create_cost_price(option['price'])\n",
    "\n",
    "        profit = option['price'] - original_price\n",
    "\n",
    "        sku = create_sku(row['Thương hiệu'], row['Danh mục'], variant_id)\n",
    "\n",
    "        sold_quantity = random.randint(0, 100)\n",
    "\n",
    "        product_variant_row = {\n",
    "                'id': variant_id,\n",
    "                'product_id': product_id,\n",
    "                'price': price,\n",
    "                'original_price': original_price,\n",
    "                'profit': profit,\n",
    "                'sku': sku,\n",
    "                'stock_quantity': stock_quantity,\n",
    "                'sold_quantity': sold_quantity\n",
    "        }\n",
    "\n",
    "        product_variant_rows.append(product_variant_row)\n",
    "\n",
    "        for (attr, val) in zip(option['attrs'], option['values']):\n",
    "\n",
    "            attribute_variant_row = {\n",
    "                'attribute_value_id': att_val_dict[val],\n",
    "                'attribute_id': att_dict[attr],\n",
    "                'product_variant_id': variant_id\n",
    "            }\n",
    "\n",
    "            attribute_variant_rows.append(attribute_variant_row)\n",
    "\n",
    "        key = (\n",
    "            str(row['Id']),\n",
    "            tuple(sorted(zip(option['attrs'], option['values'])))\n",
    "        )\n",
    "\n",
    "        option_to_variant[key] = variant_id_counter\n",
    "        old_product_id_to_new_product_id[str(row['Id'])] = product_id\n",
    "\n",
    "        variant_id_counter += 1\n",
    "\n",
    "product_df = pd.DataFrame(product_rows)\n",
    "product_variant = pd.DataFrame(product_variant_rows)\n",
    "attribute_variant = pd.DataFrame(attribute_variant_rows)"
   ]
  },
  {
   "cell_type": "code",
   "execution_count": 95,
   "id": "2117eb3b",
   "metadata": {},
   "outputs": [],
   "source": [
    "product_df.to_csv('./transformedData/product.csv', index=False, encoding='utf-8-sig')\n",
    "product_variant.to_csv('./transformedData/product_variant.csv', index=False, encoding='utf-8-sig')\n",
    "attribute_variant.to_csv('./transformedData/attribute_variant.csv', index=False, encoding='utf-8-sig')"
   ]
  },
  {
   "cell_type": "markdown",
   "id": "7ec9697a",
   "metadata": {},
   "source": [
    "### Xử lý feedback"
   ]
  },
  {
   "cell_type": "code",
   "execution_count": 96,
   "id": "1c9f4125",
   "metadata": {},
   "outputs": [],
   "source": [
    "def something(df: pd.DataFrame):\n",
    "    print('Number of Na')\n",
    "    print(df.isnull().sum())\n",
    "    print('Previous number of rows')\n",
    "    print(len(df))\n",
    "    print('Number of duplicates')\n",
    "    print(df.duplicated().sum())\n",
    "    if df.duplicated().sum() > 0:\n",
    "        df.drop_duplicates(inplace=True) \n",
    "        print('After removing duplicates')\n",
    "        print(len(df))\n"
   ]
  },
  {
   "cell_type": "code",
   "execution_count": 97,
   "id": "2b3397f5",
   "metadata": {},
   "outputs": [
    {
     "name": "stdout",
     "output_type": "stream",
     "text": [
      "Number of Na\n",
      "feedback_id      0\n",
      "product_id       0\n",
      "customer_id      0\n",
      "rating           0\n",
      "content        102\n",
      "time             0\n",
      "variant        257\n",
      "image_url      218\n",
      "dtype: int64\n",
      "Previous number of rows\n",
      "414\n",
      "Number of duplicates\n",
      "45\n",
      "After removing duplicates\n",
      "369\n"
     ]
    }
   ],
   "source": [
    "camera_fb = pd.read_csv('./feedback/camera_fb.csv', encoding='utf-8')\n",
    "something(camera_fb)\n"
   ]
  },
  {
   "cell_type": "code",
   "execution_count": 98,
   "id": "8061be25",
   "metadata": {},
   "outputs": [
    {
     "name": "stdout",
     "output_type": "stream",
     "text": [
      "Number of Na\n",
      "feedback_id      0\n",
      "product_id       0\n",
      "customer_id      0\n",
      "rating           0\n",
      "content        290\n",
      "time             8\n",
      "variant         49\n",
      "image_url      420\n",
      "dtype: int64\n",
      "Previous number of rows\n",
      "597\n",
      "Number of duplicates\n",
      "182\n",
      "After removing duplicates\n",
      "415\n"
     ]
    }
   ],
   "source": [
    "dienthoai_fb = pd.read_csv('./feedback/dienthoai_fb.csv', encoding='utf-8')\n",
    "something(dienthoai_fb)"
   ]
  },
  {
   "cell_type": "code",
   "execution_count": 99,
   "id": "94a3fc72",
   "metadata": {},
   "outputs": [
    {
     "name": "stdout",
     "output_type": "stream",
     "text": [
      "Number of Na\n",
      "feedback_id     0\n",
      "product_id      0\n",
      "customer_id     0\n",
      "rating          0\n",
      "content         3\n",
      "time            0\n",
      "variant         0\n",
      "image_url      15\n",
      "dtype: int64\n",
      "Previous number of rows\n",
      "23\n",
      "Number of duplicates\n",
      "0\n"
     ]
    }
   ],
   "source": [
    "dienthoaiban_fb = pd.read_csv('./feedback/dienthoaiban_fb.csv', encoding='utf-8')\n",
    "something(dienthoaiban_fb)\n"
   ]
  },
  {
   "cell_type": "code",
   "execution_count": 100,
   "id": "9932ae4b",
   "metadata": {},
   "outputs": [
    {
     "name": "stdout",
     "output_type": "stream",
     "text": [
      "Number of Na\n",
      "feedback_id     0\n",
      "product_id      0\n",
      "customer_id     0\n",
      "rating          0\n",
      "content         8\n",
      "time            0\n",
      "variant         0\n",
      "image_url      10\n",
      "dtype: int64\n",
      "Previous number of rows\n",
      "14\n",
      "Number of duplicates\n",
      "0\n"
     ]
    }
   ],
   "source": [
    "dienthoaiphothong_fb = pd.read_csv('./feedback/dienthoaiphothong_fb.csv', encoding='utf-8')\n",
    "something(dienthoaiphothong_fb)"
   ]
  },
  {
   "cell_type": "code",
   "execution_count": 101,
   "id": "19a84734",
   "metadata": {},
   "outputs": [
    {
     "name": "stdout",
     "output_type": "stream",
     "text": [
      "Number of Na\n",
      "feedback_id      0\n",
      "product_id       0\n",
      "customer_id      0\n",
      "rating           0\n",
      "content         73\n",
      "time             9\n",
      "variant        204\n",
      "image_url      137\n",
      "dtype: int64\n",
      "Previous number of rows\n",
      "204\n",
      "Number of duplicates\n",
      "0\n"
     ]
    }
   ],
   "source": [
    "dieuhoa_fb = pd.read_csv('./feedback/dieuhoa_fb.csv', encoding='utf-8')\n",
    "something(dieuhoa_fb)"
   ]
  },
  {
   "cell_type": "code",
   "execution_count": 102,
   "id": "8684abfd",
   "metadata": {},
   "outputs": [
    {
     "name": "stdout",
     "output_type": "stream",
     "text": [
      "Number of Na\n",
      "feedback_id     0\n",
      "product_id      0\n",
      "customer_id     0\n",
      "rating          0\n",
      "content        11\n",
      "time            0\n",
      "variant        21\n",
      "image_url      16\n",
      "dtype: int64\n",
      "Previous number of rows\n",
      "52\n",
      "Number of duplicates\n",
      "0\n"
     ]
    }
   ],
   "source": [
    "laptop_fb = pd.read_csv('./feedback/laptop_fb.csv', encoding='utf-8')\n",
    "something(laptop_fb)\n"
   ]
  },
  {
   "cell_type": "code",
   "execution_count": 103,
   "id": "24d733fe",
   "metadata": {},
   "outputs": [
    {
     "name": "stdout",
     "output_type": "stream",
     "text": [
      "Number of Na\n",
      "feedback_id    0\n",
      "product_id     0\n",
      "customer_id    0\n",
      "rating         0\n",
      "content        1\n",
      "time           0\n",
      "variant        2\n",
      "image_url      2\n",
      "dtype: int64\n",
      "Previous number of rows\n",
      "2\n",
      "Number of duplicates\n",
      "0\n"
     ]
    }
   ],
   "source": [
    "mayanh_fb = pd.read_csv('./feedback/mayanh_fb.csv', encoding='utf-8')\n",
    "something(mayanh_fb)"
   ]
  },
  {
   "cell_type": "code",
   "execution_count": 104,
   "id": "b5da37d5",
   "metadata": {},
   "outputs": [
    {
     "name": "stdout",
     "output_type": "stream",
     "text": [
      "Number of Na\n",
      "feedback_id     0\n",
      "product_id      0\n",
      "customer_id     0\n",
      "rating          0\n",
      "content        35\n",
      "time            1\n",
      "variant        64\n",
      "image_url      46\n",
      "dtype: int64\n",
      "Previous number of rows\n",
      "112\n",
      "Number of duplicates\n",
      "15\n",
      "After removing duplicates\n",
      "97\n"
     ]
    }
   ],
   "source": [
    "maydocsach_fb = pd.read_csv('./feedback/maydocsach_fb.csv', encoding='utf-8')\n",
    "something(maydocsach_fb)"
   ]
  },
  {
   "cell_type": "code",
   "execution_count": 105,
   "id": "2617fb10",
   "metadata": {},
   "outputs": [
    {
     "name": "stdout",
     "output_type": "stream",
     "text": [
      "Number of Na\n",
      "feedback_id      0\n",
      "product_id       0\n",
      "customer_id      0\n",
      "rating           0\n",
      "content         32\n",
      "time             3\n",
      "variant        107\n",
      "image_url       62\n",
      "dtype: int64\n",
      "Previous number of rows\n",
      "107\n",
      "Number of duplicates\n",
      "0\n"
     ]
    }
   ],
   "source": [
    "maygiat_fb = pd.read_csv('./feedback/maygiat_fb.csv', encoding='utf-8')\n",
    "something(maygiat_fb)"
   ]
  },
  {
   "cell_type": "code",
   "execution_count": 106,
   "id": "cac00f41",
   "metadata": {},
   "outputs": [
    {
     "name": "stdout",
     "output_type": "stream",
     "text": [
      "Number of Na\n",
      "feedback_id     0\n",
      "product_id      0\n",
      "customer_id     0\n",
      "rating          0\n",
      "content         0\n",
      "time            0\n",
      "variant         0\n",
      "image_url      29\n",
      "dtype: int64\n",
      "Previous number of rows\n",
      "90\n",
      "Number of duplicates\n",
      "30\n",
      "After removing duplicates\n",
      "60\n"
     ]
    }
   ],
   "source": [
    "maytinhbang_fb = pd.read_csv('./feedback/maytinhbang_fb.csv', encoding='utf-8')\n",
    "something(maytinhbang_fb)"
   ]
  },
  {
   "cell_type": "code",
   "execution_count": 107,
   "id": "b37890e9",
   "metadata": {},
   "outputs": [
    {
     "name": "stdout",
     "output_type": "stream",
     "text": [
      "Number of Na\n",
      "feedback_id      0\n",
      "product_id       0\n",
      "customer_id      0\n",
      "rating           0\n",
      "content         72\n",
      "time             8\n",
      "variant        283\n",
      "image_url      158\n",
      "dtype: int64\n",
      "Previous number of rows\n",
      "283\n",
      "Number of duplicates\n",
      "0\n"
     ]
    }
   ],
   "source": [
    "tivi_fb = pd.read_csv('./feedback/tivi_fb.csv', encoding='utf-8')\n",
    "something(tivi_fb)"
   ]
  },
  {
   "cell_type": "code",
   "execution_count": 108,
   "id": "36a276b7",
   "metadata": {},
   "outputs": [
    {
     "name": "stdout",
     "output_type": "stream",
     "text": [
      "Number of Na\n",
      "feedback_id      0\n",
      "product_id       0\n",
      "customer_id      0\n",
      "rating           0\n",
      "content         84\n",
      "time             3\n",
      "variant        306\n",
      "image_url      168\n",
      "dtype: int64\n",
      "Previous number of rows\n",
      "308\n",
      "Number of duplicates\n",
      "0\n"
     ]
    }
   ],
   "source": [
    "tulanh_fb = pd.read_csv('./feedback/tulanh_fb.csv', encoding='utf-8')\n",
    "something(tulanh_fb)"
   ]
  },
  {
   "cell_type": "code",
   "execution_count": 109,
   "id": "115dee6d",
   "metadata": {},
   "outputs": [
    {
     "data": {
      "text/plain": [
       "'feedback_id,product_id,customer_id,rating,content,time,variant,image_url'"
      ]
     },
     "execution_count": 109,
     "metadata": {},
     "output_type": "execute_result"
    }
   ],
   "source": [
    "','.join(dienthoai_fb.columns)"
   ]
  },
  {
   "cell_type": "code",
   "execution_count": 113,
   "id": "7792a08f",
   "metadata": {},
   "outputs": [
    {
     "name": "stdout",
     "output_type": "stream",
     "text": [
      "Number of Na\n",
      "feedback_id    0\n",
      "product_id     0\n",
      "customer_id    0\n",
      "rating         0\n",
      "content        0\n",
      "time           0\n",
      "variant        0\n",
      "image_url      0\n",
      "dtype: int64\n",
      "Previous number of rows\n",
      "0\n",
      "Number of duplicates\n",
      "0\n"
     ]
    }
   ],
   "source": [
    "maytinhdeban_fb = pd.read_csv('./feedback/maytinhdeban_fb.csv', encoding='utf-8')\n",
    "something(maytinhdeban_fb)"
   ]
  },
  {
   "cell_type": "code",
   "execution_count": 114,
   "id": "9a8417cc",
   "metadata": {},
   "outputs": [],
   "source": [
    "feedbacks = pd.concat(\n",
    "    [camera_fb, \n",
    "     dienthoai_fb, \n",
    "     dienthoaiban_fb, \n",
    "     dienthoaiphothong_fb, \n",
    "     dieuhoa_fb, \n",
    "     laptop_fb, \n",
    "     mayanh_fb, \n",
    "     maydocsach_fb, \n",
    "     maygiat_fb, \n",
    "     maytinhbang_fb, \n",
    "     tivi_fb, \n",
    "     tulanh_fb, \n",
    "     maytinhdeban_fb], ignore_index=True\n",
    ")"
   ]
  },
  {
   "cell_type": "code",
   "execution_count": 137,
   "id": "517656e6",
   "metadata": {},
   "outputs": [],
   "source": [
    "def extract_version_to_variant_id(product_id, version):\n",
    "    if pd.isna(version) or version == '' or version == 'nan':\n",
    "        return None\n",
    "    \n",
    "    attributes = version.split('$$')\n",
    "    attrs = []\n",
    "    values = []\n",
    "    for attribute in attributes:\n",
    "        attr = attribute.split(':')[0].strip().lower()\n",
    "        value = attribute.split(':')[-1].strip()\n",
    "\n",
    "        value = toPascalCase(value)\n",
    "\n",
    "        attr = rename_attribute(attr, value)\n",
    "\n",
    "        attrs.append(attr)\n",
    "        values.append(value)\n",
    "\n",
    "    key = (\n",
    "        product_id,\n",
    "        tuple(sorted(zip(attrs, values)))\n",
    "    )\n",
    "    if key not in option_to_variant:\n",
    "        return None\n",
    "\n",
    "    return option_to_variant[key]"
   ]
  },
  {
   "cell_type": "code",
   "execution_count": 138,
   "id": "dc34fe61",
   "metadata": {},
   "outputs": [],
   "source": [
    "customer_df = pd.read_csv('../users/data/customer.csv', encoding='utf-8')\n",
    "customer_ids = customer_df['id'].unique()"
   ]
  },
  {
   "cell_type": "code",
   "execution_count": 139,
   "id": "851fa1e9",
   "metadata": {},
   "outputs": [],
   "source": [
    "account_df = pd.read_csv('../users/data/account.csv', encoding='utf-8')\n",
    "account_df = pd.merge(account_df, customer_df, left_on='id', right_on='account_id', how='left')"
   ]
  },
  {
   "cell_type": "code",
   "execution_count": 140,
   "id": "6afc5f1d",
   "metadata": {},
   "outputs": [],
   "source": [
    "account_created_times = account_df['created_at'].unique()"
   ]
  },
  {
   "cell_type": "code",
   "execution_count": 141,
   "id": "28a27795",
   "metadata": {},
   "outputs": [
    {
     "data": {
      "text/html": [
       "<div>\n",
       "<style scoped>\n",
       "    .dataframe tbody tr th:only-of-type {\n",
       "        vertical-align: middle;\n",
       "    }\n",
       "\n",
       "    .dataframe tbody tr th {\n",
       "        vertical-align: top;\n",
       "    }\n",
       "\n",
       "    .dataframe thead th {\n",
       "        text-align: right;\n",
       "    }\n",
       "</style>\n",
       "<table border=\"1\" class=\"dataframe\">\n",
       "  <thead>\n",
       "    <tr style=\"text-align: right;\">\n",
       "      <th></th>\n",
       "      <th>feedback_id</th>\n",
       "      <th>product_id</th>\n",
       "      <th>customer_id</th>\n",
       "      <th>rating</th>\n",
       "      <th>content</th>\n",
       "      <th>time</th>\n",
       "      <th>variant</th>\n",
       "      <th>image_url</th>\n",
       "    </tr>\n",
       "  </thead>\n",
       "  <tbody>\n",
       "    <tr>\n",
       "      <th>0</th>\n",
       "      <td>5278285</td>\n",
       "      <td>47868431</td>\n",
       "      <td>17145651</td>\n",
       "      <td>5</td>\n",
       "      <td>Đã mua gói hàng rất cẩn thận cảm thấy hài lòng...</td>\n",
       "      <td>2020-10-19 13:34:13</td>\n",
       "      <td>NaN</td>\n",
       "      <td>https://salt.tikicdn.com/ts/review/83/90/16/ac...</td>\n",
       "    </tr>\n",
       "    <tr>\n",
       "      <th>1</th>\n",
       "      <td>5397823</td>\n",
       "      <td>47868431</td>\n",
       "      <td>12180385</td>\n",
       "      <td>5</td>\n",
       "      <td>Sản phẩm dễ cài đặt, nhiều tính năng, độ phân ...</td>\n",
       "      <td>2020-10-29 15:35:34</td>\n",
       "      <td>NaN</td>\n",
       "      <td>https://salt.tikicdn.com/ts/review/9d/f9/73/53...</td>\n",
       "    </tr>\n",
       "    <tr>\n",
       "      <th>2</th>\n",
       "      <td>5437697</td>\n",
       "      <td>47868431</td>\n",
       "      <td>11096412</td>\n",
       "      <td>5</td>\n",
       "      <td>hình rõ, app trên Android lẫn iOS chưa ổn định...</td>\n",
       "      <td>2020-11-02 11:23:52</td>\n",
       "      <td>NaN</td>\n",
       "      <td>https://salt.tikicdn.com/ts/review/18/88/78/84...</td>\n",
       "    </tr>\n",
       "    <tr>\n",
       "      <th>3</th>\n",
       "      <td>20089032</td>\n",
       "      <td>47868431</td>\n",
       "      <td>9883981</td>\n",
       "      <td>5</td>\n",
       "      <td>NaN</td>\n",
       "      <td>2025-02-28 21:09:02</td>\n",
       "      <td>NaN</td>\n",
       "      <td>NaN</td>\n",
       "    </tr>\n",
       "    <tr>\n",
       "      <th>4</th>\n",
       "      <td>5950422</td>\n",
       "      <td>47868431</td>\n",
       "      <td>709976</td>\n",
       "      <td>5</td>\n",
       "      <td>giá rẻ, chất lượng tốtgiá rẻ, chất lượng tốtgi...</td>\n",
       "      <td>2020-12-04 23:53:11</td>\n",
       "      <td>NaN</td>\n",
       "      <td>NaN</td>\n",
       "    </tr>\n",
       "    <tr>\n",
       "      <th>...</th>\n",
       "      <td>...</td>\n",
       "      <td>...</td>\n",
       "      <td>...</td>\n",
       "      <td>...</td>\n",
       "      <td>...</td>\n",
       "      <td>...</td>\n",
       "      <td>...</td>\n",
       "      <td>...</td>\n",
       "    </tr>\n",
       "    <tr>\n",
       "      <th>1929</th>\n",
       "      <td>1833090</td>\n",
       "      <td>1265845</td>\n",
       "      <td>1279572</td>\n",
       "      <td>5</td>\n",
       "      <td>sản phẩm tốt mới, dễ sử dụng tiki hỗ trợ ship ...</td>\n",
       "      <td>2018-10-03 20:20:59</td>\n",
       "      <td>Màu: Đen</td>\n",
       "      <td>https://salt.tikicdn.com/ts/review/f4/9d/0b/df...</td>\n",
       "    </tr>\n",
       "    <tr>\n",
       "      <th>1930</th>\n",
       "      <td>1262798</td>\n",
       "      <td>1265845</td>\n",
       "      <td>6496671</td>\n",
       "      <td>3</td>\n",
       "      <td>Cửa tủ ko nằm trên 1 mặt thẳng, bị lệch nếu để...</td>\n",
       "      <td>2018-03-07 00:03:31</td>\n",
       "      <td>NaN</td>\n",
       "      <td>https://salt.tikicdn.com/ts/review/20/7a/2c/f5...</td>\n",
       "    </tr>\n",
       "    <tr>\n",
       "      <th>1931</th>\n",
       "      <td>14876120</td>\n",
       "      <td>55964013</td>\n",
       "      <td>1720141</td>\n",
       "      <td>5</td>\n",
       "      <td>Giao nhanh</td>\n",
       "      <td>2022-02-10 10:29:41</td>\n",
       "      <td>NaN</td>\n",
       "      <td>NaN</td>\n",
       "    </tr>\n",
       "    <tr>\n",
       "      <th>1932</th>\n",
       "      <td>15075700</td>\n",
       "      <td>55964013</td>\n",
       "      <td>1471768</td>\n",
       "      <td>5</td>\n",
       "      <td>Ok</td>\n",
       "      <td>2022-02-22 00:24:45</td>\n",
       "      <td>NaN</td>\n",
       "      <td>NaN</td>\n",
       "    </tr>\n",
       "    <tr>\n",
       "      <th>1933</th>\n",
       "      <td>15177899</td>\n",
       "      <td>55964013</td>\n",
       "      <td>22571119</td>\n",
       "      <td>5</td>\n",
       "      <td>NaN</td>\n",
       "      <td>2022-02-27 21:44:26</td>\n",
       "      <td>NaN</td>\n",
       "      <td>NaN</td>\n",
       "    </tr>\n",
       "  </tbody>\n",
       "</table>\n",
       "<p>1934 rows × 8 columns</p>\n",
       "</div>"
      ],
      "text/plain": [
       "     feedback_id product_id customer_id rating  \\\n",
       "0        5278285   47868431    17145651      5   \n",
       "1        5397823   47868431    12180385      5   \n",
       "2        5437697   47868431    11096412      5   \n",
       "3       20089032   47868431     9883981      5   \n",
       "4        5950422   47868431      709976      5   \n",
       "...          ...        ...         ...    ...   \n",
       "1929     1833090    1265845     1279572      5   \n",
       "1930     1262798    1265845     6496671      3   \n",
       "1931    14876120   55964013     1720141      5   \n",
       "1932    15075700   55964013     1471768      5   \n",
       "1933    15177899   55964013    22571119      5   \n",
       "\n",
       "                                                content                 time  \\\n",
       "0     Đã mua gói hàng rất cẩn thận cảm thấy hài lòng...  2020-10-19 13:34:13   \n",
       "1     Sản phẩm dễ cài đặt, nhiều tính năng, độ phân ...  2020-10-29 15:35:34   \n",
       "2     hình rõ, app trên Android lẫn iOS chưa ổn định...  2020-11-02 11:23:52   \n",
       "3                                                   NaN  2025-02-28 21:09:02   \n",
       "4     giá rẻ, chất lượng tốtgiá rẻ, chất lượng tốtgi...  2020-12-04 23:53:11   \n",
       "...                                                 ...                  ...   \n",
       "1929  sản phẩm tốt mới, dễ sử dụng tiki hỗ trợ ship ...  2018-10-03 20:20:59   \n",
       "1930  Cửa tủ ko nằm trên 1 mặt thẳng, bị lệch nếu để...  2018-03-07 00:03:31   \n",
       "1931                                         Giao nhanh  2022-02-10 10:29:41   \n",
       "1932                                                 Ok  2022-02-22 00:24:45   \n",
       "1933                                                NaN  2022-02-27 21:44:26   \n",
       "\n",
       "       variant                                          image_url  \n",
       "0          NaN  https://salt.tikicdn.com/ts/review/83/90/16/ac...  \n",
       "1          NaN  https://salt.tikicdn.com/ts/review/9d/f9/73/53...  \n",
       "2          NaN  https://salt.tikicdn.com/ts/review/18/88/78/84...  \n",
       "3          NaN                                                NaN  \n",
       "4          NaN                                                NaN  \n",
       "...        ...                                                ...  \n",
       "1929  Màu: Đen  https://salt.tikicdn.com/ts/review/f4/9d/0b/df...  \n",
       "1930       NaN  https://salt.tikicdn.com/ts/review/20/7a/2c/f5...  \n",
       "1931       NaN                                                NaN  \n",
       "1932       NaN                                                NaN  \n",
       "1933       NaN                                                NaN  \n",
       "\n",
       "[1934 rows x 8 columns]"
      ]
     },
     "execution_count": 141,
     "metadata": {},
     "output_type": "execute_result"
    }
   ],
   "source": [
    "feedbacks"
   ]
  },
  {
   "cell_type": "markdown",
   "id": "a10d3ffc",
   "metadata": {},
   "source": [
    "feedback(id, customer_id, product_id, product_variant_id, rating, comment, created_at, image_url)"
   ]
  },
  {
   "cell_type": "code",
   "execution_count": 259,
   "id": "c10176ea",
   "metadata": {},
   "outputs": [],
   "source": [
    "from datetime import datetime, timedelta\n",
    "\n",
    "def convert_old_product_id_to_new_product_id(old_product_id):\n",
    "    if old_product_id in old_product_id_to_new_product_id:\n",
    "        return old_product_id_to_new_product_id[old_product_id]\n",
    "    else:\n",
    "        return None\n",
    "    \n",
    "def random_skipped_date(str_created_at):\n",
    "    try:\n",
    "        created_at = datetime.strptime(str_created_at, '%Y-%m-%d %H:%M:%S')\n",
    "    except ValueError:\n",
    "        created_at = datetime.strptime(str_created_at, '%Y-%m-%d')\n",
    "    current = datetime.now()\n",
    "    random_time = created_at + timedelta(days=random.randint(0, (current - created_at).days))\n",
    "    return random_time.strftime('%Y-%m-%d %H:%M:%S')"
   ]
  },
  {
   "cell_type": "code",
   "execution_count": 260,
   "id": "9b9aeda5",
   "metadata": {},
   "outputs": [],
   "source": [
    "option_to_variant_set = set(option_to_variant.keys())"
   ]
  },
  {
   "cell_type": "code",
   "execution_count": 261,
   "id": "5f225f72",
   "metadata": {},
   "outputs": [],
   "source": [
    "old_feedback_id_to_new_feedback = {}"
   ]
  },
  {
   "cell_type": "code",
   "execution_count": 262,
   "id": "13d20ef6",
   "metadata": {},
   "outputs": [],
   "source": [
    "def convert_old_feedback_id_to_new_feedback(old_feedback_id):\n",
    "    if old_feedback_id in old_feedback_id_to_new_feedback:\n",
    "        return old_feedback_id_to_new_feedback[old_feedback_id]\n",
    "    else:\n",
    "        return None"
   ]
  },
  {
   "cell_type": "code",
   "execution_count": 263,
   "id": "6595f76d",
   "metadata": {},
   "outputs": [],
   "source": [
    "feedback_rows = []\n",
    "\n",
    "for index, row in feedbacks.iterrows():\n",
    "    id = index\n",
    "    customer_id = random.choice(customer_ids)\n",
    "    product_id = convert_old_product_id_to_new_product_id(str(row['product_id']))\n",
    "    product_variant_id = extract_version_to_variant_id(str(row['product_id']), row['variant'])\n",
    "    rating = row['rating']\n",
    "    comment = row['content']\n",
    "    \n",
    "    created_at = random_skipped_date(random.choice(account_created_times))\n",
    "\n",
    "    feedback_row = {\n",
    "        'id': id,\n",
    "        'customer_id': customer_id,\n",
    "        'product_id': product_id,\n",
    "        'product_variant_id': product_variant_id,\n",
    "        'rating': rating,\n",
    "        'comment': comment,\n",
    "        'created_at': created_at\n",
    "    }\n",
    "\n",
    "    feedback_rows.append(feedback_row)\n",
    "\n",
    "    old_feedback_id_to_new_feedback[str(row['feedback_id'])] = feedback_row\n",
    "\n",
    "feedback_df = pd.DataFrame(feedback_rows)"
   ]
  },
  {
   "cell_type": "code",
   "execution_count": 264,
   "id": "58c9a3e7",
   "metadata": {},
   "outputs": [],
   "source": [
    "feedback_df.dropna(subset=['product_id', 'created_at'], inplace=True)"
   ]
  },
  {
   "cell_type": "code",
   "execution_count": 265,
   "id": "12cda019",
   "metadata": {},
   "outputs": [
    {
     "data": {
      "text/plain": [
       "array([      nan, 2.474e+03, 2.475e+03, 2.561e+03, 2.663e+03, 2.664e+03,\n",
       "       2.673e+03, 2.709e+03, 2.765e+03, 2.910e+03, 2.940e+03, 3.046e+03,\n",
       "       3.128e+03, 3.129e+03, 3.133e+03, 3.319e+03, 0.000e+00, 1.000e+00,\n",
       "       5.000e+00, 3.000e+00, 6.000e+00, 7.000e+00, 8.000e+00, 9.000e+00,\n",
       "       1.000e+01, 1.100e+01, 1.200e+01, 1.600e+01, 3.800e+01, 3.600e+01,\n",
       "       3.700e+01, 3.900e+01, 4.900e+01, 5.200e+01, 5.100e+01, 5.300e+01,\n",
       "       5.500e+01, 5.400e+01, 6.200e+01, 6.100e+01, 6.500e+01, 6.400e+01,\n",
       "       6.600e+01, 6.300e+01, 6.900e+01, 6.700e+01, 6.800e+01, 7.000e+01,\n",
       "       7.200e+01, 7.100e+01, 7.400e+01, 7.300e+01, 7.600e+01, 7.900e+01,\n",
       "       7.800e+01, 8.000e+01, 8.100e+01, 8.800e+01, 8.900e+01, 9.100e+01,\n",
       "       9.000e+01, 9.500e+01, 9.600e+01, 9.700e+01, 9.800e+01, 9.900e+01,\n",
       "       1.000e+02, 1.040e+02, 1.050e+02, 1.900e+02, 1.890e+02, 1.880e+02,\n",
       "       2.620e+02, 2.710e+02, 3.940e+02, 4.060e+02, 4.090e+02, 4.170e+02,\n",
       "       4.710e+02, 4.700e+02, 4.720e+02, 4.740e+02, 4.730e+02, 4.750e+02,\n",
       "       4.920e+02, 4.930e+02, 4.910e+02, 8.720e+02, 9.070e+02, 9.120e+02,\n",
       "       1.265e+03, 1.264e+03, 1.293e+03, 1.311e+03, 1.696e+03, 1.697e+03,\n",
       "       1.698e+03, 1.699e+03, 1.700e+03, 1.701e+03, 1.753e+03, 1.755e+03,\n",
       "       1.756e+03, 2.351e+03])"
      ]
     },
     "execution_count": 265,
     "metadata": {},
     "output_type": "execute_result"
    }
   ],
   "source": [
    "feedback_df['product_variant_id'].unique()"
   ]
  },
  {
   "cell_type": "code",
   "execution_count": 266,
   "id": "cb579754",
   "metadata": {},
   "outputs": [
    {
     "data": {
      "text/plain": [
       "id                       0\n",
       "customer_id              0\n",
       "product_id               0\n",
       "product_variant_id    1472\n",
       "rating                   0\n",
       "comment                603\n",
       "created_at               0\n",
       "dtype: int64"
      ]
     },
     "execution_count": 266,
     "metadata": {},
     "output_type": "execute_result"
    }
   ],
   "source": [
    "feedback_df.isna().sum()"
   ]
  },
  {
   "cell_type": "code",
   "execution_count": 267,
   "id": "e63a09cc",
   "metadata": {},
   "outputs": [],
   "source": [
    "feedback_df.to_csv('./transformedData/feedback.csv', index=False, encoding='utf-8-sig')"
   ]
  },
  {
   "cell_type": "code",
   "execution_count": 268,
   "id": "b46c4106",
   "metadata": {},
   "outputs": [
    {
     "data": {
      "text/html": [
       "<div>\n",
       "<style scoped>\n",
       "    .dataframe tbody tr th:only-of-type {\n",
       "        vertical-align: middle;\n",
       "    }\n",
       "\n",
       "    .dataframe tbody tr th {\n",
       "        vertical-align: top;\n",
       "    }\n",
       "\n",
       "    .dataframe thead th {\n",
       "        text-align: right;\n",
       "    }\n",
       "</style>\n",
       "<table border=\"1\" class=\"dataframe\">\n",
       "  <thead>\n",
       "    <tr style=\"text-align: right;\">\n",
       "      <th></th>\n",
       "      <th>id</th>\n",
       "      <th>customer_id</th>\n",
       "      <th>product_id</th>\n",
       "      <th>product_variant_id</th>\n",
       "      <th>rating</th>\n",
       "      <th>comment</th>\n",
       "      <th>created_at</th>\n",
       "    </tr>\n",
       "  </thead>\n",
       "  <tbody>\n",
       "    <tr>\n",
       "      <th>0</th>\n",
       "      <td>0</td>\n",
       "      <td>550235</td>\n",
       "      <td>002081</td>\n",
       "      <td>NaN</td>\n",
       "      <td>5</td>\n",
       "      <td>Đã mua gói hàng rất cẩn thận cảm thấy hài lòng...</td>\n",
       "      <td>2024-06-20 00:00:00</td>\n",
       "    </tr>\n",
       "    <tr>\n",
       "      <th>1</th>\n",
       "      <td>1</td>\n",
       "      <td>225595</td>\n",
       "      <td>002081</td>\n",
       "      <td>NaN</td>\n",
       "      <td>5</td>\n",
       "      <td>Sản phẩm dễ cài đặt, nhiều tính năng, độ phân ...</td>\n",
       "      <td>2023-09-24 00:00:00</td>\n",
       "    </tr>\n",
       "    <tr>\n",
       "      <th>2</th>\n",
       "      <td>2</td>\n",
       "      <td>347169</td>\n",
       "      <td>002081</td>\n",
       "      <td>NaN</td>\n",
       "      <td>5</td>\n",
       "      <td>hình rõ, app trên Android lẫn iOS chưa ổn định...</td>\n",
       "      <td>2024-09-25 00:00:00</td>\n",
       "    </tr>\n",
       "    <tr>\n",
       "      <th>3</th>\n",
       "      <td>3</td>\n",
       "      <td>84960</td>\n",
       "      <td>002081</td>\n",
       "      <td>NaN</td>\n",
       "      <td>5</td>\n",
       "      <td>NaN</td>\n",
       "      <td>2024-09-16 00:00:00</td>\n",
       "    </tr>\n",
       "    <tr>\n",
       "      <th>4</th>\n",
       "      <td>4</td>\n",
       "      <td>654146</td>\n",
       "      <td>002081</td>\n",
       "      <td>NaN</td>\n",
       "      <td>5</td>\n",
       "      <td>giá rẻ, chất lượng tốtgiá rẻ, chất lượng tốtgi...</td>\n",
       "      <td>2025-03-28 00:00:00</td>\n",
       "    </tr>\n",
       "  </tbody>\n",
       "</table>\n",
       "</div>"
      ],
      "text/plain": [
       "   id  customer_id product_id  product_variant_id  rating  \\\n",
       "0   0       550235     002081                 NaN       5   \n",
       "1   1       225595     002081                 NaN       5   \n",
       "2   2       347169     002081                 NaN       5   \n",
       "3   3        84960     002081                 NaN       5   \n",
       "4   4       654146     002081                 NaN       5   \n",
       "\n",
       "                                             comment           created_at  \n",
       "0  Đã mua gói hàng rất cẩn thận cảm thấy hài lòng...  2024-06-20 00:00:00  \n",
       "1  Sản phẩm dễ cài đặt, nhiều tính năng, độ phân ...  2023-09-24 00:00:00  \n",
       "2  hình rõ, app trên Android lẫn iOS chưa ổn định...  2024-09-25 00:00:00  \n",
       "3                                                NaN  2024-09-16 00:00:00  \n",
       "4  giá rẻ, chất lượng tốtgiá rẻ, chất lượng tốtgi...  2025-03-28 00:00:00  "
      ]
     },
     "execution_count": 268,
     "metadata": {},
     "output_type": "execute_result"
    }
   ],
   "source": [
    "feedback_df.head()"
   ]
  },
  {
   "cell_type": "markdown",
   "id": "943e8320",
   "metadata": {},
   "source": [
    "### Handle feedback_response"
   ]
  },
  {
   "cell_type": "markdown",
   "id": "6c32110f",
   "metadata": {},
   "source": [
    "feedback_response(id, manager_id, feedback_id, content, created_at)"
   ]
  },
  {
   "cell_type": "code",
   "execution_count": 269,
   "id": "69982f09",
   "metadata": {},
   "outputs": [
    {
     "name": "stdout",
     "output_type": "stream",
     "text": [
      "Number of Na\n",
      "id              0\n",
      "feedback_id     0\n",
      "manager_id      0\n",
      "manager_name    0\n",
      "content         0\n",
      "time            0\n",
      "dtype: int64\n",
      "Previous number of rows\n",
      "89\n",
      "Number of duplicates\n",
      "2\n",
      "After removing duplicates\n",
      "87\n"
     ]
    }
   ],
   "source": [
    "camera_fb_ma = pd.read_csv('./feedback_manager/camera_fb_ma.csv', encoding='utf-8')\n",
    "something(camera_fb_ma)"
   ]
  },
  {
   "cell_type": "code",
   "execution_count": 270,
   "id": "ed55dd91",
   "metadata": {},
   "outputs": [
    {
     "name": "stdout",
     "output_type": "stream",
     "text": [
      "Number of Na\n",
      "id              0\n",
      "feedback_id     0\n",
      "manager_id      0\n",
      "manager_name    0\n",
      "content         0\n",
      "time            3\n",
      "dtype: int64\n",
      "Previous number of rows\n",
      "434\n",
      "Number of duplicates\n",
      "120\n",
      "After removing duplicates\n",
      "314\n"
     ]
    }
   ],
   "source": [
    "dienthoai_fb_ma = pd.read_csv('./feedback_manager/dienthoai_fb_ma.csv', encoding='utf-8')\n",
    "something(dienthoai_fb_ma)"
   ]
  },
  {
   "cell_type": "code",
   "execution_count": 271,
   "id": "a15cb9a9",
   "metadata": {},
   "outputs": [
    {
     "name": "stdout",
     "output_type": "stream",
     "text": [
      "Number of Na\n",
      "id              0\n",
      "feedback_id     0\n",
      "manager_id      0\n",
      "manager_name    0\n",
      "content         0\n",
      "time            0\n",
      "dtype: int64\n",
      "Previous number of rows\n",
      "1\n",
      "Number of duplicates\n",
      "0\n"
     ]
    }
   ],
   "source": [
    "dienthoaiban_fb_ma = pd.read_csv('./feedback_manager/dienthoaiban_fb_ma.csv', encoding='utf-8')\n",
    "something(dienthoaiban_fb_ma)"
   ]
  },
  {
   "cell_type": "code",
   "execution_count": 272,
   "id": "0845b45d",
   "metadata": {},
   "outputs": [
    {
     "name": "stdout",
     "output_type": "stream",
     "text": [
      "Number of Na\n",
      "id              0\n",
      "feedback_id     0\n",
      "manager_id      0\n",
      "manager_name    0\n",
      "content         0\n",
      "time            0\n",
      "dtype: int64\n",
      "Previous number of rows\n",
      "14\n",
      "Number of duplicates\n",
      "0\n"
     ]
    }
   ],
   "source": [
    "dienthoaiphothong_fb_ma = pd.read_csv('./feedback_manager/dienthoaiphothong_fb_ma.csv', encoding='utf-8')\n",
    "something(dienthoaiphothong_fb_ma)"
   ]
  },
  {
   "cell_type": "code",
   "execution_count": 273,
   "id": "b7510c28",
   "metadata": {},
   "outputs": [
    {
     "name": "stdout",
     "output_type": "stream",
     "text": [
      "Number of Na\n",
      "id              0\n",
      "feedback_id     0\n",
      "manager_id      0\n",
      "manager_name    0\n",
      "content         0\n",
      "time            0\n",
      "dtype: int64\n",
      "Previous number of rows\n",
      "0\n",
      "Number of duplicates\n",
      "0\n"
     ]
    }
   ],
   "source": [
    "dieuhoa_fb_ma = pd.read_csv('./feedback_manager/dieuhoa_fb_ma.csv', encoding='utf-8')\n",
    "something(dieuhoa_fb_ma)"
   ]
  },
  {
   "cell_type": "code",
   "execution_count": 274,
   "id": "b87870a9",
   "metadata": {},
   "outputs": [
    {
     "name": "stdout",
     "output_type": "stream",
     "text": [
      "Number of Na\n",
      "id              0\n",
      "feedback_id     0\n",
      "manager_id      0\n",
      "manager_name    0\n",
      "content         0\n",
      "time            0\n",
      "dtype: int64\n",
      "Previous number of rows\n",
      "6\n",
      "Number of duplicates\n",
      "0\n"
     ]
    }
   ],
   "source": [
    "laptop_fb_ma = pd.read_csv('./feedback_manager/laptop_fb_ma.csv', encoding='utf-8')\n",
    "something(laptop_fb_ma)"
   ]
  },
  {
   "cell_type": "code",
   "execution_count": 275,
   "id": "3257423f",
   "metadata": {},
   "outputs": [
    {
     "name": "stdout",
     "output_type": "stream",
     "text": [
      "Number of Na\n",
      "id              0\n",
      "feedback_id     0\n",
      "manager_id      0\n",
      "manager_name    0\n",
      "content         0\n",
      "time            0\n",
      "dtype: int64\n",
      "Previous number of rows\n",
      "1\n",
      "Number of duplicates\n",
      "0\n"
     ]
    }
   ],
   "source": [
    "mayanh_fb_ma = pd.read_csv('./feedback_manager/mayanh_fb_ma.csv', encoding='utf-8')\n",
    "something(mayanh_fb_ma)"
   ]
  },
  {
   "cell_type": "code",
   "execution_count": 276,
   "id": "c78d3a5d",
   "metadata": {},
   "outputs": [
    {
     "name": "stdout",
     "output_type": "stream",
     "text": [
      "Number of Na\n",
      "id              0\n",
      "feedback_id     0\n",
      "manager_id      0\n",
      "manager_name    0\n",
      "content         0\n",
      "time            0\n",
      "dtype: int64\n",
      "Previous number of rows\n",
      "53\n",
      "Number of duplicates\n",
      "0\n"
     ]
    }
   ],
   "source": [
    "maydocsach_fb_ma = pd.read_csv('./feedback_manager/maydocsach_fb_ma.csv', encoding='utf-8')\n",
    "something(maydocsach_fb_ma)"
   ]
  },
  {
   "cell_type": "code",
   "execution_count": 277,
   "id": "151ef2bc",
   "metadata": {},
   "outputs": [
    {
     "name": "stdout",
     "output_type": "stream",
     "text": [
      "Number of Na\n",
      "id              0\n",
      "feedback_id     0\n",
      "manager_id      0\n",
      "manager_name    0\n",
      "content         0\n",
      "time            0\n",
      "dtype: int64\n",
      "Previous number of rows\n",
      "5\n",
      "Number of duplicates\n",
      "0\n"
     ]
    }
   ],
   "source": [
    "maygiat_fb_ma = pd.read_csv('./feedback_manager/maygiat_fb_ma.csv', encoding='utf-8')\n",
    "something(maygiat_fb_ma)"
   ]
  },
  {
   "cell_type": "code",
   "execution_count": 278,
   "id": "39e0dabc",
   "metadata": {},
   "outputs": [
    {
     "name": "stdout",
     "output_type": "stream",
     "text": [
      "Number of Na\n",
      "id              0\n",
      "feedback_id     0\n",
      "manager_id      0\n",
      "manager_name    0\n",
      "content         0\n",
      "time            0\n",
      "dtype: int64\n",
      "Previous number of rows\n",
      "64\n",
      "Number of duplicates\n",
      "26\n",
      "After removing duplicates\n",
      "38\n"
     ]
    }
   ],
   "source": [
    "maytinhbang_fb_ma = pd.read_csv('./feedback_manager/maytinhbang_fb_ma.csv', encoding='utf-8')\n",
    "something(maytinhbang_fb_ma)"
   ]
  },
  {
   "cell_type": "code",
   "execution_count": 279,
   "id": "ee31c6ce",
   "metadata": {},
   "outputs": [
    {
     "name": "stdout",
     "output_type": "stream",
     "text": [
      "Number of Na\n",
      "id              0\n",
      "feedback_id     0\n",
      "manager_id      0\n",
      "manager_name    0\n",
      "content         0\n",
      "time            0\n",
      "dtype: int64\n",
      "Previous number of rows\n",
      "0\n",
      "Number of duplicates\n",
      "0\n"
     ]
    }
   ],
   "source": [
    "maytinhdeban_fb_ma = pd.read_csv('./feedback_manager/maytinhdeban_fb_ma.csv', encoding='utf-8')\n",
    "something(maytinhdeban_fb_ma)"
   ]
  },
  {
   "cell_type": "code",
   "execution_count": 280,
   "id": "fae2aa3f",
   "metadata": {},
   "outputs": [
    {
     "name": "stdout",
     "output_type": "stream",
     "text": [
      "Number of Na\n",
      "id              0\n",
      "feedback_id     0\n",
      "manager_id      0\n",
      "manager_name    0\n",
      "content         0\n",
      "time            1\n",
      "dtype: int64\n",
      "Previous number of rows\n",
      "27\n",
      "Number of duplicates\n",
      "0\n"
     ]
    }
   ],
   "source": [
    "tivi_fb_ma = pd.read_csv('./feedback_manager/tivi_fb_ma.csv', encoding='utf-8')\n",
    "something(tivi_fb_ma)"
   ]
  },
  {
   "cell_type": "code",
   "execution_count": 281,
   "id": "5ff9ab70",
   "metadata": {},
   "outputs": [
    {
     "name": "stdout",
     "output_type": "stream",
     "text": [
      "Number of Na\n",
      "id              0\n",
      "feedback_id     0\n",
      "manager_id      0\n",
      "manager_name    0\n",
      "content         0\n",
      "time            0\n",
      "dtype: int64\n",
      "Previous number of rows\n",
      "3\n",
      "Number of duplicates\n",
      "0\n"
     ]
    }
   ],
   "source": [
    "tulanh_fb_ma = pd.read_csv('./feedback_manager/tulanh_fb_ma.csv', encoding='utf-8')\n",
    "something(tulanh_fb_ma)"
   ]
  },
  {
   "cell_type": "code",
   "execution_count": 282,
   "id": "7f2c3cf5",
   "metadata": {},
   "outputs": [],
   "source": [
    "feedback_ma = pd.concat(\n",
    "    [camera_fb_ma, \n",
    "     dienthoai_fb_ma, \n",
    "     dienthoaiban_fb_ma, \n",
    "     dienthoaiphothong_fb_ma, \n",
    "     dieuhoa_fb_ma, \n",
    "     laptop_fb_ma, \n",
    "     mayanh_fb_ma, \n",
    "     maydocsach_fb_ma, \n",
    "     maygiat_fb_ma, \n",
    "     maytinhbang_fb_ma, \n",
    "     tivi_fb_ma, \n",
    "     tulanh_fb_ma,\n",
    "     maytinhdeban_fb_ma], ignore_index=True\n",
    ")"
   ]
  },
  {
   "cell_type": "code",
   "execution_count": 283,
   "id": "0a3d45fe",
   "metadata": {},
   "outputs": [
    {
     "data": {
      "text/plain": [
       "549"
      ]
     },
     "execution_count": 283,
     "metadata": {},
     "output_type": "execute_result"
    }
   ],
   "source": [
    "len(feedback_ma)"
   ]
  },
  {
   "cell_type": "markdown",
   "id": "f03533d3",
   "metadata": {},
   "source": [
    "feedback_response(id, manager_id, feedback_id, content, created_at)"
   ]
  },
  {
   "cell_type": "code",
   "execution_count": 284,
   "id": "7f3aa248",
   "metadata": {},
   "outputs": [],
   "source": [
    "manager_df = pd.read_csv('../users/data/manager.csv', encoding='utf-8')\n",
    "role_df = pd.read_csv('../users/data/role.csv', encoding='utf-8')\n",
    "manager_df = pd.merge(manager_df, role_df, left_on='role_id', right_on='id', how='left')\n"
   ]
  },
  {
   "cell_type": "code",
   "execution_count": 285,
   "id": "c1ed4d99",
   "metadata": {},
   "outputs": [],
   "source": [
    "service_customer_ids = manager_df['id_x'].unique()"
   ]
  },
  {
   "cell_type": "code",
   "execution_count": 290,
   "id": "49a897b0",
   "metadata": {},
   "outputs": [],
   "source": [
    "feedback_ma['content'] = feedback_ma['content'].str.replace('tiki', 'PTIT-EShop', case=False)"
   ]
  },
  {
   "cell_type": "code",
   "execution_count": 291,
   "id": "8a8bd731",
   "metadata": {},
   "outputs": [],
   "source": [
    "feedback_response_rows = []\n",
    "\n",
    "for index, row in feedback_ma.iterrows():\n",
    "    id = index\n",
    "    manager_id = random.choice(service_customer_ids)\n",
    "    customer_feedback = convert_old_feedback_id_to_new_feedback(str(row['feedback_id']))\n",
    "    feedback_id = customer_feedback['id']\n",
    "    content = row['content']\n",
    "    created_at =  random_skipped_date(customer_feedback['created_at'])\n",
    "\n",
    "    feedback_response_row = {\n",
    "        'id': id,\n",
    "        'manager_id': manager_id,\n",
    "        'feedback_id': feedback_id,\n",
    "        'content': content,\n",
    "        'created_at': created_at\n",
    "    }\n",
    "    feedback_response_rows.append(feedback_response_row)\n",
    "\n",
    "feedback_response_df = pd.DataFrame(feedback_response_rows)"
   ]
  },
  {
   "cell_type": "code",
   "execution_count": 292,
   "id": "8a26ca24",
   "metadata": {},
   "outputs": [
    {
     "data": {
      "text/html": [
       "<div>\n",
       "<style scoped>\n",
       "    .dataframe tbody tr th:only-of-type {\n",
       "        vertical-align: middle;\n",
       "    }\n",
       "\n",
       "    .dataframe tbody tr th {\n",
       "        vertical-align: top;\n",
       "    }\n",
       "\n",
       "    .dataframe thead th {\n",
       "        text-align: right;\n",
       "    }\n",
       "</style>\n",
       "<table border=\"1\" class=\"dataframe\">\n",
       "  <thead>\n",
       "    <tr style=\"text-align: right;\">\n",
       "      <th></th>\n",
       "      <th>id</th>\n",
       "      <th>manager_id</th>\n",
       "      <th>feedback_id</th>\n",
       "      <th>content</th>\n",
       "      <th>created_at</th>\n",
       "    </tr>\n",
       "  </thead>\n",
       "  <tbody>\n",
       "    <tr>\n",
       "      <th>0</th>\n",
       "      <td>0</td>\n",
       "      <td>28</td>\n",
       "      <td>3</td>\n",
       "      <td>Cảm ơn bạn đã tin tưởng PTIT-EShop và cho PTIT...</td>\n",
       "      <td>2024-11-01 00:00:00</td>\n",
       "    </tr>\n",
       "    <tr>\n",
       "      <th>1</th>\n",
       "      <td>1</td>\n",
       "      <td>187</td>\n",
       "      <td>30</td>\n",
       "      <td>PTIT-EShop rất vui khi nhận được đánh giá 5⭐️t...</td>\n",
       "      <td>2025-02-03 00:00:00</td>\n",
       "    </tr>\n",
       "    <tr>\n",
       "      <th>2</th>\n",
       "      <td>2</td>\n",
       "      <td>174</td>\n",
       "      <td>31</td>\n",
       "      <td>Cảm ơn bạn đã để lại nhận xét tại PTIT-EShop. ...</td>\n",
       "      <td>2024-12-13 00:00:00</td>\n",
       "    </tr>\n",
       "    <tr>\n",
       "      <th>3</th>\n",
       "      <td>3</td>\n",
       "      <td>144</td>\n",
       "      <td>32</td>\n",
       "      <td>Cảm ơn bạn đã để lại nhận xét tại PTIT-EShop. ...</td>\n",
       "      <td>2025-04-02 00:00:00</td>\n",
       "    </tr>\n",
       "    <tr>\n",
       "      <th>4</th>\n",
       "      <td>4</td>\n",
       "      <td>30</td>\n",
       "      <td>33</td>\n",
       "      <td>Cảm ơn bạn đã để lại nhận xét tại PTIT-EShop. ...</td>\n",
       "      <td>2024-05-07 00:00:00</td>\n",
       "    </tr>\n",
       "    <tr>\n",
       "      <th>...</th>\n",
       "      <td>...</td>\n",
       "      <td>...</td>\n",
       "      <td>...</td>\n",
       "      <td>...</td>\n",
       "      <td>...</td>\n",
       "    </tr>\n",
       "    <tr>\n",
       "      <th>544</th>\n",
       "      <td>544</td>\n",
       "      <td>184</td>\n",
       "      <td>1569</td>\n",
       "      <td>Chào bạn, PTIT-EShop rất xin lỗi bạn vì đơn hà...</td>\n",
       "      <td>2024-11-20 00:00:00</td>\n",
       "    </tr>\n",
       "    <tr>\n",
       "      <th>545</th>\n",
       "      <td>545</td>\n",
       "      <td>181</td>\n",
       "      <td>1572</td>\n",
       "      <td>Cảm ơn anh đã tin tưởng PTIT-EShop trong suốt ...</td>\n",
       "      <td>2025-04-15 00:00:00</td>\n",
       "    </tr>\n",
       "    <tr>\n",
       "      <th>546</th>\n",
       "      <td>546</td>\n",
       "      <td>114</td>\n",
       "      <td>1762</td>\n",
       "      <td>Chào bạn, PTIT-EShop đã nhận được thông tin đá...</td>\n",
       "      <td>2025-02-13 00:00:00</td>\n",
       "    </tr>\n",
       "    <tr>\n",
       "      <th>547</th>\n",
       "      <td>547</td>\n",
       "      <td>102</td>\n",
       "      <td>1774</td>\n",
       "      <td>Mến chào anh, PTIT-EShop đã nhận được thông ti...</td>\n",
       "      <td>2025-04-12 00:00:00</td>\n",
       "    </tr>\n",
       "    <tr>\n",
       "      <th>548</th>\n",
       "      <td>548</td>\n",
       "      <td>140</td>\n",
       "      <td>1833</td>\n",
       "      <td>Chào bạn, PTIT-EShop đã nhận được thông tin nh...</td>\n",
       "      <td>2025-02-22 00:00:00</td>\n",
       "    </tr>\n",
       "  </tbody>\n",
       "</table>\n",
       "<p>549 rows × 5 columns</p>\n",
       "</div>"
      ],
      "text/plain": [
       "      id  manager_id  feedback_id  \\\n",
       "0      0          28            3   \n",
       "1      1         187           30   \n",
       "2      2         174           31   \n",
       "3      3         144           32   \n",
       "4      4          30           33   \n",
       "..   ...         ...          ...   \n",
       "544  544         184         1569   \n",
       "545  545         181         1572   \n",
       "546  546         114         1762   \n",
       "547  547         102         1774   \n",
       "548  548         140         1833   \n",
       "\n",
       "                                               content           created_at  \n",
       "0    Cảm ơn bạn đã tin tưởng PTIT-EShop và cho PTIT...  2024-11-01 00:00:00  \n",
       "1    PTIT-EShop rất vui khi nhận được đánh giá 5⭐️t...  2025-02-03 00:00:00  \n",
       "2    Cảm ơn bạn đã để lại nhận xét tại PTIT-EShop. ...  2024-12-13 00:00:00  \n",
       "3    Cảm ơn bạn đã để lại nhận xét tại PTIT-EShop. ...  2025-04-02 00:00:00  \n",
       "4    Cảm ơn bạn đã để lại nhận xét tại PTIT-EShop. ...  2024-05-07 00:00:00  \n",
       "..                                                 ...                  ...  \n",
       "544  Chào bạn, PTIT-EShop rất xin lỗi bạn vì đơn hà...  2024-11-20 00:00:00  \n",
       "545  Cảm ơn anh đã tin tưởng PTIT-EShop trong suốt ...  2025-04-15 00:00:00  \n",
       "546  Chào bạn, PTIT-EShop đã nhận được thông tin đá...  2025-02-13 00:00:00  \n",
       "547  Mến chào anh, PTIT-EShop đã nhận được thông ti...  2025-04-12 00:00:00  \n",
       "548  Chào bạn, PTIT-EShop đã nhận được thông tin nh...  2025-02-22 00:00:00  \n",
       "\n",
       "[549 rows x 5 columns]"
      ]
     },
     "execution_count": 292,
     "metadata": {},
     "output_type": "execute_result"
    }
   ],
   "source": [
    "feedback_response_df"
   ]
  },
  {
   "cell_type": "code",
   "execution_count": 297,
   "id": "734a5cc8",
   "metadata": {},
   "outputs": [],
   "source": [
    "feedback_response_df.to_csv('./transformedData/feedback_response.csv', index=False, encoding='utf-8-sig')"
   ]
  },
  {
   "cell_type": "markdown",
   "id": "ff2184a3",
   "metadata": {},
   "source": [
    "### Discount"
   ]
  },
  {
   "cell_type": "markdown",
   "id": "fc3d9cd0",
   "metadata": {},
   "source": [
    "discount(id, product_variant_id, code, name, type, value, status, start_date, end_date)"
   ]
  },
  {
   "cell_type": "code",
   "execution_count": null,
   "id": "98695026",
   "metadata": {},
   "outputs": [],
   "source": [
    "def discount_value(type: str, cost_price: float, price: float, min_discount=0.05, max_discount=0.3, min_profit=0.05):\n",
    "    valid_discounts = []\n",
    "    \n",
    "    for i in range(int(min_discount * 100), int(max_discount * 100) + 1):\n",
    "        discount_rate = i / 100\n",
    "        discounted_price = price * (1 - discount_rate)\n",
    "\n",
    "        if discounted_price > cost_price * (1 + min_profit):\n",
    "            valid_discounts.append({\n",
    "                'rate': discount_rate,\n",
    "                'price': discounted_price,\n",
    "            })\n",
    "    \n",
    "    if valid_discounts:\n",
    "        return random.choice(valid_discounts)\n",
    "    else:\n",
    "        return \n",
    "    \n",
    "\n"
   ]
  },
  {
   "cell_type": "code",
   "execution_count": null,
   "id": "f2bf8f1c",
   "metadata": {},
   "outputs": [
    {
     "data": {
      "text/plain": [
       "['000651',\n",
       " '003088',\n",
       " '002191',\n",
       " '002052',\n",
       " '002394',\n",
       " '003475',\n",
       " '000769',\n",
       " '001231',\n",
       " '002183',\n",
       " '003072',\n",
       " '002272',\n",
       " '002625',\n",
       " '000984',\n",
       " '001087',\n",
       " '001812',\n",
       " '000256',\n",
       " '000804',\n",
       " '003228',\n",
       " '003654',\n",
       " '002831',\n",
       " '000749',\n",
       " '002410',\n",
       " '000244',\n",
       " '001563',\n",
       " '003086',\n",
       " '001067',\n",
       " '000364',\n",
       " '003320',\n",
       " '000803',\n",
       " '001036',\n",
       " '000537',\n",
       " '000966',\n",
       " '000893',\n",
       " '001407',\n",
       " '001506',\n",
       " '001081',\n",
       " '002685',\n",
       " '003263',\n",
       " '001567',\n",
       " '001890',\n",
       " '001589',\n",
       " '002265',\n",
       " '000906',\n",
       " '001684',\n",
       " '002411',\n",
       " '002505',\n",
       " '002444',\n",
       " '000563',\n",
       " '002264',\n",
       " '002965',\n",
       " '001214',\n",
       " '001991',\n",
       " '002182',\n",
       " '001420',\n",
       " '000204',\n",
       " '002968',\n",
       " '003645',\n",
       " '002859',\n",
       " '002833',\n",
       " '002522',\n",
       " '000265',\n",
       " '002563',\n",
       " '003646',\n",
       " '002758',\n",
       " '000237',\n",
       " '000106',\n",
       " '001740',\n",
       " '000925',\n",
       " '001001',\n",
       " '001522',\n",
       " '001209',\n",
       " '003493',\n",
       " '002459',\n",
       " '002668',\n",
       " '001967',\n",
       " '003449',\n",
       " '002143',\n",
       " '003404',\n",
       " '000368',\n",
       " '000474',\n",
       " '000742',\n",
       " '000752',\n",
       " '003110',\n",
       " '000745',\n",
       " '001337',\n",
       " '002311',\n",
       " '000933',\n",
       " '001468',\n",
       " '003421',\n",
       " '002480',\n",
       " '001498',\n",
       " '000668',\n",
       " '000648',\n",
       " '003196',\n",
       " '000997',\n",
       " '001814',\n",
       " '002425',\n",
       " '001288',\n",
       " '002046',\n",
       " '003090',\n",
       " '002438',\n",
       " '001528',\n",
       " '000379',\n",
       " '000757',\n",
       " '003465',\n",
       " '000453',\n",
       " '001408',\n",
       " '001636',\n",
       " '000546',\n",
       " '002195',\n",
       " '002483',\n",
       " '001970',\n",
       " '000419',\n",
       " '002418',\n",
       " '002785',\n",
       " '002626',\n",
       " '001356',\n",
       " '000623',\n",
       " '002324',\n",
       " '000708',\n",
       " '003472',\n",
       " '002256',\n",
       " '002797',\n",
       " '000952',\n",
       " '003479',\n",
       " '003680',\n",
       " '001235',\n",
       " '003080',\n",
       " '003243',\n",
       " '003128',\n",
       " '001319',\n",
       " '002888',\n",
       " '003076',\n",
       " '001265',\n",
       " '002583',\n",
       " '000619',\n",
       " '000201',\n",
       " '001365',\n",
       " '000469',\n",
       " '002620',\n",
       " '000358',\n",
       " '000352',\n",
       " '003362',\n",
       " '001166',\n",
       " '001078',\n",
       " '002501',\n",
       " '002690',\n",
       " '002837',\n",
       " '000917',\n",
       " '001110',\n",
       " '003146',\n",
       " '001543',\n",
       " '000309',\n",
       " '001742',\n",
       " '003612',\n",
       " '001425',\n",
       " '002885',\n",
       " '000205',\n",
       " '003399',\n",
       " '002076',\n",
       " '001492',\n",
       " '003137',\n",
       " '003485',\n",
       " '000400',\n",
       " '003522',\n",
       " '000203',\n",
       " '000530',\n",
       " '003513',\n",
       " '003582',\n",
       " '000653',\n",
       " '003441',\n",
       " '000331',\n",
       " '001608',\n",
       " '003351',\n",
       " '003576',\n",
       " '002880',\n",
       " '000559',\n",
       " '002632',\n",
       " '003650',\n",
       " '000277',\n",
       " '001710',\n",
       " '001121',\n",
       " '000927',\n",
       " '003665',\n",
       " '001669',\n",
       " '001122',\n",
       " '002973',\n",
       " '000664',\n",
       " '000864',\n",
       " '003575',\n",
       " '003025',\n",
       " '001675',\n",
       " '002019',\n",
       " '000628',\n",
       " '002427',\n",
       " '001952',\n",
       " '003217',\n",
       " '000218',\n",
       " '001719',\n",
       " '001259',\n",
       " '002249',\n",
       " '003151',\n",
       " '003246',\n",
       " '002072',\n",
       " '003492',\n",
       " '000073',\n",
       " '002815',\n",
       " '003067',\n",
       " '002363',\n",
       " '000077',\n",
       " '003274',\n",
       " '000735',\n",
       " '000844',\n",
       " '000539',\n",
       " '001326',\n",
       " '001898',\n",
       " '001490',\n",
       " '003477',\n",
       " '003103',\n",
       " '000555',\n",
       " '003416',\n",
       " '003641',\n",
       " '000312',\n",
       " '001600',\n",
       " '003411',\n",
       " '003462',\n",
       " '003606',\n",
       " '003518',\n",
       " '001421',\n",
       " '002065',\n",
       " '000693',\n",
       " '000349',\n",
       " '002803',\n",
       " '002026',\n",
       " '001008',\n",
       " '003529',\n",
       " '000404',\n",
       " '003248',\n",
       " '000248',\n",
       " '000288',\n",
       " '001033',\n",
       " '001211',\n",
       " '003677',\n",
       " '002809',\n",
       " '002302',\n",
       " '003614',\n",
       " '002322',\n",
       " '002630',\n",
       " '001906',\n",
       " '002777',\n",
       " '003285',\n",
       " '001834',\n",
       " '001482',\n",
       " '003249',\n",
       " '001957',\n",
       " '000809',\n",
       " '002468',\n",
       " '003390',\n",
       " '002451',\n",
       " '000829',\n",
       " '003549',\n",
       " '000222',\n",
       " '002088',\n",
       " '000507',\n",
       " '000482',\n",
       " '001593',\n",
       " '000224',\n",
       " '002998',\n",
       " '001320',\n",
       " '002003',\n",
       " '003260',\n",
       " '000491',\n",
       " '003368',\n",
       " '002057',\n",
       " '000759',\n",
       " '003261',\n",
       " '001228',\n",
       " '002581',\n",
       " '002585',\n",
       " '001054',\n",
       " '001561',\n",
       " '002927',\n",
       " '000955',\n",
       " '003342',\n",
       " '001414',\n",
       " '000418',\n",
       " '001363',\n",
       " '000194',\n",
       " '000084',\n",
       " '002328',\n",
       " '000175',\n",
       " '000839',\n",
       " '000101',\n",
       " '003379',\n",
       " '001470',\n",
       " '002549',\n",
       " '001787',\n",
       " '003458',\n",
       " '000176',\n",
       " '000318',\n",
       " '003197',\n",
       " '000990',\n",
       " '000076',\n",
       " '000314',\n",
       " '000694',\n",
       " '002722',\n",
       " '003292',\n",
       " '003001',\n",
       " '002259',\n",
       " '001342',\n",
       " '001999',\n",
       " '003035',\n",
       " '000885',\n",
       " '002428',\n",
       " '003585',\n",
       " '003507',\n",
       " '000698',\n",
       " '000920',\n",
       " '003048',\n",
       " '003277',\n",
       " '000972',\n",
       " '002629',\n",
       " '003026',\n",
       " '000522',\n",
       " '003527',\n",
       " '001915',\n",
       " '003534',\n",
       " '000247',\n",
       " '001399',\n",
       " '003401',\n",
       " '002938',\n",
       " '000195',\n",
       " '002353',\n",
       " '000718',\n",
       " '002126',\n",
       " '003487',\n",
       " '003290',\n",
       " '001944',\n",
       " '001715',\n",
       " '002655',\n",
       " '000703',\n",
       " '000903',\n",
       " '000166',\n",
       " '003473',\n",
       " '001003',\n",
       " '000685',\n",
       " '000242',\n",
       " '000941',\n",
       " '001823',\n",
       " '003535',\n",
       " '001486',\n",
       " '000117',\n",
       " '000985',\n",
       " '001234',\n",
       " '000987',\n",
       " '003129',\n",
       " '003420',\n",
       " '001012',\n",
       " '003434',\n",
       " '000528',\n",
       " '001312',\n",
       " '001955',\n",
       " '000070',\n",
       " '002994',\n",
       " '001086',\n",
       " '002503',\n",
       " '003308',\n",
       " '002462',\n",
       " '001865',\n",
       " '002040',\n",
       " '001438',\n",
       " '002397',\n",
       " '003280',\n",
       " '000016',\n",
       " '002700',\n",
       " '002937',\n",
       " '002111',\n",
       " '000585',\n",
       " '000789',\n",
       " '001103',\n",
       " '002178',\n",
       " '000484',\n",
       " '000398',\n",
       " '002891',\n",
       " '000154',\n",
       " '003008',\n",
       " '000913',\n",
       " '001826',\n",
       " '001553',\n",
       " '000723',\n",
       " '003698',\n",
       " '001928',\n",
       " '002985',\n",
       " '002957',\n",
       " '001372',\n",
       " '001417',\n",
       " '002369',\n",
       " '001366',\n",
       " '001311',\n",
       " '001584',\n",
       " '002119',\n",
       " '001048',\n",
       " '002240',\n",
       " '000377',\n",
       " '002679',\n",
       " '002771',\n",
       " '003121',\n",
       " '000354',\n",
       " '001559',\n",
       " '002530',\n",
       " '002535',\n",
       " '003515',\n",
       " '001907',\n",
       " '001345',\n",
       " '001766',\n",
       " '002694',\n",
       " '002642',\n",
       " '001386',\n",
       " '002433',\n",
       " '001126',\n",
       " '000968',\n",
       " '000345',\n",
       " '001573',\n",
       " '003140',\n",
       " '000310',\n",
       " '001924',\n",
       " '001268',\n",
       " '000496',\n",
       " '001973',\n",
       " '002609',\n",
       " '002048',\n",
       " '002863',\n",
       " '003056',\n",
       " '002731',\n",
       " '000518',\n",
       " '001904',\n",
       " '000047',\n",
       " '001995',\n",
       " '000862',\n",
       " '002781',\n",
       " '002556',\n",
       " '002876',\n",
       " '001759',\n",
       " '001776',\n",
       " '003410',\n",
       " '001772',\n",
       " '000141',\n",
       " '001905',\n",
       " '003439',\n",
       " '001129',\n",
       " '003648',\n",
       " '002074',\n",
       " '000360',\n",
       " '003482',\n",
       " '000561',\n",
       " '000607',\n",
       " '002948',\n",
       " '000251',\n",
       " '003367',\n",
       " '002742',\n",
       " '002158',\n",
       " '000019',\n",
       " '003333',\n",
       " '001592',\n",
       " '001744',\n",
       " '002275',\n",
       " '001741',\n",
       " '002872',\n",
       " '000455',\n",
       " '003257',\n",
       " '000792',\n",
       " '001437',\n",
       " '002471',\n",
       " '000396',\n",
       " '002267',\n",
       " '002269',\n",
       " '002378',\n",
       " '001005',\n",
       " '002656',\n",
       " '001822',\n",
       " '002033',\n",
       " '000153',\n",
       " '001891',\n",
       " '000494',\n",
       " '000249',\n",
       " '002646',\n",
       " '002323',\n",
       " '001819',\n",
       " '002657',\n",
       " '000889',\n",
       " '003033',\n",
       " '001718',\n",
       " '001141',\n",
       " '001931',\n",
       " '001758',\n",
       " '002739',\n",
       " '001296',\n",
       " '001138',\n",
       " '000529',\n",
       " '002200',\n",
       " '000939',\n",
       " '002812',\n",
       " '001463',\n",
       " '002161',\n",
       " '001194',\n",
       " '001908',\n",
       " '002454',\n",
       " '001656',\n",
       " '000459',\n",
       " '002776',\n",
       " '001665',\n",
       " '003104',\n",
       " '000449',\n",
       " '003309',\n",
       " '003117',\n",
       " '001771',\n",
       " '003322',\n",
       " '003681',\n",
       " '002494',\n",
       " '001701',\n",
       " '001044',\n",
       " '001747',\n",
       " '003521',\n",
       " '003306',\n",
       " '002215',\n",
       " '002481',\n",
       " '003193',\n",
       " '003569',\n",
       " '002484',\n",
       " '000037',\n",
       " '002148',\n",
       " '003692',\n",
       " '003616',\n",
       " '003520',\n",
       " '001135',\n",
       " '001789',\n",
       " '000621',\n",
       " '001137',\n",
       " '003509',\n",
       " '000760',\n",
       " '002086',\n",
       " '003259',\n",
       " '001790',\n",
       " '001532',\n",
       " '002099',\n",
       " '002524',\n",
       " '001841',\n",
       " '001886',\n",
       " '003127',\n",
       " '000361',\n",
       " '003427',\n",
       " '000750',\n",
       " '001344',\n",
       " '002622',\n",
       " '000093',\n",
       " '002018',\n",
       " '000391',\n",
       " '000572',\n",
       " '002689',\n",
       " '001901',\n",
       " '001972',\n",
       " '000895',\n",
       " '000074',\n",
       " '000603',\n",
       " '000263',\n",
       " '000307',\n",
       " '002167',\n",
       " '002281',\n",
       " '002243',\n",
       " '000134',\n",
       " '000049',\n",
       " '001820',\n",
       " '001797',\n",
       " '001243',\n",
       " '001160',\n",
       " '000150',\n",
       " '003693',\n",
       " '001996',\n",
       " '003637',\n",
       " '001088',\n",
       " '003141',\n",
       " '001616',\n",
       " '001882',\n",
       " '000430',\n",
       " '000311',\n",
       " '001100',\n",
       " '000830',\n",
       " '003568',\n",
       " '000687',\n",
       " '002980',\n",
       " '001871',\n",
       " '002162',\n",
       " '003236',\n",
       " '000931',\n",
       " '002546',\n",
       " '001643',\n",
       " '001385',\n",
       " '002567',\n",
       " '001618',\n",
       " '000023',\n",
       " '003459',\n",
       " '000380',\n",
       " '001857',\n",
       " '001395',\n",
       " '001373',\n",
       " '002039',\n",
       " '002253',\n",
       " '002907',\n",
       " '000321',\n",
       " '003450',\n",
       " '003083',\n",
       " '001926',\n",
       " '000346',\n",
       " '001444',\n",
       " '000326',\n",
       " '002237',\n",
       " '001674',\n",
       " '000503',\n",
       " '000726',\n",
       " '003252',\n",
       " '001894',\n",
       " '001246',\n",
       " '000998',\n",
       " '002070',\n",
       " '000403',\n",
       " '001752',\n",
       " '000308',\n",
       " '003373',\n",
       " '003054',\n",
       " '002909',\n",
       " '002555',\n",
       " '000344',\n",
       " '003624',\n",
       " '002301',\n",
       " '002381',\n",
       " '000605',\n",
       " '000527',\n",
       " '003024',\n",
       " '002716',\n",
       " '002523',\n",
       " '002536',\n",
       " '001073',\n",
       " '002611',\n",
       " '003266',\n",
       " '002671',\n",
       " '003039',\n",
       " '001128',\n",
       " '001529',\n",
       " '002939',\n",
       " '000535',\n",
       " '000238',\n",
       " '001808',\n",
       " '000186',\n",
       " '003182',\n",
       " '000901',\n",
       " '002750',\n",
       " '001449',\n",
       " '002209',\n",
       " '001595',\n",
       " '002061',\n",
       " '002090',\n",
       " '000665',\n",
       " '003403',\n",
       " '003383',\n",
       " '003407',\n",
       " '000921',\n",
       " '000654',\n",
       " '002790',\n",
       " '002010',\n",
       " '000339',\n",
       " '003170',\n",
       " '001308',\n",
       " '003598',\n",
       " '001269',\n",
       " '003132',\n",
       " '000132',\n",
       " '001838',\n",
       " '002560',\n",
       " '003343',\n",
       " '001620',\n",
       " '002841',\n",
       " '001642',\n",
       " '001286',\n",
       " '000052',\n",
       " '002455',\n",
       " '003551',\n",
       " '002431',\n",
       " '003238',\n",
       " '002932',\n",
       " '003631',\n",
       " '003100',\n",
       " '003595',\n",
       " '000695',\n",
       " '000942',\n",
       " '000884',\n",
       " '000137',\n",
       " '003548',\n",
       " '003519',\n",
       " '002989',\n",
       " '001720',\n",
       " '000059',\n",
       " '002755',\n",
       " '001566',\n",
       " '000010',\n",
       " '002913',\n",
       " '000834',\n",
       " '002541',\n",
       " '000816',\n",
       " '003514',\n",
       " '000753',\n",
       " '002999',\n",
       " '000620',\n",
       " '000627',\n",
       " '002210',\n",
       " '001050',\n",
       " '001336',\n",
       " '001990',\n",
       " '000650',\n",
       " '000454',\n",
       " '002181',\n",
       " '002317',\n",
       " '001169',\n",
       " '003642',\n",
       " '001120',\n",
       " '002238',\n",
       " '002121',\n",
       " '001511',\n",
       " '002276',\n",
       " '002754',\n",
       " '000387',\n",
       " '002107',\n",
       " '001604',\n",
       " '002840',\n",
       " '000042',\n",
       " '002710',\n",
       " '001724',\n",
       " '002437',\n",
       " '001807',\n",
       " '003270',\n",
       " '001864',\n",
       " '000798',\n",
       " '002413',\n",
       " '001708',\n",
       " '001370',\n",
       " '000656',\n",
       " '001959',\n",
       " '001236',\n",
       " '000794',\n",
       " '000667',\n",
       " '002544',\n",
       " '001743',\n",
       " '003190',\n",
       " '001542',\n",
       " '002795',\n",
       " '003230',\n",
       " '003219',\n",
       " '000671',\n",
       " '002371',\n",
       " '000483',\n",
       " '001546',\n",
       " '003057',\n",
       " '003205',\n",
       " '000035',\n",
       " '002034',\n",
       " '003378',\n",
       " '000552',\n",
       " '000763',\n",
       " '000853',\n",
       " '000142',\n",
       " '003422',\n",
       " '000169',\n",
       " '000776',\n",
       " '002078',\n",
       " '001299',\n",
       " '002652',\n",
       " '000810',\n",
       " '002450',\n",
       " '001199',\n",
       " '000004',\n",
       " '000289',\n",
       " '002602',\n",
       " '003452',\n",
       " '001167',\n",
       " '002663',\n",
       " '002638',\n",
       " '002028',\n",
       " '002977',\n",
       " '002473',\n",
       " '000615',\n",
       " '000560',\n",
       " '001796',\n",
       " '000611',\n",
       " '001706',\n",
       " '002346',\n",
       " '001695',\n",
       " '003287',\n",
       " '000669',\n",
       " '002683',\n",
       " '001284',\n",
       " '003490',\n",
       " '000784',\n",
       " '000932',\n",
       " '000054',\n",
       " '000258',\n",
       " '000243',\n",
       " '002946',\n",
       " '002066',\n",
       " '000135',\n",
       " '002189',\n",
       " '000786',\n",
       " '002414',\n",
       " '000193',\n",
       " '000970',\n",
       " '000293',\n",
       " '001603',\n",
       " '000766',\n",
       " '000675',\n",
       " '002664',\n",
       " '003382',\n",
       " '003295',\n",
       " '001650',\n",
       " '002881',\n",
       " '002958',\n",
       " '000261',\n",
       " '001582',\n",
       " '003085',\n",
       " '003418',\n",
       " '000440',\n",
       " '000908',\n",
       " '002805',\n",
       " '002109',\n",
       " '000333',\n",
       " '001301',\n",
       " '001866',\n",
       " '001548',\n",
       " '002686',\n",
       " '002532',\n",
       " '003213',\n",
       " '001148',\n",
       " '003627',\n",
       " '002606',\n",
       " '000335',\n",
       " '002164',\n",
       " '002928',\n",
       " '002719',\n",
       " '003125',\n",
       " '002201',\n",
       " '002417',\n",
       " '002764',\n",
       " '000644',\n",
       " '000179',\n",
       " '001745',\n",
       " '000872',\n",
       " '003469',\n",
       " '000630',\n",
       " '001431',\n",
       " '002774',\n",
       " '002827',\n",
       " '000764',\n",
       " '001434',\n",
       " '002475',\n",
       " '000240',\n",
       " '002342',\n",
       " '003321',\n",
       " '000719',\n",
       " '003445',\n",
       " '003059',\n",
       " '001264',\n",
       " '002285',\n",
       " '001638',\n",
       " '000290',\n",
       " '003143',\n",
       " '000057',\n",
       " '003221',\n",
       " '001125',\n",
       " '000235',\n",
       " '003488',\n",
       " '000065',\n",
       " '003556',\n",
       " '001935',\n",
       " '001062',\n",
       " '000866',\n",
       " '002778',\n",
       " '003064',\n",
       " '000350',\n",
       " '002024',\n",
       " '001854',\n",
       " '002355',\n",
       " '000965',\n",
       " '000088',\n",
       " '003690',\n",
       " '001945',\n",
       " '002507',\n",
       " '002344',\n",
       " '000678',\n",
       " '000835',\n",
       " '002545',\n",
       " '002279',\n",
       " '000992',\n",
       " '002222',\n",
       " '002601',\n",
       " '000144',\n",
       " '000640',\n",
       " '000342',\n",
       " '002879',\n",
       " '001358',\n",
       " '001302',\n",
       " '002817',\n",
       " '001339',\n",
       " '003405',\n",
       " '000192',\n",
       " '002641',\n",
       " '000961',\n",
       " '000977',\n",
       " '001757',\n",
       " '001690',\n",
       " '001158',\n",
       " '002152',\n",
       " '001791',\n",
       " '002610',\n",
       " '003074',\n",
       " '000431',\n",
       " '003200',\n",
       " '003696',\n",
       " '002453',\n",
       " '000731',\n",
       " '001424',\n",
       " '001564',\n",
       " '000713',\n",
       " '002548',\n",
       " '003374',\n",
       " '002699',\n",
       " '001627',\n",
       " '001978',\n",
       " '000545',\n",
       " '001324',\n",
       " '002765',\n",
       " '001413',\n",
       " '002600',\n",
       " '001989',\n",
       " '002365',\n",
       " '002062',\n",
       " '002092',\n",
       " '001571',\n",
       " '000755',\n",
       " '001591',\n",
       " '003317',\n",
       " '002364',\n",
       " '000612',\n",
       " '000580',\n",
       " '003516',\n",
       " '002423',\n",
       " '000928',\n",
       " '001398',\n",
       " '003491',\n",
       " '002959',\n",
       " '003528',\n",
       " '003060',\n",
       " '001767',\n",
       " '003226',\n",
       " '002338',\n",
       " '002376',\n",
       " '002570',\n",
       " '002895',\n",
       " '000098',\n",
       " '000564',\n",
       " '002675',\n",
       " '001536',\n",
       " '003414',\n",
       " '001514',\n",
       " '000709',\n",
       " '002294',\n",
       " '003697',\n",
       " '001844',\n",
       " '000946',\n",
       " '002676',\n",
       " '002360',\n",
       " '003156',\n",
       " '002179',\n",
       " '000266',\n",
       " '000008',\n",
       " '003664',\n",
       " '002204',\n",
       " '002654',\n",
       " '002443',\n",
       " '000002',\n",
       " '001583',\n",
       " '002916',\n",
       " '000113',\n",
       " '002666',\n",
       " '001929',\n",
       " '000415',\n",
       " '000902',\n",
       " '000316',\n",
       " '001272',\n",
       " '000736',\n",
       " '001962',\n",
       " '000445',\n",
       " '001059',\n",
       " '000567']"
      ]
     },
     "execution_count": 305,
     "metadata": {},
     "output_type": "execute_result"
    }
   ],
   "source": [
    "types = ['Percentage', 'FixedAmount']\n",
    "status = ['Active', 'Inactive', 'Expired']\n",
    "\n",
    "discount_row = []\n",
    "\n",
    "random_product_variant_ids = product_variant['id'].sample(n=1000).tolist()\n",
    "\n",
    "for index, product_variant_id in enumerate(random_product_variant_ids):\n",
    "    \n",
    "    random_string = ''.join(random.choices('ABCDEFGHIJKLMNOPQRSTUVWXYZ0123456789', k=random.randint(12)))\n",
    "\n",
    "    row = {\n",
    "        'id': index,\n",
    "        'product_variant_id': product_variant_id,\n",
    "        'code':  random_string,\n",
    "        'type': random.choice(types),\n",
    "    }\n",
    "    \n",
    "\n",
    "\n"
   ]
  }
 ],
 "metadata": {
  "kernelspec": {
   "display_name": "venv",
   "language": "python",
   "name": "python3"
  },
  "language_info": {
   "codemirror_mode": {
    "name": "ipython",
    "version": 3
   },
   "file_extension": ".py",
   "mimetype": "text/x-python",
   "name": "python",
   "nbconvert_exporter": "python",
   "pygments_lexer": "ipython3",
   "version": "3.13.1"
  }
 },
 "nbformat": 4,
 "nbformat_minor": 5
}
