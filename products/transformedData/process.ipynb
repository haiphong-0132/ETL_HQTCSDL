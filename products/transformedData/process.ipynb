{
 "cells": [
  {
   "cell_type": "code",
   "execution_count": 346,
   "id": "e648158c",
   "metadata": {},
   "outputs": [],
   "source": [
    "import pandas as pd\n",
    "import numpy as np\n",
    "# haiz"
   ]
  },
  {
   "cell_type": "markdown",
   "id": "abf2efc4",
   "metadata": {},
   "source": [
    "### Đặt lại danh mục sản phẩm"
   ]
  },
  {
   "cell_type": "markdown",
   "id": "3361a048",
   "metadata": {},
   "source": [
    "#### Điện thoại"
   ]
  },
  {
   "cell_type": "code",
   "execution_count": 347,
   "id": "53214c35",
   "metadata": {},
   "outputs": [],
   "source": [
    "dienthoai = pd.read_csv('../rawData/dienthoai.csv', encoding='utf-8')"
   ]
  },
  {
   "cell_type": "markdown",
   "id": "e4e3844e",
   "metadata": {},
   "source": [
    "Kiểm tra giá trị trùng lặp"
   ]
  },
  {
   "cell_type": "code",
   "execution_count": 348,
   "id": "dcc81a36",
   "metadata": {},
   "outputs": [
    {
     "name": "stdout",
     "output_type": "stream",
     "text": [
      "19\n"
     ]
    }
   ],
   "source": [
    "# Check for duplicate values in the DataFrame\n",
    "print(dienthoai.duplicated().sum())\n",
    "\n",
    "# Remove duplicate rows from the DataFrame\n",
    "dienthoai = dienthoai.drop_duplicates()"
   ]
  },
  {
   "cell_type": "markdown",
   "id": "13fef6a4",
   "metadata": {},
   "source": [
    "Kiểm tra giá trị thiếu"
   ]
  },
  {
   "cell_type": "code",
   "execution_count": 349,
   "id": "d77c735e",
   "metadata": {},
   "outputs": [
    {
     "name": "stdout",
     "output_type": "stream",
     "text": [
      "Id                   0\n",
      "Tên sản phẩm         0\n",
      "Thương hiệu          0\n",
      "Danh mục             0\n",
      "Thông số kỹ thuật    0\n",
      "Phiên bản            0\n",
      "Mô tả                0\n",
      "Hình ảnh             0\n",
      "dtype: int64\n"
     ]
    }
   ],
   "source": [
    "# Check for missing values in the DataFrame\n",
    "print(dienthoai.isnull().sum())\n"
   ]
  },
  {
   "cell_type": "code",
   "execution_count": 350,
   "id": "fb5d090b",
   "metadata": {},
   "outputs": [
    {
     "data": {
      "text/plain": [
       "Danh mục\n",
       "Điện thoại Smartphone         196\n",
       "Điện Thoại - Máy Tính Bảng     12\n",
       "Phụ kiện                        9\n",
       "Root                            1\n",
       "Name: count, dtype: int64"
      ]
     },
     "execution_count": 350,
     "metadata": {},
     "output_type": "execute_result"
    }
   ],
   "source": [
    "dienthoai['Danh mục'].value_counts()"
   ]
  },
  {
   "cell_type": "markdown",
   "id": "ad2e960d",
   "metadata": {},
   "source": [
    "Chuyển hết sản phẩm thuộc danh mục Điện Thoại - Máy Tính Bản, Root vào Điện thoại Smartphone"
   ]
  },
  {
   "cell_type": "code",
   "execution_count": 351,
   "id": "4c5d8991",
   "metadata": {},
   "outputs": [],
   "source": [
    "df1 = dienthoai\n",
    "\n",
    "df1['Danh mục'] = df1['Danh mục'].replace(\n",
    "    {\n",
    "        'Điện Thoại - Máy Tính Bảng': 'Điện thoại Smartphone',\n",
    "        'Root': 'Điện thoại Smartphone',\n",
    "        'Phụ kiện': 'Phụ kiện điện thoại',\n",
    "    }\n",
    ")"
   ]
  },
  {
   "cell_type": "code",
   "execution_count": 352,
   "id": "aad8f572",
   "metadata": {},
   "outputs": [
    {
     "data": {
      "text/plain": [
       "Danh mục\n",
       "Điện thoại Smartphone    209\n",
       "Phụ kiện điện thoại        9\n",
       "Name: count, dtype: int64"
      ]
     },
     "execution_count": 352,
     "metadata": {},
     "output_type": "execute_result"
    }
   ],
   "source": [
    "df1['Danh mục'].value_counts()"
   ]
  },
  {
   "cell_type": "markdown",
   "id": "b6407fee",
   "metadata": {},
   "source": [
    "#### Điện thoại bàn"
   ]
  },
  {
   "cell_type": "code",
   "execution_count": 353,
   "id": "e6a7526f",
   "metadata": {},
   "outputs": [],
   "source": [
    "mayban = pd.read_csv('../rawData/dienthoaiban.csv', encoding='utf-8')"
   ]
  },
  {
   "cell_type": "markdown",
   "id": "b1d43275",
   "metadata": {},
   "source": [
    "Kiểm tra giá trị trùng lặp"
   ]
  },
  {
   "cell_type": "code",
   "execution_count": 354,
   "id": "02ffcd5b",
   "metadata": {},
   "outputs": [
    {
     "name": "stdout",
     "output_type": "stream",
     "text": [
      "0\n"
     ]
    }
   ],
   "source": [
    "# Check for duplicate values in the DataFrame\n",
    "print(mayban.duplicated().sum())"
   ]
  },
  {
   "cell_type": "markdown",
   "id": "b31230f6",
   "metadata": {},
   "source": [
    "Kiểm tra giá trị thiếu"
   ]
  },
  {
   "cell_type": "code",
   "execution_count": 355,
   "id": "cc819ebe",
   "metadata": {},
   "outputs": [
    {
     "name": "stdout",
     "output_type": "stream",
     "text": [
      "Id                   0\n",
      "Tên sản phẩm         0\n",
      "Thương hiệu          0\n",
      "Danh mục             0\n",
      "Thông số kỹ thuật    0\n",
      "Phiên bản            0\n",
      "Mô tả                0\n",
      "Hình ảnh             0\n",
      "dtype: int64\n"
     ]
    }
   ],
   "source": [
    "# Check for missing values in the DataFrame\n",
    "print(mayban.isnull().sum())"
   ]
  },
  {
   "cell_type": "markdown",
   "id": "12b83c1d",
   "metadata": {},
   "source": [
    "Đặt danh mục của tất cả sản phẩm là ``Điện thoại bàn``"
   ]
  },
  {
   "cell_type": "code",
   "execution_count": 356,
   "id": "3439314b",
   "metadata": {},
   "outputs": [],
   "source": [
    "mayban['Danh mục'] = 'Điện thoại bàn'"
   ]
  },
  {
   "cell_type": "code",
   "execution_count": 357,
   "id": "0bfd7895",
   "metadata": {},
   "outputs": [
    {
     "data": {
      "text/plain": [
       "Danh mục\n",
       "Điện thoại bàn    50\n",
       "Name: count, dtype: int64"
      ]
     },
     "execution_count": 357,
     "metadata": {},
     "output_type": "execute_result"
    }
   ],
   "source": [
    "mayban['Danh mục'].value_counts()"
   ]
  },
  {
   "cell_type": "markdown",
   "id": "15a3b913",
   "metadata": {},
   "source": [
    "#### Điện thoại phổ thông"
   ]
  },
  {
   "cell_type": "code",
   "execution_count": 358,
   "id": "c06c9ea4",
   "metadata": {},
   "outputs": [],
   "source": [
    "cucgach = pd.read_csv('../rawData/dienthoaiphothong.csv', encoding='utf-8')"
   ]
  },
  {
   "cell_type": "markdown",
   "id": "25683b7f",
   "metadata": {},
   "source": [
    "Kiểm tra giá trị trùng lặp"
   ]
  },
  {
   "cell_type": "code",
   "execution_count": 359,
   "id": "3fb4d56a",
   "metadata": {},
   "outputs": [
    {
     "name": "stdout",
     "output_type": "stream",
     "text": [
      "0\n"
     ]
    }
   ],
   "source": [
    "# Check for duplicate values in the DataFrame\n",
    "print(cucgach.duplicated().sum())"
   ]
  },
  {
   "cell_type": "markdown",
   "id": "530f6b32",
   "metadata": {},
   "source": [
    "Kiểm tra giá trị thiếu"
   ]
  },
  {
   "cell_type": "code",
   "execution_count": 360,
   "id": "19f8655f",
   "metadata": {},
   "outputs": [
    {
     "name": "stdout",
     "output_type": "stream",
     "text": [
      "Id                   0\n",
      "Tên sản phẩm         0\n",
      "Thương hiệu          0\n",
      "Danh mục             0\n",
      "Thông số kỹ thuật    0\n",
      "Phiên bản            0\n",
      "Mô tả                0\n",
      "Hình ảnh             0\n",
      "dtype: int64\n"
     ]
    }
   ],
   "source": [
    "# Check for missing values in the DataFrame\n",
    "print(cucgach.isnull().sum())"
   ]
  },
  {
   "cell_type": "markdown",
   "id": "a56bb875",
   "metadata": {},
   "source": [
    "Đặt danh mục của tất cả sản phẩm là `Điện thoại phổ thông`"
   ]
  },
  {
   "cell_type": "code",
   "execution_count": 361,
   "id": "2f239921",
   "metadata": {},
   "outputs": [],
   "source": [
    "cucgach['Danh mục'] = 'Điện thoại phổ thông'"
   ]
  },
  {
   "cell_type": "code",
   "execution_count": 362,
   "id": "7b31cee9",
   "metadata": {},
   "outputs": [
    {
     "data": {
      "text/plain": [
       "Danh mục\n",
       "Điện thoại phổ thông    17\n",
       "Name: count, dtype: int64"
      ]
     },
     "execution_count": 362,
     "metadata": {},
     "output_type": "execute_result"
    }
   ],
   "source": [
    "cucgach['Danh mục'].value_counts()"
   ]
  },
  {
   "cell_type": "markdown",
   "id": "fbc3ae0b",
   "metadata": {},
   "source": [
    "#### dieuhoa.csv"
   ]
  },
  {
   "cell_type": "code",
   "execution_count": 363,
   "id": "0fdeaa43",
   "metadata": {},
   "outputs": [],
   "source": [
    "dieuhoa = pd.read_csv('../rawData/dieuhoa.csv', encoding='utf-8')"
   ]
  },
  {
   "cell_type": "markdown",
   "id": "41aa6191",
   "metadata": {},
   "source": [
    "Kiểm tra giá trị trùng lặp"
   ]
  },
  {
   "cell_type": "code",
   "execution_count": 364,
   "id": "99655177",
   "metadata": {},
   "outputs": [
    {
     "name": "stdout",
     "output_type": "stream",
     "text": [
      "0\n"
     ]
    }
   ],
   "source": [
    "# Check for duplicate values in the DataFrame\n",
    "print(dieuhoa.duplicated().sum())"
   ]
  },
  {
   "cell_type": "markdown",
   "id": "d384fc37",
   "metadata": {},
   "source": [
    "Kiểm tra giá trị thiếu"
   ]
  },
  {
   "cell_type": "code",
   "execution_count": 365,
   "id": "4375e23b",
   "metadata": {},
   "outputs": [
    {
     "name": "stdout",
     "output_type": "stream",
     "text": [
      "Id                   0\n",
      "Tên sản phẩm         0\n",
      "Thương hiệu          0\n",
      "Danh mục             0\n",
      "Thông số kỹ thuật    0\n",
      "Phiên bản            0\n",
      "Mô tả                0\n",
      "Hình ảnh             0\n",
      "dtype: int64\n"
     ]
    }
   ],
   "source": [
    "# Check for missing values in the DataFrame\n",
    "print(dieuhoa.isnull().sum())"
   ]
  },
  {
   "cell_type": "markdown",
   "id": "bac76187",
   "metadata": {},
   "source": [
    "Giữ nguyên tên các danh mục"
   ]
  },
  {
   "cell_type": "code",
   "execution_count": 366,
   "id": "53afb8bc",
   "metadata": {},
   "outputs": [
    {
     "data": {
      "text/plain": [
       "Danh mục\n",
       "Máy lạnh treo tường        159\n",
       "Máy lạnh - Máy điều hòa     72\n",
       "Máy lạnh tủ đứng             8\n",
       "Máy lạnh âm trần             1\n",
       "Name: count, dtype: int64"
      ]
     },
     "execution_count": 366,
     "metadata": {},
     "output_type": "execute_result"
    }
   ],
   "source": [
    "dieuhoa['Danh mục'].value_counts()"
   ]
  },
  {
   "cell_type": "markdown",
   "id": "45864fad",
   "metadata": {},
   "source": [
    "#### laptop.csv"
   ]
  },
  {
   "cell_type": "code",
   "execution_count": 367,
   "id": "c813d364",
   "metadata": {},
   "outputs": [],
   "source": [
    "laptop = pd.read_csv('../rawData/laptop.csv', encoding='utf-8')"
   ]
  },
  {
   "cell_type": "markdown",
   "id": "502cf75c",
   "metadata": {},
   "source": [
    "Kiểm tra giá trị trùng lặp"
   ]
  },
  {
   "cell_type": "code",
   "execution_count": 368,
   "id": "e84e86e7",
   "metadata": {},
   "outputs": [
    {
     "name": "stdout",
     "output_type": "stream",
     "text": [
      "0\n"
     ]
    }
   ],
   "source": [
    "# Check for duplicate values in the DataFrame\n",
    "print(laptop.duplicated().sum())"
   ]
  },
  {
   "cell_type": "markdown",
   "id": "0965da23",
   "metadata": {},
   "source": [
    "Kiểm tra giá trị thiếu"
   ]
  },
  {
   "cell_type": "code",
   "execution_count": 369,
   "id": "71f10656",
   "metadata": {},
   "outputs": [
    {
     "name": "stdout",
     "output_type": "stream",
     "text": [
      "Id                   0\n",
      "Tên sản phẩm         0\n",
      "Thương hiệu          0\n",
      "Danh mục             0\n",
      "Thông số kỹ thuật    0\n",
      "Phiên bản            0\n",
      "Mô tả                0\n",
      "Hình ảnh             0\n",
      "dtype: int64\n"
     ]
    }
   ],
   "source": [
    "# Check for missing values in the DataFrame\n",
    "print(laptop.isnull().sum())"
   ]
  },
  {
   "cell_type": "markdown",
   "id": "82ab53ad",
   "metadata": {},
   "source": [
    "Chuyển đổi các danh mục như sau:\n",
    "\n",
    "**Danh mục mới gồm:** <br/>\n",
    "\n",
    "**Laptop truyền thống** (Laptop truyền thống + Laptop - Máy Vi Tính - Linh Kiện + Laptop + Root) <br />\n",
    "**Laptop Gaming** (Laptop Gaming)<br />\n",
    "**Laptop 2 trong 1** (Laptop 2 trong 1)<br />\n",
    "**Macbook** (Macbook)<br />"
   ]
  },
  {
   "cell_type": "code",
   "execution_count": 370,
   "id": "26d5c44a",
   "metadata": {},
   "outputs": [
    {
     "data": {
      "text/plain": [
       "Danh mục\n",
       "Laptop Truyền Thống                 190\n",
       "Laptop Gaming                        23\n",
       "Laptop - Máy Vi Tính - Linh kiện     14\n",
       "Laptop 2 trong 1                      8\n",
       "Macbook                               3\n",
       "Laptop                                1\n",
       "Root                                  1\n",
       "Name: count, dtype: int64"
      ]
     },
     "execution_count": 370,
     "metadata": {},
     "output_type": "execute_result"
    }
   ],
   "source": [
    "laptop['Danh mục'].value_counts()"
   ]
  },
  {
   "cell_type": "code",
   "execution_count": 371,
   "id": "3954ff06",
   "metadata": {},
   "outputs": [],
   "source": [
    "laptop1 = laptop\n",
    "\n",
    "laptop1['Danh mục'] = laptop1['Danh mục'].replace(\n",
    "    {\n",
    "        'Laptop - Máy Vi Tính - Linh kiện': 'Laptop Truyền Thống',\n",
    "        'Laptop': 'Laptop Truyền Thống',\n",
    "        'Root': 'Laptop Truyền Thống',\n",
    "    }\n",
    ")"
   ]
  },
  {
   "cell_type": "markdown",
   "id": "a6166b1d",
   "metadata": {},
   "source": [
    "Kiểm tra lại danh mục"
   ]
  },
  {
   "cell_type": "code",
   "execution_count": 372,
   "id": "9f76c73c",
   "metadata": {},
   "outputs": [
    {
     "data": {
      "text/plain": [
       "Danh mục\n",
       "Laptop Truyền Thống    206\n",
       "Laptop Gaming           23\n",
       "Laptop 2 trong 1         8\n",
       "Macbook                  3\n",
       "Name: count, dtype: int64"
      ]
     },
     "execution_count": 372,
     "metadata": {},
     "output_type": "execute_result"
    }
   ],
   "source": [
    "laptop1['Danh mục'].value_counts()"
   ]
  },
  {
   "cell_type": "markdown",
   "id": "eff82339",
   "metadata": {},
   "source": [
    "#### maydocsach.csv"
   ]
  },
  {
   "cell_type": "code",
   "execution_count": 373,
   "id": "91b87532",
   "metadata": {},
   "outputs": [],
   "source": [
    "maydocsach = pd.read_csv('../rawData/maydocsach.csv', encoding='utf-8')"
   ]
  },
  {
   "cell_type": "markdown",
   "id": "2010929d",
   "metadata": {},
   "source": [
    "Kiểm tra giá trị trùng lặp"
   ]
  },
  {
   "cell_type": "code",
   "execution_count": 374,
   "id": "f8262afc",
   "metadata": {},
   "outputs": [
    {
     "name": "stdout",
     "output_type": "stream",
     "text": [
      "9\n"
     ]
    }
   ],
   "source": [
    "# Check for duplicate values in the DataFrame\n",
    "print(maydocsach.duplicated().sum())\n",
    "\n",
    "maydocsach.drop_duplicates(inplace=True)"
   ]
  },
  {
   "cell_type": "markdown",
   "id": "481e02ba",
   "metadata": {},
   "source": [
    "Kiểm tra giá trị thiếu"
   ]
  },
  {
   "cell_type": "code",
   "execution_count": 375,
   "id": "724e146c",
   "metadata": {},
   "outputs": [
    {
     "name": "stdout",
     "output_type": "stream",
     "text": [
      "Id                   0\n",
      "Tên sản phẩm         0\n",
      "Thương hiệu          0\n",
      "Danh mục             0\n",
      "Thông số kỹ thuật    0\n",
      "Phiên bản            0\n",
      "Mô tả                0\n",
      "Hình ảnh             0\n",
      "dtype: int64\n"
     ]
    }
   ],
   "source": [
    "# Check for missing values in the DataFrame\n",
    "print(maydocsach.isnull().sum())"
   ]
  },
  {
   "cell_type": "code",
   "execution_count": 376,
   "id": "731542e4",
   "metadata": {},
   "outputs": [
    {
     "data": {
      "text/plain": [
       "Danh mục\n",
       "Máy đọc sách                  34\n",
       "Điện Thoại - Máy Tính Bảng     8\n",
       "Name: count, dtype: int64"
      ]
     },
     "execution_count": 376,
     "metadata": {},
     "output_type": "execute_result"
    }
   ],
   "source": [
    "maydocsach['Danh mục'].value_counts()"
   ]
  },
  {
   "cell_type": "markdown",
   "id": "8450e22e",
   "metadata": {},
   "source": [
    "Gộp danh mục Điện Thoại - Máy Tính Bảng vào danh mục máy đọc sách, sau đó lọc máy tính bảng trong danh mục máy đọc sách."
   ]
  },
  {
   "cell_type": "code",
   "execution_count": 377,
   "id": "3112e92a",
   "metadata": {},
   "outputs": [],
   "source": [
    "maydocsach['Danh mục'] = 'Máy đọc sách'\n",
    "\n",
    "maydocsach.loc[maydocsach['Tên sản phẩm'].str.contains('máy tính bảng', case=False), 'Danh mục'] = 'Máy tính bảng'"
   ]
  },
  {
   "cell_type": "code",
   "execution_count": 378,
   "id": "cf7869a2",
   "metadata": {},
   "outputs": [
    {
     "data": {
      "text/plain": [
       "Danh mục\n",
       "Máy đọc sách     39\n",
       "Máy tính bảng     3\n",
       "Name: count, dtype: int64"
      ]
     },
     "execution_count": 378,
     "metadata": {},
     "output_type": "execute_result"
    }
   ],
   "source": [
    "maydocsach['Danh mục'].value_counts()"
   ]
  },
  {
   "cell_type": "markdown",
   "id": "94affbd1",
   "metadata": {},
   "source": [
    "#### maygiat.csv"
   ]
  },
  {
   "cell_type": "code",
   "execution_count": 379,
   "id": "4cd6e180",
   "metadata": {},
   "outputs": [],
   "source": [
    "maygiat = pd.read_csv('../rawData/maygiat.csv', encoding='utf-8')"
   ]
  },
  {
   "cell_type": "markdown",
   "id": "2e1891ff",
   "metadata": {},
   "source": [
    "Kiểm tra giá trị trùng lặp"
   ]
  },
  {
   "cell_type": "code",
   "execution_count": 380,
   "id": "225df867",
   "metadata": {},
   "outputs": [
    {
     "name": "stdout",
     "output_type": "stream",
     "text": [
      "4\n"
     ]
    }
   ],
   "source": [
    "# Check for duplicate values in the DataFrame\n",
    "print(maygiat.duplicated().sum())\n",
    "\n",
    "# Remove duplicate rows from the DataFrame\n",
    "maygiat.drop_duplicates(inplace=True)"
   ]
  },
  {
   "cell_type": "markdown",
   "id": "77c71622",
   "metadata": {},
   "source": [
    "Kiểm tra giá trị thiếu"
   ]
  },
  {
   "cell_type": "code",
   "execution_count": 381,
   "id": "e27675e8",
   "metadata": {},
   "outputs": [
    {
     "name": "stdout",
     "output_type": "stream",
     "text": [
      "Id                   0\n",
      "Tên sản phẩm         0\n",
      "Thương hiệu          0\n",
      "Danh mục             0\n",
      "Thông số kỹ thuật    0\n",
      "Phiên bản            0\n",
      "Mô tả                0\n",
      "Hình ảnh             0\n",
      "dtype: int64\n"
     ]
    }
   ],
   "source": [
    "# Check for missing values in the DataFrame\n",
    "print(maygiat.isnull().sum())"
   ]
  },
  {
   "cell_type": "markdown",
   "id": "4db93da9",
   "metadata": {},
   "source": [
    "Giữ nguyên tên của các danh mục"
   ]
  },
  {
   "cell_type": "code",
   "execution_count": 409,
   "id": "d4d67c41",
   "metadata": {},
   "outputs": [
    {
     "data": {
      "text/plain": [
       "Danh mục\n",
       "Máy giặt cửa ngang    100\n",
       "Máy giặt cửa trên      67\n",
       "Máy giặt               64\n",
       "Tháp giặt sấy           8\n",
       "Máy giặt mini           3\n",
       "Name: count, dtype: int64"
      ]
     },
     "execution_count": 409,
     "metadata": {},
     "output_type": "execute_result"
    }
   ],
   "source": [
    "maygiat['Danh mục'].value_counts()"
   ]
  },
  {
   "cell_type": "markdown",
   "id": "4eb64f70",
   "metadata": {},
   "source": [
    "#### maytinhbang.csv"
   ]
  },
  {
   "cell_type": "code",
   "execution_count": 382,
   "id": "46cd2c58",
   "metadata": {},
   "outputs": [],
   "source": [
    "maytinhbang = pd.read_csv('../rawData/maytinhbang.csv', encoding='utf-8')"
   ]
  },
  {
   "cell_type": "markdown",
   "id": "0ed66505",
   "metadata": {},
   "source": [
    "Kiểm tra giá trị trùng lặp"
   ]
  },
  {
   "cell_type": "code",
   "execution_count": 383,
   "id": "baf6557b",
   "metadata": {},
   "outputs": [
    {
     "name": "stdout",
     "output_type": "stream",
     "text": [
      "0\n"
     ]
    }
   ],
   "source": [
    "# Check for duplicate values in the DataFrame\n",
    "print(maytinhbang.duplicated().sum())"
   ]
  },
  {
   "cell_type": "markdown",
   "id": "9000a0c9",
   "metadata": {},
   "source": [
    "Kiểm tra giá trị thiếu"
   ]
  },
  {
   "cell_type": "code",
   "execution_count": 384,
   "id": "cea8b12b",
   "metadata": {},
   "outputs": [
    {
     "name": "stdout",
     "output_type": "stream",
     "text": [
      "Id                   0\n",
      "Tên sản phẩm         0\n",
      "Thương hiệu          0\n",
      "Danh mục             0\n",
      "Thông số kỹ thuật    0\n",
      "Phiên bản            0\n",
      "Mô tả                0\n",
      "Hình ảnh             0\n",
      "dtype: int64\n"
     ]
    }
   ],
   "source": [
    "# Check for missing values in the DataFrame\n",
    "print(maytinhbang.isnull().sum())"
   ]
  },
  {
   "cell_type": "markdown",
   "id": "18119ccf",
   "metadata": {},
   "source": [
    "Gộp chung sản phẩm cùng danh mục Máy tính bảng"
   ]
  },
  {
   "cell_type": "code",
   "execution_count": 385,
   "id": "22a80f17",
   "metadata": {},
   "outputs": [],
   "source": [
    "maytinhbang['Danh mục'] = 'Máy tính bảng'"
   ]
  },
  {
   "cell_type": "code",
   "execution_count": 410,
   "id": "d1859026",
   "metadata": {},
   "outputs": [
    {
     "data": {
      "text/plain": [
       "Danh mục\n",
       "Máy tính bảng    35\n",
       "Name: count, dtype: int64"
      ]
     },
     "execution_count": 410,
     "metadata": {},
     "output_type": "execute_result"
    }
   ],
   "source": [
    "maytinhbang['Danh mục'].value_counts()"
   ]
  },
  {
   "cell_type": "markdown",
   "id": "9dd65052",
   "metadata": {},
   "source": [
    "#### tivi.csv"
   ]
  },
  {
   "cell_type": "code",
   "execution_count": 386,
   "id": "c4362d1c",
   "metadata": {},
   "outputs": [],
   "source": [
    "tivi = pd.read_csv('../rawData/tivi.csv', encoding='utf-8')"
   ]
  },
  {
   "cell_type": "markdown",
   "id": "151d6903",
   "metadata": {},
   "source": [
    "Kiểm tra giá trị trùng lặp"
   ]
  },
  {
   "cell_type": "code",
   "execution_count": 387,
   "id": "0c14e1d7",
   "metadata": {},
   "outputs": [
    {
     "name": "stdout",
     "output_type": "stream",
     "text": [
      "0\n"
     ]
    }
   ],
   "source": [
    "# Check for duplicate values in the DataFrame\n",
    "print(tivi.duplicated().sum())"
   ]
  },
  {
   "cell_type": "markdown",
   "id": "1930d363",
   "metadata": {},
   "source": [
    "Kiểm tra giá trị thiếu"
   ]
  },
  {
   "cell_type": "code",
   "execution_count": 388,
   "id": "8f4c9096",
   "metadata": {},
   "outputs": [
    {
     "name": "stdout",
     "output_type": "stream",
     "text": [
      "Id                   0\n",
      "Tên sản phẩm         0\n",
      "Thương hiệu          0\n",
      "Danh mục             0\n",
      "Thông số kỹ thuật    0\n",
      "Phiên bản            0\n",
      "Mô tả                0\n",
      "Hình ảnh             0\n",
      "dtype: int64\n"
     ]
    }
   ],
   "source": [
    "# Check for missing values in the DataFrame\n",
    "print(tivi.isnull().sum())"
   ]
  },
  {
   "cell_type": "markdown",
   "id": "3bb3f957",
   "metadata": {},
   "source": [
    "Tiến hành chia danh muc:\n",
    "\n",
    "Từ danh mục ĐT-ĐL và Root, ta có thể phân phối chúng vào 2 danh mục: Tivi thường (LED) và Smart Tivi - Android Tivi\n",
    "\n",
    "Nếu tên sản phẩm chứa OLED -> Tivi OLED<br/>\n",
    "Nếu tên sản phẩm chứa Smart hoặc Android -> Smart Tivi - Android Tivi<br/>\n",
    "Nếu tên sản phẩm chứa LED -> Tivi thường (LED)<br/>\n",
    "Nếu tên sản phẩm chứa QLED -> Tivi QLED<br/>"
   ]
  },
  {
   "cell_type": "code",
   "execution_count": 389,
   "id": "021ce7fd",
   "metadata": {},
   "outputs": [],
   "source": [
    "df4 = tivi.loc[tivi['Danh mục'].isin(['Điện Tử - Điện Lạnh', 'Root'])]\n",
    "\n",
    "df4.loc[\n",
    "    df4['Tên sản phẩm'].str.contains('oled', case=False),\n",
    "    'Danh mục'\n",
    "] = 'Tivi OLED'\n",
    "\n",
    "df4.loc[\n",
    "    df4['Tên sản phẩm'].str.contains('qled', case=False),\n",
    "    'Danh mục'\n",
    "] = 'Tivi QLED'\n",
    "\n",
    "df4.loc[\n",
    "    df4['Tên sản phẩm'].str.contains('smart|android', case=False),\n",
    "    'Danh mục'\n",
    "] = 'Smart Tivi - Android Tivi'\n",
    "\n",
    "df4.loc[\n",
    "    df4['Tên sản phẩm'].str.contains('led', case=False),\n",
    "    'Danh mục'\n",
    "] = 'Tivi thường (LED)'\n",
    "\n",
    "df4.loc[\n",
    "    df4['Tên sản phẩm'].str.contains('4k', case=False),\n",
    "    'Danh mục'\n",
    "] = 'Tivi 4K'"
   ]
  },
  {
   "cell_type": "markdown",
   "id": "a227b455",
   "metadata": {},
   "source": [
    "Xóa bỏ danh mục ĐT-ĐL và Root. Nối df4 với tivi"
   ]
  },
  {
   "cell_type": "code",
   "execution_count": 418,
   "id": "302e8a61",
   "metadata": {},
   "outputs": [],
   "source": [
    "tivi.drop(\n",
    "    tivi[tivi['Danh mục'].isin(['Điện Tử - Điện Lạnh', 'Root'])].index,\n",
    "    inplace=True\n",
    "\n",
    ")\n",
    "\n",
    "df4.drop(\n",
    "    df4[df4['Danh mục'].isin(['Điện Tử - Điện Lạnh', 'Root'])].index,\n",
    "    inplace=True\n",
    "\n",
    ")\n",
    "\n",
    "tivi = pd.concat([tivi, df4], ignore_index=True)"
   ]
  },
  {
   "cell_type": "code",
   "execution_count": 417,
   "id": "dec74e5d",
   "metadata": {},
   "outputs": [
    {
     "data": {
      "text/plain": [
       "Danh mục\n",
       "Smart Tivi - Android Tivi    130\n",
       "Tivi 4K                      112\n",
       "Tivi thường (LED)             24\n",
       "Tivi OLED                     10\n",
       "Tivi QLED                      5\n",
       "Tivi cao cấp                   5\n",
       "Internet Tivi                  4\n",
       "Name: count, dtype: int64"
      ]
     },
     "execution_count": 417,
     "metadata": {},
     "output_type": "execute_result"
    }
   ],
   "source": [
    "tivi['Danh mục'].value_counts()"
   ]
  },
  {
   "cell_type": "markdown",
   "id": "3e7e5426",
   "metadata": {},
   "source": [
    "#### tulanh.csv"
   ]
  },
  {
   "cell_type": "code",
   "execution_count": 392,
   "id": "f06d31ac",
   "metadata": {},
   "outputs": [],
   "source": [
    "tulanh = pd.read_csv('../rawData/tulanh.csv', encoding='utf-8')"
   ]
  },
  {
   "cell_type": "markdown",
   "id": "00e7ca5d",
   "metadata": {},
   "source": [
    "Kiểm tra các giá trị trùng lặp"
   ]
  },
  {
   "cell_type": "code",
   "execution_count": 393,
   "id": "7a5fa796",
   "metadata": {},
   "outputs": [
    {
     "name": "stdout",
     "output_type": "stream",
     "text": [
      "0\n"
     ]
    }
   ],
   "source": [
    "# Check for duplicate values in the DataFrame\n",
    "print(tulanh.duplicated().sum())"
   ]
  },
  {
   "cell_type": "markdown",
   "id": "827863f8",
   "metadata": {},
   "source": [
    "Kiểm tra các giá trị thiếu"
   ]
  },
  {
   "cell_type": "code",
   "execution_count": 394,
   "id": "09b44cde",
   "metadata": {},
   "outputs": [
    {
     "name": "stdout",
     "output_type": "stream",
     "text": [
      "Id                   0\n",
      "Tên sản phẩm         0\n",
      "Thương hiệu          0\n",
      "Danh mục             0\n",
      "Thông số kỹ thuật    0\n",
      "Phiên bản            0\n",
      "Mô tả                0\n",
      "Hình ảnh             0\n",
      "dtype: int64\n"
     ]
    }
   ],
   "source": [
    "# Check for missing values in the DataFrame\n",
    "print(tulanh.isnull().sum())"
   ]
  },
  {
   "cell_type": "code",
   "execution_count": 395,
   "id": "3aa61001",
   "metadata": {},
   "outputs": [
    {
     "data": {
      "text/plain": [
       "Danh mục\n",
       "Tủ lạnh nhiều cửa       86\n",
       "Điện Tử - Điện Lạnh     47\n",
       "Tủ lạnh                 45\n",
       "Tủ lạnh side by side    36\n",
       "Tủ lạnh mini            26\n",
       "Name: count, dtype: int64"
      ]
     },
     "execution_count": 395,
     "metadata": {},
     "output_type": "execute_result"
    }
   ],
   "source": [
    "tulanh['Danh mục'].value_counts()"
   ]
  },
  {
   "cell_type": "markdown",
   "id": "3c8cbc8f",
   "metadata": {},
   "source": [
    "Chuyển sản phẩm thuộc danh mục Điện Tử - Điện Lạnh vào danh mục Tủ lạnh"
   ]
  },
  {
   "cell_type": "code",
   "execution_count": 396,
   "id": "174d1c0e",
   "metadata": {},
   "outputs": [],
   "source": [
    "tulanh['Danh mục'] = tulanh['Danh mục'].replace(\n",
    "    {\n",
    "        'Điện Tử - Điện Lạnh': 'Tủ lạnh',\n",
    "    }\n",
    ")"
   ]
  },
  {
   "cell_type": "code",
   "execution_count": 397,
   "id": "2f0c2a6c",
   "metadata": {},
   "outputs": [
    {
     "data": {
      "text/plain": [
       "Danh mục\n",
       "Tủ lạnh                 92\n",
       "Tủ lạnh nhiều cửa       86\n",
       "Tủ lạnh side by side    36\n",
       "Tủ lạnh mini            26\n",
       "Name: count, dtype: int64"
      ]
     },
     "execution_count": 397,
     "metadata": {},
     "output_type": "execute_result"
    }
   ],
   "source": [
    "tulanh['Danh mục'].value_counts()"
   ]
  },
  {
   "cell_type": "markdown",
   "id": "b3dfc7a7",
   "metadata": {},
   "source": [
    "#### cameragiamsat.csv"
   ]
  },
  {
   "cell_type": "code",
   "execution_count": 398,
   "id": "99b1c2a0",
   "metadata": {},
   "outputs": [],
   "source": [
    "camgiamsat = pd.read_csv('../rawData/cameragiamsat.csv', encoding='utf-8')"
   ]
  },
  {
   "cell_type": "markdown",
   "id": "08055891",
   "metadata": {},
   "source": [
    "Kiểm tra giá trị trùng lặp"
   ]
  },
  {
   "cell_type": "code",
   "execution_count": 399,
   "id": "cdb9ae45",
   "metadata": {},
   "outputs": [
    {
     "name": "stdout",
     "output_type": "stream",
     "text": [
      "14\n"
     ]
    }
   ],
   "source": [
    "print(camgiamsat.duplicated().sum())\n",
    "\n",
    "camgiamsat.drop_duplicates(inplace=True)"
   ]
  },
  {
   "cell_type": "markdown",
   "id": "13fc4c41",
   "metadata": {},
   "source": [
    "Kiểm tra giá trị thiếu"
   ]
  },
  {
   "cell_type": "code",
   "execution_count": 400,
   "id": "bc0ad506",
   "metadata": {},
   "outputs": [
    {
     "data": {
      "text/plain": [
       "Id                   0\n",
       "Tên sản phẩm         0\n",
       "Thương hiệu          0\n",
       "Danh mục             0\n",
       "Thông số kỹ thuật    0\n",
       "Phiên bản            0\n",
       "Mô tả                0\n",
       "Hình ảnh             0\n",
       "dtype: int64"
      ]
     },
     "execution_count": 400,
     "metadata": {},
     "output_type": "execute_result"
    }
   ],
   "source": [
    "camgiamsat.isnull().sum()"
   ]
  },
  {
   "cell_type": "code",
   "execution_count": 401,
   "id": "17c2713e",
   "metadata": {},
   "outputs": [
    {
     "data": {
      "text/plain": [
       "Danh mục\n",
       "Camera IP                   175\n",
       "Máy Ảnh - Máy Quay Phim      46\n",
       "Phụ Kiện Camera Giám Sát     13\n",
       "Root                          5\n",
       "Đầu Ghi Hình Camera           2\n",
       "Name: count, dtype: int64"
      ]
     },
     "execution_count": 401,
     "metadata": {},
     "output_type": "execute_result"
    }
   ],
   "source": [
    "camgiamsat['Danh mục'].value_counts()"
   ]
  },
  {
   "cell_type": "markdown",
   "id": "1dea2a5a",
   "metadata": {},
   "source": [
    "Cần phân bổ thành các danh mục\n",
    "\n",
    "**Camera IP - Camera Wifi** (Camera IP + Máy Ảnh - Máy Quay Phim + Root)<br />\n",
    "**Phụ Kiện Camera Giám Sát** (Phụ Kiện + Root)<br />\n",
    "**Đầu Ghi Hình Camera**<br />"
   ]
  },
  {
   "cell_type": "code",
   "execution_count": 402,
   "id": "5122c935",
   "metadata": {},
   "outputs": [
    {
     "name": "stderr",
     "output_type": "stream",
     "text": [
      "C:\\Users\\ADMIN\\AppData\\Local\\Temp\\ipykernel_67088\\489877380.py:17: SettingWithCopyWarning: \n",
      "A value is trying to be set on a copy of a slice from a DataFrame.\n",
      "Try using .loc[row_indexer,col_indexer] = value instead\n",
      "\n",
      "See the caveats in the documentation: https://pandas.pydata.org/pandas-docs/stable/user_guide/indexing.html#returning-a-view-versus-a-copy\n",
      "  df6['Danh mục'] = df5['Danh mục'].replace(\n"
     ]
    }
   ],
   "source": [
    "df5 = camgiamsat\n",
    "\n",
    "df5['Danh mục'] = df5['Danh mục'].replace(\n",
    "    {\n",
    "        'Máy Ảnh - Máy Quay Phim': 'Camera IP - Camera Wifi',\n",
    "        'Camera IP': 'Camera IP - Camera Wifi',\n",
    "    }\n",
    ")\n",
    "\n",
    "df6 = df5.loc[df5['Danh mục'] == 'Root']\n",
    "\n",
    "df6.loc[\n",
    "    df6['Tên sản phẩm'].str.contains('ip|wifi', case=False),\n",
    "    'Danh mục'\n",
    "] = 'Camera IP - Camera Wifi'\n",
    "\n",
    "df6['Danh mục'] = df5['Danh mục'].replace(\n",
    "    {\n",
    "        'Root': 'Phụ Kiện Camera Giám Sát',\n",
    "        \n",
    "    }\n",
    ")\n",
    "\n",
    "df5.drop(\n",
    "    df5[df5['Danh mục'] == 'Root'].index,\n",
    "    inplace=True\n",
    ")\n",
    "\n",
    "df5 = pd.concat([df5, df6], ignore_index=True)\n"
   ]
  },
  {
   "cell_type": "code",
   "execution_count": 403,
   "id": "d0e1bc03",
   "metadata": {},
   "outputs": [
    {
     "data": {
      "text/plain": [
       "Danh mục\n",
       "Camera IP - Camera Wifi     221\n",
       "Phụ Kiện Camera Giám Sát     18\n",
       "Đầu Ghi Hình Camera           2\n",
       "Name: count, dtype: int64"
      ]
     },
     "execution_count": 403,
     "metadata": {},
     "output_type": "execute_result"
    }
   ],
   "source": [
    "df5['Danh mục'].value_counts()"
   ]
  },
  {
   "cell_type": "markdown",
   "id": "69f1d50c",
   "metadata": {},
   "source": [
    "#### maytinhdeban.csv"
   ]
  },
  {
   "cell_type": "code",
   "execution_count": 404,
   "id": "8a180c84",
   "metadata": {},
   "outputs": [],
   "source": [
    "pc = pd.read_csv('../rawData/maytinhdeban.csv', encoding='utf-8')"
   ]
  },
  {
   "cell_type": "markdown",
   "id": "6f82a689",
   "metadata": {},
   "source": [
    "Kiểm tra giá trị trùng lặp"
   ]
  },
  {
   "cell_type": "code",
   "execution_count": 405,
   "id": "f2a5cde5",
   "metadata": {},
   "outputs": [
    {
     "name": "stdout",
     "output_type": "stream",
     "text": [
      "5\n"
     ]
    }
   ],
   "source": [
    "print(pc.duplicated().sum())\n",
    "\n",
    "pc.drop_duplicates(inplace=True)"
   ]
  },
  {
   "cell_type": "markdown",
   "id": "135e8a88",
   "metadata": {},
   "source": [
    "Kiểm tra giá trị thiếu"
   ]
  },
  {
   "cell_type": "code",
   "execution_count": 406,
   "id": "d2923004",
   "metadata": {},
   "outputs": [
    {
     "data": {
      "text/plain": [
       "Id                   0\n",
       "Tên sản phẩm         0\n",
       "Thương hiệu          0\n",
       "Danh mục             0\n",
       "Thông số kỹ thuật    0\n",
       "Phiên bản            0\n",
       "Mô tả                0\n",
       "Hình ảnh             0\n",
       "dtype: int64"
      ]
     },
     "execution_count": 406,
     "metadata": {},
     "output_type": "execute_result"
    }
   ],
   "source": [
    "pc.isnull().sum()"
   ]
  },
  {
   "cell_type": "code",
   "execution_count": 407,
   "id": "5aa6f911",
   "metadata": {},
   "outputs": [
    {
     "data": {
      "text/plain": [
       "Danh mục\n",
       "Máy Tính Bộ Thương Hiệu             79\n",
       "Mini PC                             20\n",
       "Towers - Máy Chủ - Server           10\n",
       "Laptop - Máy Vi Tính - Linh kiện     8\n",
       "Máy Tính All in one                  8\n",
       "Máy Tính Để Bàn Lắp Ráp              6\n",
       "PC Gaming                            3\n",
       "Root                                 2\n",
       "PC - Máy Tính Bộ                     1\n",
       "Name: count, dtype: int64"
      ]
     },
     "execution_count": 407,
     "metadata": {},
     "output_type": "execute_result"
    }
   ],
   "source": [
    "pc['Danh mục'].value_counts()"
   ]
  },
  {
   "cell_type": "markdown",
   "id": "1ad01029",
   "metadata": {},
   "source": [
    "Chuyển đổi thành các danh mục:\n",
    "\n",
    "**Máy tính đồng bộ** (Bổ sung Laptop - Máy Vi Tính - Linh kiện + Root + PC - Máy Tính Bộ)<br />\n",
    "**Mini PC** (Bổ sung Laptop - Máy Vi Tính - Linh kiện)<br />\n",
    "**Towers - Máy Chủ - Server**<br />\n",
    "**Máy Tính All in one**<br />\n",
    "**Máy Tính Để Bàn Lắp Ráp**<br />\n",
    "**PC Gaming**<br />"
   ]
  },
  {
   "cell_type": "code",
   "execution_count": 408,
   "id": "648f115e",
   "metadata": {},
   "outputs": [
    {
     "name": "stderr",
     "output_type": "stream",
     "text": [
      "C:\\Users\\ADMIN\\AppData\\Local\\Temp\\ipykernel_67088\\203120257.py:18: SettingWithCopyWarning: \n",
      "A value is trying to be set on a copy of a slice from a DataFrame.\n",
      "Try using .loc[row_indexer,col_indexer] = value instead\n",
      "\n",
      "See the caveats in the documentation: https://pandas.pydata.org/pandas-docs/stable/user_guide/indexing.html#returning-a-view-versus-a-copy\n",
      "  df7['Danh mục'] = df7['Danh mục'].replace(\n"
     ]
    },
    {
     "data": {
      "text/plain": [
       "Danh mục\n",
       "Máy tính đồng bộ             88\n",
       "Mini PC                      22\n",
       "Towers - Máy Chủ - Server    10\n",
       "Máy Tính All in one           8\n",
       "Máy Tính Để Bàn Lắp Ráp       6\n",
       "PC Gaming                     3\n",
       "Name: count, dtype: int64"
      ]
     },
     "execution_count": 408,
     "metadata": {},
     "output_type": "execute_result"
    }
   ],
   "source": [
    "df6 = pc\n",
    "\n",
    "df6['Danh mục'] = df6['Danh mục'].replace(\n",
    "    {\n",
    "        'Máy Tính Bộ Thương Hiệu': 'Máy tính đồng bộ',\n",
    "        'Root': 'Máy tính đồng bộ',\n",
    "        'PC - Máy Tính Bộ': 'Máy tính đồng bộ',\n",
    "    }\n",
    ")\n",
    "\n",
    "df7 = df6.loc[df6['Danh mục'] == 'Laptop - Máy Vi Tính - Linh kiện']\n",
    "\n",
    "df7.loc[\n",
    "    df7['Tên sản phẩm'].str.contains('mini|siêu nhỏ'),\n",
    "    'Danh mục'\n",
    "] = 'Mini PC'\n",
    "\n",
    "df7['Danh mục'] = df7['Danh mục'].replace(\n",
    "    {\n",
    "        'Laptop - Máy Vi Tính - Linh kiện': 'Máy tính đồng bộ',\n",
    "    }\n",
    ")\n",
    "\n",
    "df6.drop(\n",
    "    df6[df6['Danh mục'] == 'Laptop - Máy Vi Tính - Linh kiện'].index,\n",
    "    inplace=True\n",
    ")\n",
    "\n",
    "df6 = pd.concat([df6, df7], ignore_index=True)\n",
    "df6['Danh mục'].value_counts()"
   ]
  }
 ],
 "metadata": {
  "kernelspec": {
   "display_name": "venv",
   "language": "python",
   "name": "python3"
  },
  "language_info": {
   "codemirror_mode": {
    "name": "ipython",
    "version": 3
   },
   "file_extension": ".py",
   "mimetype": "text/x-python",
   "name": "python",
   "nbconvert_exporter": "python",
   "pygments_lexer": "ipython3",
   "version": "3.13.1"
  }
 },
 "nbformat": 4,
 "nbformat_minor": 5
}
