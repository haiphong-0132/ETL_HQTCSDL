{
 "cells": [
  {
   "cell_type": "code",
   "execution_count": 2,
   "id": "974132f3",
   "metadata": {},
   "outputs": [],
   "source": [
    "import os\n",
    "import pyodbc\n",
    "import pandas as pd\n",
    "from tqdm import tqdm\n",
    "from dotenv import load_dotenv"
   ]
  },
  {
   "cell_type": "code",
   "execution_count": 3,
   "id": "97c341f4",
   "metadata": {},
   "outputs": [
    {
     "data": {
      "text/plain": [
       "True"
      ]
     },
     "execution_count": 3,
     "metadata": {},
     "output_type": "execute_result"
    }
   ],
   "source": [
    "load_dotenv()"
   ]
  },
  {
   "cell_type": "code",
   "execution_count": 4,
   "id": "944e316e",
   "metadata": {},
   "outputs": [],
   "source": [
    "def get_db_connection(DB_NAME:str):\n",
    "    conn = pyodbc.connect(\n",
    "        f\"DRIVER={os.getenv('DB_DRIVER')};\"\n",
    "        f\"SERVER={os.getenv('DB_SERVER')};\"\n",
    "        f\"DATABASE={DB_NAME};\"\n",
    "        f\"UID={os.getenv('DB_UID')};\"\n",
    "        f\"PWD={os.getenv('DB_PWD')};\"\n",
    "        f\"TrustServerCertificate={os.getenv('TRUST_SERVER_CERTIFICATE')};\"\n",
    "    )\n",
    "    \n",
    "    return conn\n"
   ]
  },
  {
   "cell_type": "code",
   "execution_count": 5,
   "id": "2692f25e",
   "metadata": {},
   "outputs": [],
   "source": [
    "role_df = pd.read_csv('./data/role.csv', encoding='utf-8')\n",
    "permission_df = pd.read_csv('./data/permission.csv', encoding='utf-8')\n",
    "role_permission_df = pd.read_csv('./data/role_permission.csv', encoding='utf-8')"
   ]
  },
  {
   "cell_type": "code",
   "execution_count": 6,
   "id": "9e46bdca",
   "metadata": {},
   "outputs": [],
   "source": [
    "DB_NAME = os.getenv('DB_NAME')\n",
    "conn = get_db_connection(DB_NAME)\n",
    "\n",
    "cursor = conn.cursor()"
   ]
  },
  {
   "cell_type": "markdown",
   "id": "1b28726f",
   "metadata": {},
   "source": [
    "Create role, permission, role_permission"
   ]
  },
  {
   "cell_type": "code",
   "execution_count": 7,
   "id": "2923853a",
   "metadata": {},
   "outputs": [
    {
     "data": {
      "text/plain": [
       "<pyodbc.Cursor at 0x1ec1de3fa30>"
      ]
     },
     "execution_count": 7,
     "metadata": {},
     "output_type": "execute_result"
    }
   ],
   "source": [
    "cursor.execute(\"\"\"\n",
    "    IF OBJECT_ID('Role_Permission', 'U') IS NOT NULL DROP TABLE Role_Permission;\n",
    "    IF OBJECT_ID('Permission', 'U') IS NOT NULL DROP TABLE Permission;\n",
    "    IF OBJECT_ID('Role', 'U') IS NOT NULL DROP TABLE Role;\n",
    "\"\"\")"
   ]
  },
  {
   "cell_type": "code",
   "execution_count": 8,
   "id": "0e31c9c9",
   "metadata": {},
   "outputs": [
    {
     "data": {
      "text/plain": [
       "<pyodbc.Cursor at 0x1ec1de3fa30>"
      ]
     },
     "execution_count": 8,
     "metadata": {},
     "output_type": "execute_result"
    }
   ],
   "source": [
    "cursor.execute(\"\"\"\n",
    "    CREATE TABLE [role] (\n",
    "        id INT PRIMARY KEY IDENTITY(1,1),\n",
    "        name NVARCHAR(255) NOT NULL,\n",
    "        status NVARCHAR(50) DEFAULT 'Active'\n",
    "    )\n",
    "\"\"\")"
   ]
  },
  {
   "cell_type": "code",
   "execution_count": 9,
   "id": "beaba20b",
   "metadata": {},
   "outputs": [
    {
     "data": {
      "text/plain": [
       "<pyodbc.Cursor at 0x1ec1de3fa30>"
      ]
     },
     "execution_count": 9,
     "metadata": {},
     "output_type": "execute_result"
    }
   ],
   "source": [
    "cursor.execute(\"\"\"\n",
    "    CREATE TABLE permission (\n",
    "        id INT PRIMARY KEY IDENTITY(1,1),\n",
    "        name NVARCHAR(255) NOT NULL,\n",
    "    )\n",
    "\"\"\")"
   ]
  },
  {
   "cell_type": "code",
   "execution_count": 10,
   "id": "aaed5f95",
   "metadata": {},
   "outputs": [
    {
     "data": {
      "text/plain": [
       "<pyodbc.Cursor at 0x1ec1de3fa30>"
      ]
     },
     "execution_count": 10,
     "metadata": {},
     "output_type": "execute_result"
    }
   ],
   "source": [
    "cursor.execute(\"\"\"\n",
    "    CREATE TABLE role_permission (\n",
    "        role_id INT,\n",
    "        permission_id INT,\n",
    "        CONSTRAINT pk_role_permission PRIMARY KEY (role_id, permission_id),\n",
    "        CONSTRAINT fk_role_permission_role FOREIGN KEY (role_id) REFERENCES [role](id),\n",
    "        CONSTRAINT fk_role_permission_permission FOREIGN KEY (permission_id) REFERENCES permission(id)\n",
    "    );\n",
    "\"\"\")"
   ]
  },
  {
   "cell_type": "code",
   "execution_count": null,
   "id": "ad5cf162",
   "metadata": {},
   "outputs": [],
   "source": [
    "role_tuples = [\n",
    "    (row['id'], row['name'], row['status']) for _, row in role_df.iterrows()\n",
    "]\n",
    "\n",
    "permission_tuples = [\n",
    "    (row['id'], row['name']) for _, row in permission_df.iterrows()\n",
    "]\n",
    "\n",
    "role_permission_tuples = [\n",
    "    (int(row['role_id']), int(row['permission_id'])) for _, row in role_permission_df.iterrows()\n",
    "]"
   ]
  },
  {
   "cell_type": "code",
   "execution_count": 12,
   "id": "2b5d31fa",
   "metadata": {},
   "outputs": [],
   "source": [
    "cursor.execute(\"SET IDENTITY_INSERT [role] ON;\")\n",
    "cursor.executemany(\"INSERT INTO [role] (id, name, status) VALUES (?, ?, ?)\", role_tuples)\n",
    "cursor.execute(\"SET IDENTITY_INSERT [role] OFF;\")\n",
    "\n",
    "cursor.execute(\"SET IDENTITY_INSERT [permission] ON;\")\n",
    "cursor.executemany(\"INSERT INTO permission (id, name) VALUES (?, ?)\", permission_tuples)\n",
    "cursor.execute(\"SET IDENTITY_INSERT [permission] OFF;\")\n",
    "\n",
    "cursor.executemany(\"INSERT INTO role_permission (role_id, permission_id) VALUES (?, ?)\", role_permission_tuples)"
   ]
  },
  {
   "cell_type": "code",
   "execution_count": null,
   "id": "534186be",
   "metadata": {},
   "outputs": [],
   "source": [
    "conn.commit()\n",
    "conn.close()"
   ]
  }
 ],
 "metadata": {
  "kernelspec": {
   "display_name": "venv",
   "language": "python",
   "name": "python3"
  },
  "language_info": {
   "codemirror_mode": {
    "name": "ipython",
    "version": 3
   },
   "file_extension": ".py",
   "mimetype": "text/x-python",
   "name": "python",
   "nbconvert_exporter": "python",
   "pygments_lexer": "ipython3",
   "version": "3.13.1"
  }
 },
 "nbformat": 4,
 "nbformat_minor": 5
}
