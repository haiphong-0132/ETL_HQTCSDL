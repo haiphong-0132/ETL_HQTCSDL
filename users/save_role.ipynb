{
 "cells": [
  {
   "cell_type": "code",
   "execution_count": 1,
   "id": "974132f3",
   "metadata": {},
   "outputs": [],
   "source": [
    "import os\n",
    "import pyodbc\n",
    "import pandas as pd\n",
    "from tqdm import tqdm\n",
    "from dotenv import load_dotenv"
   ]
  },
  {
   "cell_type": "code",
   "execution_count": 2,
   "id": "97c341f4",
   "metadata": {},
   "outputs": [
    {
     "data": {
      "text/plain": [
       "True"
      ]
     },
     "execution_count": 2,
     "metadata": {},
     "output_type": "execute_result"
    }
   ],
   "source": [
    "load_dotenv()"
   ]
  },
  {
   "cell_type": "code",
   "execution_count": 3,
   "id": "944e316e",
   "metadata": {},
   "outputs": [],
   "source": [
    "def get_db_connection(DB_NAME:str):\n",
    "    conn = pyodbc.connect(\n",
    "        f\"DRIVER={os.getenv('DB_DRIVER')};\"\n",
    "        f\"SERVER={os.getenv('DB_SERVER')};\"\n",
    "        f\"DATABASE={DB_NAME};\"\n",
    "        f\"UID={os.getenv('DB_UID')};\"\n",
    "        f\"PWD={os.getenv('DB_PWD')};\"\n",
    "        f\"TrustServerCertificate={os.getenv('TRUST_SERVER_CERTIFICATE')};\"\n",
    "    )\n",
    "    \n",
    "    return conn\n"
   ]
  },
  {
   "cell_type": "code",
   "execution_count": 5,
   "id": "2692f25e",
   "metadata": {},
   "outputs": [],
   "source": [
    "role_df = pd.read_csv('./data/role.csv', encoding='utf-8')\n",
    "permission_df = pd.read_csv('./data/permission.csv', encoding='utf-8')\n",
    "role_permission_df = pd.read_csv('./data/role_permission.csv', encoding='utf-8')"
   ]
  },
  {
   "cell_type": "code",
   "execution_count": 6,
   "id": "9e46bdca",
   "metadata": {},
   "outputs": [],
   "source": [
    "DB_NAME = os.getenv('DB_NAME')\n",
    "conn = get_db_connection(DB_NAME)\n",
    "\n",
    "cursor = conn.cursor()"
   ]
  },
  {
   "cell_type": "code",
   "execution_count": null,
   "id": "0e31c9c9",
   "metadata": {},
   "outputs": [],
   "source": [
    "cursor.execute(\"\"\"\n",
    "               \n",
    "\"\"\")"
   ]
  }
 ],
 "metadata": {
  "kernelspec": {
   "display_name": "venv",
   "language": "python",
   "name": "python3"
  },
  "language_info": {
   "codemirror_mode": {
    "name": "ipython",
    "version": 3
   },
   "file_extension": ".py",
   "mimetype": "text/x-python",
   "name": "python",
   "nbconvert_exporter": "python",
   "pygments_lexer": "ipython3",
   "version": "3.13.1"
  }
 },
 "nbformat": 4,
 "nbformat_minor": 5
}
