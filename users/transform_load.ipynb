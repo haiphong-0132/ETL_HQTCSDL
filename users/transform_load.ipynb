{
 "cells": [
  {
   "cell_type": "code",
   "execution_count": 16,
   "id": "a04b0fd3",
   "metadata": {},
   "outputs": [],
   "source": [
    "import os\n",
    "import re\n",
    "import string\n",
    "import random\n",
    "import pyodbc\n",
    "import pandas as pd\n",
    "from tqdm import tqdm\n",
    "from dotenv import load_dotenv\n",
    "from datetime import datetime, timedelta\n",
    "from vn_fullname_generator import generator\n",
    "from concurrent.futures import ThreadPoolExecutor, as_completed"
   ]
  },
  {
   "cell_type": "markdown",
   "id": "3653aa3b",
   "metadata": {},
   "source": [
    "## I. Transform"
   ]
  },
  {
   "cell_type": "markdown",
   "id": "1b9b5e79",
   "metadata": {},
   "source": [
    "#### Các cài đặt ban đầu"
   ]
  },
  {
   "cell_type": "code",
   "execution_count": 17,
   "id": "e60ad31d",
   "metadata": {},
   "outputs": [],
   "source": [
    "RANDOM_SEED = 42\n",
    "NUM_ROWS = 10**6\n",
    "NUM_WORKERS = 16"
   ]
  },
  {
   "cell_type": "code",
   "execution_count": 18,
   "id": "0cfdaf8f",
   "metadata": {},
   "outputs": [
    {
     "data": {
      "text/plain": [
       "True"
      ]
     },
     "execution_count": 18,
     "metadata": {},
     "output_type": "execute_result"
    }
   ],
   "source": [
    "load_dotenv()"
   ]
  },
  {
   "cell_type": "markdown",
   "id": "c8e430c6",
   "metadata": {},
   "source": [
    "Kết nối với SQL Server"
   ]
  },
  {
   "cell_type": "code",
   "execution_count": 19,
   "id": "32813caa",
   "metadata": {},
   "outputs": [],
   "source": [
    "def get_db_connection(DB_NAME:str):\n",
    "    conn = pyodbc.connect(\n",
    "        f\"DRIVER={os.getenv('DB_DRIVER')};\"\n",
    "        f\"SERVER={os.getenv('DB_SERVER')};\"\n",
    "        f\"DATABASE={DB_NAME};\"\n",
    "        f\"UID={os.getenv('DB_UID')};\"\n",
    "        f\"PWD={os.getenv('DB_PWD')};\"\n",
    "        f\"TrustServerCertificate={os.getenv('TRUST_SERVER_CERTIFICATE')};\"\n",
    "    )\n",
    "    \n",
    "    return conn"
   ]
  },
  {
   "cell_type": "code",
   "execution_count": 20,
   "id": "c5f5ca69",
   "metadata": {},
   "outputs": [],
   "source": [
    "file_name = {\n",
    "    'role': 'role.csv',\n",
    "    'permission': 'permission.csv',\n",
    "    'role_permission': 'role_permission.csv',\n",
    "}\n",
    "\n",
    "dataframes = {\n",
    "    name: pd.read_csv(f'./data/{filename}', encoding='utf-8')\n",
    "    for name, filename in file_name.items()\n",
    "}"
   ]
  },
  {
   "cell_type": "code",
   "execution_count": 21,
   "id": "7fcb5d6c",
   "metadata": {},
   "outputs": [],
   "source": [
    "role_df = dataframes['role']\n",
    "permission_df = dataframes['permission']\n",
    "role_permission_df = dataframes['role_permission']"
   ]
  },
  {
   "cell_type": "markdown",
   "id": "d467101c",
   "metadata": {},
   "source": [
    "### 1. Tạo dataframe `account` (id, username, password, full_name, email, status, created_at, updated_at)"
   ]
  },
  {
   "cell_type": "markdown",
   "id": "22299c93",
   "metadata": {},
   "source": [
    "Chuẩn hóa câu tiếng Việt về dạng tiếng Anh"
   ]
  },
  {
   "cell_type": "code",
   "execution_count": 22,
   "id": "ec77648c",
   "metadata": {},
   "outputs": [],
   "source": [
    "def normalize_vietnamese_string(s: str):\n",
    "    vietnamese_chars = {\n",
    "        'à': 'a', 'á': 'a', 'ả': 'a', 'ã': 'a', 'ạ': 'a',\n",
    "        'ă': 'a', 'ằ': 'a', 'ắ': 'a', 'ẳ': 'a', 'ẵ': 'a', 'ặ': 'a',\n",
    "        'â': 'a', 'ầ': 'a', 'ấ': 'a', 'ẩ': 'a', 'ẫ': 'a', 'ậ': 'a',\n",
    "        'đ': 'd',\n",
    "        'è': 'e', 'é': 'e', 'ẻ': 'e', 'ẽ': 'e', 'ẹ': 'e',\n",
    "        'ê': 'e', 'ề': 'e', 'ế': 'e', 'ể': 'e', 'ễ': 'e', 'ệ': 'e',\n",
    "        'ì': 'i', 'í': 'i', 'ỉ': 'i', 'ĩ': 'i', 'ị': 'i',\n",
    "        'ò': 'o', 'ó': 'o', 'ỏ': 'o', 'õ': 'o', 'ọ': 'o',\n",
    "        'ô': 'o', 'ồ': 'o', 'ố': 'o', 'ổ': 'o', 'ỗ': 'o', 'ộ': 'o',\n",
    "        'ơ': 'o', 'ờ': 'o', 'ớ': 'o', 'ở': 'o', 'ỡ': 'o', 'ợ': 'o',\n",
    "        'ù': 'u', 'ú': 'u', 'ủ': 'u', 'ũ': 'u', 'ụ': 'u',\n",
    "        'ư': 'u', 'ừ': 'u', 'ứ': 'u', 'ử': 'u', 'ữ': 'u', 'ự': 'u',\n",
    "        'ỳ': 'y', 'ý': 'y', 'ỷ': 'y', 'ỹ': 'y', 'ỵ': 'y'\n",
    "    }\n",
    "\n",
    "    s = s.lower()\n",
    "\n",
    "    for vn_char, latin_char in vietnamese_chars.items():\n",
    "        s = s.replace(vn_char, latin_char)\n",
    "    \n",
    "    s = re.sub(r'[^a-z ]','', s)\n",
    "\n",
    "    return s"
   ]
  },
  {
   "cell_type": "markdown",
   "id": "02cf6908",
   "metadata": {},
   "source": [
    "Tạo email ngẫu nhiên"
   ]
  },
  {
   "cell_type": "code",
   "execution_count": 23,
   "id": "01ee0082",
   "metadata": {},
   "outputs": [],
   "source": [
    "def generate_email(name: str ):\n",
    "\n",
    "    normalized = normalize_vietnamese_string(name)\n",
    "    words = normalized.split()\n",
    "\n",
    "    email_format = random.choice([\n",
    "        f'{words[-1]}.{words[0]}',\n",
    "        f'{words[0]}.{words[-1]}',\n",
    "        f'{words[0]}{words[-1]}',\n",
    "        f'{words[-1]}{words[0]}',\n",
    "        f'{words[0][0]}{words[-1]}',\n",
    "        f'{words[-1]}{words[0][0]}',\n",
    "        f'{words[0]}{random.randint(1, 999)}',\n",
    "        f'{words[-1]}{random.randint(1, 999)}',\n",
    "        f'{words[0]}_{random.randint(1, 999)}',\n",
    "        f'{words[-1]}_{random.randint(1, 999)}',\n",
    "    ])\n",
    "\n",
    "    if random.random() < 0.3:\n",
    "        email_format += str(random.randint(1,999))\n",
    "    \n",
    "    domain = random.choice(['gmail.com', 'yahoo.com', 'outlook.com', 'hotmail.com', 'icloud.com', 'gdscptit.dev', 'ptit.edu.vn', 'stu.ptit.edu.vn'])\n",
    "\n",
    "    return f'{email_format}@{domain}'"
   ]
  },
  {
   "cell_type": "markdown",
   "id": "508a5c44",
   "metadata": {},
   "source": [
    "Tạo số điện thoại ngẫu nhiên"
   ]
  },
  {
   "cell_type": "code",
   "execution_count": 24,
   "id": "74f91d92",
   "metadata": {},
   "outputs": [],
   "source": [
    "def generate_phone_number():    \n",
    "    prefixes = ['032', '033', '034', '035', '036', '037', '038', '039', '096', '097', '098', '086',\n",
    "                '088', '091', '094', '081', '082', '083', '084', '085',\n",
    "                '070', '079', '077', '076', '078', '090', '092', '089'\n",
    "                ]\n",
    "    \n",
    "    prefix = random.choice(prefixes)\n",
    "\n",
    "    remaining = ''.join(str(random.randint(0,9)) for _ in range(7))\n",
    "\n",
    "    return prefix + remaining"
   ]
  },
  {
   "cell_type": "markdown",
   "id": "76ca01c1",
   "metadata": {},
   "source": [
    "Tạo xâu ngẫu nhiên (phục vụ tạo `username` và `password` sau này)"
   ]
  },
  {
   "cell_type": "code",
   "execution_count": 25,
   "id": "2cf5396d",
   "metadata": {},
   "outputs": [],
   "source": [
    "def generate_random_string(length=8, use_special=False):\n",
    "    chars = string.ascii_letters + string.digits\n",
    "    if use_special:\n",
    "        safe_punctiations = '!@#$%^^&*_-'\n",
    "        chars += safe_punctiations\n",
    "    return ''.join(random.choices(chars, k=length))"
   ]
  },
  {
   "cell_type": "markdown",
   "id": "41d57292",
   "metadata": {},
   "source": [
    "Tạo ngày ngẫu nhiên"
   ]
  },
  {
   "cell_type": "code",
   "execution_count": 26,
   "id": "c60cbf9b",
   "metadata": {},
   "outputs": [],
   "source": [
    "def generate_random_date(start, end):\n",
    "    \n",
    "    start_date = datetime.strptime(start, \"%Y-%m-%d\")\n",
    "    end_date = datetime.strptime(end, \"%Y-%m-%d\")\n",
    "\n",
    "    random_days = random.randint(0, (end_date - start_date).days)\n",
    "\n",
    "    random_date = start_date + timedelta(days=random_days)\n",
    "\n",
    "    return random_date.strftime(\"%Y-%m-%d\")"
   ]
  },
  {
   "cell_type": "markdown",
   "id": "a59dd850",
   "metadata": {},
   "source": [
    "Tạo `status` tài khoản ngẫu nhiên với 3 trạng thái `active`, `inactive`, `banned` (trong đó xác suất sinh ra `banned` thấp hơn 2 trạng thái còn lại)"
   ]
  },
  {
   "cell_type": "code",
   "execution_count": 27,
   "id": "c79c1295",
   "metadata": {},
   "outputs": [],
   "source": [
    "def generate_random_user_status():\n",
    "    status = ['active', 'inactive', 'banned']\n",
    "    probability = [0.65, 0.25, 0.1]\n",
    "    return random.choices(status, weights=probability, k=1)[0]"
   ]
  },
  {
   "cell_type": "markdown",
   "id": "70b9702e",
   "metadata": {},
   "source": [
    "Tạo địa chỉ ngẫu nhiên (Sử dụng database lưu trữ các khu vực hành chính của Việt Nam)"
   ]
  },
  {
   "cell_type": "code",
   "execution_count": 28,
   "id": "2f9a27f4",
   "metadata": {},
   "outputs": [],
   "source": [
    "def fetch_addresses():\n",
    "    address_db = os.getenv('DB_ADDRESS')\n",
    "    conn = get_db_connection(address_db)\n",
    "    df = pd.read_sql(\"SELECT * FROM address\", conn)\n",
    "    conn.close()\n",
    "    return df\n",
    "\n",
    "def generate_random_address(address_df):\n",
    "    row = address_df.sample(n=1).iloc[0]\n",
    "    ward = row['wards']\n",
    "    district = row['districts']\n",
    "    province = row['provinces']\n",
    "\n",
    "    return f\"{ward}, {district}, {province}\""
   ]
  },
  {
   "cell_type": "markdown",
   "id": "509a4107",
   "metadata": {},
   "source": [
    "Tạo tài khoản ngẫu nhiên"
   ]
  },
  {
   "cell_type": "code",
   "execution_count": 29,
   "id": "212299a0",
   "metadata": {},
   "outputs": [],
   "source": [
    "email_used = set()\n",
    "\n",
    "\n",
    "def generate_account(id):\n",
    "    try:\n",
    "\n",
    "        username = generate_random_string(length=random.randint(5, 10))\n",
    "        password = generate_random_string(length=random.randint(8, 12), use_special=True)\n",
    "\n",
    "        gender = random.randint(0, 1)\n",
    "        name = generator.generate(gender)\n",
    "        \n",
    "        while True:\n",
    "            email = generate_email(name)\n",
    "            if email not in email_used:\n",
    "                email_used.add(email)\n",
    "                break\n",
    "\n",
    "        status = generate_random_user_status()\n",
    "\n",
    "        create_at = generate_random_date(\"2023-01-01\", datetime.now().strftime(\"%Y-%m-%d\"))\n",
    "        update_at = generate_random_date(create_at, datetime.now().strftime(\"%Y-%m-%d\"))\n",
    "\n",
    "\n",
    "        return {\n",
    "            'id': id,\n",
    "            'username': username,\n",
    "            'password': password,\n",
    "            'name': name,\n",
    "            'email': email,\n",
    "            'status': status,\n",
    "            'created_at': create_at,\n",
    "            'updated_at': update_at\n",
    "        }\n",
    "    \n",
    "    except Exception as e:\n",
    "        print('Error generating user: ', e)\n",
    "        return None\n"
   ]
  },
  {
   "cell_type": "markdown",
   "id": "1c2aeb41",
   "metadata": {},
   "source": [
    "Sử dụng ThreadPoolExecutor để tạo nhiều luồng sinh tài khoản, tăng tốc độ xử lý khi phải sinh dữ liệu với số lượng lớn"
   ]
  },
  {
   "cell_type": "code",
   "execution_count": 30,
   "id": "60f6e7a8",
   "metadata": {},
   "outputs": [],
   "source": [
    "def generate_accounts(n, max_workers=16):\n",
    "    data = []\n",
    "    with ThreadPoolExecutor(max_workers=max_workers) as executor:\n",
    "        futures = [executor.submit(generate_account, i) for i in range(n)]\n",
    "        for f in tqdm (as_completed(futures), total=n, desc=\"Generating account rows\", unit=\"record\", colour=\"green\"):\n",
    "            result = f.result()\n",
    "            if result:\n",
    "                data.append(result)\n",
    "    \n",
    "    return pd.DataFrame(data)"
   ]
  },
  {
   "cell_type": "code",
   "execution_count": 31,
   "id": "0765da17",
   "metadata": {},
   "outputs": [
    {
     "name": "stdout",
     "output_type": "stream",
     "text": [
      "Create accounts...\n",
      "----------------------------------\n"
     ]
    },
    {
     "name": "stderr",
     "output_type": "stream",
     "text": [
      "Generating account rows: 100%|\u001b[32m██████████\u001b[0m| 1000000/1000000 [03:48<00:00, 4371.86record/s]\n"
     ]
    },
    {
     "name": "stdout",
     "output_type": "stream",
     "text": [
      "Create accounts done!\n",
      "----------------------------------\n"
     ]
    }
   ],
   "source": [
    "random.seed(RANDOM_SEED)\n",
    "\n",
    "print('Create accounts...')\n",
    "print('----------------------------------')\n",
    "account_df = generate_accounts(n=NUM_ROWS, max_workers=NUM_WORKERS)\n",
    "print('Create accounts done!')\n",
    "print('----------------------------------')\n"
   ]
  },
  {
   "cell_type": "code",
   "execution_count": 32,
   "id": "5fc8de99",
   "metadata": {},
   "outputs": [
    {
     "data": {
      "text/html": [
       "<div>\n",
       "<style scoped>\n",
       "    .dataframe tbody tr th:only-of-type {\n",
       "        vertical-align: middle;\n",
       "    }\n",
       "\n",
       "    .dataframe tbody tr th {\n",
       "        vertical-align: top;\n",
       "    }\n",
       "\n",
       "    .dataframe thead th {\n",
       "        text-align: right;\n",
       "    }\n",
       "</style>\n",
       "<table border=\"1\" class=\"dataframe\">\n",
       "  <thead>\n",
       "    <tr style=\"text-align: right;\">\n",
       "      <th></th>\n",
       "      <th>id</th>\n",
       "      <th>username</th>\n",
       "      <th>password</th>\n",
       "      <th>name</th>\n",
       "      <th>email</th>\n",
       "      <th>status</th>\n",
       "      <th>created_at</th>\n",
       "      <th>updated_at</th>\n",
       "    </tr>\n",
       "  </thead>\n",
       "  <tbody>\n",
       "    <tr>\n",
       "      <th>0</th>\n",
       "      <td>0</td>\n",
       "      <td>gTpigTHKbf</td>\n",
       "      <td>KboVNqR7a</td>\n",
       "      <td>Ngô Nhã Lý</td>\n",
       "      <td>lyn390@yahoo.com</td>\n",
       "      <td>active</td>\n",
       "      <td>2023-12-19</td>\n",
       "      <td>2024-10-23</td>\n",
       "    </tr>\n",
       "    <tr>\n",
       "      <th>1</th>\n",
       "      <td>1</td>\n",
       "      <td>YTH8xIZ</td>\n",
       "      <td>#AofW4_!@BH8</td>\n",
       "      <td>Đỗ Nhật Lệ</td>\n",
       "      <td>do.le@outlook.com</td>\n",
       "      <td>active</td>\n",
       "      <td>2023-09-08</td>\n",
       "      <td>2024-02-22</td>\n",
       "    </tr>\n",
       "    <tr>\n",
       "      <th>2</th>\n",
       "      <td>2</td>\n",
       "      <td>x9NIQ0Wo</td>\n",
       "      <td>6De%P0pK</td>\n",
       "      <td>Hoàng Lâm Trường</td>\n",
       "      <td>hoang_763599@ptit.edu.vn</td>\n",
       "      <td>inactive</td>\n",
       "      <td>2024-02-13</td>\n",
       "      <td>2024-08-16</td>\n",
       "    </tr>\n",
       "    <tr>\n",
       "      <th>3</th>\n",
       "      <td>3</td>\n",
       "      <td>9iEU1j</td>\n",
       "      <td>5EeB-M*!a</td>\n",
       "      <td>Trương Minh Nhi</td>\n",
       "      <td>tnhi@stu.ptit.edu.vn</td>\n",
       "      <td>active</td>\n",
       "      <td>2025-01-09</td>\n",
       "      <td>2025-05-01</td>\n",
       "    </tr>\n",
       "    <tr>\n",
       "      <th>4</th>\n",
       "      <td>4</td>\n",
       "      <td>5UQSyP</td>\n",
       "      <td>FLiqyQqqfU</td>\n",
       "      <td>Lê Bạch Mai</td>\n",
       "      <td>maile498@hotmail.com</td>\n",
       "      <td>active</td>\n",
       "      <td>2025-01-10</td>\n",
       "      <td>2025-05-02</td>\n",
       "    </tr>\n",
       "  </tbody>\n",
       "</table>\n",
       "</div>"
      ],
      "text/plain": [
       "   id    username      password              name                     email  \\\n",
       "0   0  gTpigTHKbf     KboVNqR7a        Ngô Nhã Lý          lyn390@yahoo.com   \n",
       "1   1     YTH8xIZ  #AofW4_!@BH8        Đỗ Nhật Lệ         do.le@outlook.com   \n",
       "2   2    x9NIQ0Wo      6De%P0pK  Hoàng Lâm Trường  hoang_763599@ptit.edu.vn   \n",
       "3   3      9iEU1j     5EeB-M*!a   Trương Minh Nhi      tnhi@stu.ptit.edu.vn   \n",
       "4   4      5UQSyP    FLiqyQqqfU       Lê Bạch Mai      maile498@hotmail.com   \n",
       "\n",
       "     status  created_at  updated_at  \n",
       "0    active  2023-12-19  2024-10-23  \n",
       "1    active  2023-09-08  2024-02-22  \n",
       "2  inactive  2024-02-13  2024-08-16  \n",
       "3    active  2025-01-09  2025-05-01  \n",
       "4    active  2025-01-10  2025-05-02  "
      ]
     },
     "execution_count": 32,
     "metadata": {},
     "output_type": "execute_result"
    }
   ],
   "source": [
    "account_df.sort_values(by='id', inplace=True)\n",
    "account_df.reset_index(drop=True, inplace=True)\n",
    "\n",
    "account_df.head()"
   ]
  },
  {
   "cell_type": "markdown",
   "id": "2130efb5",
   "metadata": {},
   "source": [
    "### 2.Tạo dataframe `customer` và `manager`"
   ]
  },
  {
   "cell_type": "markdown",
   "id": "271ce24e",
   "metadata": {},
   "source": [
    "Phân bổ tài khoản cho `customer` và `manager` (200 tài khoản cho manager và phần còn lại cho customer)"
   ]
  },
  {
   "cell_type": "code",
   "execution_count": 33,
   "id": "cf2fd316",
   "metadata": {},
   "outputs": [],
   "source": [
    "eligible_accounts = account_df[account_df['status'] != 'banned']\n",
    "\n",
    "manager_ids = eligible_accounts.sample(n=200, random_state=RANDOM_SEED).index\n",
    "\n",
    "customer_ids = sorted(account_df.drop(manager_ids).index.to_list())\n",
    "\n",
    "manager_ids = sorted(manager_ids.to_list())"
   ]
  },
  {
   "cell_type": "markdown",
   "id": "6663b354",
   "metadata": {},
   "source": [
    "Tạo dataframe `customer` (id, account_id, phone_number, address)"
   ]
  },
  {
   "cell_type": "code",
   "execution_count": 34,
   "id": "d2a0cbd2",
   "metadata": {},
   "outputs": [],
   "source": [
    "def generate_customer(id, account_id, address_df):\n",
    "    \n",
    "    phone = generate_phone_number()\n",
    "    address = generate_random_address(address_df)\n",
    "\n",
    "    return {\n",
    "        'id': id,\n",
    "        'account_id': account_id,\n",
    "        'phone_number': phone,\n",
    "        'address': address\n",
    "    }"
   ]
  },
  {
   "cell_type": "markdown",
   "id": "e7777b3b",
   "metadata": {},
   "source": [
    "Tạo dataframe `manager` (id, role_id, account_id)"
   ]
  },
  {
   "cell_type": "markdown",
   "id": "98ac168a",
   "metadata": {},
   "source": [
    "Tạo role_id ngẫu nhiên cho toàn bộ nhân viên"
   ]
  },
  {
   "cell_type": "code",
   "execution_count": 35,
   "id": "9cea4a7e",
   "metadata": {},
   "outputs": [],
   "source": [
    "random.seed(RANDOM_SEED)\n",
    "\n",
    "role_ids = random.choices(role_df['id'].tolist(), k=len(manager_ids))"
   ]
  },
  {
   "cell_type": "code",
   "execution_count": 36,
   "id": "fe184088",
   "metadata": {},
   "outputs": [],
   "source": [
    "def generate_manager(id, account_id, role_id):\n",
    "    \n",
    "    return {\n",
    "        'id': id,\n",
    "        'account_id': account_id,\n",
    "        'role_id': role_id,\n",
    "    }"
   ]
  },
  {
   "cell_type": "markdown",
   "id": "83419a81",
   "metadata": {},
   "source": [
    "Dùng ThreadPoolExecutor tạo customers và managers"
   ]
  },
  {
   "cell_type": "code",
   "execution_count": 37,
   "id": "a19d3dcc",
   "metadata": {},
   "outputs": [],
   "source": [
    "def generate_customers(address_df, max_workers=16):\n",
    "    customers = []\n",
    "    with ThreadPoolExecutor(max_workers=max_workers) as executor:\n",
    "        futures = [executor.submit(generate_customer, i, account_id, address_df) for i, account_id in enumerate(customer_ids)]\n",
    "        \n",
    "        for f in tqdm (as_completed(futures), total=len(customer_ids), desc=\"Generating customer rows\", unit=\"record\", colour=\"green\"):\n",
    "            result = f.result()\n",
    "            if result:\n",
    "                customers.append(result)\n",
    "        \n",
    "    return pd.DataFrame(customers)\n",
    "\n",
    "def generate_managers(max_workers=16):\n",
    "    managers = []\n",
    "    with ThreadPoolExecutor(max_workers=max_workers) as executor:\n",
    "        futures = [executor.submit(generate_manager, i, account_id, role_id) for i, (account_id, role_id) in enumerate(zip(manager_ids, role_ids))]\n",
    "        \n",
    "        for f in tqdm (as_completed(futures), total=len(manager_ids), desc=\"Generating manager rows\", unit=\"record\", colour=\"green\"):\n",
    "            result = f.result()\n",
    "            if result:\n",
    "                managers.append(result)\n",
    "        \n",
    "    return pd.DataFrame(managers)"
   ]
  },
  {
   "cell_type": "markdown",
   "id": "b715185c",
   "metadata": {},
   "source": [
    "Load dataset các khu vực hành chính"
   ]
  },
  {
   "cell_type": "code",
   "execution_count": 38,
   "id": "3d69a7d8",
   "metadata": {},
   "outputs": [
    {
     "name": "stdout",
     "output_type": "stream",
     "text": [
      "Fetching address data...\n",
      "----------------------------------\n",
      "Fetching address data done!\n"
     ]
    },
    {
     "name": "stderr",
     "output_type": "stream",
     "text": [
      "C:\\Users\\ADMIN\\AppData\\Local\\Temp\\ipykernel_3604\\3675934813.py:4: UserWarning: pandas only supports SQLAlchemy connectable (engine/connection) or database string URI or sqlite3 DBAPI2 connection. Other DBAPI2 objects are not tested. Please consider using SQLAlchemy.\n",
      "  df = pd.read_sql(\"SELECT * FROM address\", conn)\n"
     ]
    }
   ],
   "source": [
    "print('Fetching address data...')\n",
    "print('----------------------------------')\n",
    "address_df = fetch_addresses()\n",
    "print('Fetching address data done!')"
   ]
  },
  {
   "cell_type": "code",
   "execution_count": 39,
   "id": "2ddff310",
   "metadata": {},
   "outputs": [
    {
     "data": {
      "text/html": [
       "<div>\n",
       "<style scoped>\n",
       "    .dataframe tbody tr th:only-of-type {\n",
       "        vertical-align: middle;\n",
       "    }\n",
       "\n",
       "    .dataframe tbody tr th {\n",
       "        vertical-align: top;\n",
       "    }\n",
       "\n",
       "    .dataframe thead th {\n",
       "        text-align: right;\n",
       "    }\n",
       "</style>\n",
       "<table border=\"1\" class=\"dataframe\">\n",
       "  <thead>\n",
       "    <tr style=\"text-align: right;\">\n",
       "      <th></th>\n",
       "      <th>id</th>\n",
       "      <th>wards</th>\n",
       "      <th>districts</th>\n",
       "      <th>provinces</th>\n",
       "    </tr>\n",
       "  </thead>\n",
       "  <tbody>\n",
       "    <tr>\n",
       "      <th>0</th>\n",
       "      <td>0</td>\n",
       "      <td>Phường Quang Trung</td>\n",
       "      <td>Thành phố Hà Giang</td>\n",
       "      <td>Tỉnh Hà Giang</td>\n",
       "    </tr>\n",
       "    <tr>\n",
       "      <th>1</th>\n",
       "      <td>1</td>\n",
       "      <td>Phường Trần Phú</td>\n",
       "      <td>Thành phố Hà Giang</td>\n",
       "      <td>Tỉnh Hà Giang</td>\n",
       "    </tr>\n",
       "    <tr>\n",
       "      <th>2</th>\n",
       "      <td>2</td>\n",
       "      <td>Phường Ngọc Hà</td>\n",
       "      <td>Thành phố Hà Giang</td>\n",
       "      <td>Tỉnh Hà Giang</td>\n",
       "    </tr>\n",
       "    <tr>\n",
       "      <th>3</th>\n",
       "      <td>3</td>\n",
       "      <td>Phường Nguyễn Trãi</td>\n",
       "      <td>Thành phố Hà Giang</td>\n",
       "      <td>Tỉnh Hà Giang</td>\n",
       "    </tr>\n",
       "    <tr>\n",
       "      <th>4</th>\n",
       "      <td>4</td>\n",
       "      <td>Phường Minh Khai</td>\n",
       "      <td>Thành phố Hà Giang</td>\n",
       "      <td>Tỉnh Hà Giang</td>\n",
       "    </tr>\n",
       "  </tbody>\n",
       "</table>\n",
       "</div>"
      ],
      "text/plain": [
       "   id               wards           districts      provinces\n",
       "0   0  Phường Quang Trung  Thành phố Hà Giang  Tỉnh Hà Giang\n",
       "1   1     Phường Trần Phú  Thành phố Hà Giang  Tỉnh Hà Giang\n",
       "2   2      Phường Ngọc Hà  Thành phố Hà Giang  Tỉnh Hà Giang\n",
       "3   3  Phường Nguyễn Trãi  Thành phố Hà Giang  Tỉnh Hà Giang\n",
       "4   4    Phường Minh Khai  Thành phố Hà Giang  Tỉnh Hà Giang"
      ]
     },
     "execution_count": 39,
     "metadata": {},
     "output_type": "execute_result"
    }
   ],
   "source": [
    "address_df.head()"
   ]
  },
  {
   "cell_type": "markdown",
   "id": "d54e7b0e",
   "metadata": {},
   "source": [
    "Tiến hành tạo dataframe `customer` và `manager`"
   ]
  },
  {
   "cell_type": "code",
   "execution_count": 40,
   "id": "0ff2539a",
   "metadata": {},
   "outputs": [
    {
     "name": "stdout",
     "output_type": "stream",
     "text": [
      "Generate customer data...\n",
      "----------------------------------\n"
     ]
    },
    {
     "name": "stderr",
     "output_type": "stream",
     "text": [
      "Generating customer rows: 100%|\u001b[32m██████████\u001b[0m| 999800/999800 [11:05<00:00, 1501.37record/s]\n"
     ]
    },
    {
     "name": "stdout",
     "output_type": "stream",
     "text": [
      "Generate customer data done!\n",
      "----------------------------------\n",
      "Generate manager data...\n",
      "----------------------------------\n"
     ]
    },
    {
     "name": "stderr",
     "output_type": "stream",
     "text": [
      "Generating manager rows: 100%|\u001b[32m██████████\u001b[0m| 200/200 [00:00<00:00, 93155.00record/s]"
     ]
    },
    {
     "name": "stdout",
     "output_type": "stream",
     "text": [
      "Generate manager data done!\n",
      "----------------------------------\n"
     ]
    },
    {
     "name": "stderr",
     "output_type": "stream",
     "text": [
      "\n"
     ]
    }
   ],
   "source": [
    "print('Generate customer data...')\n",
    "print('----------------------------------')\n",
    "customer_df = generate_customers(address_df, max_workers=NUM_WORKERS)\n",
    "print('Generate customer data done!')\n",
    "print('----------------------------------')\n",
    "\n",
    "print('Generate manager data...')\n",
    "print('----------------------------------')\n",
    "manager_df = generate_managers(max_workers=NUM_WORKERS)\n",
    "print('Generate manager data done!')\n",
    "print('----------------------------------')"
   ]
  },
  {
   "cell_type": "code",
   "execution_count": 41,
   "id": "9b2deb50",
   "metadata": {},
   "outputs": [],
   "source": [
    "customer_df.sort_values(by='id', inplace=True)\n",
    "customer_df.reset_index(drop=True, inplace=True)\n",
    "\n",
    "manager_df.sort_values(by='id', inplace=True)\n",
    "manager_df.reset_index(drop=True, inplace=True)"
   ]
  },
  {
   "cell_type": "code",
   "execution_count": 42,
   "id": "0ef943d4",
   "metadata": {},
   "outputs": [
    {
     "data": {
      "text/html": [
       "<div>\n",
       "<style scoped>\n",
       "    .dataframe tbody tr th:only-of-type {\n",
       "        vertical-align: middle;\n",
       "    }\n",
       "\n",
       "    .dataframe tbody tr th {\n",
       "        vertical-align: top;\n",
       "    }\n",
       "\n",
       "    .dataframe thead th {\n",
       "        text-align: right;\n",
       "    }\n",
       "</style>\n",
       "<table border=\"1\" class=\"dataframe\">\n",
       "  <thead>\n",
       "    <tr style=\"text-align: right;\">\n",
       "      <th></th>\n",
       "      <th>id</th>\n",
       "      <th>account_id</th>\n",
       "      <th>phone_number</th>\n",
       "      <th>address</th>\n",
       "    </tr>\n",
       "  </thead>\n",
       "  <tbody>\n",
       "    <tr>\n",
       "      <th>0</th>\n",
       "      <td>0</td>\n",
       "      <td>0</td>\n",
       "      <td>0343267736</td>\n",
       "      <td>Phường Phong Hải, Thị xã Quảng Yên, Tỉnh Quảng...</td>\n",
       "    </tr>\n",
       "    <tr>\n",
       "      <th>1</th>\n",
       "      <td>1</td>\n",
       "      <td>1</td>\n",
       "      <td>0332606474</td>\n",
       "      <td>Xã Thạnh Bắc, Huyện Tân Biên, Tỉnh Tây Ninh</td>\n",
       "    </tr>\n",
       "    <tr>\n",
       "      <th>2</th>\n",
       "      <td>2</td>\n",
       "      <td>2</td>\n",
       "      <td>0918723430</td>\n",
       "      <td>Xã Thanh Xuân, Huyện Thanh Hà, Tỉnh Hải Dương</td>\n",
       "    </tr>\n",
       "    <tr>\n",
       "      <th>3</th>\n",
       "      <td>3</td>\n",
       "      <td>3</td>\n",
       "      <td>0848050097</td>\n",
       "      <td>Xã Tân Cương, Thành phố Thái Nguyên, Tỉnh Thái...</td>\n",
       "    </tr>\n",
       "    <tr>\n",
       "      <th>4</th>\n",
       "      <td>4</td>\n",
       "      <td>4</td>\n",
       "      <td>0828208121</td>\n",
       "      <td>Xã Tân Nghĩa, Huyện Cao Lãnh, Tỉnh Đồng Tháp</td>\n",
       "    </tr>\n",
       "  </tbody>\n",
       "</table>\n",
       "</div>"
      ],
      "text/plain": [
       "   id  account_id phone_number  \\\n",
       "0   0           0   0343267736   \n",
       "1   1           1   0332606474   \n",
       "2   2           2   0918723430   \n",
       "3   3           3   0848050097   \n",
       "4   4           4   0828208121   \n",
       "\n",
       "                                             address  \n",
       "0  Phường Phong Hải, Thị xã Quảng Yên, Tỉnh Quảng...  \n",
       "1        Xã Thạnh Bắc, Huyện Tân Biên, Tỉnh Tây Ninh  \n",
       "2      Xã Thanh Xuân, Huyện Thanh Hà, Tỉnh Hải Dương  \n",
       "3  Xã Tân Cương, Thành phố Thái Nguyên, Tỉnh Thái...  \n",
       "4       Xã Tân Nghĩa, Huyện Cao Lãnh, Tỉnh Đồng Tháp  "
      ]
     },
     "execution_count": 42,
     "metadata": {},
     "output_type": "execute_result"
    }
   ],
   "source": [
    "customer_df.head()"
   ]
  },
  {
   "cell_type": "code",
   "execution_count": 43,
   "id": "119a3dca",
   "metadata": {},
   "outputs": [
    {
     "data": {
      "text/html": [
       "<div>\n",
       "<style scoped>\n",
       "    .dataframe tbody tr th:only-of-type {\n",
       "        vertical-align: middle;\n",
       "    }\n",
       "\n",
       "    .dataframe tbody tr th {\n",
       "        vertical-align: top;\n",
       "    }\n",
       "\n",
       "    .dataframe thead th {\n",
       "        text-align: right;\n",
       "    }\n",
       "</style>\n",
       "<table border=\"1\" class=\"dataframe\">\n",
       "  <thead>\n",
       "    <tr style=\"text-align: right;\">\n",
       "      <th></th>\n",
       "      <th>id</th>\n",
       "      <th>account_id</th>\n",
       "      <th>role_id</th>\n",
       "    </tr>\n",
       "  </thead>\n",
       "  <tbody>\n",
       "    <tr>\n",
       "      <th>0</th>\n",
       "      <td>0</td>\n",
       "      <td>5015</td>\n",
       "      <td>2</td>\n",
       "    </tr>\n",
       "    <tr>\n",
       "      <th>1</th>\n",
       "      <td>1</td>\n",
       "      <td>11459</td>\n",
       "      <td>1</td>\n",
       "    </tr>\n",
       "    <tr>\n",
       "      <th>2</th>\n",
       "      <td>2</td>\n",
       "      <td>15265</td>\n",
       "      <td>1</td>\n",
       "    </tr>\n",
       "    <tr>\n",
       "      <th>3</th>\n",
       "      <td>3</td>\n",
       "      <td>18994</td>\n",
       "      <td>1</td>\n",
       "    </tr>\n",
       "    <tr>\n",
       "      <th>4</th>\n",
       "      <td>4</td>\n",
       "      <td>21352</td>\n",
       "      <td>3</td>\n",
       "    </tr>\n",
       "  </tbody>\n",
       "</table>\n",
       "</div>"
      ],
      "text/plain": [
       "   id  account_id  role_id\n",
       "0   0        5015        2\n",
       "1   1       11459        1\n",
       "2   2       15265        1\n",
       "3   3       18994        1\n",
       "4   4       21352        3"
      ]
     },
     "execution_count": 43,
     "metadata": {},
     "output_type": "execute_result"
    }
   ],
   "source": [
    "manager_df.head()"
   ]
  },
  {
   "cell_type": "markdown",
   "id": "704729f8",
   "metadata": {},
   "source": [
    "## II. Load"
   ]
  },
  {
   "cell_type": "markdown",
   "id": "9215053e",
   "metadata": {},
   "source": [
    "Kết nối với Database"
   ]
  },
  {
   "cell_type": "code",
   "execution_count": 44,
   "id": "2366c2bb",
   "metadata": {},
   "outputs": [],
   "source": [
    "DB_NAME = os.getenv('DB_NAME')\n",
    "conn = get_db_connection(DB_NAME)\n",
    "cursor = conn.cursor()"
   ]
  },
  {
   "cell_type": "markdown",
   "id": "938b2a40",
   "metadata": {},
   "source": [
    "Loại bỏ các bảng nếu tồn tại trong database"
   ]
  },
  {
   "cell_type": "code",
   "execution_count": 45,
   "id": "856167d2",
   "metadata": {},
   "outputs": [
    {
     "data": {
      "text/plain": [
       "<pyodbc.Cursor at 0x223b863ddb0>"
      ]
     },
     "execution_count": 45,
     "metadata": {},
     "output_type": "execute_result"
    }
   ],
   "source": [
    "cursor.execute(\"\"\"\n",
    "    IF OBJECT_ID('customer', 'U') IS NOT NULL DROP TABLE customer;\n",
    "               \n",
    "    IF OBJECT_ID('manager', 'U') IS NOT NULL DROP TABLE manager               \n",
    "\n",
    "    IF OBJECT_ID('account', 'U') IS NOT NULL DROP TABLE account;\n",
    "\"\"\")"
   ]
  },
  {
   "cell_type": "code",
   "execution_count": 46,
   "id": "581ff8d2",
   "metadata": {},
   "outputs": [
    {
     "data": {
      "text/plain": [
       "<pyodbc.Cursor at 0x223b863ddb0>"
      ]
     },
     "execution_count": 46,
     "metadata": {},
     "output_type": "execute_result"
    }
   ],
   "source": [
    "cursor.execute(\"\"\"\n",
    "    IF OBJECT_ID('role_permission', 'U') IS NOT NULL DROP TABLE role_permission;\n",
    "    \n",
    "    IF OBJECT_ID('permission', 'U') IS NOT NULL DROP TABLE permission;\n",
    "    \n",
    "    IF OBJECT_ID('role', 'U') IS NOT NULL DROP TABLE [role];\n",
    "\"\"\")"
   ]
  },
  {
   "cell_type": "markdown",
   "id": "351867e5",
   "metadata": {},
   "source": [
    "### 1. Lưu dataframe `role`, `permission`, `role_permission` vào SQL Server"
   ]
  },
  {
   "cell_type": "markdown",
   "id": "e3c944d1",
   "metadata": {},
   "source": [
    "Tạo bảng `role`, `permission`, `role_permission`"
   ]
  },
  {
   "cell_type": "code",
   "execution_count": 47,
   "id": "c0ab7fb6",
   "metadata": {},
   "outputs": [
    {
     "data": {
      "text/plain": [
       "<pyodbc.Cursor at 0x223b863ddb0>"
      ]
     },
     "execution_count": 47,
     "metadata": {},
     "output_type": "execute_result"
    }
   ],
   "source": [
    "cursor.execute(\"\"\"\n",
    "    CREATE TABLE [role] (\n",
    "        id INT PRIMARY KEY IDENTITY(1,1),\n",
    "        name NVARCHAR(255) NOT NULL,\n",
    "        status NVARCHAR(50) DEFAULT 'Active'\n",
    "    )\n",
    "\"\"\")\n",
    "\n",
    "cursor.execute(\"\"\"\n",
    "    CREATE TABLE permission (\n",
    "        id INT PRIMARY KEY IDENTITY(1,1),\n",
    "        name NVARCHAR(255) NOT NULL,\n",
    "    )\n",
    "\"\"\")\n",
    "\n",
    "cursor.execute(\"\"\"\n",
    "    CREATE TABLE role_permission (\n",
    "        role_id INT,\n",
    "        permission_id INT,\n",
    "        CONSTRAINT pk_role_permission PRIMARY KEY (role_id, permission_id),\n",
    "        CONSTRAINT fk_role_permission_role FOREIGN KEY (role_id) REFERENCES [role](id),\n",
    "        CONSTRAINT fk_role_permission_permission FOREIGN KEY (permission_id) REFERENCES permission(id)\n",
    "    );\n",
    "\"\"\")"
   ]
  },
  {
   "cell_type": "markdown",
   "id": "e4d7d911",
   "metadata": {},
   "source": [
    "Tạo tuples từ dataframe"
   ]
  },
  {
   "cell_type": "code",
   "execution_count": 48,
   "id": "9a845285",
   "metadata": {},
   "outputs": [],
   "source": [
    "role_tuples = [\n",
    "    tuple(None if pd.isna(x) else x for x in row)\n",
    "    for row in role_df.itertuples(index=False, name=None)\n",
    "]\n",
    "\n",
    "permission_tuples = [\n",
    "    tuple(None if pd.isna(x) else x for x in row)\n",
    "    for row in permission_df.itertuples(index=False, name=None)\n",
    "]\n",
    "\n",
    "role_permission_tuples = [\n",
    "    tuple(None if pd.isna(x) else x for x in row)\n",
    "    for row in role_permission_df.itertuples(index=False, name=None)\n",
    "]"
   ]
  },
  {
   "cell_type": "markdown",
   "id": "6d8638fd",
   "metadata": {},
   "source": [
    "Chèn dữ liệu vào bảng `role`"
   ]
  },
  {
   "cell_type": "code",
   "execution_count": 49,
   "id": "3d6d0e7b",
   "metadata": {},
   "outputs": [
    {
     "data": {
      "text/plain": [
       "<pyodbc.Cursor at 0x223b863ddb0>"
      ]
     },
     "execution_count": 49,
     "metadata": {},
     "output_type": "execute_result"
    }
   ],
   "source": [
    "cursor.execute(\"SET IDENTITY_INSERT [role] ON;\")\n",
    "cursor.executemany(\"INSERT INTO [role] (id, name, status) VALUES (?, ?, ?)\", role_tuples)\n",
    "cursor.execute(\"SET IDENTITY_INSERT [role] OFF;\")"
   ]
  },
  {
   "cell_type": "markdown",
   "id": "e66f84f9",
   "metadata": {},
   "source": [
    "Chèn dữ liệu vào bảng `permission`"
   ]
  },
  {
   "cell_type": "code",
   "execution_count": 50,
   "id": "ee77491a",
   "metadata": {},
   "outputs": [
    {
     "data": {
      "text/plain": [
       "<pyodbc.Cursor at 0x223b863ddb0>"
      ]
     },
     "execution_count": 50,
     "metadata": {},
     "output_type": "execute_result"
    }
   ],
   "source": [
    "cursor.execute(\"SET IDENTITY_INSERT [permission] ON;\")\n",
    "cursor.executemany(\"INSERT INTO permission (id, name) VALUES (?, ?)\", permission_tuples)\n",
    "cursor.execute(\"SET IDENTITY_INSERT [permission] OFF;\")"
   ]
  },
  {
   "cell_type": "markdown",
   "id": "4074e1ad",
   "metadata": {},
   "source": [
    "Chèn dữ liệu vào bảng `role_permission`"
   ]
  },
  {
   "cell_type": "code",
   "execution_count": 51,
   "id": "d7660525",
   "metadata": {},
   "outputs": [],
   "source": [
    "cursor.executemany(\"INSERT INTO role_permission (role_id, permission_id) VALUES (?, ?)\", role_permission_tuples)"
   ]
  },
  {
   "cell_type": "markdown",
   "id": "0a5cfdbe",
   "metadata": {},
   "source": [
    "### 2. Lưu dataframe `customer`, `manager`, `account` vào SQL Server"
   ]
  },
  {
   "cell_type": "markdown",
   "id": "40651b0b",
   "metadata": {},
   "source": [
    "Tạo bảng `customer`, `manager`, `account`"
   ]
  },
  {
   "cell_type": "code",
   "execution_count": 52,
   "id": "b4ac380f",
   "metadata": {},
   "outputs": [
    {
     "data": {
      "text/plain": [
       "<pyodbc.Cursor at 0x223b863ddb0>"
      ]
     },
     "execution_count": 52,
     "metadata": {},
     "output_type": "execute_result"
    }
   ],
   "source": [
    "cursor.execute(\"\"\"\n",
    "    CREATE TABLE account (\n",
    "        id INT PRIMARY KEY IDENTITY(1,1),\n",
    "        username NVARCHAR(255) NOT NULL,\n",
    "        password NVARCHAR(255) NOT NULL,\n",
    "        full_name NVARCHAR(255) NOT NULL,\n",
    "        email NVARCHAR(255) UNIQUE NOT NULL,\n",
    "        status NVARCHAR(50) DEFAULT 'Active',\n",
    "        created_at DATETIME DEFAULT GETDATE(),\n",
    "        updated_at DATETIME\n",
    "    )\n",
    "\"\"\")\n",
    "\n",
    "cursor.execute(\"\"\"\n",
    "    CREATE TABLE customer (\n",
    "        id INT PRIMARY KEY IDENTITY(1,1),\n",
    "        account_id INT NOT NULL,\n",
    "        phone_number NVARCHAR(15),\n",
    "        address NVARCHAR(500),\n",
    "        CONSTRAINT fk_customer_account FOREIGN KEY (account_id) REFERENCES account(id)\n",
    "    )\n",
    "\"\"\")\n",
    "\n",
    "cursor.execute(\"\"\"\n",
    "    CREATE TABLE manager (\n",
    "        id INT PRIMARY KEY IDENTITY(1,1),\n",
    "        account_id INT NOT NULL,\n",
    "        role_id INT NOT NULL,\n",
    "        CONSTRAINT fk_manager_role FOREIGN KEY (role_id) REFERENCES role(id),\n",
    "        CONSTRAINT fk_manager_account FOREIGN KEY (account_id) REFERENCES account(id)\n",
    "    )\n",
    "\"\"\")"
   ]
  },
  {
   "cell_type": "markdown",
   "id": "a71f5ecd",
   "metadata": {},
   "source": [
    "Tạo tuples từ dataframe"
   ]
  },
  {
   "cell_type": "code",
   "execution_count": 53,
   "id": "7b5431c0",
   "metadata": {},
   "outputs": [
    {
     "name": "stderr",
     "output_type": "stream",
     "text": [
      "Creating account tuples: 100%|\u001b[32m██████████\u001b[0m| 1000000/1000000 [00:15<00:00, 62972.90row/s]\n",
      "Creating customer tuples: 100%|\u001b[32m██████████\u001b[0m| 999800/999800 [00:03<00:00, 272245.49row/s]\n",
      "Creating manager tuples: 100%|\u001b[32m██████████\u001b[0m| 200/200 [00:00<00:00, 155488.56row/s]\n"
     ]
    }
   ],
   "source": [
    "account_tuples = [\n",
    "    tuple(None if pd.isna(x) else x for x in row)\n",
    "    for row in tqdm(account_df.itertuples(index=False, name=None), desc=\"Creating account tuples\", total=account_df.shape[0], unit=\"row\", colour=\"green\")\n",
    "]\n",
    "\n",
    "customer_tuples = [\n",
    "    tuple(None if pd.isna(x) else x for x in row)\n",
    "    for row in tqdm(customer_df.itertuples(index=False, name=None), desc=\"Creating customer tuples\", total=customer_df.shape[0], unit=\"row\", colour=\"green\")\n",
    "]\n",
    "\n",
    "manager_tuples = [\n",
    "    tuple(None if pd.isna(x) else x for x in row)\n",
    "    for row in tqdm(manager_df.itertuples(index=False, name=None), desc=\"Creating manager tuples\", total=manager_df.shape[0], unit=\"row\", colour=\"green\")\n",
    "]"
   ]
  },
  {
   "cell_type": "markdown",
   "id": "f1df1875",
   "metadata": {},
   "source": [
    "Chèn dữ liệu vào bảng `account`"
   ]
  },
  {
   "cell_type": "code",
   "execution_count": 54,
   "id": "d5fdf78f",
   "metadata": {},
   "outputs": [
    {
     "data": {
      "text/plain": [
       "<pyodbc.Cursor at 0x223b863ddb0>"
      ]
     },
     "execution_count": 54,
     "metadata": {},
     "output_type": "execute_result"
    }
   ],
   "source": [
    "cursor.execute(\"SET IDENTITY_INSERT account ON\")\n",
    "cursor.fast_executemany = True\n",
    "cursor.executemany(\n",
    "    \"INSERT INTO account (id, username, password, full_name, email, status, created_at, updated_at) VALUES (?, ?, ?, ?, ?, ?, ?, ?)\",\n",
    "    account_tuples\n",
    ")\n",
    "cursor.execute(\"SET IDENTITY_INSERT account OFF\")"
   ]
  },
  {
   "cell_type": "markdown",
   "id": "f0fa7080",
   "metadata": {},
   "source": [
    "Chèn dữ liệu vào bảng `customer`"
   ]
  },
  {
   "cell_type": "code",
   "execution_count": 55,
   "id": "133d71e5",
   "metadata": {},
   "outputs": [
    {
     "data": {
      "text/plain": [
       "<pyodbc.Cursor at 0x223b863ddb0>"
      ]
     },
     "execution_count": 55,
     "metadata": {},
     "output_type": "execute_result"
    }
   ],
   "source": [
    "cursor.execute(\"SET IDENTITY_INSERT customer ON\")\n",
    "cursor.executemany(\n",
    "    \"INSERT INTO customer (id, account_id, phone_number, address) VALUES (?, ?, ?, ?)\",\n",
    "    customer_tuples\n",
    ")\n",
    "cursor.execute(\"SET IDENTITY_INSERT customer OFF\")"
   ]
  },
  {
   "cell_type": "markdown",
   "id": "31c576e4",
   "metadata": {},
   "source": [
    "Chèn dữ liệu vào bảng `manager`"
   ]
  },
  {
   "cell_type": "code",
   "execution_count": 56,
   "id": "ed8af50c",
   "metadata": {},
   "outputs": [
    {
     "data": {
      "text/plain": [
       "<pyodbc.Cursor at 0x223b863ddb0>"
      ]
     },
     "execution_count": 56,
     "metadata": {},
     "output_type": "execute_result"
    }
   ],
   "source": [
    "cursor.execute(\"SET IDENTITY_INSERT manager ON\")\n",
    "cursor.executemany(\n",
    "    \"INSERT INTO manager (id, account_id, role_id) VALUES (?, ?, ?)\",\n",
    "    manager_tuples\n",
    ")\n",
    "cursor.execute(\"SET IDENTITY_INSERT manager OFF\")"
   ]
  },
  {
   "cell_type": "markdown",
   "id": "7b8f5924",
   "metadata": {},
   "source": [
    "### 3. Đóng kết nối"
   ]
  },
  {
   "cell_type": "code",
   "execution_count": 57,
   "id": "a02a1cf1",
   "metadata": {},
   "outputs": [],
   "source": [
    "conn.commit()\n",
    "conn.close()"
   ]
  }
 ],
 "metadata": {
  "kernelspec": {
   "display_name": "venv",
   "language": "python",
   "name": "python3"
  },
  "language_info": {
   "codemirror_mode": {
    "name": "ipython",
    "version": 3
   },
   "file_extension": ".py",
   "mimetype": "text/x-python",
   "name": "python",
   "nbconvert_exporter": "python",
   "pygments_lexer": "ipython3",
   "version": "3.13.1"
  }
 },
 "nbformat": 4,
 "nbformat_minor": 5
}
