{
 "cells": [
  {
   "cell_type": "code",
   "execution_count": 19,
   "id": "575ace7e",
   "metadata": {},
   "outputs": [],
   "source": [
    "import os\n",
    "import pyodbc\n",
    "import pandas as pd\n",
    "from tqdm import tqdm\n",
    "from dotenv import load_dotenv"
   ]
  },
  {
   "cell_type": "code",
   "execution_count": 20,
   "id": "b31c7d48",
   "metadata": {},
   "outputs": [
    {
     "data": {
      "text/plain": [
       "True"
      ]
     },
     "execution_count": 20,
     "metadata": {},
     "output_type": "execute_result"
    }
   ],
   "source": [
    "load_dotenv()"
   ]
  },
  {
   "cell_type": "code",
   "execution_count": 21,
   "id": "c85695e8",
   "metadata": {},
   "outputs": [],
   "source": [
    "def get_db_connection(DB_NAME:str):\n",
    "    conn = pyodbc.connect(\n",
    "        f\"DRIVER={os.getenv('DB_DRIVER')};\"\n",
    "        f\"SERVER={os.getenv('DB_SERVER')};\"\n",
    "        f\"DATABASE={DB_NAME};\"\n",
    "        f\"UID={os.getenv('DB_UID')};\"\n",
    "        f\"PWD={os.getenv('DB_PWD')};\"\n",
    "        f\"TrustServerCertificate={os.getenv('TRUST_SERVER_CERTIFICATE')};\"\n",
    "    )\n",
    "    \n",
    "    return conn\n"
   ]
  },
  {
   "cell_type": "markdown",
   "id": "c5d656ae",
   "metadata": {},
   "source": [
    "Save to sql server"
   ]
  },
  {
   "cell_type": "code",
   "execution_count": 22,
   "id": "c471e991",
   "metadata": {},
   "outputs": [],
   "source": [
    "account_df = pd.read_csv('./data/account.csv')\n",
    "customer_df = pd.read_csv('./data/customer.csv')\n",
    "manager_df = pd.read_csv('./data/manager.csv')\n",
    "\n",
    "DB_NAME = os.getenv('DB_NAME')\n",
    "conn = get_db_connection(DB_NAME)\n",
    "cursor = conn.cursor()"
   ]
  },
  {
   "cell_type": "code",
   "execution_count": 23,
   "id": "268a7380",
   "metadata": {},
   "outputs": [
    {
     "data": {
      "text/plain": [
       "<pyodbc.Cursor at 0x29daab836b0>"
      ]
     },
     "execution_count": 23,
     "metadata": {},
     "output_type": "execute_result"
    }
   ],
   "source": [
    "cursor.execute(\"\"\"\n",
    "    IF OBJECT_ID('customer', 'U') IS NOT NULL DROP TABLE customer;\n",
    "               \n",
    "    IF OBJECT_ID('manager', 'U') IS NOT NULL DROP TABLE manager               \n",
    "\n",
    "    IF OBJECT_ID('account', 'U') IS NOT NULL DROP TABLE account;\n",
    "\"\"\")\n",
    "\n",
    "cursor.execute(\"\"\"\n",
    "    CREATE TABLE account (\n",
    "        id INT PRIMARY KEY IDENTITY(1,1),\n",
    "        username NVARCHAR(255) NOT NULL,\n",
    "        password NVARCHAR(255) NOT NULL,\n",
    "        full_name NVARCHAR(255) NOT NULL,\n",
    "        email NVARCHAR(255) UNIQUE NOT NULL,\n",
    "        status NVARCHAR(50) DEFAULT 'Active',\n",
    "        created_at DATETIME DEFAULT GETDATE(),\n",
    "        updated_at DATETIME\n",
    "    )\n",
    "\"\"\")\n",
    "\n",
    "cursor.execute(\"\"\"\n",
    "    CREATE TABLE customer (\n",
    "        id INT PRIMARY KEY IDENTITY(1,1),\n",
    "        account_id INT NOT NULL,\n",
    "        phone_number NVARCHAR(15),\n",
    "        address NVARCHAR(500),\n",
    "        CONSTRAINT fk_customer_account FOREIGN KEY (account_id) REFERENCES account(id)\n",
    "    )\n",
    "\"\"\")\n",
    "\n",
    "cursor.execute(\"\"\"\n",
    "    CREATE TABLE manager (\n",
    "        id INT PRIMARY KEY IDENTITY(1,1),\n",
    "        role_id INT NOT NULL,\n",
    "        account_id INT NOT NULL,\n",
    "        CONSTRAINT fk_manager_role FOREIGN KEY (role_id) REFERENCES role(id),\n",
    "        CONSTRAINT fk_manager_account FOREIGN KEY (account_id) REFERENCES account(id)\n",
    "    )\n",
    "\"\"\")"
   ]
  },
  {
   "cell_type": "code",
   "execution_count": 29,
   "id": "9a19caea",
   "metadata": {},
   "outputs": [
    {
     "name": "stderr",
     "output_type": "stream",
     "text": [
      "Creating account tuples:   0%|          | 0/1000000 [00:00<?, ?row/s]"
     ]
    },
    {
     "name": "stderr",
     "output_type": "stream",
     "text": [
      "Creating account tuples: 100%|██████████| 1000000/1000000 [02:05<00:00, 7994.53row/s]\n",
      "Creating customer tuples: 100%|██████████| 999800/999800 [01:45<00:00, 9446.41row/s] \n",
      "Creating manager tuples: 100%|██████████| 200/200 [00:00<00:00, 9960.00row/s]\n"
     ]
    }
   ],
   "source": [
    "account_tuples = [\n",
    "    (index, row['username'], row['password'], row['name'], row['email'], row['status'], row['created_at'], row['updated_at'])\n",
    "    for index, row in tqdm(account_df.iterrows(), desc=\"Creating account tuples\", total=account_df.shape[0], unit=\"row\")\n",
    "]\n",
    "\n",
    "customer_tuples = [\n",
    "    (index, row['account_id'], row['phone_number'], row['address'])\n",
    "    for index, row in tqdm(customer_df.iterrows(), desc=\"Creating customer tuples\", total=customer_df.shape[0], unit=\"row\")\n",
    "]\n",
    "\n",
    "manager_tuples = [\n",
    "    (index, int(row['role_id']), int(row['account_id']))\n",
    "    for index, row in tqdm(manager_df.iterrows(), desc=\"Creating manager tuples\", total=manager_df.shape[0], unit=\"row\")\n",
    "]  "
   ]
  },
  {
   "cell_type": "code",
   "execution_count": null,
   "id": "2462f844",
   "metadata": {},
   "outputs": [
    {
     "ename": "ProgrammingError",
     "evalue": "('The SQL contains 4 parameter markers, but 3 parameters were supplied', 'HY000')",
     "output_type": "error",
     "traceback": [
      "\u001b[31m---------------------------------------------------------------------------\u001b[39m",
      "\u001b[31mProgrammingError\u001b[39m                          Traceback (most recent call last)",
      "\u001b[36mCell\u001b[39m\u001b[36m \u001b[39m\u001b[32mIn[25]\u001b[39m\u001b[32m, line 9\u001b[39m\n\u001b[32m      6\u001b[39m cursor.execute(\u001b[33m\"\u001b[39m\u001b[33mSET IDENTITY_INSERT account OFF\u001b[39m\u001b[33m\"\u001b[39m)\n\u001b[32m      8\u001b[39m cursor.execute(\u001b[33m\"\u001b[39m\u001b[33mSET IDENTITY_INSERT customer ON\u001b[39m\u001b[33m\"\u001b[39m)\n\u001b[32m----> \u001b[39m\u001b[32m9\u001b[39m \u001b[43mcursor\u001b[49m\u001b[43m.\u001b[49m\u001b[43mexecutemany\u001b[49m\u001b[43m(\u001b[49m\n\u001b[32m     10\u001b[39m \u001b[43m    \u001b[49m\u001b[33;43m\"\u001b[39;49m\u001b[33;43mINSERT INTO customer (id, account_id, phone_number, address) VALUES (?, ?, ?, ?)\u001b[39;49m\u001b[33;43m\"\u001b[39;49m\u001b[43m,\u001b[49m\n\u001b[32m     11\u001b[39m \u001b[43m    \u001b[49m\u001b[43mcustomer_tuples\u001b[49m\n\u001b[32m     12\u001b[39m \u001b[43m)\u001b[49m\n\u001b[32m     13\u001b[39m cursor.execute(\u001b[33m\"\u001b[39m\u001b[33mSET IDENTITY_INSERT customer OFF\u001b[39m\u001b[33m\"\u001b[39m)\n\u001b[32m     15\u001b[39m cursor.execute(\u001b[33m\"\u001b[39m\u001b[33mSET IDENTITY_INSERT manager ON\u001b[39m\u001b[33m\"\u001b[39m)\n",
      "\u001b[31mProgrammingError\u001b[39m: ('The SQL contains 4 parameter markers, but 3 parameters were supplied', 'HY000')"
     ]
    }
   ],
   "source": [
    "cursor.execute(\"SET IDENTITY_INSERT account ON\")\n",
    "cursor.executemany(\n",
    "    \"INSERT INTO account (id, username, password, full_name, email, status, created_at, updated_at) VALUES (?, ?, ?, ?, ?, ?, ?, ?)\",\n",
    "    account_tuples\n",
    ")\n",
    "cursor.execute(\"SET IDENTITY_INSERT account OFF\")"
   ]
  },
  {
   "cell_type": "code",
   "execution_count": null,
   "id": "93d64404",
   "metadata": {},
   "outputs": [
    {
     "ename": "ProgrammingError",
     "evalue": "('The SQL contains 4 parameter markers, but 3 parameters were supplied', 'HY000')",
     "output_type": "error",
     "traceback": [
      "\u001b[31m---------------------------------------------------------------------------\u001b[39m",
      "\u001b[31mProgrammingError\u001b[39m                          Traceback (most recent call last)",
      "\u001b[36mCell\u001b[39m\u001b[36m \u001b[39m\u001b[32mIn[27]\u001b[39m\u001b[32m, line 9\u001b[39m\n\u001b[32m      6\u001b[39m cursor.execute(\u001b[33m\"\u001b[39m\u001b[33mSET IDENTITY_INSERT customer OFF\u001b[39m\u001b[33m\"\u001b[39m)\n\u001b[32m      8\u001b[39m cursor.execute(\u001b[33m\"\u001b[39m\u001b[33mSET IDENTITY_INSERT manager ON\u001b[39m\u001b[33m\"\u001b[39m)\n\u001b[32m----> \u001b[39m\u001b[32m9\u001b[39m \u001b[43mcursor\u001b[49m\u001b[43m.\u001b[49m\u001b[43mexecutemany\u001b[49m\u001b[43m(\u001b[49m\n\u001b[32m     10\u001b[39m \u001b[43m    \u001b[49m\u001b[33;43m\"\u001b[39;49m\u001b[33;43mINSERT INTO manager (id, role_id, account_id, full_name) VALUES (?, ?, ?, ?)\u001b[39;49m\u001b[33;43m\"\u001b[39;49m\u001b[43m,\u001b[49m\n\u001b[32m     11\u001b[39m \u001b[43m    \u001b[49m\u001b[43mmanager_tuples\u001b[49m\n\u001b[32m     12\u001b[39m \u001b[43m)\u001b[49m\n\u001b[32m     13\u001b[39m cursor.execute(\u001b[33m\"\u001b[39m\u001b[33mSET IDENTITY_INSERT manager OFF\u001b[39m\u001b[33m\"\u001b[39m)\n",
      "\u001b[31mProgrammingError\u001b[39m: ('The SQL contains 4 parameter markers, but 3 parameters were supplied', 'HY000')"
     ]
    }
   ],
   "source": [
    "cursor.execute(\"SET IDENTITY_INSERT customer ON\")\n",
    "cursor.executemany(\n",
    "    \"INSERT INTO customer (id, account_id, phone_number, address) VALUES (?, ?, ?, ?)\",\n",
    "    customer_tuples\n",
    ")\n",
    "cursor.execute(\"SET IDENTITY_INSERT customer OFF\")"
   ]
  },
  {
   "cell_type": "code",
   "execution_count": 30,
   "id": "42b0f772",
   "metadata": {},
   "outputs": [
    {
     "data": {
      "text/plain": [
       "<pyodbc.Cursor at 0x29daab836b0>"
      ]
     },
     "execution_count": 30,
     "metadata": {},
     "output_type": "execute_result"
    }
   ],
   "source": [
    "cursor.execute(\"SET IDENTITY_INSERT manager ON\")\n",
    "cursor.executemany(\n",
    "    \"INSERT INTO manager (id, role_id, account_id) VALUES (?, ?, ?)\",\n",
    "    manager_tuples\n",
    ")\n",
    "cursor.execute(\"SET IDENTITY_INSERT manager OFF\")"
   ]
  },
  {
   "cell_type": "code",
   "execution_count": 31,
   "id": "f1b695f5",
   "metadata": {},
   "outputs": [],
   "source": [
    "conn.commit()\n",
    "conn.close()"
   ]
  }
 ],
 "metadata": {
  "kernelspec": {
   "display_name": "venv",
   "language": "python",
   "name": "python3"
  },
  "language_info": {
   "codemirror_mode": {
    "name": "ipython",
    "version": 3
   },
   "file_extension": ".py",
   "mimetype": "text/x-python",
   "name": "python",
   "nbconvert_exporter": "python",
   "pygments_lexer": "ipython3",
   "version": "3.13.1"
  }
 },
 "nbformat": 4,
 "nbformat_minor": 5
}
